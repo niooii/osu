{
 "cells": [
  {
   "cell_type": "code",
   "execution_count": 1,
   "id": "initial_id",
   "metadata": {
    "collapsed": true,
    "ExecuteTime": {
     "end_time": "2025-07-08T00:31:09.307567400Z",
     "start_time": "2025-07-08T00:31:07.531473400Z"
    }
   },
   "outputs": [
    {
     "name": "stdout",
     "output_type": "stream",
     "text": [
      "Rust acceleration available!\n"
     ]
    }
   ],
   "source": [
    "import time\n",
    "\n",
    "import osu.rulesets.beatmap as bm\n",
    "import osu.rulesets.replay as rp\n",
    "import osu.dataset as dataset\n",
    "import numpy as np\n",
    "\n",
    "test_name = '1hope'\n",
    "\n",
    "test_map = f'assets/{test_name}_map.osu'\n",
    "test_song = f'assets/{test_name}_song.mp3'\n",
    "\n",
    "test_map = bm.load(test_map)"
   ]
  },
  {
   "cell_type": "code",
   "execution_count": 2,
   "outputs": [
    {
     "name": "stderr",
     "output_type": "stream",
     "text": [
      "Turning beatmaps into time series data: 100%|██████████| 1/1 [00:00<00:00,  7.11it/s]\n",
      "E:\\Projects\\osu\\osu\\dataset.py:48: UserWarning: Creating a tensor from a list of numpy.ndarrays is extremely slow. Please consider converting the list to a single numpy.ndarray with numpy.array() before converting to a tensor. (Triggered internally at C:\\actions-runner\\_work\\pytorch\\pytorch\\pytorch\\torch\\csrc\\utils\\tensor_new.cpp:257.)\n",
      "  tensor_list = [torch.tensor(seq, dtype=torch.float) for seq in data]\n"
     ]
    },
    {
     "data": {
      "text/plain": "               x    y  visible  is_slider  is_spinner\nchunk frame                                          \n0     0     -0.5 -0.5      1.0        0.0         0.0\n      1     -0.5 -0.5      1.0        0.0         0.0\n      2     -0.5 -0.5      1.0        0.0         0.0\n      3     -0.5 -0.5      1.0        0.0         0.0\n      4     -0.5 -0.5      1.0        0.0         0.0\n...          ...  ...      ...        ...         ...\n4     2043   0.0  0.0      0.0        0.0         0.0\n      2044   0.0  0.0      0.0        0.0         0.0\n      2045   0.0  0.0      0.0        0.0         0.0\n      2046   0.0  0.0      0.0        0.0         0.0\n      2047   0.0  0.0      0.0        0.0         0.0\n\n[10240 rows x 5 columns]",
      "text/html": "<div>\n<style scoped>\n    .dataframe tbody tr th:only-of-type {\n        vertical-align: middle;\n    }\n\n    .dataframe tbody tr th {\n        vertical-align: top;\n    }\n\n    .dataframe thead th {\n        text-align: right;\n    }\n</style>\n<table border=\"1\" class=\"dataframe\">\n  <thead>\n    <tr style=\"text-align: right;\">\n      <th></th>\n      <th></th>\n      <th>x</th>\n      <th>y</th>\n      <th>visible</th>\n      <th>is_slider</th>\n      <th>is_spinner</th>\n    </tr>\n    <tr>\n      <th>chunk</th>\n      <th>frame</th>\n      <th></th>\n      <th></th>\n      <th></th>\n      <th></th>\n      <th></th>\n    </tr>\n  </thead>\n  <tbody>\n    <tr>\n      <th rowspan=\"5\" valign=\"top\">0</th>\n      <th>0</th>\n      <td>-0.5</td>\n      <td>-0.5</td>\n      <td>1.0</td>\n      <td>0.0</td>\n      <td>0.0</td>\n    </tr>\n    <tr>\n      <th>1</th>\n      <td>-0.5</td>\n      <td>-0.5</td>\n      <td>1.0</td>\n      <td>0.0</td>\n      <td>0.0</td>\n    </tr>\n    <tr>\n      <th>2</th>\n      <td>-0.5</td>\n      <td>-0.5</td>\n      <td>1.0</td>\n      <td>0.0</td>\n      <td>0.0</td>\n    </tr>\n    <tr>\n      <th>3</th>\n      <td>-0.5</td>\n      <td>-0.5</td>\n      <td>1.0</td>\n      <td>0.0</td>\n      <td>0.0</td>\n    </tr>\n    <tr>\n      <th>4</th>\n      <td>-0.5</td>\n      <td>-0.5</td>\n      <td>1.0</td>\n      <td>0.0</td>\n      <td>0.0</td>\n    </tr>\n    <tr>\n      <th>...</th>\n      <th>...</th>\n      <td>...</td>\n      <td>...</td>\n      <td>...</td>\n      <td>...</td>\n      <td>...</td>\n    </tr>\n    <tr>\n      <th rowspan=\"5\" valign=\"top\">4</th>\n      <th>2043</th>\n      <td>0.0</td>\n      <td>0.0</td>\n      <td>0.0</td>\n      <td>0.0</td>\n      <td>0.0</td>\n    </tr>\n    <tr>\n      <th>2044</th>\n      <td>0.0</td>\n      <td>0.0</td>\n      <td>0.0</td>\n      <td>0.0</td>\n      <td>0.0</td>\n    </tr>\n    <tr>\n      <th>2045</th>\n      <td>0.0</td>\n      <td>0.0</td>\n      <td>0.0</td>\n      <td>0.0</td>\n      <td>0.0</td>\n    </tr>\n    <tr>\n      <th>2046</th>\n      <td>0.0</td>\n      <td>0.0</td>\n      <td>0.0</td>\n      <td>0.0</td>\n      <td>0.0</td>\n    </tr>\n    <tr>\n      <th>2047</th>\n      <td>0.0</td>\n      <td>0.0</td>\n      <td>0.0</td>\n      <td>0.0</td>\n      <td>0.0</td>\n    </tr>\n  </tbody>\n</table>\n<p>10240 rows × 5 columns</p>\n</div>"
     },
     "execution_count": 2,
     "metadata": {},
     "output_type": "execute_result"
    }
   ],
   "source": [
    "dataset.input_data(test_map)"
   ],
   "metadata": {
    "collapsed": false,
    "ExecuteTime": {
     "end_time": "2025-07-08T00:31:09.475914300Z",
     "start_time": "2025-07-08T00:31:09.307567400Z"
    }
   },
   "id": "699c8f685c8ff51d"
  },
  {
   "cell_type": "code",
   "execution_count": 8,
   "outputs": [],
   "source": [
    "# data = dataset.input_data(test_map)\n",
    "# data = np.reshape(data.values, (-1, dataset.BATCH_LENGTH, len(dataset.INPUT_FEATURES)))\n",
    "# data = torch.FloatTensor(data).to('cuda')"
   ],
   "metadata": {
    "collapsed": false,
    "ExecuteTime": {
     "end_time": "2025-07-07T20:25:14.923796300Z",
     "start_time": "2025-07-07T20:25:14.919281500Z"
    }
   },
   "id": "23ec4654f8ba6a55"
  },
  {
   "cell_type": "code",
   "execution_count": 9,
   "outputs": [
    {
     "data": {
      "text/plain": "array([[-0.07591787, -0.02847639],\n       [-0.13636243, -0.07091317],\n       [-0.14771663, -0.08289423],\n       ...,\n       [-0.0018652 , -0.0049426 ],\n       [ 0.00369628, -0.00211199],\n       [ 0.0025172 , -0.00272106]], shape=(18432, 2), dtype=float32)"
     },
     "execution_count": 9,
     "metadata": {},
     "output_type": "execute_result"
    }
   ],
   "source": [
    "replay_data = np.load(f\".generated/{test_name}.npy\")\n",
    "replay_data"
   ],
   "metadata": {
    "collapsed": false,
    "ExecuteTime": {
     "end_time": "2025-07-07T20:25:15.312610500Z",
     "start_time": "2025-07-07T20:25:15.304276700Z"
    }
   },
   "id": "40e6d4c5a632332"
  },
  {
   "cell_type": "code",
   "execution_count": 11,
   "outputs": [
    {
     "name": "stdout",
     "output_type": "stream",
     "text": [
      "<osu.rulesets.beatmap.Beatmap object at 0x00000201BAC84050>\n"
     ]
    }
   ],
   "source": [
    "import osu.preview.preview as preview\n",
    "print(test_map)\n",
    "test_map.apply_mods(['hr'])\n",
    "preview.preview_replay(replay_data, test_map, test_song)"
   ],
   "metadata": {
    "collapsed": false,
    "ExecuteTime": {
     "end_time": "2025-07-07T20:26:42.103756500Z",
     "start_time": "2025-07-07T20:26:21.916718Z"
    }
   },
   "id": "ebaaa61532159a2f"
  },
  {
   "cell_type": "code",
   "execution_count": null,
   "outputs": [],
   "source": [
    "# alt_data = dataset.replay_to_output_data(test_map, test_replay)\n",
    "# alt_data = np.concatenate(alt_data)\n",
    "# \n",
    "# alt_data"
   ],
   "metadata": {
    "collapsed": false
   },
   "id": "1d0d1877ce8b6ae1"
  },
  {
   "cell_type": "code",
   "execution_count": null,
   "outputs": [],
   "source": [
    "# actually play out the replay\n",
    "import win32gui\n",
    "import mouse\n",
    "import time\n",
    "import osu.rulesets.core as osu_core\n",
    "import pyautogui\n",
    "\n",
    "def active_win_name():\n",
    "    hwnd = win32gui.GetForegroundWindow()\n",
    "    return win32gui.GetWindowText(hwnd)\n",
    "\n",
    "def osu_to_screen_pixel(x, y) -> (int, int):\n",
    "    w, h = pyautogui.size()\n",
    "    \n",
    "    # screen/osu ratio\n",
    "    # https://osu.ppy.sh/wiki/en/Client/Playfield\n",
    "    osr_x = w / 640 * 0.75 # for some reason this constant just works. misleading wiki?\n",
    "    osr_y = h / 480\n",
    "    \n",
    "    x = x * osr_x\n",
    "    y = y * osr_y\n",
    "    \n",
    "    # osu width and height\n",
    "    ow = osu_core.SCREEN_WIDTH * osr_x\n",
    "    oh = osu_core.SCREEN_HEIGHT * osr_y\n",
    "    \n",
    "    offset_x = 0.5 * (w - ow)\n",
    "    # \"The playfield is slightly shifted vertically, placed 8 game pixels lower than the window's centre.\"\n",
    "    offset_y = 0.5 * (h - oh) + (8 * osr_y)\n",
    "    \n",
    "    return int(x + offset_x), int(y + offset_y)\n",
    "\n",
    "time.sleep(1.25)\n",
    "win_name = active_win_name()\n",
    "\n",
    "target_interval = 0.024  # 24ms per frame\n",
    "start_time = time.perf_counter()\n",
    "frame_count = 0\n",
    "\n",
    "for x, y in replay_data:\n",
    "    if win_name != active_win_name():\n",
    "        break\n",
    "    x = (x + 0.5) * osu_core.SCREEN_WIDTH\n",
    "    y = (y + 0.5) * osu_core.SCREEN_HEIGHT\n",
    "    (x, y) = osu_to_screen_pixel(x, y)\n",
    "    mouse.move(x, y)\n",
    "    \n",
    "    frame_count += 1\n",
    "    \n",
    "    target_time = start_time + (frame_count * target_interval)\n",
    "    current_time = time.perf_counter()\n",
    "    \n",
    "    # run at constant rate \n",
    "    sleep_time = target_time - current_time\n",
    "    if sleep_time > 0:\n",
    "        time.sleep(sleep_time)\n"
   ],
   "metadata": {
    "collapsed": false
   },
   "id": "1725affaf451b35e"
  }
 ],
 "metadata": {
  "kernelspec": {
   "display_name": "Python 3",
   "language": "python",
   "name": "python3"
  },
  "language_info": {
   "codemirror_mode": {
    "name": "ipython",
    "version": 2
   },
   "file_extension": ".py",
   "mimetype": "text/x-python",
   "name": "python",
   "nbconvert_exporter": "python",
   "pygments_lexer": "ipython2",
   "version": "2.7.6"
  }
 },
 "nbformat": 4,
 "nbformat_minor": 5
}
