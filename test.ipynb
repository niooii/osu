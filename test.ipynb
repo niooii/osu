{
 "cells": [
  {
   "cell_type": "code",
   "execution_count": 1,
   "id": "initial_id",
   "metadata": {
    "collapsed": true,
    "ExecuteTime": {
     "end_time": "2025-07-06T19:41:19.100796100Z",
     "start_time": "2025-07-06T19:41:17.171616600Z"
    }
   },
   "outputs": [],
   "source": [
    "import time\n",
    "\n",
    "import osu.rulesets.beatmap as bm\n",
    "import osu.rulesets.replay as rp\n",
    "import osu.dataset as dataset\n",
    "import numpy as np\n",
    "import torch\n",
    "\n",
    "test_name = 'rubiks'\n",
    "\n",
    "test_map = f'assets/{test_name}_map.osu'\n",
    "test_song = f'assets/{test_name}_song.mp3'\n",
    "\n",
    "test_map = bm.load(test_map)"
   ]
  },
  {
   "cell_type": "code",
   "execution_count": 2,
   "outputs": [],
   "source": [
    "# dataset.replay_mapping_from_cache()"
   ],
   "metadata": {
    "collapsed": false,
    "ExecuteTime": {
     "end_time": "2025-07-06T19:41:19.111481500Z",
     "start_time": "2025-07-06T19:41:19.103092700Z"
    }
   },
   "id": "699c8f685c8ff51d"
  },
  {
   "cell_type": "code",
   "execution_count": 3,
   "outputs": [],
   "source": [
    "# data = dataset.input_data(test_map)\n",
    "# data = np.reshape(data.values, (-1, dataset.BATCH_LENGTH, len(dataset.INPUT_FEATURES)))\n",
    "# data = torch.FloatTensor(data).to('cuda')"
   ],
   "metadata": {
    "collapsed": false,
    "ExecuteTime": {
     "end_time": "2025-07-06T19:41:19.111481500Z",
     "start_time": "2025-07-06T19:41:19.105100800Z"
    }
   },
   "id": "23ec4654f8ba6a55"
  },
  {
   "cell_type": "code",
   "execution_count": null,
   "outputs": [],
   "source": [
    "replay_data = np.load(f\".generated/{test_name}.npy\")\n",
    "replay_data"
   ],
   "metadata": {
    "collapsed": false
   },
   "id": "40e6d4c5a632332"
  },
  {
   "cell_type": "code",
   "execution_count": 5,
   "outputs": [
    {
     "name": "stdout",
     "output_type": "stream",
     "text": [
      "pygame 2.6.1 (SDL 2.28.4, Python 3.13.0)\n",
      "Hello from the pygame community. https://www.pygame.org/contribute.html\n",
      "<osu.rulesets.beatmap.Beatmap object at 0x000002563050AE40>\n"
     ]
    }
   ],
   "source": [
    "import osu.preview.preview as preview\n",
    "print(test_map)\n",
    "test_map.apply_mods(['hr'])\n",
    "preview.preview_replay(replay_data, test_map, test_song)"
   ],
   "metadata": {
    "collapsed": false,
    "ExecuteTime": {
     "end_time": "2025-07-06T19:44:55.581724600Z",
     "start_time": "2025-07-06T19:41:39.757233900Z"
    }
   },
   "id": "ebaaa61532159a2f"
  },
  {
   "cell_type": "code",
   "execution_count": 5,
   "outputs": [],
   "source": [
    "# alt_data = dataset.replay_to_output_data(test_map, test_replay)\n",
    "# alt_data = np.concatenate(alt_data)\n",
    "# \n",
    "# alt_data"
   ],
   "metadata": {
    "collapsed": false,
    "ExecuteTime": {
     "end_time": "2025-07-06T01:41:11.178950900Z",
     "start_time": "2025-07-06T01:41:11.164422800Z"
    }
   },
   "id": "1d0d1877ce8b6ae1"
  },
  {
   "cell_type": "code",
   "execution_count": 6,
   "outputs": [],
   "source": [
    "# actually play out the replay\n",
    "import win32gui\n",
    "import mouse\n",
    "import time\n",
    "import osu.rulesets.core as osu_core\n",
    "import pyautogui\n",
    "\n",
    "def active_win_name():\n",
    "    hwnd = win32gui.GetForegroundWindow()\n",
    "    return win32gui.GetWindowText(hwnd)\n",
    "\n",
    "def osu_to_screen_pixel(x, y) -> (int, int):\n",
    "    w, h = pyautogui.size()\n",
    "    \n",
    "    # screen/osu ratio\n",
    "    # https://osu.ppy.sh/wiki/en/Client/Playfield\n",
    "    osr_x = w / 640 * 0.75 # for some reason this constant just works. misleading wiki?\n",
    "    osr_y = h / 480\n",
    "    \n",
    "    x = x * osr_x\n",
    "    y = y * osr_y\n",
    "    \n",
    "    # osu width and height\n",
    "    ow = osu_core.SCREEN_WIDTH * osr_x\n",
    "    oh = osu_core.SCREEN_HEIGHT * osr_y\n",
    "    \n",
    "    offset_x = 0.5 * (w - ow)\n",
    "    # \"The playfield is slightly shifted vertically, placed 8 game pixels lower than the window's centre.\"\n",
    "    offset_y = 0.5 * (h - oh) + (8 * osr_y)\n",
    "    \n",
    "    return int(x + offset_x), int(y + offset_y)\n",
    "\n",
    "time.sleep(1.25)\n",
    "win_name = active_win_name()\n",
    "\n",
    "target_interval = 0.024  # 24ms per frame\n",
    "start_time = time.perf_counter()\n",
    "frame_count = 0\n",
    "\n",
    "for x, y in replay_data:\n",
    "    if win_name != active_win_name():\n",
    "        break\n",
    "    x = (x + 0.5) * osu_core.SCREEN_WIDTH\n",
    "    y = (y + 0.5) * osu_core.SCREEN_HEIGHT\n",
    "    (x, y) = osu_to_screen_pixel(x, y)\n",
    "    mouse.move(x, y)\n",
    "    \n",
    "    frame_count += 1\n",
    "    \n",
    "    target_time = start_time + (frame_count * target_interval)\n",
    "    current_time = time.perf_counter()\n",
    "    \n",
    "    # run at constant rate \n",
    "    sleep_time = target_time - current_time\n",
    "    if sleep_time > 0:\n",
    "        time.sleep(sleep_time)\n"
   ],
   "metadata": {
    "collapsed": false,
    "ExecuteTime": {
     "end_time": "2025-07-06T01:41:16.416944800Z",
     "start_time": "2025-07-06T01:41:11.169510800Z"
    }
   },
   "id": "1725affaf451b35e"
  }
 ],
 "metadata": {
  "kernelspec": {
   "display_name": "Python 3",
   "language": "python",
   "name": "python3"
  },
  "language_info": {
   "codemirror_mode": {
    "name": "ipython",
    "version": 2
   },
   "file_extension": ".py",
   "mimetype": "text/x-python",
   "name": "python",
   "nbconvert_exporter": "python",
   "pygments_lexer": "ipython2",
   "version": "2.7.6"
  }
 },
 "nbformat": 4,
 "nbformat_minor": 5
}
