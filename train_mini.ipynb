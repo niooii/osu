{
 "cells": [
  {
   "cell_type": "code",
   "execution_count": 1,
   "id": "initial_id",
   "metadata": {
    "collapsed": true,
    "ExecuteTime": {
     "end_time": "2025-07-23T20:55:43.520117Z",
     "start_time": "2025-07-23T20:55:39.184364100Z"
    }
   },
   "outputs": [
    {
     "name": "stdout",
     "output_type": "stream",
     "text": [
      "osu! path: C:\\Users\\niooi\\AppData\\Roaming/../Local/osu!\n"
     ]
    }
   ],
   "source": [
    "%load_ext autoreload\n",
    "%autoreload 2\n",
    "\n",
    "import os\n",
    "import numpy as np\n",
    "\n",
    "import osu.dataset as dataset\n"
   ]
  },
  {
   "cell_type": "code",
   "execution_count": 2,
   "outputs": [],
   "source": [
    "# reload from saved\n",
    "\n",
    "xs = np.load(f'.datasets/xs_5000_07-21_23-28-07.npy')\n",
    "ys = np.load(f'.datasets/ys_5000_07-21_23-28-07.npy')\n",
    "\n",
    "# xs = np.load(f'.datasets/xs_142_07-21_21-50-55.npy')\n",
    "# ys = np.load(f'.datasets/ys_142_07-21_21-50-55.npy')"
   ],
   "metadata": {
    "collapsed": false,
    "ExecuteTime": {
     "end_time": "2025-07-23T20:55:51.460582600Z",
     "start_time": "2025-07-23T20:55:49.674140900Z"
    }
   },
   "id": "92c39d45d3bf1cff"
  },
  {
   "cell_type": "code",
   "execution_count": 3,
   "outputs": [],
   "source": [
    "import torch\n",
    "\n",
    "BATCH_SIZE = 128\n",
    "\n",
    "device = 'cuda' if torch.cuda.is_available() else 'cpu'"
   ],
   "metadata": {
    "collapsed": false,
    "ExecuteTime": {
     "end_time": "2025-07-23T20:55:58.377983800Z",
     "start_time": "2025-07-23T20:55:51.452582300Z"
    }
   },
   "id": "ae1b470e52ab30f6"
  },
  {
   "cell_type": "code",
   "execution_count": 4,
   "outputs": [
    {
     "data": {
      "text/plain": "20"
     },
     "execution_count": 4,
     "metadata": {},
     "output_type": "execute_result"
    }
   ],
   "source": [
    "import torch\n",
    "import gc\n",
    "\n",
    "# Clear GPU cache\n",
    "torch.cuda.empty_cache()\n",
    "\n",
    "# Force garbage collection\n",
    "gc.collect()"
   ],
   "metadata": {
    "collapsed": false,
    "ExecuteTime": {
     "end_time": "2025-07-23T20:55:58.575446600Z",
     "start_time": "2025-07-23T20:55:58.379983400Z"
    }
   },
   "id": "11979e9b769aeddd"
  },
  {
   "cell_type": "code",
   "execution_count": 7,
   "outputs": [
    {
     "name": "stdout",
     "output_type": "stream",
     "text": [
      "made newae\n",
      "VAE models compiled..\n",
      "VAE Models initialized on cuda\n",
      "Encoder parameters: 207904\n",
      "Decoder parameters: 85138\n",
      "VAE models loaded from .trained/vae_most_recent.pt\n",
      "Data loaded: 14082 training samples, 3521 test samples (position only)\n"
     ]
    }
   ],
   "source": [
    "from osu.vae import OsuReplayVAE\n",
    "\n",
    "# vae = OsuReplayVAE(batch_size=BATCH_SIZE)\n",
    "\n",
    "vae = OsuReplayVAE.load(\".trained/vae_most_recent.pt\")\n",
    "\n",
    "vae.load_data(xs, ys)"
   ],
   "metadata": {
    "collapsed": false,
    "ExecuteTime": {
     "end_time": "2025-07-23T20:56:42.383654Z",
     "start_time": "2025-07-23T20:56:41.761158200Z"
    }
   },
   "id": "1a38cf62d4148606"
  },
  {
   "cell_type": "code",
   "execution_count": 8,
   "outputs": [
    {
     "name": "stderr",
     "output_type": "stream",
     "text": [
      "Epoch 1/3 (VAE): 100%|██████████| 221/221 [00:38<00:00,  5.67it/s]\n"
     ]
    },
    {
     "name": "stdout",
     "output_type": "stream",
     "text": [
      "Epoch 1/3, Total: 0.0022, Recon: 0.0022, KL: 0.0087\n"
     ]
    },
    {
     "name": "stderr",
     "output_type": "stream",
     "text": [
      "Epoch 2/3 (VAE): 100%|██████████| 221/221 [00:37<00:00,  5.91it/s]\n"
     ]
    },
    {
     "name": "stdout",
     "output_type": "stream",
     "text": [
      "Epoch 2/3, Total: 0.0021, Recon: 0.0021, KL: 0.0088\n"
     ]
    },
    {
     "name": "stderr",
     "output_type": "stream",
     "text": [
      "Epoch 3/3 (VAE): 100%|██████████| 221/221 [00:37<00:00,  5.94it/s]\n"
     ]
    },
    {
     "name": "stdout",
     "output_type": "stream",
     "text": [
      "Epoch 3/3, Total: 0.0022, Recon: 0.0021, KL: 0.0087\n",
      "VAE models saved to .trained/vae_2025-07-23_16-58-36.pt\n"
     ]
    },
    {
     "name": "stderr",
     "output_type": "stream",
     "text": [
      "Epoch 1/3 (VAE): 100%|██████████| 221/221 [00:37<00:00,  5.86it/s]\n"
     ]
    },
    {
     "name": "stdout",
     "output_type": "stream",
     "text": [
      "Epoch 1/3, Total: 0.0021, Recon: 0.0021, KL: 0.0087\n"
     ]
    },
    {
     "name": "stderr",
     "output_type": "stream",
     "text": [
      "Epoch 2/3 (VAE): 100%|██████████| 221/221 [00:37<00:00,  5.88it/s]\n"
     ]
    },
    {
     "name": "stdout",
     "output_type": "stream",
     "text": [
      "Epoch 2/3, Total: 0.0021, Recon: 0.0021, KL: 0.0086\n"
     ]
    },
    {
     "name": "stderr",
     "output_type": "stream",
     "text": [
      "Epoch 3/3 (VAE): 100%|██████████| 221/221 [00:37<00:00,  5.84it/s]\n"
     ]
    },
    {
     "name": "stdout",
     "output_type": "stream",
     "text": [
      "Epoch 3/3, Total: 0.0021, Recon: 0.0021, KL: 0.0089\n",
      "VAE models saved to .trained/vae_2025-07-23_17-00-29.pt\n"
     ]
    },
    {
     "name": "stderr",
     "output_type": "stream",
     "text": [
      "Epoch 1/3 (VAE): 100%|██████████| 221/221 [00:37<00:00,  5.86it/s]\n"
     ]
    },
    {
     "name": "stdout",
     "output_type": "stream",
     "text": [
      "Epoch 1/3, Total: 0.0021, Recon: 0.0021, KL: 0.0087\n"
     ]
    },
    {
     "name": "stderr",
     "output_type": "stream",
     "text": [
      "Epoch 2/3 (VAE): 100%|██████████| 221/221 [00:37<00:00,  5.87it/s]\n"
     ]
    },
    {
     "name": "stdout",
     "output_type": "stream",
     "text": [
      "Epoch 2/3, Total: 0.0021, Recon: 0.0021, KL: 0.0087\n"
     ]
    },
    {
     "name": "stderr",
     "output_type": "stream",
     "text": [
      "Epoch 3/3 (VAE): 100%|██████████| 221/221 [00:38<00:00,  5.82it/s]\n"
     ]
    },
    {
     "name": "stdout",
     "output_type": "stream",
     "text": [
      "Epoch 3/3, Total: 0.0021, Recon: 0.0021, KL: 0.0091\n",
      "VAE models saved to .trained/vae_2025-07-23_17-02-23.pt\n"
     ]
    },
    {
     "name": "stderr",
     "output_type": "stream",
     "text": [
      "Epoch 1/3 (VAE): 100%|██████████| 221/221 [00:37<00:00,  5.83it/s]\n"
     ]
    },
    {
     "name": "stdout",
     "output_type": "stream",
     "text": [
      "Epoch 1/3, Total: 0.0021, Recon: 0.0021, KL: 0.0086\n"
     ]
    },
    {
     "name": "stderr",
     "output_type": "stream",
     "text": [
      "Epoch 2/3 (VAE): 100%|██████████| 221/221 [00:37<00:00,  5.82it/s]\n"
     ]
    },
    {
     "name": "stdout",
     "output_type": "stream",
     "text": [
      "Epoch 2/3, Total: 0.0021, Recon: 0.0021, KL: 0.0085\n"
     ]
    },
    {
     "name": "stderr",
     "output_type": "stream",
     "text": [
      "Epoch 3/3 (VAE): 100%|██████████| 221/221 [00:37<00:00,  5.83it/s]\n"
     ]
    },
    {
     "name": "stdout",
     "output_type": "stream",
     "text": [
      "Epoch 3/3, Total: 0.0021, Recon: 0.0021, KL: 0.0087\n",
      "VAE models saved to .trained/vae_2025-07-23_17-04-16.pt\n"
     ]
    },
    {
     "name": "stderr",
     "output_type": "stream",
     "text": [
      "Epoch 1/3 (VAE): 100%|██████████| 221/221 [00:37<00:00,  5.84it/s]\n"
     ]
    },
    {
     "name": "stdout",
     "output_type": "stream",
     "text": [
      "Epoch 1/3, Total: 0.0021, Recon: 0.0021, KL: 0.0084\n"
     ]
    },
    {
     "name": "stderr",
     "output_type": "stream",
     "text": [
      "Epoch 2/3 (VAE): 100%|██████████| 221/221 [00:37<00:00,  5.83it/s]\n"
     ]
    },
    {
     "name": "stdout",
     "output_type": "stream",
     "text": [
      "Epoch 2/3, Total: 0.0022, Recon: 0.0021, KL: 0.0087\n"
     ]
    },
    {
     "name": "stderr",
     "output_type": "stream",
     "text": [
      "Epoch 3/3 (VAE): 100%|██████████| 221/221 [00:38<00:00,  5.81it/s]\n"
     ]
    },
    {
     "name": "stdout",
     "output_type": "stream",
     "text": [
      "Epoch 3/3, Total: 0.0021, Recon: 0.0021, KL: 0.0087\n",
      "VAE models saved to .trained/vae_2025-07-23_17-06-10.pt\n"
     ]
    },
    {
     "name": "stderr",
     "output_type": "stream",
     "text": [
      "Epoch 1/3 (VAE): 100%|██████████| 221/221 [00:37<00:00,  5.86it/s]\n"
     ]
    },
    {
     "name": "stdout",
     "output_type": "stream",
     "text": [
      "Epoch 1/3, Total: 0.0021, Recon: 0.0021, KL: 0.0085\n"
     ]
    },
    {
     "name": "stderr",
     "output_type": "stream",
     "text": [
      "Epoch 2/3 (VAE): 100%|██████████| 221/221 [00:37<00:00,  5.83it/s]\n"
     ]
    },
    {
     "name": "stdout",
     "output_type": "stream",
     "text": [
      "Epoch 2/3, Total: 0.0021, Recon: 0.0021, KL: 0.0084\n"
     ]
    },
    {
     "name": "stderr",
     "output_type": "stream",
     "text": [
      "Epoch 3/3 (VAE): 100%|██████████| 221/221 [00:37<00:00,  5.86it/s]\n"
     ]
    },
    {
     "name": "stdout",
     "output_type": "stream",
     "text": [
      "Epoch 3/3, Total: 0.0021, Recon: 0.0021, KL: 0.0084\n",
      "VAE models saved to .trained/vae_2025-07-23_17-08-04.pt\n"
     ]
    },
    {
     "name": "stderr",
     "output_type": "stream",
     "text": [
      "Epoch 1/3 (VAE): 100%|██████████| 221/221 [00:37<00:00,  5.82it/s]\n"
     ]
    },
    {
     "name": "stdout",
     "output_type": "stream",
     "text": [
      "Epoch 1/3, Total: 0.0021, Recon: 0.0021, KL: 0.0084\n"
     ]
    },
    {
     "name": "stderr",
     "output_type": "stream",
     "text": [
      "Epoch 2/3 (VAE): 100%|██████████| 221/221 [00:38<00:00,  5.80it/s]\n"
     ]
    },
    {
     "name": "stdout",
     "output_type": "stream",
     "text": [
      "Epoch 2/3, Total: 0.0021, Recon: 0.0021, KL: 0.0083\n"
     ]
    },
    {
     "name": "stderr",
     "output_type": "stream",
     "text": [
      "Epoch 3/3 (VAE): 100%|██████████| 221/221 [00:37<00:00,  5.82it/s]\n"
     ]
    },
    {
     "name": "stdout",
     "output_type": "stream",
     "text": [
      "Epoch 3/3, Total: 0.0021, Recon: 0.0021, KL: 0.0086\n",
      "VAE models saved to .trained/vae_2025-07-23_17-09-58.pt\n"
     ]
    },
    {
     "name": "stderr",
     "output_type": "stream",
     "text": [
      "Epoch 1/3 (VAE):  20%|██        | 45/221 [00:08<00:31,  5.60it/s]\n"
     ]
    },
    {
     "ename": "KeyboardInterrupt",
     "evalue": "",
     "output_type": "error",
     "traceback": [
      "\u001B[31m---------------------------------------------------------------------------\u001B[39m",
      "\u001B[31mKeyboardInterrupt\u001B[39m                         Traceback (most recent call last)",
      "\u001B[36mCell\u001B[39m\u001B[36m \u001B[39m\u001B[32mIn[8]\u001B[39m\u001B[32m, line 4\u001B[39m\n\u001B[32m      1\u001B[39m VAE_EPOCHS = \u001B[32m3\u001B[39m\n\u001B[32m      3\u001B[39m \u001B[38;5;28;01mfor\u001B[39;00m i \u001B[38;5;129;01min\u001B[39;00m \u001B[38;5;28mrange\u001B[39m(\u001B[32m25\u001B[39m):\n\u001B[32m----> \u001B[39m\u001B[32m4\u001B[39m     \u001B[43mvae\u001B[49m\u001B[43m.\u001B[49m\u001B[43mtrain\u001B[49m\u001B[43m(\u001B[49m\u001B[43mVAE_EPOCHS\u001B[49m\u001B[43m)\u001B[49m\n\u001B[32m      5\u001B[39m     vae.save()\n\u001B[32m      7\u001B[39m vae.plot_losses()\n",
      "\u001B[36mFile \u001B[39m\u001B[32mE:\\Projects\\osu\\osu\\vae.py:196\u001B[39m, in \u001B[36mOsuReplayVAE.train\u001B[39m\u001B[34m(self, epochs)\u001B[39m\n\u001B[32m    193\u001B[39m torch.nn.utils.clip_grad_norm_(\u001B[38;5;28mlist\u001B[39m(\u001B[38;5;28mself\u001B[39m.encoder.parameters()) + \u001B[38;5;28mlist\u001B[39m(\u001B[38;5;28mself\u001B[39m.decoder.parameters()), max_norm=\u001B[32m1.0\u001B[39m)\n\u001B[32m    194\u001B[39m \u001B[38;5;28mself\u001B[39m.optimizer.step()\n\u001B[32m--> \u001B[39m\u001B[32m196\u001B[39m epoch_total_loss += \u001B[43mtotal_loss\u001B[49m\u001B[43m.\u001B[49m\u001B[43mitem\u001B[49m\u001B[43m(\u001B[49m\u001B[43m)\u001B[49m\n\u001B[32m    197\u001B[39m epoch_recon_loss += recon_loss.item()\n\u001B[32m    198\u001B[39m epoch_kl_loss += kl_loss.item()\n",
      "\u001B[31mKeyboardInterrupt\u001B[39m: "
     ]
    }
   ],
   "source": [
    "\n",
    "VAE_EPOCHS = 3\n",
    "\n",
    "for i in range(25):\n",
    "    vae.train(VAE_EPOCHS)\n",
    "    vae.save()\n",
    "    \n",
    "vae.plot_losses()"
   ],
   "metadata": {
    "collapsed": false,
    "ExecuteTime": {
     "end_time": "2025-07-23T21:10:06.167259900Z",
     "start_time": "2025-07-23T20:56:42.905220800Z"
    }
   },
   "id": "7e02d7be4612ce9b"
  },
  {
   "cell_type": "code",
   "execution_count": null,
   "outputs": [],
   "source": [
    "for i in range(75):\n",
    "    vae.train(VAE_EPOCHS)\n",
    "    vae.save()\n",
    "    \n",
    "vae.plot_losses()"
   ],
   "metadata": {
    "collapsed": false
   },
   "id": "469945dc39944eb4"
  },
  {
   "cell_type": "code",
   "execution_count": 110,
   "outputs": [
    {
     "name": "stderr",
     "output_type": "stream",
     "text": [
      "Turning beatmaps into time series data: 100%|██████████| 1/1 [00:00<00:00,  4.67it/s]\n"
     ]
    }
   ],
   "source": [
    "# test training results\n",
    "from osu.rulesets.mods import Mods\n",
    "import osu.rulesets.beatmap as bm\n",
    "import osu.dataset as dataset\n",
    "\n",
    "test_name = 'ringyou'\n",
    "test_mods = Mods.DOUBLE_TIME\n",
    "test_map_path = f'assets/{test_name}_map.osu'\n",
    "test_song = f'assets/{test_name}_song.mp3'\n",
    "\n",
    "test_map = bm.load(test_map_path)\n",
    "test_map.apply_mods(test_mods)\n",
    "\n",
    "data = dataset.input_data(test_map)\n",
    "data = np.reshape(data.values, (-1, dataset.BATCH_LENGTH, len(dataset.INPUT_FEATURES)))\n",
    "data = torch.FloatTensor(data)"
   ],
   "metadata": {
    "collapsed": false,
    "ExecuteTime": {
     "end_time": "2025-07-23T16:37:10.631328400Z",
     "start_time": "2025-07-23T16:37:10.302763100Z"
    }
   },
   "id": "3d329c61d5439f92"
  },
  {
   "cell_type": "code",
   "execution_count": 111,
   "outputs": [
    {
     "name": "stdout",
     "output_type": "stream",
     "text": [
      "Generated replay data shape: (8192, 4)\n"
     ]
    }
   ],
   "source": [
    "replay_data = vae.generate(data)\n",
    "    \n",
    "replay_data = np.concatenate(replay_data)\n",
    "replay_data = np.pad(replay_data, ((0, 0), (0, 2)), mode='constant', constant_values=0)\n",
    "if not os.path.exists('.generated'):\n",
    "    os.makedirs('.generated')\n",
    "    \n",
    "print(f\"Generated replay data shape: {replay_data.shape}\")\n"
   ],
   "metadata": {
    "collapsed": false,
    "ExecuteTime": {
     "end_time": "2025-07-23T16:37:11.041745800Z",
     "start_time": "2025-07-23T16:37:10.828047400Z"
    }
   },
   "id": "f34002ee306e7fd9"
  },
  {
   "cell_type": "code",
   "execution_count": 112,
   "outputs": [],
   "source": [
    "import osu.preview.preview as preview\n",
    "\n",
    "preview.preview_replay_raw(replay_data, test_map_path, test_mods, test_song)"
   ],
   "metadata": {
    "collapsed": false,
    "ExecuteTime": {
     "end_time": "2025-07-23T16:45:36.868685600Z",
     "start_time": "2025-07-23T16:37:11.415842900Z"
    }
   },
   "id": "b9e430b879d2f8a1"
  },
  {
   "cell_type": "code",
   "execution_count": null,
   "outputs": [],
   "source": [],
   "metadata": {
    "collapsed": false
   },
   "id": "989be9cfb6bf9eef"
  }
 ],
 "metadata": {
  "kernelspec": {
   "display_name": "Python 3",
   "language": "python",
   "name": "python3"
  },
  "language_info": {
   "codemirror_mode": {
    "name": "ipython",
    "version": 2
   },
   "file_extension": ".py",
   "mimetype": "text/x-python",
   "name": "python",
   "nbconvert_exporter": "python",
   "pygments_lexer": "ipython2",
   "version": "2.7.6"
  }
 },
 "nbformat": 4,
 "nbformat_minor": 5
}
