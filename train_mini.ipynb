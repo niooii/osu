{
 "cells": [
  {
   "cell_type": "code",
   "execution_count": 25,
   "id": "initial_id",
   "metadata": {
    "collapsed": true,
    "ExecuteTime": {
     "end_time": "2025-07-24T05:40:27.622349900Z",
     "start_time": "2025-07-24T05:40:27.487874800Z"
    }
   },
   "outputs": [
    {
     "name": "stdout",
     "output_type": "stream",
     "text": [
      "The autoreload extension is already loaded. To reload it, use:\n",
      "  %reload_ext autoreload\n"
     ]
    }
   ],
   "source": [
    "%load_ext autoreload\n",
    "%autoreload 2\n",
    "\n",
    "import os\n",
    "import numpy as np\n",
    "\n",
    "import osu.dataset as dataset\n"
   ]
  },
  {
   "cell_type": "code",
   "execution_count": 26,
   "outputs": [],
   "source": [
    "# reload from saved\n",
    "\n",
    "xs = np.load(f'.datasets/xs_5000_07-21_23-28-07.npy')\n",
    "ys = np.load(f'.datasets/ys_5000_07-21_23-28-07.npy')\n",
    "\n",
    "# xs = np.load(f'.datasets/xs_142_07-21_21-50-55.npy')\n",
    "# ys = np.load(f'.datasets/ys_142_07-21_21-50-55.npy')"
   ],
   "metadata": {
    "collapsed": false,
    "ExecuteTime": {
     "end_time": "2025-07-24T05:40:36.711142200Z",
     "start_time": "2025-07-24T05:40:35.539977500Z"
    }
   },
   "id": "92c39d45d3bf1cff"
  },
  {
   "cell_type": "code",
   "execution_count": 35,
   "outputs": [],
   "source": [
    "import torch\n",
    "\n",
    "BATCH_SIZE = 128\n",
    "\n",
    "device = 'cuda' if torch.cuda.is_available() else 'cpu'"
   ],
   "metadata": {
    "collapsed": false,
    "ExecuteTime": {
     "end_time": "2025-07-24T06:57:02.309294500Z",
     "start_time": "2025-07-24T06:57:02.193764200Z"
    }
   },
   "id": "ae1b470e52ab30f6"
  },
  {
   "cell_type": "code",
   "execution_count": 56,
   "outputs": [
    {
     "data": {
      "text/plain": "1440"
     },
     "execution_count": 56,
     "metadata": {},
     "output_type": "execute_result"
    }
   ],
   "source": [
    "import torch\n",
    "import gc\n",
    "\n",
    "# Clear GPU cache\n",
    "torch.cuda.empty_cache()\n",
    "\n",
    "# Force garbage collection\n",
    "gc.collect()"
   ],
   "metadata": {
    "collapsed": false,
    "ExecuteTime": {
     "end_time": "2025-07-24T07:13:31.873825100Z",
     "start_time": "2025-07-24T07:13:31.145828Z"
    }
   },
   "id": "11979e9b769aeddd"
  },
  {
   "cell_type": "code",
   "execution_count": 54,
   "outputs": [
    {
     "name": "stdout",
     "output_type": "stream",
     "text": [
      "VAE models compiled..\n",
      "VAE Models initialized on cuda\n",
      "Encoder parameters: 236864\n",
      "Decoder parameters: 260418\n",
      "Beta: 1\n",
      "Data loaded: 14082 training samples, 3521 test samples (position only)\n"
     ]
    }
   ],
   "source": [
    "from osu.vae import OsuReplayVAE\n",
    "\n",
    "vae = OsuReplayVAE(batch_size=BATCH_SIZE)\n",
    "\n",
    "# vae = OsuReplayVAE.load(\".trained/vae_most_recent.pt\")\n",
    "\n",
    "vae.load_data(xs, ys)"
   ],
   "metadata": {
    "collapsed": false,
    "ExecuteTime": {
     "end_time": "2025-07-24T07:13:22.792326600Z",
     "start_time": "2025-07-24T07:13:22.020496500Z"
    }
   },
   "id": "1a38cf62d4148606"
  },
  {
   "cell_type": "code",
   "execution_count": 57,
   "outputs": [
    {
     "name": "stderr",
     "output_type": "stream",
     "text": [
      "Epoch 1/3 (VAE): 100%|██████████| 111/111 [00:44<00:00,  2.50it/s]\n"
     ]
    },
    {
     "name": "stdout",
     "output_type": "stream",
     "text": [
      "Epoch 1/3, Total: 0.0325, Recon: 0.0192, KL: 0.0134\n"
     ]
    },
    {
     "name": "stderr",
     "output_type": "stream",
     "text": [
      "Epoch 2/3 (VAE): 100%|██████████| 111/111 [02:34<00:00,  1.39s/it]\n"
     ]
    },
    {
     "name": "stdout",
     "output_type": "stream",
     "text": [
      "Epoch 2/3, Total: 0.0068, Recon: 0.0068, KL: 0.0000\n"
     ]
    },
    {
     "name": "stderr",
     "output_type": "stream",
     "text": [
      "Epoch 3/3 (VAE):  32%|███▏      | 36/111 [03:47<07:53,  6.32s/it]\n"
     ]
    },
    {
     "ename": "KeyboardInterrupt",
     "evalue": "",
     "output_type": "error",
     "traceback": [
      "\u001B[31m---------------------------------------------------------------------------\u001B[39m",
      "\u001B[31mKeyboardInterrupt\u001B[39m                         Traceback (most recent call last)",
      "\u001B[36mCell\u001B[39m\u001B[36m \u001B[39m\u001B[32mIn[57]\u001B[39m\u001B[32m, line 4\u001B[39m\n\u001B[32m      1\u001B[39m VAE_EPOCHS = \u001B[32m3\u001B[39m\n\u001B[32m      3\u001B[39m \u001B[38;5;28;01mfor\u001B[39;00m i \u001B[38;5;129;01min\u001B[39;00m \u001B[38;5;28mrange\u001B[39m(\u001B[32m25\u001B[39m):\n\u001B[32m----> \u001B[39m\u001B[32m4\u001B[39m     \u001B[43mvae\u001B[49m\u001B[43m.\u001B[49m\u001B[43mtrain\u001B[49m\u001B[43m(\u001B[49m\u001B[43mVAE_EPOCHS\u001B[49m\u001B[43m)\u001B[49m\n\u001B[32m      5\u001B[39m     vae.save()\n\u001B[32m      7\u001B[39m vae.plot_losses()\n",
      "\u001B[36mFile \u001B[39m\u001B[32mE:\\Projects\\osu\\osu\\vae.py:196\u001B[39m, in \u001B[36mOsuReplayVAE.train\u001B[39m\u001B[34m(self, epochs)\u001B[39m\n\u001B[32m    193\u001B[39m torch.nn.utils.clip_grad_norm_(\u001B[38;5;28mlist\u001B[39m(\u001B[38;5;28mself\u001B[39m.encoder.parameters()) + \u001B[38;5;28mlist\u001B[39m(\u001B[38;5;28mself\u001B[39m.decoder.parameters()), max_norm=\u001B[32m1.0\u001B[39m)\n\u001B[32m    194\u001B[39m \u001B[38;5;28mself\u001B[39m.optimizer.step()\n\u001B[32m--> \u001B[39m\u001B[32m196\u001B[39m epoch_total_loss += \u001B[43mtotal_loss\u001B[49m\u001B[43m.\u001B[49m\u001B[43mitem\u001B[49m\u001B[43m(\u001B[49m\u001B[43m)\u001B[49m\n\u001B[32m    197\u001B[39m epoch_recon_loss += recon_loss.item()\n\u001B[32m    198\u001B[39m epoch_kl_loss += kl_loss.item()\n",
      "\u001B[31mKeyboardInterrupt\u001B[39m: "
     ]
    }
   ],
   "source": [
    "\n",
    "VAE_EPOCHS = 3\n",
    "\n",
    "for i in range(25):\n",
    "    vae.train(VAE_EPOCHS)\n",
    "    vae.save()\n",
    "    \n",
    "vae.plot_losses()"
   ],
   "metadata": {
    "collapsed": false,
    "ExecuteTime": {
     "end_time": "2025-07-24T07:20:39.474476Z",
     "start_time": "2025-07-24T07:13:32.975753800Z"
    }
   },
   "id": "7e02d7be4612ce9b"
  },
  {
   "cell_type": "code",
   "execution_count": null,
   "outputs": [],
   "source": [
    "for i in range(25):\n",
    "    vae.train(VAE_EPOCHS)\n",
    "    vae.save()\n",
    "    \n",
    "vae.plot_losses()"
   ],
   "metadata": {
    "collapsed": false
   },
   "id": "469945dc39944eb4"
  },
  {
   "cell_type": "code",
   "execution_count": 48,
   "outputs": [
    {
     "name": "stderr",
     "output_type": "stream",
     "text": [
      "Turning beatmaps into time series data: 100%|██████████| 1/1 [00:00<00:00,  5.52it/s]\n"
     ]
    }
   ],
   "source": [
    "# test training results\n",
    "from osu.rulesets.mods import Mods\n",
    "import osu.rulesets.beatmap as bm\n",
    "import osu.dataset as dataset\n",
    "\n",
    "test_name = 'ringyou'\n",
    "test_mods = Mods.DOUBLE_TIME\n",
    "test_map_path = f'assets/{test_name}_map.osu'\n",
    "test_song = f'assets/{test_name}_song.mp3'\n",
    "\n",
    "test_map = bm.load(test_map_path)\n",
    "test_map.apply_mods(test_mods)\n",
    "\n",
    "data = dataset.input_data(test_map)\n",
    "data = np.reshape(data.values, (-1, dataset.BATCH_LENGTH, len(dataset.INPUT_FEATURES)))\n",
    "data = torch.FloatTensor(data)"
   ],
   "metadata": {
    "collapsed": false,
    "ExecuteTime": {
     "end_time": "2025-07-24T07:05:45.495925100Z",
     "start_time": "2025-07-24T07:05:45.193285400Z"
    }
   },
   "id": "3d329c61d5439f92"
  },
  {
   "cell_type": "code",
   "execution_count": 49,
   "outputs": [
    {
     "name": "stdout",
     "output_type": "stream",
     "text": [
      "Generated replay data shape: (8192, 4)\n"
     ]
    }
   ],
   "source": [
    "replay_data = vae.generate(data)\n",
    "    \n",
    "replay_data = np.concatenate(replay_data)\n",
    "replay_data = np.pad(replay_data, ((0, 0), (0, 2)), mode='constant', constant_values=0)\n",
    "if not os.path.exists('.generated'):\n",
    "    os.makedirs('.generated')\n",
    "    \n",
    "print(f\"Generated replay data shape: {replay_data.shape}\")\n"
   ],
   "metadata": {
    "collapsed": false,
    "ExecuteTime": {
     "end_time": "2025-07-24T07:05:46.136070700Z",
     "start_time": "2025-07-24T07:05:45.750396Z"
    }
   },
   "id": "f34002ee306e7fd9"
  },
  {
   "cell_type": "code",
   "execution_count": 50,
   "outputs": [],
   "source": [
    "import osu.preview.preview as preview\n",
    "\n",
    "preview.preview_replay_raw(replay_data, test_map_path, test_mods, test_song)"
   ],
   "metadata": {
    "collapsed": false,
    "ExecuteTime": {
     "end_time": "2025-07-24T07:06:16.541447100Z",
     "start_time": "2025-07-24T07:05:46.451770400Z"
    }
   },
   "id": "b9e430b879d2f8a1"
  },
  {
   "cell_type": "code",
   "execution_count": null,
   "outputs": [],
   "source": [],
   "metadata": {
    "collapsed": false
   },
   "id": "989be9cfb6bf9eef"
  }
 ],
 "metadata": {
  "kernelspec": {
   "display_name": "Python 3",
   "language": "python",
   "name": "python3"
  },
  "language_info": {
   "codemirror_mode": {
    "name": "ipython",
    "version": 2
   },
   "file_extension": ".py",
   "mimetype": "text/x-python",
   "name": "python",
   "nbconvert_exporter": "python",
   "pygments_lexer": "ipython2",
   "version": "2.7.6"
  }
 },
 "nbformat": 4,
 "nbformat_minor": 5
}
