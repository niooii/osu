{
 "cells": [
  {
   "cell_type": "code",
   "execution_count": 1,
   "id": "initial_id",
   "metadata": {
    "ExecuteTime": {
     "end_time": "2025-07-31T07:11:02.511068600Z",
     "start_time": "2025-07-31T07:11:01.445867200Z"
    }
   },
   "outputs": [
    {
     "name": "stdout",
     "output_type": "stream",
     "text": [
      "osu! path: C:\\Users\\niooi\\AppData\\Roaming/../Local/osu!\n"
     ]
    }
   ],
   "source": [
    "%load_ext autoreload\n",
    "%autoreload 2\n",
    "\n",
    "import os\n",
    "import numpy as np\n",
    "\n",
    "import osu.dataset as dataset\n"
   ]
  },
  {
   "cell_type": "code",
   "execution_count": 2,
   "id": "92c39d45d3bf1cff",
   "metadata": {
    "collapsed": false,
    "ExecuteTime": {
     "end_time": "2025-07-31T07:11:04.200308500Z",
     "start_time": "2025-07-31T07:11:02.513069600Z"
    }
   },
   "outputs": [],
   "source": [
    "# reload from saved\n",
    "\n",
    "xs = np.load(f'.datasets/xs_7500_07-30_22-38-46.npy')\n",
    "ys = np.load(f'.datasets/ys_7500_07-30_22-38-46.npy')\n",
    "\n",
    "# xs = np.load(f'.datasets/xs_142_07-21_21-50-55.npy')\n",
    "# ys = np.load(f'.datasets/ys_142_07-21_21-50-55.npy')"
   ]
  },
  {
   "cell_type": "code",
   "execution_count": 3,
   "outputs": [
    {
     "data": {
      "text/plain": "(26648, 2048, 9)"
     },
     "execution_count": 3,
     "metadata": {},
     "output_type": "execute_result"
    }
   ],
   "source": [
    "xs.shape"
   ],
   "metadata": {
    "collapsed": false,
    "ExecuteTime": {
     "end_time": "2025-07-31T05:53:30.455415100Z",
     "start_time": "2025-07-31T05:53:30.409614700Z"
    }
   },
   "id": "ae6d673d3e098f2a"
  },
  {
   "cell_type": "code",
   "execution_count": 3,
   "id": "ae1b470e52ab30f6",
   "metadata": {
    "collapsed": false,
    "ExecuteTime": {
     "end_time": "2025-07-31T07:11:05.957393Z",
     "start_time": "2025-07-31T07:11:04.201309800Z"
    }
   },
   "outputs": [],
   "source": [
    "import torch\n",
    "\n",
    "BATCH_SIZE = 64\n",
    "\n",
    "device = 'cuda' if torch.cuda.is_available() else 'cpu'"
   ]
  },
  {
   "cell_type": "code",
   "execution_count": 24,
   "id": "11979e9b769aeddd",
   "metadata": {
    "collapsed": false,
    "ExecuteTime": {
     "end_time": "2025-07-31T07:17:53.527812900Z",
     "start_time": "2025-07-31T07:17:53.324074800Z"
    }
   },
   "outputs": [
    {
     "data": {
      "text/plain": "11"
     },
     "execution_count": 24,
     "metadata": {},
     "output_type": "execute_result"
    }
   ],
   "source": [
    "import torch\n",
    "import gc\n",
    "\n",
    "# Clear GPU cache\n",
    "torch.cuda.empty_cache()\n",
    "\n",
    "# Force garbage collection\n",
    "gc.collect()"
   ]
  },
  {
   "cell_type": "code",
   "execution_count": 23,
   "outputs": [
    {
     "name": "stdout",
     "output_type": "stream",
     "text": [
      "Position model compiled with torch.compile\n",
      "RNN Model initialized on cuda (noise_std=0.045)\n",
      "Position model parameters: 228162\n",
      "Data loaded: 21318 training samples, 5330 test samples (position only)\n"
     ]
    }
   ],
   "source": [
    "from models.rnn import OsuReplayRNN\n",
    "\n",
    "rnn = OsuReplayRNN(batch_size=BATCH_SIZE, noise_std=0.045)\n",
    "\n",
    "# vae = OsuReplayVAE.load(\".trained/vae_353rcl_9ft.pt\")\n",
    "\n",
    "rnn.load_data(xs, ys)"
   ],
   "metadata": {
    "collapsed": false,
    "ExecuteTime": {
     "end_time": "2025-07-31T07:17:47.296123200Z",
     "start_time": "2025-07-31T07:17:45.871976600Z"
    }
   },
   "id": "6dff73d0c8c34b6e"
  },
  {
   "cell_type": "code",
   "execution_count": 25,
   "id": "1a38cf62d4148606",
   "metadata": {
    "collapsed": false,
    "ExecuteTime": {
     "end_time": "2025-07-31T07:17:55.511959100Z",
     "start_time": "2025-07-31T07:17:54.574960100Z"
    }
   },
   "outputs": [
    {
     "name": "stdout",
     "output_type": "stream",
     "text": [
      "VAE models compiled..\n",
      "VAE Models initialized on cuda (noise_std=0.045)\n",
      "Encoder parameters: 650016\n",
      "Decoder parameters: 459122\n",
      "Data loaded: 21318 training samples, 5330 test samples (position only)\n"
     ]
    }
   ],
   "source": [
    "from models.vae import OsuReplayVAE\n",
    "from models.annealer import Annealer\n",
    "\n",
    "annealer = Annealer(\n",
    "    total_steps=10,\n",
    "    range=(0, 0.38),\n",
    "    cyclical=True,\n",
    "    stay_max_steps=5\n",
    ")\n",
    "\n",
    "vae = OsuReplayVAE(batch_size=BATCH_SIZE, annealer=annealer, noise_std=0.045)\n",
    "\n",
    "# vae = OsuReplayVAE.load(\".trained/vae_353rcl_9ft.pt\")\n",
    "# vae = OsuReplayVAE.load(\".trained/vae_most_recent.pt\")\n",
    "\n",
    "vae.load_data(xs, ys)"
   ]
  },
  {
   "cell_type": "code",
   "execution_count": 32,
   "id": "382f27a44e43ddee",
   "metadata": {
    "collapsed": false,
    "ExecuteTime": {
     "end_time": "2025-07-31T18:34:35.289606400Z",
     "start_time": "2025-07-31T18:34:31.584181300Z"
    }
   },
   "outputs": [
    {
     "name": "stdout",
     "output_type": "stream",
     "text": [
      "Key Model initialized on cuda (noise_std=0.0)\n",
      "Key model parameters: 54626\n",
      "Data loaded: 21318 training samples, 5330 test samples (keys only)\n"
     ]
    }
   ],
   "source": [
    "from models.keys import OsuKeyModel\n",
    "\n",
    "keys = OsuKeyModel(batch_size=BATCH_SIZE)\n",
    "keys.load_data(xs, ys)"
   ]
  },
  {
   "cell_type": "code",
   "execution_count": 33,
   "id": "7e02d7be4612ce9b",
   "metadata": {
    "collapsed": false,
    "ExecuteTime": {
     "end_time": "2025-07-31T18:40:12.882397900Z",
     "start_time": "2025-07-31T18:34:35.288605800Z"
    }
   },
   "outputs": [
    {
     "name": "stderr",
     "output_type": "stream",
     "text": [
      "Epoch 1/3 (Keys): 100%|██████████| 334/334 [00:42<00:00,  7.91it/s]\n"
     ]
    },
    {
     "name": "stdout",
     "output_type": "stream",
     "text": [
      "Epoch 1/3, Train: 0.4766, Test: 0.4227\n"
     ]
    },
    {
     "name": "stderr",
     "output_type": "stream",
     "text": [
      "Epoch 2/3 (Keys): 100%|██████████| 334/334 [00:38<00:00,  8.64it/s]\n"
     ]
    },
    {
     "name": "stdout",
     "output_type": "stream",
     "text": [
      "Epoch 2/3, Train: 0.4279, Test: 0.4280\n"
     ]
    },
    {
     "name": "stderr",
     "output_type": "stream",
     "text": [
      "Epoch 3/3 (Keys): 100%|██████████| 334/334 [00:38<00:00,  8.59it/s]\n"
     ]
    },
    {
     "name": "stdout",
     "output_type": "stream",
     "text": [
      "Epoch 3/3, Train: 0.4221, Test: 0.4152\n",
      "Key model saved to .trained/keys_2025-07-31_14-36-37.pt\n"
     ]
    },
    {
     "name": "stderr",
     "output_type": "stream",
     "text": [
      "Epoch 1/3 (Keys): 100%|██████████| 334/334 [00:39<00:00,  8.39it/s]\n"
     ]
    },
    {
     "name": "stdout",
     "output_type": "stream",
     "text": [
      "Epoch 1/3, Train: 0.4140, Test: 0.4132\n"
     ]
    },
    {
     "name": "stderr",
     "output_type": "stream",
     "text": [
      "Epoch 2/3 (Keys): 100%|██████████| 334/334 [00:43<00:00,  7.75it/s]\n"
     ]
    },
    {
     "name": "stdout",
     "output_type": "stream",
     "text": [
      "Epoch 2/3, Train: 0.4109, Test: 0.4146\n"
     ]
    },
    {
     "name": "stderr",
     "output_type": "stream",
     "text": [
      "Epoch 3/3 (Keys): 100%|██████████| 334/334 [00:40<00:00,  8.23it/s]\n"
     ]
    },
    {
     "name": "stdout",
     "output_type": "stream",
     "text": [
      "Epoch 3/3, Train: 0.4098, Test: 0.4084\n",
      "Key model saved to .trained/keys_2025-07-31_14-38-43.pt\n"
     ]
    },
    {
     "name": "stderr",
     "output_type": "stream",
     "text": [
      "Epoch 1/3 (Keys): 100%|██████████| 334/334 [00:40<00:00,  8.34it/s]\n"
     ]
    },
    {
     "name": "stdout",
     "output_type": "stream",
     "text": [
      "Epoch 1/3, Train: 0.4089, Test: 0.4096\n"
     ]
    },
    {
     "name": "stderr",
     "output_type": "stream",
     "text": [
      "Epoch 2/3 (Keys): 100%|██████████| 334/334 [00:40<00:00,  8.27it/s]\n"
     ]
    },
    {
     "name": "stdout",
     "output_type": "stream",
     "text": [
      "Epoch 2/3, Train: 0.4071, Test: 0.4077\n"
     ]
    },
    {
     "name": "stderr",
     "output_type": "stream",
     "text": [
      "Epoch 3/3 (Keys):  18%|█▊        | 59/334 [00:07<00:33,  8.15it/s]\n"
     ]
    },
    {
     "ename": "KeyboardInterrupt",
     "evalue": "",
     "output_type": "error",
     "traceback": [
      "\u001B[31m---------------------------------------------------------------------------\u001B[39m",
      "\u001B[31mKeyboardInterrupt\u001B[39m                         Traceback (most recent call last)",
      "\u001B[36mCell\u001B[39m\u001B[36m \u001B[39m\u001B[32mIn[33]\u001B[39m\u001B[32m, line 6\u001B[39m\n\u001B[32m      3\u001B[39m EPOCHS = \u001B[32m3\u001B[39m\n\u001B[32m      5\u001B[39m \u001B[38;5;28;01mfor\u001B[39;00m i \u001B[38;5;129;01min\u001B[39;00m \u001B[38;5;28mrange\u001B[39m(\u001B[32m25\u001B[39m):\n\u001B[32m----> \u001B[39m\u001B[32m6\u001B[39m     \u001B[43mmodel\u001B[49m\u001B[43m.\u001B[49m\u001B[43mtrain\u001B[49m\u001B[43m(\u001B[49m\u001B[43mEPOCHS\u001B[49m\u001B[43m)\u001B[49m\n\u001B[32m      7\u001B[39m     model.save()\n\u001B[32m      9\u001B[39m model.plot_losses()\n",
      "\u001B[36mFile \u001B[39m\u001B[32mE:\\Projects\\osu\\models\\keys.py:103\u001B[39m, in \u001B[36mOsuKeyModel.train\u001B[39m\u001B[34m(self, epochs)\u001B[39m\n\u001B[32m    100\u001B[39m     torch.nn.utils.clip_grad_norm_(\u001B[38;5;28mself\u001B[39m.key_model.parameters(), max_norm=\u001B[32m1.0\u001B[39m)\n\u001B[32m    101\u001B[39m     \u001B[38;5;28mself\u001B[39m.key_optimizer.step()\n\u001B[32m--> \u001B[39m\u001B[32m103\u001B[39m     epoch_train_loss += \u001B[43mkeys_loss\u001B[49m\u001B[43m.\u001B[49m\u001B[43mitem\u001B[49m\u001B[43m(\u001B[49m\u001B[43m)\u001B[49m\n\u001B[32m    105\u001B[39m \u001B[38;5;66;03m# Validation phase\u001B[39;00m\n\u001B[32m    106\u001B[39m \u001B[38;5;28mself\u001B[39m.key_model.eval()\n",
      "\u001B[31mKeyboardInterrupt\u001B[39m: "
     ]
    }
   ],
   "source": [
    "model = keys\n",
    "\n",
    "EPOCHS = 3\n",
    "\n",
    "for i in range(25):\n",
    "    model.train(EPOCHS)\n",
    "    model.save()\n",
    "    \n",
    "model.plot_losses()"
   ]
  },
  {
   "cell_type": "code",
   "execution_count": null,
   "outputs": [],
   "source": [
    "for i in range(150):\n",
    "    model.train(EPOCHS)\n",
    "    model.save()\n",
    "    \n",
    "model.plot_losses()"
   ],
   "metadata": {
    "collapsed": false
   },
   "id": "fa00898c77ca6020"
  },
  {
   "cell_type": "code",
   "execution_count": 28,
   "outputs": [],
   "source": [
    "del vae"
   ],
   "metadata": {
    "collapsed": false,
    "ExecuteTime": {
     "end_time": "2025-07-31T14:38:55.156161Z",
     "start_time": "2025-07-31T14:38:55.054602Z"
    }
   },
   "id": "5be54872eaa892b9"
  },
  {
   "cell_type": "code",
   "execution_count": 29,
   "outputs": [
    {
     "name": "stdout",
     "output_type": "stream",
     "text": [
      "VAE models compiled..\n",
      "VAE Models initialized on cuda (noise_std=0.045)\n",
      "Encoder parameters: 650016\n",
      "Decoder parameters: 459122\n",
      "Data loaded: 21318 training samples, 5330 test samples (position only)\n"
     ]
    }
   ],
   "source": [
    "annealer = Annealer(\n",
    "    total_steps=10,\n",
    "    range=(0, 0.25),\n",
    "    cyclical=True,\n",
    "    stay_max_steps=5\n",
    ")\n",
    "\n",
    "vae = OsuReplayVAE(batch_size=BATCH_SIZE, annealer=annealer, noise_std=0.045)\n",
    "\n",
    "# vae = OsuReplayVAE.load(\".trained/vae_353rcl_9ft.pt\")\n",
    "# vae = OsuReplayVAE.load(\".trained/vae_most_recent.pt\")\n",
    "\n",
    "vae.load_data(xs, ys)\n",
    "\n",
    "model = vae"
   ],
   "metadata": {
    "collapsed": false,
    "ExecuteTime": {
     "end_time": "2025-07-31T14:38:56.431593600Z",
     "start_time": "2025-07-31T14:38:55.154158600Z"
    }
   },
   "id": "cc68a99682e98507"
  },
  {
   "cell_type": "code",
   "execution_count": 30,
   "outputs": [
    {
     "name": "stderr",
     "output_type": "stream",
     "text": [
      "Epoch 1/3 (Beta: 0.0): 100%|██████████| 334/334 [00:50<00:00,  6.66it/s]\n"
     ]
    },
    {
     "name": "stdout",
     "output_type": "stream",
     "text": [
      "Epoch 1/3, Total: 2226.1175, Recon: 2226.1175, KL: 69.9607\n"
     ]
    },
    {
     "name": "stderr",
     "output_type": "stream",
     "text": [
      "Epoch 2/3 (Beta: 0.025): 100%|██████████| 334/334 [00:50<00:00,  6.63it/s]\n"
     ]
    },
    {
     "name": "stdout",
     "output_type": "stream",
     "text": [
      "Epoch 2/3, Total: 844.3759, Recon: 841.7678, KL: 104.3226\n"
     ]
    },
    {
     "name": "stderr",
     "output_type": "stream",
     "text": [
      "Epoch 3/3 (Beta: 0.05): 100%|██████████| 334/334 [00:50<00:00,  6.65it/s]\n"
     ]
    },
    {
     "name": "stdout",
     "output_type": "stream",
     "text": [
      "Epoch 3/3, Total: 720.1916, Recon: 715.8422, KL: 86.9874\n",
      "VAE models saved to .trained/vae_2025-07-31_10-41-27.pt\n"
     ]
    },
    {
     "name": "stderr",
     "output_type": "stream",
     "text": [
      "Epoch 1/3 (Beta: 0.075): 100%|██████████| 334/334 [00:50<00:00,  6.64it/s]\n"
     ]
    },
    {
     "name": "stdout",
     "output_type": "stream",
     "text": [
      "Epoch 1/3, Total: 657.1120, Recon: 651.5711, KL: 73.8783\n"
     ]
    },
    {
     "name": "stderr",
     "output_type": "stream",
     "text": [
      "Epoch 2/3 (Beta: 0.1): 100%|██████████| 334/334 [00:50<00:00,  6.65it/s]\n"
     ]
    },
    {
     "name": "stdout",
     "output_type": "stream",
     "text": [
      "Epoch 2/3, Total: 651.7647, Recon: 645.8537, KL: 59.1101\n"
     ]
    },
    {
     "name": "stderr",
     "output_type": "stream",
     "text": [
      "Epoch 3/3 (Beta: 0.125): 100%|██████████| 334/334 [00:50<00:00,  6.67it/s]\n"
     ]
    },
    {
     "name": "stdout",
     "output_type": "stream",
     "text": [
      "Epoch 3/3, Total: 622.4746, Recon: 616.1360, KL: 50.7089\n",
      "VAE models saved to .trained/vae_2025-07-31_10-43-57.pt\n"
     ]
    },
    {
     "name": "stderr",
     "output_type": "stream",
     "text": [
      "Epoch 1/3 (Beta: 0.15): 100%|██████████| 334/334 [00:50<00:00,  6.62it/s]\n"
     ]
    },
    {
     "name": "stdout",
     "output_type": "stream",
     "text": [
      "Epoch 1/3, Total: 614.6876, Recon: 608.5531, KL: 40.8967\n"
     ]
    },
    {
     "name": "stderr",
     "output_type": "stream",
     "text": [
      "Epoch 2/3 (Beta: 0.175): 100%|██████████| 334/334 [00:50<00:00,  6.63it/s]\n"
     ]
    },
    {
     "name": "stdout",
     "output_type": "stream",
     "text": [
      "Epoch 2/3, Total: 607.5243, Recon: 601.4542, KL: 34.6861\n"
     ]
    },
    {
     "name": "stderr",
     "output_type": "stream",
     "text": [
      "Epoch 3/3 (Beta: 0.2): 100%|██████████| 334/334 [00:50<00:00,  6.62it/s]\n"
     ]
    },
    {
     "name": "stdout",
     "output_type": "stream",
     "text": [
      "Epoch 3/3, Total: 596.9521, Recon: 591.6555, KL: 26.4831\n",
      "VAE models saved to .trained/vae_2025-07-31_10-46-29.pt\n"
     ]
    },
    {
     "name": "stderr",
     "output_type": "stream",
     "text": [
      "Epoch 1/3 (Beta: 0.225): 100%|██████████| 334/334 [00:50<00:00,  6.64it/s]\n"
     ]
    },
    {
     "name": "stdout",
     "output_type": "stream",
     "text": [
      "Epoch 1/3, Total: 592.0601, Recon: 587.1809, KL: 21.6855\n"
     ]
    },
    {
     "name": "stderr",
     "output_type": "stream",
     "text": [
      "Epoch 2/3 (Beta: 0.25): 100%|██████████| 334/334 [00:50<00:00,  6.66it/s]\n"
     ]
    },
    {
     "name": "stdout",
     "output_type": "stream",
     "text": [
      "Epoch 2/3, Total: 583.4871, Recon: 579.0523, KL: 17.7392\n"
     ]
    },
    {
     "name": "stderr",
     "output_type": "stream",
     "text": [
      "Epoch 3/3 (Beta: 0.25): 100%|██████████| 334/334 [00:50<00:00,  6.62it/s]\n"
     ]
    },
    {
     "name": "stdout",
     "output_type": "stream",
     "text": [
      "Epoch 3/3, Total: 580.9978, Recon: 577.5637, KL: 13.7366\n",
      "VAE models saved to .trained/vae_2025-07-31_10-49-00.pt\n"
     ]
    },
    {
     "name": "stderr",
     "output_type": "stream",
     "text": [
      "Epoch 1/3 (Beta: 0.25): 100%|██████████| 334/334 [00:50<00:00,  6.65it/s]\n"
     ]
    },
    {
     "name": "stdout",
     "output_type": "stream",
     "text": [
      "Epoch 1/3, Total: 577.3493, Recon: 574.3178, KL: 12.1260\n"
     ]
    },
    {
     "name": "stderr",
     "output_type": "stream",
     "text": [
      "Epoch 2/3 (Beta: 0.25): 100%|██████████| 334/334 [00:50<00:00,  6.64it/s]\n"
     ]
    },
    {
     "name": "stdout",
     "output_type": "stream",
     "text": [
      "Epoch 2/3, Total: 576.5675, Recon: 573.9419, KL: 10.5021\n"
     ]
    },
    {
     "name": "stderr",
     "output_type": "stream",
     "text": [
      "Epoch 3/3 (Beta: 0.25): 100%|██████████| 334/334 [00:50<00:00,  6.66it/s]\n"
     ]
    },
    {
     "name": "stdout",
     "output_type": "stream",
     "text": [
      "Epoch 3/3, Total: 569.0319, Recon: 566.5748, KL: 9.8283\n",
      "VAE models saved to .trained/vae_2025-07-31_10-51-30.pt\n"
     ]
    },
    {
     "name": "stderr",
     "output_type": "stream",
     "text": [
      "Epoch 1/3 (Beta: 0.0): 100%|██████████| 334/334 [00:49<00:00,  6.69it/s]\n"
     ]
    },
    {
     "name": "stdout",
     "output_type": "stream",
     "text": [
      "Epoch 1/3, Total: 558.3651, Recon: 558.3651, KL: 46.5776\n"
     ]
    },
    {
     "name": "stderr",
     "output_type": "stream",
     "text": [
      "Epoch 2/3 (Beta: 0.025): 100%|██████████| 334/334 [00:50<00:00,  6.63it/s]\n"
     ]
    },
    {
     "name": "stdout",
     "output_type": "stream",
     "text": [
      "Epoch 2/3, Total: 559.9301, Recon: 558.8781, KL: 42.0802\n"
     ]
    },
    {
     "name": "stderr",
     "output_type": "stream",
     "text": [
      "Epoch 3/3 (Beta: 0.05): 100%|██████████| 334/334 [00:50<00:00,  6.65it/s]\n"
     ]
    },
    {
     "name": "stdout",
     "output_type": "stream",
     "text": [
      "Epoch 3/3, Total: 559.3588, Recon: 557.8854, KL: 29.4678\n",
      "VAE models saved to .trained/vae_2025-07-31_10-54-01.pt\n"
     ]
    },
    {
     "name": "stderr",
     "output_type": "stream",
     "text": [
      "Epoch 1/3 (Beta: 0.075): 100%|██████████| 334/334 [00:50<00:00,  6.64it/s]\n"
     ]
    },
    {
     "name": "stdout",
     "output_type": "stream",
     "text": [
      "Epoch 1/3, Total: 558.9542, Recon: 557.2338, KL: 22.9388\n"
     ]
    },
    {
     "name": "stderr",
     "output_type": "stream",
     "text": [
      "Epoch 2/3 (Beta: 0.1): 100%|██████████| 334/334 [00:50<00:00,  6.64it/s]\n"
     ]
    },
    {
     "name": "stdout",
     "output_type": "stream",
     "text": [
      "Epoch 2/3, Total: 559.1224, Recon: 557.1802, KL: 19.4223\n"
     ]
    },
    {
     "name": "stderr",
     "output_type": "stream",
     "text": [
      "Epoch 3/3 (Beta: 0.125): 100%|██████████| 334/334 [00:50<00:00,  6.65it/s]\n"
     ]
    },
    {
     "name": "stdout",
     "output_type": "stream",
     "text": [
      "Epoch 3/3, Total: 555.7073, Recon: 553.7359, KL: 15.7709\n",
      "VAE models saved to .trained/vae_2025-07-31_10-56-32.pt\n"
     ]
    },
    {
     "name": "stderr",
     "output_type": "stream",
     "text": [
      "Epoch 1/3 (Beta: 0.15): 100%|██████████| 334/334 [00:50<00:00,  6.64it/s]\n"
     ]
    },
    {
     "name": "stdout",
     "output_type": "stream",
     "text": [
      "Epoch 1/3, Total: 553.8185, Recon: 551.7919, KL: 13.5106\n"
     ]
    },
    {
     "name": "stderr",
     "output_type": "stream",
     "text": [
      "Epoch 2/3 (Beta: 0.175): 100%|██████████| 334/334 [00:50<00:00,  6.65it/s]\n"
     ]
    },
    {
     "name": "stdout",
     "output_type": "stream",
     "text": [
      "Epoch 2/3, Total: 553.3368, Recon: 551.3955, KL: 11.0935\n"
     ]
    },
    {
     "name": "stderr",
     "output_type": "stream",
     "text": [
      "Epoch 3/3 (Beta: 0.2): 100%|██████████| 334/334 [00:50<00:00,  6.64it/s]\n"
     ]
    },
    {
     "name": "stdout",
     "output_type": "stream",
     "text": [
      "Epoch 3/3, Total: 551.4912, Recon: 549.5626, KL: 9.6429\n",
      "VAE models saved to .trained/vae_2025-07-31_10-59-02.pt\n"
     ]
    },
    {
     "name": "stderr",
     "output_type": "stream",
     "text": [
      "Epoch 1/3 (Beta: 0.225): 100%|██████████| 334/334 [00:50<00:00,  6.64it/s]\n"
     ]
    },
    {
     "name": "stdout",
     "output_type": "stream",
     "text": [
      "Epoch 1/3, Total: 551.3418, Recon: 549.3336, KL: 8.9254\n"
     ]
    },
    {
     "name": "stderr",
     "output_type": "stream",
     "text": [
      "Epoch 2/3 (Beta: 0.25): 100%|██████████| 334/334 [00:50<00:00,  6.67it/s]\n"
     ]
    },
    {
     "name": "stdout",
     "output_type": "stream",
     "text": [
      "Epoch 2/3, Total: 548.5293, Recon: 546.5952, KL: 7.7361\n"
     ]
    },
    {
     "name": "stderr",
     "output_type": "stream",
     "text": [
      "Epoch 3/3 (Beta: 0.25): 100%|██████████| 334/334 [00:50<00:00,  6.64it/s]\n"
     ]
    },
    {
     "name": "stdout",
     "output_type": "stream",
     "text": [
      "Epoch 3/3, Total: 546.8828, Recon: 545.0699, KL: 7.2518\n",
      "VAE models saved to .trained/vae_2025-07-31_11-01-33.pt\n"
     ]
    },
    {
     "name": "stderr",
     "output_type": "stream",
     "text": [
      "Epoch 1/3 (Beta: 0.25): 100%|██████████| 334/334 [00:50<00:00,  6.65it/s]\n"
     ]
    },
    {
     "name": "stdout",
     "output_type": "stream",
     "text": [
      "Epoch 1/3, Total: 545.5987, Recon: 544.1233, KL: 5.9019\n"
     ]
    },
    {
     "name": "stderr",
     "output_type": "stream",
     "text": [
      "Epoch 2/3 (Beta: 0.25): 100%|██████████| 334/334 [00:50<00:00,  6.65it/s]\n"
     ]
    },
    {
     "name": "stdout",
     "output_type": "stream",
     "text": [
      "Epoch 2/3, Total: 543.2925, Recon: 541.8837, KL: 5.6353\n"
     ]
    },
    {
     "name": "stderr",
     "output_type": "stream",
     "text": [
      "Epoch 3/3 (Beta: 0.25): 100%|██████████| 334/334 [00:55<00:00,  6.05it/s]\n"
     ]
    },
    {
     "name": "stdout",
     "output_type": "stream",
     "text": [
      "Epoch 3/3, Total: 542.3614, Recon: 540.8350, KL: 6.1057\n",
      "VAE models saved to .trained/vae_2025-07-31_11-04-09.pt\n"
     ]
    },
    {
     "name": "stderr",
     "output_type": "stream",
     "text": [
      "Epoch 1/3 (Beta: 0.0): 100%|██████████| 334/334 [00:50<00:00,  6.68it/s]\n"
     ]
    },
    {
     "name": "stdout",
     "output_type": "stream",
     "text": [
      "Epoch 1/3, Total: 539.1439, Recon: 539.1439, KL: 19.5956\n"
     ]
    },
    {
     "name": "stderr",
     "output_type": "stream",
     "text": [
      "Epoch 2/3 (Beta: 0.025): 100%|██████████| 334/334 [00:50<00:00,  6.64it/s]\n"
     ]
    },
    {
     "name": "stdout",
     "output_type": "stream",
     "text": [
      "Epoch 2/3, Total: 538.9479, Recon: 538.2629, KL: 27.4003\n"
     ]
    },
    {
     "name": "stderr",
     "output_type": "stream",
     "text": [
      "Epoch 3/3 (Beta: 0.05): 100%|██████████| 334/334 [00:50<00:00,  6.65it/s]\n"
     ]
    },
    {
     "name": "stdout",
     "output_type": "stream",
     "text": [
      "Epoch 3/3, Total: 539.0595, Recon: 537.9912, KL: 21.3653\n",
      "VAE models saved to .trained/vae_2025-07-31_11-06-39.pt\n"
     ]
    },
    {
     "name": "stderr",
     "output_type": "stream",
     "text": [
      "Epoch 1/3 (Beta: 0.075): 100%|██████████| 334/334 [00:50<00:00,  6.66it/s]\n"
     ]
    },
    {
     "name": "stdout",
     "output_type": "stream",
     "text": [
      "Epoch 1/3, Total: 534.9306, Recon: 533.7133, KL: 16.2310\n"
     ]
    },
    {
     "name": "stderr",
     "output_type": "stream",
     "text": [
      "Epoch 2/3 (Beta: 0.1): 100%|██████████| 334/334 [00:50<00:00,  6.63it/s]\n"
     ]
    },
    {
     "name": "stdout",
     "output_type": "stream",
     "text": [
      "Epoch 2/3, Total: 537.5242, Recon: 536.0536, KL: 14.7052\n"
     ]
    },
    {
     "name": "stderr",
     "output_type": "stream",
     "text": [
      "Epoch 3/3 (Beta: 0.125): 100%|██████████| 334/334 [00:50<00:00,  6.67it/s]\n"
     ]
    },
    {
     "name": "stdout",
     "output_type": "stream",
     "text": [
      "Epoch 3/3, Total: 537.7069, Recon: 536.2740, KL: 11.4629\n",
      "VAE models saved to .trained/vae_2025-07-31_11-09-10.pt\n"
     ]
    },
    {
     "name": "stderr",
     "output_type": "stream",
     "text": [
      "Epoch 1/3 (Beta: 0.15): 100%|██████████| 334/334 [00:50<00:00,  6.64it/s]\n"
     ]
    },
    {
     "name": "stdout",
     "output_type": "stream",
     "text": [
      "Epoch 1/3, Total: 538.8876, Recon: 537.3684, KL: 10.1285\n"
     ]
    },
    {
     "name": "stderr",
     "output_type": "stream",
     "text": [
      "Epoch 2/3 (Beta: 0.175): 100%|██████████| 334/334 [00:50<00:00,  6.66it/s]\n"
     ]
    },
    {
     "name": "stdout",
     "output_type": "stream",
     "text": [
      "Epoch 2/3, Total: 537.8808, Recon: 536.3726, KL: 8.6179\n"
     ]
    },
    {
     "name": "stderr",
     "output_type": "stream",
     "text": [
      "Epoch 3/3 (Beta: 0.2): 100%|██████████| 334/334 [00:50<00:00,  6.64it/s]\n"
     ]
    },
    {
     "name": "stdout",
     "output_type": "stream",
     "text": [
      "Epoch 3/3, Total: 538.4690, Recon: 536.9778, KL: 7.4562\n",
      "VAE models saved to .trained/vae_2025-07-31_11-11-41.pt\n"
     ]
    },
    {
     "name": "stderr",
     "output_type": "stream",
     "text": [
      "Epoch 1/3 (Beta: 0.225): 100%|██████████| 334/334 [00:50<00:00,  6.64it/s]\n"
     ]
    },
    {
     "name": "stdout",
     "output_type": "stream",
     "text": [
      "Epoch 1/3, Total: 533.5828, Recon: 532.2927, KL: 5.7339\n"
     ]
    },
    {
     "name": "stderr",
     "output_type": "stream",
     "text": [
      "Epoch 2/3 (Beta: 0.25): 100%|██████████| 334/334 [00:50<00:00,  6.67it/s]\n"
     ]
    },
    {
     "name": "stdout",
     "output_type": "stream",
     "text": [
      "Epoch 2/3, Total: 534.6075, Recon: 533.0322, KL: 6.3010\n"
     ]
    },
    {
     "name": "stderr",
     "output_type": "stream",
     "text": [
      "Epoch 3/3 (Beta: 0.25): 100%|██████████| 334/334 [00:50<00:00,  6.63it/s]\n"
     ]
    },
    {
     "name": "stdout",
     "output_type": "stream",
     "text": [
      "Epoch 3/3, Total: 533.2353, Recon: 531.9804, KL: 5.0194\n",
      "VAE models saved to .trained/vae_2025-07-31_11-14-12.pt\n"
     ]
    },
    {
     "name": "stderr",
     "output_type": "stream",
     "text": [
      "Epoch 1/3 (Beta: 0.25): 100%|██████████| 334/334 [00:50<00:00,  6.66it/s]\n"
     ]
    },
    {
     "name": "stdout",
     "output_type": "stream",
     "text": [
      "Epoch 1/3, Total: 534.5701, Recon: 533.3485, KL: 4.8864\n"
     ]
    },
    {
     "name": "stderr",
     "output_type": "stream",
     "text": [
      "Epoch 2/3 (Beta: 0.25): 100%|██████████| 334/334 [00:50<00:00,  6.65it/s]\n"
     ]
    },
    {
     "name": "stdout",
     "output_type": "stream",
     "text": [
      "Epoch 2/3, Total: 532.8491, Recon: 531.6291, KL: 4.8801\n"
     ]
    },
    {
     "name": "stderr",
     "output_type": "stream",
     "text": [
      "Epoch 3/3 (Beta: 0.25): 100%|██████████| 334/334 [00:50<00:00,  6.66it/s]\n"
     ]
    },
    {
     "name": "stdout",
     "output_type": "stream",
     "text": [
      "Epoch 3/3, Total: 529.7351, Recon: 528.6639, KL: 4.2847\n",
      "VAE models saved to .trained/vae_2025-07-31_11-16-42.pt\n"
     ]
    },
    {
     "name": "stderr",
     "output_type": "stream",
     "text": [
      "Epoch 1/3 (Beta: 0.0): 100%|██████████| 334/334 [00:50<00:00,  6.65it/s]\n"
     ]
    },
    {
     "name": "stdout",
     "output_type": "stream",
     "text": [
      "Epoch 1/3, Total: 529.2118, Recon: 529.2118, KL: 22.7044\n"
     ]
    },
    {
     "name": "stderr",
     "output_type": "stream",
     "text": [
      "Epoch 2/3 (Beta: 0.025): 100%|██████████| 334/334 [00:50<00:00,  6.65it/s]\n"
     ]
    },
    {
     "name": "stdout",
     "output_type": "stream",
     "text": [
      "Epoch 2/3, Total: 526.5451, Recon: 525.7972, KL: 29.9176\n"
     ]
    },
    {
     "name": "stderr",
     "output_type": "stream",
     "text": [
      "Epoch 3/3 (Beta: 0.05): 100%|██████████| 334/334 [00:50<00:00,  6.62it/s]\n"
     ]
    },
    {
     "name": "stdout",
     "output_type": "stream",
     "text": [
      "Epoch 3/3, Total: 527.1418, Recon: 526.1443, KL: 19.9512\n",
      "VAE models saved to .trained/vae_2025-07-31_11-19-13.pt\n"
     ]
    },
    {
     "name": "stderr",
     "output_type": "stream",
     "text": [
      "Epoch 1/3 (Beta: 0.075): 100%|██████████| 334/334 [00:50<00:00,  6.65it/s]\n"
     ]
    },
    {
     "name": "stdout",
     "output_type": "stream",
     "text": [
      "Epoch 1/3, Total: 526.6977, Recon: 525.5754, KL: 14.9642\n"
     ]
    },
    {
     "name": "stderr",
     "output_type": "stream",
     "text": [
      "Epoch 2/3 (Beta: 0.1): 100%|██████████| 334/334 [00:50<00:00,  6.64it/s]\n"
     ]
    },
    {
     "name": "stdout",
     "output_type": "stream",
     "text": [
      "Epoch 2/3, Total: 527.7747, Recon: 526.5770, KL: 11.9761\n"
     ]
    },
    {
     "name": "stderr",
     "output_type": "stream",
     "text": [
      "Epoch 3/3 (Beta: 0.125): 100%|██████████| 334/334 [00:50<00:00,  6.65it/s]\n"
     ]
    },
    {
     "name": "stdout",
     "output_type": "stream",
     "text": [
      "Epoch 3/3, Total: 529.3487, Recon: 528.0601, KL: 10.3093\n",
      "VAE models saved to .trained/vae_2025-07-31_11-21-44.pt\n"
     ]
    },
    {
     "name": "stderr",
     "output_type": "stream",
     "text": [
      "Epoch 1/3 (Beta: 0.15): 100%|██████████| 334/334 [00:50<00:00,  6.64it/s]\n"
     ]
    },
    {
     "name": "stdout",
     "output_type": "stream",
     "text": [
      "Epoch 1/3, Total: 525.7667, Recon: 524.6350, KL: 7.5450\n"
     ]
    },
    {
     "name": "stderr",
     "output_type": "stream",
     "text": [
      "Epoch 2/3 (Beta: 0.175): 100%|██████████| 334/334 [00:50<00:00,  6.64it/s]\n"
     ]
    },
    {
     "name": "stdout",
     "output_type": "stream",
     "text": [
      "Epoch 2/3, Total: 525.7155, Recon: 524.4504, KL: 7.2291\n"
     ]
    },
    {
     "name": "stderr",
     "output_type": "stream",
     "text": [
      "Epoch 3/3 (Beta: 0.2): 100%|██████████| 334/334 [00:50<00:00,  6.65it/s]\n"
     ]
    },
    {
     "name": "stdout",
     "output_type": "stream",
     "text": [
      "Epoch 3/3, Total: 523.7531, Recon: 522.6347, KL: 5.5924\n",
      "VAE models saved to .trained/vae_2025-07-31_11-24-15.pt\n"
     ]
    },
    {
     "name": "stderr",
     "output_type": "stream",
     "text": [
      "Epoch 1/3 (Beta: 0.225): 100%|██████████| 334/334 [00:50<00:00,  6.65it/s]\n"
     ]
    },
    {
     "name": "stdout",
     "output_type": "stream",
     "text": [
      "Epoch 1/3, Total: 524.7057, Recon: 523.5360, KL: 5.1988\n"
     ]
    },
    {
     "name": "stderr",
     "output_type": "stream",
     "text": [
      "Epoch 2/3 (Beta: 0.25): 100%|██████████| 334/334 [00:50<00:00,  6.67it/s]\n"
     ]
    },
    {
     "name": "stdout",
     "output_type": "stream",
     "text": [
      "Epoch 2/3, Total: 524.6595, Recon: 523.3260, KL: 5.3340\n"
     ]
    },
    {
     "name": "stderr",
     "output_type": "stream",
     "text": [
      "Epoch 3/3 (Beta: 0.25): 100%|██████████| 334/334 [00:50<00:00,  6.63it/s]\n"
     ]
    },
    {
     "name": "stdout",
     "output_type": "stream",
     "text": [
      "Epoch 3/3, Total: 524.2545, Recon: 522.9469, KL: 5.2302\n",
      "VAE models saved to .trained/vae_2025-07-31_11-26-45.pt\n"
     ]
    },
    {
     "name": "stderr",
     "output_type": "stream",
     "text": [
      "Epoch 1/3 (Beta: 0.25): 100%|██████████| 334/334 [00:50<00:00,  6.65it/s]\n"
     ]
    },
    {
     "name": "stdout",
     "output_type": "stream",
     "text": [
      "Epoch 1/3, Total: 523.6464, Recon: 522.5299, KL: 4.4659\n"
     ]
    },
    {
     "name": "stderr",
     "output_type": "stream",
     "text": [
      "Epoch 2/3 (Beta: 0.25): 100%|██████████| 334/334 [00:50<00:00,  6.64it/s]\n"
     ]
    },
    {
     "name": "stdout",
     "output_type": "stream",
     "text": [
      "Epoch 2/3, Total: 524.3109, Recon: 522.6667, KL: 6.5771\n"
     ]
    },
    {
     "name": "stderr",
     "output_type": "stream",
     "text": [
      "Epoch 3/3 (Beta: 0.25): 100%|██████████| 334/334 [00:50<00:00,  6.66it/s]\n"
     ]
    },
    {
     "name": "stdout",
     "output_type": "stream",
     "text": [
      "Epoch 3/3, Total: 524.5133, Recon: 523.4296, KL: 4.3347\n",
      "VAE models saved to .trained/vae_2025-07-31_11-29-16.pt\n"
     ]
    },
    {
     "name": "stderr",
     "output_type": "stream",
     "text": [
      "Epoch 1/3 (Beta: 0.0): 100%|██████████| 334/334 [00:50<00:00,  6.64it/s]\n"
     ]
    },
    {
     "name": "stdout",
     "output_type": "stream",
     "text": [
      "Epoch 1/3, Total: 520.9490, Recon: 520.9490, KL: 8.5243\n"
     ]
    },
    {
     "name": "stderr",
     "output_type": "stream",
     "text": [
      "Epoch 2/3 (Beta: 0.025): 100%|██████████| 334/334 [00:50<00:00,  6.65it/s]\n"
     ]
    },
    {
     "name": "stdout",
     "output_type": "stream",
     "text": [
      "Epoch 2/3, Total: 520.1971, Recon: 519.6744, KL: 20.9067\n"
     ]
    },
    {
     "name": "stderr",
     "output_type": "stream",
     "text": [
      "Epoch 3/3 (Beta: 0.05): 100%|██████████| 334/334 [00:50<00:00,  6.63it/s]\n"
     ]
    },
    {
     "name": "stdout",
     "output_type": "stream",
     "text": [
      "Epoch 3/3, Total: 521.8550, Recon: 520.9866, KL: 17.3670\n",
      "VAE models saved to .trained/vae_2025-07-31_11-31-47.pt\n"
     ]
    },
    {
     "name": "stderr",
     "output_type": "stream",
     "text": [
      "Epoch 1/3 (Beta: 0.075): 100%|██████████| 334/334 [00:50<00:00,  6.66it/s]\n"
     ]
    },
    {
     "name": "stdout",
     "output_type": "stream",
     "text": [
      "Epoch 1/3, Total: 520.2193, Recon: 519.3186, KL: 12.0095\n"
     ]
    },
    {
     "name": "stderr",
     "output_type": "stream",
     "text": [
      "Epoch 2/3 (Beta: 0.1): 100%|██████████| 334/334 [00:50<00:00,  6.67it/s]\n"
     ]
    },
    {
     "name": "stdout",
     "output_type": "stream",
     "text": [
      "Epoch 2/3, Total: 526.3330, Recon: 525.3492, KL: 9.8378\n"
     ]
    },
    {
     "name": "stderr",
     "output_type": "stream",
     "text": [
      "Epoch 3/3 (Beta: 0.125): 100%|██████████| 334/334 [00:50<00:00,  6.64it/s]\n"
     ]
    },
    {
     "name": "stdout",
     "output_type": "stream",
     "text": [
      "Epoch 3/3, Total: 523.3167, Recon: 522.1148, KL: 9.6150\n",
      "VAE models saved to .trained/vae_2025-07-31_11-34-18.pt\n"
     ]
    },
    {
     "name": "stderr",
     "output_type": "stream",
     "text": [
      "Epoch 1/3 (Beta: 0.15): 100%|██████████| 334/334 [00:50<00:00,  6.64it/s]\n"
     ]
    },
    {
     "name": "stdout",
     "output_type": "stream",
     "text": [
      "Epoch 1/3, Total: 521.1256, Recon: 519.9805, KL: 7.6338\n"
     ]
    },
    {
     "name": "stderr",
     "output_type": "stream",
     "text": [
      "Epoch 2/3 (Beta: 0.175): 100%|██████████| 334/334 [00:50<00:00,  6.63it/s]\n"
     ]
    },
    {
     "name": "stdout",
     "output_type": "stream",
     "text": [
      "Epoch 2/3, Total: 520.1844, Recon: 519.0682, KL: 6.3787\n"
     ]
    },
    {
     "name": "stderr",
     "output_type": "stream",
     "text": [
      "Epoch 3/3 (Beta: 0.2): 100%|██████████| 334/334 [00:50<00:00,  6.64it/s]\n"
     ]
    },
    {
     "name": "stdout",
     "output_type": "stream",
     "text": [
      "Epoch 3/3, Total: 519.6160, Recon: 518.3254, KL: 6.4528\n",
      "VAE models saved to .trained/vae_2025-07-31_11-36-49.pt\n"
     ]
    },
    {
     "name": "stderr",
     "output_type": "stream",
     "text": [
      "Epoch 1/3 (Beta: 0.225): 100%|██████████| 334/334 [00:50<00:00,  6.64it/s]\n"
     ]
    },
    {
     "name": "stdout",
     "output_type": "stream",
     "text": [
      "Epoch 1/3, Total: 520.4887, Recon: 519.2987, KL: 5.2892\n"
     ]
    },
    {
     "name": "stderr",
     "output_type": "stream",
     "text": [
      "Epoch 2/3 (Beta: 0.25): 100%|██████████| 334/334 [00:50<00:00,  6.66it/s]\n"
     ]
    },
    {
     "name": "stdout",
     "output_type": "stream",
     "text": [
      "Epoch 2/3, Total: 518.3911, Recon: 517.1833, KL: 4.8313\n"
     ]
    },
    {
     "name": "stderr",
     "output_type": "stream",
     "text": [
      "Epoch 3/3 (Beta: 0.25): 100%|██████████| 334/334 [00:50<00:00,  6.64it/s]\n"
     ]
    },
    {
     "name": "stdout",
     "output_type": "stream",
     "text": [
      "Epoch 3/3, Total: 520.2119, Recon: 519.0909, KL: 4.4839\n",
      "VAE models saved to .trained/vae_2025-07-31_11-39-19.pt\n"
     ]
    },
    {
     "name": "stderr",
     "output_type": "stream",
     "text": [
      "Epoch 1/3 (Beta: 0.25): 100%|██████████| 334/334 [00:50<00:00,  6.66it/s]\n"
     ]
    },
    {
     "name": "stdout",
     "output_type": "stream",
     "text": [
      "Epoch 1/3, Total: 517.9440, Recon: 516.9100, KL: 4.1360\n"
     ]
    },
    {
     "name": "stderr",
     "output_type": "stream",
     "text": [
      "Epoch 2/3 (Beta: 0.25): 100%|██████████| 334/334 [00:50<00:00,  6.64it/s]\n"
     ]
    },
    {
     "name": "stdout",
     "output_type": "stream",
     "text": [
      "Epoch 2/3, Total: 516.5516, Recon: 515.4047, KL: 4.5876\n"
     ]
    },
    {
     "name": "stderr",
     "output_type": "stream",
     "text": [
      "Epoch 3/3 (Beta: 0.25): 100%|██████████| 334/334 [00:50<00:00,  6.67it/s]\n"
     ]
    },
    {
     "name": "stdout",
     "output_type": "stream",
     "text": [
      "Epoch 3/3, Total: 520.1546, Recon: 519.0087, KL: 4.5838\n",
      "VAE models saved to .trained/vae_2025-07-31_11-41-50.pt\n"
     ]
    },
    {
     "name": "stderr",
     "output_type": "stream",
     "text": [
      "Epoch 1/3 (Beta: 0.0): 100%|██████████| 334/334 [00:50<00:00,  6.66it/s]\n"
     ]
    },
    {
     "name": "stdout",
     "output_type": "stream",
     "text": [
      "Epoch 1/3, Total: 515.3133, Recon: 515.3133, KL: 26.0278\n"
     ]
    },
    {
     "name": "stderr",
     "output_type": "stream",
     "text": [
      "Epoch 2/3 (Beta: 0.025): 100%|██████████| 334/334 [00:57<00:00,  5.83it/s]\n"
     ]
    },
    {
     "name": "stdout",
     "output_type": "stream",
     "text": [
      "Epoch 2/3, Total: 514.9019, Recon: 514.2800, KL: 24.8738\n"
     ]
    },
    {
     "name": "stderr",
     "output_type": "stream",
     "text": [
      "Epoch 3/3 (Beta: 0.05): 100%|██████████| 334/334 [00:50<00:00,  6.65it/s]\n"
     ]
    },
    {
     "name": "stdout",
     "output_type": "stream",
     "text": [
      "Epoch 3/3, Total: 516.4119, Recon: 515.5252, KL: 17.7323\n",
      "VAE models saved to .trained/vae_2025-07-31_11-44-28.pt\n"
     ]
    },
    {
     "name": "stderr",
     "output_type": "stream",
     "text": [
      "Epoch 1/3 (Beta: 0.075): 100%|██████████| 334/334 [00:50<00:00,  6.66it/s]\n"
     ]
    },
    {
     "name": "stdout",
     "output_type": "stream",
     "text": [
      "Epoch 1/3, Total: 515.5961, Recon: 514.6607, KL: 12.4714\n"
     ]
    },
    {
     "name": "stderr",
     "output_type": "stream",
     "text": [
      "Epoch 2/3 (Beta: 0.1): 100%|██████████| 334/334 [00:50<00:00,  6.64it/s]\n"
     ]
    },
    {
     "name": "stdout",
     "output_type": "stream",
     "text": [
      "Epoch 2/3, Total: 514.7858, Recon: 513.6964, KL: 10.8936\n"
     ]
    },
    {
     "name": "stderr",
     "output_type": "stream",
     "text": [
      "Epoch 3/3 (Beta: 0.125): 100%|██████████| 334/334 [00:50<00:00,  6.68it/s]\n"
     ]
    },
    {
     "name": "stdout",
     "output_type": "stream",
     "text": [
      "Epoch 3/3, Total: 515.0040, Recon: 513.9279, KL: 8.6090\n",
      "VAE models saved to .trained/vae_2025-07-31_11-46-58.pt\n"
     ]
    },
    {
     "name": "stderr",
     "output_type": "stream",
     "text": [
      "Epoch 1/3 (Beta: 0.15): 100%|██████████| 334/334 [00:50<00:00,  6.64it/s]\n"
     ]
    },
    {
     "name": "stdout",
     "output_type": "stream",
     "text": [
      "Epoch 1/3, Total: 513.5499, Recon: 512.4519, KL: 7.3198\n"
     ]
    },
    {
     "name": "stderr",
     "output_type": "stream",
     "text": [
      "Epoch 2/3 (Beta: 0.175): 100%|██████████| 334/334 [00:50<00:00,  6.66it/s]\n"
     ]
    },
    {
     "name": "stdout",
     "output_type": "stream",
     "text": [
      "Epoch 2/3, Total: 513.5035, Recon: 512.1870, KL: 7.5227\n"
     ]
    },
    {
     "name": "stderr",
     "output_type": "stream",
     "text": [
      "Epoch 3/3 (Beta: 0.2): 100%|██████████| 334/334 [00:50<00:00,  6.66it/s]\n"
     ]
    },
    {
     "name": "stdout",
     "output_type": "stream",
     "text": [
      "Epoch 3/3, Total: 515.0564, Recon: 513.8977, KL: 5.7936\n",
      "VAE models saved to .trained/vae_2025-07-31_11-49-29.pt\n"
     ]
    },
    {
     "name": "stderr",
     "output_type": "stream",
     "text": [
      "Epoch 1/3 (Beta: 0.225): 100%|██████████| 334/334 [00:51<00:00,  6.53it/s]\n"
     ]
    },
    {
     "name": "stdout",
     "output_type": "stream",
     "text": [
      "Epoch 1/3, Total: 514.2161, Recon: 512.9162, KL: 5.7771\n"
     ]
    },
    {
     "name": "stderr",
     "output_type": "stream",
     "text": [
      "Epoch 2/3 (Beta: 0.25): 100%|██████████| 334/334 [00:50<00:00,  6.68it/s]\n"
     ]
    },
    {
     "name": "stdout",
     "output_type": "stream",
     "text": [
      "Epoch 2/3, Total: 517.7285, Recon: 516.4558, KL: 5.0908\n"
     ]
    },
    {
     "name": "stderr",
     "output_type": "stream",
     "text": [
      "Epoch 3/3 (Beta: 0.25): 100%|██████████| 334/334 [00:50<00:00,  6.65it/s]\n"
     ]
    },
    {
     "name": "stdout",
     "output_type": "stream",
     "text": [
      "Epoch 3/3, Total: 517.4086, Recon: 516.2426, KL: 4.6640\n",
      "VAE models saved to .trained/vae_2025-07-31_11-52-00.pt\n"
     ]
    },
    {
     "name": "stderr",
     "output_type": "stream",
     "text": [
      "Epoch 1/3 (Beta: 0.25): 100%|██████████| 334/334 [00:50<00:00,  6.66it/s]\n"
     ]
    },
    {
     "name": "stdout",
     "output_type": "stream",
     "text": [
      "Epoch 1/3, Total: 516.2431, Recon: 515.0764, KL: 4.6668\n"
     ]
    },
    {
     "name": "stderr",
     "output_type": "stream",
     "text": [
      "Epoch 2/3 (Beta: 0.25): 100%|██████████| 334/334 [00:50<00:00,  6.65it/s]\n"
     ]
    },
    {
     "name": "stdout",
     "output_type": "stream",
     "text": [
      "Epoch 2/3, Total: 511.6426, Recon: 510.5517, KL: 4.3638\n"
     ]
    },
    {
     "name": "stderr",
     "output_type": "stream",
     "text": [
      "Epoch 3/3 (Beta: 0.25): 100%|██████████| 334/334 [00:50<00:00,  6.63it/s]\n"
     ]
    },
    {
     "name": "stdout",
     "output_type": "stream",
     "text": [
      "Epoch 3/3, Total: 512.7266, Recon: 511.6806, KL: 4.1839\n",
      "VAE models saved to .trained/vae_2025-07-31_11-54-31.pt\n"
     ]
    },
    {
     "name": "stderr",
     "output_type": "stream",
     "text": [
      "Epoch 1/3 (Beta: 0.0): 100%|██████████| 334/334 [00:50<00:00,  6.66it/s]\n"
     ]
    },
    {
     "name": "stdout",
     "output_type": "stream",
     "text": [
      "Epoch 1/3, Total: 511.0629, Recon: 511.0629, KL: 25.8226\n"
     ]
    },
    {
     "name": "stderr",
     "output_type": "stream",
     "text": [
      "Epoch 2/3 (Beta: 0.025): 100%|██████████| 334/334 [00:50<00:00,  6.63it/s]\n"
     ]
    },
    {
     "name": "stdout",
     "output_type": "stream",
     "text": [
      "Epoch 2/3, Total: 515.7677, Recon: 515.0238, KL: 29.7524\n"
     ]
    },
    {
     "name": "stderr",
     "output_type": "stream",
     "text": [
      "Epoch 3/3 (Beta: 0.05): 100%|██████████| 334/334 [00:50<00:00,  6.65it/s]\n"
     ]
    },
    {
     "name": "stdout",
     "output_type": "stream",
     "text": [
      "Epoch 3/3, Total: 512.7480, Recon: 511.8809, KL: 17.3423\n",
      "VAE models saved to .trained/vae_2025-07-31_11-57-02.pt\n"
     ]
    },
    {
     "name": "stderr",
     "output_type": "stream",
     "text": [
      "Epoch 1/3 (Beta: 0.075): 100%|██████████| 334/334 [00:50<00:00,  6.64it/s]\n"
     ]
    },
    {
     "name": "stdout",
     "output_type": "stream",
     "text": [
      "Epoch 1/3, Total: 513.6688, Recon: 512.7718, KL: 11.9595\n"
     ]
    },
    {
     "name": "stderr",
     "output_type": "stream",
     "text": [
      "Epoch 2/3 (Beta: 0.1): 100%|██████████| 334/334 [00:50<00:00,  6.63it/s]\n"
     ]
    },
    {
     "name": "stdout",
     "output_type": "stream",
     "text": [
      "Epoch 2/3, Total: 512.9011, Recon: 511.8503, KL: 10.5079\n"
     ]
    },
    {
     "name": "stderr",
     "output_type": "stream",
     "text": [
      "Epoch 3/3 (Beta: 0.125): 100%|██████████| 334/334 [00:50<00:00,  6.66it/s]\n"
     ]
    },
    {
     "name": "stdout",
     "output_type": "stream",
     "text": [
      "Epoch 3/3, Total: 510.9327, Recon: 509.8464, KL: 8.6901\n",
      "VAE models saved to .trained/vae_2025-07-31_11-59-33.pt\n"
     ]
    },
    {
     "name": "stderr",
     "output_type": "stream",
     "text": [
      "Epoch 1/3 (Beta: 0.15): 100%|██████████| 334/334 [00:50<00:00,  6.63it/s]\n"
     ]
    },
    {
     "name": "stdout",
     "output_type": "stream",
     "text": [
      "Epoch 1/3, Total: 510.7632, Recon: 509.6789, KL: 7.2287\n"
     ]
    },
    {
     "name": "stderr",
     "output_type": "stream",
     "text": [
      "Epoch 2/3 (Beta: 0.175): 100%|██████████| 334/334 [00:50<00:00,  6.64it/s]\n"
     ]
    },
    {
     "name": "stdout",
     "output_type": "stream",
     "text": [
      "Epoch 2/3, Total: 509.3638, Recon: 508.2741, KL: 6.2265\n"
     ]
    },
    {
     "name": "stderr",
     "output_type": "stream",
     "text": [
      "Epoch 3/3 (Beta: 0.2): 100%|██████████| 334/334 [00:50<00:00,  6.65it/s]\n"
     ]
    },
    {
     "name": "stdout",
     "output_type": "stream",
     "text": [
      "Epoch 3/3, Total: 511.9776, Recon: 510.8356, KL: 5.7099\n",
      "VAE models saved to .trained/vae_2025-07-31_12-02-04.pt\n"
     ]
    },
    {
     "name": "stderr",
     "output_type": "stream",
     "text": [
      "Epoch 1/3 (Beta: 0.225): 100%|██████████| 334/334 [00:50<00:00,  6.63it/s]\n"
     ]
    },
    {
     "name": "stdout",
     "output_type": "stream",
     "text": [
      "Epoch 1/3, Total: 513.2260, Recon: 512.0658, KL: 5.1567\n"
     ]
    },
    {
     "name": "stderr",
     "output_type": "stream",
     "text": [
      "Epoch 2/3 (Beta: 0.25): 100%|██████████| 334/334 [00:50<00:00,  6.65it/s]\n"
     ]
    },
    {
     "name": "stdout",
     "output_type": "stream",
     "text": [
      "Epoch 2/3, Total: 510.6079, Recon: 509.4883, KL: 4.4783\n"
     ]
    },
    {
     "name": "stderr",
     "output_type": "stream",
     "text": [
      "Epoch 3/3 (Beta: 0.25): 100%|██████████| 334/334 [00:50<00:00,  6.62it/s]\n"
     ]
    },
    {
     "name": "stdout",
     "output_type": "stream",
     "text": [
      "Epoch 3/3, Total: 508.7736, Recon: 507.6418, KL: 4.5269\n",
      "VAE models saved to .trained/vae_2025-07-31_12-04-35.pt\n"
     ]
    },
    {
     "name": "stderr",
     "output_type": "stream",
     "text": [
      "Epoch 1/3 (Beta: 0.25): 100%|██████████| 334/334 [00:50<00:00,  6.64it/s]\n"
     ]
    },
    {
     "name": "stdout",
     "output_type": "stream",
     "text": [
      "Epoch 1/3, Total: 509.5221, Recon: 508.5197, KL: 4.0097\n"
     ]
    },
    {
     "name": "stderr",
     "output_type": "stream",
     "text": [
      "Epoch 2/3 (Beta: 0.25): 100%|██████████| 334/334 [00:50<00:00,  6.65it/s]\n"
     ]
    },
    {
     "name": "stdout",
     "output_type": "stream",
     "text": [
      "Epoch 2/3, Total: 507.5649, Recon: 506.5425, KL: 4.0894\n"
     ]
    },
    {
     "name": "stderr",
     "output_type": "stream",
     "text": [
      "Epoch 3/3 (Beta: 0.25): 100%|██████████| 334/334 [00:50<00:00,  6.65it/s]\n"
     ]
    },
    {
     "name": "stdout",
     "output_type": "stream",
     "text": [
      "Epoch 3/3, Total: 508.0656, Recon: 506.8539, KL: 4.8469\n",
      "VAE models saved to .trained/vae_2025-07-31_12-07-06.pt\n"
     ]
    },
    {
     "name": "stderr",
     "output_type": "stream",
     "text": [
      "Epoch 1/3 (Beta: 0.0): 100%|██████████| 334/334 [00:50<00:00,  6.66it/s]\n"
     ]
    },
    {
     "name": "stdout",
     "output_type": "stream",
     "text": [
      "Epoch 1/3, Total: 505.9045, Recon: 505.9045, KL: 15.1191\n"
     ]
    },
    {
     "name": "stderr",
     "output_type": "stream",
     "text": [
      "Epoch 2/3 (Beta: 0.025): 100%|██████████| 334/334 [00:50<00:00,  6.64it/s]\n"
     ]
    },
    {
     "name": "stdout",
     "output_type": "stream",
     "text": [
      "Epoch 2/3, Total: 508.7124, Recon: 508.0641, KL: 25.9311\n"
     ]
    },
    {
     "name": "stderr",
     "output_type": "stream",
     "text": [
      "Epoch 3/3 (Beta: 0.05): 100%|██████████| 334/334 [00:50<00:00,  6.63it/s]\n"
     ]
    },
    {
     "name": "stdout",
     "output_type": "stream",
     "text": [
      "Epoch 3/3, Total: 508.3264, Recon: 507.4159, KL: 18.2104\n",
      "VAE models saved to .trained/vae_2025-07-31_12-09-36.pt\n"
     ]
    },
    {
     "name": "stderr",
     "output_type": "stream",
     "text": [
      "Epoch 1/3 (Beta: 0.075): 100%|██████████| 334/334 [00:50<00:00,  6.65it/s]\n"
     ]
    },
    {
     "name": "stdout",
     "output_type": "stream",
     "text": [
      "Epoch 1/3, Total: 506.1479, Recon: 505.2088, KL: 12.5210\n"
     ]
    },
    {
     "name": "stderr",
     "output_type": "stream",
     "text": [
      "Epoch 2/3 (Beta: 0.1): 100%|██████████| 334/334 [00:50<00:00,  6.65it/s]\n"
     ]
    },
    {
     "name": "stdout",
     "output_type": "stream",
     "text": [
      "Epoch 2/3, Total: 505.6407, Recon: 504.6357, KL: 10.0501\n"
     ]
    },
    {
     "name": "stderr",
     "output_type": "stream",
     "text": [
      "Epoch 3/3 (Beta: 0.125): 100%|██████████| 334/334 [00:50<00:00,  6.65it/s]\n"
     ]
    },
    {
     "name": "stdout",
     "output_type": "stream",
     "text": [
      "Epoch 3/3, Total: 508.4279, Recon: 507.3732, KL: 8.4373\n",
      "VAE models saved to .trained/vae_2025-07-31_12-12-07.pt\n"
     ]
    },
    {
     "name": "stderr",
     "output_type": "stream",
     "text": [
      "Epoch 1/3 (Beta: 0.15): 100%|██████████| 334/334 [00:50<00:00,  6.65it/s]\n"
     ]
    },
    {
     "name": "stdout",
     "output_type": "stream",
     "text": [
      "Epoch 1/3, Total: 506.4268, Recon: 505.4118, KL: 6.7670\n"
     ]
    },
    {
     "name": "stderr",
     "output_type": "stream",
     "text": [
      "Epoch 2/3 (Beta: 0.175): 100%|██████████| 334/334 [00:50<00:00,  6.63it/s]\n"
     ]
    },
    {
     "name": "stdout",
     "output_type": "stream",
     "text": [
      "Epoch 2/3, Total: 505.7543, Recon: 504.6035, KL: 6.5758\n"
     ]
    },
    {
     "name": "stderr",
     "output_type": "stream",
     "text": [
      "Epoch 3/3 (Beta: 0.2): 100%|██████████| 334/334 [00:50<00:00,  6.65it/s]\n"
     ]
    },
    {
     "name": "stdout",
     "output_type": "stream",
     "text": [
      "Epoch 3/3, Total: 505.9972, Recon: 504.9241, KL: 5.3655\n",
      "VAE models saved to .trained/vae_2025-07-31_12-14-38.pt\n"
     ]
    },
    {
     "name": "stderr",
     "output_type": "stream",
     "text": [
      "Epoch 1/3 (Beta: 0.225): 100%|██████████| 334/334 [00:50<00:00,  6.64it/s]\n"
     ]
    },
    {
     "name": "stdout",
     "output_type": "stream",
     "text": [
      "Epoch 1/3, Total: 504.4906, Recon: 503.3402, KL: 5.1129\n"
     ]
    },
    {
     "name": "stderr",
     "output_type": "stream",
     "text": [
      "Epoch 2/3 (Beta: 0.25): 100%|██████████| 334/334 [00:50<00:00,  6.66it/s]\n"
     ]
    },
    {
     "name": "stdout",
     "output_type": "stream",
     "text": [
      "Epoch 2/3, Total: 504.7519, Recon: 503.6515, KL: 4.4015\n"
     ]
    },
    {
     "name": "stderr",
     "output_type": "stream",
     "text": [
      "Epoch 3/3 (Beta: 0.25): 100%|██████████| 334/334 [00:50<00:00,  6.64it/s]\n"
     ]
    },
    {
     "name": "stdout",
     "output_type": "stream",
     "text": [
      "Epoch 3/3, Total: 506.8016, Recon: 505.6927, KL: 4.4359\n",
      "VAE models saved to .trained/vae_2025-07-31_12-17-09.pt\n"
     ]
    },
    {
     "name": "stderr",
     "output_type": "stream",
     "text": [
      "Epoch 1/3 (Beta: 0.25): 100%|██████████| 334/334 [00:50<00:00,  6.65it/s]\n"
     ]
    },
    {
     "name": "stdout",
     "output_type": "stream",
     "text": [
      "Epoch 1/3, Total: 507.2227, Recon: 506.2112, KL: 4.0460\n"
     ]
    },
    {
     "name": "stderr",
     "output_type": "stream",
     "text": [
      "Epoch 2/3 (Beta: 0.25): 100%|██████████| 334/334 [00:50<00:00,  6.63it/s]\n"
     ]
    },
    {
     "name": "stdout",
     "output_type": "stream",
     "text": [
      "Epoch 2/3, Total: 505.9453, Recon: 504.8947, KL: 4.2023\n"
     ]
    },
    {
     "name": "stderr",
     "output_type": "stream",
     "text": [
      "Epoch 3/3 (Beta: 0.25): 100%|██████████| 334/334 [00:50<00:00,  6.66it/s]\n"
     ]
    },
    {
     "name": "stdout",
     "output_type": "stream",
     "text": [
      "Epoch 3/3, Total: 504.1371, Recon: 503.0989, KL: 4.1529\n",
      "VAE models saved to .trained/vae_2025-07-31_12-19-39.pt\n"
     ]
    },
    {
     "name": "stderr",
     "output_type": "stream",
     "text": [
      "Epoch 1/3 (Beta: 0.0): 100%|██████████| 334/334 [00:50<00:00,  6.65it/s]\n"
     ]
    },
    {
     "name": "stdout",
     "output_type": "stream",
     "text": [
      "Epoch 1/3, Total: 504.7920, Recon: 504.7920, KL: 8.1033\n"
     ]
    },
    {
     "name": "stderr",
     "output_type": "stream",
     "text": [
      "Epoch 2/3 (Beta: 0.025): 100%|██████████| 334/334 [00:50<00:00,  6.62it/s]\n"
     ]
    },
    {
     "name": "stdout",
     "output_type": "stream",
     "text": [
      "Epoch 2/3, Total: 504.1071, Recon: 503.6238, KL: 19.3315\n"
     ]
    },
    {
     "name": "stderr",
     "output_type": "stream",
     "text": [
      "Epoch 3/3 (Beta: 0.05): 100%|██████████| 334/334 [00:50<00:00,  6.64it/s]\n"
     ]
    },
    {
     "name": "stdout",
     "output_type": "stream",
     "text": [
      "Epoch 3/3, Total: 504.5755, Recon: 503.6124, KL: 19.2627\n",
      "VAE models saved to .trained/vae_2025-07-31_12-22-10.pt\n"
     ]
    },
    {
     "name": "stderr",
     "output_type": "stream",
     "text": [
      "Epoch 1/3 (Beta: 0.075): 100%|██████████| 334/334 [00:50<00:00,  6.65it/s]\n"
     ]
    },
    {
     "name": "stdout",
     "output_type": "stream",
     "text": [
      "Epoch 1/3, Total: 505.8509, Recon: 504.7457, KL: 14.7357\n"
     ]
    },
    {
     "name": "stderr",
     "output_type": "stream",
     "text": [
      "Epoch 2/3 (Beta: 0.1): 100%|██████████| 334/334 [00:50<00:00,  6.64it/s]\n"
     ]
    },
    {
     "name": "stdout",
     "output_type": "stream",
     "text": [
      "Epoch 2/3, Total: 501.5608, Recon: 500.5327, KL: 10.2806\n"
     ]
    },
    {
     "name": "stderr",
     "output_type": "stream",
     "text": [
      "Epoch 3/3 (Beta: 0.125): 100%|██████████| 334/334 [00:50<00:00,  6.66it/s]\n"
     ]
    },
    {
     "name": "stdout",
     "output_type": "stream",
     "text": [
      "Epoch 3/3, Total: 503.6055, Recon: 502.4685, KL: 9.0962\n",
      "VAE models saved to .trained/vae_2025-07-31_12-24-41.pt\n"
     ]
    },
    {
     "name": "stderr",
     "output_type": "stream",
     "text": [
      "Epoch 1/3 (Beta: 0.15): 100%|██████████| 334/334 [00:50<00:00,  6.63it/s]\n"
     ]
    },
    {
     "name": "stdout",
     "output_type": "stream",
     "text": [
      "Epoch 1/3, Total: 501.9750, Recon: 500.9156, KL: 7.0625\n"
     ]
    },
    {
     "name": "stderr",
     "output_type": "stream",
     "text": [
      "Epoch 2/3 (Beta: 0.175): 100%|██████████| 334/334 [00:50<00:00,  6.64it/s]\n"
     ]
    },
    {
     "name": "stdout",
     "output_type": "stream",
     "text": [
      "Epoch 2/3, Total: 501.7485, Recon: 500.5407, KL: 6.9015\n"
     ]
    },
    {
     "name": "stderr",
     "output_type": "stream",
     "text": [
      "Epoch 3/3 (Beta: 0.2): 100%|██████████| 334/334 [00:50<00:00,  6.64it/s]\n"
     ]
    },
    {
     "name": "stdout",
     "output_type": "stream",
     "text": [
      "Epoch 3/3, Total: 502.3272, Recon: 501.0924, KL: 6.1739\n",
      "VAE models saved to .trained/vae_2025-07-31_12-27-12.pt\n"
     ]
    },
    {
     "name": "stderr",
     "output_type": "stream",
     "text": [
      "Epoch 1/3 (Beta: 0.225): 100%|██████████| 334/334 [00:50<00:00,  6.64it/s]\n"
     ]
    },
    {
     "name": "stdout",
     "output_type": "stream",
     "text": [
      "Epoch 1/3, Total: 499.9062, Recon: 498.6287, KL: 5.6781\n"
     ]
    },
    {
     "name": "stderr",
     "output_type": "stream",
     "text": [
      "Epoch 2/3 (Beta: 0.25): 100%|██████████| 334/334 [00:50<00:00,  6.66it/s]\n"
     ]
    },
    {
     "name": "stdout",
     "output_type": "stream",
     "text": [
      "Epoch 2/3, Total: 500.2329, Recon: 498.9394, KL: 5.1739\n"
     ]
    },
    {
     "name": "stderr",
     "output_type": "stream",
     "text": [
      "Epoch 3/3 (Beta: 0.25): 100%|██████████| 334/334 [00:50<00:00,  6.63it/s]\n"
     ]
    },
    {
     "name": "stdout",
     "output_type": "stream",
     "text": [
      "Epoch 3/3, Total: 500.5645, Recon: 499.4032, KL: 4.6453\n",
      "VAE models saved to .trained/vae_2025-07-31_12-29-43.pt\n"
     ]
    },
    {
     "name": "stderr",
     "output_type": "stream",
     "text": [
      "Epoch 1/3 (Beta: 0.25): 100%|██████████| 334/334 [00:50<00:00,  6.65it/s]\n"
     ]
    },
    {
     "name": "stdout",
     "output_type": "stream",
     "text": [
      "Epoch 1/3, Total: 500.7865, Recon: 499.4862, KL: 5.2009\n"
     ]
    },
    {
     "name": "stderr",
     "output_type": "stream",
     "text": [
      "Epoch 2/3 (Beta: 0.25): 100%|██████████| 334/334 [00:50<00:00,  6.64it/s]\n"
     ]
    },
    {
     "name": "stdout",
     "output_type": "stream",
     "text": [
      "Epoch 2/3, Total: 500.1514, Recon: 498.9180, KL: 4.9335\n"
     ]
    },
    {
     "name": "stderr",
     "output_type": "stream",
     "text": [
      "Epoch 3/3 (Beta: 0.25): 100%|██████████| 334/334 [00:50<00:00,  6.60it/s]\n"
     ]
    },
    {
     "name": "stdout",
     "output_type": "stream",
     "text": [
      "Epoch 3/3, Total: 499.3424, Recon: 498.0910, KL: 5.0056\n",
      "VAE models saved to .trained/vae_2025-07-31_12-32-14.pt\n"
     ]
    },
    {
     "name": "stderr",
     "output_type": "stream",
     "text": [
      "Epoch 1/3 (Beta: 0.0): 100%|██████████| 334/334 [00:50<00:00,  6.66it/s]\n"
     ]
    },
    {
     "name": "stdout",
     "output_type": "stream",
     "text": [
      "Epoch 1/3, Total: 499.0402, Recon: 499.0402, KL: 11.6719\n"
     ]
    },
    {
     "name": "stderr",
     "output_type": "stream",
     "text": [
      "Epoch 2/3 (Beta: 0.025): 100%|██████████| 334/334 [00:50<00:00,  6.64it/s]\n"
     ]
    },
    {
     "name": "stdout",
     "output_type": "stream",
     "text": [
      "Epoch 2/3, Total: 496.7907, Recon: 496.2023, KL: 23.5372\n"
     ]
    },
    {
     "name": "stderr",
     "output_type": "stream",
     "text": [
      "Epoch 3/3 (Beta: 0.05): 100%|██████████| 334/334 [00:50<00:00,  6.65it/s]\n"
     ]
    },
    {
     "name": "stdout",
     "output_type": "stream",
     "text": [
      "Epoch 3/3, Total: 494.9300, Recon: 494.0847, KL: 16.9068\n",
      "VAE models saved to .trained/vae_2025-07-31_12-34-45.pt\n"
     ]
    },
    {
     "name": "stderr",
     "output_type": "stream",
     "text": [
      "Epoch 1/3 (Beta: 0.075): 100%|██████████| 334/334 [00:50<00:00,  6.65it/s]\n"
     ]
    },
    {
     "name": "stdout",
     "output_type": "stream",
     "text": [
      "Epoch 1/3, Total: 496.5178, Recon: 495.5570, KL: 12.8105\n"
     ]
    },
    {
     "name": "stderr",
     "output_type": "stream",
     "text": [
      "Epoch 2/3 (Beta: 0.1): 100%|██████████| 334/334 [00:50<00:00,  6.65it/s]\n"
     ]
    },
    {
     "name": "stdout",
     "output_type": "stream",
     "text": [
      "Epoch 2/3, Total: 496.8810, Recon: 495.8006, KL: 10.8047\n"
     ]
    },
    {
     "name": "stderr",
     "output_type": "stream",
     "text": [
      "Epoch 3/3 (Beta: 0.125): 100%|██████████| 334/334 [00:50<00:00,  6.65it/s]\n"
     ]
    },
    {
     "name": "stdout",
     "output_type": "stream",
     "text": [
      "Epoch 3/3, Total: 499.9175, Recon: 498.7989, KL: 8.9492\n",
      "VAE models saved to .trained/vae_2025-07-31_12-37-15.pt\n"
     ]
    },
    {
     "name": "stderr",
     "output_type": "stream",
     "text": [
      "Epoch 1/3 (Beta: 0.15): 100%|██████████| 334/334 [00:50<00:00,  6.63it/s]\n"
     ]
    },
    {
     "name": "stdout",
     "output_type": "stream",
     "text": [
      "Epoch 1/3, Total: 496.6285, Recon: 495.4117, KL: 8.1120\n"
     ]
    },
    {
     "name": "stderr",
     "output_type": "stream",
     "text": [
      "Epoch 2/3 (Beta: 0.175): 100%|██████████| 334/334 [00:50<00:00,  6.65it/s]\n"
     ]
    },
    {
     "name": "stdout",
     "output_type": "stream",
     "text": [
      "Epoch 2/3, Total: 495.8974, Recon: 494.6900, KL: 6.8995\n"
     ]
    },
    {
     "name": "stderr",
     "output_type": "stream",
     "text": [
      "Epoch 3/3 (Beta: 0.2): 100%|██████████| 334/334 [00:50<00:00,  6.63it/s]\n"
     ]
    },
    {
     "name": "stdout",
     "output_type": "stream",
     "text": [
      "Epoch 3/3, Total: 498.0646, Recon: 496.9786, KL: 5.4298\n",
      "VAE models saved to .trained/vae_2025-07-31_12-39-46.pt\n"
     ]
    },
    {
     "name": "stderr",
     "output_type": "stream",
     "text": [
      "Epoch 1/3 (Beta: 0.225): 100%|██████████| 334/334 [00:50<00:00,  6.64it/s]\n"
     ]
    },
    {
     "name": "stdout",
     "output_type": "stream",
     "text": [
      "Epoch 1/3, Total: 496.5303, Recon: 495.1395, KL: 6.1813\n"
     ]
    },
    {
     "name": "stderr",
     "output_type": "stream",
     "text": [
      "Epoch 2/3 (Beta: 0.25): 100%|██████████| 334/334 [00:50<00:00,  6.65it/s]\n"
     ]
    },
    {
     "name": "stdout",
     "output_type": "stream",
     "text": [
      "Epoch 2/3, Total: 497.5964, Recon: 496.1659, KL: 5.7221\n"
     ]
    },
    {
     "name": "stderr",
     "output_type": "stream",
     "text": [
      "Epoch 3/3 (Beta: 0.25): 100%|██████████| 334/334 [00:50<00:00,  6.64it/s]\n"
     ]
    },
    {
     "name": "stdout",
     "output_type": "stream",
     "text": [
      "Epoch 3/3, Total: 498.3082, Recon: 497.0139, KL: 5.1774\n",
      "VAE models saved to .trained/vae_2025-07-31_12-42-17.pt\n"
     ]
    },
    {
     "name": "stderr",
     "output_type": "stream",
     "text": [
      "Epoch 1/3 (Beta: 0.25): 100%|██████████| 334/334 [00:50<00:00,  6.63it/s]\n"
     ]
    },
    {
     "name": "stdout",
     "output_type": "stream",
     "text": [
      "Epoch 1/3, Total: 495.5858, Recon: 494.3915, KL: 4.7772\n"
     ]
    },
    {
     "name": "stderr",
     "output_type": "stream",
     "text": [
      "Epoch 2/3 (Beta: 0.25): 100%|██████████| 334/334 [01:00<00:00,  5.50it/s]\n"
     ]
    },
    {
     "name": "stdout",
     "output_type": "stream",
     "text": [
      "Epoch 2/3, Total: 495.6200, Recon: 494.4558, KL: 4.6568\n"
     ]
    },
    {
     "name": "stderr",
     "output_type": "stream",
     "text": [
      "Epoch 3/3 (Beta: 0.25): 100%|██████████| 334/334 [00:50<00:00,  6.64it/s]\n"
     ]
    },
    {
     "name": "stdout",
     "output_type": "stream",
     "text": [
      "Epoch 3/3, Total: 496.5605, Recon: 495.4581, KL: 4.4096\n",
      "VAE models saved to .trained/vae_2025-07-31_12-44-59.pt\n"
     ]
    },
    {
     "name": "stderr",
     "output_type": "stream",
     "text": [
      "Epoch 1/3 (Beta: 0.0): 100%|██████████| 334/334 [00:50<00:00,  6.67it/s]\n"
     ]
    },
    {
     "name": "stdout",
     "output_type": "stream",
     "text": [
      "Epoch 1/3, Total: 493.2388, Recon: 493.2388, KL: 10.8594\n"
     ]
    },
    {
     "name": "stderr",
     "output_type": "stream",
     "text": [
      "Epoch 2/3 (Beta: 0.025): 100%|██████████| 334/334 [00:50<00:00,  6.64it/s]\n"
     ]
    },
    {
     "name": "stdout",
     "output_type": "stream",
     "text": [
      "Epoch 2/3, Total: 493.4070, Recon: 492.8489, KL: 22.3267\n"
     ]
    },
    {
     "name": "stderr",
     "output_type": "stream",
     "text": [
      "Epoch 3/3 (Beta: 0.05): 100%|██████████| 334/334 [00:50<00:00,  6.64it/s]\n"
     ]
    },
    {
     "name": "stdout",
     "output_type": "stream",
     "text": [
      "Epoch 3/3, Total: 492.9909, Recon: 492.1064, KL: 17.6902\n",
      "VAE models saved to .trained/vae_2025-07-31_12-47-29.pt\n"
     ]
    },
    {
     "name": "stderr",
     "output_type": "stream",
     "text": [
      "Epoch 1/3 (Beta: 0.075): 100%|██████████| 334/334 [00:50<00:00,  6.63it/s]\n"
     ]
    },
    {
     "name": "stdout",
     "output_type": "stream",
     "text": [
      "Epoch 1/3, Total: 493.1309, Recon: 492.0696, KL: 14.1495\n"
     ]
    },
    {
     "name": "stderr",
     "output_type": "stream",
     "text": [
      "Epoch 2/3 (Beta: 0.1): 100%|██████████| 334/334 [00:50<00:00,  6.64it/s]\n"
     ]
    },
    {
     "name": "stdout",
     "output_type": "stream",
     "text": [
      "Epoch 2/3, Total: 492.9469, Recon: 491.8397, KL: 11.0712\n"
     ]
    },
    {
     "name": "stderr",
     "output_type": "stream",
     "text": [
      "Epoch 3/3 (Beta: 0.125): 100%|██████████| 334/334 [00:50<00:00,  6.64it/s]\n"
     ]
    },
    {
     "name": "stdout",
     "output_type": "stream",
     "text": [
      "Epoch 3/3, Total: 493.1758, Recon: 492.0481, KL: 9.0216\n",
      "VAE models saved to .trained/vae_2025-07-31_12-50-00.pt\n"
     ]
    },
    {
     "name": "stderr",
     "output_type": "stream",
     "text": [
      "Epoch 1/3 (Beta: 0.15): 100%|██████████| 334/334 [00:50<00:00,  6.64it/s]\n"
     ]
    },
    {
     "name": "stdout",
     "output_type": "stream",
     "text": [
      "Epoch 1/3, Total: 499.4219, Recon: 498.1851, KL: 8.2456\n"
     ]
    },
    {
     "name": "stderr",
     "output_type": "stream",
     "text": [
      "Epoch 2/3 (Beta: 0.175): 100%|██████████| 334/334 [00:50<00:00,  6.66it/s]\n"
     ]
    },
    {
     "name": "stdout",
     "output_type": "stream",
     "text": [
      "Epoch 2/3, Total: 495.0410, Recon: 493.8634, KL: 6.7293\n"
     ]
    },
    {
     "name": "stderr",
     "output_type": "stream",
     "text": [
      "Epoch 3/3 (Beta: 0.2): 100%|██████████| 334/334 [00:50<00:00,  6.66it/s]\n"
     ]
    },
    {
     "name": "stdout",
     "output_type": "stream",
     "text": [
      "Epoch 3/3, Total: 491.5840, Recon: 490.3077, KL: 6.3812\n",
      "VAE models saved to .trained/vae_2025-07-31_12-52-31.pt\n"
     ]
    },
    {
     "name": "stderr",
     "output_type": "stream",
     "text": [
      "Epoch 1/3 (Beta: 0.225): 100%|██████████| 334/334 [00:50<00:00,  6.65it/s]\n"
     ]
    },
    {
     "name": "stdout",
     "output_type": "stream",
     "text": [
      "Epoch 1/3, Total: 493.5320, Recon: 492.3459, KL: 5.2716\n"
     ]
    },
    {
     "name": "stderr",
     "output_type": "stream",
     "text": [
      "Epoch 2/3 (Beta: 0.25): 100%|██████████| 334/334 [00:50<00:00,  6.66it/s]\n"
     ]
    },
    {
     "name": "stdout",
     "output_type": "stream",
     "text": [
      "Epoch 2/3, Total: 490.6120, Recon: 489.4212, KL: 4.7633\n"
     ]
    },
    {
     "name": "stderr",
     "output_type": "stream",
     "text": [
      "Epoch 3/3 (Beta: 0.25): 100%|██████████| 334/334 [00:50<00:00,  6.65it/s]\n"
     ]
    },
    {
     "name": "stdout",
     "output_type": "stream",
     "text": [
      "Epoch 3/3, Total: 491.9276, Recon: 490.7625, KL: 4.6602\n",
      "VAE models saved to .trained/vae_2025-07-31_12-55-02.pt\n"
     ]
    },
    {
     "name": "stderr",
     "output_type": "stream",
     "text": [
      "Epoch 1/3 (Beta: 0.25): 100%|██████████| 334/334 [00:50<00:00,  6.66it/s]\n"
     ]
    },
    {
     "name": "stdout",
     "output_type": "stream",
     "text": [
      "Epoch 1/3, Total: 492.2655, Recon: 491.0047, KL: 5.0433\n"
     ]
    },
    {
     "name": "stderr",
     "output_type": "stream",
     "text": [
      "Epoch 2/3 (Beta: 0.25): 100%|██████████| 334/334 [00:50<00:00,  6.64it/s]\n"
     ]
    },
    {
     "name": "stdout",
     "output_type": "stream",
     "text": [
      "Epoch 2/3, Total: 493.2592, Recon: 492.0213, KL: 4.9517\n"
     ]
    },
    {
     "name": "stderr",
     "output_type": "stream",
     "text": [
      "Epoch 3/3 (Beta: 0.25): 100%|██████████| 334/334 [00:50<00:00,  6.65it/s]\n"
     ]
    },
    {
     "name": "stdout",
     "output_type": "stream",
     "text": [
      "Epoch 3/3, Total: 490.6366, Recon: 489.4207, KL: 4.8637\n",
      "VAE models saved to .trained/vae_2025-07-31_12-57-32.pt\n"
     ]
    },
    {
     "name": "stderr",
     "output_type": "stream",
     "text": [
      "Epoch 1/3 (Beta: 0.0): 100%|██████████| 334/334 [00:50<00:00,  6.66it/s]\n"
     ]
    },
    {
     "name": "stdout",
     "output_type": "stream",
     "text": [
      "Epoch 1/3, Total: 476.5992, Recon: 476.5992, KL: 25.9815\n"
     ]
    },
    {
     "name": "stderr",
     "output_type": "stream",
     "text": [
      "Epoch 2/3 (Beta: 0.025): 100%|██████████| 334/334 [00:50<00:00,  6.66it/s]\n"
     ]
    },
    {
     "name": "stdout",
     "output_type": "stream",
     "text": [
      "Epoch 2/3, Total: 458.4513, Recon: 457.4415, KL: 40.3937\n"
     ]
    },
    {
     "name": "stderr",
     "output_type": "stream",
     "text": [
      "Epoch 3/3 (Beta: 0.05): 100%|██████████| 334/334 [00:50<00:00,  6.64it/s]\n"
     ]
    },
    {
     "name": "stdout",
     "output_type": "stream",
     "text": [
      "Epoch 3/3, Total: 453.2499, Recon: 451.8110, KL: 28.7773\n",
      "VAE models saved to .trained/vae_2025-07-31_13-00-03.pt\n"
     ]
    },
    {
     "name": "stderr",
     "output_type": "stream",
     "text": [
      "Epoch 1/3 (Beta: 0.075): 100%|██████████| 334/334 [00:50<00:00,  6.66it/s]\n"
     ]
    },
    {
     "name": "stdout",
     "output_type": "stream",
     "text": [
      "Epoch 1/3, Total: 449.6802, Recon: 448.0255, KL: 22.0621\n"
     ]
    },
    {
     "name": "stderr",
     "output_type": "stream",
     "text": [
      "Epoch 2/3 (Beta: 0.1): 100%|██████████| 334/334 [00:50<00:00,  6.65it/s]\n"
     ]
    },
    {
     "name": "stdout",
     "output_type": "stream",
     "text": [
      "Epoch 2/3, Total: 448.7568, Recon: 446.9380, KL: 18.1881\n"
     ]
    },
    {
     "name": "stderr",
     "output_type": "stream",
     "text": [
      "Epoch 3/3 (Beta: 0.125): 100%|██████████| 334/334 [00:50<00:00,  6.67it/s]\n"
     ]
    },
    {
     "name": "stdout",
     "output_type": "stream",
     "text": [
      "Epoch 3/3, Total: 446.8915, Recon: 444.9493, KL: 15.5377\n",
      "VAE models saved to .trained/vae_2025-07-31_13-02-33.pt\n"
     ]
    },
    {
     "name": "stderr",
     "output_type": "stream",
     "text": [
      "Epoch 1/3 (Beta: 0.15): 100%|██████████| 334/334 [00:55<00:00,  5.98it/s]\n"
     ]
    },
    {
     "name": "stdout",
     "output_type": "stream",
     "text": [
      "Epoch 1/3, Total: 451.6186, Recon: 449.6363, KL: 13.2150\n"
     ]
    },
    {
     "name": "stderr",
     "output_type": "stream",
     "text": [
      "Epoch 2/3 (Beta: 0.175): 100%|██████████| 334/334 [00:50<00:00,  6.66it/s]\n"
     ]
    },
    {
     "name": "stdout",
     "output_type": "stream",
     "text": [
      "Epoch 2/3, Total: 448.8548, Recon: 446.8648, KL: 11.3713\n"
     ]
    },
    {
     "name": "stderr",
     "output_type": "stream",
     "text": [
      "Epoch 3/3 (Beta: 0.2): 100%|██████████| 334/334 [00:50<00:00,  6.65it/s]\n"
     ]
    },
    {
     "name": "stdout",
     "output_type": "stream",
     "text": [
      "Epoch 3/3, Total: 444.6858, Recon: 442.6358, KL: 10.2500\n",
      "VAE models saved to .trained/vae_2025-07-31_13-05-10.pt\n"
     ]
    },
    {
     "name": "stderr",
     "output_type": "stream",
     "text": [
      "Epoch 1/3 (Beta: 0.225): 100%|██████████| 334/334 [00:50<00:00,  6.63it/s]\n"
     ]
    },
    {
     "name": "stdout",
     "output_type": "stream",
     "text": [
      "Epoch 1/3, Total: 444.0704, Recon: 441.9756, KL: 9.3104\n"
     ]
    },
    {
     "name": "stderr",
     "output_type": "stream",
     "text": [
      "Epoch 2/3 (Beta: 0.25): 100%|██████████| 334/334 [00:50<00:00,  6.66it/s]\n"
     ]
    },
    {
     "name": "stdout",
     "output_type": "stream",
     "text": [
      "Epoch 2/3, Total: 443.4760, Recon: 441.3512, KL: 8.4993\n"
     ]
    },
    {
     "name": "stderr",
     "output_type": "stream",
     "text": [
      "Epoch 3/3 (Beta: 0.25): 100%|██████████| 334/334 [00:50<00:00,  6.64it/s]\n"
     ]
    },
    {
     "name": "stdout",
     "output_type": "stream",
     "text": [
      "Epoch 3/3, Total: 443.3313, Recon: 441.2516, KL: 8.3190\n",
      "VAE models saved to .trained/vae_2025-07-31_13-07-41.pt\n"
     ]
    },
    {
     "name": "stderr",
     "output_type": "stream",
     "text": [
      "Epoch 1/3 (Beta: 0.25): 100%|██████████| 334/334 [00:50<00:00,  6.65it/s]\n"
     ]
    },
    {
     "name": "stdout",
     "output_type": "stream",
     "text": [
      "Epoch 1/3, Total: 442.4743, Recon: 440.4853, KL: 7.9560\n"
     ]
    },
    {
     "name": "stderr",
     "output_type": "stream",
     "text": [
      "Epoch 2/3 (Beta: 0.25): 100%|██████████| 334/334 [00:50<00:00,  6.64it/s]\n"
     ]
    },
    {
     "name": "stdout",
     "output_type": "stream",
     "text": [
      "Epoch 2/3, Total: 442.7405, Recon: 440.8072, KL: 7.7334\n"
     ]
    },
    {
     "name": "stderr",
     "output_type": "stream",
     "text": [
      "Epoch 3/3 (Beta: 0.25): 100%|██████████| 334/334 [00:50<00:00,  6.64it/s]\n"
     ]
    },
    {
     "name": "stdout",
     "output_type": "stream",
     "text": [
      "Epoch 3/3, Total: 447.0646, Recon: 445.1076, KL: 7.8277\n",
      "VAE models saved to .trained/vae_2025-07-31_13-10-11.pt\n"
     ]
    },
    {
     "name": "stderr",
     "output_type": "stream",
     "text": [
      "Epoch 1/3 (Beta: 0.0): 100%|██████████| 334/334 [00:50<00:00,  6.68it/s]\n"
     ]
    },
    {
     "name": "stdout",
     "output_type": "stream",
     "text": [
      "Epoch 1/3, Total: 439.1820, Recon: 439.1820, KL: 19.6807\n"
     ]
    },
    {
     "name": "stderr",
     "output_type": "stream",
     "text": [
      "Epoch 2/3 (Beta: 0.025): 100%|██████████| 334/334 [00:50<00:00,  6.64it/s]\n"
     ]
    },
    {
     "name": "stdout",
     "output_type": "stream",
     "text": [
      "Epoch 2/3, Total: 439.3041, Recon: 438.5289, KL: 31.0067\n"
     ]
    },
    {
     "name": "stderr",
     "output_type": "stream",
     "text": [
      "Epoch 3/3 (Beta: 0.05): 100%|██████████| 334/334 [00:50<00:00,  6.65it/s]\n"
     ]
    },
    {
     "name": "stdout",
     "output_type": "stream",
     "text": [
      "Epoch 3/3, Total: 438.9965, Recon: 437.8039, KL: 23.8514\n",
      "VAE models saved to .trained/vae_2025-07-31_13-12-42.pt\n"
     ]
    },
    {
     "name": "stderr",
     "output_type": "stream",
     "text": [
      "Epoch 1/3 (Beta: 0.075): 100%|██████████| 334/334 [00:50<00:00,  6.64it/s]\n"
     ]
    },
    {
     "name": "stdout",
     "output_type": "stream",
     "text": [
      "Epoch 1/3, Total: 439.6904, Recon: 438.3403, KL: 18.0007\n"
     ]
    },
    {
     "name": "stderr",
     "output_type": "stream",
     "text": [
      "Epoch 2/3 (Beta: 0.1): 100%|██████████| 334/334 [00:50<00:00,  6.62it/s]\n"
     ]
    },
    {
     "name": "stdout",
     "output_type": "stream",
     "text": [
      "Epoch 2/3, Total: 438.0646, Recon: 436.6357, KL: 14.2890\n"
     ]
    },
    {
     "name": "stderr",
     "output_type": "stream",
     "text": [
      "Epoch 3/3 (Beta: 0.125): 100%|██████████| 334/334 [00:50<00:00,  6.66it/s]\n"
     ]
    },
    {
     "name": "stdout",
     "output_type": "stream",
     "text": [
      "Epoch 3/3, Total: 439.8237, Recon: 438.2623, KL: 12.4910\n",
      "VAE models saved to .trained/vae_2025-07-31_13-15-13.pt\n"
     ]
    },
    {
     "name": "stderr",
     "output_type": "stream",
     "text": [
      "Epoch 1/3 (Beta: 0.15): 100%|██████████| 334/334 [00:50<00:00,  6.64it/s]\n"
     ]
    },
    {
     "name": "stdout",
     "output_type": "stream",
     "text": [
      "Epoch 1/3, Total: 441.0394, Recon: 439.2867, KL: 11.6846\n"
     ]
    },
    {
     "name": "stderr",
     "output_type": "stream",
     "text": [
      "Epoch 2/3 (Beta: 0.175): 100%|██████████| 334/334 [00:50<00:00,  6.63it/s]\n"
     ]
    },
    {
     "name": "stdout",
     "output_type": "stream",
     "text": [
      "Epoch 2/3, Total: 438.8213, Recon: 437.0236, KL: 10.2727\n"
     ]
    },
    {
     "name": "stderr",
     "output_type": "stream",
     "text": [
      "Epoch 3/3 (Beta: 0.2): 100%|██████████| 334/334 [00:50<00:00,  6.64it/s]\n"
     ]
    },
    {
     "name": "stdout",
     "output_type": "stream",
     "text": [
      "Epoch 3/3, Total: 443.4083, Recon: 441.5608, KL: 9.2374\n",
      "VAE models saved to .trained/vae_2025-07-31_13-17-44.pt\n"
     ]
    },
    {
     "name": "stderr",
     "output_type": "stream",
     "text": [
      "Epoch 1/3 (Beta: 0.225): 100%|██████████| 334/334 [00:50<00:00,  6.63it/s]\n"
     ]
    },
    {
     "name": "stdout",
     "output_type": "stream",
     "text": [
      "Epoch 1/3, Total: 441.8113, Recon: 439.8451, KL: 8.7386\n"
     ]
    },
    {
     "name": "stderr",
     "output_type": "stream",
     "text": [
      "Epoch 2/3 (Beta: 0.25): 100%|██████████| 334/334 [00:50<00:00,  6.67it/s]\n"
     ]
    },
    {
     "name": "stdout",
     "output_type": "stream",
     "text": [
      "Epoch 2/3, Total: 442.5011, Recon: 440.4122, KL: 8.3555\n"
     ]
    },
    {
     "name": "stderr",
     "output_type": "stream",
     "text": [
      "Epoch 3/3 (Beta: 0.25): 100%|██████████| 334/334 [00:50<00:00,  6.64it/s]\n"
     ]
    },
    {
     "name": "stdout",
     "output_type": "stream",
     "text": [
      "Epoch 3/3, Total: 437.1966, Recon: 435.1575, KL: 8.1563\n",
      "VAE models saved to .trained/vae_2025-07-31_13-20-15.pt\n"
     ]
    },
    {
     "name": "stderr",
     "output_type": "stream",
     "text": [
      "Epoch 1/3 (Beta: 0.25): 100%|██████████| 334/334 [00:50<00:00,  6.63it/s]\n"
     ]
    },
    {
     "name": "stdout",
     "output_type": "stream",
     "text": [
      "Epoch 1/3, Total: 437.0883, Recon: 435.1733, KL: 7.6599\n"
     ]
    },
    {
     "name": "stderr",
     "output_type": "stream",
     "text": [
      "Epoch 2/3 (Beta: 0.25): 100%|██████████| 334/334 [00:58<00:00,  5.67it/s]\n"
     ]
    },
    {
     "name": "stdout",
     "output_type": "stream",
     "text": [
      "Epoch 2/3, Total: 436.3376, Recon: 434.2995, KL: 8.1525\n"
     ]
    },
    {
     "name": "stderr",
     "output_type": "stream",
     "text": [
      "Epoch 3/3 (Beta: 0.25): 100%|██████████| 334/334 [00:50<00:00,  6.58it/s]\n"
     ]
    },
    {
     "name": "stdout",
     "output_type": "stream",
     "text": [
      "Epoch 3/3, Total: 436.2140, Recon: 434.2441, KL: 7.8796\n",
      "VAE models saved to .trained/vae_2025-07-31_13-22-55.pt\n"
     ]
    },
    {
     "name": "stderr",
     "output_type": "stream",
     "text": [
      "Epoch 1/3 (Beta: 0.0): 100%|██████████| 334/334 [00:50<00:00,  6.58it/s]\n"
     ]
    },
    {
     "name": "stdout",
     "output_type": "stream",
     "text": [
      "Epoch 1/3, Total: 433.9338, Recon: 433.9338, KL: 16.4907\n"
     ]
    },
    {
     "name": "stderr",
     "output_type": "stream",
     "text": [
      "Epoch 2/3 (Beta: 0.025): 100%|██████████| 334/334 [00:50<00:00,  6.56it/s]\n"
     ]
    },
    {
     "name": "stdout",
     "output_type": "stream",
     "text": [
      "Epoch 2/3, Total: 433.0704, Recon: 432.4317, KL: 25.5495\n"
     ]
    },
    {
     "name": "stderr",
     "output_type": "stream",
     "text": [
      "Epoch 3/3 (Beta: 0.05): 100%|██████████| 334/334 [00:50<00:00,  6.58it/s]\n"
     ]
    },
    {
     "name": "stdout",
     "output_type": "stream",
     "text": [
      "Epoch 3/3, Total: 432.8884, Recon: 431.7617, KL: 22.5323\n",
      "VAE models saved to .trained/vae_2025-07-31_13-25-27.pt\n"
     ]
    },
    {
     "name": "stderr",
     "output_type": "stream",
     "text": [
      "Epoch 1/3 (Beta: 0.075): 100%|██████████| 334/334 [00:50<00:00,  6.61it/s]\n"
     ]
    },
    {
     "name": "stdout",
     "output_type": "stream",
     "text": [
      "Epoch 1/3, Total: 435.3035, Recon: 434.0365, KL: 16.8931\n"
     ]
    },
    {
     "name": "stderr",
     "output_type": "stream",
     "text": [
      "Epoch 2/3 (Beta: 0.1): 100%|██████████| 334/334 [00:50<00:00,  6.58it/s]\n"
     ]
    },
    {
     "name": "stdout",
     "output_type": "stream",
     "text": [
      "Epoch 2/3, Total: 435.4501, Recon: 433.9738, KL: 14.7634\n"
     ]
    },
    {
     "name": "stderr",
     "output_type": "stream",
     "text": [
      "Epoch 3/3 (Beta: 0.125): 100%|██████████| 334/334 [00:55<00:00,  5.98it/s]\n"
     ]
    },
    {
     "name": "stdout",
     "output_type": "stream",
     "text": [
      "Epoch 3/3, Total: 436.6289, Recon: 435.0262, KL: 12.8215\n",
      "VAE models saved to .trained/vae_2025-07-31_13-28-04.pt\n"
     ]
    },
    {
     "name": "stderr",
     "output_type": "stream",
     "text": [
      "Epoch 1/3 (Beta: 0.15):  50%|████▉     | 166/334 [01:32<01:33,  1.80it/s]\n"
     ]
    },
    {
     "ename": "KeyboardInterrupt",
     "evalue": "",
     "output_type": "error",
     "traceback": [
      "\u001B[31m---------------------------------------------------------------------------\u001B[39m",
      "\u001B[31mKeyboardInterrupt\u001B[39m                         Traceback (most recent call last)",
      "\u001B[36mCell\u001B[39m\u001B[36m \u001B[39m\u001B[32mIn[30]\u001B[39m\u001B[32m, line 2\u001B[39m\n\u001B[32m      1\u001B[39m \u001B[38;5;28;01mfor\u001B[39;00m i \u001B[38;5;129;01min\u001B[39;00m \u001B[38;5;28mrange\u001B[39m(\u001B[32m175\u001B[39m):\n\u001B[32m----> \u001B[39m\u001B[32m2\u001B[39m     \u001B[43mmodel\u001B[49m\u001B[43m.\u001B[49m\u001B[43mtrain\u001B[49m\u001B[43m(\u001B[49m\u001B[43mEPOCHS\u001B[49m\u001B[43m)\u001B[49m\n\u001B[32m      3\u001B[39m     model.save()\n\u001B[32m      5\u001B[39m model.plot_losses()\n",
      "\u001B[36mFile \u001B[39m\u001B[32mE:\\Projects\\osu\\models\\vae.py:235\u001B[39m, in \u001B[36mOsuReplayVAE.train\u001B[39m\u001B[34m(self, epochs)\u001B[39m\n\u001B[32m    232\u001B[39m epoch_recon_loss = \u001B[32m0\u001B[39m\n\u001B[32m    233\u001B[39m epoch_kl_loss = \u001B[32m0\u001B[39m\n\u001B[32m--> \u001B[39m\u001B[32m235\u001B[39m \u001B[43m\u001B[49m\u001B[38;5;28;43;01mfor\u001B[39;49;00m\u001B[43m \u001B[49m\u001B[43mbatch_x\u001B[49m\u001B[43m,\u001B[49m\u001B[43m \u001B[49m\u001B[43mbatch_y_pos\u001B[49m\u001B[43m \u001B[49m\u001B[38;5;129;43;01min\u001B[39;49;00m\u001B[43m \u001B[49m\u001B[43mtqdm\u001B[49m\u001B[43m.\u001B[49m\u001B[43mtqdm\u001B[49m\u001B[43m(\u001B[49m\n\u001B[32m    236\u001B[39m \u001B[43m        \u001B[49m\u001B[38;5;28;43mself\u001B[39;49m\u001B[43m.\u001B[49m\u001B[43mtrain_loader\u001B[49m\u001B[43m,\u001B[49m\n\u001B[32m    237\u001B[39m \u001B[43m        \u001B[49m\u001B[43mdesc\u001B[49m\u001B[43m=\u001B[49m\u001B[33;43mf\u001B[39;49m\u001B[33;43m'\u001B[39;49m\u001B[33;43mEpoch \u001B[39;49m\u001B[38;5;132;43;01m{\u001B[39;49;00m\u001B[43mepoch\u001B[49m\u001B[38;5;250;43m \u001B[39;49m\u001B[43m+\u001B[49m\u001B[38;5;250;43m \u001B[39;49m\u001B[32;43m1\u001B[39;49m\u001B[38;5;132;43;01m}\u001B[39;49;00m\u001B[33;43m/\u001B[39;49m\u001B[38;5;132;43;01m{\u001B[39;49;00m\u001B[43mepochs\u001B[49m\u001B[38;5;132;43;01m}\u001B[39;49;00m\u001B[33;43m (Beta: \u001B[39;49m\u001B[38;5;132;43;01m{\u001B[39;49;00m\u001B[38;5;28;43mself\u001B[39;49m\u001B[43m.\u001B[49m\u001B[43mannealer\u001B[49m\u001B[43m.\u001B[49m\u001B[43mcurrent\u001B[49m\u001B[43m(\u001B[49m\u001B[43m)\u001B[49m\u001B[38;5;132;43;01m}\u001B[39;49;00m\u001B[33;43m)\u001B[39;49m\u001B[33;43m'\u001B[39;49m\n\u001B[32m    238\u001B[39m \u001B[43m\u001B[49m\u001B[43m)\u001B[49m\u001B[43m:\u001B[49m\n\u001B[32m    239\u001B[39m \u001B[43m    \u001B[49m\u001B[43mbatch_x\u001B[49m\u001B[43m \u001B[49m\u001B[43m=\u001B[49m\u001B[43m \u001B[49m\u001B[43mbatch_x\u001B[49m\u001B[43m.\u001B[49m\u001B[43mto\u001B[49m\u001B[43m(\u001B[49m\u001B[38;5;28;43mself\u001B[39;49m\u001B[43m.\u001B[49m\u001B[43mdevice\u001B[49m\u001B[43m)\u001B[49m\n\u001B[32m    240\u001B[39m \u001B[43m    \u001B[49m\u001B[43mbatch_y_pos\u001B[49m\u001B[43m \u001B[49m\u001B[43m=\u001B[49m\u001B[43m \u001B[49m\u001B[43mbatch_y_pos\u001B[49m\u001B[43m.\u001B[49m\u001B[43mto\u001B[49m\u001B[43m(\u001B[49m\u001B[38;5;28;43mself\u001B[39;49m\u001B[43m.\u001B[49m\u001B[43mdevice\u001B[49m\u001B[43m)\u001B[49m\n",
      "\u001B[36mFile \u001B[39m\u001B[32mE:\\Projects\\osu\\.venv\\Lib\\site-packages\\tqdm\\std.py:1191\u001B[39m, in \u001B[36mtqdm.__iter__\u001B[39m\u001B[34m(self)\u001B[39m\n\u001B[32m   1189\u001B[39m dt = cur_t - last_print_t\n\u001B[32m   1190\u001B[39m \u001B[38;5;28;01mif\u001B[39;00m dt >= mininterval \u001B[38;5;129;01mand\u001B[39;00m cur_t >= min_start_t:\n\u001B[32m-> \u001B[39m\u001B[32m1191\u001B[39m     \u001B[38;5;28;43mself\u001B[39;49m\u001B[43m.\u001B[49m\u001B[43mupdate\u001B[49m\u001B[43m(\u001B[49m\u001B[43mn\u001B[49m\u001B[43m \u001B[49m\u001B[43m-\u001B[49m\u001B[43m \u001B[49m\u001B[43mlast_print_n\u001B[49m\u001B[43m)\u001B[49m\n\u001B[32m   1192\u001B[39m     last_print_n = \u001B[38;5;28mself\u001B[39m.last_print_n\n\u001B[32m   1193\u001B[39m     last_print_t = \u001B[38;5;28mself\u001B[39m.last_print_t\n",
      "\u001B[36mFile \u001B[39m\u001B[32mE:\\Projects\\osu\\.venv\\Lib\\site-packages\\tqdm\\std.py:1242\u001B[39m, in \u001B[36mtqdm.update\u001B[39m\u001B[34m(self, n)\u001B[39m\n\u001B[32m   1240\u001B[39m     \u001B[38;5;28mself\u001B[39m._ema_dn(dn)\n\u001B[32m   1241\u001B[39m     \u001B[38;5;28mself\u001B[39m._ema_dt(dt)\n\u001B[32m-> \u001B[39m\u001B[32m1242\u001B[39m \u001B[38;5;28;43mself\u001B[39;49m\u001B[43m.\u001B[49m\u001B[43mrefresh\u001B[49m\u001B[43m(\u001B[49m\u001B[43mlock_args\u001B[49m\u001B[43m=\u001B[49m\u001B[38;5;28;43mself\u001B[39;49m\u001B[43m.\u001B[49m\u001B[43mlock_args\u001B[49m\u001B[43m)\u001B[49m\n\u001B[32m   1243\u001B[39m \u001B[38;5;28;01mif\u001B[39;00m \u001B[38;5;28mself\u001B[39m.dynamic_miniters:\n\u001B[32m   1244\u001B[39m     \u001B[38;5;66;03m# If no `miniters` was specified, adjust automatically to the\u001B[39;00m\n\u001B[32m   1245\u001B[39m     \u001B[38;5;66;03m# maximum iteration rate seen so far between two prints.\u001B[39;00m\n\u001B[32m   1246\u001B[39m     \u001B[38;5;66;03m# e.g.: After running `tqdm.update(5)`, subsequent\u001B[39;00m\n\u001B[32m   1247\u001B[39m     \u001B[38;5;66;03m# calls to `tqdm.update()` will only cause an update after\u001B[39;00m\n\u001B[32m   1248\u001B[39m     \u001B[38;5;66;03m# at least 5 more iterations.\u001B[39;00m\n\u001B[32m   1249\u001B[39m     \u001B[38;5;28;01mif\u001B[39;00m \u001B[38;5;28mself\u001B[39m.maxinterval \u001B[38;5;129;01mand\u001B[39;00m dt >= \u001B[38;5;28mself\u001B[39m.maxinterval:\n",
      "\u001B[36mFile \u001B[39m\u001B[32mE:\\Projects\\osu\\.venv\\Lib\\site-packages\\tqdm\\std.py:1347\u001B[39m, in \u001B[36mtqdm.refresh\u001B[39m\u001B[34m(self, nolock, lock_args)\u001B[39m\n\u001B[32m   1345\u001B[39m     \u001B[38;5;28;01melse\u001B[39;00m:\n\u001B[32m   1346\u001B[39m         \u001B[38;5;28mself\u001B[39m._lock.acquire()\n\u001B[32m-> \u001B[39m\u001B[32m1347\u001B[39m \u001B[38;5;28;43mself\u001B[39;49m\u001B[43m.\u001B[49m\u001B[43mdisplay\u001B[49m\u001B[43m(\u001B[49m\u001B[43m)\u001B[49m\n\u001B[32m   1348\u001B[39m \u001B[38;5;28;01mif\u001B[39;00m \u001B[38;5;129;01mnot\u001B[39;00m nolock:\n\u001B[32m   1349\u001B[39m     \u001B[38;5;28mself\u001B[39m._lock.release()\n",
      "\u001B[36mFile \u001B[39m\u001B[32mE:\\Projects\\osu\\.venv\\Lib\\site-packages\\tqdm\\std.py:1495\u001B[39m, in \u001B[36mtqdm.display\u001B[39m\u001B[34m(self, msg, pos)\u001B[39m\n\u001B[32m   1493\u001B[39m \u001B[38;5;28;01mif\u001B[39;00m pos:\n\u001B[32m   1494\u001B[39m     \u001B[38;5;28mself\u001B[39m.moveto(pos)\n\u001B[32m-> \u001B[39m\u001B[32m1495\u001B[39m \u001B[38;5;28;43mself\u001B[39;49m\u001B[43m.\u001B[49m\u001B[43msp\u001B[49m\u001B[43m(\u001B[49m\u001B[38;5;28;43mself\u001B[39;49m\u001B[43m.\u001B[49m\u001B[34;43m__str__\u001B[39;49m\u001B[43m(\u001B[49m\u001B[43m)\u001B[49m\u001B[43m \u001B[49m\u001B[38;5;28;43;01mif\u001B[39;49;00m\u001B[43m \u001B[49m\u001B[43mmsg\u001B[49m\u001B[43m \u001B[49m\u001B[38;5;129;43;01mis\u001B[39;49;00m\u001B[43m \u001B[49m\u001B[38;5;28;43;01mNone\u001B[39;49;00m\u001B[43m \u001B[49m\u001B[38;5;28;43;01melse\u001B[39;49;00m\u001B[43m \u001B[49m\u001B[43mmsg\u001B[49m\u001B[43m)\u001B[49m\n\u001B[32m   1496\u001B[39m \u001B[38;5;28;01mif\u001B[39;00m pos:\n\u001B[32m   1497\u001B[39m     \u001B[38;5;28mself\u001B[39m.moveto(-pos)\n",
      "\u001B[36mFile \u001B[39m\u001B[32mE:\\Projects\\osu\\.venv\\Lib\\site-packages\\tqdm\\std.py:459\u001B[39m, in \u001B[36mtqdm.status_printer.<locals>.print_status\u001B[39m\u001B[34m(s)\u001B[39m\n\u001B[32m    457\u001B[39m \u001B[38;5;28;01mdef\u001B[39;00m\u001B[38;5;250m \u001B[39m\u001B[34mprint_status\u001B[39m(s):\n\u001B[32m    458\u001B[39m     len_s = disp_len(s)\n\u001B[32m--> \u001B[39m\u001B[32m459\u001B[39m     \u001B[43mfp_write\u001B[49m\u001B[43m(\u001B[49m\u001B[33;43m'\u001B[39;49m\u001B[38;5;130;43;01m\\r\u001B[39;49;00m\u001B[33;43m'\u001B[39;49m\u001B[43m \u001B[49m\u001B[43m+\u001B[49m\u001B[43m \u001B[49m\u001B[43ms\u001B[49m\u001B[43m \u001B[49m\u001B[43m+\u001B[49m\u001B[43m \u001B[49m\u001B[43m(\u001B[49m\u001B[33;43m'\u001B[39;49m\u001B[33;43m \u001B[39;49m\u001B[33;43m'\u001B[39;49m\u001B[43m \u001B[49m\u001B[43m*\u001B[49m\u001B[43m \u001B[49m\u001B[38;5;28;43mmax\u001B[39;49m\u001B[43m(\u001B[49m\u001B[43mlast_len\u001B[49m\u001B[43m[\u001B[49m\u001B[32;43m0\u001B[39;49m\u001B[43m]\u001B[49m\u001B[43m \u001B[49m\u001B[43m-\u001B[49m\u001B[43m \u001B[49m\u001B[43mlen_s\u001B[49m\u001B[43m,\u001B[49m\u001B[43m \u001B[49m\u001B[32;43m0\u001B[39;49m\u001B[43m)\u001B[49m\u001B[43m)\u001B[49m\u001B[43m)\u001B[49m\n\u001B[32m    460\u001B[39m     last_len[\u001B[32m0\u001B[39m] = len_s\n",
      "\u001B[36mFile \u001B[39m\u001B[32mE:\\Projects\\osu\\.venv\\Lib\\site-packages\\tqdm\\std.py:453\u001B[39m, in \u001B[36mtqdm.status_printer.<locals>.fp_write\u001B[39m\u001B[34m(s)\u001B[39m\n\u001B[32m    451\u001B[39m \u001B[38;5;28;01mdef\u001B[39;00m\u001B[38;5;250m \u001B[39m\u001B[34mfp_write\u001B[39m(s):\n\u001B[32m    452\u001B[39m     fp.write(\u001B[38;5;28mstr\u001B[39m(s))\n\u001B[32m--> \u001B[39m\u001B[32m453\u001B[39m     \u001B[43mfp_flush\u001B[49m\u001B[43m(\u001B[49m\u001B[43m)\u001B[49m\n",
      "\u001B[36mFile \u001B[39m\u001B[32mE:\\Projects\\osu\\.venv\\Lib\\site-packages\\tqdm\\utils.py:196\u001B[39m, in \u001B[36mDisableOnWriteError.disable_on_exception.<locals>.inner\u001B[39m\u001B[34m(*args, **kwargs)\u001B[39m\n\u001B[32m    194\u001B[39m \u001B[38;5;28;01mdef\u001B[39;00m\u001B[38;5;250m \u001B[39m\u001B[34minner\u001B[39m(*args, **kwargs):\n\u001B[32m    195\u001B[39m     \u001B[38;5;28;01mtry\u001B[39;00m:\n\u001B[32m--> \u001B[39m\u001B[32m196\u001B[39m         \u001B[38;5;28;01mreturn\u001B[39;00m \u001B[43mfunc\u001B[49m\u001B[43m(\u001B[49m\u001B[43m*\u001B[49m\u001B[43margs\u001B[49m\u001B[43m,\u001B[49m\u001B[43m \u001B[49m\u001B[43m*\u001B[49m\u001B[43m*\u001B[49m\u001B[43mkwargs\u001B[49m\u001B[43m)\u001B[49m\n\u001B[32m    197\u001B[39m     \u001B[38;5;28;01mexcept\u001B[39;00m \u001B[38;5;167;01mOSError\u001B[39;00m \u001B[38;5;28;01mas\u001B[39;00m e:\n\u001B[32m    198\u001B[39m         \u001B[38;5;28;01mif\u001B[39;00m e.errno != \u001B[32m5\u001B[39m:\n",
      "\u001B[36mFile \u001B[39m\u001B[32mE:\\Projects\\osu\\.venv\\Lib\\site-packages\\ipykernel\\iostream.py:604\u001B[39m, in \u001B[36mOutStream.flush\u001B[39m\u001B[34m(self)\u001B[39m\n\u001B[32m    593\u001B[39m \u001B[38;5;250m\u001B[39m\u001B[33;03m\"\"\"trigger actual zmq send\u001B[39;00m\n\u001B[32m    594\u001B[39m \n\u001B[32m    595\u001B[39m \u001B[33;03msend will happen in the background thread\u001B[39;00m\n\u001B[32m    596\u001B[39m \u001B[33;03m\"\"\"\u001B[39;00m\n\u001B[32m    597\u001B[39m \u001B[38;5;28;01mif\u001B[39;00m (\n\u001B[32m    598\u001B[39m     \u001B[38;5;28mself\u001B[39m.pub_thread\n\u001B[32m    599\u001B[39m     \u001B[38;5;129;01mand\u001B[39;00m \u001B[38;5;28mself\u001B[39m.pub_thread.thread \u001B[38;5;129;01mis\u001B[39;00m \u001B[38;5;129;01mnot\u001B[39;00m \u001B[38;5;28;01mNone\u001B[39;00m\n\u001B[32m   (...)\u001B[39m\u001B[32m    602\u001B[39m ):\n\u001B[32m    603\u001B[39m     \u001B[38;5;66;03m# request flush on the background thread\u001B[39;00m\n\u001B[32m--> \u001B[39m\u001B[32m604\u001B[39m     \u001B[38;5;28;43mself\u001B[39;49m\u001B[43m.\u001B[49m\u001B[43mpub_thread\u001B[49m\u001B[43m.\u001B[49m\u001B[43mschedule\u001B[49m\u001B[43m(\u001B[49m\u001B[38;5;28;43mself\u001B[39;49m\u001B[43m.\u001B[49m\u001B[43m_flush\u001B[49m\u001B[43m)\u001B[49m\n\u001B[32m    605\u001B[39m     \u001B[38;5;66;03m# wait for flush to actually get through, if we can.\u001B[39;00m\n\u001B[32m    606\u001B[39m     evt = threading.Event()\n",
      "\u001B[36mFile \u001B[39m\u001B[32mE:\\Projects\\osu\\.venv\\Lib\\site-packages\\ipykernel\\iostream.py:267\u001B[39m, in \u001B[36mIOPubThread.schedule\u001B[39m\u001B[34m(self, f)\u001B[39m\n\u001B[32m    265\u001B[39m     \u001B[38;5;28mself\u001B[39m._events.append(f)\n\u001B[32m    266\u001B[39m     \u001B[38;5;66;03m# wake event thread (message content is ignored)\u001B[39;00m\n\u001B[32m--> \u001B[39m\u001B[32m267\u001B[39m     \u001B[38;5;28;43mself\u001B[39;49m\u001B[43m.\u001B[49m\u001B[43m_event_pipe\u001B[49m\u001B[43m.\u001B[49m\u001B[43msend\u001B[49m\u001B[43m(\u001B[49m\u001B[33;43mb\u001B[39;49m\u001B[33;43m\"\u001B[39;49m\u001B[33;43m\"\u001B[39;49m\u001B[43m)\u001B[49m\n\u001B[32m    268\u001B[39m \u001B[38;5;28;01melse\u001B[39;00m:\n\u001B[32m    269\u001B[39m     f()\n",
      "\u001B[36mFile \u001B[39m\u001B[32mE:\\Projects\\osu\\.venv\\Lib\\site-packages\\zmq\\sugar\\socket.py:698\u001B[39m, in \u001B[36mSocket.send\u001B[39m\u001B[34m(self, data, flags, copy, track, routing_id, group)\u001B[39m\n\u001B[32m    691\u001B[39m         data = zmq.Frame(\n\u001B[32m    692\u001B[39m             data,\n\u001B[32m    693\u001B[39m             track=track,\n\u001B[32m    694\u001B[39m             copy=copy \u001B[38;5;129;01mor\u001B[39;00m \u001B[38;5;28;01mNone\u001B[39;00m,\n\u001B[32m    695\u001B[39m             copy_threshold=\u001B[38;5;28mself\u001B[39m.copy_threshold,\n\u001B[32m    696\u001B[39m         )\n\u001B[32m    697\u001B[39m     data.group = group\n\u001B[32m--> \u001B[39m\u001B[32m698\u001B[39m \u001B[38;5;28;01mreturn\u001B[39;00m \u001B[38;5;28;43msuper\u001B[39;49m\u001B[43m(\u001B[49m\u001B[43m)\u001B[49m\u001B[43m.\u001B[49m\u001B[43msend\u001B[49m\u001B[43m(\u001B[49m\u001B[43mdata\u001B[49m\u001B[43m,\u001B[49m\u001B[43m \u001B[49m\u001B[43mflags\u001B[49m\u001B[43m=\u001B[49m\u001B[43mflags\u001B[49m\u001B[43m,\u001B[49m\u001B[43m \u001B[49m\u001B[43mcopy\u001B[49m\u001B[43m=\u001B[49m\u001B[43mcopy\u001B[49m\u001B[43m,\u001B[49m\u001B[43m \u001B[49m\u001B[43mtrack\u001B[49m\u001B[43m=\u001B[49m\u001B[43mtrack\u001B[49m\u001B[43m)\u001B[49m\n",
      "\u001B[36mFile \u001B[39m\u001B[32mE:\\Projects\\osu\\.venv\\Lib\\site-packages\\zmq\\backend\\cython\\_zmq.py:1137\u001B[39m, in \u001B[36mzmq.backend.cython._zmq.Socket.send\u001B[39m\u001B[34m()\u001B[39m\n\u001B[32m   1134\u001B[39m     rc: C.int = zmq_leave(\u001B[38;5;28mself\u001B[39m.handle, group)\n\u001B[32m   1135\u001B[39m     _check_rc(rc)\n\u001B[32m-> \u001B[39m\u001B[32m1137\u001B[39m \u001B[38;5;28;01mdef\u001B[39;00m\u001B[38;5;250m \u001B[39m\u001B[34msend\u001B[39m(\u001B[38;5;28mself\u001B[39m, data, flags=\u001B[32m0\u001B[39m, copy: bint = \u001B[38;5;28;01mTrue\u001B[39;00m, track: bint = \u001B[38;5;28;01mFalse\u001B[39;00m):\n\u001B[32m   1138\u001B[39m \u001B[38;5;250m    \u001B[39m\u001B[33;03m\"\"\"\u001B[39;00m\n\u001B[32m   1139\u001B[39m \u001B[33;03m    Send a single zmq message frame on this socket.\u001B[39;00m\n\u001B[32m   1140\u001B[39m \n\u001B[32m   (...)\u001B[39m\u001B[32m   1177\u001B[39m \n\u001B[32m   1178\u001B[39m \u001B[33;03m    \"\"\"\u001B[39;00m\n\u001B[32m   1179\u001B[39m     _check_closed(\u001B[38;5;28mself\u001B[39m)\n",
      "\u001B[36mFile \u001B[39m\u001B[32mE:\\Projects\\osu\\.venv\\Lib\\site-packages\\zmq\\backend\\cython\\_zmq.py:1185\u001B[39m, in \u001B[36mzmq.backend.cython._zmq.Socket.send\u001B[39m\u001B[34m()\u001B[39m\n\u001B[32m   1182\u001B[39m     \u001B[38;5;28;01mraise\u001B[39;00m \u001B[38;5;167;01mTypeError\u001B[39;00m(\u001B[33m\"\u001B[39m\u001B[33municode not allowed, use send_string\u001B[39m\u001B[33m\"\u001B[39m)\n\u001B[32m   1184\u001B[39m \u001B[38;5;28;01mif\u001B[39;00m copy \u001B[38;5;129;01mand\u001B[39;00m \u001B[38;5;129;01mnot\u001B[39;00m \u001B[38;5;28misinstance\u001B[39m(data, Frame):\n\u001B[32m-> \u001B[39m\u001B[32m1185\u001B[39m     \u001B[38;5;28;01mreturn\u001B[39;00m _send_copy(\u001B[38;5;28mself\u001B[39m.handle, data, flags)\n\u001B[32m   1186\u001B[39m \u001B[38;5;28;01melse\u001B[39;00m:\n\u001B[32m   1187\u001B[39m     \u001B[38;5;28;01mif\u001B[39;00m \u001B[38;5;28misinstance\u001B[39m(data, Frame):\n",
      "\u001B[36mFile \u001B[39m\u001B[32mE:\\Projects\\osu\\.venv\\Lib\\site-packages\\zmq\\backend\\cython\\_zmq.py:1453\u001B[39m, in \u001B[36mzmq.backend.cython._zmq._send_copy\u001B[39m\u001B[34m()\u001B[39m\n\u001B[32m   1451\u001B[39m     rc = zmq_msg_send(address(msg), handle, flags)\n\u001B[32m   1452\u001B[39m \u001B[38;5;28;01mtry\u001B[39;00m:\n\u001B[32m-> \u001B[39m\u001B[32m1453\u001B[39m     _check_rc(rc)\n\u001B[32m   1454\u001B[39m \u001B[38;5;28;01mexcept\u001B[39;00m InterruptedSystemCall:\n\u001B[32m   1455\u001B[39m     \u001B[38;5;28;01mcontinue\u001B[39;00m\n",
      "\u001B[36mFile \u001B[39m\u001B[32mE:\\Projects\\osu\\.venv\\Lib\\site-packages\\zmq\\backend\\cython\\_zmq.py:176\u001B[39m, in \u001B[36mzmq.backend.cython._zmq._check_rc\u001B[39m\u001B[34m()\u001B[39m\n\u001B[32m    171\u001B[39m \u001B[38;5;250m\u001B[39m\u001B[33;03m\"\"\"internal utility for checking zmq return condition\u001B[39;00m\n\u001B[32m    172\u001B[39m \n\u001B[32m    173\u001B[39m \u001B[33;03mand raising the appropriate Exception class\u001B[39;00m\n\u001B[32m    174\u001B[39m \u001B[33;03m\"\"\"\u001B[39;00m\n\u001B[32m    175\u001B[39m errno: C.int = _zmq_errno()\n\u001B[32m--> \u001B[39m\u001B[32m176\u001B[39m PyErr_CheckSignals()\n\u001B[32m    177\u001B[39m \u001B[38;5;28;01mif\u001B[39;00m errno == \u001B[32m0\u001B[39m \u001B[38;5;129;01mand\u001B[39;00m \u001B[38;5;129;01mnot\u001B[39;00m error_without_errno:\n\u001B[32m    178\u001B[39m     \u001B[38;5;28;01mreturn\u001B[39;00m \u001B[32m0\u001B[39m\n",
      "\u001B[31mKeyboardInterrupt\u001B[39m: "
     ]
    }
   ],
   "source": [
    "for i in range(175):\n",
    "    model.train(EPOCHS)\n",
    "    model.save()\n",
    "    \n",
    "model.plot_losses()"
   ],
   "metadata": {
    "collapsed": false,
    "ExecuteTime": {
     "end_time": "2025-07-31T17:29:37.772554700Z",
     "start_time": "2025-07-31T14:38:56.427483Z"
    }
   },
   "id": "5aa3413609963ce7"
  },
  {
   "cell_type": "code",
   "execution_count": null,
   "id": "469945dc39944eb4",
   "metadata": {
    "collapsed": false
   },
   "outputs": [],
   "source": [
    "for i in range(300):\n",
    "    model.train(EPOCHS)\n",
    "    model.save()\n",
    "    \n",
    "model.plot_losses()"
   ]
  },
  {
   "cell_type": "code",
   "execution_count": 18,
   "id": "3d329c61d5439f92",
   "metadata": {
    "collapsed": false,
    "ExecuteTime": {
     "end_time": "2025-07-31T06:08:06.690269900Z",
     "start_time": "2025-07-31T06:08:06.182966900Z"
    }
   },
   "outputs": [
    {
     "name": "stderr",
     "output_type": "stream",
     "text": [
      "Turning beatmaps into time series data: 100%|██████████| 1/1 [00:00<00:00,  2.56it/s]\n"
     ]
    }
   ],
   "source": [
    "# test training results\n",
    "from osu.rulesets.mods import Mods\n",
    "import osu.rulesets.beatmap as bm\n",
    "import osu.dataset as dataset\n",
    "\n",
    "test_name = 'zuttosummer'\n",
    "test_mods = 0\n",
    "test_map_path = f'assets/{test_name}_map.osu'\n",
    "test_song = f'assets/{test_name}_song.mp3'\n",
    "\n",
    "test_map = bm.load(test_map_path)\n",
    "test_map.apply_mods(test_mods)\n",
    "\n",
    "data = dataset.input_data(test_map)\n",
    "data = np.reshape(data.values, (-1, dataset.BATCH_LENGTH, len(dataset.INPUT_FEATURES)))\n",
    "data = torch.FloatTensor(data)"
   ]
  },
  {
   "cell_type": "code",
   "execution_count": 19,
   "id": "f34002ee306e7fd9",
   "metadata": {
    "collapsed": false,
    "ExecuteTime": {
     "end_time": "2025-07-31T06:08:06.887644100Z",
     "start_time": "2025-07-31T06:08:06.691269700Z"
    }
   },
   "outputs": [
    {
     "name": "stdout",
     "output_type": "stream",
     "text": [
      "Generated replay data shape: (12288, 4)\n"
     ]
    }
   ],
   "source": [
    "replay_data = vae.generate(data)\n",
    "    \n",
    "replay_data = np.concatenate(replay_data)\n",
    "replay_data = np.pad(replay_data, ((0, 0), (0, 2)), mode='constant', constant_values=0)\n",
    "if not os.path.exists('.generated'):\n",
    "    os.makedirs('.generated')\n",
    "    \n",
    "print(f\"Generated replay data shape: {replay_data.shape}\")\n"
   ]
  },
  {
   "cell_type": "code",
   "execution_count": 20,
   "id": "b9e430b879d2f8a1",
   "metadata": {
    "collapsed": false,
    "ExecuteTime": {
     "end_time": "2025-07-31T06:09:35.839985700Z",
     "start_time": "2025-07-31T06:08:07.035355900Z"
    }
   },
   "outputs": [],
   "source": [
    "import osu.preview.preview as preview\n",
    "\n",
    "preview.preview_replay_raw(replay_data, test_map_path, test_mods, test_song)"
   ]
  },
  {
   "cell_type": "code",
   "execution_count": null,
   "id": "989be9cfb6bf9eef",
   "metadata": {
    "collapsed": false
   },
   "outputs": [],
   "source": []
  }
 ],
 "metadata": {
  "kernelspec": {
   "display_name": "Python 3 (ipykernel)",
   "language": "python",
   "name": "python3"
  },
  "language_info": {
   "codemirror_mode": {
    "name": "ipython",
    "version": 3
   },
   "file_extension": ".py",
   "mimetype": "text/x-python",
   "name": "python",
   "nbconvert_exporter": "python",
   "pygments_lexer": "ipython3",
   "version": "3.12.10"
  }
 },
 "nbformat": 4,
 "nbformat_minor": 5
}
