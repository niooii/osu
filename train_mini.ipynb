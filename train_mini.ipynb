{
 "cells": [
  {
   "cell_type": "code",
   "execution_count": null,
   "id": "initial_id",
   "metadata": {},
   "outputs": [],
   "source": [
    "%load_ext autoreload\n",
    "%autoreload 2\n",
    "\n",
    "import os\n",
    "import numpy as np\n",
    "\n",
    "import osu.dataset as dataset\n"
   ]
  },
  {
   "cell_type": "code",
   "execution_count": null,
   "id": "92c39d45d3bf1cff",
   "metadata": {
    "collapsed": false
   },
   "outputs": [],
   "source": [
    "# reload from saved\n",
    "\n",
    "xs = np.load(f'.datasets/xs_642_08-13_01-26-33.npy')\n",
    "ys = np.load(f'.datasets/ys_642_08-13_01-26-33.npy')\n",
    "\n",
    "# xs = np.load(f'.datasets/xs_142_07-21_21-50-55.npy')\n",
    "# ys = np.load(f'.datasets/ys_142_07-21_21-50-55.npy')"
   ]
  },
  {
   "cell_type": "code",
   "execution_count": null,
   "outputs": [],
   "source": [
    "xs.shape"
   ],
   "metadata": {
    "collapsed": false
   },
   "id": "ae6d673d3e098f2a"
  },
  {
   "cell_type": "code",
   "execution_count": null,
   "id": "ae1b470e52ab30f6",
   "metadata": {
    "collapsed": false
   },
   "outputs": [],
   "source": [
    "import torch\n",
    "\n",
    "BATCH_SIZE = 64\n",
    "\n",
    "device = 'cuda' if torch.cuda.is_available() else 'cpu'"
   ]
  },
  {
   "cell_type": "code",
   "execution_count": null,
   "id": "11979e9b769aeddd",
   "metadata": {
    "collapsed": false
   },
   "outputs": [],
   "source": [
    "import torch\n",
    "import gc\n",
    "\n",
    "# Clear GPU cache\n",
    "torch.cuda.empty_cache()\n",
    "\n",
    "# Force garbage collection\n",
    "gc.collect()"
   ]
  },
  {
   "cell_type": "code",
   "execution_count": null,
   "outputs": [],
   "source": [
    "# from models.rnn import OsuReplayRNN\n",
    "# \n",
    "# rnn = OsuReplayRNN(batch_size=BATCH_SIZE, noise_std=0.045)\n",
    "# \n",
    "# # vae = OsuReplayVAE.load(\".trained/vae_353rcl_9ft.pt\")\n",
    "# \n",
    "# rnn.load_data(xs, ys)"
   ],
   "metadata": {
    "collapsed": false
   },
   "id": "6dff73d0c8c34b6e"
  },
  {
   "cell_type": "code",
   "execution_count": 29,
   "id": "1a38cf62d4148606",
   "metadata": {
    "collapsed": false,
    "ExecuteTime": {
     "end_time": "2025-08-13T16:28:23.702937200Z",
     "start_time": "2025-08-13T16:28:23.413564300Z"
    }
   },
   "outputs": [
    {
     "name": "stdout",
     "output_type": "stream",
     "text": [
      "ReplayVAE initialized on cuda\n",
      "decoder parameters: 459122\n",
      "encoder parameters: 650016\n",
      "Total parameters: 1109138\n",
      "VAE loaded from .trained/replayvae_most_recent.pt\n",
      "Data loaded: 1757 training samples, 440 test samples (position only)\n"
     ]
    }
   ],
   "source": [
    "from models.vae import OsuReplayVAE\n",
    "from models.annealer import Annealer\n",
    "\n",
    "annealer = Annealer(\n",
    "    total_steps=10,\n",
    "    range=(0, 0.3),\n",
    "    cyclical=True,\n",
    "    stay_max_steps=5\n",
    ")\n",
    "\n",
    "# vae = OsuReplayVAE(batch_size=BATCH_SIZE, annealer=annealer, noise_std=0.045)\n",
    "\n",
    "# vae = OsuReplayVAE.load(\".trained/vae_353rcl_9ft.pt\")\n",
    "vae = OsuReplayVAE.load(\".trained/replayvae_most_recent.pt\", annealer=annealer, noise_std=0.03)\n",
    "\n",
    "vae.load_data(xs, ys)"
   ]
  },
  {
   "cell_type": "code",
   "execution_count": null,
   "id": "382f27a44e43ddee",
   "metadata": {
    "collapsed": false
   },
   "outputs": [],
   "source": [
    "from models.keys import OsuKeyModel\n",
    "\n",
    "keys = OsuKeyModel(batch_size=BATCH_SIZE)\n",
    "keys.load_data(xs, ys)"
   ]
  },
  {
   "cell_type": "code",
   "execution_count": 30,
   "id": "7e02d7be4612ce9b",
   "metadata": {
    "collapsed": false,
    "ExecuteTime": {
     "end_time": "2025-08-13T16:45:38.051967600Z",
     "start_time": "2025-08-13T16:28:39.221913200Z"
    }
   },
   "outputs": [
    {
     "name": "stderr",
     "output_type": "stream",
     "text": [
      "Epoch 1/3 (Beta: 0.0): 100%|██████████| 28/28 [00:14<00:00,  1.91it/s]\n"
     ]
    },
    {
     "name": "stdout",
     "output_type": "stream",
     "text": [
      "Epoch 1/3, Total_Loss: 430.8811, Recon_Loss: 430.8811, Kl_Loss: 11.8950\n"
     ]
    },
    {
     "name": "stderr",
     "output_type": "stream",
     "text": [
      "Epoch 2/3 (Beta: 0.03): 100%|██████████| 28/28 [00:13<00:00,  2.02it/s]\n"
     ]
    },
    {
     "name": "stdout",
     "output_type": "stream",
     "text": [
      "Epoch 2/3, Total_Loss: 357.8525, Recon_Loss: 357.2525, Kl_Loss: 20.0010\n"
     ]
    },
    {
     "name": "stderr",
     "output_type": "stream",
     "text": [
      "Epoch 3/3 (Beta: 0.06): 100%|██████████| 28/28 [00:14<00:00,  1.98it/s]\n"
     ]
    },
    {
     "name": "stdout",
     "output_type": "stream",
     "text": [
      "Epoch 3/3, Total_Loss: 354.2142, Recon_Loss: 352.7367, Kl_Loss: 24.6257\n",
      "ReplayVAE model saved to .trained/replayvae_2025-08-13_12-29-22.pt\n"
     ]
    },
    {
     "name": "stderr",
     "output_type": "stream",
     "text": [
      "Epoch 1/3 (Beta: 0.09): 100%|██████████| 28/28 [00:13<00:00,  2.05it/s]\n"
     ]
    },
    {
     "name": "stdout",
     "output_type": "stream",
     "text": [
      "Epoch 1/3, Total_Loss: 351.0665, Recon_Loss: 349.0890, Kl_Loss: 21.9719\n"
     ]
    },
    {
     "name": "stderr",
     "output_type": "stream",
     "text": [
      "Epoch 2/3 (Beta: 0.12): 100%|██████████| 28/28 [00:13<00:00,  2.02it/s]\n"
     ]
    },
    {
     "name": "stdout",
     "output_type": "stream",
     "text": [
      "Epoch 2/3, Total_Loss: 354.3846, Recon_Loss: 352.1999, Kl_Loss: 18.2059\n"
     ]
    },
    {
     "name": "stderr",
     "output_type": "stream",
     "text": [
      "Epoch 3/3 (Beta: 0.15): 100%|██████████| 28/28 [00:13<00:00,  2.04it/s]\n"
     ]
    },
    {
     "name": "stdout",
     "output_type": "stream",
     "text": [
      "Epoch 3/3, Total_Loss: 350.6733, Recon_Loss: 348.3069, Kl_Loss: 15.7757\n",
      "ReplayVAE model saved to .trained/replayvae_2025-08-13_12-30-03.pt\n"
     ]
    },
    {
     "name": "stderr",
     "output_type": "stream",
     "text": [
      "Epoch 1/3 (Beta: 0.18): 100%|██████████| 28/28 [00:13<00:00,  2.04it/s]\n"
     ]
    },
    {
     "name": "stdout",
     "output_type": "stream",
     "text": [
      "Epoch 1/3, Total_Loss: 352.4994, Recon_Loss: 350.0838, Kl_Loss: 13.4196\n"
     ]
    },
    {
     "name": "stderr",
     "output_type": "stream",
     "text": [
      "Epoch 2/3 (Beta: 0.21): 100%|██████████| 28/28 [00:13<00:00,  2.05it/s]\n"
     ]
    },
    {
     "name": "stdout",
     "output_type": "stream",
     "text": [
      "Epoch 2/3, Total_Loss: 355.1849, Recon_Loss: 352.4817, Kl_Loss: 12.8724\n"
     ]
    },
    {
     "name": "stderr",
     "output_type": "stream",
     "text": [
      "Epoch 3/3 (Beta: 0.24): 100%|██████████| 28/28 [00:13<00:00,  2.05it/s]\n"
     ]
    },
    {
     "name": "stdout",
     "output_type": "stream",
     "text": [
      "Epoch 3/3, Total_Loss: 366.8631, Recon_Loss: 363.9187, Kl_Loss: 12.2684\n",
      "ReplayVAE model saved to .trained/replayvae_2025-08-13_12-30-44.pt\n"
     ]
    },
    {
     "name": "stderr",
     "output_type": "stream",
     "text": [
      "Epoch 1/3 (Beta: 0.27): 100%|██████████| 28/28 [00:13<00:00,  2.03it/s]\n"
     ]
    },
    {
     "name": "stdout",
     "output_type": "stream",
     "text": [
      "Epoch 1/3, Total_Loss: 375.1800, Recon_Loss: 371.6827, Kl_Loss: 12.9531\n"
     ]
    },
    {
     "name": "stderr",
     "output_type": "stream",
     "text": [
      "Epoch 2/3 (Beta: 0.3): 100%|██████████| 28/28 [00:13<00:00,  2.06it/s]\n"
     ]
    },
    {
     "name": "stdout",
     "output_type": "stream",
     "text": [
      "Epoch 2/3, Total_Loss: 365.9776, Recon_Loss: 362.6620, Kl_Loss: 11.0518\n"
     ]
    },
    {
     "name": "stderr",
     "output_type": "stream",
     "text": [
      "Epoch 3/3 (Beta: 0.3): 100%|██████████| 28/28 [00:14<00:00,  2.00it/s]\n"
     ]
    },
    {
     "name": "stdout",
     "output_type": "stream",
     "text": [
      "Epoch 3/3, Total_Loss: 367.2786, Recon_Loss: 364.2730, Kl_Loss: 10.0187\n",
      "ReplayVAE model saved to .trained/replayvae_2025-08-13_12-31-25.pt\n"
     ]
    },
    {
     "name": "stderr",
     "output_type": "stream",
     "text": [
      "Epoch 1/3 (Beta: 0.3): 100%|██████████| 28/28 [00:13<00:00,  2.04it/s]\n"
     ]
    },
    {
     "name": "stdout",
     "output_type": "stream",
     "text": [
      "Epoch 1/3, Total_Loss: 349.8829, Recon_Loss: 346.8711, Kl_Loss: 10.0395\n"
     ]
    },
    {
     "name": "stderr",
     "output_type": "stream",
     "text": [
      "Epoch 2/3 (Beta: 0.3): 100%|██████████| 28/28 [00:13<00:00,  2.05it/s]\n"
     ]
    },
    {
     "name": "stdout",
     "output_type": "stream",
     "text": [
      "Epoch 2/3, Total_Loss: 349.4534, Recon_Loss: 346.3901, Kl_Loss: 10.2110\n"
     ]
    },
    {
     "name": "stderr",
     "output_type": "stream",
     "text": [
      "Epoch 3/3 (Beta: 0.3): 100%|██████████| 28/28 [00:13<00:00,  2.07it/s]\n"
     ]
    },
    {
     "name": "stdout",
     "output_type": "stream",
     "text": [
      "Epoch 3/3, Total_Loss: 354.8316, Recon_Loss: 351.7298, Kl_Loss: 10.3391\n",
      "ReplayVAE model saved to .trained/replayvae_2025-08-13_12-32-06.pt\n"
     ]
    },
    {
     "name": "stderr",
     "output_type": "stream",
     "text": [
      "Epoch 1/3 (Beta: 0.0): 100%|██████████| 28/28 [00:13<00:00,  2.07it/s]\n"
     ]
    },
    {
     "name": "stdout",
     "output_type": "stream",
     "text": [
      "Epoch 1/3, Total_Loss: 352.4021, Recon_Loss: 352.4021, Kl_Loss: 10.5152\n"
     ]
    },
    {
     "name": "stderr",
     "output_type": "stream",
     "text": [
      "Epoch 2/3 (Beta: 0.03): 100%|██████████| 28/28 [00:13<00:00,  2.06it/s]\n"
     ]
    },
    {
     "name": "stdout",
     "output_type": "stream",
     "text": [
      "Epoch 2/3, Total_Loss: 348.4109, Recon_Loss: 348.0139, Kl_Loss: 13.2322\n"
     ]
    },
    {
     "name": "stderr",
     "output_type": "stream",
     "text": [
      "Epoch 3/3 (Beta: 0.06): 100%|██████████| 28/28 [00:13<00:00,  2.07it/s]\n"
     ]
    },
    {
     "name": "stdout",
     "output_type": "stream",
     "text": [
      "Epoch 3/3, Total_Loss: 344.9327, Recon_Loss: 343.9844, Kl_Loss: 15.8055\n",
      "ReplayVAE model saved to .trained/replayvae_2025-08-13_12-32-47.pt\n"
     ]
    },
    {
     "name": "stderr",
     "output_type": "stream",
     "text": [
      "Epoch 1/3 (Beta: 0.09): 100%|██████████| 28/28 [00:13<00:00,  2.07it/s]\n"
     ]
    },
    {
     "name": "stdout",
     "output_type": "stream",
     "text": [
      "Epoch 1/3, Total_Loss: 344.9626, Recon_Loss: 343.4528, Kl_Loss: 16.7754\n"
     ]
    },
    {
     "name": "stderr",
     "output_type": "stream",
     "text": [
      "Epoch 2/3 (Beta: 0.12): 100%|██████████| 28/28 [00:13<00:00,  2.07it/s]\n"
     ]
    },
    {
     "name": "stdout",
     "output_type": "stream",
     "text": [
      "Epoch 2/3, Total_Loss: 355.9662, Recon_Loss: 354.0011, Kl_Loss: 16.3754\n"
     ]
    },
    {
     "name": "stderr",
     "output_type": "stream",
     "text": [
      "Epoch 3/3 (Beta: 0.15): 100%|██████████| 28/28 [00:13<00:00,  2.07it/s]\n"
     ]
    },
    {
     "name": "stdout",
     "output_type": "stream",
     "text": [
      "Epoch 3/3, Total_Loss: 358.7719, Recon_Loss: 356.3926, Kl_Loss: 15.8618\n",
      "ReplayVAE model saved to .trained/replayvae_2025-08-13_12-33-27.pt\n"
     ]
    },
    {
     "name": "stderr",
     "output_type": "stream",
     "text": [
      "Epoch 1/3 (Beta: 0.18): 100%|██████████| 28/28 [00:13<00:00,  2.08it/s]\n"
     ]
    },
    {
     "name": "stdout",
     "output_type": "stream",
     "text": [
      "Epoch 1/3, Total_Loss: 380.1152, Recon_Loss: 377.4613, Kl_Loss: 14.7439\n"
     ]
    },
    {
     "name": "stderr",
     "output_type": "stream",
     "text": [
      "Epoch 2/3 (Beta: 0.21): 100%|██████████| 28/28 [00:13<00:00,  2.08it/s]\n"
     ]
    },
    {
     "name": "stdout",
     "output_type": "stream",
     "text": [
      "Epoch 2/3, Total_Loss: 393.9867, Recon_Loss: 390.9729, Kl_Loss: 14.3516\n"
     ]
    },
    {
     "name": "stderr",
     "output_type": "stream",
     "text": [
      "Epoch 3/3 (Beta: 0.24): 100%|██████████| 28/28 [00:13<00:00,  2.07it/s]\n"
     ]
    },
    {
     "name": "stdout",
     "output_type": "stream",
     "text": [
      "Epoch 3/3, Total_Loss: 375.0411, Recon_Loss: 371.8769, Kl_Loss: 13.1842\n",
      "ReplayVAE model saved to .trained/replayvae_2025-08-13_12-34-08.pt\n"
     ]
    },
    {
     "name": "stderr",
     "output_type": "stream",
     "text": [
      "Epoch 1/3 (Beta: 0.27): 100%|██████████| 28/28 [00:13<00:00,  2.08it/s]\n"
     ]
    },
    {
     "name": "stdout",
     "output_type": "stream",
     "text": [
      "Epoch 1/3, Total_Loss: 367.7409, Recon_Loss: 364.4910, Kl_Loss: 12.0366\n"
     ]
    },
    {
     "name": "stderr",
     "output_type": "stream",
     "text": [
      "Epoch 2/3 (Beta: 0.3): 100%|██████████| 28/28 [00:13<00:00,  2.08it/s]\n"
     ]
    },
    {
     "name": "stdout",
     "output_type": "stream",
     "text": [
      "Epoch 2/3, Total_Loss: 362.8469, Recon_Loss: 359.5999, Kl_Loss: 10.8232\n"
     ]
    },
    {
     "name": "stderr",
     "output_type": "stream",
     "text": [
      "Epoch 3/3 (Beta: 0.3): 100%|██████████| 28/28 [00:13<00:00,  2.07it/s]\n"
     ]
    },
    {
     "name": "stdout",
     "output_type": "stream",
     "text": [
      "Epoch 3/3, Total_Loss: 352.5228, Recon_Loss: 349.4608, Kl_Loss: 10.2067\n",
      "ReplayVAE model saved to .trained/replayvae_2025-08-13_12-34-48.pt\n"
     ]
    },
    {
     "name": "stderr",
     "output_type": "stream",
     "text": [
      "Epoch 1/3 (Beta: 0.3): 100%|██████████| 28/28 [00:13<00:00,  2.08it/s]\n"
     ]
    },
    {
     "name": "stdout",
     "output_type": "stream",
     "text": [
      "Epoch 1/3, Total_Loss: 353.0650, Recon_Loss: 350.1739, Kl_Loss: 9.6372\n"
     ]
    },
    {
     "name": "stderr",
     "output_type": "stream",
     "text": [
      "Epoch 2/3 (Beta: 0.3): 100%|██████████| 28/28 [00:13<00:00,  2.07it/s]\n"
     ]
    },
    {
     "name": "stdout",
     "output_type": "stream",
     "text": [
      "Epoch 2/3, Total_Loss: 354.2875, Recon_Loss: 351.3992, Kl_Loss: 9.6279\n"
     ]
    },
    {
     "name": "stderr",
     "output_type": "stream",
     "text": [
      "Epoch 3/3 (Beta: 0.3): 100%|██████████| 28/28 [00:13<00:00,  2.07it/s]\n"
     ]
    },
    {
     "name": "stdout",
     "output_type": "stream",
     "text": [
      "Epoch 3/3, Total_Loss: 346.0265, Recon_Loss: 343.2325, Kl_Loss: 9.3131\n",
      "ReplayVAE model saved to .trained/replayvae_2025-08-13_12-35-29.pt\n"
     ]
    },
    {
     "name": "stderr",
     "output_type": "stream",
     "text": [
      "Epoch 1/3 (Beta: 0.0): 100%|██████████| 28/28 [00:13<00:00,  2.07it/s]\n"
     ]
    },
    {
     "name": "stdout",
     "output_type": "stream",
     "text": [
      "Epoch 1/3, Total_Loss: 346.5887, Recon_Loss: 346.5887, Kl_Loss: 10.0849\n"
     ]
    },
    {
     "name": "stderr",
     "output_type": "stream",
     "text": [
      "Epoch 2/3 (Beta: 0.03): 100%|██████████| 28/28 [00:13<00:00,  2.07it/s]\n"
     ]
    },
    {
     "name": "stdout",
     "output_type": "stream",
     "text": [
      "Epoch 2/3, Total_Loss: 343.0961, Recon_Loss: 342.7063, Kl_Loss: 12.9958\n"
     ]
    },
    {
     "name": "stderr",
     "output_type": "stream",
     "text": [
      "Epoch 3/3 (Beta: 0.06): 100%|██████████| 28/28 [00:13<00:00,  2.07it/s]\n"
     ]
    },
    {
     "name": "stdout",
     "output_type": "stream",
     "text": [
      "Epoch 3/3, Total_Loss: 349.1530, Recon_Loss: 348.1986, Kl_Loss: 15.9062\n",
      "ReplayVAE model saved to .trained/replayvae_2025-08-13_12-36-09.pt\n"
     ]
    },
    {
     "name": "stderr",
     "output_type": "stream",
     "text": [
      "Epoch 1/3 (Beta: 0.09): 100%|██████████| 28/28 [00:13<00:00,  2.06it/s]\n"
     ]
    },
    {
     "name": "stdout",
     "output_type": "stream",
     "text": [
      "Epoch 1/3, Total_Loss: 349.8592, Recon_Loss: 348.3503, Kl_Loss: 16.7655\n"
     ]
    },
    {
     "name": "stderr",
     "output_type": "stream",
     "text": [
      "Epoch 2/3 (Beta: 0.12): 100%|██████████| 28/28 [00:13<00:00,  2.07it/s]\n"
     ]
    },
    {
     "name": "stdout",
     "output_type": "stream",
     "text": [
      "Epoch 2/3, Total_Loss: 358.8758, Recon_Loss: 356.9670, Kl_Loss: 15.9073\n"
     ]
    },
    {
     "name": "stderr",
     "output_type": "stream",
     "text": [
      "Epoch 3/3 (Beta: 0.15): 100%|██████████| 28/28 [00:13<00:00,  2.07it/s]\n"
     ]
    },
    {
     "name": "stdout",
     "output_type": "stream",
     "text": [
      "Epoch 3/3, Total_Loss: 362.5808, Recon_Loss: 360.3457, Kl_Loss: 14.9001\n",
      "ReplayVAE model saved to .trained/replayvae_2025-08-13_12-36-50.pt\n"
     ]
    },
    {
     "name": "stderr",
     "output_type": "stream",
     "text": [
      "Epoch 1/3 (Beta: 0.18): 100%|██████████| 28/28 [00:13<00:00,  2.07it/s]\n"
     ]
    },
    {
     "name": "stdout",
     "output_type": "stream",
     "text": [
      "Epoch 1/3, Total_Loss: 355.7391, Recon_Loss: 353.1264, Kl_Loss: 14.5148\n"
     ]
    },
    {
     "name": "stderr",
     "output_type": "stream",
     "text": [
      "Epoch 2/3 (Beta: 0.21): 100%|██████████| 28/28 [00:13<00:00,  2.08it/s]\n"
     ]
    },
    {
     "name": "stdout",
     "output_type": "stream",
     "text": [
      "Epoch 2/3, Total_Loss: 358.7892, Recon_Loss: 356.0030, Kl_Loss: 13.2676\n"
     ]
    },
    {
     "name": "stderr",
     "output_type": "stream",
     "text": [
      "Epoch 3/3 (Beta: 0.24): 100%|██████████| 28/28 [00:13<00:00,  2.07it/s]\n"
     ]
    },
    {
     "name": "stdout",
     "output_type": "stream",
     "text": [
      "Epoch 3/3, Total_Loss: 352.0504, Recon_Loss: 349.1089, Kl_Loss: 12.2562\n",
      "ReplayVAE model saved to .trained/replayvae_2025-08-13_12-37-31.pt\n"
     ]
    },
    {
     "name": "stderr",
     "output_type": "stream",
     "text": [
      "Epoch 1/3 (Beta: 0.27): 100%|██████████| 28/28 [00:13<00:00,  2.07it/s]\n"
     ]
    },
    {
     "name": "stdout",
     "output_type": "stream",
     "text": [
      "Epoch 1/3, Total_Loss: 343.7815, Recon_Loss: 340.7451, Kl_Loss: 11.2460\n"
     ]
    },
    {
     "name": "stderr",
     "output_type": "stream",
     "text": [
      "Epoch 2/3 (Beta: 0.3): 100%|██████████| 28/28 [00:13<00:00,  2.08it/s]\n"
     ]
    },
    {
     "name": "stdout",
     "output_type": "stream",
     "text": [
      "Epoch 2/3, Total_Loss: 354.9603, Recon_Loss: 351.7486, Kl_Loss: 10.7057\n"
     ]
    },
    {
     "name": "stderr",
     "output_type": "stream",
     "text": [
      "Epoch 3/3 (Beta: 0.3): 100%|██████████| 28/28 [00:13<00:00,  2.07it/s]\n"
     ]
    },
    {
     "name": "stdout",
     "output_type": "stream",
     "text": [
      "Epoch 3/3, Total_Loss: 357.4767, Recon_Loss: 354.4664, Kl_Loss: 10.0342\n",
      "ReplayVAE model saved to .trained/replayvae_2025-08-13_12-38-11.pt\n"
     ]
    },
    {
     "name": "stderr",
     "output_type": "stream",
     "text": [
      "Epoch 1/3 (Beta: 0.3): 100%|██████████| 28/28 [00:13<00:00,  2.07it/s]\n"
     ]
    },
    {
     "name": "stdout",
     "output_type": "stream",
     "text": [
      "Epoch 1/3, Total_Loss: 372.3276, Recon_Loss: 369.3474, Kl_Loss: 9.9339\n"
     ]
    },
    {
     "name": "stderr",
     "output_type": "stream",
     "text": [
      "Epoch 2/3 (Beta: 0.3): 100%|██████████| 28/28 [00:13<00:00,  2.08it/s]\n"
     ]
    },
    {
     "name": "stdout",
     "output_type": "stream",
     "text": [
      "Epoch 2/3, Total_Loss: 368.2648, Recon_Loss: 365.2655, Kl_Loss: 9.9977\n"
     ]
    },
    {
     "name": "stderr",
     "output_type": "stream",
     "text": [
      "Epoch 3/3 (Beta: 0.3): 100%|██████████| 28/28 [00:13<00:00,  2.05it/s]\n"
     ]
    },
    {
     "name": "stdout",
     "output_type": "stream",
     "text": [
      "Epoch 3/3, Total_Loss: 356.4872, Recon_Loss: 353.6292, Kl_Loss: 9.5264\n",
      "ReplayVAE model saved to .trained/replayvae_2025-08-13_12-38-52.pt\n"
     ]
    },
    {
     "name": "stderr",
     "output_type": "stream",
     "text": [
      "Epoch 1/3 (Beta: 0.0): 100%|██████████| 28/28 [00:13<00:00,  2.07it/s]\n"
     ]
    },
    {
     "name": "stdout",
     "output_type": "stream",
     "text": [
      "Epoch 1/3, Total_Loss: 353.2584, Recon_Loss: 353.2584, Kl_Loss: 10.4792\n"
     ]
    },
    {
     "name": "stderr",
     "output_type": "stream",
     "text": [
      "Epoch 2/3 (Beta: 0.03): 100%|██████████| 28/28 [00:13<00:00,  2.07it/s]\n"
     ]
    },
    {
     "name": "stdout",
     "output_type": "stream",
     "text": [
      "Epoch 2/3, Total_Loss: 356.9617, Recon_Loss: 356.5154, Kl_Loss: 14.8753\n"
     ]
    },
    {
     "name": "stderr",
     "output_type": "stream",
     "text": [
      "Epoch 3/3 (Beta: 0.06): 100%|██████████| 28/28 [00:13<00:00,  2.07it/s]\n"
     ]
    },
    {
     "name": "stdout",
     "output_type": "stream",
     "text": [
      "Epoch 3/3, Total_Loss: 355.5526, Recon_Loss: 354.4300, Kl_Loss: 18.7106\n",
      "ReplayVAE model saved to .trained/replayvae_2025-08-13_12-39-32.pt\n"
     ]
    },
    {
     "name": "stderr",
     "output_type": "stream",
     "text": [
      "Epoch 1/3 (Beta: 0.09): 100%|██████████| 28/28 [00:13<00:00,  2.06it/s]\n"
     ]
    },
    {
     "name": "stdout",
     "output_type": "stream",
     "text": [
      "Epoch 1/3, Total_Loss: 363.8803, Recon_Loss: 362.1783, Kl_Loss: 18.9118\n"
     ]
    },
    {
     "name": "stderr",
     "output_type": "stream",
     "text": [
      "Epoch 2/3 (Beta: 0.12): 100%|██████████| 28/28 [00:13<00:00,  2.07it/s]\n"
     ]
    },
    {
     "name": "stdout",
     "output_type": "stream",
     "text": [
      "Epoch 2/3, Total_Loss: 376.6126, Recon_Loss: 374.4151, Kl_Loss: 18.3120\n"
     ]
    },
    {
     "name": "stderr",
     "output_type": "stream",
     "text": [
      "Epoch 3/3 (Beta: 0.15): 100%|██████████| 28/28 [00:13<00:00,  2.07it/s]\n"
     ]
    },
    {
     "name": "stdout",
     "output_type": "stream",
     "text": [
      "Epoch 3/3, Total_Loss: 388.3261, Recon_Loss: 385.6253, Kl_Loss: 18.0058\n",
      "ReplayVAE model saved to .trained/replayvae_2025-08-13_12-40-13.pt\n"
     ]
    },
    {
     "name": "stderr",
     "output_type": "stream",
     "text": [
      "Epoch 1/3 (Beta: 0.18): 100%|██████████| 28/28 [00:13<00:00,  2.07it/s]\n"
     ]
    },
    {
     "name": "stdout",
     "output_type": "stream",
     "text": [
      "Epoch 1/3, Total_Loss: 375.2372, Recon_Loss: 372.4345, Kl_Loss: 15.5703\n"
     ]
    },
    {
     "name": "stderr",
     "output_type": "stream",
     "text": [
      "Epoch 2/3 (Beta: 0.21): 100%|██████████| 28/28 [00:13<00:00,  2.07it/s]\n"
     ]
    },
    {
     "name": "stdout",
     "output_type": "stream",
     "text": [
      "Epoch 2/3, Total_Loss: 374.4938, Recon_Loss: 371.3295, Kl_Loss: 15.0679\n"
     ]
    },
    {
     "name": "stderr",
     "output_type": "stream",
     "text": [
      "Epoch 3/3 (Beta: 0.24): 100%|██████████| 28/28 [00:13<00:00,  2.07it/s]\n"
     ]
    },
    {
     "name": "stdout",
     "output_type": "stream",
     "text": [
      "Epoch 3/3, Total_Loss: 368.8738, Recon_Loss: 365.5337, Kl_Loss: 13.9175\n",
      "ReplayVAE model saved to .trained/replayvae_2025-08-13_12-40-54.pt\n"
     ]
    },
    {
     "name": "stderr",
     "output_type": "stream",
     "text": [
      "Epoch 1/3 (Beta: 0.27): 100%|██████████| 28/28 [00:13<00:00,  2.06it/s]\n"
     ]
    },
    {
     "name": "stdout",
     "output_type": "stream",
     "text": [
      "Epoch 1/3, Total_Loss: 367.6457, Recon_Loss: 364.2381, Kl_Loss: 12.6206\n"
     ]
    },
    {
     "name": "stderr",
     "output_type": "stream",
     "text": [
      "Epoch 2/3 (Beta: 0.3): 100%|██████████| 28/28 [00:13<00:00,  2.06it/s]\n"
     ]
    },
    {
     "name": "stdout",
     "output_type": "stream",
     "text": [
      "Epoch 2/3, Total_Loss: 355.6648, Recon_Loss: 352.1085, Kl_Loss: 11.8542\n"
     ]
    },
    {
     "name": "stderr",
     "output_type": "stream",
     "text": [
      "Epoch 3/3 (Beta: 0.3): 100%|██████████| 28/28 [00:13<00:00,  2.07it/s]\n"
     ]
    },
    {
     "name": "stdout",
     "output_type": "stream",
     "text": [
      "Epoch 3/3, Total_Loss: 357.1913, Recon_Loss: 353.9878, Kl_Loss: 10.6783\n",
      "ReplayVAE model saved to .trained/replayvae_2025-08-13_12-41-34.pt\n"
     ]
    },
    {
     "name": "stderr",
     "output_type": "stream",
     "text": [
      "Epoch 1/3 (Beta: 0.3): 100%|██████████| 28/28 [00:13<00:00,  2.07it/s]\n"
     ]
    },
    {
     "name": "stdout",
     "output_type": "stream",
     "text": [
      "Epoch 1/3, Total_Loss: 355.2715, Recon_Loss: 352.2900, Kl_Loss: 9.9384\n"
     ]
    },
    {
     "name": "stderr",
     "output_type": "stream",
     "text": [
      "Epoch 2/3 (Beta: 0.3): 100%|██████████| 28/28 [00:13<00:00,  2.08it/s]\n"
     ]
    },
    {
     "name": "stdout",
     "output_type": "stream",
     "text": [
      "Epoch 2/3, Total_Loss: 358.0910, Recon_Loss: 355.1429, Kl_Loss: 9.8269\n"
     ]
    },
    {
     "name": "stderr",
     "output_type": "stream",
     "text": [
      "Epoch 3/3 (Beta: 0.3): 100%|██████████| 28/28 [00:13<00:00,  2.07it/s]\n"
     ]
    },
    {
     "name": "stdout",
     "output_type": "stream",
     "text": [
      "Epoch 3/3, Total_Loss: 352.8250, Recon_Loss: 349.8788, Kl_Loss: 9.8209\n",
      "ReplayVAE model saved to .trained/replayvae_2025-08-13_12-42-15.pt\n"
     ]
    },
    {
     "name": "stderr",
     "output_type": "stream",
     "text": [
      "Epoch 1/3 (Beta: 0.0): 100%|██████████| 28/28 [00:13<00:00,  2.08it/s]\n"
     ]
    },
    {
     "name": "stdout",
     "output_type": "stream",
     "text": [
      "Epoch 1/3, Total_Loss: 344.5349, Recon_Loss: 344.5349, Kl_Loss: 11.0359\n"
     ]
    },
    {
     "name": "stderr",
     "output_type": "stream",
     "text": [
      "Epoch 2/3 (Beta: 0.03): 100%|██████████| 28/28 [00:13<00:00,  2.08it/s]\n"
     ]
    },
    {
     "name": "stdout",
     "output_type": "stream",
     "text": [
      "Epoch 2/3, Total_Loss: 344.2048, Recon_Loss: 343.7496, Kl_Loss: 15.1761\n"
     ]
    },
    {
     "name": "stderr",
     "output_type": "stream",
     "text": [
      "Epoch 3/3 (Beta: 0.06): 100%|██████████| 28/28 [00:13<00:00,  2.07it/s]\n"
     ]
    },
    {
     "name": "stdout",
     "output_type": "stream",
     "text": [
      "Epoch 3/3, Total_Loss: 338.9086, Recon_Loss: 337.8520, Kl_Loss: 17.6109\n",
      "ReplayVAE model saved to .trained/replayvae_2025-08-13_12-42-55.pt\n"
     ]
    },
    {
     "name": "stderr",
     "output_type": "stream",
     "text": [
      "Epoch 1/3 (Beta: 0.09): 100%|██████████| 28/28 [00:13<00:00,  2.08it/s]\n"
     ]
    },
    {
     "name": "stdout",
     "output_type": "stream",
     "text": [
      "Epoch 1/3, Total_Loss: 341.4150, Recon_Loss: 339.8001, Kl_Loss: 17.9438\n"
     ]
    },
    {
     "name": "stderr",
     "output_type": "stream",
     "text": [
      "Epoch 2/3 (Beta: 0.12): 100%|██████████| 28/28 [00:13<00:00,  2.07it/s]\n"
     ]
    },
    {
     "name": "stdout",
     "output_type": "stream",
     "text": [
      "Epoch 2/3, Total_Loss: 343.6858, Recon_Loss: 341.6911, Kl_Loss: 16.6225\n"
     ]
    },
    {
     "name": "stderr",
     "output_type": "stream",
     "text": [
      "Epoch 3/3 (Beta: 0.15): 100%|██████████| 28/28 [00:13<00:00,  2.07it/s]\n"
     ]
    },
    {
     "name": "stdout",
     "output_type": "stream",
     "text": [
      "Epoch 3/3, Total_Loss: 354.0353, Recon_Loss: 351.9488, Kl_Loss: 13.9101\n",
      "ReplayVAE model saved to .trained/replayvae_2025-08-13_12-43-36.pt\n"
     ]
    },
    {
     "name": "stderr",
     "output_type": "stream",
     "text": [
      "Epoch 1/3 (Beta: 0.18): 100%|██████████| 28/28 [00:13<00:00,  2.08it/s]\n"
     ]
    },
    {
     "name": "stdout",
     "output_type": "stream",
     "text": [
      "Epoch 1/3, Total_Loss: 352.1672, Recon_Loss: 349.8648, Kl_Loss: 12.7913\n"
     ]
    },
    {
     "name": "stderr",
     "output_type": "stream",
     "text": [
      "Epoch 2/3 (Beta: 0.21): 100%|██████████| 28/28 [00:13<00:00,  2.08it/s]\n"
     ]
    },
    {
     "name": "stdout",
     "output_type": "stream",
     "text": [
      "Epoch 2/3, Total_Loss: 349.8921, Recon_Loss: 347.1261, Kl_Loss: 13.1715\n"
     ]
    },
    {
     "name": "stderr",
     "output_type": "stream",
     "text": [
      "Epoch 3/3 (Beta: 0.24): 100%|██████████| 28/28 [00:13<00:00,  2.08it/s]\n"
     ]
    },
    {
     "name": "stdout",
     "output_type": "stream",
     "text": [
      "Epoch 3/3, Total_Loss: 354.1762, Recon_Loss: 351.2921, Kl_Loss: 12.0171\n",
      "ReplayVAE model saved to .trained/replayvae_2025-08-13_12-44-16.pt\n"
     ]
    },
    {
     "name": "stderr",
     "output_type": "stream",
     "text": [
      "Epoch 1/3 (Beta: 0.27): 100%|██████████| 28/28 [00:13<00:00,  2.07it/s]\n"
     ]
    },
    {
     "name": "stdout",
     "output_type": "stream",
     "text": [
      "Epoch 1/3, Total_Loss: 349.3112, Recon_Loss: 346.3288, Kl_Loss: 11.0461\n"
     ]
    },
    {
     "name": "stderr",
     "output_type": "stream",
     "text": [
      "Epoch 2/3 (Beta: 0.3): 100%|██████████| 28/28 [00:13<00:00,  2.08it/s]\n"
     ]
    },
    {
     "name": "stdout",
     "output_type": "stream",
     "text": [
      "Epoch 2/3, Total_Loss: 348.9774, Recon_Loss: 346.0103, Kl_Loss: 9.8903\n"
     ]
    },
    {
     "name": "stderr",
     "output_type": "stream",
     "text": [
      "Epoch 3/3 (Beta: 0.3): 100%|██████████| 28/28 [00:13<00:00,  2.07it/s]\n"
     ]
    },
    {
     "name": "stdout",
     "output_type": "stream",
     "text": [
      "Epoch 3/3, Total_Loss: 347.0436, Recon_Loss: 344.1874, Kl_Loss: 9.5209\n",
      "ReplayVAE model saved to .trained/replayvae_2025-08-13_12-44-57.pt\n"
     ]
    },
    {
     "name": "stderr",
     "output_type": "stream",
     "text": [
      "Epoch 1/3 (Beta: 0.3): 100%|██████████| 28/28 [00:13<00:00,  2.08it/s]\n"
     ]
    },
    {
     "name": "stdout",
     "output_type": "stream",
     "text": [
      "Epoch 1/3, Total_Loss: 344.0845, Recon_Loss: 341.3217, Kl_Loss: 9.2093\n"
     ]
    },
    {
     "name": "stderr",
     "output_type": "stream",
     "text": [
      "Epoch 2/3 (Beta: 0.3): 100%|██████████| 28/28 [00:13<00:00,  2.07it/s]\n"
     ]
    },
    {
     "name": "stdout",
     "output_type": "stream",
     "text": [
      "Epoch 2/3, Total_Loss: 356.1606, Recon_Loss: 353.4752, Kl_Loss: 8.9513\n"
     ]
    },
    {
     "name": "stderr",
     "output_type": "stream",
     "text": [
      "Epoch 3/3 (Beta: 0.3): 100%|██████████| 28/28 [00:13<00:00,  2.07it/s]\n"
     ]
    },
    {
     "name": "stdout",
     "output_type": "stream",
     "text": [
      "Epoch 3/3, Total_Loss: 356.8334, Recon_Loss: 353.9874, Kl_Loss: 9.4865\n",
      "ReplayVAE model saved to .trained/replayvae_2025-08-13_12-45-37.pt\n"
     ]
    },
    {
     "data": {
      "text/plain": "<Figure size 1500x400 with 3 Axes>",
      "image/png": "[encoded data removed]"
     },
     "metadata": {},
     "output_type": "display_data"
    }
   ],
   "source": [
    "model = vae\n",
    "\n",
    "EPOCHS = 3\n",
    "\n",
    "for i in range(25):\n",
    "    model.train(EPOCHS)\n",
    "    model.save()\n",
    "    \n",
    "model.plot_losses()"
   ]
  },
  {
   "cell_type": "code",
   "execution_count": 31,
   "outputs": [
    {
     "name": "stderr",
     "output_type": "stream",
     "text": [
      "Epoch 1/3 (Beta: 0.0): 100%|██████████| 28/28 [00:13<00:00,  2.05it/s]\n"
     ]
    },
    {
     "name": "stdout",
     "output_type": "stream",
     "text": [
      "Epoch 1/3, Total_Loss: 346.5733, Recon_Loss: 346.5733, Kl_Loss: 10.1041\n"
     ]
    },
    {
     "name": "stderr",
     "output_type": "stream",
     "text": [
      "Epoch 2/3 (Beta: 0.03): 100%|██████████| 28/28 [00:13<00:00,  2.07it/s]\n"
     ]
    },
    {
     "name": "stdout",
     "output_type": "stream",
     "text": [
      "Epoch 2/3, Total_Loss: 339.6012, Recon_Loss: 339.2210, Kl_Loss: 12.6734\n"
     ]
    },
    {
     "name": "stderr",
     "output_type": "stream",
     "text": [
      "Epoch 3/3 (Beta: 0.06): 100%|██████████| 28/28 [00:13<00:00,  2.07it/s]\n"
     ]
    },
    {
     "name": "stdout",
     "output_type": "stream",
     "text": [
      "Epoch 3/3, Total_Loss: 335.8526, Recon_Loss: 334.9592, Kl_Loss: 14.8888\n",
      "ReplayVAE model saved to .trained/replayvae_2025-08-13_12-46-18.pt\n"
     ]
    },
    {
     "name": "stderr",
     "output_type": "stream",
     "text": [
      "Epoch 1/3 (Beta: 0.09): 100%|██████████| 28/28 [00:13<00:00,  2.08it/s]\n"
     ]
    },
    {
     "name": "stdout",
     "output_type": "stream",
     "text": [
      "Epoch 1/3, Total_Loss: 347.5412, Recon_Loss: 346.1222, Kl_Loss: 15.7666\n"
     ]
    },
    {
     "name": "stderr",
     "output_type": "stream",
     "text": [
      "Epoch 2/3 (Beta: 0.12): 100%|██████████| 28/28 [00:13<00:00,  2.08it/s]\n"
     ]
    },
    {
     "name": "stdout",
     "output_type": "stream",
     "text": [
      "Epoch 2/3, Total_Loss: 351.8801, Recon_Loss: 349.9666, Kl_Loss: 15.9456\n"
     ]
    },
    {
     "name": "stderr",
     "output_type": "stream",
     "text": [
      "Epoch 3/3 (Beta: 0.15): 100%|██████████| 28/28 [00:13<00:00,  2.07it/s]\n"
     ]
    },
    {
     "name": "stdout",
     "output_type": "stream",
     "text": [
      "Epoch 3/3, Total_Loss: 360.3005, Recon_Loss: 358.0299, Kl_Loss: 15.1369\n",
      "ReplayVAE model saved to .trained/replayvae_2025-08-13_12-46-59.pt\n"
     ]
    },
    {
     "name": "stderr",
     "output_type": "stream",
     "text": [
      "Epoch 1/3 (Beta: 0.18): 100%|██████████| 28/28 [00:13<00:00,  2.08it/s]\n"
     ]
    },
    {
     "name": "stdout",
     "output_type": "stream",
     "text": [
      "Epoch 1/3, Total_Loss: 347.0189, Recon_Loss: 344.4623, Kl_Loss: 14.2030\n"
     ]
    },
    {
     "name": "stderr",
     "output_type": "stream",
     "text": [
      "Epoch 2/3 (Beta: 0.21): 100%|██████████| 28/28 [00:13<00:00,  2.07it/s]\n"
     ]
    },
    {
     "name": "stdout",
     "output_type": "stream",
     "text": [
      "Epoch 2/3, Total_Loss: 350.6769, Recon_Loss: 347.9172, Kl_Loss: 13.1414\n"
     ]
    },
    {
     "name": "stderr",
     "output_type": "stream",
     "text": [
      "Epoch 3/3 (Beta: 0.24): 100%|██████████| 28/28 [00:13<00:00,  2.08it/s]\n"
     ]
    },
    {
     "name": "stdout",
     "output_type": "stream",
     "text": [
      "Epoch 3/3, Total_Loss: 356.1178, Recon_Loss: 353.3036, Kl_Loss: 11.7260\n",
      "ReplayVAE model saved to .trained/replayvae_2025-08-13_12-47-39.pt\n"
     ]
    },
    {
     "name": "stderr",
     "output_type": "stream",
     "text": [
      "Epoch 1/3 (Beta: 0.27): 100%|██████████| 28/28 [00:13<00:00,  2.08it/s]\n"
     ]
    },
    {
     "name": "stdout",
     "output_type": "stream",
     "text": [
      "Epoch 1/3, Total_Loss: 355.6584, Recon_Loss: 352.5334, Kl_Loss: 11.5741\n"
     ]
    },
    {
     "name": "stderr",
     "output_type": "stream",
     "text": [
      "Epoch 2/3 (Beta: 0.3): 100%|██████████| 28/28 [00:13<00:00,  2.08it/s]\n"
     ]
    },
    {
     "name": "stdout",
     "output_type": "stream",
     "text": [
      "Epoch 2/3, Total_Loss: 349.6112, Recon_Loss: 346.5107, Kl_Loss: 10.3352\n"
     ]
    },
    {
     "name": "stderr",
     "output_type": "stream",
     "text": [
      "Epoch 3/3 (Beta: 0.3): 100%|██████████| 28/28 [00:13<00:00,  2.07it/s]\n"
     ]
    },
    {
     "name": "stdout",
     "output_type": "stream",
     "text": [
      "Epoch 3/3, Total_Loss: 341.2098, Recon_Loss: 338.4208, Kl_Loss: 9.2964\n",
      "ReplayVAE model saved to .trained/replayvae_2025-08-13_12-48-20.pt\n"
     ]
    },
    {
     "name": "stderr",
     "output_type": "stream",
     "text": [
      "Epoch 1/3 (Beta: 0.3): 100%|██████████| 28/28 [00:13<00:00,  2.08it/s]\n"
     ]
    },
    {
     "name": "stdout",
     "output_type": "stream",
     "text": [
      "Epoch 1/3, Total_Loss: 347.3687, Recon_Loss: 344.7181, Kl_Loss: 8.8351\n"
     ]
    },
    {
     "name": "stderr",
     "output_type": "stream",
     "text": [
      "Epoch 2/3 (Beta: 0.3): 100%|██████████| 28/28 [00:13<00:00,  2.08it/s]\n"
     ]
    },
    {
     "name": "stdout",
     "output_type": "stream",
     "text": [
      "Epoch 2/3, Total_Loss: 350.8315, Recon_Loss: 348.1394, Kl_Loss: 8.9737\n"
     ]
    },
    {
     "name": "stderr",
     "output_type": "stream",
     "text": [
      "Epoch 3/3 (Beta: 0.3): 100%|██████████| 28/28 [00:13<00:00,  2.07it/s]\n"
     ]
    },
    {
     "name": "stdout",
     "output_type": "stream",
     "text": [
      "Epoch 3/3, Total_Loss: 356.4055, Recon_Loss: 353.4571, Kl_Loss: 9.8281\n",
      "ReplayVAE model saved to .trained/replayvae_2025-08-13_12-49-00.pt\n"
     ]
    },
    {
     "name": "stderr",
     "output_type": "stream",
     "text": [
      "Epoch 1/3 (Beta: 0.0): 100%|██████████| 28/28 [00:13<00:00,  2.08it/s]\n"
     ]
    },
    {
     "name": "stdout",
     "output_type": "stream",
     "text": [
      "Epoch 1/3, Total_Loss: 354.0173, Recon_Loss: 354.0173, Kl_Loss: 14.2054\n"
     ]
    },
    {
     "name": "stderr",
     "output_type": "stream",
     "text": [
      "Epoch 2/3 (Beta: 0.03): 100%|██████████| 28/28 [00:13<00:00,  2.08it/s]\n"
     ]
    },
    {
     "name": "stdout",
     "output_type": "stream",
     "text": [
      "Epoch 2/3, Total_Loss: 357.2716, Recon_Loss: 356.7566, Kl_Loss: 17.1676\n"
     ]
    },
    {
     "name": "stderr",
     "output_type": "stream",
     "text": [
      "Epoch 3/3 (Beta: 0.06): 100%|██████████| 28/28 [00:13<00:00,  2.08it/s]\n"
     ]
    },
    {
     "name": "stdout",
     "output_type": "stream",
     "text": [
      "Epoch 3/3, Total_Loss: 355.2144, Recon_Loss: 353.9893, Kl_Loss: 20.4185\n",
      "ReplayVAE model saved to .trained/replayvae_2025-08-13_12-49-41.pt\n"
     ]
    },
    {
     "name": "stderr",
     "output_type": "stream",
     "text": [
      "Epoch 1/3 (Beta: 0.09): 100%|██████████| 28/28 [00:13<00:00,  2.08it/s]\n"
     ]
    },
    {
     "name": "stdout",
     "output_type": "stream",
     "text": [
      "Epoch 1/3, Total_Loss: 342.4017, Recon_Loss: 340.5659, Kl_Loss: 20.3977\n"
     ]
    },
    {
     "name": "stderr",
     "output_type": "stream",
     "text": [
      "Epoch 2/3 (Beta: 0.12): 100%|██████████| 28/28 [00:13<00:00,  2.07it/s]\n"
     ]
    },
    {
     "name": "stdout",
     "output_type": "stream",
     "text": [
      "Epoch 2/3, Total_Loss: 349.3102, Recon_Loss: 347.0132, Kl_Loss: 19.1417\n"
     ]
    },
    {
     "name": "stderr",
     "output_type": "stream",
     "text": [
      "Epoch 3/3 (Beta: 0.15): 100%|██████████| 28/28 [00:13<00:00,  2.07it/s]\n"
     ]
    },
    {
     "name": "stdout",
     "output_type": "stream",
     "text": [
      "Epoch 3/3, Total_Loss: 354.2652, Recon_Loss: 351.7462, Kl_Loss: 16.7936\n",
      "ReplayVAE model saved to .trained/replayvae_2025-08-13_12-50-21.pt\n"
     ]
    },
    {
     "name": "stderr",
     "output_type": "stream",
     "text": [
      "Epoch 1/3 (Beta: 0.18): 100%|██████████| 28/28 [00:13<00:00,  2.08it/s]\n"
     ]
    },
    {
     "name": "stdout",
     "output_type": "stream",
     "text": [
      "Epoch 1/3, Total_Loss: 351.2448, Recon_Loss: 348.5483, Kl_Loss: 14.9804\n"
     ]
    },
    {
     "name": "stderr",
     "output_type": "stream",
     "text": [
      "Epoch 2/3 (Beta: 0.21): 100%|██████████| 28/28 [00:13<00:00,  2.08it/s]\n"
     ]
    },
    {
     "name": "stdout",
     "output_type": "stream",
     "text": [
      "Epoch 2/3, Total_Loss: 345.4863, Recon_Loss: 342.7146, Kl_Loss: 13.1987\n"
     ]
    },
    {
     "name": "stderr",
     "output_type": "stream",
     "text": [
      "Epoch 3/3 (Beta: 0.24): 100%|██████████| 28/28 [00:13<00:00,  2.07it/s]\n"
     ]
    },
    {
     "name": "stdout",
     "output_type": "stream",
     "text": [
      "Epoch 3/3, Total_Loss: 339.6473, Recon_Loss: 336.8565, Kl_Loss: 11.6283\n",
      "ReplayVAE model saved to .trained/replayvae_2025-08-13_12-51-02.pt\n"
     ]
    },
    {
     "name": "stderr",
     "output_type": "stream",
     "text": [
      "Epoch 1/3 (Beta: 0.27): 100%|██████████| 28/28 [00:13<00:00,  2.08it/s]\n"
     ]
    },
    {
     "name": "stdout",
     "output_type": "stream",
     "text": [
      "Epoch 1/3, Total_Loss: 341.8958, Recon_Loss: 338.9705, Kl_Loss: 10.8345\n"
     ]
    },
    {
     "name": "stderr",
     "output_type": "stream",
     "text": [
      "Epoch 2/3 (Beta: 0.3): 100%|██████████| 28/28 [00:13<00:00,  2.07it/s]\n"
     ]
    },
    {
     "name": "stdout",
     "output_type": "stream",
     "text": [
      "Epoch 2/3, Total_Loss: 341.9790, Recon_Loss: 339.0672, Kl_Loss: 9.7063\n"
     ]
    },
    {
     "name": "stderr",
     "output_type": "stream",
     "text": [
      "Epoch 3/3 (Beta: 0.3): 100%|██████████| 28/28 [00:13<00:00,  2.08it/s]\n"
     ]
    },
    {
     "name": "stdout",
     "output_type": "stream",
     "text": [
      "Epoch 3/3, Total_Loss: 345.1354, Recon_Loss: 342.4065, Kl_Loss: 9.0966\n",
      "ReplayVAE model saved to .trained/replayvae_2025-08-13_12-51-42.pt\n"
     ]
    },
    {
     "name": "stderr",
     "output_type": "stream",
     "text": [
      "Epoch 1/3 (Beta: 0.3): 100%|██████████| 28/28 [00:13<00:00,  2.07it/s]\n"
     ]
    },
    {
     "name": "stdout",
     "output_type": "stream",
     "text": [
      "Epoch 1/3, Total_Loss: 343.2674, Recon_Loss: 340.4866, Kl_Loss: 9.2692\n"
     ]
    },
    {
     "name": "stderr",
     "output_type": "stream",
     "text": [
      "Epoch 2/3 (Beta: 0.3): 100%|██████████| 28/28 [00:13<00:00,  2.08it/s]\n"
     ]
    },
    {
     "name": "stdout",
     "output_type": "stream",
     "text": [
      "Epoch 2/3, Total_Loss: 339.8781, Recon_Loss: 337.2193, Kl_Loss: 8.8626\n"
     ]
    },
    {
     "name": "stderr",
     "output_type": "stream",
     "text": [
      "Epoch 3/3 (Beta: 0.3): 100%|██████████| 28/28 [00:13<00:00,  2.07it/s]\n"
     ]
    },
    {
     "name": "stdout",
     "output_type": "stream",
     "text": [
      "Epoch 3/3, Total_Loss: 340.3110, Recon_Loss: 337.6824, Kl_Loss: 8.7620\n",
      "ReplayVAE model saved to .trained/replayvae_2025-08-13_12-52-23.pt\n"
     ]
    },
    {
     "name": "stderr",
     "output_type": "stream",
     "text": [
      "Epoch 1/3 (Beta: 0.0): 100%|██████████| 28/28 [00:13<00:00,  2.08it/s]\n"
     ]
    },
    {
     "name": "stdout",
     "output_type": "stream",
     "text": [
      "Epoch 1/3, Total_Loss: 338.5761, Recon_Loss: 338.5761, Kl_Loss: 10.5226\n"
     ]
    },
    {
     "name": "stderr",
     "output_type": "stream",
     "text": [
      "Epoch 2/3 (Beta: 0.03): 100%|██████████| 28/28 [00:13<00:00,  2.07it/s]\n"
     ]
    },
    {
     "name": "stdout",
     "output_type": "stream",
     "text": [
      "Epoch 2/3, Total_Loss: 361.9756, Recon_Loss: 361.5617, Kl_Loss: 13.7963\n"
     ]
    },
    {
     "name": "stderr",
     "output_type": "stream",
     "text": [
      "Epoch 3/3 (Beta: 0.06): 100%|██████████| 28/28 [00:13<00:00,  2.08it/s]\n"
     ]
    },
    {
     "name": "stdout",
     "output_type": "stream",
     "text": [
      "Epoch 3/3, Total_Loss: 358.6848, Recon_Loss: 357.6086, Kl_Loss: 17.9379\n",
      "ReplayVAE model saved to .trained/replayvae_2025-08-13_12-53-03.pt\n"
     ]
    },
    {
     "name": "stderr",
     "output_type": "stream",
     "text": [
      "Epoch 1/3 (Beta: 0.09): 100%|██████████| 28/28 [00:13<00:00,  2.07it/s]\n"
     ]
    },
    {
     "name": "stdout",
     "output_type": "stream",
     "text": [
      "Epoch 1/3, Total_Loss: 362.8121, Recon_Loss: 361.1561, Kl_Loss: 18.3992\n"
     ]
    },
    {
     "name": "stderr",
     "output_type": "stream",
     "text": [
      "Epoch 2/3 (Beta: 0.12): 100%|██████████| 28/28 [00:13<00:00,  2.07it/s]\n"
     ]
    },
    {
     "name": "stdout",
     "output_type": "stream",
     "text": [
      "Epoch 2/3, Total_Loss: 356.8198, Recon_Loss: 354.7246, Kl_Loss: 17.4601\n"
     ]
    },
    {
     "name": "stderr",
     "output_type": "stream",
     "text": [
      "Epoch 3/3 (Beta: 0.15): 100%|██████████| 28/28 [00:13<00:00,  2.06it/s]\n"
     ]
    },
    {
     "name": "stdout",
     "output_type": "stream",
     "text": [
      "Epoch 3/3, Total_Loss: 352.0988, Recon_Loss: 349.6718, Kl_Loss: 16.1801\n",
      "ReplayVAE model saved to .trained/replayvae_2025-08-13_12-53-44.pt\n"
     ]
    },
    {
     "name": "stderr",
     "output_type": "stream",
     "text": [
      "Epoch 1/3 (Beta: 0.18): 100%|██████████| 28/28 [00:13<00:00,  2.08it/s]\n"
     ]
    },
    {
     "name": "stdout",
     "output_type": "stream",
     "text": [
      "Epoch 1/3, Total_Loss: 351.8131, Recon_Loss: 349.1805, Kl_Loss: 14.6258\n"
     ]
    },
    {
     "name": "stderr",
     "output_type": "stream",
     "text": [
      "Epoch 2/3 (Beta: 0.21): 100%|██████████| 28/28 [00:13<00:00,  2.08it/s]\n"
     ]
    },
    {
     "name": "stdout",
     "output_type": "stream",
     "text": [
      "Epoch 2/3, Total_Loss: 339.7125, Recon_Loss: 336.9786, Kl_Loss: 13.0187\n"
     ]
    },
    {
     "name": "stderr",
     "output_type": "stream",
     "text": [
      "Epoch 3/3 (Beta: 0.24): 100%|██████████| 28/28 [00:13<00:00,  2.08it/s]\n"
     ]
    },
    {
     "name": "stdout",
     "output_type": "stream",
     "text": [
      "Epoch 3/3, Total_Loss: 339.5967, Recon_Loss: 336.7753, Kl_Loss: 11.7560\n",
      "ReplayVAE model saved to .trained/replayvae_2025-08-13_12-54-24.pt\n"
     ]
    },
    {
     "name": "stderr",
     "output_type": "stream",
     "text": [
      "Epoch 1/3 (Beta: 0.27): 100%|██████████| 28/28 [00:13<00:00,  2.07it/s]\n"
     ]
    },
    {
     "name": "stdout",
     "output_type": "stream",
     "text": [
      "Epoch 1/3, Total_Loss: 355.8368, Recon_Loss: 352.9109, Kl_Loss: 10.8364\n"
     ]
    },
    {
     "name": "stderr",
     "output_type": "stream",
     "text": [
      "Epoch 2/3 (Beta: 0.3): 100%|██████████| 28/28 [00:13<00:00,  2.07it/s]\n"
     ]
    },
    {
     "name": "stdout",
     "output_type": "stream",
     "text": [
      "Epoch 2/3, Total_Loss: 355.4959, Recon_Loss: 352.3569, Kl_Loss: 10.4636\n"
     ]
    },
    {
     "name": "stderr",
     "output_type": "stream",
     "text": [
      "Epoch 3/3 (Beta: 0.3): 100%|██████████| 28/28 [00:13<00:00,  2.07it/s]\n"
     ]
    },
    {
     "name": "stdout",
     "output_type": "stream",
     "text": [
      "Epoch 3/3, Total_Loss: 349.3866, Recon_Loss: 346.4854, Kl_Loss: 9.6707\n",
      "ReplayVAE model saved to .trained/replayvae_2025-08-13_12-55-05.pt\n"
     ]
    },
    {
     "name": "stderr",
     "output_type": "stream",
     "text": [
      "Epoch 1/3 (Beta: 0.3): 100%|██████████| 28/28 [00:13<00:00,  2.08it/s]\n"
     ]
    },
    {
     "name": "stdout",
     "output_type": "stream",
     "text": [
      "Epoch 1/3, Total_Loss: 349.6186, Recon_Loss: 346.7004, Kl_Loss: 9.7272\n"
     ]
    },
    {
     "name": "stderr",
     "output_type": "stream",
     "text": [
      "Epoch 2/3 (Beta: 0.3): 100%|██████████| 28/28 [00:13<00:00,  2.07it/s]\n"
     ]
    },
    {
     "name": "stdout",
     "output_type": "stream",
     "text": [
      "Epoch 2/3, Total_Loss: 339.1461, Recon_Loss: 336.3677, Kl_Loss: 9.2612\n"
     ]
    },
    {
     "name": "stderr",
     "output_type": "stream",
     "text": [
      "Epoch 3/3 (Beta: 0.3): 100%|██████████| 28/28 [00:13<00:00,  2.08it/s]\n"
     ]
    },
    {
     "name": "stdout",
     "output_type": "stream",
     "text": [
      "Epoch 3/3, Total_Loss: 341.1593, Recon_Loss: 338.3945, Kl_Loss: 9.2158\n",
      "ReplayVAE model saved to .trained/replayvae_2025-08-13_12-55-45.pt\n"
     ]
    },
    {
     "name": "stderr",
     "output_type": "stream",
     "text": [
      "Epoch 1/3 (Beta: 0.0): 100%|██████████| 28/28 [00:13<00:00,  2.07it/s]\n"
     ]
    },
    {
     "name": "stdout",
     "output_type": "stream",
     "text": [
      "Epoch 1/3, Total_Loss: 347.0009, Recon_Loss: 347.0009, Kl_Loss: 10.5827\n"
     ]
    },
    {
     "name": "stderr",
     "output_type": "stream",
     "text": [
      "Epoch 2/3 (Beta: 0.03): 100%|██████████| 28/28 [00:13<00:00,  2.08it/s]\n"
     ]
    },
    {
     "name": "stdout",
     "output_type": "stream",
     "text": [
      "Epoch 2/3, Total_Loss: 349.6605, Recon_Loss: 349.1733, Kl_Loss: 16.2395\n"
     ]
    },
    {
     "name": "stderr",
     "output_type": "stream",
     "text": [
      "Epoch 3/3 (Beta: 0.06): 100%|██████████| 28/28 [00:13<00:00,  2.07it/s]\n"
     ]
    },
    {
     "name": "stdout",
     "output_type": "stream",
     "text": [
      "Epoch 3/3, Total_Loss: 346.6852, Recon_Loss: 345.4494, Kl_Loss: 20.5963\n",
      "ReplayVAE model saved to .trained/replayvae_2025-08-13_12-56-26.pt\n"
     ]
    },
    {
     "name": "stderr",
     "output_type": "stream",
     "text": [
      "Epoch 1/3 (Beta: 0.09): 100%|██████████| 28/28 [00:13<00:00,  2.08it/s]\n"
     ]
    },
    {
     "name": "stdout",
     "output_type": "stream",
     "text": [
      "Epoch 1/3, Total_Loss: 341.1678, Recon_Loss: 339.3088, Kl_Loss: 20.6560\n"
     ]
    },
    {
     "name": "stderr",
     "output_type": "stream",
     "text": [
      "Epoch 2/3 (Beta: 0.12): 100%|██████████| 28/28 [00:13<00:00,  2.07it/s]\n"
     ]
    },
    {
     "name": "stdout",
     "output_type": "stream",
     "text": [
      "Epoch 2/3, Total_Loss: 342.2838, Recon_Loss: 340.1331, Kl_Loss: 17.9221\n"
     ]
    },
    {
     "name": "stderr",
     "output_type": "stream",
     "text": [
      "Epoch 3/3 (Beta: 0.15): 100%|██████████| 28/28 [00:13<00:00,  2.08it/s]\n"
     ]
    },
    {
     "name": "stdout",
     "output_type": "stream",
     "text": [
      "Epoch 3/3, Total_Loss: 337.1476, Recon_Loss: 334.7785, Kl_Loss: 15.7944\n",
      "ReplayVAE model saved to .trained/replayvae_2025-08-13_12-57-06.pt\n"
     ]
    },
    {
     "name": "stderr",
     "output_type": "stream",
     "text": [
      "Epoch 1/3 (Beta: 0.18): 100%|██████████| 28/28 [00:13<00:00,  2.07it/s]\n"
     ]
    },
    {
     "name": "stdout",
     "output_type": "stream",
     "text": [
      "Epoch 1/3, Total_Loss: 344.6572, Recon_Loss: 342.1963, Kl_Loss: 13.6719\n"
     ]
    },
    {
     "name": "stderr",
     "output_type": "stream",
     "text": [
      "Epoch 2/3 (Beta: 0.21): 100%|██████████| 28/28 [00:13<00:00,  2.07it/s]\n"
     ]
    },
    {
     "name": "stdout",
     "output_type": "stream",
     "text": [
      "Epoch 2/3, Total_Loss: 346.7672, Recon_Loss: 344.1035, Kl_Loss: 12.6843\n"
     ]
    },
    {
     "name": "stderr",
     "output_type": "stream",
     "text": [
      "Epoch 3/3 (Beta: 0.24): 100%|██████████| 28/28 [00:13<00:00,  2.07it/s]\n"
     ]
    },
    {
     "name": "stdout",
     "output_type": "stream",
     "text": [
      "Epoch 3/3, Total_Loss: 346.1604, Recon_Loss: 343.4093, Kl_Loss: 11.4630\n",
      "ReplayVAE model saved to .trained/replayvae_2025-08-13_12-57-47.pt\n"
     ]
    },
    {
     "name": "stderr",
     "output_type": "stream",
     "text": [
      "Epoch 1/3 (Beta: 0.27): 100%|██████████| 28/28 [00:13<00:00,  2.08it/s]\n"
     ]
    },
    {
     "name": "stdout",
     "output_type": "stream",
     "text": [
      "Epoch 1/3, Total_Loss: 349.4380, Recon_Loss: 346.5997, Kl_Loss: 10.5122\n"
     ]
    },
    {
     "name": "stderr",
     "output_type": "stream",
     "text": [
      "Epoch 2/3 (Beta: 0.3): 100%|██████████| 28/28 [00:13<00:00,  2.07it/s]\n"
     ]
    },
    {
     "name": "stdout",
     "output_type": "stream",
     "text": [
      "Epoch 2/3, Total_Loss: 346.1715, Recon_Loss: 343.1543, Kl_Loss: 10.0576\n"
     ]
    },
    {
     "name": "stderr",
     "output_type": "stream",
     "text": [
      "Epoch 3/3 (Beta: 0.3): 100%|██████████| 28/28 [00:13<00:00,  2.08it/s]\n"
     ]
    },
    {
     "name": "stdout",
     "output_type": "stream",
     "text": [
      "Epoch 3/3, Total_Loss: 351.8251, Recon_Loss: 348.9799, Kl_Loss: 9.4843\n",
      "ReplayVAE model saved to .trained/replayvae_2025-08-13_12-58-27.pt\n"
     ]
    },
    {
     "name": "stderr",
     "output_type": "stream",
     "text": [
      "Epoch 1/3 (Beta: 0.3): 100%|██████████| 28/28 [00:13<00:00,  2.07it/s]\n"
     ]
    },
    {
     "name": "stdout",
     "output_type": "stream",
     "text": [
      "Epoch 1/3, Total_Loss: 340.1523, Recon_Loss: 337.3079, Kl_Loss: 9.4812\n"
     ]
    },
    {
     "name": "stderr",
     "output_type": "stream",
     "text": [
      "Epoch 2/3 (Beta: 0.3): 100%|██████████| 28/28 [00:13<00:00,  2.08it/s]\n"
     ]
    },
    {
     "name": "stdout",
     "output_type": "stream",
     "text": [
      "Epoch 2/3, Total_Loss: 340.3930, Recon_Loss: 337.5435, Kl_Loss: 9.4981\n"
     ]
    },
    {
     "name": "stderr",
     "output_type": "stream",
     "text": [
      "Epoch 3/3 (Beta: 0.3): 100%|██████████| 28/28 [00:13<00:00,  2.07it/s]\n"
     ]
    },
    {
     "name": "stdout",
     "output_type": "stream",
     "text": [
      "Epoch 3/3, Total_Loss: 340.7867, Recon_Loss: 338.0800, Kl_Loss: 9.0224\n",
      "ReplayVAE model saved to .trained/replayvae_2025-08-13_12-59-08.pt\n"
     ]
    },
    {
     "name": "stderr",
     "output_type": "stream",
     "text": [
      "Epoch 1/3 (Beta: 0.0): 100%|██████████| 28/28 [00:13<00:00,  2.08it/s]\n"
     ]
    },
    {
     "name": "stdout",
     "output_type": "stream",
     "text": [
      "Epoch 1/3, Total_Loss: 354.6873, Recon_Loss: 354.6873, Kl_Loss: 10.4629\n"
     ]
    },
    {
     "name": "stderr",
     "output_type": "stream",
     "text": [
      "Epoch 2/3 (Beta: 0.03): 100%|██████████| 28/28 [00:13<00:00,  2.08it/s]\n"
     ]
    },
    {
     "name": "stdout",
     "output_type": "stream",
     "text": [
      "Epoch 2/3, Total_Loss: 350.4335, Recon_Loss: 349.9801, Kl_Loss: 15.1129\n"
     ]
    },
    {
     "name": "stderr",
     "output_type": "stream",
     "text": [
      "Epoch 3/3 (Beta: 0.06): 100%|██████████| 28/28 [00:13<00:00,  2.08it/s]\n"
     ]
    },
    {
     "name": "stdout",
     "output_type": "stream",
     "text": [
      "Epoch 3/3, Total_Loss: 350.0712, Recon_Loss: 348.9645, Kl_Loss: 18.4459\n",
      "ReplayVAE model saved to .trained/replayvae_2025-08-13_12-59-48.pt\n"
     ]
    },
    {
     "name": "stderr",
     "output_type": "stream",
     "text": [
      "Epoch 1/3 (Beta: 0.09): 100%|██████████| 28/28 [00:13<00:00,  2.07it/s]\n"
     ]
    },
    {
     "name": "stdout",
     "output_type": "stream",
     "text": [
      "Epoch 1/3, Total_Loss: 355.6709, Recon_Loss: 353.9048, Kl_Loss: 19.6238\n"
     ]
    },
    {
     "name": "stderr",
     "output_type": "stream",
     "text": [
      "Epoch 2/3 (Beta: 0.12): 100%|██████████| 28/28 [00:13<00:00,  2.08it/s]\n"
     ]
    },
    {
     "name": "stdout",
     "output_type": "stream",
     "text": [
      "Epoch 2/3, Total_Loss: 341.4699, Recon_Loss: 339.3048, Kl_Loss: 18.0422\n"
     ]
    },
    {
     "name": "stderr",
     "output_type": "stream",
     "text": [
      "Epoch 3/3 (Beta: 0.15): 100%|██████████| 28/28 [00:13<00:00,  2.07it/s]\n"
     ]
    },
    {
     "name": "stdout",
     "output_type": "stream",
     "text": [
      "Epoch 3/3, Total_Loss: 335.6186, Recon_Loss: 333.2238, Kl_Loss: 15.9654\n",
      "ReplayVAE model saved to .trained/replayvae_2025-08-13_13-00-29.pt\n"
     ]
    },
    {
     "name": "stderr",
     "output_type": "stream",
     "text": [
      "Epoch 1/3 (Beta: 0.18): 100%|██████████| 28/28 [00:13<00:00,  2.08it/s]\n"
     ]
    },
    {
     "name": "stdout",
     "output_type": "stream",
     "text": [
      "Epoch 1/3, Total_Loss: 334.8566, Recon_Loss: 332.3216, Kl_Loss: 14.0833\n"
     ]
    },
    {
     "name": "stderr",
     "output_type": "stream",
     "text": [
      "Epoch 2/3 (Beta: 0.21): 100%|██████████| 28/28 [00:13<00:00,  2.07it/s]\n"
     ]
    },
    {
     "name": "stdout",
     "output_type": "stream",
     "text": [
      "Epoch 2/3, Total_Loss: 334.7128, Recon_Loss: 332.1059, Kl_Loss: 12.4142\n"
     ]
    },
    {
     "name": "stderr",
     "output_type": "stream",
     "text": [
      "Epoch 3/3 (Beta: 0.24): 100%|██████████| 28/28 [00:13<00:00,  2.08it/s]\n"
     ]
    },
    {
     "name": "stdout",
     "output_type": "stream",
     "text": [
      "Epoch 3/3, Total_Loss: 336.9691, Recon_Loss: 334.2849, Kl_Loss: 11.1842\n",
      "ReplayVAE model saved to .trained/replayvae_2025-08-13_13-01-09.pt\n"
     ]
    },
    {
     "name": "stderr",
     "output_type": "stream",
     "text": [
      "Epoch 1/3 (Beta: 0.27): 100%|██████████| 28/28 [00:13<00:00,  2.06it/s]\n"
     ]
    },
    {
     "name": "stdout",
     "output_type": "stream",
     "text": [
      "Epoch 1/3, Total_Loss: 340.9934, Recon_Loss: 338.1150, Kl_Loss: 10.6610\n"
     ]
    },
    {
     "name": "stderr",
     "output_type": "stream",
     "text": [
      "Epoch 2/3 (Beta: 0.3): 100%|██████████| 28/28 [00:13<00:00,  2.08it/s]\n"
     ]
    },
    {
     "name": "stdout",
     "output_type": "stream",
     "text": [
      "Epoch 2/3, Total_Loss: 341.5485, Recon_Loss: 338.5835, Kl_Loss: 9.8835\n"
     ]
    },
    {
     "name": "stderr",
     "output_type": "stream",
     "text": [
      "Epoch 3/3 (Beta: 0.3): 100%|██████████| 28/28 [00:13<00:00,  2.08it/s]\n"
     ]
    },
    {
     "name": "stdout",
     "output_type": "stream",
     "text": [
      "Epoch 3/3, Total_Loss: 339.8266, Recon_Loss: 337.0329, Kl_Loss: 9.3126\n",
      "ReplayVAE model saved to .trained/replayvae_2025-08-13_13-01-50.pt\n"
     ]
    },
    {
     "name": "stderr",
     "output_type": "stream",
     "text": [
      "Epoch 1/3 (Beta: 0.3): 100%|██████████| 28/28 [00:13<00:00,  2.08it/s]\n"
     ]
    },
    {
     "name": "stdout",
     "output_type": "stream",
     "text": [
      "Epoch 1/3, Total_Loss: 346.0601, Recon_Loss: 343.3294, Kl_Loss: 9.1024\n"
     ]
    },
    {
     "name": "stderr",
     "output_type": "stream",
     "text": [
      "Epoch 2/3 (Beta: 0.3): 100%|██████████| 28/28 [00:13<00:00,  2.07it/s]\n"
     ]
    },
    {
     "name": "stdout",
     "output_type": "stream",
     "text": [
      "Epoch 2/3, Total_Loss: 343.9106, Recon_Loss: 341.1105, Kl_Loss: 9.3336\n"
     ]
    },
    {
     "name": "stderr",
     "output_type": "stream",
     "text": [
      "Epoch 3/3 (Beta: 0.3): 100%|██████████| 28/28 [00:13<00:00,  2.08it/s]\n"
     ]
    },
    {
     "name": "stdout",
     "output_type": "stream",
     "text": [
      "Epoch 3/3, Total_Loss: 354.8568, Recon_Loss: 352.0596, Kl_Loss: 9.3239\n",
      "ReplayVAE model saved to .trained/replayvae_2025-08-13_13-02-30.pt\n"
     ]
    },
    {
     "name": "stderr",
     "output_type": "stream",
     "text": [
      "Epoch 1/3 (Beta: 0.0): 100%|██████████| 28/28 [00:13<00:00,  2.08it/s]\n"
     ]
    },
    {
     "name": "stdout",
     "output_type": "stream",
     "text": [
      "Epoch 1/3, Total_Loss: 359.7370, Recon_Loss: 359.7370, Kl_Loss: 10.4795\n"
     ]
    },
    {
     "name": "stderr",
     "output_type": "stream",
     "text": [
      "Epoch 2/3 (Beta: 0.03): 100%|██████████| 28/28 [00:13<00:00,  2.08it/s]\n"
     ]
    },
    {
     "name": "stdout",
     "output_type": "stream",
     "text": [
      "Epoch 2/3, Total_Loss: 380.9611, Recon_Loss: 380.4744, Kl_Loss: 16.2223\n"
     ]
    },
    {
     "name": "stderr",
     "output_type": "stream",
     "text": [
      "Epoch 3/3 (Beta: 0.06): 100%|██████████| 28/28 [00:13<00:00,  2.07it/s]\n"
     ]
    },
    {
     "name": "stdout",
     "output_type": "stream",
     "text": [
      "Epoch 3/3, Total_Loss: 383.6301, Recon_Loss: 382.3667, Kl_Loss: 21.0572\n",
      "ReplayVAE model saved to .trained/replayvae_2025-08-13_13-03-11.pt\n"
     ]
    },
    {
     "name": "stderr",
     "output_type": "stream",
     "text": [
      "Epoch 1/3 (Beta: 0.09): 100%|██████████| 28/28 [00:13<00:00,  2.08it/s]\n"
     ]
    },
    {
     "name": "stdout",
     "output_type": "stream",
     "text": [
      "Epoch 1/3, Total_Loss: 380.4402, Recon_Loss: 378.6546, Kl_Loss: 19.8396\n"
     ]
    },
    {
     "name": "stderr",
     "output_type": "stream",
     "text": [
      "Epoch 2/3 (Beta: 0.12): 100%|██████████| 28/28 [00:13<00:00,  2.07it/s]\n"
     ]
    },
    {
     "name": "stdout",
     "output_type": "stream",
     "text": [
      "Epoch 2/3, Total_Loss: 372.7553, Recon_Loss: 370.3455, Kl_Loss: 20.0817\n"
     ]
    },
    {
     "name": "stderr",
     "output_type": "stream",
     "text": [
      "Epoch 3/3 (Beta: 0.15): 100%|██████████| 28/28 [00:13<00:00,  2.07it/s]\n"
     ]
    },
    {
     "name": "stdout",
     "output_type": "stream",
     "text": [
      "Epoch 3/3, Total_Loss: 371.6151, Recon_Loss: 368.6844, Kl_Loss: 19.5381\n",
      "ReplayVAE model saved to .trained/replayvae_2025-08-13_13-03-51.pt\n"
     ]
    },
    {
     "name": "stderr",
     "output_type": "stream",
     "text": [
      "Epoch 1/3 (Beta: 0.18): 100%|██████████| 28/28 [00:13<00:00,  2.08it/s]\n"
     ]
    },
    {
     "name": "stdout",
     "output_type": "stream",
     "text": [
      "Epoch 1/3, Total_Loss: 357.2994, Recon_Loss: 354.1794, Kl_Loss: 17.3334\n"
     ]
    },
    {
     "name": "stderr",
     "output_type": "stream",
     "text": [
      "Epoch 2/3 (Beta: 0.21): 100%|██████████| 28/28 [00:13<00:00,  2.07it/s]\n"
     ]
    },
    {
     "name": "stdout",
     "output_type": "stream",
     "text": [
      "Epoch 2/3, Total_Loss: 363.7424, Recon_Loss: 359.9539, Kl_Loss: 18.0405\n"
     ]
    },
    {
     "name": "stderr",
     "output_type": "stream",
     "text": [
      "Epoch 3/3 (Beta: 0.24): 100%|██████████| 28/28 [00:13<00:00,  2.08it/s]\n"
     ]
    },
    {
     "name": "stdout",
     "output_type": "stream",
     "text": [
      "Epoch 3/3, Total_Loss: 353.1040, Recon_Loss: 349.3706, Kl_Loss: 15.5558\n",
      "ReplayVAE model saved to .trained/replayvae_2025-08-13_13-04-32.pt\n"
     ]
    },
    {
     "name": "stderr",
     "output_type": "stream",
     "text": [
      "Epoch 1/3 (Beta: 0.27): 100%|██████████| 28/28 [00:13<00:00,  2.08it/s]\n"
     ]
    },
    {
     "name": "stdout",
     "output_type": "stream",
     "text": [
      "Epoch 1/3, Total_Loss: 348.9897, Recon_Loss: 345.4367, Kl_Loss: 13.1594\n"
     ]
    },
    {
     "name": "stderr",
     "output_type": "stream",
     "text": [
      "Epoch 2/3 (Beta: 0.3): 100%|██████████| 28/28 [00:13<00:00,  2.07it/s]\n"
     ]
    },
    {
     "name": "stdout",
     "output_type": "stream",
     "text": [
      "Epoch 2/3, Total_Loss: 346.4162, Recon_Loss: 342.8103, Kl_Loss: 12.0197\n"
     ]
    },
    {
     "name": "stderr",
     "output_type": "stream",
     "text": [
      "Epoch 3/3 (Beta: 0.3): 100%|██████████| 28/28 [00:13<00:00,  2.07it/s]\n"
     ]
    },
    {
     "name": "stdout",
     "output_type": "stream",
     "text": [
      "Epoch 3/3, Total_Loss: 340.7282, Recon_Loss: 337.2945, Kl_Loss: 11.4459\n",
      "ReplayVAE model saved to .trained/replayvae_2025-08-13_13-05-12.pt\n"
     ]
    },
    {
     "name": "stderr",
     "output_type": "stream",
     "text": [
      "Epoch 1/3 (Beta: 0.3): 100%|██████████| 28/28 [00:13<00:00,  2.07it/s]\n"
     ]
    },
    {
     "name": "stdout",
     "output_type": "stream",
     "text": [
      "Epoch 1/3, Total_Loss: 340.5166, Recon_Loss: 337.3067, Kl_Loss: 10.6997\n"
     ]
    },
    {
     "name": "stderr",
     "output_type": "stream",
     "text": [
      "Epoch 2/3 (Beta: 0.3): 100%|██████████| 28/28 [00:13<00:00,  2.07it/s]\n"
     ]
    },
    {
     "name": "stdout",
     "output_type": "stream",
     "text": [
      "Epoch 2/3, Total_Loss: 332.0917, Recon_Loss: 329.1597, Kl_Loss: 9.7733\n"
     ]
    },
    {
     "name": "stderr",
     "output_type": "stream",
     "text": [
      "Epoch 3/3 (Beta: 0.3): 100%|██████████| 28/28 [00:13<00:00,  2.07it/s]\n"
     ]
    },
    {
     "name": "stdout",
     "output_type": "stream",
     "text": [
      "Epoch 3/3, Total_Loss: 334.6946, Recon_Loss: 331.8785, Kl_Loss: 9.3870\n",
      "ReplayVAE model saved to .trained/replayvae_2025-08-13_13-05-53.pt\n"
     ]
    },
    {
     "name": "stderr",
     "output_type": "stream",
     "text": [
      "Epoch 1/3 (Beta: 0.0): 100%|██████████| 28/28 [00:13<00:00,  2.08it/s]\n"
     ]
    },
    {
     "name": "stdout",
     "output_type": "stream",
     "text": [
      "Epoch 1/3, Total_Loss: 339.5525, Recon_Loss: 339.5525, Kl_Loss: 9.9661\n"
     ]
    },
    {
     "name": "stderr",
     "output_type": "stream",
     "text": [
      "Epoch 2/3 (Beta: 0.03): 100%|██████████| 28/28 [00:13<00:00,  2.07it/s]\n"
     ]
    },
    {
     "name": "stdout",
     "output_type": "stream",
     "text": [
      "Epoch 2/3, Total_Loss: 340.8747, Recon_Loss: 340.4520, Kl_Loss: 14.0913\n"
     ]
    },
    {
     "name": "stderr",
     "output_type": "stream",
     "text": [
      "Epoch 3/3 (Beta: 0.06): 100%|██████████| 28/28 [00:13<00:00,  2.07it/s]\n"
     ]
    },
    {
     "name": "stdout",
     "output_type": "stream",
     "text": [
      "Epoch 3/3, Total_Loss: 343.0436, Recon_Loss: 341.9308, Kl_Loss: 18.5456\n",
      "ReplayVAE model saved to .trained/replayvae_2025-08-13_13-06-33.pt\n"
     ]
    },
    {
     "name": "stderr",
     "output_type": "stream",
     "text": [
      "Epoch 1/3 (Beta: 0.09): 100%|██████████| 28/28 [00:13<00:00,  2.07it/s]\n"
     ]
    },
    {
     "name": "stdout",
     "output_type": "stream",
     "text": [
      "Epoch 1/3, Total_Loss: 344.3245, Recon_Loss: 342.5274, Kl_Loss: 19.9674\n"
     ]
    },
    {
     "name": "stderr",
     "output_type": "stream",
     "text": [
      "Epoch 2/3 (Beta: 0.12): 100%|██████████| 28/28 [00:13<00:00,  2.08it/s]\n"
     ]
    },
    {
     "name": "stdout",
     "output_type": "stream",
     "text": [
      "Epoch 2/3, Total_Loss: 336.2365, Recon_Loss: 334.0952, Kl_Loss: 17.8444\n"
     ]
    },
    {
     "name": "stderr",
     "output_type": "stream",
     "text": [
      "Epoch 3/3 (Beta: 0.15): 100%|██████████| 28/28 [00:13<00:00,  2.08it/s]\n"
     ]
    },
    {
     "name": "stdout",
     "output_type": "stream",
     "text": [
      "Epoch 3/3, Total_Loss: 331.1421, Recon_Loss: 328.7750, Kl_Loss: 15.7809\n",
      "ReplayVAE model saved to .trained/replayvae_2025-08-13_13-07-14.pt\n"
     ]
    },
    {
     "name": "stderr",
     "output_type": "stream",
     "text": [
      "Epoch 1/3 (Beta: 0.18): 100%|██████████| 28/28 [00:13<00:00,  2.08it/s]\n"
     ]
    },
    {
     "name": "stdout",
     "output_type": "stream",
     "text": [
      "Epoch 1/3, Total_Loss: 339.7515, Recon_Loss: 337.2546, Kl_Loss: 13.8717\n"
     ]
    },
    {
     "name": "stderr",
     "output_type": "stream",
     "text": [
      "Epoch 2/3 (Beta: 0.21): 100%|██████████| 28/28 [00:13<00:00,  2.09it/s]\n"
     ]
    },
    {
     "name": "stdout",
     "output_type": "stream",
     "text": [
      "Epoch 2/3, Total_Loss: 345.2588, Recon_Loss: 342.5992, Kl_Loss: 12.6651\n"
     ]
    },
    {
     "name": "stderr",
     "output_type": "stream",
     "text": [
      "Epoch 3/3 (Beta: 0.24): 100%|██████████| 28/28 [00:13<00:00,  2.08it/s]\n"
     ]
    },
    {
     "name": "stdout",
     "output_type": "stream",
     "text": [
      "Epoch 3/3, Total_Loss: 344.1480, Recon_Loss: 341.2329, Kl_Loss: 12.1463\n",
      "ReplayVAE model saved to .trained/replayvae_2025-08-13_13-07-54.pt\n"
     ]
    },
    {
     "name": "stderr",
     "output_type": "stream",
     "text": [
      "Epoch 1/3 (Beta: 0.27): 100%|██████████| 28/28 [00:13<00:00,  2.08it/s]\n"
     ]
    },
    {
     "name": "stdout",
     "output_type": "stream",
     "text": [
      "Epoch 1/3, Total_Loss: 357.4920, Recon_Loss: 354.2461, Kl_Loss: 12.0219\n"
     ]
    },
    {
     "name": "stderr",
     "output_type": "stream",
     "text": [
      "Epoch 2/3 (Beta: 0.3): 100%|██████████| 28/28 [00:13<00:00,  2.08it/s]\n"
     ]
    },
    {
     "name": "stdout",
     "output_type": "stream",
     "text": [
      "Epoch 2/3, Total_Loss: 379.6067, Recon_Loss: 376.2016, Kl_Loss: 11.3501\n"
     ]
    },
    {
     "name": "stderr",
     "output_type": "stream",
     "text": [
      "Epoch 3/3 (Beta: 0.3): 100%|██████████| 28/28 [00:13<00:00,  2.08it/s]\n"
     ]
    },
    {
     "name": "stdout",
     "output_type": "stream",
     "text": [
      "Epoch 3/3, Total_Loss: 360.8556, Recon_Loss: 357.7003, Kl_Loss: 10.5177\n",
      "ReplayVAE model saved to .trained/replayvae_2025-08-13_13-08-35.pt\n"
     ]
    },
    {
     "name": "stderr",
     "output_type": "stream",
     "text": [
      "Epoch 1/3 (Beta: 0.3): 100%|██████████| 28/28 [00:13<00:00,  2.08it/s]\n"
     ]
    },
    {
     "name": "stdout",
     "output_type": "stream",
     "text": [
      "Epoch 1/3, Total_Loss: 356.6272, Recon_Loss: 353.6643, Kl_Loss: 9.8762\n"
     ]
    },
    {
     "name": "stderr",
     "output_type": "stream",
     "text": [
      "Epoch 2/3 (Beta: 0.3): 100%|██████████| 28/28 [00:13<00:00,  2.07it/s]\n"
     ]
    },
    {
     "name": "stdout",
     "output_type": "stream",
     "text": [
      "Epoch 2/3, Total_Loss: 350.8743, Recon_Loss: 347.8118, Kl_Loss: 10.2083\n"
     ]
    },
    {
     "name": "stderr",
     "output_type": "stream",
     "text": [
      "Epoch 3/3 (Beta: 0.3): 100%|██████████| 28/28 [00:13<00:00,  2.05it/s]\n"
     ]
    },
    {
     "name": "stdout",
     "output_type": "stream",
     "text": [
      "Epoch 3/3, Total_Loss: 349.2822, Recon_Loss: 346.1863, Kl_Loss: 10.3198\n",
      "ReplayVAE model saved to .trained/replayvae_2025-08-13_13-09-15.pt\n"
     ]
    },
    {
     "name": "stderr",
     "output_type": "stream",
     "text": [
      "Epoch 1/3 (Beta: 0.0): 100%|██████████| 28/28 [00:13<00:00,  2.08it/s]\n"
     ]
    },
    {
     "name": "stdout",
     "output_type": "stream",
     "text": [
      "Epoch 1/3, Total_Loss: 338.5074, Recon_Loss: 338.5074, Kl_Loss: 11.0278\n"
     ]
    },
    {
     "name": "stderr",
     "output_type": "stream",
     "text": [
      "Epoch 2/3 (Beta: 0.03): 100%|██████████| 28/28 [00:13<00:00,  2.08it/s]\n"
     ]
    },
    {
     "name": "stdout",
     "output_type": "stream",
     "text": [
      "Epoch 2/3, Total_Loss: 338.4692, Recon_Loss: 338.0067, Kl_Loss: 15.4146\n"
     ]
    },
    {
     "name": "stderr",
     "output_type": "stream",
     "text": [
      "Epoch 3/3 (Beta: 0.06): 100%|██████████| 28/28 [00:13<00:00,  2.08it/s]\n"
     ]
    },
    {
     "name": "stdout",
     "output_type": "stream",
     "text": [
      "Epoch 3/3, Total_Loss: 333.8919, Recon_Loss: 332.7812, Kl_Loss: 18.5114\n",
      "ReplayVAE model saved to .trained/replayvae_2025-08-13_13-09-56.pt\n"
     ]
    },
    {
     "name": "stderr",
     "output_type": "stream",
     "text": [
      "Epoch 1/3 (Beta: 0.09): 100%|██████████| 28/28 [00:13<00:00,  2.07it/s]\n"
     ]
    },
    {
     "name": "stdout",
     "output_type": "stream",
     "text": [
      "Epoch 1/3, Total_Loss: 337.3240, Recon_Loss: 335.5924, Kl_Loss: 19.2403\n"
     ]
    },
    {
     "name": "stderr",
     "output_type": "stream",
     "text": [
      "Epoch 2/3 (Beta: 0.12): 100%|██████████| 28/28 [00:13<00:00,  2.08it/s]\n"
     ]
    },
    {
     "name": "stdout",
     "output_type": "stream",
     "text": [
      "Epoch 2/3, Total_Loss: 340.5614, Recon_Loss: 338.3729, Kl_Loss: 18.2377\n"
     ]
    },
    {
     "name": "stderr",
     "output_type": "stream",
     "text": [
      "Epoch 3/3 (Beta: 0.15): 100%|██████████| 28/28 [00:13<00:00,  2.03it/s]\n"
     ]
    },
    {
     "name": "stdout",
     "output_type": "stream",
     "text": [
      "Epoch 3/3, Total_Loss: 338.2194, Recon_Loss: 335.7971, Kl_Loss: 16.1489\n",
      "ReplayVAE model saved to .trained/replayvae_2025-08-13_13-10-37.pt\n"
     ]
    },
    {
     "name": "stderr",
     "output_type": "stream",
     "text": [
      "Epoch 1/3 (Beta: 0.18): 100%|██████████| 28/28 [00:13<00:00,  2.01it/s]\n"
     ]
    },
    {
     "name": "stdout",
     "output_type": "stream",
     "text": [
      "Epoch 1/3, Total_Loss: 332.7812, Recon_Loss: 330.0892, Kl_Loss: 14.9556\n"
     ]
    },
    {
     "name": "stderr",
     "output_type": "stream",
     "text": [
      "Epoch 2/3 (Beta: 0.21): 100%|██████████| 28/28 [00:13<00:00,  2.03it/s]\n"
     ]
    },
    {
     "name": "stdout",
     "output_type": "stream",
     "text": [
      "Epoch 2/3, Total_Loss: 340.4981, Recon_Loss: 337.7269, Kl_Loss: 13.1963\n"
     ]
    },
    {
     "name": "stderr",
     "output_type": "stream",
     "text": [
      "Epoch 3/3 (Beta: 0.24): 100%|██████████| 28/28 [00:13<00:00,  2.07it/s]\n"
     ]
    },
    {
     "name": "stdout",
     "output_type": "stream",
     "text": [
      "Epoch 3/3, Total_Loss: 341.5769, Recon_Loss: 338.7488, Kl_Loss: 11.7840\n",
      "ReplayVAE model saved to .trained/replayvae_2025-08-13_13-11-18.pt\n"
     ]
    },
    {
     "name": "stderr",
     "output_type": "stream",
     "text": [
      "Epoch 1/3 (Beta: 0.27): 100%|██████████| 28/28 [00:13<00:00,  2.08it/s]\n"
     ]
    },
    {
     "name": "stdout",
     "output_type": "stream",
     "text": [
      "Epoch 1/3, Total_Loss: 337.7011, Recon_Loss: 334.5756, Kl_Loss: 11.5757\n"
     ]
    },
    {
     "name": "stderr",
     "output_type": "stream",
     "text": [
      "Epoch 2/3 (Beta: 0.3): 100%|██████████| 28/28 [00:13<00:00,  2.08it/s]\n"
     ]
    },
    {
     "name": "stdout",
     "output_type": "stream",
     "text": [
      "Epoch 2/3, Total_Loss: 334.6964, Recon_Loss: 331.5702, Kl_Loss: 10.4205\n"
     ]
    },
    {
     "name": "stderr",
     "output_type": "stream",
     "text": [
      "Epoch 3/3 (Beta: 0.3): 100%|██████████| 28/28 [00:13<00:00,  2.07it/s]\n"
     ]
    },
    {
     "name": "stdout",
     "output_type": "stream",
     "text": [
      "Epoch 3/3, Total_Loss: 331.2115, Recon_Loss: 328.3662, Kl_Loss: 9.4841\n",
      "ReplayVAE model saved to .trained/replayvae_2025-08-13_13-11-58.pt\n"
     ]
    },
    {
     "name": "stderr",
     "output_type": "stream",
     "text": [
      "Epoch 1/3 (Beta: 0.3): 100%|██████████| 28/28 [00:13<00:00,  2.07it/s]\n"
     ]
    },
    {
     "name": "stdout",
     "output_type": "stream",
     "text": [
      "Epoch 1/3, Total_Loss: 336.8584, Recon_Loss: 334.0951, Kl_Loss: 9.2110\n"
     ]
    },
    {
     "name": "stderr",
     "output_type": "stream",
     "text": [
      "Epoch 2/3 (Beta: 0.3): 100%|██████████| 28/28 [00:13<00:00,  2.08it/s]\n"
     ]
    },
    {
     "name": "stdout",
     "output_type": "stream",
     "text": [
      "Epoch 2/3, Total_Loss: 339.8629, Recon_Loss: 337.2230, Kl_Loss: 8.7995\n"
     ]
    },
    {
     "name": "stderr",
     "output_type": "stream",
     "text": [
      "Epoch 3/3 (Beta: 0.3): 100%|██████████| 28/28 [00:13<00:00,  2.07it/s]\n"
     ]
    },
    {
     "name": "stdout",
     "output_type": "stream",
     "text": [
      "Epoch 3/3, Total_Loss: 343.2859, Recon_Loss: 340.5037, Kl_Loss: 9.2741\n",
      "ReplayVAE model saved to .trained/replayvae_2025-08-13_13-12-39.pt\n"
     ]
    },
    {
     "name": "stderr",
     "output_type": "stream",
     "text": [
      "Epoch 1/3 (Beta: 0.0): 100%|██████████| 28/28 [00:13<00:00,  2.08it/s]\n"
     ]
    },
    {
     "name": "stdout",
     "output_type": "stream",
     "text": [
      "Epoch 1/3, Total_Loss: 336.0847, Recon_Loss: 336.0847, Kl_Loss: 10.4894\n"
     ]
    },
    {
     "name": "stderr",
     "output_type": "stream",
     "text": [
      "Epoch 2/3 (Beta: 0.03): 100%|██████████| 28/28 [00:13<00:00,  2.08it/s]\n"
     ]
    },
    {
     "name": "stdout",
     "output_type": "stream",
     "text": [
      "Epoch 2/3, Total_Loss: 348.4099, Recon_Loss: 347.9730, Kl_Loss: 14.5623\n"
     ]
    },
    {
     "name": "stderr",
     "output_type": "stream",
     "text": [
      "Epoch 3/3 (Beta: 0.06): 100%|██████████| 28/28 [00:13<00:00,  2.07it/s]\n"
     ]
    },
    {
     "name": "stdout",
     "output_type": "stream",
     "text": [
      "Epoch 3/3, Total_Loss: 342.8114, Recon_Loss: 341.7799, Kl_Loss: 17.1914\n",
      "ReplayVAE model saved to .trained/replayvae_2025-08-13_13-13-19.pt\n"
     ]
    },
    {
     "name": "stderr",
     "output_type": "stream",
     "text": [
      "Epoch 1/3 (Beta: 0.09): 100%|██████████| 28/28 [00:13<00:00,  2.07it/s]\n"
     ]
    },
    {
     "name": "stdout",
     "output_type": "stream",
     "text": [
      "Epoch 1/3, Total_Loss: 343.6652, Recon_Loss: 342.0580, Kl_Loss: 17.8580\n"
     ]
    },
    {
     "name": "stderr",
     "output_type": "stream",
     "text": [
      "Epoch 2/3 (Beta: 0.12): 100%|██████████| 28/28 [00:13<00:00,  2.08it/s]\n"
     ]
    },
    {
     "name": "stdout",
     "output_type": "stream",
     "text": [
      "Epoch 2/3, Total_Loss: 340.0435, Recon_Loss: 337.9024, Kl_Loss: 17.8427\n"
     ]
    },
    {
     "name": "stderr",
     "output_type": "stream",
     "text": [
      "Epoch 3/3 (Beta: 0.15): 100%|██████████| 28/28 [00:13<00:00,  2.07it/s]\n"
     ]
    },
    {
     "name": "stdout",
     "output_type": "stream",
     "text": [
      "Epoch 3/3, Total_Loss: 341.0152, Recon_Loss: 338.5454, Kl_Loss: 16.4649\n",
      "ReplayVAE model saved to .trained/replayvae_2025-08-13_13-14-00.pt\n"
     ]
    },
    {
     "name": "stderr",
     "output_type": "stream",
     "text": [
      "Epoch 1/3 (Beta: 0.18): 100%|██████████| 28/28 [00:13<00:00,  2.08it/s]\n"
     ]
    },
    {
     "name": "stdout",
     "output_type": "stream",
     "text": [
      "Epoch 1/3, Total_Loss: 340.8969, Recon_Loss: 338.2376, Kl_Loss: 14.7741\n"
     ]
    },
    {
     "name": "stderr",
     "output_type": "stream",
     "text": [
      "Epoch 2/3 (Beta: 0.21): 100%|██████████| 28/28 [00:13<00:00,  2.08it/s]\n"
     ]
    },
    {
     "name": "stdout",
     "output_type": "stream",
     "text": [
      "Epoch 2/3, Total_Loss: 340.7541, Recon_Loss: 338.0125, Kl_Loss: 13.0552\n"
     ]
    },
    {
     "name": "stderr",
     "output_type": "stream",
     "text": [
      "Epoch 3/3 (Beta: 0.24): 100%|██████████| 28/28 [00:13<00:00,  2.08it/s]\n"
     ]
    },
    {
     "name": "stdout",
     "output_type": "stream",
     "text": [
      "Epoch 3/3, Total_Loss: 336.6265, Recon_Loss: 333.7161, Kl_Loss: 12.1265\n",
      "ReplayVAE model saved to .trained/replayvae_2025-08-13_13-14-40.pt\n"
     ]
    },
    {
     "name": "stderr",
     "output_type": "stream",
     "text": [
      "Epoch 1/3 (Beta: 0.27): 100%|██████████| 28/28 [00:13<00:00,  2.07it/s]\n"
     ]
    },
    {
     "name": "stdout",
     "output_type": "stream",
     "text": [
      "Epoch 1/3, Total_Loss: 345.8041, Recon_Loss: 342.7649, Kl_Loss: 11.2563\n"
     ]
    },
    {
     "name": "stderr",
     "output_type": "stream",
     "text": [
      "Epoch 2/3 (Beta: 0.3): 100%|██████████| 28/28 [00:13<00:00,  2.07it/s]\n"
     ]
    },
    {
     "name": "stdout",
     "output_type": "stream",
     "text": [
      "Epoch 2/3, Total_Loss: 347.9144, Recon_Loss: 344.6099, Kl_Loss: 11.0150\n"
     ]
    },
    {
     "name": "stderr",
     "output_type": "stream",
     "text": [
      "Epoch 3/3 (Beta: 0.3): 100%|██████████| 28/28 [00:13<00:00,  2.08it/s]\n"
     ]
    },
    {
     "name": "stdout",
     "output_type": "stream",
     "text": [
      "Epoch 3/3, Total_Loss: 347.5539, Recon_Loss: 344.3703, Kl_Loss: 10.6119\n",
      "ReplayVAE model saved to .trained/replayvae_2025-08-13_13-15-21.pt\n"
     ]
    },
    {
     "name": "stderr",
     "output_type": "stream",
     "text": [
      "Epoch 1/3 (Beta: 0.3): 100%|██████████| 28/28 [00:13<00:00,  2.08it/s]\n"
     ]
    },
    {
     "name": "stdout",
     "output_type": "stream",
     "text": [
      "Epoch 1/3, Total_Loss: 369.0881, Recon_Loss: 365.7817, Kl_Loss: 11.0213\n"
     ]
    },
    {
     "name": "stderr",
     "output_type": "stream",
     "text": [
      "Epoch 2/3 (Beta: 0.3): 100%|██████████| 28/28 [00:13<00:00,  2.08it/s]\n"
     ]
    },
    {
     "name": "stdout",
     "output_type": "stream",
     "text": [
      "Epoch 2/3, Total_Loss: 366.1358, Recon_Loss: 362.8167, Kl_Loss: 11.0635\n"
     ]
    },
    {
     "name": "stderr",
     "output_type": "stream",
     "text": [
      "Epoch 3/3 (Beta: 0.3): 100%|██████████| 28/28 [00:13<00:00,  2.08it/s]\n"
     ]
    },
    {
     "name": "stdout",
     "output_type": "stream",
     "text": [
      "Epoch 3/3, Total_Loss: 367.5810, Recon_Loss: 364.2511, Kl_Loss: 11.0998\n",
      "ReplayVAE model saved to .trained/replayvae_2025-08-13_13-16-01.pt\n"
     ]
    },
    {
     "name": "stderr",
     "output_type": "stream",
     "text": [
      "Epoch 1/3 (Beta: 0.0): 100%|██████████| 28/28 [00:13<00:00,  2.07it/s]\n"
     ]
    },
    {
     "name": "stdout",
     "output_type": "stream",
     "text": [
      "Epoch 1/3, Total_Loss: 349.3427, Recon_Loss: 349.3427, Kl_Loss: 12.4653\n"
     ]
    },
    {
     "name": "stderr",
     "output_type": "stream",
     "text": [
      "Epoch 2/3 (Beta: 0.03): 100%|██████████| 28/28 [00:13<00:00,  2.07it/s]\n"
     ]
    },
    {
     "name": "stdout",
     "output_type": "stream",
     "text": [
      "Epoch 2/3, Total_Loss: 336.8916, Recon_Loss: 336.3859, Kl_Loss: 16.8572\n"
     ]
    },
    {
     "name": "stderr",
     "output_type": "stream",
     "text": [
      "Epoch 3/3 (Beta: 0.06): 100%|██████████| 28/28 [00:13<00:00,  2.08it/s]\n"
     ]
    },
    {
     "name": "stdout",
     "output_type": "stream",
     "text": [
      "Epoch 3/3, Total_Loss: 332.8824, Recon_Loss: 331.6807, Kl_Loss: 20.0271\n",
      "ReplayVAE model saved to .trained/replayvae_2025-08-13_13-16-42.pt\n"
     ]
    },
    {
     "name": "stderr",
     "output_type": "stream",
     "text": [
      "Epoch 1/3 (Beta: 0.09): 100%|██████████| 28/28 [00:13<00:00,  2.08it/s]\n"
     ]
    },
    {
     "name": "stdout",
     "output_type": "stream",
     "text": [
      "Epoch 1/3, Total_Loss: 336.1358, Recon_Loss: 334.2892, Kl_Loss: 20.5187\n"
     ]
    },
    {
     "name": "stderr",
     "output_type": "stream",
     "text": [
      "Epoch 2/3 (Beta: 0.12): 100%|██████████| 28/28 [00:13<00:00,  2.06it/s]\n"
     ]
    },
    {
     "name": "stdout",
     "output_type": "stream",
     "text": [
      "Epoch 2/3, Total_Loss: 338.9579, Recon_Loss: 336.7166, Kl_Loss: 18.6774\n"
     ]
    },
    {
     "name": "stderr",
     "output_type": "stream",
     "text": [
      "Epoch 3/3 (Beta: 0.15): 100%|██████████| 28/28 [00:13<00:00,  2.08it/s]\n"
     ]
    },
    {
     "name": "stdout",
     "output_type": "stream",
     "text": [
      "Epoch 3/3, Total_Loss: 331.2399, Recon_Loss: 328.6218, Kl_Loss: 17.4541\n",
      "ReplayVAE model saved to .trained/replayvae_2025-08-13_13-17-22.pt\n"
     ]
    },
    {
     "name": "stderr",
     "output_type": "stream",
     "text": [
      "Epoch 1/3 (Beta: 0.18): 100%|██████████| 28/28 [00:13<00:00,  2.07it/s]\n"
     ]
    },
    {
     "name": "stdout",
     "output_type": "stream",
     "text": [
      "Epoch 1/3, Total_Loss: 332.1763, Recon_Loss: 329.3116, Kl_Loss: 15.9150\n"
     ]
    },
    {
     "name": "stderr",
     "output_type": "stream",
     "text": [
      "Epoch 2/3 (Beta: 0.21): 100%|██████████| 28/28 [00:13<00:00,  2.07it/s]\n"
     ]
    },
    {
     "name": "stdout",
     "output_type": "stream",
     "text": [
      "Epoch 2/3, Total_Loss: 337.9996, Recon_Loss: 335.0630, Kl_Loss: 13.9836\n"
     ]
    },
    {
     "name": "stderr",
     "output_type": "stream",
     "text": [
      "Epoch 3/3 (Beta: 0.24): 100%|██████████| 28/28 [00:13<00:00,  2.07it/s]\n"
     ]
    },
    {
     "name": "stdout",
     "output_type": "stream",
     "text": [
      "Epoch 3/3, Total_Loss: 332.7572, Recon_Loss: 329.6792, Kl_Loss: 12.8250\n",
      "ReplayVAE model saved to .trained/replayvae_2025-08-13_13-18-03.pt\n"
     ]
    },
    {
     "name": "stderr",
     "output_type": "stream",
     "text": [
      "Epoch 1/3 (Beta: 0.27): 100%|██████████| 28/28 [00:13<00:00,  2.07it/s]\n"
     ]
    },
    {
     "name": "stdout",
     "output_type": "stream",
     "text": [
      "Epoch 1/3, Total_Loss: 333.1465, Recon_Loss: 329.9179, Kl_Loss: 11.9578\n"
     ]
    },
    {
     "name": "stderr",
     "output_type": "stream",
     "text": [
      "Epoch 2/3 (Beta: 0.3): 100%|██████████| 28/28 [00:13<00:00,  2.07it/s]\n"
     ]
    },
    {
     "name": "stdout",
     "output_type": "stream",
     "text": [
      "Epoch 2/3, Total_Loss: 338.9817, Recon_Loss: 335.8970, Kl_Loss: 10.2824\n"
     ]
    },
    {
     "name": "stderr",
     "output_type": "stream",
     "text": [
      "Epoch 3/3 (Beta: 0.3): 100%|██████████| 28/28 [00:13<00:00,  2.07it/s]\n"
     ]
    },
    {
     "name": "stdout",
     "output_type": "stream",
     "text": [
      "Epoch 3/3, Total_Loss: 340.5957, Recon_Loss: 337.5346, Kl_Loss: 10.2037\n",
      "ReplayVAE model saved to .trained/replayvae_2025-08-13_13-18-43.pt\n"
     ]
    },
    {
     "name": "stderr",
     "output_type": "stream",
     "text": [
      "Epoch 1/3 (Beta: 0.3): 100%|██████████| 28/28 [00:13<00:00,  2.08it/s]\n"
     ]
    },
    {
     "name": "stdout",
     "output_type": "stream",
     "text": [
      "Epoch 1/3, Total_Loss: 362.1008, Recon_Loss: 359.2829, Kl_Loss: 9.3930\n"
     ]
    },
    {
     "name": "stderr",
     "output_type": "stream",
     "text": [
      "Epoch 2/3 (Beta: 0.3): 100%|██████████| 28/28 [00:13<00:00,  2.04it/s]\n"
     ]
    },
    {
     "name": "stdout",
     "output_type": "stream",
     "text": [
      "Epoch 2/3, Total_Loss: 342.9713, Recon_Loss: 340.0719, Kl_Loss: 9.6648\n"
     ]
    },
    {
     "name": "stderr",
     "output_type": "stream",
     "text": [
      "Epoch 3/3 (Beta: 0.3): 100%|██████████| 28/28 [00:13<00:00,  2.06it/s]\n"
     ]
    },
    {
     "name": "stdout",
     "output_type": "stream",
     "text": [
      "Epoch 3/3, Total_Loss: 336.4586, Recon_Loss: 333.5594, Kl_Loss: 9.6641\n",
      "ReplayVAE model saved to .trained/replayvae_2025-08-13_13-19-24.pt\n"
     ]
    },
    {
     "data": {
      "text/plain": "<Figure size 1500x400 with 3 Axes>",
      "image/png": "[encoded data removed]"
     },
     "metadata": {},
     "output_type": "display_data"
    }
   ],
   "source": [
    "for i in range(50):\n",
    "    model.train(EPOCHS)\n",
    "    model.save()\n",
    "    \n",
    "model.plot_losses()"
   ],
   "metadata": {
    "collapsed": false,
    "ExecuteTime": {
     "end_time": "2025-08-13T17:19:24.938386Z",
     "start_time": "2025-08-13T16:45:38.052968700Z"
    }
   },
   "id": "fa00898c77ca6020"
  },
  {
   "cell_type": "code",
   "execution_count": 32,
   "outputs": [
    {
     "name": "stderr",
     "output_type": "stream",
     "text": [
      "Epoch 1/3 (Beta: 0.0): 100%|██████████| 28/28 [00:13<00:00,  2.08it/s]\n"
     ]
    },
    {
     "name": "stdout",
     "output_type": "stream",
     "text": [
      "Epoch 1/3, Total_Loss: 331.0626, Recon_Loss: 331.0626, Kl_Loss: 11.5985\n"
     ]
    },
    {
     "name": "stderr",
     "output_type": "stream",
     "text": [
      "Epoch 2/3 (Beta: 0.03): 100%|██████████| 28/28 [00:13<00:00,  2.08it/s]\n"
     ]
    },
    {
     "name": "stdout",
     "output_type": "stream",
     "text": [
      "Epoch 2/3, Total_Loss: 332.2780, Recon_Loss: 331.8237, Kl_Loss: 15.1418\n"
     ]
    },
    {
     "name": "stderr",
     "output_type": "stream",
     "text": [
      "Epoch 3/3 (Beta: 0.06): 100%|██████████| 28/28 [00:13<00:00,  2.08it/s]\n"
     ]
    },
    {
     "name": "stdout",
     "output_type": "stream",
     "text": [
      "Epoch 3/3, Total_Loss: 332.8401, Recon_Loss: 331.8046, Kl_Loss: 17.2578\n",
      "ReplayVAE model saved to .trained/replayvae_2025-08-13_13-20-05.pt\n"
     ]
    },
    {
     "name": "stderr",
     "output_type": "stream",
     "text": [
      "Epoch 1/3 (Beta: 0.09): 100%|██████████| 28/28 [00:13<00:00,  2.08it/s]\n"
     ]
    },
    {
     "name": "stdout",
     "output_type": "stream",
     "text": [
      "Epoch 1/3, Total_Loss: 330.8271, Recon_Loss: 329.2699, Kl_Loss: 17.3025\n"
     ]
    },
    {
     "name": "stderr",
     "output_type": "stream",
     "text": [
      "Epoch 2/3 (Beta: 0.12): 100%|██████████| 28/28 [00:13<00:00,  2.03it/s]\n"
     ]
    },
    {
     "name": "stdout",
     "output_type": "stream",
     "text": [
      "Epoch 2/3, Total_Loss: 343.2438, Recon_Loss: 341.2242, Kl_Loss: 16.8297\n"
     ]
    },
    {
     "name": "stderr",
     "output_type": "stream",
     "text": [
      "Epoch 3/3 (Beta: 0.15): 100%|██████████| 28/28 [00:13<00:00,  2.05it/s]\n"
     ]
    },
    {
     "name": "stdout",
     "output_type": "stream",
     "text": [
      "Epoch 3/3, Total_Loss: 347.1190, Recon_Loss: 344.7118, Kl_Loss: 16.0480\n",
      "ReplayVAE model saved to .trained/replayvae_2025-08-13_13-20-46.pt\n"
     ]
    },
    {
     "name": "stderr",
     "output_type": "stream",
     "text": [
      "Epoch 1/3 (Beta: 0.18): 100%|██████████| 28/28 [00:13<00:00,  2.05it/s]\n"
     ]
    },
    {
     "name": "stdout",
     "output_type": "stream",
     "text": [
      "Epoch 1/3, Total_Loss: 334.9461, Recon_Loss: 332.1106, Kl_Loss: 15.7527\n"
     ]
    },
    {
     "name": "stderr",
     "output_type": "stream",
     "text": [
      "Epoch 2/3 (Beta: 0.21): 100%|██████████| 28/28 [00:13<00:00,  2.03it/s]\n"
     ]
    },
    {
     "name": "stdout",
     "output_type": "stream",
     "text": [
      "Epoch 2/3, Total_Loss: 339.9828, Recon_Loss: 337.1954, Kl_Loss: 13.2733\n"
     ]
    },
    {
     "name": "stderr",
     "output_type": "stream",
     "text": [
      "Epoch 3/3 (Beta: 0.24): 100%|██████████| 28/28 [00:13<00:00,  2.08it/s]\n"
     ]
    },
    {
     "name": "stdout",
     "output_type": "stream",
     "text": [
      "Epoch 3/3, Total_Loss: 344.8925, Recon_Loss: 341.9670, Kl_Loss: 12.1895\n",
      "ReplayVAE model saved to .trained/replayvae_2025-08-13_13-21-27.pt\n"
     ]
    },
    {
     "name": "stderr",
     "output_type": "stream",
     "text": [
      "Epoch 1/3 (Beta: 0.27): 100%|██████████| 28/28 [00:13<00:00,  2.09it/s]\n"
     ]
    },
    {
     "name": "stdout",
     "output_type": "stream",
     "text": [
      "Epoch 1/3, Total_Loss: 341.7676, Recon_Loss: 338.7193, Kl_Loss: 11.2901\n"
     ]
    },
    {
     "name": "stderr",
     "output_type": "stream",
     "text": [
      "Epoch 2/3 (Beta: 0.3): 100%|██████████| 28/28 [00:13<00:00,  2.09it/s]\n"
     ]
    },
    {
     "name": "stdout",
     "output_type": "stream",
     "text": [
      "Epoch 2/3, Total_Loss: 343.4140, Recon_Loss: 340.2712, Kl_Loss: 10.4758\n"
     ]
    },
    {
     "name": "stderr",
     "output_type": "stream",
     "text": [
      "Epoch 3/3 (Beta: 0.3): 100%|██████████| 28/28 [00:13<00:00,  2.09it/s]\n"
     ]
    },
    {
     "name": "stdout",
     "output_type": "stream",
     "text": [
      "Epoch 3/3, Total_Loss: 332.7219, Recon_Loss: 329.6518, Kl_Loss: 10.2335\n",
      "ReplayVAE model saved to .trained/replayvae_2025-08-13_13-22-07.pt\n"
     ]
    },
    {
     "name": "stderr",
     "output_type": "stream",
     "text": [
      "Epoch 1/3 (Beta: 0.3): 100%|██████████| 28/28 [00:13<00:00,  2.10it/s]\n"
     ]
    },
    {
     "name": "stdout",
     "output_type": "stream",
     "text": [
      "Epoch 1/3, Total_Loss: 335.0392, Recon_Loss: 332.1448, Kl_Loss: 9.6480\n"
     ]
    },
    {
     "name": "stderr",
     "output_type": "stream",
     "text": [
      "Epoch 2/3 (Beta: 0.3): 100%|██████████| 28/28 [00:13<00:00,  2.09it/s]\n"
     ]
    },
    {
     "name": "stdout",
     "output_type": "stream",
     "text": [
      "Epoch 2/3, Total_Loss: 335.3190, Recon_Loss: 332.3856, Kl_Loss: 9.7779\n"
     ]
    },
    {
     "name": "stderr",
     "output_type": "stream",
     "text": [
      "Epoch 3/3 (Beta: 0.3): 100%|██████████| 28/28 [00:13<00:00,  2.10it/s]\n"
     ]
    },
    {
     "name": "stdout",
     "output_type": "stream",
     "text": [
      "Epoch 3/3, Total_Loss: 332.9353, Recon_Loss: 330.0996, Kl_Loss: 9.4524\n",
      "ReplayVAE model saved to .trained/replayvae_2025-08-13_13-22-47.pt\n"
     ]
    },
    {
     "name": "stderr",
     "output_type": "stream",
     "text": [
      "Epoch 1/3 (Beta: 0.0): 100%|██████████| 28/28 [00:13<00:00,  2.10it/s]\n"
     ]
    },
    {
     "name": "stdout",
     "output_type": "stream",
     "text": [
      "Epoch 1/3, Total_Loss: 333.8771, Recon_Loss: 333.8771, Kl_Loss: 10.1489\n"
     ]
    },
    {
     "name": "stderr",
     "output_type": "stream",
     "text": [
      "Epoch 2/3 (Beta: 0.03): 100%|██████████| 28/28 [00:13<00:00,  2.09it/s]\n"
     ]
    },
    {
     "name": "stdout",
     "output_type": "stream",
     "text": [
      "Epoch 2/3, Total_Loss: 327.2212, Recon_Loss: 326.8193, Kl_Loss: 13.3978\n"
     ]
    },
    {
     "name": "stderr",
     "output_type": "stream",
     "text": [
      "Epoch 3/3 (Beta: 0.06): 100%|██████████| 28/28 [00:13<00:00,  2.09it/s]\n"
     ]
    },
    {
     "name": "stdout",
     "output_type": "stream",
     "text": [
      "Epoch 3/3, Total_Loss: 329.4462, Recon_Loss: 328.4258, Kl_Loss: 17.0066\n",
      "ReplayVAE model saved to .trained/replayvae_2025-08-13_13-23-27.pt\n"
     ]
    },
    {
     "name": "stderr",
     "output_type": "stream",
     "text": [
      "Epoch 1/3 (Beta: 0.09): 100%|██████████| 28/28 [00:13<00:00,  2.09it/s]\n"
     ]
    },
    {
     "name": "stdout",
     "output_type": "stream",
     "text": [
      "Epoch 1/3, Total_Loss: 329.8880, Recon_Loss: 328.2766, Kl_Loss: 17.9045\n"
     ]
    },
    {
     "name": "stderr",
     "output_type": "stream",
     "text": [
      "Epoch 2/3 (Beta: 0.12): 100%|██████████| 28/28 [00:13<00:00,  2.09it/s]\n"
     ]
    },
    {
     "name": "stdout",
     "output_type": "stream",
     "text": [
      "Epoch 2/3, Total_Loss: 328.6467, Recon_Loss: 326.6344, Kl_Loss: 16.7690\n"
     ]
    },
    {
     "name": "stderr",
     "output_type": "stream",
     "text": [
      "Epoch 3/3 (Beta: 0.15): 100%|██████████| 28/28 [00:13<00:00,  2.07it/s]\n"
     ]
    },
    {
     "name": "stdout",
     "output_type": "stream",
     "text": [
      "Epoch 3/3, Total_Loss: 336.7088, Recon_Loss: 334.4403, Kl_Loss: 15.1234\n",
      "ReplayVAE model saved to .trained/replayvae_2025-08-13_13-24-08.pt\n"
     ]
    },
    {
     "name": "stderr",
     "output_type": "stream",
     "text": [
      "Epoch 1/3 (Beta: 0.18): 100%|██████████| 28/28 [00:13<00:00,  2.09it/s]\n"
     ]
    },
    {
     "name": "stdout",
     "output_type": "stream",
     "text": [
      "Epoch 1/3, Total_Loss: 338.1568, Recon_Loss: 335.5807, Kl_Loss: 14.3119\n"
     ]
    },
    {
     "name": "stderr",
     "output_type": "stream",
     "text": [
      "Epoch 2/3 (Beta: 0.21): 100%|██████████| 28/28 [00:13<00:00,  2.09it/s]\n"
     ]
    },
    {
     "name": "stdout",
     "output_type": "stream",
     "text": [
      "Epoch 2/3, Total_Loss: 330.1766, Recon_Loss: 327.4432, Kl_Loss: 13.0161\n"
     ]
    },
    {
     "name": "stderr",
     "output_type": "stream",
     "text": [
      "Epoch 3/3 (Beta: 0.24): 100%|██████████| 28/28 [00:13<00:00,  2.09it/s]\n"
     ]
    },
    {
     "name": "stdout",
     "output_type": "stream",
     "text": [
      "Epoch 3/3, Total_Loss: 329.4700, Recon_Loss: 326.6720, Kl_Loss: 11.6580\n",
      "ReplayVAE model saved to .trained/replayvae_2025-08-13_13-24-48.pt\n"
     ]
    },
    {
     "name": "stderr",
     "output_type": "stream",
     "text": [
      "Epoch 1/3 (Beta: 0.27): 100%|██████████| 28/28 [00:13<00:00,  2.09it/s]\n"
     ]
    },
    {
     "name": "stdout",
     "output_type": "stream",
     "text": [
      "Epoch 1/3, Total_Loss: 338.2442, Recon_Loss: 335.4204, Kl_Loss: 10.4587\n"
     ]
    },
    {
     "name": "stderr",
     "output_type": "stream",
     "text": [
      "Epoch 2/3 (Beta: 0.3): 100%|██████████| 28/28 [00:13<00:00,  2.09it/s]\n"
     ]
    },
    {
     "name": "stdout",
     "output_type": "stream",
     "text": [
      "Epoch 2/3, Total_Loss: 337.9261, Recon_Loss: 334.8771, Kl_Loss: 10.1633\n"
     ]
    },
    {
     "name": "stderr",
     "output_type": "stream",
     "text": [
      "Epoch 3/3 (Beta: 0.3): 100%|██████████| 28/28 [00:13<00:00,  2.10it/s]\n"
     ]
    },
    {
     "name": "stdout",
     "output_type": "stream",
     "text": [
      "Epoch 3/3, Total_Loss: 346.2640, Recon_Loss: 343.2278, Kl_Loss: 10.1207\n",
      "ReplayVAE model saved to .trained/replayvae_2025-08-13_13-25-28.pt\n"
     ]
    },
    {
     "name": "stderr",
     "output_type": "stream",
     "text": [
      "Epoch 1/3 (Beta: 0.3): 100%|██████████| 28/28 [00:13<00:00,  2.10it/s]\n"
     ]
    },
    {
     "name": "stdout",
     "output_type": "stream",
     "text": [
      "Epoch 1/3, Total_Loss: 373.3641, Recon_Loss: 370.1305, Kl_Loss: 10.7785\n"
     ]
    },
    {
     "name": "stderr",
     "output_type": "stream",
     "text": [
      "Epoch 2/3 (Beta: 0.3): 100%|██████████| 28/28 [00:13<00:00,  2.05it/s]\n"
     ]
    },
    {
     "name": "stdout",
     "output_type": "stream",
     "text": [
      "Epoch 2/3, Total_Loss: 377.4942, Recon_Loss: 374.1270, Kl_Loss: 11.2241\n"
     ]
    },
    {
     "name": "stderr",
     "output_type": "stream",
     "text": [
      "Epoch 3/3 (Beta: 0.3): 100%|██████████| 28/28 [00:13<00:00,  2.04it/s]\n"
     ]
    },
    {
     "name": "stdout",
     "output_type": "stream",
     "text": [
      "Epoch 3/3, Total_Loss: 381.6948, Recon_Loss: 378.1794, Kl_Loss: 11.7179\n",
      "ReplayVAE model saved to .trained/replayvae_2025-08-13_13-26-09.pt\n"
     ]
    },
    {
     "name": "stderr",
     "output_type": "stream",
     "text": [
      "Epoch 1/3 (Beta: 0.0): 100%|██████████| 28/28 [00:13<00:00,  2.06it/s]\n"
     ]
    },
    {
     "name": "stdout",
     "output_type": "stream",
     "text": [
      "Epoch 1/3, Total_Loss: 409.7467, Recon_Loss: 409.7467, Kl_Loss: 12.4514\n"
     ]
    },
    {
     "name": "stderr",
     "output_type": "stream",
     "text": [
      "Epoch 2/3 (Beta: 0.03): 100%|██████████| 28/28 [00:13<00:00,  2.07it/s]\n"
     ]
    },
    {
     "name": "stdout",
     "output_type": "stream",
     "text": [
      "Epoch 2/3, Total_Loss: 381.9164, Recon_Loss: 381.4032, Kl_Loss: 17.1067\n"
     ]
    },
    {
     "name": "stderr",
     "output_type": "stream",
     "text": [
      "Epoch 3/3 (Beta: 0.06): 100%|██████████| 28/28 [00:13<00:00,  2.10it/s]\n"
     ]
    },
    {
     "name": "stdout",
     "output_type": "stream",
     "text": [
      "Epoch 3/3, Total_Loss: 368.9442, Recon_Loss: 367.7392, Kl_Loss: 20.0836\n",
      "ReplayVAE model saved to .trained/replayvae_2025-08-13_13-26-49.pt\n"
     ]
    },
    {
     "name": "stderr",
     "output_type": "stream",
     "text": [
      "Epoch 1/3 (Beta: 0.09): 100%|██████████| 28/28 [00:13<00:00,  2.10it/s]\n"
     ]
    },
    {
     "name": "stdout",
     "output_type": "stream",
     "text": [
      "Epoch 1/3, Total_Loss: 374.1260, Recon_Loss: 372.0624, Kl_Loss: 22.9281\n"
     ]
    },
    {
     "name": "stderr",
     "output_type": "stream",
     "text": [
      "Epoch 2/3 (Beta: 0.12): 100%|██████████| 28/28 [00:13<00:00,  2.09it/s]\n"
     ]
    },
    {
     "name": "stdout",
     "output_type": "stream",
     "text": [
      "Epoch 2/3, Total_Loss: 358.4885, Recon_Loss: 356.0573, Kl_Loss: 20.2599\n"
     ]
    },
    {
     "name": "stderr",
     "output_type": "stream",
     "text": [
      "Epoch 3/3 (Beta: 0.15): 100%|██████████| 28/28 [00:13<00:00,  2.09it/s]\n"
     ]
    },
    {
     "name": "stdout",
     "output_type": "stream",
     "text": [
      "Epoch 3/3, Total_Loss: 353.7819, Recon_Loss: 350.9196, Kl_Loss: 19.0824\n",
      "ReplayVAE model saved to .trained/replayvae_2025-08-13_13-27-29.pt\n"
     ]
    },
    {
     "name": "stderr",
     "output_type": "stream",
     "text": [
      "Epoch 1/3 (Beta: 0.18): 100%|██████████| 28/28 [00:13<00:00,  2.09it/s]\n"
     ]
    },
    {
     "name": "stdout",
     "output_type": "stream",
     "text": [
      "Epoch 1/3, Total_Loss: 352.9731, Recon_Loss: 349.8955, Kl_Loss: 17.0975\n"
     ]
    },
    {
     "name": "stderr",
     "output_type": "stream",
     "text": [
      "Epoch 2/3 (Beta: 0.21): 100%|██████████| 28/28 [00:13<00:00,  2.09it/s]\n"
     ]
    },
    {
     "name": "stdout",
     "output_type": "stream",
     "text": [
      "Epoch 2/3, Total_Loss: 349.6123, Recon_Loss: 346.2570, Kl_Loss: 15.9776\n"
     ]
    },
    {
     "name": "stderr",
     "output_type": "stream",
     "text": [
      "Epoch 3/3 (Beta: 0.24): 100%|██████████| 28/28 [00:13<00:00,  2.09it/s]\n"
     ]
    },
    {
     "name": "stdout",
     "output_type": "stream",
     "text": [
      "Epoch 3/3, Total_Loss: 345.9954, Recon_Loss: 342.6475, Kl_Loss: 13.9497\n",
      "ReplayVAE model saved to .trained/replayvae_2025-08-13_13-28-09.pt\n"
     ]
    },
    {
     "name": "stderr",
     "output_type": "stream",
     "text": [
      "Epoch 1/3 (Beta: 0.27): 100%|██████████| 28/28 [00:13<00:00,  2.09it/s]\n"
     ]
    },
    {
     "name": "stdout",
     "output_type": "stream",
     "text": [
      "Epoch 1/3, Total_Loss: 337.1870, Recon_Loss: 333.7427, Kl_Loss: 12.7565\n"
     ]
    },
    {
     "name": "stderr",
     "output_type": "stream",
     "text": [
      "Epoch 2/3 (Beta: 0.3): 100%|██████████| 28/28 [00:13<00:00,  2.04it/s]\n"
     ]
    },
    {
     "name": "stdout",
     "output_type": "stream",
     "text": [
      "Epoch 2/3, Total_Loss: 337.9417, Recon_Loss: 334.2763, Kl_Loss: 12.2178\n"
     ]
    },
    {
     "name": "stderr",
     "output_type": "stream",
     "text": [
      "Epoch 3/3 (Beta: 0.3): 100%|██████████| 28/28 [00:13<00:00,  2.09it/s]\n"
     ]
    },
    {
     "name": "stdout",
     "output_type": "stream",
     "text": [
      "Epoch 3/3, Total_Loss: 350.9219, Recon_Loss: 347.4704, Kl_Loss: 11.5050\n",
      "ReplayVAE model saved to .trained/replayvae_2025-08-13_13-28-50.pt\n"
     ]
    },
    {
     "name": "stderr",
     "output_type": "stream",
     "text": [
      "Epoch 1/3 (Beta: 0.3): 100%|██████████| 28/28 [00:13<00:00,  2.09it/s]\n"
     ]
    },
    {
     "name": "stdout",
     "output_type": "stream",
     "text": [
      "Epoch 1/3, Total_Loss: 337.7568, Recon_Loss: 334.3827, Kl_Loss: 11.2467\n"
     ]
    },
    {
     "name": "stderr",
     "output_type": "stream",
     "text": [
      "Epoch 2/3 (Beta: 0.3): 100%|██████████| 28/28 [00:13<00:00,  2.04it/s]\n"
     ]
    },
    {
     "name": "stdout",
     "output_type": "stream",
     "text": [
      "Epoch 2/3, Total_Loss: 329.9944, Recon_Loss: 326.7571, Kl_Loss: 10.7909\n"
     ]
    },
    {
     "name": "stderr",
     "output_type": "stream",
     "text": [
      "Epoch 3/3 (Beta: 0.3): 100%|██████████| 28/28 [00:13<00:00,  2.07it/s]\n"
     ]
    },
    {
     "name": "stdout",
     "output_type": "stream",
     "text": [
      "Epoch 3/3, Total_Loss: 335.3158, Recon_Loss: 332.1346, Kl_Loss: 10.6041\n",
      "ReplayVAE model saved to .trained/replayvae_2025-08-13_13-29-31.pt\n"
     ]
    },
    {
     "name": "stderr",
     "output_type": "stream",
     "text": [
      "Epoch 1/3 (Beta: 0.0): 100%|██████████| 28/28 [00:13<00:00,  2.05it/s]\n"
     ]
    },
    {
     "name": "stdout",
     "output_type": "stream",
     "text": [
      "Epoch 1/3, Total_Loss: 337.2534, Recon_Loss: 337.2534, Kl_Loss: 11.5826\n"
     ]
    },
    {
     "name": "stderr",
     "output_type": "stream",
     "text": [
      "Epoch 2/3 (Beta: 0.03): 100%|██████████| 28/28 [00:13<00:00,  2.09it/s]\n"
     ]
    },
    {
     "name": "stdout",
     "output_type": "stream",
     "text": [
      "Epoch 2/3, Total_Loss: 331.4550, Recon_Loss: 331.0198, Kl_Loss: 14.5071\n"
     ]
    },
    {
     "name": "stderr",
     "output_type": "stream",
     "text": [
      "Epoch 3/3 (Beta: 0.06): 100%|██████████| 28/28 [00:13<00:00,  2.09it/s]\n"
     ]
    },
    {
     "name": "stdout",
     "output_type": "stream",
     "text": [
      "Epoch 3/3, Total_Loss: 338.0078, Recon_Loss: 337.0425, Kl_Loss: 16.0887\n",
      "ReplayVAE model saved to .trained/replayvae_2025-08-13_13-30-11.pt\n"
     ]
    },
    {
     "name": "stderr",
     "output_type": "stream",
     "text": [
      "Epoch 1/3 (Beta: 0.09): 100%|██████████| 28/28 [00:13<00:00,  2.09it/s]\n"
     ]
    },
    {
     "name": "stdout",
     "output_type": "stream",
     "text": [
      "Epoch 1/3, Total_Loss: 336.5591, Recon_Loss: 335.0262, Kl_Loss: 17.0326\n"
     ]
    },
    {
     "name": "stderr",
     "output_type": "stream",
     "text": [
      "Epoch 2/3 (Beta: 0.12): 100%|██████████| 28/28 [00:13<00:00,  2.09it/s]\n"
     ]
    },
    {
     "name": "stdout",
     "output_type": "stream",
     "text": [
      "Epoch 2/3, Total_Loss: 332.1450, Recon_Loss: 330.0949, Kl_Loss: 17.0842\n"
     ]
    },
    {
     "name": "stderr",
     "output_type": "stream",
     "text": [
      "Epoch 3/3 (Beta: 0.15): 100%|██████████| 28/28 [00:13<00:00,  2.09it/s]\n"
     ]
    },
    {
     "name": "stdout",
     "output_type": "stream",
     "text": [
      "Epoch 3/3, Total_Loss: 331.3916, Recon_Loss: 328.9117, Kl_Loss: 16.5325\n",
      "ReplayVAE model saved to .trained/replayvae_2025-08-13_13-30-51.pt\n"
     ]
    },
    {
     "name": "stderr",
     "output_type": "stream",
     "text": [
      "Epoch 1/3 (Beta: 0.18): 100%|██████████| 28/28 [00:13<00:00,  2.09it/s]\n"
     ]
    },
    {
     "name": "stdout",
     "output_type": "stream",
     "text": [
      "Epoch 1/3, Total_Loss: 330.8893, Recon_Loss: 328.1165, Kl_Loss: 15.4043\n"
     ]
    },
    {
     "name": "stderr",
     "output_type": "stream",
     "text": [
      "Epoch 2/3 (Beta: 0.21): 100%|██████████| 28/28 [00:13<00:00,  2.09it/s]\n"
     ]
    },
    {
     "name": "stdout",
     "output_type": "stream",
     "text": [
      "Epoch 2/3, Total_Loss: 337.3175, Recon_Loss: 334.3731, Kl_Loss: 14.0208\n"
     ]
    },
    {
     "name": "stderr",
     "output_type": "stream",
     "text": [
      "Epoch 3/3 (Beta: 0.24): 100%|██████████| 28/28 [00:13<00:00,  2.09it/s]\n"
     ]
    },
    {
     "name": "stdout",
     "output_type": "stream",
     "text": [
      "Epoch 3/3, Total_Loss: 328.5100, Recon_Loss: 325.4620, Kl_Loss: 12.7001\n",
      "ReplayVAE model saved to .trained/replayvae_2025-08-13_13-31-31.pt\n"
     ]
    },
    {
     "name": "stderr",
     "output_type": "stream",
     "text": [
      "Epoch 1/3 (Beta: 0.27): 100%|██████████| 28/28 [00:13<00:00,  2.07it/s]\n"
     ]
    },
    {
     "name": "stdout",
     "output_type": "stream",
     "text": [
      "Epoch 1/3, Total_Loss: 325.7608, Recon_Loss: 322.5876, Kl_Loss: 11.7525\n"
     ]
    },
    {
     "name": "stderr",
     "output_type": "stream",
     "text": [
      "Epoch 2/3 (Beta: 0.3): 100%|██████████| 28/28 [00:13<00:00,  2.10it/s]\n"
     ]
    },
    {
     "name": "stdout",
     "output_type": "stream",
     "text": [
      "Epoch 2/3, Total_Loss: 336.1169, Recon_Loss: 332.9997, Kl_Loss: 10.3906\n"
     ]
    },
    {
     "name": "stderr",
     "output_type": "stream",
     "text": [
      "Epoch 3/3 (Beta: 0.3): 100%|██████████| 28/28 [00:13<00:00,  2.09it/s]\n"
     ]
    },
    {
     "name": "stdout",
     "output_type": "stream",
     "text": [
      "Epoch 3/3, Total_Loss: 331.2094, Recon_Loss: 328.1161, Kl_Loss: 10.3110\n",
      "ReplayVAE model saved to .trained/replayvae_2025-08-13_13-32-12.pt\n"
     ]
    },
    {
     "name": "stderr",
     "output_type": "stream",
     "text": [
      "Epoch 1/3 (Beta: 0.3): 100%|██████████| 28/28 [00:13<00:00,  2.09it/s]\n"
     ]
    },
    {
     "name": "stdout",
     "output_type": "stream",
     "text": [
      "Epoch 1/3, Total_Loss: 328.4931, Recon_Loss: 325.3671, Kl_Loss: 10.4200\n"
     ]
    },
    {
     "name": "stderr",
     "output_type": "stream",
     "text": [
      "Epoch 2/3 (Beta: 0.3): 100%|██████████| 28/28 [00:13<00:00,  2.09it/s]\n"
     ]
    },
    {
     "name": "stdout",
     "output_type": "stream",
     "text": [
      "Epoch 2/3, Total_Loss: 326.3186, Recon_Loss: 323.3192, Kl_Loss: 9.9979\n"
     ]
    },
    {
     "name": "stderr",
     "output_type": "stream",
     "text": [
      "Epoch 3/3 (Beta: 0.3): 100%|██████████| 28/28 [00:13<00:00,  2.09it/s]\n"
     ]
    },
    {
     "name": "stdout",
     "output_type": "stream",
     "text": [
      "Epoch 3/3, Total_Loss: 327.0056, Recon_Loss: 324.1305, Kl_Loss: 9.5836\n",
      "ReplayVAE model saved to .trained/replayvae_2025-08-13_13-32-52.pt\n"
     ]
    },
    {
     "name": "stderr",
     "output_type": "stream",
     "text": [
      "Epoch 1/3 (Beta: 0.0): 100%|██████████| 28/28 [00:13<00:00,  2.05it/s]\n"
     ]
    },
    {
     "name": "stdout",
     "output_type": "stream",
     "text": [
      "Epoch 1/3, Total_Loss: 324.6953, Recon_Loss: 324.6953, Kl_Loss: 10.3181\n"
     ]
    },
    {
     "name": "stderr",
     "output_type": "stream",
     "text": [
      "Epoch 2/3 (Beta: 0.03): 100%|██████████| 28/28 [00:13<00:00,  2.08it/s]\n"
     ]
    },
    {
     "name": "stdout",
     "output_type": "stream",
     "text": [
      "Epoch 2/3, Total_Loss: 328.7428, Recon_Loss: 328.3279, Kl_Loss: 13.8294\n"
     ]
    },
    {
     "name": "stderr",
     "output_type": "stream",
     "text": [
      "Epoch 3/3 (Beta: 0.06): 100%|██████████| 28/28 [00:13<00:00,  2.09it/s]\n"
     ]
    },
    {
     "name": "stdout",
     "output_type": "stream",
     "text": [
      "Epoch 3/3, Total_Loss: 330.1159, Recon_Loss: 329.1674, Kl_Loss: 15.8076\n",
      "ReplayVAE model saved to .trained/replayvae_2025-08-13_13-33-32.pt\n"
     ]
    },
    {
     "name": "stderr",
     "output_type": "stream",
     "text": [
      "Epoch 1/3 (Beta: 0.09): 100%|██████████| 28/28 [00:13<00:00,  2.05it/s]\n"
     ]
    },
    {
     "name": "stdout",
     "output_type": "stream",
     "text": [
      "Epoch 1/3, Total_Loss: 337.6017, Recon_Loss: 336.1241, Kl_Loss: 16.4178\n"
     ]
    },
    {
     "name": "stderr",
     "output_type": "stream",
     "text": [
      "Epoch 2/3 (Beta: 0.12): 100%|██████████| 28/28 [00:13<00:00,  2.03it/s]\n"
     ]
    },
    {
     "name": "stdout",
     "output_type": "stream",
     "text": [
      "Epoch 2/3, Total_Loss: 329.8640, Recon_Loss: 327.8720, Kl_Loss: 16.6002\n"
     ]
    },
    {
     "name": "stderr",
     "output_type": "stream",
     "text": [
      "Epoch 3/3 (Beta: 0.15): 100%|██████████| 28/28 [00:13<00:00,  2.04it/s]\n"
     ]
    },
    {
     "name": "stdout",
     "output_type": "stream",
     "text": [
      "Epoch 3/3, Total_Loss: 325.3895, Recon_Loss: 322.9666, Kl_Loss: 16.1525\n",
      "ReplayVAE model saved to .trained/replayvae_2025-08-13_13-34-14.pt\n"
     ]
    },
    {
     "name": "stderr",
     "output_type": "stream",
     "text": [
      "Epoch 1/3 (Beta: 0.18): 100%|██████████| 28/28 [00:13<00:00,  2.05it/s]\n"
     ]
    },
    {
     "name": "stdout",
     "output_type": "stream",
     "text": [
      "Epoch 1/3, Total_Loss: 328.8599, Recon_Loss: 326.2148, Kl_Loss: 14.6951\n"
     ]
    },
    {
     "name": "stderr",
     "output_type": "stream",
     "text": [
      "Epoch 2/3 (Beta: 0.21): 100%|██████████| 28/28 [00:13<00:00,  2.06it/s]\n"
     ]
    },
    {
     "name": "stdout",
     "output_type": "stream",
     "text": [
      "Epoch 2/3, Total_Loss: 326.5110, Recon_Loss: 323.6122, Kl_Loss: 13.8039\n"
     ]
    },
    {
     "name": "stderr",
     "output_type": "stream",
     "text": [
      "Epoch 3/3 (Beta: 0.24): 100%|██████████| 28/28 [00:13<00:00,  2.09it/s]\n"
     ]
    },
    {
     "name": "stdout",
     "output_type": "stream",
     "text": [
      "Epoch 3/3, Total_Loss: 333.6087, Recon_Loss: 330.6999, Kl_Loss: 12.1201\n",
      "ReplayVAE model saved to .trained/replayvae_2025-08-13_13-34-54.pt\n"
     ]
    },
    {
     "name": "stderr",
     "output_type": "stream",
     "text": [
      "Epoch 1/3 (Beta: 0.27): 100%|██████████| 28/28 [00:13<00:00,  2.09it/s]\n"
     ]
    },
    {
     "name": "stdout",
     "output_type": "stream",
     "text": [
      "Epoch 1/3, Total_Loss: 332.0884, Recon_Loss: 329.0994, Kl_Loss: 11.0704\n"
     ]
    },
    {
     "name": "stderr",
     "output_type": "stream",
     "text": [
      "Epoch 2/3 (Beta: 0.3): 100%|██████████| 28/28 [00:13<00:00,  2.08it/s]\n"
     ]
    },
    {
     "name": "stdout",
     "output_type": "stream",
     "text": [
      "Epoch 2/3, Total_Loss: 335.1062, Recon_Loss: 331.9732, Kl_Loss: 10.4434\n"
     ]
    },
    {
     "name": "stderr",
     "output_type": "stream",
     "text": [
      "Epoch 3/3 (Beta: 0.3): 100%|██████████| 28/28 [00:13<00:00,  2.08it/s]\n"
     ]
    },
    {
     "name": "stdout",
     "output_type": "stream",
     "text": [
      "Epoch 3/3, Total_Loss: 333.4329, Recon_Loss: 330.4499, Kl_Loss: 9.9435\n",
      "ReplayVAE model saved to .trained/replayvae_2025-08-13_13-35-35.pt\n"
     ]
    },
    {
     "name": "stderr",
     "output_type": "stream",
     "text": [
      "Epoch 1/3 (Beta: 0.3): 100%|██████████| 28/28 [00:13<00:00,  2.09it/s]\n"
     ]
    },
    {
     "name": "stdout",
     "output_type": "stream",
     "text": [
      "Epoch 1/3, Total_Loss: 346.2556, Recon_Loss: 343.0392, Kl_Loss: 10.7214\n"
     ]
    },
    {
     "name": "stderr",
     "output_type": "stream",
     "text": [
      "Epoch 2/3 (Beta: 0.3): 100%|██████████| 28/28 [00:13<00:00,  2.05it/s]\n"
     ]
    },
    {
     "name": "stdout",
     "output_type": "stream",
     "text": [
      "Epoch 2/3, Total_Loss: 343.7128, Recon_Loss: 340.5343, Kl_Loss: 10.5951\n"
     ]
    },
    {
     "name": "stderr",
     "output_type": "stream",
     "text": [
      "Epoch 3/3 (Beta: 0.3): 100%|██████████| 28/28 [00:13<00:00,  2.06it/s]\n"
     ]
    },
    {
     "name": "stdout",
     "output_type": "stream",
     "text": [
      "Epoch 3/3, Total_Loss: 335.1238, Recon_Loss: 332.0572, Kl_Loss: 10.2218\n",
      "ReplayVAE model saved to .trained/replayvae_2025-08-13_13-36-15.pt\n"
     ]
    },
    {
     "name": "stderr",
     "output_type": "stream",
     "text": [
      "Epoch 1/3 (Beta: 0.0): 100%|██████████| 28/28 [00:13<00:00,  2.03it/s]\n"
     ]
    },
    {
     "name": "stdout",
     "output_type": "stream",
     "text": [
      "Epoch 1/3, Total_Loss: 331.7592, Recon_Loss: 331.7592, Kl_Loss: 11.5318\n"
     ]
    },
    {
     "name": "stderr",
     "output_type": "stream",
     "text": [
      "Epoch 2/3 (Beta: 0.03): 100%|██████████| 28/28 [00:13<00:00,  2.06it/s]\n"
     ]
    },
    {
     "name": "stdout",
     "output_type": "stream",
     "text": [
      "Epoch 2/3, Total_Loss: 339.7958, Recon_Loss: 339.3334, Kl_Loss: 15.4116\n"
     ]
    },
    {
     "name": "stderr",
     "output_type": "stream",
     "text": [
      "Epoch 3/3 (Beta: 0.06): 100%|██████████| 28/28 [00:13<00:00,  2.09it/s]\n"
     ]
    },
    {
     "name": "stdout",
     "output_type": "stream",
     "text": [
      "Epoch 3/3, Total_Loss: 337.1698, Recon_Loss: 336.1362, Kl_Loss: 17.2277\n",
      "ReplayVAE model saved to .trained/replayvae_2025-08-13_13-36-56.pt\n"
     ]
    },
    {
     "name": "stderr",
     "output_type": "stream",
     "text": [
      "Epoch 1/3 (Beta: 0.09): 100%|██████████| 28/28 [00:13<00:00,  2.07it/s]\n"
     ]
    },
    {
     "name": "stdout",
     "output_type": "stream",
     "text": [
      "Epoch 1/3, Total_Loss: 333.3967, Recon_Loss: 331.8077, Kl_Loss: 17.6558\n"
     ]
    },
    {
     "name": "stderr",
     "output_type": "stream",
     "text": [
      "Epoch 2/3 (Beta: 0.12): 100%|██████████| 28/28 [00:13<00:00,  2.05it/s]\n"
     ]
    },
    {
     "name": "stdout",
     "output_type": "stream",
     "text": [
      "Epoch 2/3, Total_Loss: 328.5231, Recon_Loss: 326.3960, Kl_Loss: 17.7258\n"
     ]
    },
    {
     "name": "stderr",
     "output_type": "stream",
     "text": [
      "Epoch 3/3 (Beta: 0.15): 100%|██████████| 28/28 [00:13<00:00,  2.07it/s]\n"
     ]
    },
    {
     "name": "stdout",
     "output_type": "stream",
     "text": [
      "Epoch 3/3, Total_Loss: 332.2138, Recon_Loss: 329.6737, Kl_Loss: 16.9338\n",
      "ReplayVAE model saved to .trained/replayvae_2025-08-13_13-37-37.pt\n"
     ]
    },
    {
     "name": "stderr",
     "output_type": "stream",
     "text": [
      "Epoch 1/3 (Beta: 0.18): 100%|██████████| 28/28 [00:13<00:00,  2.06it/s]\n"
     ]
    },
    {
     "name": "stdout",
     "output_type": "stream",
     "text": [
      "Epoch 1/3, Total_Loss: 339.9166, Recon_Loss: 337.1700, Kl_Loss: 15.2588\n"
     ]
    },
    {
     "name": "stderr",
     "output_type": "stream",
     "text": [
      "Epoch 2/3 (Beta: 0.21): 100%|██████████| 28/28 [00:13<00:00,  2.08it/s]\n"
     ]
    },
    {
     "name": "stdout",
     "output_type": "stream",
     "text": [
      "Epoch 2/3, Total_Loss: 339.0082, Recon_Loss: 336.1676, Kl_Loss: 13.5264\n"
     ]
    },
    {
     "name": "stderr",
     "output_type": "stream",
     "text": [
      "Epoch 3/3 (Beta: 0.24): 100%|██████████| 28/28 [00:13<00:00,  2.09it/s]\n"
     ]
    },
    {
     "name": "stdout",
     "output_type": "stream",
     "text": [
      "Epoch 3/3, Total_Loss: 333.8345, Recon_Loss: 330.9044, Kl_Loss: 12.2086\n",
      "ReplayVAE model saved to .trained/replayvae_2025-08-13_13-38-17.pt\n"
     ]
    },
    {
     "name": "stderr",
     "output_type": "stream",
     "text": [
      "Epoch 1/3 (Beta: 0.27): 100%|██████████| 28/28 [00:13<00:00,  2.09it/s]\n"
     ]
    },
    {
     "name": "stdout",
     "output_type": "stream",
     "text": [
      "Epoch 1/3, Total_Loss: 335.7482, Recon_Loss: 332.5791, Kl_Loss: 11.7373\n"
     ]
    },
    {
     "name": "stderr",
     "output_type": "stream",
     "text": [
      "Epoch 2/3 (Beta: 0.3): 100%|██████████| 28/28 [00:13<00:00,  2.10it/s]\n"
     ]
    },
    {
     "name": "stdout",
     "output_type": "stream",
     "text": [
      "Epoch 2/3, Total_Loss: 329.9956, Recon_Loss: 326.5587, Kl_Loss: 11.4564\n"
     ]
    },
    {
     "name": "stderr",
     "output_type": "stream",
     "text": [
      "Epoch 3/3 (Beta: 0.3): 100%|██████████| 28/28 [00:13<00:00,  2.09it/s]\n"
     ]
    },
    {
     "name": "stdout",
     "output_type": "stream",
     "text": [
      "Epoch 3/3, Total_Loss: 334.9685, Recon_Loss: 331.9139, Kl_Loss: 10.1822\n",
      "ReplayVAE model saved to .trained/replayvae_2025-08-13_13-38-57.pt\n"
     ]
    },
    {
     "name": "stderr",
     "output_type": "stream",
     "text": [
      "Epoch 1/3 (Beta: 0.3): 100%|██████████| 28/28 [00:13<00:00,  2.09it/s]\n"
     ]
    },
    {
     "name": "stdout",
     "output_type": "stream",
     "text": [
      "Epoch 1/3, Total_Loss: 337.1688, Recon_Loss: 334.1561, Kl_Loss: 10.0420\n"
     ]
    },
    {
     "name": "stderr",
     "output_type": "stream",
     "text": [
      "Epoch 2/3 (Beta: 0.3): 100%|██████████| 28/28 [00:13<00:00,  2.09it/s]\n"
     ]
    },
    {
     "name": "stdout",
     "output_type": "stream",
     "text": [
      "Epoch 2/3, Total_Loss: 344.3190, Recon_Loss: 341.2728, Kl_Loss: 10.1539\n"
     ]
    },
    {
     "name": "stderr",
     "output_type": "stream",
     "text": [
      "Epoch 3/3 (Beta: 0.3): 100%|██████████| 28/28 [00:13<00:00,  2.07it/s]\n"
     ]
    },
    {
     "name": "stdout",
     "output_type": "stream",
     "text": [
      "Epoch 3/3, Total_Loss: 333.7400, Recon_Loss: 330.7299, Kl_Loss: 10.0338\n",
      "ReplayVAE model saved to .trained/replayvae_2025-08-13_13-39-38.pt\n"
     ]
    },
    {
     "name": "stderr",
     "output_type": "stream",
     "text": [
      "Epoch 1/3 (Beta: 0.0): 100%|██████████| 28/28 [00:13<00:00,  2.09it/s]\n"
     ]
    },
    {
     "name": "stdout",
     "output_type": "stream",
     "text": [
      "Epoch 1/3, Total_Loss: 330.5506, Recon_Loss: 330.5506, Kl_Loss: 10.8061\n"
     ]
    },
    {
     "name": "stderr",
     "output_type": "stream",
     "text": [
      "Epoch 2/3 (Beta: 0.03): 100%|██████████| 28/28 [00:13<00:00,  2.08it/s]\n"
     ]
    },
    {
     "name": "stdout",
     "output_type": "stream",
     "text": [
      "Epoch 2/3, Total_Loss: 332.5170, Recon_Loss: 332.0810, Kl_Loss: 14.5335\n"
     ]
    },
    {
     "name": "stderr",
     "output_type": "stream",
     "text": [
      "Epoch 3/3 (Beta: 0.06): 100%|██████████| 28/28 [00:13<00:00,  2.09it/s]\n"
     ]
    },
    {
     "name": "stdout",
     "output_type": "stream",
     "text": [
      "Epoch 3/3, Total_Loss: 329.6934, Recon_Loss: 328.7046, Kl_Loss: 16.4802\n",
      "ReplayVAE model saved to .trained/replayvae_2025-08-13_13-40-18.pt\n"
     ]
    },
    {
     "name": "stderr",
     "output_type": "stream",
     "text": [
      "Epoch 1/3 (Beta: 0.09): 100%|██████████| 28/28 [00:13<00:00,  2.09it/s]\n"
     ]
    },
    {
     "name": "stdout",
     "output_type": "stream",
     "text": [
      "Epoch 1/3, Total_Loss: 325.1913, Recon_Loss: 323.6168, Kl_Loss: 17.4944\n"
     ]
    },
    {
     "name": "stderr",
     "output_type": "stream",
     "text": [
      "Epoch 2/3 (Beta: 0.12): 100%|██████████| 28/28 [00:13<00:00,  2.09it/s]\n"
     ]
    },
    {
     "name": "stdout",
     "output_type": "stream",
     "text": [
      "Epoch 2/3, Total_Loss: 323.4858, Recon_Loss: 321.4265, Kl_Loss: 17.1603\n"
     ]
    },
    {
     "name": "stderr",
     "output_type": "stream",
     "text": [
      "Epoch 3/3 (Beta: 0.15): 100%|██████████| 28/28 [00:13<00:00,  2.09it/s]\n"
     ]
    },
    {
     "name": "stdout",
     "output_type": "stream",
     "text": [
      "Epoch 3/3, Total_Loss: 318.3003, Recon_Loss: 315.9169, Kl_Loss: 15.8890\n",
      "ReplayVAE model saved to .trained/replayvae_2025-08-13_13-40-58.pt\n"
     ]
    },
    {
     "name": "stderr",
     "output_type": "stream",
     "text": [
      "Epoch 1/3 (Beta: 0.18): 100%|██████████| 28/28 [00:13<00:00,  2.09it/s]\n"
     ]
    },
    {
     "name": "stdout",
     "output_type": "stream",
     "text": [
      "Epoch 1/3, Total_Loss: 326.9220, Recon_Loss: 324.3352, Kl_Loss: 14.3713\n"
     ]
    },
    {
     "name": "stderr",
     "output_type": "stream",
     "text": [
      "Epoch 2/3 (Beta: 0.21): 100%|██████████| 28/28 [00:13<00:00,  2.09it/s]\n"
     ]
    },
    {
     "name": "stdout",
     "output_type": "stream",
     "text": [
      "Epoch 2/3, Total_Loss: 328.3178, Recon_Loss: 325.5937, Kl_Loss: 12.9722\n"
     ]
    },
    {
     "name": "stderr",
     "output_type": "stream",
     "text": [
      "Epoch 3/3 (Beta: 0.24): 100%|██████████| 28/28 [00:13<00:00,  2.09it/s]\n"
     ]
    },
    {
     "name": "stdout",
     "output_type": "stream",
     "text": [
      "Epoch 3/3, Total_Loss: 331.0649, Recon_Loss: 328.2194, Kl_Loss: 11.8560\n",
      "ReplayVAE model saved to .trained/replayvae_2025-08-13_13-41-38.pt\n"
     ]
    },
    {
     "name": "stderr",
     "output_type": "stream",
     "text": [
      "Epoch 1/3 (Beta: 0.27): 100%|██████████| 28/28 [00:13<00:00,  2.09it/s]\n"
     ]
    },
    {
     "name": "stdout",
     "output_type": "stream",
     "text": [
      "Epoch 1/3, Total_Loss: 333.8792, Recon_Loss: 330.9017, Kl_Loss: 11.0277\n"
     ]
    },
    {
     "name": "stderr",
     "output_type": "stream",
     "text": [
      "Epoch 2/3 (Beta: 0.3): 100%|██████████| 28/28 [00:13<00:00,  2.09it/s]\n"
     ]
    },
    {
     "name": "stdout",
     "output_type": "stream",
     "text": [
      "Epoch 2/3, Total_Loss: 327.3359, Recon_Loss: 324.1896, Kl_Loss: 10.4877\n"
     ]
    },
    {
     "name": "stderr",
     "output_type": "stream",
     "text": [
      "Epoch 3/3 (Beta: 0.3): 100%|██████████| 28/28 [00:13<00:00,  2.10it/s]\n"
     ]
    },
    {
     "name": "stdout",
     "output_type": "stream",
     "text": [
      "Epoch 3/3, Total_Loss: 332.4827, Recon_Loss: 329.5371, Kl_Loss: 9.8187\n",
      "ReplayVAE model saved to .trained/replayvae_2025-08-13_13-42-19.pt\n"
     ]
    },
    {
     "name": "stderr",
     "output_type": "stream",
     "text": [
      "Epoch 1/3 (Beta: 0.3): 100%|██████████| 28/28 [00:13<00:00,  2.09it/s]\n"
     ]
    },
    {
     "name": "stdout",
     "output_type": "stream",
     "text": [
      "Epoch 1/3, Total_Loss: 329.8028, Recon_Loss: 326.9112, Kl_Loss: 9.6384\n"
     ]
    },
    {
     "name": "stderr",
     "output_type": "stream",
     "text": [
      "Epoch 2/3 (Beta: 0.3): 100%|██████████| 28/28 [00:13<00:00,  2.10it/s]\n"
     ]
    },
    {
     "name": "stdout",
     "output_type": "stream",
     "text": [
      "Epoch 2/3, Total_Loss: 327.4533, Recon_Loss: 324.6519, Kl_Loss: 9.3381\n"
     ]
    },
    {
     "name": "stderr",
     "output_type": "stream",
     "text": [
      "Epoch 3/3 (Beta: 0.3): 100%|██████████| 28/28 [00:13<00:00,  2.09it/s]\n"
     ]
    },
    {
     "name": "stdout",
     "output_type": "stream",
     "text": [
      "Epoch 3/3, Total_Loss: 331.1269, Recon_Loss: 328.3235, Kl_Loss: 9.3445\n",
      "ReplayVAE model saved to .trained/replayvae_2025-08-13_13-42-59.pt\n"
     ]
    },
    {
     "name": "stderr",
     "output_type": "stream",
     "text": [
      "Epoch 1/3 (Beta: 0.0): 100%|██████████| 28/28 [00:13<00:00,  2.09it/s]\n"
     ]
    },
    {
     "name": "stdout",
     "output_type": "stream",
     "text": [
      "Epoch 1/3, Total_Loss: 321.5292, Recon_Loss: 321.5292, Kl_Loss: 10.2965\n"
     ]
    },
    {
     "name": "stderr",
     "output_type": "stream",
     "text": [
      "Epoch 2/3 (Beta: 0.03): 100%|██████████| 28/28 [00:13<00:00,  2.09it/s]\n"
     ]
    },
    {
     "name": "stdout",
     "output_type": "stream",
     "text": [
      "Epoch 2/3, Total_Loss: 324.2608, Recon_Loss: 323.8465, Kl_Loss: 13.8124\n"
     ]
    },
    {
     "name": "stderr",
     "output_type": "stream",
     "text": [
      "Epoch 3/3 (Beta: 0.06): 100%|██████████| 28/28 [00:13<00:00,  2.09it/s]\n"
     ]
    },
    {
     "name": "stdout",
     "output_type": "stream",
     "text": [
      "Epoch 3/3, Total_Loss: 325.5141, Recon_Loss: 324.4740, Kl_Loss: 17.3349\n",
      "ReplayVAE model saved to .trained/replayvae_2025-08-13_13-43-39.pt\n"
     ]
    },
    {
     "name": "stderr",
     "output_type": "stream",
     "text": [
      "Epoch 1/3 (Beta: 0.09): 100%|██████████| 28/28 [00:13<00:00,  2.09it/s]\n"
     ]
    },
    {
     "name": "stdout",
     "output_type": "stream",
     "text": [
      "Epoch 1/3, Total_Loss: 329.2772, Recon_Loss: 327.7053, Kl_Loss: 17.4664\n"
     ]
    },
    {
     "name": "stderr",
     "output_type": "stream",
     "text": [
      "Epoch 2/3 (Beta: 0.12): 100%|██████████| 28/28 [00:13<00:00,  2.09it/s]\n"
     ]
    },
    {
     "name": "stdout",
     "output_type": "stream",
     "text": [
      "Epoch 2/3, Total_Loss: 330.2227, Recon_Loss: 328.1726, Kl_Loss: 17.0844\n"
     ]
    },
    {
     "name": "stderr",
     "output_type": "stream",
     "text": [
      "Epoch 3/3 (Beta: 0.15): 100%|██████████| 28/28 [00:13<00:00,  2.09it/s]\n"
     ]
    },
    {
     "name": "stdout",
     "output_type": "stream",
     "text": [
      "Epoch 3/3, Total_Loss: 326.2222, Recon_Loss: 323.7963, Kl_Loss: 16.1727\n",
      "ReplayVAE model saved to .trained/replayvae_2025-08-13_13-44-19.pt\n"
     ]
    },
    {
     "name": "stderr",
     "output_type": "stream",
     "text": [
      "Epoch 1/3 (Beta: 0.18): 100%|██████████| 28/28 [00:13<00:00,  2.09it/s]\n"
     ]
    },
    {
     "name": "stdout",
     "output_type": "stream",
     "text": [
      "Epoch 1/3, Total_Loss: 333.7420, Recon_Loss: 331.1210, Kl_Loss: 14.5611\n"
     ]
    },
    {
     "name": "stderr",
     "output_type": "stream",
     "text": [
      "Epoch 2/3 (Beta: 0.21): 100%|██████████| 28/28 [00:13<00:00,  2.09it/s]\n"
     ]
    },
    {
     "name": "stdout",
     "output_type": "stream",
     "text": [
      "Epoch 2/3, Total_Loss: 328.6856, Recon_Loss: 325.8759, Kl_Loss: 13.3796\n"
     ]
    },
    {
     "name": "stderr",
     "output_type": "stream",
     "text": [
      "Epoch 3/3 (Beta: 0.24): 100%|██████████| 28/28 [00:13<00:00,  2.09it/s]\n"
     ]
    },
    {
     "name": "stdout",
     "output_type": "stream",
     "text": [
      "Epoch 3/3, Total_Loss: 339.4977, Recon_Loss: 336.5515, Kl_Loss: 12.2759\n",
      "ReplayVAE model saved to .trained/replayvae_2025-08-13_13-44-59.pt\n"
     ]
    },
    {
     "name": "stderr",
     "output_type": "stream",
     "text": [
      "Epoch 1/3 (Beta: 0.27): 100%|██████████| 28/28 [00:13<00:00,  2.09it/s]\n"
     ]
    },
    {
     "name": "stdout",
     "output_type": "stream",
     "text": [
      "Epoch 1/3, Total_Loss: 335.3992, Recon_Loss: 332.3863, Kl_Loss: 11.1591\n"
     ]
    },
    {
     "name": "stderr",
     "output_type": "stream",
     "text": [
      "Epoch 2/3 (Beta: 0.3): 100%|██████████| 28/28 [00:13<00:00,  2.09it/s]\n"
     ]
    },
    {
     "name": "stdout",
     "output_type": "stream",
     "text": [
      "Epoch 2/3, Total_Loss: 333.1113, Recon_Loss: 329.9642, Kl_Loss: 10.4903\n"
     ]
    },
    {
     "name": "stderr",
     "output_type": "stream",
     "text": [
      "Epoch 3/3 (Beta: 0.3): 100%|██████████| 28/28 [00:13<00:00,  2.09it/s]\n"
     ]
    },
    {
     "name": "stdout",
     "output_type": "stream",
     "text": [
      "Epoch 3/3, Total_Loss: 323.2894, Recon_Loss: 320.2780, Kl_Loss: 10.0380\n",
      "ReplayVAE model saved to .trained/replayvae_2025-08-13_13-45-40.pt\n"
     ]
    },
    {
     "name": "stderr",
     "output_type": "stream",
     "text": [
      "Epoch 1/3 (Beta: 0.3): 100%|██████████| 28/28 [00:13<00:00,  2.09it/s]\n"
     ]
    },
    {
     "name": "stdout",
     "output_type": "stream",
     "text": [
      "Epoch 1/3, Total_Loss: 331.1486, Recon_Loss: 328.3411, Kl_Loss: 9.3582\n"
     ]
    },
    {
     "name": "stderr",
     "output_type": "stream",
     "text": [
      "Epoch 2/3 (Beta: 0.3): 100%|██████████| 28/28 [00:13<00:00,  2.09it/s]\n"
     ]
    },
    {
     "name": "stdout",
     "output_type": "stream",
     "text": [
      "Epoch 2/3, Total_Loss: 323.6033, Recon_Loss: 320.7622, Kl_Loss: 9.4703\n"
     ]
    },
    {
     "name": "stderr",
     "output_type": "stream",
     "text": [
      "Epoch 3/3 (Beta: 0.3): 100%|██████████| 28/28 [00:13<00:00,  2.08it/s]\n"
     ]
    },
    {
     "name": "stdout",
     "output_type": "stream",
     "text": [
      "Epoch 3/3, Total_Loss: 328.4687, Recon_Loss: 325.6968, Kl_Loss: 9.2397\n",
      "ReplayVAE model saved to .trained/replayvae_2025-08-13_13-46-20.pt\n"
     ]
    },
    {
     "name": "stderr",
     "output_type": "stream",
     "text": [
      "Epoch 1/3 (Beta: 0.0): 100%|██████████| 28/28 [00:13<00:00,  2.09it/s]\n"
     ]
    },
    {
     "name": "stdout",
     "output_type": "stream",
     "text": [
      "Epoch 1/3, Total_Loss: 329.3618, Recon_Loss: 329.3618, Kl_Loss: 10.0390\n"
     ]
    },
    {
     "name": "stderr",
     "output_type": "stream",
     "text": [
      "Epoch 2/3 (Beta: 0.03): 100%|██████████| 28/28 [00:13<00:00,  2.09it/s]\n"
     ]
    },
    {
     "name": "stdout",
     "output_type": "stream",
     "text": [
      "Epoch 2/3, Total_Loss: 327.2116, Recon_Loss: 326.8573, Kl_Loss: 11.8101\n"
     ]
    },
    {
     "name": "stderr",
     "output_type": "stream",
     "text": [
      "Epoch 3/3 (Beta: 0.06): 100%|██████████| 28/28 [00:13<00:00,  2.09it/s]\n"
     ]
    },
    {
     "name": "stdout",
     "output_type": "stream",
     "text": [
      "Epoch 3/3, Total_Loss: 317.1571, Recon_Loss: 316.3672, Kl_Loss: 13.1653\n",
      "ReplayVAE model saved to .trained/replayvae_2025-08-13_13-47-00.pt\n"
     ]
    },
    {
     "name": "stderr",
     "output_type": "stream",
     "text": [
      "Epoch 1/3 (Beta: 0.09): 100%|██████████| 28/28 [00:13<00:00,  2.07it/s]\n"
     ]
    },
    {
     "name": "stdout",
     "output_type": "stream",
     "text": [
      "Epoch 1/3, Total_Loss: 316.8382, Recon_Loss: 315.5331, Kl_Loss: 14.5015\n"
     ]
    },
    {
     "name": "stderr",
     "output_type": "stream",
     "text": [
      "Epoch 2/3 (Beta: 0.12): 100%|██████████| 28/28 [00:13<00:00,  2.09it/s]\n"
     ]
    },
    {
     "name": "stdout",
     "output_type": "stream",
     "text": [
      "Epoch 2/3, Total_Loss: 318.1463, Recon_Loss: 316.4226, Kl_Loss: 14.3643\n"
     ]
    },
    {
     "name": "stderr",
     "output_type": "stream",
     "text": [
      "Epoch 3/3 (Beta: 0.15): 100%|██████████| 28/28 [00:13<00:00,  2.08it/s]\n"
     ]
    },
    {
     "name": "stdout",
     "output_type": "stream",
     "text": [
      "Epoch 3/3, Total_Loss: 324.4504, Recon_Loss: 322.4354, Kl_Loss: 13.4334\n",
      "ReplayVAE model saved to .trained/replayvae_2025-08-13_13-47-41.pt\n"
     ]
    },
    {
     "name": "stderr",
     "output_type": "stream",
     "text": [
      "Epoch 1/3 (Beta: 0.18): 100%|██████████| 28/28 [00:13<00:00,  2.09it/s]\n"
     ]
    },
    {
     "name": "stdout",
     "output_type": "stream",
     "text": [
      "Epoch 1/3, Total_Loss: 324.9695, Recon_Loss: 322.7088, Kl_Loss: 12.5594\n"
     ]
    },
    {
     "name": "stderr",
     "output_type": "stream",
     "text": [
      "Epoch 2/3 (Beta: 0.21): 100%|██████████| 28/28 [00:13<00:00,  2.10it/s]\n"
     ]
    },
    {
     "name": "stdout",
     "output_type": "stream",
     "text": [
      "Epoch 2/3, Total_Loss: 326.3108, Recon_Loss: 323.8298, Kl_Loss: 11.8140\n"
     ]
    },
    {
     "name": "stderr",
     "output_type": "stream",
     "text": [
      "Epoch 3/3 (Beta: 0.24): 100%|██████████| 28/28 [00:13<00:00,  2.10it/s]\n"
     ]
    },
    {
     "name": "stdout",
     "output_type": "stream",
     "text": [
      "Epoch 3/3, Total_Loss: 333.4442, Recon_Loss: 330.7365, Kl_Loss: 11.2821\n",
      "ReplayVAE model saved to .trained/replayvae_2025-08-13_13-48-21.pt\n"
     ]
    },
    {
     "name": "stderr",
     "output_type": "stream",
     "text": [
      "Epoch 1/3 (Beta: 0.27): 100%|██████████| 28/28 [00:13<00:00,  2.09it/s]\n"
     ]
    },
    {
     "name": "stdout",
     "output_type": "stream",
     "text": [
      "Epoch 1/3, Total_Loss: 337.9117, Recon_Loss: 334.8158, Kl_Loss: 11.4662\n"
     ]
    },
    {
     "name": "stderr",
     "output_type": "stream",
     "text": [
      "Epoch 2/3 (Beta: 0.3): 100%|██████████| 28/28 [00:13<00:00,  2.09it/s]\n"
     ]
    },
    {
     "name": "stdout",
     "output_type": "stream",
     "text": [
      "Epoch 2/3, Total_Loss: 333.1711, Recon_Loss: 329.9690, Kl_Loss: 10.6738\n"
     ]
    },
    {
     "name": "stderr",
     "output_type": "stream",
     "text": [
      "Epoch 3/3 (Beta: 0.3): 100%|██████████| 28/28 [00:13<00:00,  2.09it/s]\n"
     ]
    },
    {
     "name": "stdout",
     "output_type": "stream",
     "text": [
      "Epoch 3/3, Total_Loss: 344.0583, Recon_Loss: 341.0114, Kl_Loss: 10.1566\n",
      "ReplayVAE model saved to .trained/replayvae_2025-08-13_13-49-01.pt\n"
     ]
    },
    {
     "name": "stderr",
     "output_type": "stream",
     "text": [
      "Epoch 1/3 (Beta: 0.3): 100%|██████████| 28/28 [00:13<00:00,  2.09it/s]\n"
     ]
    },
    {
     "name": "stdout",
     "output_type": "stream",
     "text": [
      "Epoch 1/3, Total_Loss: 341.9243, Recon_Loss: 339.0294, Kl_Loss: 9.6496\n"
     ]
    },
    {
     "name": "stderr",
     "output_type": "stream",
     "text": [
      "Epoch 2/3 (Beta: 0.3): 100%|██████████| 28/28 [00:13<00:00,  2.10it/s]\n"
     ]
    },
    {
     "name": "stdout",
     "output_type": "stream",
     "text": [
      "Epoch 2/3, Total_Loss: 339.2108, Recon_Loss: 336.3287, Kl_Loss: 9.6068\n"
     ]
    },
    {
     "name": "stderr",
     "output_type": "stream",
     "text": [
      "Epoch 3/3 (Beta: 0.3): 100%|██████████| 28/28 [00:13<00:00,  2.10it/s]\n"
     ]
    },
    {
     "name": "stdout",
     "output_type": "stream",
     "text": [
      "Epoch 3/3, Total_Loss: 335.7056, Recon_Loss: 332.8626, Kl_Loss: 9.4767\n",
      "ReplayVAE model saved to .trained/replayvae_2025-08-13_13-49-41.pt\n"
     ]
    },
    {
     "name": "stderr",
     "output_type": "stream",
     "text": [
      "Epoch 1/3 (Beta: 0.0): 100%|██████████| 28/28 [00:13<00:00,  2.09it/s]\n"
     ]
    },
    {
     "name": "stdout",
     "output_type": "stream",
     "text": [
      "Epoch 1/3, Total_Loss: 324.8154, Recon_Loss: 324.8154, Kl_Loss: 10.6734\n"
     ]
    },
    {
     "name": "stderr",
     "output_type": "stream",
     "text": [
      "Epoch 2/3 (Beta: 0.03): 100%|██████████| 28/28 [00:13<00:00,  2.09it/s]\n"
     ]
    },
    {
     "name": "stdout",
     "output_type": "stream",
     "text": [
      "Epoch 2/3, Total_Loss: 328.4193, Recon_Loss: 327.9913, Kl_Loss: 14.2648\n"
     ]
    },
    {
     "name": "stderr",
     "output_type": "stream",
     "text": [
      "Epoch 3/3 (Beta: 0.06): 100%|██████████| 28/28 [00:13<00:00,  2.09it/s]\n"
     ]
    },
    {
     "name": "stdout",
     "output_type": "stream",
     "text": [
      "Epoch 3/3, Total_Loss: 342.9183, Recon_Loss: 341.9410, Kl_Loss: 16.2874\n",
      "ReplayVAE model saved to .trained/replayvae_2025-08-13_13-50-21.pt\n"
     ]
    },
    {
     "name": "stderr",
     "output_type": "stream",
     "text": [
      "Epoch 1/3 (Beta: 0.09): 100%|██████████| 28/28 [00:13<00:00,  2.09it/s]\n"
     ]
    },
    {
     "name": "stdout",
     "output_type": "stream",
     "text": [
      "Epoch 1/3, Total_Loss: 343.9405, Recon_Loss: 342.4008, Kl_Loss: 17.1068\n"
     ]
    },
    {
     "name": "stderr",
     "output_type": "stream",
     "text": [
      "Epoch 2/3 (Beta: 0.12): 100%|██████████| 28/28 [00:13<00:00,  2.09it/s]\n"
     ]
    },
    {
     "name": "stdout",
     "output_type": "stream",
     "text": [
      "Epoch 2/3, Total_Loss: 327.0497, Recon_Loss: 324.9719, Kl_Loss: 17.3149\n"
     ]
    },
    {
     "name": "stderr",
     "output_type": "stream",
     "text": [
      "Epoch 3/3 (Beta: 0.15): 100%|██████████| 28/28 [00:13<00:00,  2.08it/s]\n"
     ]
    },
    {
     "name": "stdout",
     "output_type": "stream",
     "text": [
      "Epoch 3/3, Total_Loss: 325.1593, Recon_Loss: 322.7791, Kl_Loss: 15.8684\n",
      "ReplayVAE model saved to .trained/replayvae_2025-08-13_13-51-02.pt\n"
     ]
    },
    {
     "name": "stderr",
     "output_type": "stream",
     "text": [
      "Epoch 1/3 (Beta: 0.18): 100%|██████████| 28/28 [00:13<00:00,  2.09it/s]\n"
     ]
    },
    {
     "name": "stdout",
     "output_type": "stream",
     "text": [
      "Epoch 1/3, Total_Loss: 326.3259, Recon_Loss: 323.7708, Kl_Loss: 14.1945\n"
     ]
    },
    {
     "name": "stderr",
     "output_type": "stream",
     "text": [
      "Epoch 2/3 (Beta: 0.21): 100%|██████████| 28/28 [00:13<00:00,  2.09it/s]\n"
     ]
    },
    {
     "name": "stdout",
     "output_type": "stream",
     "text": [
      "Epoch 2/3, Total_Loss: 326.7166, Recon_Loss: 323.8896, Kl_Loss: 13.4619\n"
     ]
    },
    {
     "name": "stderr",
     "output_type": "stream",
     "text": [
      "Epoch 3/3 (Beta: 0.24): 100%|██████████| 28/28 [00:13<00:00,  2.09it/s]\n"
     ]
    },
    {
     "name": "stdout",
     "output_type": "stream",
     "text": [
      "Epoch 3/3, Total_Loss: 322.0171, Recon_Loss: 319.0659, Kl_Loss: 12.2965\n",
      "ReplayVAE model saved to .trained/replayvae_2025-08-13_13-51-42.pt\n"
     ]
    },
    {
     "name": "stderr",
     "output_type": "stream",
     "text": [
      "Epoch 1/3 (Beta: 0.27): 100%|██████████| 28/28 [00:13<00:00,  2.09it/s]\n"
     ]
    },
    {
     "name": "stdout",
     "output_type": "stream",
     "text": [
      "Epoch 1/3, Total_Loss: 322.6806, Recon_Loss: 319.6363, Kl_Loss: 11.2754\n"
     ]
    },
    {
     "name": "stderr",
     "output_type": "stream",
     "text": [
      "Epoch 2/3 (Beta: 0.3): 100%|██████████| 28/28 [00:13<00:00,  2.09it/s]\n"
     ]
    },
    {
     "name": "stdout",
     "output_type": "stream",
     "text": [
      "Epoch 2/3, Total_Loss: 331.6806, Recon_Loss: 328.6320, Kl_Loss: 10.1622\n"
     ]
    },
    {
     "name": "stderr",
     "output_type": "stream",
     "text": [
      "Epoch 3/3 (Beta: 0.3): 100%|██████████| 28/28 [00:13<00:00,  2.09it/s]\n"
     ]
    },
    {
     "name": "stdout",
     "output_type": "stream",
     "text": [
      "Epoch 3/3, Total_Loss: 324.6312, Recon_Loss: 321.6618, Kl_Loss: 9.8979\n",
      "ReplayVAE model saved to .trained/replayvae_2025-08-13_13-52-22.pt\n"
     ]
    },
    {
     "name": "stderr",
     "output_type": "stream",
     "text": [
      "Epoch 1/3 (Beta: 0.3): 100%|██████████| 28/28 [00:13<00:00,  2.09it/s]\n"
     ]
    },
    {
     "name": "stdout",
     "output_type": "stream",
     "text": [
      "Epoch 1/3, Total_Loss: 322.4070, Recon_Loss: 319.4761, Kl_Loss: 9.7696\n"
     ]
    },
    {
     "name": "stderr",
     "output_type": "stream",
     "text": [
      "Epoch 2/3 (Beta: 0.3): 100%|██████████| 28/28 [00:13<00:00,  2.09it/s]\n"
     ]
    },
    {
     "name": "stdout",
     "output_type": "stream",
     "text": [
      "Epoch 2/3, Total_Loss: 314.9592, Recon_Loss: 312.1565, Kl_Loss: 9.3425\n"
     ]
    },
    {
     "name": "stderr",
     "output_type": "stream",
     "text": [
      "Epoch 3/3 (Beta: 0.3): 100%|██████████| 28/28 [00:13<00:00,  2.09it/s]\n"
     ]
    },
    {
     "name": "stdout",
     "output_type": "stream",
     "text": [
      "Epoch 3/3, Total_Loss: 318.9603, Recon_Loss: 316.1643, Kl_Loss: 9.3199\n",
      "ReplayVAE model saved to .trained/replayvae_2025-08-13_13-53-02.pt\n"
     ]
    },
    {
     "name": "stderr",
     "output_type": "stream",
     "text": [
      "Epoch 1/3 (Beta: 0.0): 100%|██████████| 28/28 [00:13<00:00,  2.09it/s]\n"
     ]
    },
    {
     "name": "stdout",
     "output_type": "stream",
     "text": [
      "Epoch 1/3, Total_Loss: 321.6487, Recon_Loss: 321.6487, Kl_Loss: 10.1817\n"
     ]
    },
    {
     "name": "stderr",
     "output_type": "stream",
     "text": [
      "Epoch 2/3 (Beta: 0.03): 100%|██████████| 28/28 [00:13<00:00,  2.09it/s]\n"
     ]
    },
    {
     "name": "stdout",
     "output_type": "stream",
     "text": [
      "Epoch 2/3, Total_Loss: 332.7798, Recon_Loss: 332.3898, Kl_Loss: 12.9981\n"
     ]
    },
    {
     "name": "stderr",
     "output_type": "stream",
     "text": [
      "Epoch 3/3 (Beta: 0.06): 100%|██████████| 28/28 [00:13<00:00,  2.08it/s]\n"
     ]
    },
    {
     "name": "stdout",
     "output_type": "stream",
     "text": [
      "Epoch 3/3, Total_Loss: 337.1229, Recon_Loss: 336.1631, Kl_Loss: 15.9974\n",
      "ReplayVAE model saved to .trained/replayvae_2025-08-13_13-53-42.pt\n"
     ]
    },
    {
     "name": "stderr",
     "output_type": "stream",
     "text": [
      "Epoch 1/3 (Beta: 0.09): 100%|██████████| 28/28 [00:13<00:00,  2.09it/s]\n"
     ]
    },
    {
     "name": "stdout",
     "output_type": "stream",
     "text": [
      "Epoch 1/3, Total_Loss: 339.1397, Recon_Loss: 337.5032, Kl_Loss: 18.1834\n"
     ]
    },
    {
     "name": "stderr",
     "output_type": "stream",
     "text": [
      "Epoch 2/3 (Beta: 0.12): 100%|██████████| 28/28 [00:13<00:00,  2.09it/s]\n"
     ]
    },
    {
     "name": "stdout",
     "output_type": "stream",
     "text": [
      "Epoch 2/3, Total_Loss: 336.4119, Recon_Loss: 334.1954, Kl_Loss: 18.4707\n"
     ]
    },
    {
     "name": "stderr",
     "output_type": "stream",
     "text": [
      "Epoch 3/3 (Beta: 0.15): 100%|██████████| 28/28 [00:13<00:00,  2.08it/s]\n"
     ]
    },
    {
     "name": "stdout",
     "output_type": "stream",
     "text": [
      "Epoch 3/3, Total_Loss: 331.2304, Recon_Loss: 328.6697, Kl_Loss: 17.0718\n",
      "ReplayVAE model saved to .trained/replayvae_2025-08-13_13-54-23.pt\n"
     ]
    },
    {
     "name": "stderr",
     "output_type": "stream",
     "text": [
      "Epoch 1/3 (Beta: 0.18): 100%|██████████| 28/28 [00:13<00:00,  2.09it/s]\n"
     ]
    },
    {
     "name": "stdout",
     "output_type": "stream",
     "text": [
      "Epoch 1/3, Total_Loss: 325.4600, Recon_Loss: 322.7256, Kl_Loss: 15.1910\n"
     ]
    },
    {
     "name": "stderr",
     "output_type": "stream",
     "text": [
      "Epoch 2/3 (Beta: 0.21): 100%|██████████| 28/28 [00:13<00:00,  2.07it/s]\n"
     ]
    },
    {
     "name": "stdout",
     "output_type": "stream",
     "text": [
      "Epoch 2/3, Total_Loss: 333.7776, Recon_Loss: 330.9501, Kl_Loss: 13.4644\n"
     ]
    },
    {
     "name": "stderr",
     "output_type": "stream",
     "text": [
      "Epoch 3/3 (Beta: 0.24): 100%|██████████| 28/28 [00:13<00:00,  2.08it/s]\n"
     ]
    },
    {
     "name": "stdout",
     "output_type": "stream",
     "text": [
      "Epoch 3/3, Total_Loss: 327.3026, Recon_Loss: 324.3132, Kl_Loss: 12.4556\n",
      "ReplayVAE model saved to .trained/replayvae_2025-08-13_13-55-03.pt\n"
     ]
    },
    {
     "name": "stderr",
     "output_type": "stream",
     "text": [
      "Epoch 1/3 (Beta: 0.27): 100%|██████████| 28/28 [00:13<00:00,  2.08it/s]\n"
     ]
    },
    {
     "name": "stdout",
     "output_type": "stream",
     "text": [
      "Epoch 1/3, Total_Loss: 334.7646, Recon_Loss: 331.6866, Kl_Loss: 11.4000\n"
     ]
    },
    {
     "name": "stderr",
     "output_type": "stream",
     "text": [
      "Epoch 2/3 (Beta: 0.3): 100%|██████████| 28/28 [00:13<00:00,  2.08it/s]\n"
     ]
    },
    {
     "name": "stdout",
     "output_type": "stream",
     "text": [
      "Epoch 2/3, Total_Loss: 332.5877, Recon_Loss: 329.3640, Kl_Loss: 10.7456\n"
     ]
    },
    {
     "name": "stderr",
     "output_type": "stream",
     "text": [
      "Epoch 3/3 (Beta: 0.3): 100%|██████████| 28/28 [00:13<00:00,  2.08it/s]\n"
     ]
    },
    {
     "name": "stdout",
     "output_type": "stream",
     "text": [
      "Epoch 3/3, Total_Loss: 337.4045, Recon_Loss: 334.3136, Kl_Loss: 10.3029\n",
      "ReplayVAE model saved to .trained/replayvae_2025-08-13_13-55-43.pt\n"
     ]
    },
    {
     "name": "stderr",
     "output_type": "stream",
     "text": [
      "Epoch 1/3 (Beta: 0.3): 100%|██████████| 28/28 [00:13<00:00,  2.08it/s]\n"
     ]
    },
    {
     "name": "stdout",
     "output_type": "stream",
     "text": [
      "Epoch 1/3, Total_Loss: 373.7256, Recon_Loss: 370.6206, Kl_Loss: 10.3501\n"
     ]
    },
    {
     "name": "stderr",
     "output_type": "stream",
     "text": [
      "Epoch 2/3 (Beta: 0.3): 100%|██████████| 28/28 [00:13<00:00,  2.09it/s]\n"
     ]
    },
    {
     "name": "stdout",
     "output_type": "stream",
     "text": [
      "Epoch 2/3, Total_Loss: 413.9174, Recon_Loss: 410.5788, Kl_Loss: 11.1287\n"
     ]
    },
    {
     "name": "stderr",
     "output_type": "stream",
     "text": [
      "Epoch 3/3 (Beta: 0.3): 100%|██████████| 28/28 [00:13<00:00,  2.08it/s]\n"
     ]
    },
    {
     "name": "stdout",
     "output_type": "stream",
     "text": [
      "Epoch 3/3, Total_Loss: 368.3193, Recon_Loss: 364.7127, Kl_Loss: 12.0219\n",
      "ReplayVAE model saved to .trained/replayvae_2025-08-13_13-56-24.pt\n"
     ]
    },
    {
     "name": "stderr",
     "output_type": "stream",
     "text": [
      "Epoch 1/3 (Beta: 0.0): 100%|██████████| 28/28 [00:13<00:00,  2.08it/s]\n"
     ]
    },
    {
     "name": "stdout",
     "output_type": "stream",
     "text": [
      "Epoch 1/3, Total_Loss: 348.0676, Recon_Loss: 348.0676, Kl_Loss: 13.5037\n"
     ]
    },
    {
     "name": "stderr",
     "output_type": "stream",
     "text": [
      "Epoch 2/3 (Beta: 0.03): 100%|██████████| 28/28 [00:13<00:00,  2.08it/s]\n"
     ]
    },
    {
     "name": "stdout",
     "output_type": "stream",
     "text": [
      "Epoch 2/3, Total_Loss: 352.7026, Recon_Loss: 352.1025, Kl_Loss: 20.0021\n"
     ]
    },
    {
     "name": "stderr",
     "output_type": "stream",
     "text": [
      "Epoch 3/3 (Beta: 0.06): 100%|██████████| 28/28 [00:13<00:00,  2.07it/s]\n"
     ]
    },
    {
     "name": "stdout",
     "output_type": "stream",
     "text": [
      "Epoch 3/3, Total_Loss: 341.8836, Recon_Loss: 340.3374, Kl_Loss: 25.7706\n",
      "ReplayVAE model saved to .trained/replayvae_2025-08-13_13-57-04.pt\n"
     ]
    },
    {
     "name": "stderr",
     "output_type": "stream",
     "text": [
      "Epoch 1/3 (Beta: 0.09): 100%|██████████| 28/28 [00:13<00:00,  2.07it/s]\n"
     ]
    },
    {
     "name": "stdout",
     "output_type": "stream",
     "text": [
      "Epoch 1/3, Total_Loss: 329.6530, Recon_Loss: 327.3416, Kl_Loss: 25.6831\n"
     ]
    },
    {
     "name": "stderr",
     "output_type": "stream",
     "text": [
      "Epoch 2/3 (Beta: 0.12): 100%|██████████| 28/28 [00:13<00:00,  2.08it/s]\n"
     ]
    },
    {
     "name": "stdout",
     "output_type": "stream",
     "text": [
      "Epoch 2/3, Total_Loss: 339.6705, Recon_Loss: 337.0700, Kl_Loss: 21.6706\n"
     ]
    },
    {
     "name": "stderr",
     "output_type": "stream",
     "text": [
      "Epoch 3/3 (Beta: 0.15): 100%|██████████| 28/28 [00:13<00:00,  2.07it/s]\n"
     ]
    },
    {
     "name": "stdout",
     "output_type": "stream",
     "text": [
      "Epoch 3/3, Total_Loss: 328.2757, Recon_Loss: 325.4656, Kl_Loss: 18.7340\n",
      "ReplayVAE model saved to .trained/replayvae_2025-08-13_13-57-45.pt\n"
     ]
    },
    {
     "name": "stderr",
     "output_type": "stream",
     "text": [
      "Epoch 1/3 (Beta: 0.18): 100%|██████████| 28/28 [00:13<00:00,  2.08it/s]\n"
     ]
    },
    {
     "name": "stdout",
     "output_type": "stream",
     "text": [
      "Epoch 1/3, Total_Loss: 343.6646, Recon_Loss: 340.7443, Kl_Loss: 16.2238\n"
     ]
    },
    {
     "name": "stderr",
     "output_type": "stream",
     "text": [
      "Epoch 2/3 (Beta: 0.21): 100%|██████████| 28/28 [00:13<00:00,  2.07it/s]\n"
     ]
    },
    {
     "name": "stdout",
     "output_type": "stream",
     "text": [
      "Epoch 2/3, Total_Loss: 345.8044, Recon_Loss: 342.7456, Kl_Loss: 14.5657\n"
     ]
    },
    {
     "name": "stderr",
     "output_type": "stream",
     "text": [
      "Epoch 3/3 (Beta: 0.24): 100%|██████████| 28/28 [00:13<00:00,  2.08it/s]\n"
     ]
    },
    {
     "name": "stdout",
     "output_type": "stream",
     "text": [
      "Epoch 3/3, Total_Loss: 342.8220, Recon_Loss: 339.5969, Kl_Loss: 13.4381\n",
      "ReplayVAE model saved to .trained/replayvae_2025-08-13_13-58-25.pt\n"
     ]
    },
    {
     "name": "stderr",
     "output_type": "stream",
     "text": [
      "Epoch 1/3 (Beta: 0.27): 100%|██████████| 28/28 [00:13<00:00,  2.08it/s]\n"
     ]
    },
    {
     "name": "stdout",
     "output_type": "stream",
     "text": [
      "Epoch 1/3, Total_Loss: 330.2689, Recon_Loss: 326.9541, Kl_Loss: 12.2773\n"
     ]
    },
    {
     "name": "stderr",
     "output_type": "stream",
     "text": [
      "Epoch 2/3 (Beta: 0.3): 100%|██████████| 28/28 [00:13<00:00,  2.07it/s]\n"
     ]
    },
    {
     "name": "stdout",
     "output_type": "stream",
     "text": [
      "Epoch 2/3, Total_Loss: 330.0106, Recon_Loss: 326.5020, Kl_Loss: 11.6951\n"
     ]
    },
    {
     "name": "stderr",
     "output_type": "stream",
     "text": [
      "Epoch 3/3 (Beta: 0.3): 100%|██████████| 28/28 [00:13<00:00,  2.07it/s]\n"
     ]
    },
    {
     "name": "stdout",
     "output_type": "stream",
     "text": [
      "Epoch 3/3, Total_Loss: 327.4323, Recon_Loss: 324.0833, Kl_Loss: 11.1633\n",
      "ReplayVAE model saved to .trained/replayvae_2025-08-13_13-59-06.pt\n"
     ]
    },
    {
     "name": "stderr",
     "output_type": "stream",
     "text": [
      "Epoch 1/3 (Beta: 0.3): 100%|██████████| 28/28 [00:13<00:00,  2.08it/s]\n"
     ]
    },
    {
     "name": "stdout",
     "output_type": "stream",
     "text": [
      "Epoch 1/3, Total_Loss: 324.6522, Recon_Loss: 321.5393, Kl_Loss: 10.3761\n"
     ]
    },
    {
     "name": "stderr",
     "output_type": "stream",
     "text": [
      "Epoch 2/3 (Beta: 0.3): 100%|██████████| 28/28 [00:13<00:00,  2.07it/s]\n"
     ]
    },
    {
     "name": "stdout",
     "output_type": "stream",
     "text": [
      "Epoch 2/3, Total_Loss: 321.3899, Recon_Loss: 318.3502, Kl_Loss: 10.1324\n"
     ]
    },
    {
     "name": "stderr",
     "output_type": "stream",
     "text": [
      "Epoch 3/3 (Beta: 0.3): 100%|██████████| 28/28 [00:13<00:00,  2.08it/s]\n"
     ]
    },
    {
     "name": "stdout",
     "output_type": "stream",
     "text": [
      "Epoch 3/3, Total_Loss: 327.8629, Recon_Loss: 324.9510, Kl_Loss: 9.7061\n",
      "ReplayVAE model saved to .trained/replayvae_2025-08-13_13-59-46.pt\n"
     ]
    },
    {
     "name": "stderr",
     "output_type": "stream",
     "text": [
      "Epoch 1/3 (Beta: 0.0): 100%|██████████| 28/28 [00:13<00:00,  2.07it/s]\n"
     ]
    },
    {
     "name": "stdout",
     "output_type": "stream",
     "text": [
      "Epoch 1/3, Total_Loss: 327.4730, Recon_Loss: 327.4730, Kl_Loss: 10.7540\n"
     ]
    },
    {
     "name": "stderr",
     "output_type": "stream",
     "text": [
      "Epoch 2/3 (Beta: 0.03): 100%|██████████| 28/28 [00:13<00:00,  2.08it/s]\n"
     ]
    },
    {
     "name": "stdout",
     "output_type": "stream",
     "text": [
      "Epoch 2/3, Total_Loss: 324.3945, Recon_Loss: 323.9772, Kl_Loss: 13.9095\n"
     ]
    },
    {
     "name": "stderr",
     "output_type": "stream",
     "text": [
      "Epoch 3/3 (Beta: 0.06): 100%|██████████| 28/28 [00:13<00:00,  2.09it/s]\n"
     ]
    },
    {
     "name": "stdout",
     "output_type": "stream",
     "text": [
      "Epoch 3/3, Total_Loss: 326.9358, Recon_Loss: 325.9189, Kl_Loss: 16.9485\n",
      "ReplayVAE model saved to .trained/replayvae_2025-08-13_14-00-27.pt\n"
     ]
    },
    {
     "name": "stderr",
     "output_type": "stream",
     "text": [
      "Epoch 1/3 (Beta: 0.09): 100%|██████████| 28/28 [00:13<00:00,  2.08it/s]\n"
     ]
    },
    {
     "name": "stdout",
     "output_type": "stream",
     "text": [
      "Epoch 1/3, Total_Loss: 331.7414, Recon_Loss: 329.9916, Kl_Loss: 19.4419\n"
     ]
    },
    {
     "name": "stderr",
     "output_type": "stream",
     "text": [
      "Epoch 2/3 (Beta: 0.12): 100%|██████████| 28/28 [00:13<00:00,  2.08it/s]\n"
     ]
    },
    {
     "name": "stdout",
     "output_type": "stream",
     "text": [
      "Epoch 2/3, Total_Loss: 319.0865, Recon_Loss: 316.9076, Kl_Loss: 18.1569\n"
     ]
    },
    {
     "name": "stderr",
     "output_type": "stream",
     "text": [
      "Epoch 3/3 (Beta: 0.15): 100%|██████████| 28/28 [00:13<00:00,  2.08it/s]\n"
     ]
    },
    {
     "name": "stdout",
     "output_type": "stream",
     "text": [
      "Epoch 3/3, Total_Loss: 320.8908, Recon_Loss: 318.5529, Kl_Loss: 15.5859\n",
      "ReplayVAE model saved to .trained/replayvae_2025-08-13_14-01-07.pt\n"
     ]
    },
    {
     "name": "stderr",
     "output_type": "stream",
     "text": [
      "Epoch 1/3 (Beta: 0.18): 100%|██████████| 28/28 [00:13<00:00,  2.09it/s]\n"
     ]
    },
    {
     "name": "stdout",
     "output_type": "stream",
     "text": [
      "Epoch 1/3, Total_Loss: 320.7973, Recon_Loss: 318.2284, Kl_Loss: 14.2720\n"
     ]
    },
    {
     "name": "stderr",
     "output_type": "stream",
     "text": [
      "Epoch 2/3 (Beta: 0.21): 100%|██████████| 28/28 [00:13<00:00,  2.09it/s]\n"
     ]
    },
    {
     "name": "stdout",
     "output_type": "stream",
     "text": [
      "Epoch 2/3, Total_Loss: 322.1235, Recon_Loss: 319.3711, Kl_Loss: 13.1068\n"
     ]
    },
    {
     "name": "stderr",
     "output_type": "stream",
     "text": [
      "Epoch 3/3 (Beta: 0.24): 100%|██████████| 28/28 [00:13<00:00,  2.08it/s]\n"
     ]
    },
    {
     "name": "stdout",
     "output_type": "stream",
     "text": [
      "Epoch 3/3, Total_Loss: 326.5183, Recon_Loss: 323.6482, Kl_Loss: 11.9588\n",
      "ReplayVAE model saved to .trained/replayvae_2025-08-13_14-01-47.pt\n"
     ]
    },
    {
     "name": "stderr",
     "output_type": "stream",
     "text": [
      "Epoch 1/3 (Beta: 0.27): 100%|██████████| 28/28 [00:13<00:00,  2.08it/s]\n"
     ]
    },
    {
     "name": "stdout",
     "output_type": "stream",
     "text": [
      "Epoch 1/3, Total_Loss: 325.4981, Recon_Loss: 322.5027, Kl_Loss: 11.0941\n"
     ]
    },
    {
     "name": "stderr",
     "output_type": "stream",
     "text": [
      "Epoch 2/3 (Beta: 0.3): 100%|██████████| 28/28 [00:13<00:00,  2.06it/s]\n"
     ]
    },
    {
     "name": "stdout",
     "output_type": "stream",
     "text": [
      "Epoch 2/3, Total_Loss: 326.2199, Recon_Loss: 323.0402, Kl_Loss: 10.5990\n"
     ]
    },
    {
     "name": "stderr",
     "output_type": "stream",
     "text": [
      "Epoch 3/3 (Beta: 0.3): 100%|██████████| 28/28 [00:13<00:00,  2.08it/s]\n"
     ]
    },
    {
     "name": "stdout",
     "output_type": "stream",
     "text": [
      "Epoch 3/3, Total_Loss: 320.4388, Recon_Loss: 317.3282, Kl_Loss: 10.3685\n",
      "ReplayVAE model saved to .trained/replayvae_2025-08-13_14-02-28.pt\n"
     ]
    },
    {
     "name": "stderr",
     "output_type": "stream",
     "text": [
      "Epoch 1/3 (Beta: 0.3): 100%|██████████| 28/28 [00:13<00:00,  2.08it/s]\n"
     ]
    },
    {
     "name": "stdout",
     "output_type": "stream",
     "text": [
      "Epoch 1/3, Total_Loss: 323.9029, Recon_Loss: 320.9087, Kl_Loss: 9.9805\n"
     ]
    },
    {
     "name": "stderr",
     "output_type": "stream",
     "text": [
      "Epoch 2/3 (Beta: 0.3): 100%|██████████| 28/28 [00:13<00:00,  2.07it/s]\n"
     ]
    },
    {
     "name": "stdout",
     "output_type": "stream",
     "text": [
      "Epoch 2/3, Total_Loss: 320.2907, Recon_Loss: 317.3429, Kl_Loss: 9.8261\n"
     ]
    },
    {
     "name": "stderr",
     "output_type": "stream",
     "text": [
      "Epoch 3/3 (Beta: 0.3): 100%|██████████| 28/28 [00:13<00:00,  2.07it/s]\n"
     ]
    },
    {
     "name": "stdout",
     "output_type": "stream",
     "text": [
      "Epoch 3/3, Total_Loss: 317.4819, Recon_Loss: 314.6670, Kl_Loss: 9.3828\n",
      "ReplayVAE model saved to .trained/replayvae_2025-08-13_14-03-08.pt\n"
     ]
    },
    {
     "name": "stderr",
     "output_type": "stream",
     "text": [
      "Epoch 1/3 (Beta: 0.0): 100%|██████████| 28/28 [00:13<00:00,  2.03it/s]\n"
     ]
    },
    {
     "name": "stdout",
     "output_type": "stream",
     "text": [
      "Epoch 1/3, Total_Loss: 313.7820, Recon_Loss: 313.7820, Kl_Loss: 10.3388\n"
     ]
    },
    {
     "name": "stderr",
     "output_type": "stream",
     "text": [
      "Epoch 2/3 (Beta: 0.03): 100%|██████████| 28/28 [00:13<00:00,  2.07it/s]\n"
     ]
    },
    {
     "name": "stdout",
     "output_type": "stream",
     "text": [
      "Epoch 2/3, Total_Loss: 316.7411, Recon_Loss: 316.3340, Kl_Loss: 13.5726\n"
     ]
    },
    {
     "name": "stderr",
     "output_type": "stream",
     "text": [
      "Epoch 3/3 (Beta: 0.06): 100%|██████████| 28/28 [00:13<00:00,  2.08it/s]\n"
     ]
    },
    {
     "name": "stdout",
     "output_type": "stream",
     "text": [
      "Epoch 3/3, Total_Loss: 322.2528, Recon_Loss: 321.2985, Kl_Loss: 15.9042\n",
      "ReplayVAE model saved to .trained/replayvae_2025-08-13_14-03-49.pt\n"
     ]
    },
    {
     "name": "stderr",
     "output_type": "stream",
     "text": [
      "Epoch 1/3 (Beta: 0.09): 100%|██████████| 28/28 [00:13<00:00,  2.08it/s]\n"
     ]
    },
    {
     "name": "stdout",
     "output_type": "stream",
     "text": [
      "Epoch 1/3, Total_Loss: 327.8004, Recon_Loss: 326.2288, Kl_Loss: 17.4621\n"
     ]
    },
    {
     "name": "stderr",
     "output_type": "stream",
     "text": [
      "Epoch 2/3 (Beta: 0.12): 100%|██████████| 28/28 [00:13<00:00,  2.08it/s]\n"
     ]
    },
    {
     "name": "stdout",
     "output_type": "stream",
     "text": [
      "Epoch 2/3, Total_Loss: 336.5530, Recon_Loss: 334.5030, Kl_Loss: 17.0837\n"
     ]
    },
    {
     "name": "stderr",
     "output_type": "stream",
     "text": [
      "Epoch 3/3 (Beta: 0.15): 100%|██████████| 28/28 [00:13<00:00,  2.07it/s]\n"
     ]
    },
    {
     "name": "stdout",
     "output_type": "stream",
     "text": [
      "Epoch 3/3, Total_Loss: 324.1630, Recon_Loss: 321.6938, Kl_Loss: 16.4615\n",
      "ReplayVAE model saved to .trained/replayvae_2025-08-13_14-04-30.pt\n"
     ]
    },
    {
     "name": "stderr",
     "output_type": "stream",
     "text": [
      "Epoch 1/3 (Beta: 0.18): 100%|██████████| 28/28 [00:13<00:00,  2.08it/s]\n"
     ]
    },
    {
     "name": "stdout",
     "output_type": "stream",
     "text": [
      "Epoch 1/3, Total_Loss: 323.1507, Recon_Loss: 320.5045, Kl_Loss: 14.7010\n"
     ]
    },
    {
     "name": "stderr",
     "output_type": "stream",
     "text": [
      "Epoch 2/3 (Beta: 0.21): 100%|██████████| 28/28 [00:13<00:00,  2.07it/s]\n"
     ]
    },
    {
     "name": "stdout",
     "output_type": "stream",
     "text": [
      "Epoch 2/3, Total_Loss: 327.4431, Recon_Loss: 324.5867, Kl_Loss: 13.6018\n"
     ]
    },
    {
     "name": "stderr",
     "output_type": "stream",
     "text": [
      "Epoch 3/3 (Beta: 0.24): 100%|██████████| 28/28 [00:13<00:00,  2.07it/s]\n"
     ]
    },
    {
     "name": "stdout",
     "output_type": "stream",
     "text": [
      "Epoch 3/3, Total_Loss: 325.9043, Recon_Loss: 322.8737, Kl_Loss: 12.6276\n",
      "ReplayVAE model saved to .trained/replayvae_2025-08-13_14-05-10.pt\n"
     ]
    },
    {
     "name": "stderr",
     "output_type": "stream",
     "text": [
      "Epoch 1/3 (Beta: 0.27): 100%|██████████| 28/28 [00:13<00:00,  2.08it/s]\n"
     ]
    },
    {
     "name": "stdout",
     "output_type": "stream",
     "text": [
      "Epoch 1/3, Total_Loss: 330.6059, Recon_Loss: 327.4913, Kl_Loss: 11.5355\n"
     ]
    },
    {
     "name": "stderr",
     "output_type": "stream",
     "text": [
      "Epoch 2/3 (Beta: 0.3): 100%|██████████| 28/28 [00:13<00:00,  2.07it/s]\n"
     ]
    },
    {
     "name": "stdout",
     "output_type": "stream",
     "text": [
      "Epoch 2/3, Total_Loss: 349.5420, Recon_Loss: 346.2445, Kl_Loss: 10.9917\n"
     ]
    },
    {
     "name": "stderr",
     "output_type": "stream",
     "text": [
      "Epoch 3/3 (Beta: 0.3): 100%|██████████| 28/28 [00:13<00:00,  2.08it/s]\n"
     ]
    },
    {
     "name": "stdout",
     "output_type": "stream",
     "text": [
      "Epoch 3/3, Total_Loss: 343.8324, Recon_Loss: 340.6844, Kl_Loss: 10.4934\n",
      "ReplayVAE model saved to .trained/replayvae_2025-08-13_14-05-51.pt\n"
     ]
    },
    {
     "name": "stderr",
     "output_type": "stream",
     "text": [
      "Epoch 1/3 (Beta: 0.3): 100%|██████████| 28/28 [00:13<00:00,  2.09it/s]\n"
     ]
    },
    {
     "name": "stdout",
     "output_type": "stream",
     "text": [
      "Epoch 1/3, Total_Loss: 345.9428, Recon_Loss: 342.5986, Kl_Loss: 11.1473\n"
     ]
    },
    {
     "name": "stderr",
     "output_type": "stream",
     "text": [
      "Epoch 2/3 (Beta: 0.3): 100%|██████████| 28/28 [00:13<00:00,  2.09it/s]\n"
     ]
    },
    {
     "name": "stdout",
     "output_type": "stream",
     "text": [
      "Epoch 2/3, Total_Loss: 343.4782, Recon_Loss: 340.1401, Kl_Loss: 11.1271\n"
     ]
    },
    {
     "name": "stderr",
     "output_type": "stream",
     "text": [
      "Epoch 3/3 (Beta: 0.3): 100%|██████████| 28/28 [00:13<00:00,  2.09it/s]\n"
     ]
    },
    {
     "name": "stdout",
     "output_type": "stream",
     "text": [
      "Epoch 3/3, Total_Loss: 343.3789, Recon_Loss: 340.1128, Kl_Loss: 10.8871\n",
      "ReplayVAE model saved to .trained/replayvae_2025-08-13_14-06-31.pt\n"
     ]
    },
    {
     "name": "stderr",
     "output_type": "stream",
     "text": [
      "Epoch 1/3 (Beta: 0.0): 100%|██████████| 28/28 [00:13<00:00,  2.08it/s]\n"
     ]
    },
    {
     "name": "stdout",
     "output_type": "stream",
     "text": [
      "Epoch 1/3, Total_Loss: 330.8064, Recon_Loss: 330.8064, Kl_Loss: 12.0022\n"
     ]
    },
    {
     "name": "stderr",
     "output_type": "stream",
     "text": [
      "Epoch 2/3 (Beta: 0.03): 100%|██████████| 28/28 [00:13<00:00,  2.08it/s]\n"
     ]
    },
    {
     "name": "stdout",
     "output_type": "stream",
     "text": [
      "Epoch 2/3, Total_Loss: 327.7416, Recon_Loss: 327.2663, Kl_Loss: 15.8416\n"
     ]
    },
    {
     "name": "stderr",
     "output_type": "stream",
     "text": [
      "Epoch 3/3 (Beta: 0.06): 100%|██████████| 28/28 [00:13<00:00,  2.08it/s]\n"
     ]
    },
    {
     "name": "stdout",
     "output_type": "stream",
     "text": [
      "Epoch 3/3, Total_Loss: 327.5048, Recon_Loss: 326.3908, Kl_Loss: 18.5679\n",
      "ReplayVAE model saved to .trained/replayvae_2025-08-13_14-07-11.pt\n"
     ]
    },
    {
     "name": "stderr",
     "output_type": "stream",
     "text": [
      "Epoch 1/3 (Beta: 0.09): 100%|██████████| 28/28 [00:13<00:00,  2.08it/s]\n"
     ]
    },
    {
     "name": "stdout",
     "output_type": "stream",
     "text": [
      "Epoch 1/3, Total_Loss: 336.2016, Recon_Loss: 334.4379, Kl_Loss: 19.5960\n"
     ]
    },
    {
     "name": "stderr",
     "output_type": "stream",
     "text": [
      "Epoch 2/3 (Beta: 0.12): 100%|██████████| 28/28 [00:13<00:00,  2.08it/s]\n"
     ]
    },
    {
     "name": "stdout",
     "output_type": "stream",
     "text": [
      "Epoch 2/3, Total_Loss: 340.0686, Recon_Loss: 337.7736, Kl_Loss: 19.1249\n"
     ]
    },
    {
     "name": "stderr",
     "output_type": "stream",
     "text": [
      "Epoch 3/3 (Beta: 0.15): 100%|██████████| 28/28 [00:13<00:00,  2.07it/s]\n"
     ]
    },
    {
     "name": "stdout",
     "output_type": "stream",
     "text": [
      "Epoch 3/3, Total_Loss: 349.1469, Recon_Loss: 346.5238, Kl_Loss: 17.4869\n",
      "ReplayVAE model saved to .trained/replayvae_2025-08-13_14-07-52.pt\n"
     ]
    },
    {
     "name": "stderr",
     "output_type": "stream",
     "text": [
      "Epoch 1/3 (Beta: 0.18): 100%|██████████| 28/28 [00:13<00:00,  2.08it/s]\n"
     ]
    },
    {
     "name": "stdout",
     "output_type": "stream",
     "text": [
      "Epoch 1/3, Total_Loss: 346.4567, Recon_Loss: 343.4579, Kl_Loss: 16.6597\n"
     ]
    },
    {
     "name": "stderr",
     "output_type": "stream",
     "text": [
      "Epoch 2/3 (Beta: 0.21): 100%|██████████| 28/28 [00:13<00:00,  2.07it/s]\n"
     ]
    },
    {
     "name": "stdout",
     "output_type": "stream",
     "text": [
      "Epoch 2/3, Total_Loss: 329.7375, Recon_Loss: 326.3976, Kl_Loss: 15.9041\n"
     ]
    },
    {
     "name": "stderr",
     "output_type": "stream",
     "text": [
      "Epoch 3/3 (Beta: 0.24): 100%|██████████| 28/28 [00:13<00:00,  2.08it/s]\n"
     ]
    },
    {
     "name": "stdout",
     "output_type": "stream",
     "text": [
      "Epoch 3/3, Total_Loss: 323.8851, Recon_Loss: 320.3477, Kl_Loss: 14.7394\n",
      "ReplayVAE model saved to .trained/replayvae_2025-08-13_14-08-32.pt\n"
     ]
    },
    {
     "name": "stderr",
     "output_type": "stream",
     "text": [
      "Epoch 1/3 (Beta: 0.27): 100%|██████████| 28/28 [00:13<00:00,  2.07it/s]\n"
     ]
    },
    {
     "name": "stdout",
     "output_type": "stream",
     "text": [
      "Epoch 1/3, Total_Loss: 322.1388, Recon_Loss: 318.6331, Kl_Loss: 12.9843\n"
     ]
    },
    {
     "name": "stderr",
     "output_type": "stream",
     "text": [
      "Epoch 2/3 (Beta: 0.3): 100%|██████████| 28/28 [00:13<00:00,  2.07it/s]\n"
     ]
    },
    {
     "name": "stdout",
     "output_type": "stream",
     "text": [
      "Epoch 2/3, Total_Loss: 324.7061, Recon_Loss: 321.3229, Kl_Loss: 11.2774\n"
     ]
    },
    {
     "name": "stderr",
     "output_type": "stream",
     "text": [
      "Epoch 3/3 (Beta: 0.3): 100%|██████████| 28/28 [00:13<00:00,  2.08it/s]\n"
     ]
    },
    {
     "name": "stdout",
     "output_type": "stream",
     "text": [
      "Epoch 3/3, Total_Loss: 323.0711, Recon_Loss: 319.9211, Kl_Loss: 10.5000\n",
      "ReplayVAE model saved to .trained/replayvae_2025-08-13_14-09-13.pt\n"
     ]
    },
    {
     "name": "stderr",
     "output_type": "stream",
     "text": [
      "Epoch 1/3 (Beta: 0.3): 100%|██████████| 28/28 [00:13<00:00,  2.08it/s]\n"
     ]
    },
    {
     "name": "stdout",
     "output_type": "stream",
     "text": [
      "Epoch 1/3, Total_Loss: 328.1962, Recon_Loss: 325.1320, Kl_Loss: 10.2140\n"
     ]
    },
    {
     "name": "stderr",
     "output_type": "stream",
     "text": [
      "Epoch 2/3 (Beta: 0.3): 100%|██████████| 28/28 [00:13<00:00,  2.09it/s]\n"
     ]
    },
    {
     "name": "stdout",
     "output_type": "stream",
     "text": [
      "Epoch 2/3, Total_Loss: 331.2970, Recon_Loss: 328.1275, Kl_Loss: 10.5648\n"
     ]
    },
    {
     "name": "stderr",
     "output_type": "stream",
     "text": [
      "Epoch 3/3 (Beta: 0.3): 100%|██████████| 28/28 [00:13<00:00,  2.09it/s]\n"
     ]
    },
    {
     "name": "stdout",
     "output_type": "stream",
     "text": [
      "Epoch 3/3, Total_Loss: 339.7793, Recon_Loss: 336.5956, Kl_Loss: 10.6126\n",
      "ReplayVAE model saved to .trained/replayvae_2025-08-13_14-09-53.pt\n"
     ]
    },
    {
     "name": "stderr",
     "output_type": "stream",
     "text": [
      "Epoch 1/3 (Beta: 0.0): 100%|██████████| 28/28 [00:13<00:00,  2.07it/s]\n"
     ]
    },
    {
     "name": "stdout",
     "output_type": "stream",
     "text": [
      "Epoch 1/3, Total_Loss: 335.5911, Recon_Loss: 335.5911, Kl_Loss: 12.1572\n"
     ]
    },
    {
     "name": "stderr",
     "output_type": "stream",
     "text": [
      "Epoch 2/3 (Beta: 0.03): 100%|██████████| 28/28 [00:13<00:00,  2.08it/s]\n"
     ]
    },
    {
     "name": "stdout",
     "output_type": "stream",
     "text": [
      "Epoch 2/3, Total_Loss: 333.5346, Recon_Loss: 333.0424, Kl_Loss: 16.4077\n"
     ]
    },
    {
     "name": "stderr",
     "output_type": "stream",
     "text": [
      "Epoch 3/3 (Beta: 0.06): 100%|██████████| 28/28 [00:13<00:00,  2.08it/s]\n"
     ]
    },
    {
     "name": "stdout",
     "output_type": "stream",
     "text": [
      "Epoch 3/3, Total_Loss: 336.8338, Recon_Loss: 335.6619, Kl_Loss: 19.5310\n",
      "ReplayVAE model saved to .trained/replayvae_2025-08-13_14-10-33.pt\n"
     ]
    },
    {
     "name": "stderr",
     "output_type": "stream",
     "text": [
      "Epoch 1/3 (Beta: 0.09): 100%|██████████| 28/28 [00:13<00:00,  2.07it/s]\n"
     ]
    },
    {
     "name": "stdout",
     "output_type": "stream",
     "text": [
      "Epoch 1/3, Total_Loss: 335.8852, Recon_Loss: 334.1074, Kl_Loss: 19.7534\n"
     ]
    },
    {
     "name": "stderr",
     "output_type": "stream",
     "text": [
      "Epoch 2/3 (Beta: 0.12): 100%|██████████| 28/28 [00:13<00:00,  2.08it/s]\n"
     ]
    },
    {
     "name": "stdout",
     "output_type": "stream",
     "text": [
      "Epoch 2/3, Total_Loss: 325.4873, Recon_Loss: 323.1659, Kl_Loss: 19.3449\n"
     ]
    },
    {
     "name": "stderr",
     "output_type": "stream",
     "text": [
      "Epoch 3/3 (Beta: 0.15): 100%|██████████| 28/28 [00:13<00:00,  2.03it/s]\n"
     ]
    },
    {
     "name": "stdout",
     "output_type": "stream",
     "text": [
      "Epoch 3/3, Total_Loss: 318.9205, Recon_Loss: 316.2953, Kl_Loss: 17.5010\n",
      "ReplayVAE model saved to .trained/replayvae_2025-08-13_14-11-14.pt\n"
     ]
    },
    {
     "name": "stderr",
     "output_type": "stream",
     "text": [
      "Epoch 1/3 (Beta: 0.18): 100%|██████████| 28/28 [00:13<00:00,  2.02it/s]\n"
     ]
    },
    {
     "name": "stdout",
     "output_type": "stream",
     "text": [
      "Epoch 1/3, Total_Loss: 323.7188, Recon_Loss: 320.9582, Kl_Loss: 15.3362\n"
     ]
    },
    {
     "name": "stderr",
     "output_type": "stream",
     "text": [
      "Epoch 2/3 (Beta: 0.21): 100%|██████████| 28/28 [00:13<00:00,  2.09it/s]\n"
     ]
    },
    {
     "name": "stdout",
     "output_type": "stream",
     "text": [
      "Epoch 2/3, Total_Loss: 323.7377, Recon_Loss: 320.7703, Kl_Loss: 14.1304\n"
     ]
    },
    {
     "name": "stderr",
     "output_type": "stream",
     "text": [
      "Epoch 3/3 (Beta: 0.24): 100%|██████████| 28/28 [00:13<00:00,  2.07it/s]\n"
     ]
    },
    {
     "name": "stdout",
     "output_type": "stream",
     "text": [
      "Epoch 3/3, Total_Loss: 324.1757, Recon_Loss: 321.0690, Kl_Loss: 12.9448\n",
      "ReplayVAE model saved to .trained/replayvae_2025-08-13_14-11-55.pt\n"
     ]
    },
    {
     "name": "stderr",
     "output_type": "stream",
     "text": [
      "Epoch 1/3 (Beta: 0.27): 100%|██████████| 28/28 [00:14<00:00,  2.00it/s]\n"
     ]
    },
    {
     "name": "stdout",
     "output_type": "stream",
     "text": [
      "Epoch 1/3, Total_Loss: 319.7700, Recon_Loss: 316.5948, Kl_Loss: 11.7601\n"
     ]
    },
    {
     "name": "stderr",
     "output_type": "stream",
     "text": [
      "Epoch 2/3 (Beta: 0.3): 100%|██████████| 28/28 [00:13<00:00,  2.04it/s]\n"
     ]
    },
    {
     "name": "stdout",
     "output_type": "stream",
     "text": [
      "Epoch 2/3, Total_Loss: 320.8118, Recon_Loss: 317.5358, Kl_Loss: 10.9200\n"
     ]
    },
    {
     "name": "stderr",
     "output_type": "stream",
     "text": [
      "Epoch 3/3 (Beta: 0.3): 100%|██████████| 28/28 [00:13<00:00,  2.06it/s]\n"
     ]
    },
    {
     "name": "stdout",
     "output_type": "stream",
     "text": [
      "Epoch 3/3, Total_Loss: 320.3886, Recon_Loss: 317.3655, Kl_Loss: 10.0770\n",
      "ReplayVAE model saved to .trained/replayvae_2025-08-13_14-12-36.pt\n"
     ]
    },
    {
     "name": "stderr",
     "output_type": "stream",
     "text": [
      "Epoch 1/3 (Beta: 0.3): 100%|██████████| 28/28 [00:13<00:00,  2.07it/s]\n"
     ]
    },
    {
     "name": "stdout",
     "output_type": "stream",
     "text": [
      "Epoch 1/3, Total_Loss: 328.1456, Recon_Loss: 325.1732, Kl_Loss: 9.9080\n"
     ]
    },
    {
     "name": "stderr",
     "output_type": "stream",
     "text": [
      "Epoch 2/3 (Beta: 0.3): 100%|██████████| 28/28 [00:13<00:00,  2.12it/s]\n"
     ]
    },
    {
     "name": "stdout",
     "output_type": "stream",
     "text": [
      "Epoch 2/3, Total_Loss: 323.0050, Recon_Loss: 320.0365, Kl_Loss: 9.8952\n"
     ]
    },
    {
     "name": "stderr",
     "output_type": "stream",
     "text": [
      "Epoch 3/3 (Beta: 0.3): 100%|██████████| 28/28 [00:12<00:00,  2.31it/s]\n"
     ]
    },
    {
     "name": "stdout",
     "output_type": "stream",
     "text": [
      "Epoch 3/3, Total_Loss: 323.2326, Recon_Loss: 320.3371, Kl_Loss: 9.6519\n",
      "ReplayVAE model saved to .trained/replayvae_2025-08-13_14-13-15.pt\n"
     ]
    },
    {
     "name": "stderr",
     "output_type": "stream",
     "text": [
      "Epoch 1/3 (Beta: 0.0): 100%|██████████| 28/28 [00:12<00:00,  2.31it/s]\n"
     ]
    },
    {
     "name": "stdout",
     "output_type": "stream",
     "text": [
      "Epoch 1/3, Total_Loss: 322.6558, Recon_Loss: 322.6558, Kl_Loss: 11.1152\n"
     ]
    },
    {
     "name": "stderr",
     "output_type": "stream",
     "text": [
      "Epoch 2/3 (Beta: 0.03): 100%|██████████| 28/28 [00:13<00:00,  2.00it/s]\n"
     ]
    },
    {
     "name": "stdout",
     "output_type": "stream",
     "text": [
      "Epoch 2/3, Total_Loss: 345.3188, Recon_Loss: 344.8699, Kl_Loss: 14.9643\n"
     ]
    },
    {
     "name": "stderr",
     "output_type": "stream",
     "text": [
      "Epoch 3/3 (Beta: 0.06): 100%|██████████| 28/28 [00:21<00:00,  1.32it/s]\n"
     ]
    },
    {
     "name": "stdout",
     "output_type": "stream",
     "text": [
      "Epoch 3/3, Total_Loss: 336.8340, Recon_Loss: 335.7646, Kl_Loss: 17.8247\n",
      "ReplayVAE model saved to .trained/replayvae_2025-08-13_14-14-03.pt\n"
     ]
    },
    {
     "name": "stderr",
     "output_type": "stream",
     "text": [
      "Epoch 1/3 (Beta: 0.09): 100%|██████████| 28/28 [00:20<00:00,  1.36it/s]\n"
     ]
    },
    {
     "name": "stdout",
     "output_type": "stream",
     "text": [
      "Epoch 1/3, Total_Loss: 335.6956, Recon_Loss: 334.0856, Kl_Loss: 17.8896\n"
     ]
    },
    {
     "name": "stderr",
     "output_type": "stream",
     "text": [
      "Epoch 2/3 (Beta: 0.12):  32%|███▏      | 9/28 [00:05<00:12,  1.54it/s]\n"
     ]
    },
    {
     "ename": "KeyboardInterrupt",
     "evalue": "",
     "output_type": "error",
     "traceback": [
      "\u001B[31m---------------------------------------------------------------------------\u001B[39m",
      "\u001B[31mKeyboardInterrupt\u001B[39m                         Traceback (most recent call last)",
      "\u001B[36mCell\u001B[39m\u001B[36m \u001B[39m\u001B[32mIn[32]\u001B[39m\u001B[32m, line 2\u001B[39m\n\u001B[32m      1\u001B[39m \u001B[38;5;28;01mfor\u001B[39;00m i \u001B[38;5;129;01min\u001B[39;00m \u001B[38;5;28mrange\u001B[39m(\u001B[32m150\u001B[39m):\n\u001B[32m----> \u001B[39m\u001B[32m2\u001B[39m     \u001B[43mmodel\u001B[49m\u001B[43m.\u001B[49m\u001B[43mtrain\u001B[49m\u001B[43m(\u001B[49m\u001B[43mEPOCHS\u001B[49m\u001B[43m)\u001B[49m\n\u001B[32m      3\u001B[39m     model.save()\n\u001B[32m      5\u001B[39m model.plot_losses()\n",
      "\u001B[36mFile \u001B[39m\u001B[32mE:\\Projects\\osu\\models\\base.py:186\u001B[39m, in \u001B[36mOsuModel.train\u001B[39m\u001B[34m(self, epochs, **kwargs)\u001B[39m\n\u001B[32m    182\u001B[39m     \u001B[38;5;28;01mraise\u001B[39;00m \u001B[38;5;167;01mValueError\u001B[39;00m(\u001B[33m\"\u001B[39m\u001B[33mNo data loaded. Call load_data() first.\u001B[39m\u001B[33m\"\u001B[39m)\n\u001B[32m    184\u001B[39m \u001B[38;5;28;01mfor\u001B[39;00m epoch \u001B[38;5;129;01min\u001B[39;00m \u001B[38;5;28mrange\u001B[39m(epochs):\n\u001B[32m    185\u001B[39m     \u001B[38;5;66;03m# Train one epoch using subclass-specific logic\u001B[39;00m\n\u001B[32m--> \u001B[39m\u001B[32m186\u001B[39m     epoch_losses = \u001B[38;5;28;43mself\u001B[39;49m\u001B[43m.\u001B[49m\u001B[43m_train_epoch\u001B[49m\u001B[43m(\u001B[49m\u001B[43mepoch\u001B[49m\u001B[43m,\u001B[49m\u001B[43m \u001B[49m\u001B[43mepochs\u001B[49m\u001B[43m,\u001B[49m\u001B[43m \u001B[49m\u001B[43m*\u001B[49m\u001B[43m*\u001B[49m\u001B[43mkwargs\u001B[49m\u001B[43m)\u001B[49m\n\u001B[32m    188\u001B[39m     \u001B[38;5;66;03m# Update training history\u001B[39;00m\n\u001B[32m    189\u001B[39m     \u001B[38;5;28;01mfor\u001B[39;00m loss_name, loss_value \u001B[38;5;129;01min\u001B[39;00m epoch_losses.items():\n",
      "\u001B[36mFile \u001B[39m\u001B[32mE:\\Projects\\osu\\models\\vae.py:188\u001B[39m, in \u001B[36mOsuReplayVAE._train_epoch\u001B[39m\u001B[34m(self, epoch, total_epochs, **kwargs)\u001B[39m\n\u001B[32m    184\u001B[39m torch.nn.utils.clip_grad_norm_(\u001B[38;5;28mlist\u001B[39m(\u001B[38;5;28mself\u001B[39m.encoder.parameters()) + \u001B[38;5;28mlist\u001B[39m(\u001B[38;5;28mself\u001B[39m.decoder.parameters()),\n\u001B[32m    185\u001B[39m                                max_norm=\u001B[32m1.0\u001B[39m)\n\u001B[32m    186\u001B[39m \u001B[38;5;28mself\u001B[39m.optimizer.step()\n\u001B[32m--> \u001B[39m\u001B[32m188\u001B[39m epoch_total_loss += \u001B[43mtotal_loss\u001B[49m\u001B[43m.\u001B[49m\u001B[43mitem\u001B[49m\u001B[43m(\u001B[49m\u001B[43m)\u001B[49m\n\u001B[32m    189\u001B[39m epoch_recon_loss += recon_loss.item()\n\u001B[32m    190\u001B[39m epoch_kl_loss += kl_loss.item()\n",
      "\u001B[31mKeyboardInterrupt\u001B[39m: "
     ]
    }
   ],
   "source": [
    "for i in range(150):\n",
    "    model.train(EPOCHS)\n",
    "    model.save()\n",
    "    \n",
    "model.plot_losses()"
   ],
   "metadata": {
    "collapsed": false,
    "ExecuteTime": {
     "end_time": "2025-08-13T18:14:29.461197100Z",
     "start_time": "2025-08-13T17:19:24.936385900Z"
    }
   },
   "id": "2773f2be96960435"
  },
  {
   "cell_type": "code",
   "execution_count": null,
   "outputs": [],
   "source": [
    "for i in range(150):\n",
    "    model.train(EPOCHS)\n",
    "    model.save()\n",
    "    \n",
    "model.plot_losses()"
   ],
   "metadata": {
    "collapsed": false,
    "ExecuteTime": {
     "start_time": "2025-08-13T18:14:29.458199Z"
    }
   },
   "id": "29bf6d6059b7f677"
  },
  {
   "cell_type": "code",
   "execution_count": null,
   "outputs": [],
   "source": [
    "del vae"
   ],
   "metadata": {
    "collapsed": false
   },
   "id": "5be54872eaa892b9"
  },
  {
   "cell_type": "code",
   "execution_count": null,
   "outputs": [],
   "source": [
    "annealer = Annealer(\n",
    "    total_steps=10,\n",
    "    range=(0, 0.25),\n",
    "    cyclical=True,\n",
    "    stay_max_steps=5\n",
    ")\n",
    "\n",
    "vae = OsuReplayVAE(batch_size=BATCH_SIZE, annealer=annealer, noise_std=0.045)\n",
    "\n",
    "# vae = OsuReplayVAE.load(\".trained/vae_353rcl_9ft.pt\")\n",
    "# vae = OsuReplayVAE.load(\".trained/vae_most_recent.pt\")\n",
    "\n",
    "vae.load_data(xs, ys)\n",
    "\n",
    "model = vae"
   ],
   "metadata": {
    "collapsed": false
   },
   "id": "cc68a99682e98507"
  },
  {
   "cell_type": "code",
   "execution_count": null,
   "outputs": [],
   "source": [
    "for i in range(175):\n",
    "    model.train(EPOCHS)\n",
    "    model.save()\n",
    "    \n",
    "model.plot_losses()"
   ],
   "metadata": {
    "collapsed": false
   },
   "id": "5aa3413609963ce7"
  },
  {
   "cell_type": "code",
   "execution_count": null,
   "id": "469945dc39944eb4",
   "metadata": {
    "collapsed": false
   },
   "outputs": [],
   "source": [
    "for i in range(300):\n",
    "    model.train(EPOCHS)\n",
    "    model.save()\n",
    "    \n",
    "model.plot_losses()"
   ]
  },
  {
   "cell_type": "code",
   "execution_count": null,
   "id": "3d329c61d5439f92",
   "metadata": {
    "collapsed": false
   },
   "outputs": [],
   "source": [
    "# test training results\n",
    "from osu.rulesets.mods import Mods\n",
    "import osu.rulesets.beatmap as bm\n",
    "import osu.dataset as dataset\n",
    "\n",
    "test_name = 'zuttosummer'\n",
    "test_mods = Mods.DOUBLE_TIME\n",
    "test_map_path = f'assets/{test_name}_map.osu'\n",
    "test_song = f'assets/{test_name}_song.mp3'\n",
    "\n",
    "test_map = bm.load(test_map_path)\n",
    "test_map.apply_mods(test_mods)\n",
    "\n",
    "data = dataset.input_data(test_map)\n",
    "data = np.reshape(data.values, (-1, dataset.BATCH_LENGTH, len(dataset.INPUT_FEATURES)))\n",
    "data = torch.FloatTensor(data)"
   ]
  },
  {
   "cell_type": "code",
   "execution_count": null,
   "id": "f34002ee306e7fd9",
   "metadata": {
    "collapsed": false
   },
   "outputs": [],
   "source": [
    "replay_data = vae.generate(data)\n",
    "    \n",
    "replay_data = np.concatenate(replay_data)\n",
    "replay_data = np.pad(replay_data, ((0, 0), (0, 2)), mode='constant', constant_values=0)\n",
    "if not os.path.exists('.generated'):\n",
    "    os.makedirs('.generated')\n",
    "    \n",
    "print(f\"Generated replay data shape: {replay_data.shape}\")\n"
   ]
  },
  {
   "cell_type": "code",
   "execution_count": null,
   "id": "b9e430b879d2f8a1",
   "metadata": {
    "collapsed": false
   },
   "outputs": [],
   "source": [
    "import osu.preview.preview as preview\n",
    "\n",
    "preview.preview_replay_raw(replay_data, test_map_path, test_mods, test_song)"
   ]
  },
  {
   "cell_type": "code",
   "execution_count": null,
   "id": "989be9cfb6bf9eef",
   "metadata": {
    "collapsed": false
   },
   "outputs": [],
   "source": []
  }
 ],
 "metadata": {
  "kernelspec": {
   "display_name": "Python 3 (ipykernel)",
   "language": "python",
   "name": "python3"
  },
  "language_info": {
   "codemirror_mode": {
    "name": "ipython",
    "version": 3
   },
   "file_extension": ".py",
   "mimetype": "text/x-python",
   "name": "python",
   "nbconvert_exporter": "python",
   "pygments_lexer": "ipython3",
   "version": "3.12.10"
  }
 },
 "nbformat": 4,
 "nbformat_minor": 5
}
