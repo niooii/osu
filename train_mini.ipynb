{
 "cells": [
  {
   "cell_type": "code",
   "execution_count": 1,
   "id": "initial_id",
   "metadata": {
    "ExecuteTime": {
     "end_time": "2025-07-31T03:29:18.178213200Z",
     "start_time": "2025-07-31T03:29:15.226106500Z"
    }
   },
   "outputs": [
    {
     "name": "stdout",
     "output_type": "stream",
     "text": [
      "osu! path: C:\\Users\\niooi\\AppData\\Roaming/../Local/osu!\n"
     ]
    }
   ],
   "source": [
    "%load_ext autoreload\n",
    "%autoreload 2\n",
    "\n",
    "import os\n",
    "import numpy as np\n",
    "\n",
    "import osu.dataset as dataset\n"
   ]
  },
  {
   "cell_type": "code",
   "execution_count": 2,
   "id": "92c39d45d3bf1cff",
   "metadata": {
    "collapsed": false,
    "ExecuteTime": {
     "end_time": "2025-07-31T03:29:20.294959200Z",
     "start_time": "2025-07-31T03:29:18.820252Z"
    }
   },
   "outputs": [],
   "source": [
    "# reload from saved\n",
    "\n",
    "xs = np.load(f'.datasets/xs_7500_07-30_22-38-46.npy')\n",
    "ys = np.load(f'.datasets/ys_7500_07-30_22-38-46.npy')\n",
    "\n",
    "# xs = np.load(f'.datasets/xs_142_07-21_21-50-55.npy')\n",
    "# ys = np.load(f'.datasets/ys_142_07-21_21-50-55.npy')"
   ]
  },
  {
   "cell_type": "code",
   "execution_count": 3,
   "outputs": [
    {
     "data": {
      "text/plain": "(26648, 2048, 9)"
     },
     "execution_count": 3,
     "metadata": {},
     "output_type": "execute_result"
    }
   ],
   "source": [
    "xs.shape"
   ],
   "metadata": {
    "collapsed": false,
    "ExecuteTime": {
     "end_time": "2025-07-31T03:29:21.014812300Z",
     "start_time": "2025-07-31T03:29:20.953993100Z"
    }
   },
   "id": "ae6d673d3e098f2a"
  },
  {
   "cell_type": "code",
   "execution_count": 4,
   "id": "ae1b470e52ab30f6",
   "metadata": {
    "collapsed": false,
    "ExecuteTime": {
     "end_time": "2025-07-31T03:29:27.411368800Z",
     "start_time": "2025-07-31T03:29:21.533997600Z"
    }
   },
   "outputs": [],
   "source": [
    "import torch\n",
    "\n",
    "BATCH_SIZE = 64\n",
    "\n",
    "device = 'cuda' if torch.cuda.is_available() else 'cpu'"
   ]
  },
  {
   "cell_type": "code",
   "execution_count": 5,
   "id": "11979e9b769aeddd",
   "metadata": {
    "collapsed": false,
    "ExecuteTime": {
     "end_time": "2025-07-31T03:29:27.591963Z",
     "start_time": "2025-07-31T03:29:27.411368800Z"
    }
   },
   "outputs": [
    {
     "data": {
      "text/plain": "20"
     },
     "execution_count": 5,
     "metadata": {},
     "output_type": "execute_result"
    }
   ],
   "source": [
    "import torch\n",
    "import gc\n",
    "\n",
    "# Clear GPU cache\n",
    "torch.cuda.empty_cache()\n",
    "\n",
    "# Force garbage collection\n",
    "gc.collect()"
   ]
  },
  {
   "cell_type": "code",
   "execution_count": 22,
   "id": "1a38cf62d4148606",
   "metadata": {
    "collapsed": false,
    "ExecuteTime": {
     "end_time": "2025-07-31T04:59:41.590789700Z",
     "start_time": "2025-07-31T04:59:40.123280400Z"
    }
   },
   "outputs": [
    {
     "name": "stdout",
     "output_type": "stream",
     "text": [
      "VAE models compiled..\n",
      "VAE Models initialized on cuda (noise_std=0.045)\n",
      "Encoder parameters: 235296\n",
      "Decoder parameters: 148082\n",
      "Data loaded: 21318 training samples, 5330 test samples (position only)\n"
     ]
    }
   ],
   "source": [
    "from models.vae import OsuReplayVAE\n",
    "from models.annealer import Annealer\n",
    "\n",
    "annealer = Annealer(\n",
    "    total_steps=10,\n",
    "    range=(0, 0.38),\n",
    "    cyclical=True,\n",
    "    stay_max_steps=5\n",
    ")\n",
    "\n",
    "vae = OsuReplayVAE(batch_size=BATCH_SIZE, annealer=annealer, noise_std=0.045)\n",
    "\n",
    "# vae = OsuReplayVAE.load(\".trained/vae_353rcl_9ft.pt\")\n",
    "\n",
    "vae.load_data(xs, ys)"
   ]
  },
  {
   "cell_type": "code",
   "execution_count": 23,
   "id": "382f27a44e43ddee",
   "metadata": {
    "collapsed": false,
    "ExecuteTime": {
     "end_time": "2025-07-31T04:59:42.614991700Z",
     "start_time": "2025-07-31T04:59:41.665627100Z"
    }
   },
   "outputs": [
    {
     "name": "stdout",
     "output_type": "stream",
     "text": [
      "Key Model initialized on cuda (noise_std=0.0)\n",
      "Key model parameters: 54626\n",
      "Data loaded: 21318 training samples, 5330 test samples (keys only)\n"
     ]
    }
   ],
   "source": [
    "from models.keys import OsuKeyModel\n",
    "\n",
    "keys = OsuKeyModel(batch_size=BATCH_SIZE)\n",
    "keys.load_data(xs, ys)"
   ]
  },
  {
   "cell_type": "code",
   "execution_count": 24,
   "id": "7e02d7be4612ce9b",
   "metadata": {
    "collapsed": false,
    "ExecuteTime": {
     "end_time": "2025-07-31T05:02:40.584569300Z",
     "start_time": "2025-07-31T04:59:42.580994700Z"
    }
   },
   "outputs": [
    {
     "name": "stderr",
     "output_type": "stream",
     "text": [
      "Epoch 1/3 (Beta: 1000.0): 100%|██████████| 334/334 [00:33<00:00, 10.00it/s]\n"
     ]
    },
    {
     "name": "stdout",
     "output_type": "stream",
     "text": [
      "Epoch 1/3, Total: 3486.9151, Recon: 3447.8382, KL: 0.0391\n"
     ]
    },
    {
     "name": "stderr",
     "output_type": "stream",
     "text": [
      "Epoch 2/3 (Beta: 1100.044): 100%|██████████| 334/334 [00:41<00:00,  8.08it/s]\n"
     ]
    },
    {
     "name": "stdout",
     "output_type": "stream",
     "text": [
      "Epoch 2/3, Total: 1050.8884, Recon: 1050.5219, KL: 0.0003\n"
     ]
    },
    {
     "name": "stderr",
     "output_type": "stream",
     "text": [
      "Epoch 3/3 (Beta: 1200.088): 100%|██████████| 334/334 [00:42<00:00,  7.92it/s]\n"
     ]
    },
    {
     "name": "stdout",
     "output_type": "stream",
     "text": [
      "Epoch 3/3, Total: 778.8285, Recon: 778.7048, KL: 0.0001\n",
      "VAE models saved to .trained/vae_2025-07-31_01-01-39.pt\n"
     ]
    },
    {
     "name": "stderr",
     "output_type": "stream",
     "text": [
      "Epoch 1/3 (Beta: 1300.132): 100%|██████████| 334/334 [00:33<00:00, 10.00it/s]\n"
     ]
    },
    {
     "name": "stdout",
     "output_type": "stream",
     "text": [
      "Epoch 1/3, Total: 702.9846, Recon: 702.9329, KL: 0.0000\n"
     ]
    },
    {
     "name": "stderr",
     "output_type": "stream",
     "text": [
      "Epoch 2/3 (Beta: 1400.176):  91%|█████████ | 303/334 [00:27<00:02, 10.98it/s]\n"
     ]
    },
    {
     "ename": "KeyboardInterrupt",
     "evalue": "",
     "output_type": "error",
     "traceback": [
      "\u001B[31m---------------------------------------------------------------------------\u001B[39m",
      "\u001B[31mKeyboardInterrupt\u001B[39m                         Traceback (most recent call last)",
      "\u001B[36mCell\u001B[39m\u001B[36m \u001B[39m\u001B[32mIn[24]\u001B[39m\u001B[32m, line 6\u001B[39m\n\u001B[32m      3\u001B[39m EPOCHS = \u001B[32m3\u001B[39m\n\u001B[32m      5\u001B[39m \u001B[38;5;28;01mfor\u001B[39;00m i \u001B[38;5;129;01min\u001B[39;00m \u001B[38;5;28mrange\u001B[39m(\u001B[32m25\u001B[39m):\n\u001B[32m----> \u001B[39m\u001B[32m6\u001B[39m     \u001B[43mmodel\u001B[49m\u001B[43m.\u001B[49m\u001B[43mtrain\u001B[49m\u001B[43m(\u001B[49m\u001B[43mEPOCHS\u001B[49m\u001B[43m)\u001B[49m\n\u001B[32m      7\u001B[39m     model.save()\n\u001B[32m      9\u001B[39m model.plot_losses()\n",
      "\u001B[36mFile \u001B[39m\u001B[32mE:\\Projects\\osu\\models\\vae.py:217\u001B[39m, in \u001B[36mOsuReplayVAE.train\u001B[39m\u001B[34m(self, epochs)\u001B[39m\n\u001B[32m    214\u001B[39m torch.nn.utils.clip_grad_norm_(\u001B[38;5;28mlist\u001B[39m(\u001B[38;5;28mself\u001B[39m.encoder.parameters()) + \u001B[38;5;28mlist\u001B[39m(\u001B[38;5;28mself\u001B[39m.decoder.parameters()), max_norm=\u001B[32m1.0\u001B[39m)\n\u001B[32m    215\u001B[39m \u001B[38;5;28mself\u001B[39m.optimizer.step()\n\u001B[32m--> \u001B[39m\u001B[32m217\u001B[39m epoch_total_loss += \u001B[43mtotal_loss\u001B[49m\u001B[43m.\u001B[49m\u001B[43mitem\u001B[49m\u001B[43m(\u001B[49m\u001B[43m)\u001B[49m\n\u001B[32m    218\u001B[39m epoch_recon_loss += recon_loss.item()\n\u001B[32m    219\u001B[39m epoch_kl_loss += kl_loss.item()\n",
      "\u001B[31mKeyboardInterrupt\u001B[39m: "
     ]
    }
   ],
   "source": [
    "model = vae\n",
    "\n",
    "EPOCHS = 3\n",
    "\n",
    "for i in range(25):\n",
    "    model.train(EPOCHS)\n",
    "    model.save()\n",
    "    \n",
    "model.plot_losses()"
   ]
  },
  {
   "cell_type": "code",
   "execution_count": null,
   "id": "469945dc39944eb4",
   "metadata": {
    "collapsed": false
   },
   "outputs": [],
   "source": [
    "for i in range(300):\n",
    "    model.train(EPOCHS)\n",
    "    model.save()\n",
    "    \n",
    "model.plot_losses()"
   ]
  },
  {
   "cell_type": "code",
   "execution_count": 17,
   "id": "3d329c61d5439f92",
   "metadata": {
    "collapsed": false,
    "ExecuteTime": {
     "end_time": "2025-07-31T04:49:39.603950200Z",
     "start_time": "2025-07-31T04:49:39.225056600Z"
    }
   },
   "outputs": [
    {
     "name": "stderr",
     "output_type": "stream",
     "text": [
      "Turning beatmaps into time series data: 100%|██████████| 1/1 [00:00<00:00,  3.91it/s]\n"
     ]
    }
   ],
   "source": [
    "# test training results\n",
    "from osu.rulesets.mods import Mods\n",
    "import osu.rulesets.beatmap as bm\n",
    "import osu.dataset as dataset\n",
    "\n",
    "test_name = 'ringyou'\n",
    "test_mods = 0\n",
    "test_map_path = f'assets/{test_name}_map.osu'\n",
    "test_song = f'assets/{test_name}_song.mp3'\n",
    "\n",
    "test_map = bm.load(test_map_path)\n",
    "test_map.apply_mods(test_mods)\n",
    "\n",
    "data = dataset.input_data(test_map)\n",
    "data = np.reshape(data.values, (-1, dataset.BATCH_LENGTH, len(dataset.INPUT_FEATURES)))\n",
    "data = torch.FloatTensor(data)"
   ]
  },
  {
   "cell_type": "code",
   "execution_count": 18,
   "id": "f34002ee306e7fd9",
   "metadata": {
    "collapsed": false,
    "ExecuteTime": {
     "end_time": "2025-07-31T04:49:39.968359300Z",
     "start_time": "2025-07-31T04:49:39.757359800Z"
    }
   },
   "outputs": [
    {
     "name": "stdout",
     "output_type": "stream",
     "text": [
      "Generated replay data shape: (12288, 4)\n"
     ]
    }
   ],
   "source": [
    "replay_data = vae.generate(data)\n",
    "    \n",
    "replay_data = np.concatenate(replay_data)\n",
    "replay_data = np.pad(replay_data, ((0, 0), (0, 2)), mode='constant', constant_values=0)\n",
    "if not os.path.exists('.generated'):\n",
    "    os.makedirs('.generated')\n",
    "    \n",
    "print(f\"Generated replay data shape: {replay_data.shape}\")\n"
   ]
  },
  {
   "cell_type": "code",
   "execution_count": 19,
   "id": "b9e430b879d2f8a1",
   "metadata": {
    "collapsed": false,
    "ExecuteTime": {
     "end_time": "2025-07-31T04:50:34.362210600Z",
     "start_time": "2025-07-31T04:49:40.283298200Z"
    }
   },
   "outputs": [],
   "source": [
    "import osu.preview.preview as preview\n",
    "\n",
    "preview.preview_replay_raw(replay_data, test_map_path, test_mods, test_song)"
   ]
  },
  {
   "cell_type": "code",
   "execution_count": null,
   "id": "989be9cfb6bf9eef",
   "metadata": {
    "collapsed": false
   },
   "outputs": [],
   "source": []
  }
 ],
 "metadata": {
  "kernelspec": {
   "display_name": "Python 3 (ipykernel)",
   "language": "python",
   "name": "python3"
  },
  "language_info": {
   "codemirror_mode": {
    "name": "ipython",
    "version": 3
   },
   "file_extension": ".py",
   "mimetype": "text/x-python",
   "name": "python",
   "nbconvert_exporter": "python",
   "pygments_lexer": "ipython3",
   "version": "3.12.10"
  }
 },
 "nbformat": 4,
 "nbformat_minor": 5
}
