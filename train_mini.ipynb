{
 "cells": [
  {
   "cell_type": "code",
   "execution_count": null,
   "id": "initial_id",
   "metadata": {},
   "outputs": [],
   "source": [
    "%load_ext autoreload\n",
    "%autoreload 2\n",
    "\n",
    "import os\n",
    "import numpy as np\n",
    "\n",
    "import osu.dataset as dataset\n"
   ]
  },
  {
   "cell_type": "code",
   "execution_count": null,
   "id": "92c39d45d3bf1cff",
   "metadata": {
    "collapsed": false
   },
   "outputs": [],
   "source": [
    "# reload from saved\n",
    "\n",
    "xs = np.load(f'.datasets/xs_642_08-13_01-26-33.npy')\n",
    "ys = np.load(f'.datasets/ys_642_08-13_01-26-33.npy')\n",
    "\n",
    "# xs = np.load(f'.datasets/xs_142_07-21_21-50-55.npy')\n",
    "# ys = np.load(f'.datasets/ys_142_07-21_21-50-55.npy')"
   ]
  },
  {
   "cell_type": "code",
   "execution_count": null,
   "outputs": [],
   "source": [
    "xs.shape"
   ],
   "metadata": {
    "collapsed": false
   },
   "id": "ae6d673d3e098f2a"
  },
  {
   "cell_type": "code",
   "execution_count": null,
   "id": "ae1b470e52ab30f6",
   "metadata": {
    "collapsed": false
   },
   "outputs": [],
   "source": [
    "import torch\n",
    "\n",
    "BATCH_SIZE = 64\n",
    "\n",
    "device = 'cuda' if torch.cuda.is_available() else 'cpu'"
   ]
  },
  {
   "cell_type": "code",
   "execution_count": null,
   "id": "11979e9b769aeddd",
   "metadata": {
    "collapsed": false
   },
   "outputs": [],
   "source": [
    "import torch\n",
    "import gc\n",
    "\n",
    "# Clear GPU cache\n",
    "torch.cuda.empty_cache()\n",
    "\n",
    "# Force garbage collection\n",
    "gc.collect()"
   ]
  },
  {
   "cell_type": "code",
   "execution_count": null,
   "outputs": [],
   "source": [
    "# from models.rnn import OsuReplayRNN\n",
    "# \n",
    "# rnn = OsuReplayRNN(batch_size=BATCH_SIZE, noise_std=0.045)\n",
    "# \n",
    "# # vae = OsuReplayVAE.load(\".trained/vae_353rcl_9ft.pt\")\n",
    "# \n",
    "# rnn.load_data(xs, ys)"
   ],
   "metadata": {
    "collapsed": false
   },
   "id": "6dff73d0c8c34b6e"
  },
  {
   "cell_type": "code",
   "execution_count": null,
   "id": "1a38cf62d4148606",
   "metadata": {
    "collapsed": false
   },
   "outputs": [],
   "source": [
    "from models.vae import OsuReplayVAE\n",
    "from models.annealer import Annealer\n",
    "\n",
    "annealer = Annealer(\n",
    "    total_steps=10,\n",
    "    range=(0, 0.3),\n",
    "    cyclical=True,\n",
    "    stay_max_steps=5\n",
    ")\n",
    "\n",
    "# vae = OsuReplayVAE(batch_size=BATCH_SIZE, annealer=annealer, noise_std=0.045)\n",
    "\n",
    "# vae = OsuReplayVAE.load(\".trained/vae_353rcl_9ft.pt\")\n",
    "vae = OsuReplayVAE.load(\".trained/replayvae_most_recent.pt\", annealer=annealer, noise_std=0.03)\n",
    "\n",
    "vae.load_data(xs, ys)"
   ]
  },
  {
   "cell_type": "code",
   "execution_count": null,
   "id": "382f27a44e43ddee",
   "metadata": {
    "collapsed": false
   },
   "outputs": [],
   "source": [
    "from models.keys import OsuKeyModel\n",
    "\n",
    "keys = OsuKeyModel(batch_size=BATCH_SIZE)\n",
    "keys.load_data(xs, ys)"
   ]
  },
  {
   "cell_type": "code",
   "execution_count": null,
   "id": "7e02d7be4612ce9b",
   "metadata": {
    "collapsed": false
   },
   "outputs": [],
   "source": [
    "model = vae\n",
    "\n",
    "EPOCHS = 3\n",
    "\n",
    "for i in range(25):\n",
    "    model.train(EPOCHS)\n",
    "    model.save()\n",
    "    \n",
    "model.plot_losses()"
   ]
  },
  {
   "cell_type": "code",
   "execution_count": null,
   "outputs": [],
   "source": [
    "for i in range(50):\n",
    "    model.train(EPOCHS)\n",
    "    model.save()\n",
    "    \n",
    "model.plot_losses()"
   ],
   "metadata": {
    "collapsed": false
   },
   "id": "fa00898c77ca6020"
  },
  {
   "cell_type": "code",
   "execution_count": null,
   "outputs": [],
   "source": [
    "for i in range(150):\n",
    "    model.train(EPOCHS)\n",
    "    model.save()\n",
    "    \n",
    "model.plot_losses()"
   ],
   "metadata": {
    "collapsed": false
   },
   "id": "2773f2be96960435"
  },
  {
   "cell_type": "code",
   "execution_count": null,
   "outputs": [],
   "source": [
    "for i in range(150):\n",
    "    model.train(EPOCHS)\n",
    "    model.save()\n",
    "    \n",
    "model.plot_losses()"
   ],
   "metadata": {
    "collapsed": false
   },
   "id": "29bf6d6059b7f677"
  },
  {
   "cell_type": "code",
   "execution_count": null,
   "outputs": [],
   "source": [
    "del vae"
   ],
   "metadata": {
    "collapsed": false
   },
   "id": "5be54872eaa892b9"
  },
  {
   "cell_type": "code",
   "execution_count": null,
   "outputs": [],
   "source": [
    "annealer = Annealer(\n",
    "    total_steps=10,\n",
    "    range=(0, 0.25),\n",
    "    cyclical=True,\n",
    "    stay_max_steps=5\n",
    ")\n",
    "\n",
    "vae = OsuReplayVAE(batch_size=BATCH_SIZE, annealer=annealer, noise_std=0.045)\n",
    "\n",
    "# vae = OsuReplayVAE.load(\".trained/vae_353rcl_9ft.pt\")\n",
    "# vae = OsuReplayVAE.load(\".trained/vae_most_recent.pt\")\n",
    "\n",
    "vae.load_data(xs, ys)\n",
    "\n",
    "model = vae"
   ],
   "metadata": {
    "collapsed": false
   },
   "id": "cc68a99682e98507"
  },
  {
   "cell_type": "code",
   "execution_count": null,
   "outputs": [],
   "source": [
    "for i in range(175):\n",
    "    model.train(EPOCHS)\n",
    "    model.save()\n",
    "    \n",
    "model.plot_losses()"
   ],
   "metadata": {
    "collapsed": false
   },
   "id": "5aa3413609963ce7"
  },
  {
   "cell_type": "code",
   "execution_count": null,
   "id": "469945dc39944eb4",
   "metadata": {
    "collapsed": false
   },
   "outputs": [],
   "source": [
    "for i in range(300):\n",
    "    model.train(EPOCHS)\n",
    "    model.save()\n",
    "    \n",
    "model.plot_losses()"
   ]
  },
  {
   "cell_type": "code",
   "execution_count": null,
   "id": "3d329c61d5439f92",
   "metadata": {
    "collapsed": false
   },
   "outputs": [],
   "source": [
    "# test training results\n",
    "from osu.rulesets.mods import Mods\n",
    "import osu.rulesets.beatmap as bm\n",
    "import osu.dataset as dataset\n",
    "\n",
    "test_name = 'zuttosummer'\n",
    "test_mods = Mods.DOUBLE_TIME\n",
    "test_map_path = f'assets/{test_name}_map.osu'\n",
    "test_song = f'assets/{test_name}_song.mp3'\n",
    "\n",
    "test_map = bm.load(test_map_path)\n",
    "test_map.apply_mods(test_mods)\n",
    "\n",
    "data = dataset.input_data(test_map)\n",
    "data = np.reshape(data.values, (-1, dataset.BATCH_LENGTH, len(dataset.INPUT_FEATURES)))\n",
    "data = torch.FloatTensor(data)"
   ]
  },
  {
   "cell_type": "code",
   "execution_count": null,
   "id": "f34002ee306e7fd9",
   "metadata": {
    "collapsed": false
   },
   "outputs": [],
   "source": [
    "replay_data = vae.generate(data)\n",
    "    \n",
    "replay_data = np.concatenate(replay_data)\n",
    "replay_data = np.pad(replay_data, ((0, 0), (0, 2)), mode='constant', constant_values=0)\n",
    "if not os.path.exists('.generated'):\n",
    "    os.makedirs('.generated')\n",
    "    \n",
    "print(f\"Generated replay data shape: {replay_data.shape}\")\n"
   ]
  },
  {
   "cell_type": "code",
   "execution_count": null,
   "id": "b9e430b879d2f8a1",
   "metadata": {
    "collapsed": false
   },
   "outputs": [],
   "source": [
    "import osu.preview.preview as preview\n",
    "\n",
    "preview.preview_replay_raw(replay_data, test_map_path, test_mods, test_song)"
   ]
  },
  {
   "cell_type": "code",
   "execution_count": null,
   "id": "989be9cfb6bf9eef",
   "metadata": {
    "collapsed": false
   },
   "outputs": [],
   "source": []
  }
 ],
 "metadata": {
  "kernelspec": {
   "display_name": "Python 3 (ipykernel)",
   "language": "python",
   "name": "python3"
  },
  "language_info": {
   "codemirror_mode": {
    "name": "ipython",
    "version": 3
   },
   "file_extension": ".py",
   "mimetype": "text/x-python",
   "name": "python",
   "nbconvert_exporter": "python",
   "pygments_lexer": "ipython3",
   "version": "3.12.10"
  }
 },
 "nbformat": 4,
 "nbformat_minor": 5
}
