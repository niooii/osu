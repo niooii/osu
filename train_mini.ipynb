{
 "cells": [
  {
   "cell_type": "code",
   "execution_count": 9,
   "id": "initial_id",
   "metadata": {
    "collapsed": true,
    "ExecuteTime": {
     "end_time": "2025-07-24T03:44:44.402239300Z",
     "start_time": "2025-07-24T03:44:42.138021700Z"
    }
   },
   "outputs": [],
   "source": [
    "%load_ext autoreload\n",
    "%autoreload 2\n",
    "\n",
    "import os\n",
    "import numpy as np\n",
    "\n",
    "import osu.dataset as dataset\n"
   ]
  },
  {
   "cell_type": "code",
   "execution_count": 10,
   "outputs": [],
   "source": [
    "# reload from saved\n",
    "\n",
    "xs = np.load(f'.datasets/xs_5000_07-21_23-28-07.npy')\n",
    "ys = np.load(f'.datasets/ys_5000_07-21_23-28-07.npy')\n",
    "\n",
    "# xs = np.load(f'.datasets/xs_142_07-21_21-50-55.npy')\n",
    "# ys = np.load(f'.datasets/ys_142_07-21_21-50-55.npy')"
   ],
   "metadata": {
    "collapsed": false,
    "ExecuteTime": {
     "end_time": "2025-07-24T03:44:45.450350800Z",
     "start_time": "2025-07-24T03:44:44.403239800Z"
    }
   },
   "id": "92c39d45d3bf1cff"
  },
  {
   "cell_type": "code",
   "execution_count": 11,
   "outputs": [],
   "source": [
    "import torch\n",
    "\n",
    "BATCH_SIZE = 128\n",
    "\n",
    "device = 'cuda' if torch.cuda.is_available() else 'cpu'"
   ],
   "metadata": {
    "collapsed": false,
    "ExecuteTime": {
     "end_time": "2025-07-24T03:44:46.021523200Z",
     "start_time": "2025-07-24T03:44:45.932654200Z"
    }
   },
   "id": "ae1b470e52ab30f6"
  },
  {
   "cell_type": "code",
   "execution_count": 15,
   "outputs": [
    {
     "data": {
      "text/plain": "1889"
     },
     "execution_count": 15,
     "metadata": {},
     "output_type": "execute_result"
    }
   ],
   "source": [
    "import torch\n",
    "import gc\n",
    "\n",
    "# Clear GPU cache\n",
    "torch.cuda.empty_cache()\n",
    "\n",
    "# Force garbage collection\n",
    "gc.collect()"
   ],
   "metadata": {
    "collapsed": false,
    "ExecuteTime": {
     "end_time": "2025-07-24T03:45:10.621486800Z",
     "start_time": "2025-07-24T03:45:10.357616200Z"
    }
   },
   "id": "11979e9b769aeddd"
  },
  {
   "cell_type": "code",
   "execution_count": 13,
   "outputs": [
    {
     "name": "stdout",
     "output_type": "stream",
     "text": [
      "made newae\n",
      "VAE models compiled..\n",
      "VAE Models initialized on cuda\n",
      "Encoder parameters: 207904\n",
      "Decoder parameters: 58466\n",
      "Data loaded: 14082 training samples, 3521 test samples (position only)\n"
     ]
    }
   ],
   "source": [
    "from osu.vae import OsuReplayVAE\n",
    "\n",
    "vae = OsuReplayVAE(batch_size=BATCH_SIZE)\n",
    "\n",
    "# vae = OsuReplayVAE.load(\".trained/vae_most_recent.pt\")\n",
    "\n",
    "vae.load_data(xs, ys)"
   ],
   "metadata": {
    "collapsed": false,
    "ExecuteTime": {
     "end_time": "2025-07-24T03:44:47.619636100Z",
     "start_time": "2025-07-24T03:44:47.057051100Z"
    }
   },
   "id": "1a38cf62d4148606"
  },
  {
   "cell_type": "code",
   "execution_count": null,
   "outputs": [],
   "source": [
    "\n",
    "VAE_EPOCHS = 3\n",
    "\n",
    "for i in range(25):\n",
    "    vae.train(VAE_EPOCHS)\n",
    "    vae.save()\n",
    "    \n",
    "vae.plot_losses()"
   ],
   "metadata": {
    "collapsed": false,
    "ExecuteTime": {
     "start_time": "2025-07-24T05:15:39.120463500Z"
    }
   },
   "id": "7e02d7be4612ce9b"
  },
  {
   "cell_type": "code",
   "execution_count": null,
   "outputs": [],
   "source": [
    "for i in range(35):\n",
    "    vae.train(VAE_EPOCHS)\n",
    "    vae.save()\n",
    "    \n",
    "vae.plot_losses()"
   ],
   "metadata": {
    "collapsed": false
   },
   "id": "469945dc39944eb4"
  },
  {
   "cell_type": "code",
   "execution_count": 20,
   "outputs": [
    {
     "name": "stderr",
     "output_type": "stream",
     "text": [
      "Turning beatmaps into time series data: 100%|██████████| 1/1 [00:00<00:00,  3.62it/s]\n"
     ]
    }
   ],
   "source": [
    "# test training results\n",
    "from osu.rulesets.mods import Mods\n",
    "import osu.rulesets.beatmap as bm\n",
    "import osu.dataset as dataset\n",
    "\n",
    "test_name = 'ringyou'\n",
    "test_mods = 0\n",
    "test_map_path = f'assets/{test_name}_map.osu'\n",
    "test_song = f'assets/{test_name}_song.mp3'\n",
    "\n",
    "test_map = bm.load(test_map_path)\n",
    "test_map.apply_mods(test_mods)\n",
    "\n",
    "data = dataset.input_data(test_map)\n",
    "data = np.reshape(data.values, (-1, dataset.BATCH_LENGTH, len(dataset.INPUT_FEATURES)))\n",
    "data = torch.FloatTensor(data)"
   ],
   "metadata": {
    "collapsed": false,
    "ExecuteTime": {
     "end_time": "2025-07-24T04:28:51.830977100Z",
     "start_time": "2025-07-24T04:28:51.407572800Z"
    }
   },
   "id": "3d329c61d5439f92"
  },
  {
   "cell_type": "code",
   "execution_count": 21,
   "outputs": [
    {
     "name": "stdout",
     "output_type": "stream",
     "text": [
      "Generated replay data shape: (12288, 4)\n"
     ]
    }
   ],
   "source": [
    "replay_data = vae.generate(data)\n",
    "    \n",
    "replay_data = np.concatenate(replay_data)\n",
    "replay_data = np.pad(replay_data, ((0, 0), (0, 2)), mode='constant', constant_values=0)\n",
    "if not os.path.exists('.generated'):\n",
    "    os.makedirs('.generated')\n",
    "    \n",
    "print(f\"Generated replay data shape: {replay_data.shape}\")\n"
   ],
   "metadata": {
    "collapsed": false,
    "ExecuteTime": {
     "end_time": "2025-07-24T04:28:52.206031700Z",
     "start_time": "2025-07-24T04:28:52.026188300Z"
    }
   },
   "id": "f34002ee306e7fd9"
  },
  {
   "cell_type": "code",
   "execution_count": 22,
   "outputs": [],
   "source": [
    "import osu.preview.preview as preview\n",
    "\n",
    "preview.preview_replay_raw(replay_data, test_map_path, test_mods, test_song)"
   ],
   "metadata": {
    "collapsed": false,
    "ExecuteTime": {
     "end_time": "2025-07-24T04:29:09.198594600Z",
     "start_time": "2025-07-24T04:28:52.510838200Z"
    }
   },
   "id": "b9e430b879d2f8a1"
  },
  {
   "cell_type": "code",
   "execution_count": null,
   "outputs": [],
   "source": [],
   "metadata": {
    "collapsed": false
   },
   "id": "989be9cfb6bf9eef"
  }
 ],
 "metadata": {
  "kernelspec": {
   "display_name": "Python 3",
   "language": "python",
   "name": "python3"
  },
  "language_info": {
   "codemirror_mode": {
    "name": "ipython",
    "version": 2
   },
   "file_extension": ".py",
   "mimetype": "text/x-python",
   "name": "python",
   "nbconvert_exporter": "python",
   "pygments_lexer": "ipython2",
   "version": "2.7.6"
  }
 },
 "nbformat": 4,
 "nbformat_minor": 5
}
