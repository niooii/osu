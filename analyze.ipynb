{
 "cells": [
  {
   "cell_type": "code",
   "execution_count": 4,
   "id": "initial_id",
   "metadata": {
    "collapsed": true,
    "ExecuteTime": {
     "end_time": "2025-07-24T07:05:18.729862Z",
     "start_time": "2025-07-24T07:05:18.604872800Z"
    }
   },
   "outputs": [
    {
     "name": "stdout",
     "output_type": "stream",
     "text": [
      "The autoreload extension is already loaded. To reload it, use:\n",
      "  %reload_ext autoreload\n"
     ]
    }
   ],
   "source": [
    "%load_ext autoreload\n",
    "%autoreload 2\n",
    "\n",
    "from osu.vae import OsuReplayVAE\n",
    "from osu.rnn import OsuReplayRNN"
   ]
  },
  {
   "cell_type": "code",
   "execution_count": 2,
   "outputs": [
    {
     "name": "stdout",
     "output_type": "stream",
     "text": [
      "Position model compiled with torch.compile\n",
      "RNN Model initialized on cuda (noise_std=0.0)\n",
      "Position model parameters: 227650\n",
      "RNN model loaded from .trained/rnn_most_recent.pt\n"
     ]
    }
   ],
   "source": [
    "RNN_PATH = \".trained/rnn_most_recent.pt\"\n",
    "rnn = OsuReplayRNN.load(RNN_PATH)"
   ],
   "metadata": {
    "collapsed": false,
    "ExecuteTime": {
     "end_time": "2025-07-23T18:19:27.896364Z",
     "start_time": "2025-07-23T18:19:25.715081500Z"
    }
   },
   "id": "c6ca7e83e8c47946"
  },
  {
   "cell_type": "code",
   "execution_count": 5,
   "outputs": [
    {
     "name": "stdout",
     "output_type": "stream",
     "text": [
      "VAE models compiled..\n",
      "VAE Models initialized on cuda\n",
      "Encoder parameters: 236864\n",
      "Decoder parameters: 260418\n",
      "VAE models loaded from .trained/vae_most_recent.pt\n"
     ]
    }
   ],
   "source": [
    "VAE_PATH = \".trained/vae_most_recent.pt\"\n",
    "vae = OsuReplayVAE.load(VAE_PATH)"
   ],
   "metadata": {
    "collapsed": false,
    "ExecuteTime": {
     "end_time": "2025-07-24T07:05:21.374024800Z",
     "start_time": "2025-07-24T07:05:21.256868600Z"
    }
   },
   "id": "389d9af08162b304"
  },
  {
   "cell_type": "code",
   "execution_count": 6,
   "outputs": [
    {
     "name": "stderr",
     "output_type": "stream",
     "text": [
      "Turning beatmaps into time series data: 100%|██████████| 1/1 [00:00<00:00,  3.96it/s]\n"
     ]
    }
   ],
   "source": [
    "from osu.rulesets.mods import Mods\n",
    "import osu.rulesets.beatmap as bm\n",
    "import osu.dataset as dataset\n",
    "import torch\n",
    "import numpy as np\n",
    "\n",
    "test_name = 'ringyou'\n",
    "test_map_path = f'assets/{test_name}_map.osu'\n",
    "test_song = f'assets/{test_name}_song.mp3'\n",
    "test_mods = 0\n",
    "\n",
    "test_map = bm.load(test_map_path)\n",
    "test_map.apply_mods(test_mods)\n",
    "\n",
    "data = dataset.input_data(test_map)\n",
    "data = np.reshape(data.values, (-1, dataset.BATCH_LENGTH, len(dataset.INPUT_FEATURES)))\n",
    "data = torch.FloatTensor(data)"
   ],
   "metadata": {
    "collapsed": false,
    "ExecuteTime": {
     "end_time": "2025-07-24T07:05:26.487725200Z",
     "start_time": "2025-07-24T07:05:26.124333800Z"
    }
   },
   "id": "286777d795955597"
  },
  {
   "cell_type": "code",
   "execution_count": 7,
   "outputs": [],
   "source": [
    "model = vae\n",
    "\n",
    "# generate 10 plays\n",
    "NUM_PLAYS = 10\n",
    "\n",
    "# get an array of [[x,y]] for each play\n",
    "plays = [np.concatenate(model.generate(data)) for _ in range(NUM_PLAYS)]"
   ],
   "metadata": {
    "collapsed": false,
    "ExecuteTime": {
     "end_time": "2025-07-24T07:05:28.956969600Z",
     "start_time": "2025-07-24T07:05:26.695748Z"
    }
   },
   "id": "84858535fe8fb7fa"
  },
  {
   "cell_type": "code",
   "execution_count": 10,
   "outputs": [],
   "source": [
    "# get the mean absolute error for two plays\n",
    "def get_mae(play1, play2):\n",
    "    return np.mean(np.abs(play1 - play2))\n",
    "\n",
    "avg_mae = np.average([get_mae(plays[i], plays[i+1]) for i in range(NUM_PLAYS-1)])"
   ],
   "metadata": {
    "collapsed": false,
    "ExecuteTime": {
     "end_time": "2025-07-24T07:05:32.479548800Z",
     "start_time": "2025-07-24T07:05:32.388468100Z"
    }
   },
   "id": "a89e48d5ae327450"
  },
  {
   "cell_type": "code",
   "execution_count": 11,
   "outputs": [
    {
     "data": {
      "text/plain": "np.float32(0.020709597)"
     },
     "execution_count": 11,
     "metadata": {},
     "output_type": "execute_result"
    }
   ],
   "source": [
    "avg_mae"
   ],
   "metadata": {
    "collapsed": false,
    "ExecuteTime": {
     "end_time": "2025-07-24T07:05:32.785202200Z",
     "start_time": "2025-07-24T07:05:32.689220100Z"
    }
   },
   "id": "c4f4d25b8eefeb36"
  },
  {
   "cell_type": "code",
   "execution_count": 14,
   "outputs": [],
   "source": [
    "# preview a replay\n",
    "from osu.preview.preview import preview_replay_raw\n",
    "\n",
    "replay_data = np.pad(plays[0], ((0, 0), (0, 2)), mode='constant', constant_values=0)\n",
    "\n",
    "preview_replay_raw(replay_data, test_map_path, test_mods, test_song)"
   ],
   "metadata": {
    "collapsed": false,
    "ExecuteTime": {
     "end_time": "2025-07-23T19:12:50.866212500Z",
     "start_time": "2025-07-23T19:11:47.297936500Z"
    }
   },
   "id": "d7839a8d23244f9e"
  },
  {
   "cell_type": "code",
   "execution_count": 2,
   "outputs": [],
   "source": [
    "# analyze stuff about the data\n",
    "import numpy as np\n",
    "\n",
    "xs = np.load(f'.datasets/xs_5000_07-21_23-28-07.npy')\n",
    "ys = np.load(f'.datasets/ys_5000_07-21_23-28-07.npy')"
   ],
   "metadata": {
    "collapsed": false,
    "ExecuteTime": {
     "end_time": "2025-07-24T04:36:50.636605800Z",
     "start_time": "2025-07-24T04:36:50.040744900Z"
    }
   },
   "id": "ba429623d5b521d6"
  },
  {
   "cell_type": "code",
   "execution_count": null,
   "outputs": [],
   "source": [],
   "metadata": {
    "collapsed": false
   },
   "id": "2b79102f8a0e1566"
  }
 ],
 "metadata": {
  "kernelspec": {
   "display_name": "Python 3",
   "language": "python",
   "name": "python3"
  },
  "language_info": {
   "codemirror_mode": {
    "name": "ipython",
    "version": 2
   },
   "file_extension": ".py",
   "mimetype": "text/x-python",
   "name": "python",
   "nbconvert_exporter": "python",
   "pygments_lexer": "ipython2",
   "version": "2.7.6"
  }
 },
 "nbformat": 4,
 "nbformat_minor": 5
}
