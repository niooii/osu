{
 "cells": [
  {
   "cell_type": "code",
   "execution_count": null,
   "id": "initial_id",
   "metadata": {
    "collapsed": true,
    "ExecuteTime": {
     "end_time": "2025-07-25T23:52:13.202729500Z",
     "start_time": "2025-07-25T23:52:10.413119100Z"
    }
   },
   "outputs": [],
   "source": [
    "%load_ext autoreload\n",
    "%autoreload 2\n",
    "\n",
    "from models.vae import OsuReplayVAE\n",
    "from models.rnn import OsuReplayRNN"
   ]
  },
  {
   "cell_type": "code",
   "execution_count": 2,
   "outputs": [
    {
     "name": "stdout",
     "output_type": "stream",
     "text": [
      "Position model compiled with torch.compile\n",
      "RNN Model initialized on cuda (noise_std=0.0)\n",
      "Position model parameters: 227650\n",
      "RNN model loaded from .trained/rnn_most_recent.pt\n"
     ]
    }
   ],
   "source": [
    "RNN_PATH = \".trained/rnn_most_recent.pt\"\n",
    "rnn = OsuReplayRNN.load(RNN_PATH)"
   ],
   "metadata": {
    "collapsed": false,
    "ExecuteTime": {
     "end_time": "2025-07-25T23:52:15.665862800Z",
     "start_time": "2025-07-25T23:52:13.164728600Z"
    }
   },
   "id": "c6ca7e83e8c47946"
  },
  {
   "cell_type": "code",
   "execution_count": 3,
   "outputs": [
    {
     "name": "stdout",
     "output_type": "stream",
     "text": [
      "VAE models compiled..\n",
      "VAE Models initialized on cuda\n",
      "Encoder parameters: 236864\n",
      "Decoder parameters: 260418\n",
      "Beta: 0.0001\n",
      "VAE models loaded from .trained/vae_most_recent.pt\n"
     ]
    }
   ],
   "source": [
    "VAE_PATH = \".trained/vae_most_recent.pt\"\n",
    "vae = OsuReplayVAE.load(VAE_PATH)"
   ],
   "metadata": {
    "collapsed": false,
    "ExecuteTime": {
     "end_time": "2025-07-25T23:52:15.773979300Z",
     "start_time": "2025-07-25T23:52:15.663860300Z"
    }
   },
   "id": "389d9af08162b304"
  },
  {
   "cell_type": "code",
   "execution_count": 4,
   "outputs": [
    {
     "name": "stderr",
     "output_type": "stream",
     "text": [
      "Turning beatmaps into time series data: 100%|██████████| 1/1 [00:00<00:00,  3.83it/s]\n"
     ]
    }
   ],
   "source": [
    "from osu.rulesets.mods import Mods\n",
    "import osu.rulesets.beatmap as bm\n",
    "import osu.dataset as dataset\n",
    "import torch\n",
    "import numpy as np\n",
    "\n",
    "test_name = 'ringyou'\n",
    "test_map_path = f'assets/{test_name}_map.osu'\n",
    "test_song = f'assets/{test_name}_song.mp3'\n",
    "test_mods = 0\n",
    "\n",
    "test_map = bm.load(test_map_path)\n",
    "test_map.apply_mods(test_mods)\n",
    "\n",
    "data = dataset.input_data(test_map)\n",
    "data = np.reshape(data.values, (-1, dataset.BATCH_LENGTH, len(dataset.INPUT_FEATURES)))\n",
    "data = torch.FloatTensor(data)"
   ],
   "metadata": {
    "collapsed": false,
    "ExecuteTime": {
     "end_time": "2025-07-25T23:52:16.144639100Z",
     "start_time": "2025-07-25T23:52:15.770977600Z"
    }
   },
   "id": "286777d795955597"
  },
  {
   "cell_type": "code",
   "execution_count": 5,
   "outputs": [],
   "source": [
    "model = vae\n",
    "\n",
    "# generate 10 plays\n",
    "NUM_PLAYS = 10\n",
    "\n",
    "# get an array of [[x,y]] for each play\n",
    "plays = [np.concatenate(model.generate(data)) for _ in range(NUM_PLAYS)]"
   ],
   "metadata": {
    "collapsed": false,
    "ExecuteTime": {
     "end_time": "2025-07-25T23:52:16.945538800Z",
     "start_time": "2025-07-25T23:52:16.141638600Z"
    }
   },
   "id": "84858535fe8fb7fa"
  },
  {
   "cell_type": "code",
   "execution_count": 6,
   "outputs": [],
   "source": [
    "# get the mean absolute error for two plays\n",
    "def get_mae(play1, play2):\n",
    "    return np.mean(np.abs(play1 - play2))\n",
    "\n",
    "avg_mae = np.average([get_mae(plays[i], plays[i+1]) for i in range(NUM_PLAYS-1)])"
   ],
   "metadata": {
    "collapsed": false,
    "ExecuteTime": {
     "end_time": "2025-07-25T23:52:17.050875800Z",
     "start_time": "2025-07-25T23:52:16.947541200Z"
    }
   },
   "id": "a89e48d5ae327450"
  },
  {
   "cell_type": "code",
   "execution_count": 7,
   "outputs": [
    {
     "data": {
      "text/plain": "np.float32(0.005260035)"
     },
     "execution_count": 7,
     "metadata": {},
     "output_type": "execute_result"
    }
   ],
   "source": [
    "avg_mae"
   ],
   "metadata": {
    "collapsed": false,
    "ExecuteTime": {
     "end_time": "2025-07-25T23:52:17.147671100Z",
     "start_time": "2025-07-25T23:52:17.051876100Z"
    }
   },
   "id": "c4f4d25b8eefeb36"
  },
  {
   "cell_type": "code",
   "execution_count": 8,
   "outputs": [
    {
     "name": "stderr",
     "output_type": "stream",
     "text": [
      "E:\\Projects\\osu\\.venv\\Lib\\site-packages\\pygame\\pkgdata.py:25: UserWarning: pkg_resources is deprecated as an API. See https://setuptools.pypa.io/en/latest/pkg_resources.html. The pkg_resources package is slated for removal as early as 2025-11-30. Refrain from using this package or pin to Setuptools<81.\n",
      "  from pkg_resources import resource_stream, resource_exists\n"
     ]
    },
    {
     "name": "stdout",
     "output_type": "stream",
     "text": [
      "pygame 2.6.1 (SDL 2.28.4, Python 3.12.10)\n",
      "Hello from the pygame community. https://www.pygame.org/contribute.html\n"
     ]
    }
   ],
   "source": [
    "# preview a replay\n",
    "from osu.preview.preview import preview_replay_raw\n",
    "\n",
    "replay_data = np.pad(plays[0], ((0, 0), (0, 2)), mode='constant', constant_values=0)\n",
    "\n",
    "preview_replay_raw(replay_data, test_map_path, test_mods, test_song)"
   ],
   "metadata": {
    "collapsed": false,
    "ExecuteTime": {
     "end_time": "2025-07-25T23:52:46.264332800Z",
     "start_time": "2025-07-25T23:52:17.145671800Z"
    }
   },
   "id": "d7839a8d23244f9e"
  },
  {
   "cell_type": "code",
   "execution_count": 2,
   "outputs": [],
   "source": [
    "# analyze stuff about the data\n",
    "import numpy as np\n",
    "\n",
    "xs = np.load(f'.datasets/xs_7500_07-30_22-38-46.npy')\n",
    "ys = np.load(f'.datasets/ys_7500_07-30_22-38-46.npy')"
   ],
   "metadata": {
    "collapsed": false,
    "ExecuteTime": {
     "end_time": "2025-07-24T04:36:50.636605800Z",
     "start_time": "2025-07-24T04:36:50.040744900Z"
    }
   },
   "id": "ba429623d5b521d6"
  },
  {
   "cell_type": "code",
   "source": [
    "# find which player appears the most\n",
    "import osu.dataset as dataset\n",
    "mapping = dataset.replay_mapping_from_cache(limit=20000)"
   ],
   "metadata": {
    "collapsed": false,
    "ExecuteTime": {
     "end_time": "2025-08-14T16:56:55.434449Z",
     "start_time": "2025-08-14T16:56:49.453981Z"
    }
   },
   "id": "2b79102f8a0e1566",
   "outputs": [
    {
     "name": "stdout",
     "output_type": "stream",
     "text": [
      "Xlib.xauth: warning, no xauthority details available\n",
      "Xlib.xauth: warning, no xauthority details available\n",
      "osu! path: None/../Local/osu!\n"
     ]
    },
    {
     "name": "stderr",
     "output_type": "stream",
     "text": [
      "Loading replay metadata from .data/replays:  55%|█████▍    | 10922/20000 [00:04<00:04, 2220.95it/s]\n",
      "Loading objects from .data/: 0it [00:00, ?it/s]\n"
     ]
    }
   ],
   "execution_count": 1
  },
  {
   "cell_type": "code",
   "execution_count": null,
   "outputs": [],
   "source": [
    "players = [play.player for play in mapping['replay']]\n",
    "\n",
    "player_counts = {}\n",
    "\n",
    "for player in players:\n",
    "    player_counts[player] = player_counts.get(player, 0) + 1\n",
    "    \n",
    "sorted_items = sorted(player_counts.items(), key=lambda item: item[1], reverse=True)\n",
    "\n",
    "sorted_items"
   ],
   "metadata": {
    "collapsed": false
   },
   "id": "9e62a571d64705b3"
  },
  {
   "cell_type": "code",
   "source": [
    "import polars as pl\n",
    "df = pl.read_csv('all_scores.csv')"
   ],
   "metadata": {
    "collapsed": false,
    "ExecuteTime": {
     "end_time": "2025-08-14T18:47:21.129600Z",
     "start_time": "2025-08-14T18:47:21.064799Z"
    }
   },
   "id": "29d8c5cbc309c705",
   "outputs": [],
   "execution_count": 10
  },
  {
   "cell_type": "code",
   "source": [
    "df_filtered = df.filter(\n",
    "    (pl.col('accuracy') > 0.9) &\n",
    "    (pl.col('user_id') == 7562902)\n",
    ")"
   ],
   "metadata": {
    "collapsed": false,
    "ExecuteTime": {
     "end_time": "2025-08-14T18:56:24.010143Z",
     "start_time": "2025-08-14T18:56:24.003641Z"
    }
   },
   "id": "ba538d77d6398d07",
   "outputs": [],
   "execution_count": 28
  },
  {
   "metadata": {
    "ExecuteTime": {
     "end_time": "2025-08-14T18:57:06.389066Z",
     "start_time": "2025-08-14T18:57:06.385961Z"
    }
   },
   "cell_type": "code",
   "source": "df_filtered[1]",
   "id": "a0fa612308e4b0db",
   "outputs": [
    {
     "data": {
      "text/plain": [
       "shape: (1, 14)\n",
       "┌───────────┬─────────┬────────────┬───────────┬───┬───────────┬───────────┬───────────┬───────────┐\n",
       "│ id        ┆ user_id ┆ beatmap_id ┆ has_repla ┆ … ┆ total_sco ┆ ended_at  ┆ pp        ┆ beatmapse │\n",
       "│ ---       ┆ ---     ┆ ---        ┆ y         ┆   ┆ re        ┆ ---       ┆ ---       ┆ t_id      │\n",
       "│ i64       ┆ i64     ┆ i64        ┆ ---       ┆   ┆ ---       ┆ str       ┆ str       ┆ ---       │\n",
       "│           ┆         ┆            ┆ i64       ┆   ┆ i64       ┆           ┆           ┆ i64       │\n",
       "╞═══════════╪═════════╪════════════╪═══════════╪═══╪═══════════╪═══════════╪═══════════╪═══════════╡\n",
       "│ 546969065 ┆ 7562902 ┆ 768617     ┆ 1         ┆ … ┆ 943092    ┆ 2018-01-0 ┆ 107.66000 ┆ 341933    │\n",
       "│           ┆         ┆            ┆           ┆   ┆           ┆ 5         ┆ 366       ┆           │\n",
       "│           ┆         ┆            ┆           ┆   ┆           ┆ 23:05:08  ┆           ┆           │\n",
       "└───────────┴─────────┴────────────┴───────────┴───┴───────────┴───────────┴───────────┴───────────┘"
      ],
      "text/html": [
       "<div><style>\n",
       ".dataframe > thead > tr,\n",
       ".dataframe > tbody > tr {\n",
       "  text-align: right;\n",
       "  white-space: pre-wrap;\n",
       "}\n",
       "</style>\n",
       "<small>shape: (1, 14)</small><table border=\"1\" class=\"dataframe\"><thead><tr><th>id</th><th>user_id</th><th>beatmap_id</th><th>has_replay</th><th>preserve</th><th>ranked</th><th>rank</th><th>passed</th><th>accuracy</th><th>max_combo</th><th>total_score</th><th>ended_at</th><th>pp</th><th>beatmapset_id</th></tr><tr><td>i64</td><td>i64</td><td>i64</td><td>i64</td><td>i64</td><td>i64</td><td>str</td><td>i64</td><td>f64</td><td>i64</td><td>i64</td><td>str</td><td>str</td><td>i64</td></tr></thead><tbody><tr><td>546969065</td><td>7562902</td><td>768617</td><td>1</td><td>1</td><td>1</td><td>&quot;A&quot;</td><td>1</td><td>0.965155</td><td>851</td><td>943092</td><td>&quot;2018-01-05 23:05:08&quot;</td><td>&quot;107.66000366&quot;</td><td>341933</td></tr></tbody></table></div>"
      ]
     },
     "execution_count": 30,
     "metadata": {},
     "output_type": "execute_result"
    }
   ],
   "execution_count": 30
  }
 ],
 "metadata": {
  "kernelspec": {
   "display_name": "Python 3",
   "language": "python",
   "name": "python3"
  },
  "language_info": {
   "codemirror_mode": {
    "name": "ipython",
    "version": 2
   },
   "file_extension": ".py",
   "mimetype": "text/x-python",
   "name": "python",
   "nbconvert_exporter": "python",
   "pygments_lexer": "ipython2",
   "version": "2.7.6"
  }
 },
 "nbformat": 4,
 "nbformat_minor": 5
}
