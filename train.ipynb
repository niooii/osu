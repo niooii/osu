{
 "cells": [
  {
   "cell_type": "code",
   "execution_count": 52,
   "id": "initial_id",
   "metadata": {
    "collapsed": true,
    "ExecuteTime": {
     "end_time": "2025-07-22T01:05:34.926790800Z",
     "start_time": "2025-07-22T01:05:34.829791900Z"
    }
   },
   "outputs": [
    {
     "name": "stdout",
     "output_type": "stream",
     "text": [
      "The autoreload extension is already loaded. To reload it, use:\n",
      "  %reload_ext autoreload\n"
     ]
    }
   ],
   "source": [
    "%load_ext autoreload\n",
    "%autoreload 2\n",
    "\n",
    "import os\n",
    "import re\n",
    "import math\n",
    "import glob\n",
    "from importlib import reload\n",
    "\n",
    "import tqdm \n",
    "import datetime\n",
    "\n",
    "import numpy as np\n",
    "import pandas as pd\n",
    "import matplotlib.pyplot as plt\n",
    "\n",
    "import osu.rulesets.beatmap as bm\n",
    "import osu.rulesets.replay as rp\n",
    "import osu.rulesets.hitobjects as hitobjects\n",
    "import osu.dataset as dataset\n",
    "\n",
    "import osu.preview.preview as preview"
   ]
  },
  {
   "cell_type": "code",
   "execution_count": 53,
   "outputs": [
    {
     "name": "stderr",
     "output_type": "stream",
     "text": [
      "Loading replay metadata from .data/replays: 100%|██████████| 500/500 [00:00<00:00, 10634.11it/s]\n",
      "Loading objects from .data/: 100%|██████████| 500/500 [00:12<00:00, 38.67it/s]\n"
     ]
    }
   ],
   "source": [
    "obj_dataset = dataset.replay_mapping_from_cache(500)"
   ],
   "metadata": {
    "collapsed": false,
    "ExecuteTime": {
     "end_time": "2025-07-22T01:05:48.196791600Z",
     "start_time": "2025-07-22T01:05:35.083797800Z"
    }
   },
   "id": "e75df68bfdf21155"
  },
  {
   "cell_type": "code",
   "execution_count": 54,
   "outputs": [
    {
     "data": {
      "text/plain": "                                                replay  \\\n0    <osu.rulesets.replay.Replay object at 0x000001...   \n1    <osu.rulesets.replay.Replay object at 0x000001...   \n2    <osu.rulesets.replay.Replay object at 0x000001...   \n3    <osu.rulesets.replay.Replay object at 0x000001...   \n4    <osu.rulesets.replay.Replay object at 0x000001...   \n..                                                 ...   \n495  <osu.rulesets.replay.Replay object at 0x000001...   \n496  <osu.rulesets.replay.Replay object at 0x000001...   \n497  <osu.rulesets.replay.Replay object at 0x000001...   \n498  <osu.rulesets.replay.Replay object at 0x000001...   \n499  <osu.rulesets.replay.Replay object at 0x000001...   \n\n                                               beatmap  \n0    <osu.rulesets.beatmap.Beatmap object at 0x0000...  \n1    <osu.rulesets.beatmap.Beatmap object at 0x0000...  \n2    <osu.rulesets.beatmap.Beatmap object at 0x0000...  \n3    <osu.rulesets.beatmap.Beatmap object at 0x0000...  \n4    <osu.rulesets.beatmap.Beatmap object at 0x0000...  \n..                                                 ...  \n495  <osu.rulesets.beatmap.Beatmap object at 0x0000...  \n496  <osu.rulesets.beatmap.Beatmap object at 0x0000...  \n497  <osu.rulesets.beatmap.Beatmap object at 0x0000...  \n498  <osu.rulesets.beatmap.Beatmap object at 0x0000...  \n499  <osu.rulesets.beatmap.Beatmap object at 0x0000...  \n\n[500 rows x 2 columns]",
      "text/html": "<div>\n<style scoped>\n    .dataframe tbody tr th:only-of-type {\n        vertical-align: middle;\n    }\n\n    .dataframe tbody tr th {\n        vertical-align: top;\n    }\n\n    .dataframe thead th {\n        text-align: right;\n    }\n</style>\n<table border=\"1\" class=\"dataframe\">\n  <thead>\n    <tr style=\"text-align: right;\">\n      <th></th>\n      <th>replay</th>\n      <th>beatmap</th>\n    </tr>\n  </thead>\n  <tbody>\n    <tr>\n      <th>0</th>\n      <td>&lt;osu.rulesets.replay.Replay object at 0x000001...</td>\n      <td>&lt;osu.rulesets.beatmap.Beatmap object at 0x0000...</td>\n    </tr>\n    <tr>\n      <th>1</th>\n      <td>&lt;osu.rulesets.replay.Replay object at 0x000001...</td>\n      <td>&lt;osu.rulesets.beatmap.Beatmap object at 0x0000...</td>\n    </tr>\n    <tr>\n      <th>2</th>\n      <td>&lt;osu.rulesets.replay.Replay object at 0x000001...</td>\n      <td>&lt;osu.rulesets.beatmap.Beatmap object at 0x0000...</td>\n    </tr>\n    <tr>\n      <th>3</th>\n      <td>&lt;osu.rulesets.replay.Replay object at 0x000001...</td>\n      <td>&lt;osu.rulesets.beatmap.Beatmap object at 0x0000...</td>\n    </tr>\n    <tr>\n      <th>4</th>\n      <td>&lt;osu.rulesets.replay.Replay object at 0x000001...</td>\n      <td>&lt;osu.rulesets.beatmap.Beatmap object at 0x0000...</td>\n    </tr>\n    <tr>\n      <th>...</th>\n      <td>...</td>\n      <td>...</td>\n    </tr>\n    <tr>\n      <th>495</th>\n      <td>&lt;osu.rulesets.replay.Replay object at 0x000001...</td>\n      <td>&lt;osu.rulesets.beatmap.Beatmap object at 0x0000...</td>\n    </tr>\n    <tr>\n      <th>496</th>\n      <td>&lt;osu.rulesets.replay.Replay object at 0x000001...</td>\n      <td>&lt;osu.rulesets.beatmap.Beatmap object at 0x0000...</td>\n    </tr>\n    <tr>\n      <th>497</th>\n      <td>&lt;osu.rulesets.replay.Replay object at 0x000001...</td>\n      <td>&lt;osu.rulesets.beatmap.Beatmap object at 0x0000...</td>\n    </tr>\n    <tr>\n      <th>498</th>\n      <td>&lt;osu.rulesets.replay.Replay object at 0x000001...</td>\n      <td>&lt;osu.rulesets.beatmap.Beatmap object at 0x0000...</td>\n    </tr>\n    <tr>\n      <th>499</th>\n      <td>&lt;osu.rulesets.replay.Replay object at 0x000001...</td>\n      <td>&lt;osu.rulesets.beatmap.Beatmap object at 0x0000...</td>\n    </tr>\n  </tbody>\n</table>\n<p>500 rows × 2 columns</p>\n</div>"
     },
     "execution_count": 54,
     "metadata": {},
     "output_type": "execute_result"
    }
   ],
   "source": [
    "obj_dataset"
   ],
   "metadata": {
    "collapsed": false,
    "ExecuteTime": {
     "end_time": "2025-07-22T01:05:48.289790700Z",
     "start_time": "2025-07-22T01:05:48.197791600Z"
    }
   },
   "id": "c2a7186ae2fdccde"
  },
  {
   "cell_type": "code",
   "execution_count": 81,
   "outputs": [
    {
     "name": "stderr",
     "output_type": "stream",
     "text": [
      "Turning beatmaps into time series data: 100%|██████████| 500/500 [06:54<00:00,  1.21it/s]\n",
      "Turning replays into time series data: 100%|██████████| 500/500 [00:16<00:00, 29.60it/s]\n"
     ]
    }
   ],
   "source": [
    "input_data = dataset.input_data(obj_dataset, verbose=True)\n",
    "output_data = dataset.target_data(obj_dataset, verbose=True)"
   ],
   "metadata": {
    "collapsed": false,
    "ExecuteTime": {
     "end_time": "2025-07-22T01:31:27.485921400Z",
     "start_time": "2025-07-22T01:24:11.292386500Z"
    }
   },
   "id": "d3a92857966bd166"
  },
  {
   "cell_type": "code",
   "execution_count": 82,
   "outputs": [],
   "source": [
    "input = input_data\n",
    "output = output_data"
   ],
   "metadata": {
    "collapsed": false,
    "ExecuteTime": {
     "end_time": "2025-07-22T01:31:55.431823600Z",
     "start_time": "2025-07-22T01:31:55.325825Z"
    }
   },
   "id": "e154f4eddebe2dc"
  },
  {
   "cell_type": "code",
   "execution_count": 83,
   "outputs": [
    {
     "data": {
      "text/plain": "                    x         y  time_until_click  is_slider  is_spinner  \\\nchunk frame                                                                \n0     0     -0.355469 -0.500000             0.450        1.0         0.0   \n      1     -0.355469 -0.500000             0.426        1.0         0.0   \n      2     -0.355469 -0.500000             0.402        1.0         0.0   \n      3     -0.355469 -0.500000             0.378        1.0         0.0   \n      4     -0.355469 -0.500000             0.354        1.0         0.0   \n...               ...       ...               ...        ...         ...   \n      495    0.171875 -0.005208             0.000        1.0         0.0   \n      496    0.195312  0.033854             0.000        1.0         0.0   \n      497    0.207031  0.083333             0.000        1.0         0.0   \n      498    0.201172  0.135417             0.000        1.0         0.0   \n      499    0.179688  0.179688             0.000        1.0         0.0   \n\n               cs  slider_speed  slider_len  \nchunk frame                                  \n0     0      0.52      0.845867       0.605  \n      1      0.52      0.845867       0.605  \n      2      0.52      0.845867       0.605  \n      3      0.52      0.845867       0.605  \n      4      0.52      0.845867       0.605  \n...           ...           ...         ...  \n      495    0.52      0.422933       0.345  \n      496    0.52      0.422933       0.345  \n      497    0.52      0.422933       0.345  \n      498    0.52      0.422933       0.345  \n      499    0.52      0.422933       0.345  \n\n[500 rows x 8 columns]",
      "text/html": "<div>\n<style scoped>\n    .dataframe tbody tr th:only-of-type {\n        vertical-align: middle;\n    }\n\n    .dataframe tbody tr th {\n        vertical-align: top;\n    }\n\n    .dataframe thead th {\n        text-align: right;\n    }\n</style>\n<table border=\"1\" class=\"dataframe\">\n  <thead>\n    <tr style=\"text-align: right;\">\n      <th></th>\n      <th></th>\n      <th>x</th>\n      <th>y</th>\n      <th>time_until_click</th>\n      <th>is_slider</th>\n      <th>is_spinner</th>\n      <th>cs</th>\n      <th>slider_speed</th>\n      <th>slider_len</th>\n    </tr>\n    <tr>\n      <th>chunk</th>\n      <th>frame</th>\n      <th></th>\n      <th></th>\n      <th></th>\n      <th></th>\n      <th></th>\n      <th></th>\n      <th></th>\n      <th></th>\n    </tr>\n  </thead>\n  <tbody>\n    <tr>\n      <th rowspan=\"11\" valign=\"top\">0</th>\n      <th>0</th>\n      <td>-0.355469</td>\n      <td>-0.500000</td>\n      <td>0.450</td>\n      <td>1.0</td>\n      <td>0.0</td>\n      <td>0.52</td>\n      <td>0.845867</td>\n      <td>0.605</td>\n    </tr>\n    <tr>\n      <th>1</th>\n      <td>-0.355469</td>\n      <td>-0.500000</td>\n      <td>0.426</td>\n      <td>1.0</td>\n      <td>0.0</td>\n      <td>0.52</td>\n      <td>0.845867</td>\n      <td>0.605</td>\n    </tr>\n    <tr>\n      <th>2</th>\n      <td>-0.355469</td>\n      <td>-0.500000</td>\n      <td>0.402</td>\n      <td>1.0</td>\n      <td>0.0</td>\n      <td>0.52</td>\n      <td>0.845867</td>\n      <td>0.605</td>\n    </tr>\n    <tr>\n      <th>3</th>\n      <td>-0.355469</td>\n      <td>-0.500000</td>\n      <td>0.378</td>\n      <td>1.0</td>\n      <td>0.0</td>\n      <td>0.52</td>\n      <td>0.845867</td>\n      <td>0.605</td>\n    </tr>\n    <tr>\n      <th>4</th>\n      <td>-0.355469</td>\n      <td>-0.500000</td>\n      <td>0.354</td>\n      <td>1.0</td>\n      <td>0.0</td>\n      <td>0.52</td>\n      <td>0.845867</td>\n      <td>0.605</td>\n    </tr>\n    <tr>\n      <th>...</th>\n      <td>...</td>\n      <td>...</td>\n      <td>...</td>\n      <td>...</td>\n      <td>...</td>\n      <td>...</td>\n      <td>...</td>\n      <td>...</td>\n    </tr>\n    <tr>\n      <th>495</th>\n      <td>0.171875</td>\n      <td>-0.005208</td>\n      <td>0.000</td>\n      <td>1.0</td>\n      <td>0.0</td>\n      <td>0.52</td>\n      <td>0.422933</td>\n      <td>0.345</td>\n    </tr>\n    <tr>\n      <th>496</th>\n      <td>0.195312</td>\n      <td>0.033854</td>\n      <td>0.000</td>\n      <td>1.0</td>\n      <td>0.0</td>\n      <td>0.52</td>\n      <td>0.422933</td>\n      <td>0.345</td>\n    </tr>\n    <tr>\n      <th>497</th>\n      <td>0.207031</td>\n      <td>0.083333</td>\n      <td>0.000</td>\n      <td>1.0</td>\n      <td>0.0</td>\n      <td>0.52</td>\n      <td>0.422933</td>\n      <td>0.345</td>\n    </tr>\n    <tr>\n      <th>498</th>\n      <td>0.201172</td>\n      <td>0.135417</td>\n      <td>0.000</td>\n      <td>1.0</td>\n      <td>0.0</td>\n      <td>0.52</td>\n      <td>0.422933</td>\n      <td>0.345</td>\n    </tr>\n    <tr>\n      <th>499</th>\n      <td>0.179688</td>\n      <td>0.179688</td>\n      <td>0.000</td>\n      <td>1.0</td>\n      <td>0.0</td>\n      <td>0.52</td>\n      <td>0.422933</td>\n      <td>0.345</td>\n    </tr>\n  </tbody>\n</table>\n<p>500 rows × 8 columns</p>\n</div>"
     },
     "execution_count": 83,
     "metadata": {},
     "output_type": "execute_result"
    }
   ],
   "source": [
    "input[0:500]"
   ],
   "metadata": {
    "collapsed": false,
    "ExecuteTime": {
     "end_time": "2025-07-22T01:31:55.924966100Z",
     "start_time": "2025-07-22T01:31:55.824949100Z"
    }
   },
   "id": "a5acffe6d8c7a74a"
  },
  {
   "cell_type": "code",
   "execution_count": 84,
   "outputs": [
    {
     "data": {
      "text/plain": "                    x         y   k1   k2\nchunk frame                              \n0     0     -0.220486 -0.116898  0.0  0.0\n      1     -0.223958 -0.113426  0.0  0.0\n      2     -0.229167 -0.108796  0.0  0.0\n      3     -0.228299 -0.108796  0.0  0.0\n      4     -0.227430 -0.107639  0.0  0.0\n...               ...       ...  ...  ...\n      495    0.139757  0.006945  0.0  1.0\n      496    0.165799  0.015046  0.0  1.0\n      497    0.174479  0.024305  0.0  1.0\n      498    0.187500  0.041667  0.0  1.0\n      499    0.185764  0.041667  0.0  1.0\n\n[500 rows x 4 columns]",
      "text/html": "<div>\n<style scoped>\n    .dataframe tbody tr th:only-of-type {\n        vertical-align: middle;\n    }\n\n    .dataframe tbody tr th {\n        vertical-align: top;\n    }\n\n    .dataframe thead th {\n        text-align: right;\n    }\n</style>\n<table border=\"1\" class=\"dataframe\">\n  <thead>\n    <tr style=\"text-align: right;\">\n      <th></th>\n      <th></th>\n      <th>x</th>\n      <th>y</th>\n      <th>k1</th>\n      <th>k2</th>\n    </tr>\n    <tr>\n      <th>chunk</th>\n      <th>frame</th>\n      <th></th>\n      <th></th>\n      <th></th>\n      <th></th>\n    </tr>\n  </thead>\n  <tbody>\n    <tr>\n      <th rowspan=\"11\" valign=\"top\">0</th>\n      <th>0</th>\n      <td>-0.220486</td>\n      <td>-0.116898</td>\n      <td>0.0</td>\n      <td>0.0</td>\n    </tr>\n    <tr>\n      <th>1</th>\n      <td>-0.223958</td>\n      <td>-0.113426</td>\n      <td>0.0</td>\n      <td>0.0</td>\n    </tr>\n    <tr>\n      <th>2</th>\n      <td>-0.229167</td>\n      <td>-0.108796</td>\n      <td>0.0</td>\n      <td>0.0</td>\n    </tr>\n    <tr>\n      <th>3</th>\n      <td>-0.228299</td>\n      <td>-0.108796</td>\n      <td>0.0</td>\n      <td>0.0</td>\n    </tr>\n    <tr>\n      <th>4</th>\n      <td>-0.227430</td>\n      <td>-0.107639</td>\n      <td>0.0</td>\n      <td>0.0</td>\n    </tr>\n    <tr>\n      <th>...</th>\n      <td>...</td>\n      <td>...</td>\n      <td>...</td>\n      <td>...</td>\n    </tr>\n    <tr>\n      <th>495</th>\n      <td>0.139757</td>\n      <td>0.006945</td>\n      <td>0.0</td>\n      <td>1.0</td>\n    </tr>\n    <tr>\n      <th>496</th>\n      <td>0.165799</td>\n      <td>0.015046</td>\n      <td>0.0</td>\n      <td>1.0</td>\n    </tr>\n    <tr>\n      <th>497</th>\n      <td>0.174479</td>\n      <td>0.024305</td>\n      <td>0.0</td>\n      <td>1.0</td>\n    </tr>\n    <tr>\n      <th>498</th>\n      <td>0.187500</td>\n      <td>0.041667</td>\n      <td>0.0</td>\n      <td>1.0</td>\n    </tr>\n    <tr>\n      <th>499</th>\n      <td>0.185764</td>\n      <td>0.041667</td>\n      <td>0.0</td>\n      <td>1.0</td>\n    </tr>\n  </tbody>\n</table>\n<p>500 rows × 4 columns</p>\n</div>"
     },
     "execution_count": 84,
     "metadata": {},
     "output_type": "execute_result"
    }
   ],
   "source": [
    "output[0:500]"
   ],
   "metadata": {
    "collapsed": false,
    "ExecuteTime": {
     "end_time": "2025-07-22T01:31:56.377978200Z",
     "start_time": "2025-07-22T01:31:56.281471500Z"
    }
   },
   "id": "57d70a1b50c3e2d2"
  },
  {
   "cell_type": "code",
   "execution_count": 85,
   "outputs": [
    {
     "data": {
      "text/plain": "(1766, 2048, 8)"
     },
     "execution_count": 85,
     "metadata": {},
     "output_type": "execute_result"
    }
   ],
   "source": [
    "import torch\n",
    "\n",
    "xs = np.reshape(input.values, (-1, dataset.BATCH_LENGTH, len(dataset.INPUT_FEATURES)))\n",
    "\n",
    "# try:\n",
    "#     target_data = pd.read_pickle('.data/target_data.dat')\n",
    "# except:\n",
    "#     target_data = dataset.target_data(dataset, verbose=True)\n",
    "#     target_data.to_pickle('.data/target_data.dat')\n",
    "\n",
    "ys = np.reshape(output.values, (-1, dataset.BATCH_LENGTH, len(dataset.OUTPUT_FEATURES)))\n",
    "\n",
    "xs.shape"
   ],
   "metadata": {
    "collapsed": false,
    "ExecuteTime": {
     "end_time": "2025-07-22T01:31:56.810995400Z",
     "start_time": "2025-07-22T01:31:56.715996300Z"
    }
   },
   "id": "7ce39514b249ca3"
  },
  {
   "cell_type": "code",
   "execution_count": 86,
   "outputs": [
    {
     "data": {
      "text/plain": "(1766, 2048, 4)"
     },
     "execution_count": 86,
     "metadata": {},
     "output_type": "execute_result"
    }
   ],
   "source": [
    "ys.shape"
   ],
   "metadata": {
    "collapsed": false,
    "ExecuteTime": {
     "end_time": "2025-07-22T01:31:57.907489400Z",
     "start_time": "2025-07-22T01:31:57.812987700Z"
    }
   },
   "id": "e19cd6e26e427881"
  },
  {
   "cell_type": "code",
   "execution_count": 87,
   "outputs": [],
   "source": [
    "# save dataset so we have it later\n",
    "\n",
    "# os.makedirs(f'.datasets', exist_ok=True)\n",
    "# \n",
    "np.save(f'.datasets/xs.npy', xs)\n",
    "np.save(f'.datasets/ys.npy', ys)"
   ],
   "metadata": {
    "collapsed": false,
    "ExecuteTime": {
     "end_time": "2025-07-22T01:32:00.368549100Z",
     "start_time": "2025-07-22T01:31:59.906549800Z"
    }
   },
   "id": "a645f1ad0d118839"
  },
  {
   "cell_type": "code",
   "execution_count": 3,
   "outputs": [],
   "source": [
    "# reload from saved\n",
    "\n",
    "# xs = np.load(f'.datasets/xs.npy')\n",
    "# ys = np.load(f'.datasets/ys.npy')"
   ],
   "metadata": {
    "collapsed": false,
    "ExecuteTime": {
     "end_time": "2025-07-22T00:40:54.654398Z",
     "start_time": "2025-07-22T00:40:54.473397300Z"
    }
   },
   "id": "57a0b188412a33ea"
  },
  {
   "cell_type": "code",
   "execution_count": 4,
   "outputs": [],
   "source": [
    "# tys = ys.reshape(ys.shape[0] * ys.shape[1], ys.shape[2])\n",
    "# for frame in tys:\n",
    "#     if np.isinf(frame).any():\n",
    "#         print(frame)"
   ],
   "metadata": {
    "collapsed": false,
    "ExecuteTime": {
     "end_time": "2025-07-22T00:40:54.702398600Z",
     "start_time": "2025-07-22T00:40:54.655395800Z"
    }
   },
   "id": "88ed086eb110584c"
  },
  {
   "cell_type": "code",
   "execution_count": 88,
   "outputs": [],
   "source": [
    "import torch\n",
    "import torch.nn as nn\n",
    "import torch.optim as optim\n",
    "import torch.nn.functional as F\n",
    "\n",
    "from sklearn.model_selection import train_test_split\n",
    "from random import randint \n",
    "from torch.utils.data import DataLoader, TensorDataset\n",
    "\n",
    "BATCH_SIZE = 128\n",
    "\n",
    "device = 'cuda' if torch.cuda.is_available() else 'cpu'\n",
    "\n",
    "# \n",
    "# x_train, x_test, y_train, y_test = train_test_split(xs, ys, test_size=0.2, random_state=randint(0, 100))\n",
    "# \n",
    "# train_dataset = TensorDataset(torch.FloatTensor(x_train), torch.FloatTensor(y_train))\n",
    "# \n",
    "# train_loader = DataLoader(train_dataset, batch_size=BATCH_SIZE, shuffle=True)"
   ],
   "metadata": {
    "collapsed": false,
    "ExecuteTime": {
     "end_time": "2025-07-22T01:32:03.229858200Z",
     "start_time": "2025-07-22T01:32:03.126850100Z"
    }
   },
   "id": "df66cf1559ce0054"
  },
  {
   "cell_type": "code",
   "outputs": [],
   "source": [
    "from osu.rnn import OsuReplayRNN"
   ],
   "metadata": {
    "collapsed": false,
    "ExecuteTime": {
     "end_time": "2025-07-22T01:32:03.386373300Z",
     "start_time": "2025-07-22T01:32:03.303855500Z"
    }
   },
   "id": "ef64a90c43d5a5c5",
   "execution_count": 89
  },
  {
   "cell_type": "code",
   "outputs": [
    {
     "name": "stdout",
     "output_type": "stream",
     "text": [
      "Creating RNN model...\n",
      "Position model compiled with torch.compile\n",
      "RNN Model initialized on cuda (noise_std=0.0)\n",
      "Position model parameters: 227650\n",
      "Data loaded: 1412 training samples, 354 test samples (position only)\n"
     ]
    }
   ],
   "source": [
    "print(\"Creating RNN model...\")\n",
    "rnn = OsuReplayRNN(batch_size=BATCH_SIZE, noise_std=0.00)\n",
    "rnn.load_data(xs, ys)"
   ],
   "metadata": {
    "collapsed": false,
    "ExecuteTime": {
     "end_time": "2025-07-22T01:32:03.652815300Z",
     "start_time": "2025-07-22T01:32:03.513545700Z"
    }
   },
   "id": "5b09ee4f3a71a037",
   "execution_count": 90
  },
  {
   "cell_type": "code",
   "outputs": [
    {
     "name": "stderr",
     "output_type": "stream",
     "text": [
      "Epoch 1/8 (Train): 100%|██████████| 12/12 [00:01<00:00,  7.57it/s]\n"
     ]
    },
    {
     "name": "stdout",
     "output_type": "stream",
     "text": [
      "Epoch 1/8, Train: 0.0187, Test: 0.0084\n"
     ]
    },
    {
     "name": "stderr",
     "output_type": "stream",
     "text": [
      "Epoch 2/8 (Train): 100%|██████████| 12/12 [00:01<00:00, 10.05it/s]\n"
     ]
    },
    {
     "name": "stdout",
     "output_type": "stream",
     "text": [
      "Epoch 2/8, Train: 0.0059, Test: 0.0037\n"
     ]
    },
    {
     "name": "stderr",
     "output_type": "stream",
     "text": [
      "Epoch 3/8 (Train): 100%|██████████| 12/12 [00:01<00:00, 10.12it/s]\n"
     ]
    },
    {
     "name": "stdout",
     "output_type": "stream",
     "text": [
      "Epoch 3/8, Train: 0.0032, Test: 0.0027\n"
     ]
    },
    {
     "name": "stderr",
     "output_type": "stream",
     "text": [
      "Epoch 4/8 (Train): 100%|██████████| 12/12 [00:01<00:00,  9.77it/s]\n"
     ]
    },
    {
     "name": "stdout",
     "output_type": "stream",
     "text": [
      "Epoch 4/8, Train: 0.0024, Test: 0.0024\n"
     ]
    },
    {
     "name": "stderr",
     "output_type": "stream",
     "text": [
      "Epoch 5/8 (Train): 100%|██████████| 12/12 [00:01<00:00,  9.79it/s]\n"
     ]
    },
    {
     "name": "stdout",
     "output_type": "stream",
     "text": [
      "Epoch 5/8, Train: 0.0023, Test: 0.0022\n"
     ]
    },
    {
     "name": "stderr",
     "output_type": "stream",
     "text": [
      "Epoch 6/8 (Train): 100%|██████████| 12/12 [00:01<00:00,  9.99it/s]\n"
     ]
    },
    {
     "name": "stdout",
     "output_type": "stream",
     "text": [
      "Epoch 6/8, Train: 0.0022, Test: 0.0021\n"
     ]
    },
    {
     "name": "stderr",
     "output_type": "stream",
     "text": [
      "Epoch 7/8 (Train): 100%|██████████| 12/12 [00:01<00:00,  9.97it/s]\n"
     ]
    },
    {
     "name": "stdout",
     "output_type": "stream",
     "text": [
      "Epoch 7/8, Train: 0.0020, Test: 0.0020\n"
     ]
    },
    {
     "name": "stderr",
     "output_type": "stream",
     "text": [
      "Epoch 8/8 (Train): 100%|██████████| 12/12 [00:01<00:00,  9.92it/s]\n"
     ]
    },
    {
     "name": "stdout",
     "output_type": "stream",
     "text": [
      "Epoch 8/8, Train: 0.0019, Test: 0.0019\n"
     ]
    },
    {
     "data": {
      "text/plain": "<Figure size 1000x600 with 1 Axes>",
      "image/png": "[encoded data removed]"
     },
     "metadata": {},
     "output_type": "display_data"
    },
    {
     "name": "stdout",
     "output_type": "stream",
     "text": [
      "RNN model saved to .trained/rnn_2025-07-21_21-32-16.pt\n"
     ]
    }
   ],
   "source": [
    "RNN_EPOCHS = 8\n",
    "\n",
    "# Train the RNN\n",
    "rnn.train(epochs=RNN_EPOCHS)\n",
    "rnn.plot_losses()\n",
    "rnn.save()"
   ],
   "metadata": {
    "collapsed": false,
    "ExecuteTime": {
     "end_time": "2025-07-22T01:32:16.161231200Z",
     "start_time": "2025-07-22T01:32:04.850933300Z"
    }
   },
   "id": "83bb34ade9f91d0c",
   "execution_count": 91
  },
  {
   "cell_type": "code",
   "execution_count": 9,
   "outputs": [],
   "source": [
    "import torch\n",
    "import gc\n",
    "\n",
    "# Clear GPU cache\n",
    "torch.cuda.empty_cache()\n",
    "\n",
    "# Force garbage collection\n",
    "gc.collect()\n",
    "\n",
    "del rnn"
   ],
   "metadata": {
    "collapsed": false,
    "ExecuteTime": {
     "end_time": "2025-07-22T00:41:12.398248100Z",
     "start_time": "2025-07-22T00:41:12.167233900Z"
    }
   },
   "id": "9538866029954e52"
  },
  {
   "cell_type": "code",
   "execution_count": null,
   "outputs": [],
   "source": [
    "from osu.gan import OsuReplayGAN"
   ],
   "metadata": {
    "collapsed": false
   },
   "id": "ea59e5b35a20c62b"
  },
  {
   "cell_type": "code",
   "outputs": [],
   "source": [
    "print(\"Creating GAN model...\")\n",
    "gan = OsuReplayGAN(batch_size=BATCH_SIZE)\n",
    "gan.load_data(xs, ys)"
   ],
   "metadata": {
    "collapsed": false
   },
   "id": "35305533ba6f06cb",
   "execution_count": null
  },
  {
   "cell_type": "code",
   "execution_count": null,
   "outputs": [],
   "source": [
    "GAN_EPOCHS = 4\n",
    "\n",
    "# Train the GAN\n",
    "for i in range(8):\n",
    "    gan.train(epochs=GAN_EPOCHS)\n",
    "    gan.save()\n",
    "    \n",
    "gan.plot_losses()"
   ],
   "metadata": {
    "collapsed": false
   },
   "id": "b7312299b611e68a"
  },
  {
   "cell_type": "code",
   "execution_count": null,
   "outputs": [],
   "source": [
    "from osu.keys import OsuKeyModel"
   ],
   "metadata": {
    "collapsed": false
   },
   "id": "4c01a975155f6e29"
  },
  {
   "cell_type": "code",
   "execution_count": null,
   "outputs": [],
   "source": [
    "print(\"Creating keypress model...\")\n",
    "keys = OsuKeyModel(batch_size=BATCH_SIZE)\n",
    "keys.load_data(xs, ys)"
   ],
   "metadata": {
    "collapsed": false
   },
   "id": "779e0772d6aaee37"
  },
  {
   "cell_type": "code",
   "execution_count": null,
   "outputs": [],
   "source": [
    "KEYS_EPOCHS = 12\n",
    "\n",
    "# Train the key model\n",
    "for i in range(12):\n",
    "    keys.train(epochs=KEYS_EPOCHS)\n",
    "    keys.save()\n",
    "    \n",
    "keys.plot_losses()"
   ],
   "metadata": {
    "collapsed": false
   },
   "id": "d085a88f2ffeaf32"
  },
  {
   "cell_type": "code",
   "execution_count": null,
   "outputs": [],
   "source": [
    "del keys"
   ],
   "metadata": {
    "collapsed": false
   },
   "id": "6e138caebc134e9c"
  },
  {
   "cell_type": "code",
   "execution_count": 92,
   "outputs": [
    {
     "name": "stderr",
     "output_type": "stream",
     "text": [
      "Turning beatmaps into time series data: 100%|██████████| 1/1 [00:00<00:00,  4.22it/s]\n"
     ]
    },
    {
     "data": {
      "text/plain": "                    x         y  time_until_click  is_slider  is_spinner  \\\nchunk frame                                                                \n0     0      0.283203  0.289062             0.450        0.0         0.0   \n      1      0.283203  0.289062             0.426        0.0         0.0   \n      2      0.283203  0.289062             0.402        0.0         0.0   \n      3      0.283203  0.289062             0.378        0.0         0.0   \n      4      0.283203  0.289062             0.354        0.0         0.0   \n...               ...       ...               ...        ...         ...   \n1     2043   0.000000  0.000000             0.000        0.0         0.0   \n      2044   0.000000  0.000000             0.000        0.0         0.0   \n      2045   0.000000  0.000000             0.000        0.0         0.0   \n      2046   0.000000  0.000000             0.000        0.0         0.0   \n      2047   0.000000  0.000000             0.000        0.0         0.0   \n\n                cs  slider_speed  slider_len  \nchunk frame                                   \n0     0      0.442           0.0         0.0  \n      1      0.442           0.0         0.0  \n      2      0.442           0.0         0.0  \n      3      0.442           0.0         0.0  \n      4      0.442           0.0         0.0  \n...            ...           ...         ...  \n1     2043   0.000           0.0         0.0  \n      2044   0.000           0.0         0.0  \n      2045   0.000           0.0         0.0  \n      2046   0.000           0.0         0.0  \n      2047   0.000           0.0         0.0  \n\n[4096 rows x 8 columns]",
      "text/html": "<div>\n<style scoped>\n    .dataframe tbody tr th:only-of-type {\n        vertical-align: middle;\n    }\n\n    .dataframe tbody tr th {\n        vertical-align: top;\n    }\n\n    .dataframe thead th {\n        text-align: right;\n    }\n</style>\n<table border=\"1\" class=\"dataframe\">\n  <thead>\n    <tr style=\"text-align: right;\">\n      <th></th>\n      <th></th>\n      <th>x</th>\n      <th>y</th>\n      <th>time_until_click</th>\n      <th>is_slider</th>\n      <th>is_spinner</th>\n      <th>cs</th>\n      <th>slider_speed</th>\n      <th>slider_len</th>\n    </tr>\n    <tr>\n      <th>chunk</th>\n      <th>frame</th>\n      <th></th>\n      <th></th>\n      <th></th>\n      <th></th>\n      <th></th>\n      <th></th>\n      <th></th>\n      <th></th>\n    </tr>\n  </thead>\n  <tbody>\n    <tr>\n      <th rowspan=\"5\" valign=\"top\">0</th>\n      <th>0</th>\n      <td>0.283203</td>\n      <td>0.289062</td>\n      <td>0.450</td>\n      <td>0.0</td>\n      <td>0.0</td>\n      <td>0.442</td>\n      <td>0.0</td>\n      <td>0.0</td>\n    </tr>\n    <tr>\n      <th>1</th>\n      <td>0.283203</td>\n      <td>0.289062</td>\n      <td>0.426</td>\n      <td>0.0</td>\n      <td>0.0</td>\n      <td>0.442</td>\n      <td>0.0</td>\n      <td>0.0</td>\n    </tr>\n    <tr>\n      <th>2</th>\n      <td>0.283203</td>\n      <td>0.289062</td>\n      <td>0.402</td>\n      <td>0.0</td>\n      <td>0.0</td>\n      <td>0.442</td>\n      <td>0.0</td>\n      <td>0.0</td>\n    </tr>\n    <tr>\n      <th>3</th>\n      <td>0.283203</td>\n      <td>0.289062</td>\n      <td>0.378</td>\n      <td>0.0</td>\n      <td>0.0</td>\n      <td>0.442</td>\n      <td>0.0</td>\n      <td>0.0</td>\n    </tr>\n    <tr>\n      <th>4</th>\n      <td>0.283203</td>\n      <td>0.289062</td>\n      <td>0.354</td>\n      <td>0.0</td>\n      <td>0.0</td>\n      <td>0.442</td>\n      <td>0.0</td>\n      <td>0.0</td>\n    </tr>\n    <tr>\n      <th>...</th>\n      <th>...</th>\n      <td>...</td>\n      <td>...</td>\n      <td>...</td>\n      <td>...</td>\n      <td>...</td>\n      <td>...</td>\n      <td>...</td>\n      <td>...</td>\n    </tr>\n    <tr>\n      <th rowspan=\"5\" valign=\"top\">1</th>\n      <th>2043</th>\n      <td>0.000000</td>\n      <td>0.000000</td>\n      <td>0.000</td>\n      <td>0.0</td>\n      <td>0.0</td>\n      <td>0.000</td>\n      <td>0.0</td>\n      <td>0.0</td>\n    </tr>\n    <tr>\n      <th>2044</th>\n      <td>0.000000</td>\n      <td>0.000000</td>\n      <td>0.000</td>\n      <td>0.0</td>\n      <td>0.0</td>\n      <td>0.000</td>\n      <td>0.0</td>\n      <td>0.0</td>\n    </tr>\n    <tr>\n      <th>2045</th>\n      <td>0.000000</td>\n      <td>0.000000</td>\n      <td>0.000</td>\n      <td>0.0</td>\n      <td>0.0</td>\n      <td>0.000</td>\n      <td>0.0</td>\n      <td>0.0</td>\n    </tr>\n    <tr>\n      <th>2046</th>\n      <td>0.000000</td>\n      <td>0.000000</td>\n      <td>0.000</td>\n      <td>0.0</td>\n      <td>0.0</td>\n      <td>0.000</td>\n      <td>0.0</td>\n      <td>0.0</td>\n    </tr>\n    <tr>\n      <th>2047</th>\n      <td>0.000000</td>\n      <td>0.000000</td>\n      <td>0.000</td>\n      <td>0.0</td>\n      <td>0.0</td>\n      <td>0.000</td>\n      <td>0.0</td>\n      <td>0.0</td>\n    </tr>\n  </tbody>\n</table>\n<p>4096 rows × 8 columns</p>\n</div>"
     },
     "execution_count": 92,
     "metadata": {},
     "output_type": "execute_result"
    }
   ],
   "source": [
    "from osu.rulesets.mods import Mods\n",
    "import osu.rulesets.beatmap as bm\n",
    "import osu.rulesets.replay as rp\n",
    "import osu.dataset as dataset\n",
    "\n",
    "test_name = 'rally'\n",
    "test_mods = Mods.HARD_ROCK\n",
    "test_map_path = f'assets/{test_name}_map.osu'\n",
    "test_song = f'assets/{test_name}_song.mp3'\n",
    "\n",
    "test_map = bm.load(test_map_path)\n",
    "test_map.apply_mods(test_mods)\n",
    "\n",
    "data = dataset.input_data(test_map)\n",
    "data"
   ],
   "metadata": {
    "collapsed": false,
    "ExecuteTime": {
     "end_time": "2025-07-22T01:32:20.532476400Z",
     "start_time": "2025-07-22T01:32:20.154478100Z"
    }
   },
   "id": "333c00206b8b20b9"
  },
  {
   "cell_type": "code",
   "execution_count": 93,
   "outputs": [],
   "source": [
    "data = np.reshape(data.values, (-1, dataset.BATCH_LENGTH, len(dataset.INPUT_FEATURES)))\n",
    "data = torch.FloatTensor(data)"
   ],
   "metadata": {
    "collapsed": false,
    "ExecuteTime": {
     "end_time": "2025-07-22T01:32:20.620475400Z",
     "start_time": "2025-07-22T01:32:20.514476900Z"
    }
   },
   "id": "f1b4202bf1fd17ea"
  },
  {
   "cell_type": "code",
   "outputs": [
    {
     "name": "stdout",
     "output_type": "stream",
     "text": [
      "Generated replay data shape: (4096, 4)\n",
      "Saved to .generated\\rally.npy\n"
     ]
    }
   ],
   "source": [
    "with torch.no_grad():\n",
    "    # Use generator for inference\n",
    "    replay_data = rnn.generate(data)\n",
    "    \n",
    "replay_data = np.concatenate(replay_data)\n",
    "replay_data = np.pad(replay_data, ((0, 0), (0, 2)), mode='constant', constant_values=0)\n",
    "if not os.path.exists('.generated'):\n",
    "    os.makedirs('.generated')\n",
    "    \n",
    "np.save('.generated\\\\' + test_name + '.npy', replay_data)\n",
    "\n",
    "print(f\"Generated replay data shape: {replay_data.shape}\")\n",
    "print(f\"Saved to .generated\\\\{test_name}.npy\")"
   ],
   "metadata": {
    "collapsed": false,
    "ExecuteTime": {
     "end_time": "2025-07-22T01:32:20.828475Z",
     "start_time": "2025-07-22T01:32:20.607477300Z"
    }
   },
   "id": "236d6cf3611e8928",
   "execution_count": 94
  },
  {
   "cell_type": "code",
   "execution_count": 95,
   "outputs": [
    {
     "data": {
      "text/plain": "tensor([[[ 0.2832,  0.2891,  0.4500,  ...,  0.4420,  0.0000,  0.0000],\n         [ 0.2832,  0.2891,  0.4260,  ...,  0.4420,  0.0000,  0.0000],\n         [ 0.2832,  0.2891,  0.4020,  ...,  0.4420,  0.0000,  0.0000],\n         ...,\n         [-0.2852,  0.1484,  0.0010,  ...,  0.4420,  0.4528,  0.1183],\n         [-0.2676,  0.1406,  0.0000,  ...,  0.4420,  0.4528,  0.1183],\n         [-0.2461,  0.1354,  0.0000,  ...,  0.4420,  0.4528,  0.1183]],\n\n        [[-0.2266,  0.1302,  0.0000,  ...,  0.4420,  0.4528,  0.1183],\n         [-0.2051,  0.1250,  0.0000,  ...,  0.4420,  0.4528,  0.1183],\n         [-0.1855,  0.1198,  0.0000,  ...,  0.4420,  0.4528,  0.1183],\n         ...,\n         [ 0.0000,  0.0000,  0.0000,  ...,  0.0000,  0.0000,  0.0000],\n         [ 0.0000,  0.0000,  0.0000,  ...,  0.0000,  0.0000,  0.0000],\n         [ 0.0000,  0.0000,  0.0000,  ...,  0.0000,  0.0000,  0.0000]]])"
     },
     "execution_count": 95,
     "metadata": {},
     "output_type": "execute_result"
    }
   ],
   "source": [
    "data[:500]"
   ],
   "metadata": {
    "collapsed": false,
    "ExecuteTime": {
     "end_time": "2025-07-22T01:32:20.931475400Z",
     "start_time": "2025-07-22T01:32:20.824475Z"
    }
   },
   "id": "8676b02a909a5ccc"
  },
  {
   "cell_type": "code",
   "execution_count": 96,
   "outputs": [
    {
     "data": {
      "text/plain": "array([[ 0.09458502,  0.07263082,  0.        ,  0.        ],\n       [ 0.12767291,  0.10748171,  0.        ,  0.        ],\n       [ 0.15523073,  0.13469017,  0.        ,  0.        ],\n       ...,\n       [-0.12340993, -0.06278608,  0.        ,  0.        ],\n       [-0.12643349, -0.0923314 ,  0.        ,  0.        ],\n       [-0.10048315, -0.14435801,  0.        ,  0.        ]],\n      dtype=float32)"
     },
     "execution_count": 96,
     "metadata": {},
     "output_type": "execute_result"
    }
   ],
   "source": [
    "replay_data[:500]"
   ],
   "metadata": {
    "collapsed": false,
    "ExecuteTime": {
     "end_time": "2025-07-22T01:32:22.040236400Z",
     "start_time": "2025-07-22T01:32:21.933235900Z"
    }
   },
   "id": "ecb3ba401b34c8a0"
  },
  {
   "cell_type": "code",
   "execution_count": 97,
   "outputs": [],
   "source": [
    "import importlib\n",
    "import osu.preview.preview as preview\n",
    "\n",
    "importlib.reload(preview)\n",
    "\n",
    "preview.preview_replay_raw(replay_data, test_map_path, test_mods, test_song)"
   ],
   "metadata": {
    "collapsed": false,
    "ExecuteTime": {
     "end_time": "2025-07-22T01:33:54.413972600Z",
     "start_time": "2025-07-22T01:32:22.165278900Z"
    }
   },
   "id": "6b4933974b96336b"
  },
  {
   "cell_type": "code",
   "execution_count": null,
   "outputs": [],
   "source": [],
   "metadata": {
    "collapsed": false
   },
   "id": "53d8f6a660be3f5b"
  }
 ],
 "metadata": {
  "kernelspec": {
   "display_name": "Python 3",
   "language": "python",
   "name": "python3"
  },
  "language_info": {
   "codemirror_mode": {
    "name": "ipython",
    "version": 2
   },
   "file_extension": ".py",
   "mimetype": "text/x-python",
   "name": "python",
   "nbconvert_exporter": "python",
   "pygments_lexer": "ipython2",
   "version": "2.7.6"
  }
 },
 "nbformat": 4,
 "nbformat_minor": 5
}
