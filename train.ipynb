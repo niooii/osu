{
 "cells": [
  {
   "cell_type": "code",
   "execution_count": 1,
   "id": "initial_id",
   "metadata": {
    "collapsed": true,
    "ExecuteTime": {
     "end_time": "2025-07-12T18:28:19.100545900Z",
     "start_time": "2025-07-12T18:28:17.034656200Z"
    }
   },
   "outputs": [
    {
     "name": "stdout",
     "output_type": "stream",
     "text": [
      "pygame 2.6.1 (SDL 2.28.4, Python 3.13.0)\n",
      "Hello from the pygame community. https://www.pygame.org/contribute.html\n"
     ]
    },
    {
     "name": "stderr",
     "output_type": "stream",
     "text": [
      "E:\\Projects\\osu\\.venv\\Lib\\site-packages\\pygame\\pkgdata.py:25: UserWarning: pkg_resources is deprecated as an API. See https://setuptools.pypa.io/en/latest/pkg_resources.html. The pkg_resources package is slated for removal as early as 2025-11-30. Refrain from using this package or pin to Setuptools<81.\n",
      "  from pkg_resources import resource_stream, resource_exists\n"
     ]
    }
   ],
   "source": [
    "import os\n",
    "import re\n",
    "import math\n",
    "import glob\n",
    "from importlib import reload\n",
    "\n",
    "import tqdm \n",
    "import datetime\n",
    "\n",
    "import numpy as np\n",
    "import pandas as pd\n",
    "import matplotlib.pyplot as plt\n",
    "\n",
    "import osu.rulesets.beatmap as bm\n",
    "import osu.rulesets.replay as rp\n",
    "import osu.rulesets.hitobjects as hitobjects\n",
    "import osu.dataset as dataset\n",
    "\n",
    "import osu.preview.preview as preview"
   ]
  },
  {
   "cell_type": "code",
   "execution_count": 2,
   "outputs": [
    {
     "name": "stderr",
     "output_type": "stream",
     "text": [
      "Loading replay metadata from .data/replays: 100%|██████████| 5000/5000 [00:06<00:00, 732.30it/s]  \n",
      "Loading objects from .data/: 100%|██████████| 5000/5000 [02:06<00:00, 39.52it/s]\n"
     ]
    }
   ],
   "source": [
    "obj_dataset = dataset.replay_mapping_from_cache(5000)"
   ],
   "metadata": {
    "collapsed": false,
    "ExecuteTime": {
     "end_time": "2025-07-12T18:30:32.474382200Z",
     "start_time": "2025-07-12T18:28:19.090547900Z"
    }
   },
   "id": "e75df68bfdf21155"
  },
  {
   "cell_type": "code",
   "execution_count": 3,
   "outputs": [
    {
     "data": {
      "text/plain": "                                                 replay  \\\n0     <osu.rulesets.replay.Replay object at 0x000001...   \n1     <osu.rulesets.replay.Replay object at 0x000001...   \n2     <osu.rulesets.replay.Replay object at 0x000001...   \n3     <osu.rulesets.replay.Replay object at 0x000001...   \n4     <osu.rulesets.replay.Replay object at 0x000001...   \n...                                                 ...   \n4304  <osu.rulesets.replay.Replay object at 0x000001...   \n4305  <osu.rulesets.replay.Replay object at 0x000001...   \n4306  <osu.rulesets.replay.Replay object at 0x000001...   \n4307  <osu.rulesets.replay.Replay object at 0x000001...   \n4308  <osu.rulesets.replay.Replay object at 0x000001...   \n\n                                                beatmap  \n0     <osu.rulesets.beatmap.Beatmap object at 0x0000...  \n1     <osu.rulesets.beatmap.Beatmap object at 0x0000...  \n2     <osu.rulesets.beatmap.Beatmap object at 0x0000...  \n3     <osu.rulesets.beatmap.Beatmap object at 0x0000...  \n4     <osu.rulesets.beatmap.Beatmap object at 0x0000...  \n...                                                 ...  \n4304  <osu.rulesets.beatmap.Beatmap object at 0x0000...  \n4305  <osu.rulesets.beatmap.Beatmap object at 0x0000...  \n4306  <osu.rulesets.beatmap.Beatmap object at 0x0000...  \n4307  <osu.rulesets.beatmap.Beatmap object at 0x0000...  \n4308  <osu.rulesets.beatmap.Beatmap object at 0x0000...  \n\n[4309 rows x 2 columns]",
      "text/html": "<div>\n<style scoped>\n    .dataframe tbody tr th:only-of-type {\n        vertical-align: middle;\n    }\n\n    .dataframe tbody tr th {\n        vertical-align: top;\n    }\n\n    .dataframe thead th {\n        text-align: right;\n    }\n</style>\n<table border=\"1\" class=\"dataframe\">\n  <thead>\n    <tr style=\"text-align: right;\">\n      <th></th>\n      <th>replay</th>\n      <th>beatmap</th>\n    </tr>\n  </thead>\n  <tbody>\n    <tr>\n      <th>0</th>\n      <td>&lt;osu.rulesets.replay.Replay object at 0x000001...</td>\n      <td>&lt;osu.rulesets.beatmap.Beatmap object at 0x0000...</td>\n    </tr>\n    <tr>\n      <th>1</th>\n      <td>&lt;osu.rulesets.replay.Replay object at 0x000001...</td>\n      <td>&lt;osu.rulesets.beatmap.Beatmap object at 0x0000...</td>\n    </tr>\n    <tr>\n      <th>2</th>\n      <td>&lt;osu.rulesets.replay.Replay object at 0x000001...</td>\n      <td>&lt;osu.rulesets.beatmap.Beatmap object at 0x0000...</td>\n    </tr>\n    <tr>\n      <th>3</th>\n      <td>&lt;osu.rulesets.replay.Replay object at 0x000001...</td>\n      <td>&lt;osu.rulesets.beatmap.Beatmap object at 0x0000...</td>\n    </tr>\n    <tr>\n      <th>4</th>\n      <td>&lt;osu.rulesets.replay.Replay object at 0x000001...</td>\n      <td>&lt;osu.rulesets.beatmap.Beatmap object at 0x0000...</td>\n    </tr>\n    <tr>\n      <th>...</th>\n      <td>...</td>\n      <td>...</td>\n    </tr>\n    <tr>\n      <th>4304</th>\n      <td>&lt;osu.rulesets.replay.Replay object at 0x000001...</td>\n      <td>&lt;osu.rulesets.beatmap.Beatmap object at 0x0000...</td>\n    </tr>\n    <tr>\n      <th>4305</th>\n      <td>&lt;osu.rulesets.replay.Replay object at 0x000001...</td>\n      <td>&lt;osu.rulesets.beatmap.Beatmap object at 0x0000...</td>\n    </tr>\n    <tr>\n      <th>4306</th>\n      <td>&lt;osu.rulesets.replay.Replay object at 0x000001...</td>\n      <td>&lt;osu.rulesets.beatmap.Beatmap object at 0x0000...</td>\n    </tr>\n    <tr>\n      <th>4307</th>\n      <td>&lt;osu.rulesets.replay.Replay object at 0x000001...</td>\n      <td>&lt;osu.rulesets.beatmap.Beatmap object at 0x0000...</td>\n    </tr>\n    <tr>\n      <th>4308</th>\n      <td>&lt;osu.rulesets.replay.Replay object at 0x000001...</td>\n      <td>&lt;osu.rulesets.beatmap.Beatmap object at 0x0000...</td>\n    </tr>\n  </tbody>\n</table>\n<p>4309 rows × 2 columns</p>\n</div>"
     },
     "execution_count": 3,
     "metadata": {},
     "output_type": "execute_result"
    }
   ],
   "source": [
    "obj_dataset"
   ],
   "metadata": {
    "collapsed": false,
    "ExecuteTime": {
     "end_time": "2025-07-12T18:30:32.483370200Z",
     "start_time": "2025-07-12T18:30:32.471382600Z"
    }
   },
   "id": "c2a7186ae2fdccde"
  },
  {
   "cell_type": "code",
   "execution_count": null,
   "outputs": [],
   "source": [
    "input_data = dataset.input_data(obj_dataset, verbose=True)\n",
    "output_data = dataset.target_data(obj_dataset, verbose=True)"
   ],
   "metadata": {
    "collapsed": false
   },
   "id": "d3a92857966bd166"
  },
  {
   "cell_type": "code",
   "execution_count": 5,
   "outputs": [],
   "source": [
    "input = input_data\n",
    "output = output_data"
   ],
   "metadata": {
    "collapsed": false,
    "ExecuteTime": {
     "end_time": "2025-07-12T18:54:20.418116100Z",
     "start_time": "2025-07-12T18:54:20.405171200Z"
    }
   },
   "id": "e154f4eddebe2dc"
  },
  {
   "cell_type": "code",
   "execution_count": 6,
   "outputs": [
    {
     "data": {
      "text/plain": "                    x         y  visible  is_slider  is_spinner\nchunk frame                                                    \n0     0     -0.355469 -0.500000      0.0        1.0         0.0\n      1     -0.355469 -0.500000      1.0        1.0         0.0\n      2     -0.355469 -0.500000      1.0        1.0         0.0\n      3     -0.355469 -0.500000      1.0        1.0         0.0\n      4     -0.355469 -0.500000      1.0        1.0         0.0\n...               ...       ...      ...        ...         ...\n      495    0.171875 -0.005208      1.0        1.0         0.0\n      496    0.195312  0.033854      1.0        1.0         0.0\n      497    0.207031  0.083333      1.0        1.0         0.0\n      498    0.201172  0.135417      1.0        1.0         0.0\n      499    0.177734  0.179688      1.0        1.0         0.0\n\n[500 rows x 5 columns]",
      "text/html": "<div>\n<style scoped>\n    .dataframe tbody tr th:only-of-type {\n        vertical-align: middle;\n    }\n\n    .dataframe tbody tr th {\n        vertical-align: top;\n    }\n\n    .dataframe thead th {\n        text-align: right;\n    }\n</style>\n<table border=\"1\" class=\"dataframe\">\n  <thead>\n    <tr style=\"text-align: right;\">\n      <th></th>\n      <th></th>\n      <th>x</th>\n      <th>y</th>\n      <th>visible</th>\n      <th>is_slider</th>\n      <th>is_spinner</th>\n    </tr>\n    <tr>\n      <th>chunk</th>\n      <th>frame</th>\n      <th></th>\n      <th></th>\n      <th></th>\n      <th></th>\n      <th></th>\n    </tr>\n  </thead>\n  <tbody>\n    <tr>\n      <th rowspan=\"11\" valign=\"top\">0</th>\n      <th>0</th>\n      <td>-0.355469</td>\n      <td>-0.500000</td>\n      <td>0.0</td>\n      <td>1.0</td>\n      <td>0.0</td>\n    </tr>\n    <tr>\n      <th>1</th>\n      <td>-0.355469</td>\n      <td>-0.500000</td>\n      <td>1.0</td>\n      <td>1.0</td>\n      <td>0.0</td>\n    </tr>\n    <tr>\n      <th>2</th>\n      <td>-0.355469</td>\n      <td>-0.500000</td>\n      <td>1.0</td>\n      <td>1.0</td>\n      <td>0.0</td>\n    </tr>\n    <tr>\n      <th>3</th>\n      <td>-0.355469</td>\n      <td>-0.500000</td>\n      <td>1.0</td>\n      <td>1.0</td>\n      <td>0.0</td>\n    </tr>\n    <tr>\n      <th>4</th>\n      <td>-0.355469</td>\n      <td>-0.500000</td>\n      <td>1.0</td>\n      <td>1.0</td>\n      <td>0.0</td>\n    </tr>\n    <tr>\n      <th>...</th>\n      <td>...</td>\n      <td>...</td>\n      <td>...</td>\n      <td>...</td>\n      <td>...</td>\n    </tr>\n    <tr>\n      <th>495</th>\n      <td>0.171875</td>\n      <td>-0.005208</td>\n      <td>1.0</td>\n      <td>1.0</td>\n      <td>0.0</td>\n    </tr>\n    <tr>\n      <th>496</th>\n      <td>0.195312</td>\n      <td>0.033854</td>\n      <td>1.0</td>\n      <td>1.0</td>\n      <td>0.0</td>\n    </tr>\n    <tr>\n      <th>497</th>\n      <td>0.207031</td>\n      <td>0.083333</td>\n      <td>1.0</td>\n      <td>1.0</td>\n      <td>0.0</td>\n    </tr>\n    <tr>\n      <th>498</th>\n      <td>0.201172</td>\n      <td>0.135417</td>\n      <td>1.0</td>\n      <td>1.0</td>\n      <td>0.0</td>\n    </tr>\n    <tr>\n      <th>499</th>\n      <td>0.177734</td>\n      <td>0.179688</td>\n      <td>1.0</td>\n      <td>1.0</td>\n      <td>0.0</td>\n    </tr>\n  </tbody>\n</table>\n<p>500 rows × 5 columns</p>\n</div>"
     },
     "execution_count": 6,
     "metadata": {},
     "output_type": "execute_result"
    }
   ],
   "source": [
    "input[0:500]"
   ],
   "metadata": {
    "collapsed": false,
    "ExecuteTime": {
     "end_time": "2025-07-12T18:54:20.518262900Z",
     "start_time": "2025-07-12T18:54:20.413117500Z"
    }
   },
   "id": "57d70a1b50c3e2d2"
  },
  {
   "cell_type": "code",
   "execution_count": 7,
   "outputs": [
    {
     "data": {
      "text/plain": "(16274, 2048, 5)"
     },
     "execution_count": 7,
     "metadata": {},
     "output_type": "execute_result"
    }
   ],
   "source": [
    "import torch\n",
    "\n",
    "xs = np.reshape(input.values, (-1, dataset.BATCH_LENGTH, len(dataset.INPUT_FEATURES)))\n",
    "\n",
    "# try:\n",
    "#     target_data = pd.read_pickle('.data/target_data.dat')\n",
    "# except:\n",
    "#     target_data = dataset.target_data(dataset, verbose=True)\n",
    "#     target_data.to_pickle('.data/target_data.dat')\n",
    "\n",
    "ys = np.reshape(output.values, (-1, dataset.BATCH_LENGTH, len(dataset.OUTPUT_FEATURES)))\n",
    "\n",
    "xs.shape"
   ],
   "metadata": {
    "collapsed": false,
    "ExecuteTime": {
     "end_time": "2025-07-12T18:54:20.527264100Z",
     "start_time": "2025-07-12T18:54:20.500655400Z"
    }
   },
   "id": "7ce39514b249ca3"
  },
  {
   "cell_type": "code",
   "execution_count": 8,
   "outputs": [],
   "source": [
    "# ys = ys[0:xs.shape[0]]"
   ],
   "metadata": {
    "collapsed": false,
    "ExecuteTime": {
     "end_time": "2025-07-12T18:54:20.527264100Z",
     "start_time": "2025-07-12T18:54:20.509262900Z"
    }
   },
   "id": "a645f1ad0d118839"
  },
  {
   "cell_type": "code",
   "execution_count": 9,
   "outputs": [],
   "source": [
    "import torch\n",
    "import torch.nn as nn\n",
    "import torch.optim as optim\n",
    "import torch.nn.functional as F\n",
    "\n",
    "from sklearn.model_selection import train_test_split\n",
    "from random import randint \n",
    "from torch.utils.data import DataLoader, TensorDataset\n",
    "\n",
    "BATCH_SIZE = 64\n",
    "\n",
    "device = 'cuda' if torch.cuda.is_available() else 'cpu'\n",
    "\n",
    "# \n",
    "# x_train, x_test, y_train, y_test = train_test_split(xs, ys, test_size=0.2, random_state=randint(0, 100))\n",
    "# \n",
    "# train_dataset = TensorDataset(torch.FloatTensor(x_train), torch.FloatTensor(y_train))\n",
    "# \n",
    "# train_loader = DataLoader(train_dataset, batch_size=BATCH_SIZE, shuffle=True)"
   ],
   "metadata": {
    "collapsed": false,
    "ExecuteTime": {
     "end_time": "2025-07-12T18:54:23.164814100Z",
     "start_time": "2025-07-12T18:54:20.513263Z"
    }
   },
   "id": "df66cf1559ce0054"
  },
  {
   "cell_type": "code",
   "outputs": [],
   "source": [
    "# MODEL DEFINITIONS\n",
    "\n",
    "class OsuReplayRNN:\n",
    "    def __init__(self, input_data, output_data, test_size=0.2, batch_size=BATCH_SIZE, device=None, noise_std=0.0):  # Set to 0.0 to disable\n",
    "        self.device = device or torch.device(\"cuda\" if torch.cuda.is_available() else \"cpu\")\n",
    "        self.batch_size = batch_size\n",
    "        \n",
    "        # Handle input/output data inconsistency by taking minimum\n",
    "        min_samples = min(input_data.shape[0], output_data.shape[0])\n",
    "        input_data = input_data[:min_samples]\n",
    "        output_data = output_data[:min_samples]\n",
    "        \n",
    "        # Train/test split\n",
    "        x_train, x_test, y_train, y_test = train_test_split(\n",
    "            input_data, output_data, test_size=test_size, random_state=42\n",
    "        )\n",
    "        \n",
    "        # Create DataLoaders\n",
    "        train_dataset = TensorDataset(torch.FloatTensor(x_train), torch.FloatTensor(y_train))\n",
    "        test_dataset = TensorDataset(torch.FloatTensor(x_test), torch.FloatTensor(y_test))\n",
    "        \n",
    "        self.train_loader = DataLoader(train_dataset, batch_size=batch_size, shuffle=True)\n",
    "        self.test_loader = DataLoader(test_dataset, batch_size=batch_size, shuffle=False)\n",
    "        \n",
    "        # Initialize model\n",
    "        input_size = input_data.shape[2]\n",
    "        output_size = output_data.shape[2]\n",
    "        \n",
    "        self.model = self._create_model(input_size, output_size, noise_std)\n",
    "        self.model.to(self.device)\n",
    "        \n",
    "        # Initialize optimizer and loss\n",
    "        self.optimizer = optim.AdamW(self.model.parameters(), lr=0.001, weight_decay=0.01)\n",
    "        self.criterion = nn.SmoothL1Loss()\n",
    "        \n",
    "        # Training history\n",
    "        self.train_losses = []\n",
    "        self.test_losses = []\n",
    "        \n",
    "        print(f\"RNN Model initialized on {self.device} (noise_std={noise_std})\")\n",
    "        print(f\"Model parameters: {sum(p.numel() for p in self.model.parameters() if p.requires_grad)}\")\n",
    "    \n",
    "    def _create_model(self, input_size, output_size, noise_std):\n",
    "        class OsuModel(nn.Module):\n",
    "            def __init__(self, input_size, output_size, noise_std=0.0):\n",
    "                super(OsuModel, self).__init__()\n",
    "                \n",
    "                self.lstm = nn.LSTM(input_size, 64, batch_first=True)\n",
    "                self.dense1 = nn.Linear(64, 64)\n",
    "                self.noise_std = noise_std\n",
    "                self.dense2 = nn.Linear(64, 16)\n",
    "                self.position = nn.Linear(16, output_size)\n",
    "                \n",
    "            def forward(self, x):\n",
    "                lstm_out, _ = self.lstm(x)\n",
    "                \n",
    "                pos = self.dense1(lstm_out)\n",
    "                \n",
    "                # Configurable gaussian noise (only applied during training)\n",
    "                if self.training and self.noise_std > 0:\n",
    "                    noise = torch.randn_like(pos) * self.noise_std\n",
    "                    pos = pos + noise\n",
    "                \n",
    "                pos = self.dense2(pos)\n",
    "                pos = self.position(pos)\n",
    "                \n",
    "                return pos\n",
    "        \n",
    "        return OsuModel(input_size, output_size, noise_std)\n",
    "    \n",
    "    def train(self, epochs: int):\n",
    "        for epoch in range(epochs):\n",
    "            # Training phase\n",
    "            self.model.train()\n",
    "            epoch_train_loss = 0\n",
    "            \n",
    "            for batch_x, batch_y in tqdm.tqdm(self.train_loader, desc=f'Epoch {epoch+1}/{epochs} (Train)'):\n",
    "                batch_x = batch_x.to(self.device)\n",
    "                batch_y = batch_y.to(self.device)\n",
    "                \n",
    "                self.optimizer.zero_grad()\n",
    "                outputs = self.model(batch_x)\n",
    "                loss = self.criterion(outputs, batch_y)\n",
    "                loss.backward()\n",
    "                self.optimizer.step()\n",
    "                \n",
    "                epoch_train_loss += loss.item()\n",
    "            \n",
    "            # Validation phase\n",
    "            self.model.eval()\n",
    "            epoch_test_loss = 0\n",
    "            with torch.no_grad():\n",
    "                for batch_x, batch_y in self.test_loader:\n",
    "                    batch_x = batch_x.to(self.device)\n",
    "                    batch_y = batch_y.to(self.device)\n",
    "                    \n",
    "                    outputs = self.model(batch_x)\n",
    "                    loss = self.criterion(outputs, batch_y)\n",
    "                    epoch_test_loss += loss.item()\n",
    "            \n",
    "            # Calculate average losses\n",
    "            avg_train_loss = epoch_train_loss / len(self.train_loader)\n",
    "            avg_test_loss = epoch_test_loss / len(self.test_loader)\n",
    "            \n",
    "            self.train_losses.append(avg_train_loss)\n",
    "            self.test_losses.append(avg_test_loss)\n",
    "            \n",
    "            print(f'Epoch {epoch+1}/{epochs}, Train Loss: {avg_train_loss:.4f}, Test Loss: {avg_test_loss:.4f}')\n",
    "    \n",
    "    def plot_losses(self):\n",
    "        plt.figure(figsize=(10, 5))\n",
    "        plt.plot(self.train_losses, label='Train Loss')\n",
    "        plt.plot(self.test_losses, label='Test Loss')\n",
    "        plt.xlabel('Epoch')\n",
    "        plt.ylabel('Loss')\n",
    "        plt.title('RNN Training Progress')\n",
    "        plt.legend()\n",
    "        plt.show()\n",
    "    \n",
    "    def save(self, path=None):\n",
    "        if path is None:\n",
    "            timestamp = datetime.datetime.now().strftime(\"%Y-%m-%d_%H-%M-%S\")\n",
    "            path = f'.trained/rnn_{timestamp}.pt'\n",
    "        \n",
    "        if not os.path.exists('.trained'):\n",
    "            os.makedirs('.trained')\n",
    "            \n",
    "        torch.save(self.model.state_dict(), path)\n",
    "        torch.save(self.model.state_dict(), '.trained/rnn_most_recent.pt')\n",
    "        print(f\"RNN model saved to {path}\")\n",
    "    \n",
    "    def generate(self, beatmap_data):\n",
    "        self.model.eval()\n",
    "        with torch.no_grad():\n",
    "            beatmap_tensor = torch.FloatTensor(beatmap_data).to(self.device)\n",
    "            return self.model(beatmap_tensor).cpu().numpy()\n"
   ],
   "metadata": {
    "collapsed": false,
    "ExecuteTime": {
     "end_time": "2025-07-12T18:54:23.165813800Z",
     "start_time": "2025-07-12T18:54:23.032911Z"
    }
   },
   "id": "ef64a90c43d5a5c5",
   "execution_count": 10
  },
  {
   "cell_type": "code",
   "execution_count": 11,
   "outputs": [],
   "source": [
    "\n",
    "class OsuReplayGAN:\n",
    "    def __init__(self, input_data, output_data, test_size=0.2, batch_size=BATCH_SIZE, device=None, noise_dim=0): \n",
    "        self.device = device or torch.device(\"cuda\" if torch.cuda.is_available() else \"cpu\")\n",
    "        self.batch_size = batch_size\n",
    "        self.noise_dim = noise_dim\n",
    "        \n",
    "        # Handle input/output data inconsistency by taking minimum\n",
    "        min_samples = min(input_data.shape[0], output_data.shape[0])\n",
    "        input_data = input_data[:min_samples]\n",
    "        output_data = output_data[:min_samples]\n",
    "        \n",
    "        # Train/test split\n",
    "        x_train, x_test, y_train, y_test = train_test_split(\n",
    "            input_data, output_data, test_size=test_size, random_state=42\n",
    "        )\n",
    "        \n",
    "        # Create DataLoaders\n",
    "        train_dataset = TensorDataset(torch.FloatTensor(x_train), torch.FloatTensor(y_train))\n",
    "        test_dataset = TensorDataset(torch.FloatTensor(x_test), torch.FloatTensor(y_test))\n",
    "        \n",
    "        self.train_loader = DataLoader(train_dataset, batch_size=batch_size, shuffle=True)\n",
    "        self.test_loader = DataLoader(test_dataset, batch_size=batch_size, shuffle=False)\n",
    "        \n",
    "        # Initialize models\n",
    "        input_size = input_data.shape[2]\n",
    "        output_size = output_data.shape[2]\n",
    "        \n",
    "        self.generator = Generator(input_size, output_size, noise_dim)\n",
    "        self.discriminator = Discriminator(input_size, output_size)\n",
    "        \n",
    "        self.generator.to(self.device)\n",
    "        self.discriminator.to(self.device)\n",
    "        \n",
    "        # Initialize optimizers and losses\n",
    "        self.gen_optimizer = optim.Adam(self.generator.parameters(), lr=0.0002, betas=(0.5, 0.999))\n",
    "        self.disc_optimizer = optim.Adam(self.discriminator.parameters(), lr=0.0002, betas=(0.5, 0.999))\n",
    "        \n",
    "        self.adversarial_loss = nn.BCELoss()\n",
    "        self.reconstruction_loss = nn.MSELoss()\n",
    "        \n",
    "        # Training history\n",
    "        self.gen_losses = []\n",
    "        self.disc_losses = []\n",
    "        \n",
    "        print(f\"GAN Models initialized on {self.device} (noise_dim={noise_dim})\")\n",
    "        print(f\"Generator parameters: {sum(p.numel() for p in self.generator.parameters() if p.requires_grad)}\")\n",
    "        print(f\"Discriminator parameters: {sum(p.numel() for p in self.discriminator.parameters() if p.requires_grad)}\")\n",
    "    \n",
    "    def train(self, epochs: int, lambda_recon=10.0):\n",
    "        for epoch in range(epochs):\n",
    "            epoch_gen_loss = 0\n",
    "            epoch_disc_loss = 0\n",
    "            \n",
    "            for batch_x, batch_y in tqdm.tqdm(self.train_loader, desc=f'Epoch {epoch+1}/{epochs} (GAN)'):\n",
    "                batch_x = batch_x.to(self.device)\n",
    "                batch_y = batch_y.to(self.device)\n",
    "                batch_size = batch_x.size(0)\n",
    "                \n",
    "                # Real and fake labels\n",
    "                real_labels = torch.ones(batch_size, 1, device=self.device)\n",
    "                fake_labels = torch.zeros(batch_size, 1, device=self.device)\n",
    "                \n",
    "                # ---------------------\n",
    "                #  Train Discriminator\n",
    "                # ---------------------\n",
    "                self.disc_optimizer.zero_grad()\n",
    "                \n",
    "                # Real data\n",
    "                real_output = self.discriminator(batch_x, batch_y)\n",
    "                real_loss = self.adversarial_loss(real_output, real_labels)\n",
    "                \n",
    "                # Fake data\n",
    "                fake_positions = self.generator(batch_x)\n",
    "                fake_output = self.discriminator(batch_x, fake_positions.detach())\n",
    "                fake_loss = self.adversarial_loss(fake_output, fake_labels)\n",
    "                \n",
    "                # Total discriminator loss\n",
    "                disc_loss = (real_loss + fake_loss) / 2\n",
    "                disc_loss.backward()\n",
    "                self.disc_optimizer.step()\n",
    "                \n",
    "                # -----------------\n",
    "                #  Train Generator\n",
    "                # -----------------\n",
    "                self.gen_optimizer.zero_grad()\n",
    "                \n",
    "                # Generate fake positions\n",
    "                fake_positions = self.generator(batch_x)\n",
    "                \n",
    "                # Adversarial loss (fool discriminator)\n",
    "                fake_output = self.discriminator(batch_x, fake_positions)\n",
    "                adv_loss = self.adversarial_loss(fake_output, real_labels)\n",
    "                \n",
    "                # Reconstruction loss (maintain beatmap correspondence)\n",
    "                recon_loss = self.reconstruction_loss(fake_positions, batch_y)\n",
    "                \n",
    "                # Total generator loss\n",
    "                gen_loss = adv_loss + lambda_recon * recon_loss\n",
    "                gen_loss.backward()\n",
    "                self.gen_optimizer.step()\n",
    "                \n",
    "                epoch_gen_loss += gen_loss.item()\n",
    "                epoch_disc_loss += disc_loss.item()\n",
    "            \n",
    "            # Calculate average losses\n",
    "            avg_gen_loss = epoch_gen_loss / len(self.train_loader)\n",
    "            avg_disc_loss = epoch_disc_loss / len(self.train_loader)\n",
    "            \n",
    "            self.gen_losses.append(avg_gen_loss)\n",
    "            self.disc_losses.append(avg_disc_loss)\n",
    "            \n",
    "            print(f'Epoch {epoch+1}/{epochs}, Gen Loss: {avg_gen_loss:.4f}, Disc Loss: {avg_disc_loss:.4f}')\n",
    "    \n",
    "    def plot_losses(self):\n",
    "        fig, (ax1, ax2) = plt.subplots(1, 2, figsize=(12, 4))\n",
    "        \n",
    "        ax1.plot(self.gen_losses, label='Generator')\n",
    "        ax1.plot(self.disc_losses, label='Discriminator')\n",
    "        ax1.set_xlabel(\"Epochs\")\n",
    "        ax1.set_ylabel(\"Loss\")\n",
    "        ax1.set_title(\"GAN Training Losses\")\n",
    "        ax1.legend()\n",
    "        \n",
    "        # Plot them separately for better visibility\n",
    "        ax2.plot(self.gen_losses, label='Generator', color='blue')\n",
    "        ax2_twin = ax2.twinx()\n",
    "        ax2_twin.plot(self.disc_losses, label='Discriminator', color='red')\n",
    "        ax2.set_xlabel(\"Epochs\")\n",
    "        ax2.set_ylabel(\"Generator Loss\", color='blue')\n",
    "        ax2_twin.set_ylabel(\"Discriminator Loss\", color='red')\n",
    "        ax2.set_title(\"GAN Losses (Separate Scales)\")\n",
    "        \n",
    "        plt.tight_layout()\n",
    "        plt.show()\n",
    "    \n",
    "    def save(self, path_prefix=None):\n",
    "        if path_prefix is None:\n",
    "            timestamp = datetime.datetime.now().strftime(\"%Y-%m-%d_%H-%M-%S\")\n",
    "            path_prefix = f'.trained/gan_{timestamp}'\n",
    "        \n",
    "        if not os.path.exists('.trained'):\n",
    "            os.makedirs('.trained')\n",
    "            \n",
    "        torch.save(self.generator.state_dict(), f'{path_prefix}_generator.pt')\n",
    "        torch.save(self.discriminator.state_dict(), f'{path_prefix}_discriminator.pt')\n",
    "        torch.save(self.generator.state_dict(), '.trained/gan_generator_most_recent.pt')\n",
    "        torch.save(self.discriminator.state_dict(), '.trained/gan_discriminator_most_recent.pt')\n",
    "        print(f\"GAN models saved with prefix {path_prefix}\")\n",
    "    \n",
    "    def generate(self, beatmap_data):\n",
    "        self.generator.eval()\n",
    "        with torch.no_grad():\n",
    "            beatmap_tensor = torch.FloatTensor(beatmap_data).to(self.device)\n",
    "            return self.generator(beatmap_tensor).cpu().numpy()\n",
    "\n",
    "\n",
    "class Generator(nn.Module):\n",
    "    def __init__(self, input_size, output_size, noise_dim=32):\n",
    "        super(Generator, self).__init__()\n",
    "        self.noise_dim = noise_dim\n",
    "        \n",
    "        if noise_dim > 0:\n",
    "            # LSTM for processing beatmap features + noise\n",
    "            self.lstm = nn.LSTM(input_size + noise_dim, 128, num_layers=2, batch_first=True, dropout=0.2)\n",
    "        else:\n",
    "            # LSTM for processing beatmap features only (no noise)\n",
    "            self.lstm = nn.LSTM(input_size, 128, num_layers=2, batch_first=True, dropout=0.2)\n",
    "        \n",
    "        # Dense layers for generating cursor positions\n",
    "        self.dense1 = nn.Linear(128, 64)\n",
    "        self.dense2 = nn.Linear(64, 32)\n",
    "        self.position = nn.Linear(32, output_size)\n",
    "        \n",
    "        self.dropout = nn.Dropout(0.3)\n",
    "        \n",
    "    def forward(self, beatmap_features, noise=None):\n",
    "        if self.noise_dim > 0:\n",
    "            batch_size, seq_len, _ = beatmap_features.shape\n",
    "            \n",
    "            # Generate noise if not provided\n",
    "            if noise is None:\n",
    "                noise = torch.randn(batch_size, seq_len, self.noise_dim, device=beatmap_features.device)\n",
    "            \n",
    "            # Concatenate beatmap features with noise\n",
    "            x = torch.cat([beatmap_features, noise], dim=-1)\n",
    "        else:\n",
    "            # No noise - use beatmap features directly\n",
    "            x = beatmap_features\n",
    "        \n",
    "        # LSTM processing\n",
    "        lstm_out, _ = self.lstm(x)\n",
    "        \n",
    "        # Dense layers with dropout\n",
    "        x = F.relu(self.dense1(lstm_out))\n",
    "        x = self.dropout(x)\n",
    "        x = F.relu(self.dense2(x))\n",
    "        x = self.dropout(x)\n",
    "        x = self.position(x)\n",
    "        \n",
    "        return x\n",
    "\n",
    "class Discriminator(nn.Module):\n",
    "    def __init__(self, input_size, output_size):\n",
    "        super(Discriminator, self).__init__()\n",
    "        \n",
    "        # Input: beatmap features + cursor positions\n",
    "        combined_input_size = input_size + output_size\n",
    "        \n",
    "        # LSTM for processing sequences\n",
    "        self.lstm = nn.LSTM(combined_input_size, 64, num_layers=2, batch_first=True, dropout=0.2)\n",
    "        \n",
    "        # Dense layers for classification\n",
    "        self.dense1 = nn.Linear(64, 32)\n",
    "        self.dense2 = nn.Linear(32, 16)\n",
    "        self.classifier = nn.Linear(16, 1)\n",
    "        \n",
    "        self.dropout = nn.Dropout(0.3)\n",
    "        \n",
    "    def forward(self, beatmap_features, cursor_positions):\n",
    "        # Concatenate beatmap features with cursor positions\n",
    "        x = torch.cat([beatmap_features, cursor_positions], dim=-1)\n",
    "        \n",
    "        # LSTM processing\n",
    "        lstm_out, _ = self.lstm(x)\n",
    "        \n",
    "        # Take the last output for classification\n",
    "        x = lstm_out[:, -1, :]  # Use last timestep\n",
    "        \n",
    "        # Dense layers with dropout\n",
    "        x = F.relu(self.dense1(x))\n",
    "        x = self.dropout(x)\n",
    "        x = F.relu(self.dense2(x))\n",
    "        x = self.dropout(x)\n",
    "        x = torch.sigmoid(self.classifier(x))\n",
    "        \n",
    "        return x"
   ],
   "metadata": {
    "collapsed": false,
    "ExecuteTime": {
     "end_time": "2025-07-12T18:54:23.165813800Z",
     "start_time": "2025-07-12T18:54:23.045910600Z"
    }
   },
   "id": "d8326174cabfdeb8"
  },
  {
   "cell_type": "code",
   "execution_count": 12,
   "outputs": [
    {
     "name": "stdout",
     "output_type": "stream",
     "text": [
      "Creating RNN model...\n",
      "RNN Model initialized on cuda (noise_std=0.05)\n",
      "Model parameters: 23410\n"
     ]
    }
   ],
   "source": [
    "print(\"Creating RNN model...\")\n",
    "rnn = OsuReplayRNN(xs, ys, noise_std=0.05)"
   ],
   "metadata": {
    "collapsed": false,
    "ExecuteTime": {
     "end_time": "2025-07-12T18:54:26.593637800Z",
     "start_time": "2025-07-12T18:54:23.050814Z"
    }
   },
   "id": "5b09ee4f3a71a037"
  },
  {
   "cell_type": "code",
   "outputs": [
    {
     "name": "stderr",
     "output_type": "stream",
     "text": [
      "Epoch 1/150 (Train): 100%|██████████| 204/204 [00:03<00:00, 56.28it/s]\n"
     ]
    },
    {
     "name": "stdout",
     "output_type": "stream",
     "text": [
      "Epoch 1/150, Train Loss: 0.0063, Test Loss: 0.0025\n"
     ]
    },
    {
     "name": "stderr",
     "output_type": "stream",
     "text": [
      "Epoch 2/150 (Train): 100%|██████████| 204/204 [00:02<00:00, 83.98it/s]\n"
     ]
    },
    {
     "name": "stdout",
     "output_type": "stream",
     "text": [
      "Epoch 2/150, Train Loss: 0.0024, Test Loss: 0.0021\n"
     ]
    },
    {
     "name": "stderr",
     "output_type": "stream",
     "text": [
      "Epoch 3/150 (Train): 100%|██████████| 204/204 [00:02<00:00, 84.37it/s]\n"
     ]
    },
    {
     "name": "stdout",
     "output_type": "stream",
     "text": [
      "Epoch 3/150, Train Loss: 0.0021, Test Loss: 0.0021\n"
     ]
    },
    {
     "name": "stderr",
     "output_type": "stream",
     "text": [
      "Epoch 4/150 (Train): 100%|██████████| 204/204 [00:02<00:00, 84.08it/s]\n"
     ]
    },
    {
     "name": "stdout",
     "output_type": "stream",
     "text": [
      "Epoch 4/150, Train Loss: 0.0020, Test Loss: 0.0020\n"
     ]
    },
    {
     "name": "stderr",
     "output_type": "stream",
     "text": [
      "Epoch 5/150 (Train): 100%|██████████| 204/204 [00:02<00:00, 83.74it/s]\n"
     ]
    },
    {
     "name": "stdout",
     "output_type": "stream",
     "text": [
      "Epoch 5/150, Train Loss: 0.0020, Test Loss: 0.0019\n"
     ]
    },
    {
     "name": "stderr",
     "output_type": "stream",
     "text": [
      "Epoch 6/150 (Train): 100%|██████████| 204/204 [00:02<00:00, 83.59it/s]\n"
     ]
    },
    {
     "name": "stdout",
     "output_type": "stream",
     "text": [
      "Epoch 6/150, Train Loss: 0.0019, Test Loss: 0.0019\n"
     ]
    },
    {
     "name": "stderr",
     "output_type": "stream",
     "text": [
      "Epoch 7/150 (Train): 100%|██████████| 204/204 [00:02<00:00, 83.16it/s]\n"
     ]
    },
    {
     "name": "stdout",
     "output_type": "stream",
     "text": [
      "Epoch 7/150, Train Loss: 0.0019, Test Loss: 0.0019\n"
     ]
    },
    {
     "name": "stderr",
     "output_type": "stream",
     "text": [
      "Epoch 8/150 (Train): 100%|██████████| 204/204 [00:02<00:00, 81.77it/s]\n"
     ]
    },
    {
     "name": "stdout",
     "output_type": "stream",
     "text": [
      "Epoch 8/150, Train Loss: 0.0019, Test Loss: 0.0018\n"
     ]
    },
    {
     "name": "stderr",
     "output_type": "stream",
     "text": [
      "Epoch 9/150 (Train): 100%|██████████| 204/204 [00:02<00:00, 82.47it/s]\n"
     ]
    },
    {
     "name": "stdout",
     "output_type": "stream",
     "text": [
      "Epoch 9/150, Train Loss: 0.0018, Test Loss: 0.0018\n"
     ]
    },
    {
     "name": "stderr",
     "output_type": "stream",
     "text": [
      "Epoch 10/150 (Train): 100%|██████████| 204/204 [00:02<00:00, 83.62it/s]\n"
     ]
    },
    {
     "name": "stdout",
     "output_type": "stream",
     "text": [
      "Epoch 10/150, Train Loss: 0.0018, Test Loss: 0.0018\n"
     ]
    },
    {
     "name": "stderr",
     "output_type": "stream",
     "text": [
      "Epoch 11/150 (Train): 100%|██████████| 204/204 [00:02<00:00, 82.41it/s]\n"
     ]
    },
    {
     "name": "stdout",
     "output_type": "stream",
     "text": [
      "Epoch 11/150, Train Loss: 0.0018, Test Loss: 0.0018\n"
     ]
    },
    {
     "name": "stderr",
     "output_type": "stream",
     "text": [
      "Epoch 12/150 (Train): 100%|██████████| 204/204 [00:02<00:00, 82.64it/s]\n"
     ]
    },
    {
     "name": "stdout",
     "output_type": "stream",
     "text": [
      "Epoch 12/150, Train Loss: 0.0018, Test Loss: 0.0018\n"
     ]
    },
    {
     "name": "stderr",
     "output_type": "stream",
     "text": [
      "Epoch 13/150 (Train): 100%|██████████| 204/204 [00:02<00:00, 83.35it/s]\n"
     ]
    },
    {
     "name": "stdout",
     "output_type": "stream",
     "text": [
      "Epoch 13/150, Train Loss: 0.0018, Test Loss: 0.0018\n"
     ]
    },
    {
     "name": "stderr",
     "output_type": "stream",
     "text": [
      "Epoch 14/150 (Train): 100%|██████████| 204/204 [00:02<00:00, 81.92it/s]\n"
     ]
    },
    {
     "name": "stdout",
     "output_type": "stream",
     "text": [
      "Epoch 14/150, Train Loss: 0.0018, Test Loss: 0.0018\n"
     ]
    },
    {
     "name": "stderr",
     "output_type": "stream",
     "text": [
      "Epoch 15/150 (Train): 100%|██████████| 204/204 [00:02<00:00, 83.09it/s]\n"
     ]
    },
    {
     "name": "stdout",
     "output_type": "stream",
     "text": [
      "Epoch 15/150, Train Loss: 0.0018, Test Loss: 0.0018\n"
     ]
    },
    {
     "name": "stderr",
     "output_type": "stream",
     "text": [
      "Epoch 16/150 (Train): 100%|██████████| 204/204 [00:02<00:00, 82.93it/s]\n"
     ]
    },
    {
     "name": "stdout",
     "output_type": "stream",
     "text": [
      "Epoch 16/150, Train Loss: 0.0017, Test Loss: 0.0017\n"
     ]
    },
    {
     "name": "stderr",
     "output_type": "stream",
     "text": [
      "Epoch 17/150 (Train): 100%|██████████| 204/204 [00:02<00:00, 82.27it/s]\n"
     ]
    },
    {
     "name": "stdout",
     "output_type": "stream",
     "text": [
      "Epoch 17/150, Train Loss: 0.0017, Test Loss: 0.0017\n"
     ]
    },
    {
     "name": "stderr",
     "output_type": "stream",
     "text": [
      "Epoch 18/150 (Train): 100%|██████████| 204/204 [00:02<00:00, 82.33it/s]\n"
     ]
    },
    {
     "name": "stdout",
     "output_type": "stream",
     "text": [
      "Epoch 18/150, Train Loss: 0.0017, Test Loss: 0.0017\n"
     ]
    },
    {
     "name": "stderr",
     "output_type": "stream",
     "text": [
      "Epoch 19/150 (Train): 100%|██████████| 204/204 [00:02<00:00, 82.42it/s]\n"
     ]
    },
    {
     "name": "stdout",
     "output_type": "stream",
     "text": [
      "Epoch 19/150, Train Loss: 0.0017, Test Loss: 0.0017\n"
     ]
    },
    {
     "name": "stderr",
     "output_type": "stream",
     "text": [
      "Epoch 20/150 (Train): 100%|██████████| 204/204 [00:02<00:00, 82.61it/s]\n"
     ]
    },
    {
     "name": "stdout",
     "output_type": "stream",
     "text": [
      "Epoch 20/150, Train Loss: 0.0017, Test Loss: 0.0017\n"
     ]
    },
    {
     "name": "stderr",
     "output_type": "stream",
     "text": [
      "Epoch 21/150 (Train): 100%|██████████| 204/204 [00:02<00:00, 82.10it/s]\n"
     ]
    },
    {
     "name": "stdout",
     "output_type": "stream",
     "text": [
      "Epoch 21/150, Train Loss: 0.0017, Test Loss: 0.0017\n"
     ]
    },
    {
     "name": "stderr",
     "output_type": "stream",
     "text": [
      "Epoch 22/150 (Train): 100%|██████████| 204/204 [00:02<00:00, 82.72it/s]\n"
     ]
    },
    {
     "name": "stdout",
     "output_type": "stream",
     "text": [
      "Epoch 22/150, Train Loss: 0.0017, Test Loss: 0.0017\n"
     ]
    },
    {
     "name": "stderr",
     "output_type": "stream",
     "text": [
      "Epoch 23/150 (Train): 100%|██████████| 204/204 [00:02<00:00, 82.80it/s]\n"
     ]
    },
    {
     "name": "stdout",
     "output_type": "stream",
     "text": [
      "Epoch 23/150, Train Loss: 0.0017, Test Loss: 0.0017\n"
     ]
    },
    {
     "name": "stderr",
     "output_type": "stream",
     "text": [
      "Epoch 24/150 (Train): 100%|██████████| 204/204 [00:02<00:00, 83.16it/s]\n"
     ]
    },
    {
     "name": "stdout",
     "output_type": "stream",
     "text": [
      "Epoch 24/150, Train Loss: 0.0016, Test Loss: 0.0017\n"
     ]
    },
    {
     "name": "stderr",
     "output_type": "stream",
     "text": [
      "Epoch 25/150 (Train): 100%|██████████| 204/204 [00:02<00:00, 82.88it/s]\n"
     ]
    },
    {
     "name": "stdout",
     "output_type": "stream",
     "text": [
      "Epoch 25/150, Train Loss: 0.0016, Test Loss: 0.0016\n"
     ]
    },
    {
     "name": "stderr",
     "output_type": "stream",
     "text": [
      "Epoch 26/150 (Train): 100%|██████████| 204/204 [00:02<00:00, 83.65it/s]\n"
     ]
    },
    {
     "name": "stdout",
     "output_type": "stream",
     "text": [
      "Epoch 26/150, Train Loss: 0.0016, Test Loss: 0.0016\n"
     ]
    },
    {
     "name": "stderr",
     "output_type": "stream",
     "text": [
      "Epoch 27/150 (Train): 100%|██████████| 204/204 [00:02<00:00, 82.48it/s]\n"
     ]
    },
    {
     "name": "stdout",
     "output_type": "stream",
     "text": [
      "Epoch 27/150, Train Loss: 0.0016, Test Loss: 0.0016\n"
     ]
    },
    {
     "name": "stderr",
     "output_type": "stream",
     "text": [
      "Epoch 28/150 (Train): 100%|██████████| 204/204 [00:02<00:00, 83.06it/s]\n"
     ]
    },
    {
     "name": "stdout",
     "output_type": "stream",
     "text": [
      "Epoch 28/150, Train Loss: 0.0016, Test Loss: 0.0016\n"
     ]
    },
    {
     "name": "stderr",
     "output_type": "stream",
     "text": [
      "Epoch 29/150 (Train): 100%|██████████| 204/204 [00:02<00:00, 82.57it/s]\n"
     ]
    },
    {
     "name": "stdout",
     "output_type": "stream",
     "text": [
      "Epoch 29/150, Train Loss: 0.0016, Test Loss: 0.0016\n"
     ]
    },
    {
     "name": "stderr",
     "output_type": "stream",
     "text": [
      "Epoch 30/150 (Train): 100%|██████████| 204/204 [00:02<00:00, 82.26it/s]\n"
     ]
    },
    {
     "name": "stdout",
     "output_type": "stream",
     "text": [
      "Epoch 30/150, Train Loss: 0.0016, Test Loss: 0.0016\n"
     ]
    },
    {
     "name": "stderr",
     "output_type": "stream",
     "text": [
      "Epoch 31/150 (Train): 100%|██████████| 204/204 [00:02<00:00, 82.64it/s]\n"
     ]
    },
    {
     "name": "stdout",
     "output_type": "stream",
     "text": [
      "Epoch 31/150, Train Loss: 0.0016, Test Loss: 0.0016\n"
     ]
    },
    {
     "name": "stderr",
     "output_type": "stream",
     "text": [
      "Epoch 32/150 (Train): 100%|██████████| 204/204 [00:02<00:00, 82.80it/s]\n"
     ]
    },
    {
     "name": "stdout",
     "output_type": "stream",
     "text": [
      "Epoch 32/150, Train Loss: 0.0016, Test Loss: 0.0016\n"
     ]
    },
    {
     "name": "stderr",
     "output_type": "stream",
     "text": [
      "Epoch 33/150 (Train): 100%|██████████| 204/204 [00:02<00:00, 81.71it/s]\n"
     ]
    },
    {
     "name": "stdout",
     "output_type": "stream",
     "text": [
      "Epoch 33/150, Train Loss: 0.0016, Test Loss: 0.0016\n"
     ]
    },
    {
     "name": "stderr",
     "output_type": "stream",
     "text": [
      "Epoch 34/150 (Train): 100%|██████████| 204/204 [00:02<00:00, 82.94it/s]\n"
     ]
    },
    {
     "name": "stdout",
     "output_type": "stream",
     "text": [
      "Epoch 34/150, Train Loss: 0.0016, Test Loss: 0.0016\n"
     ]
    },
    {
     "name": "stderr",
     "output_type": "stream",
     "text": [
      "Epoch 35/150 (Train): 100%|██████████| 204/204 [00:02<00:00, 82.39it/s]\n"
     ]
    },
    {
     "name": "stdout",
     "output_type": "stream",
     "text": [
      "Epoch 35/150, Train Loss: 0.0016, Test Loss: 0.0016\n"
     ]
    },
    {
     "name": "stderr",
     "output_type": "stream",
     "text": [
      "Epoch 36/150 (Train): 100%|██████████| 204/204 [00:02<00:00, 81.64it/s]\n"
     ]
    },
    {
     "name": "stdout",
     "output_type": "stream",
     "text": [
      "Epoch 36/150, Train Loss: 0.0016, Test Loss: 0.0016\n"
     ]
    },
    {
     "name": "stderr",
     "output_type": "stream",
     "text": [
      "Epoch 37/150 (Train): 100%|██████████| 204/204 [00:02<00:00, 82.61it/s]\n"
     ]
    },
    {
     "name": "stdout",
     "output_type": "stream",
     "text": [
      "Epoch 37/150, Train Loss: 0.0016, Test Loss: 0.0016\n"
     ]
    },
    {
     "name": "stderr",
     "output_type": "stream",
     "text": [
      "Epoch 38/150 (Train): 100%|██████████| 204/204 [00:02<00:00, 83.35it/s]\n"
     ]
    },
    {
     "name": "stdout",
     "output_type": "stream",
     "text": [
      "Epoch 38/150, Train Loss: 0.0016, Test Loss: 0.0016\n"
     ]
    },
    {
     "name": "stderr",
     "output_type": "stream",
     "text": [
      "Epoch 39/150 (Train): 100%|██████████| 204/204 [00:02<00:00, 82.64it/s]\n"
     ]
    },
    {
     "name": "stdout",
     "output_type": "stream",
     "text": [
      "Epoch 39/150, Train Loss: 0.0016, Test Loss: 0.0016\n"
     ]
    },
    {
     "name": "stderr",
     "output_type": "stream",
     "text": [
      "Epoch 40/150 (Train): 100%|██████████| 204/204 [00:02<00:00, 82.47it/s]\n"
     ]
    },
    {
     "name": "stdout",
     "output_type": "stream",
     "text": [
      "Epoch 40/150, Train Loss: 0.0016, Test Loss: 0.0016\n"
     ]
    },
    {
     "name": "stderr",
     "output_type": "stream",
     "text": [
      "Epoch 41/150 (Train): 100%|██████████| 204/204 [00:02<00:00, 82.65it/s]\n"
     ]
    },
    {
     "name": "stdout",
     "output_type": "stream",
     "text": [
      "Epoch 41/150, Train Loss: 0.0016, Test Loss: 0.0016\n"
     ]
    },
    {
     "name": "stderr",
     "output_type": "stream",
     "text": [
      "Epoch 42/150 (Train): 100%|██████████| 204/204 [00:02<00:00, 82.30it/s]\n"
     ]
    },
    {
     "name": "stdout",
     "output_type": "stream",
     "text": [
      "Epoch 42/150, Train Loss: 0.0016, Test Loss: 0.0016\n"
     ]
    },
    {
     "name": "stderr",
     "output_type": "stream",
     "text": [
      "Epoch 43/150 (Train): 100%|██████████| 204/204 [00:02<00:00, 83.29it/s]\n"
     ]
    },
    {
     "name": "stdout",
     "output_type": "stream",
     "text": [
      "Epoch 43/150, Train Loss: 0.0016, Test Loss: 0.0016\n"
     ]
    },
    {
     "name": "stderr",
     "output_type": "stream",
     "text": [
      "Epoch 44/150 (Train): 100%|██████████| 204/204 [00:02<00:00, 82.84it/s]\n"
     ]
    },
    {
     "name": "stdout",
     "output_type": "stream",
     "text": [
      "Epoch 44/150, Train Loss: 0.0016, Test Loss: 0.0016\n"
     ]
    },
    {
     "name": "stderr",
     "output_type": "stream",
     "text": [
      "Epoch 45/150 (Train): 100%|██████████| 204/204 [00:02<00:00, 82.17it/s]\n"
     ]
    },
    {
     "name": "stdout",
     "output_type": "stream",
     "text": [
      "Epoch 45/150, Train Loss: 0.0016, Test Loss: 0.0016\n"
     ]
    },
    {
     "name": "stderr",
     "output_type": "stream",
     "text": [
      "Epoch 46/150 (Train): 100%|██████████| 204/204 [00:02<00:00, 83.06it/s]\n"
     ]
    },
    {
     "name": "stdout",
     "output_type": "stream",
     "text": [
      "Epoch 46/150, Train Loss: 0.0016, Test Loss: 0.0016\n"
     ]
    },
    {
     "name": "stderr",
     "output_type": "stream",
     "text": [
      "Epoch 47/150 (Train): 100%|██████████| 204/204 [00:02<00:00, 83.32it/s]\n"
     ]
    },
    {
     "name": "stdout",
     "output_type": "stream",
     "text": [
      "Epoch 47/150, Train Loss: 0.0015, Test Loss: 0.0016\n"
     ]
    },
    {
     "name": "stderr",
     "output_type": "stream",
     "text": [
      "Epoch 48/150 (Train): 100%|██████████| 204/204 [00:02<00:00, 82.43it/s]\n"
     ]
    },
    {
     "name": "stdout",
     "output_type": "stream",
     "text": [
      "Epoch 48/150, Train Loss: 0.0015, Test Loss: 0.0016\n"
     ]
    },
    {
     "name": "stderr",
     "output_type": "stream",
     "text": [
      "Epoch 49/150 (Train): 100%|██████████| 204/204 [00:02<00:00, 82.63it/s]\n"
     ]
    },
    {
     "name": "stdout",
     "output_type": "stream",
     "text": [
      "Epoch 49/150, Train Loss: 0.0015, Test Loss: 0.0015\n"
     ]
    },
    {
     "name": "stderr",
     "output_type": "stream",
     "text": [
      "Epoch 50/150 (Train): 100%|██████████| 204/204 [00:02<00:00, 82.54it/s]\n"
     ]
    },
    {
     "name": "stdout",
     "output_type": "stream",
     "text": [
      "Epoch 50/150, Train Loss: 0.0015, Test Loss: 0.0015\n"
     ]
    },
    {
     "name": "stderr",
     "output_type": "stream",
     "text": [
      "Epoch 51/150 (Train): 100%|██████████| 204/204 [00:02<00:00, 82.56it/s]\n"
     ]
    },
    {
     "name": "stdout",
     "output_type": "stream",
     "text": [
      "Epoch 51/150, Train Loss: 0.0015, Test Loss: 0.0015\n"
     ]
    },
    {
     "name": "stderr",
     "output_type": "stream",
     "text": [
      "Epoch 52/150 (Train): 100%|██████████| 204/204 [00:02<00:00, 83.09it/s]\n"
     ]
    },
    {
     "name": "stdout",
     "output_type": "stream",
     "text": [
      "Epoch 52/150, Train Loss: 0.0015, Test Loss: 0.0016\n"
     ]
    },
    {
     "name": "stderr",
     "output_type": "stream",
     "text": [
      "Epoch 53/150 (Train): 100%|██████████| 204/204 [00:02<00:00, 83.69it/s]\n"
     ]
    },
    {
     "name": "stdout",
     "output_type": "stream",
     "text": [
      "Epoch 53/150, Train Loss: 0.0015, Test Loss: 0.0016\n"
     ]
    },
    {
     "name": "stderr",
     "output_type": "stream",
     "text": [
      "Epoch 54/150 (Train): 100%|██████████| 204/204 [00:02<00:00, 82.75it/s]\n"
     ]
    },
    {
     "name": "stdout",
     "output_type": "stream",
     "text": [
      "Epoch 54/150, Train Loss: 0.0015, Test Loss: 0.0016\n"
     ]
    },
    {
     "name": "stderr",
     "output_type": "stream",
     "text": [
      "Epoch 55/150 (Train): 100%|██████████| 204/204 [00:02<00:00, 83.36it/s]\n"
     ]
    },
    {
     "name": "stdout",
     "output_type": "stream",
     "text": [
      "Epoch 55/150, Train Loss: 0.0016, Test Loss: 0.0016\n"
     ]
    },
    {
     "name": "stderr",
     "output_type": "stream",
     "text": [
      "Epoch 56/150 (Train): 100%|██████████| 204/204 [00:02<00:00, 82.90it/s]\n"
     ]
    },
    {
     "name": "stdout",
     "output_type": "stream",
     "text": [
      "Epoch 56/150, Train Loss: 0.0016, Test Loss: 0.0015\n"
     ]
    },
    {
     "name": "stderr",
     "output_type": "stream",
     "text": [
      "Epoch 57/150 (Train): 100%|██████████| 204/204 [00:02<00:00, 82.69it/s]\n"
     ]
    },
    {
     "name": "stdout",
     "output_type": "stream",
     "text": [
      "Epoch 57/150, Train Loss: 0.0015, Test Loss: 0.0015\n"
     ]
    },
    {
     "name": "stderr",
     "output_type": "stream",
     "text": [
      "Epoch 58/150 (Train): 100%|██████████| 204/204 [00:02<00:00, 82.83it/s]\n"
     ]
    },
    {
     "name": "stdout",
     "output_type": "stream",
     "text": [
      "Epoch 58/150, Train Loss: 0.0015, Test Loss: 0.0015\n"
     ]
    },
    {
     "name": "stderr",
     "output_type": "stream",
     "text": [
      "Epoch 59/150 (Train): 100%|██████████| 204/204 [00:02<00:00, 82.90it/s]\n"
     ]
    },
    {
     "name": "stdout",
     "output_type": "stream",
     "text": [
      "Epoch 59/150, Train Loss: 0.0015, Test Loss: 0.0015\n"
     ]
    },
    {
     "name": "stderr",
     "output_type": "stream",
     "text": [
      "Epoch 60/150 (Train): 100%|██████████| 204/204 [00:02<00:00, 82.23it/s]\n"
     ]
    },
    {
     "name": "stdout",
     "output_type": "stream",
     "text": [
      "Epoch 60/150, Train Loss: 0.0015, Test Loss: 0.0015\n"
     ]
    },
    {
     "name": "stderr",
     "output_type": "stream",
     "text": [
      "Epoch 61/150 (Train): 100%|██████████| 204/204 [00:02<00:00, 83.41it/s]\n"
     ]
    },
    {
     "name": "stdout",
     "output_type": "stream",
     "text": [
      "Epoch 61/150, Train Loss: 0.0015, Test Loss: 0.0015\n"
     ]
    },
    {
     "name": "stderr",
     "output_type": "stream",
     "text": [
      "Epoch 62/150 (Train): 100%|██████████| 204/204 [00:02<00:00, 82.99it/s]\n"
     ]
    },
    {
     "name": "stdout",
     "output_type": "stream",
     "text": [
      "Epoch 62/150, Train Loss: 0.0015, Test Loss: 0.0015\n"
     ]
    },
    {
     "name": "stderr",
     "output_type": "stream",
     "text": [
      "Epoch 63/150 (Train): 100%|██████████| 204/204 [00:02<00:00, 82.75it/s]\n"
     ]
    },
    {
     "name": "stdout",
     "output_type": "stream",
     "text": [
      "Epoch 63/150, Train Loss: 0.0015, Test Loss: 0.0015\n"
     ]
    },
    {
     "name": "stderr",
     "output_type": "stream",
     "text": [
      "Epoch 64/150 (Train): 100%|██████████| 204/204 [00:02<00:00, 83.65it/s]\n"
     ]
    },
    {
     "name": "stdout",
     "output_type": "stream",
     "text": [
      "Epoch 64/150, Train Loss: 0.0015, Test Loss: 0.0015\n"
     ]
    },
    {
     "name": "stderr",
     "output_type": "stream",
     "text": [
      "Epoch 65/150 (Train): 100%|██████████| 204/204 [00:02<00:00, 83.45it/s]\n"
     ]
    },
    {
     "name": "stdout",
     "output_type": "stream",
     "text": [
      "Epoch 65/150, Train Loss: 0.0015, Test Loss: 0.0015\n"
     ]
    },
    {
     "name": "stderr",
     "output_type": "stream",
     "text": [
      "Epoch 66/150 (Train): 100%|██████████| 204/204 [00:02<00:00, 83.01it/s]\n"
     ]
    },
    {
     "name": "stdout",
     "output_type": "stream",
     "text": [
      "Epoch 66/150, Train Loss: 0.0015, Test Loss: 0.0015\n"
     ]
    },
    {
     "name": "stderr",
     "output_type": "stream",
     "text": [
      "Epoch 67/150 (Train): 100%|██████████| 204/204 [00:02<00:00, 82.82it/s]\n"
     ]
    },
    {
     "name": "stdout",
     "output_type": "stream",
     "text": [
      "Epoch 67/150, Train Loss: 0.0015, Test Loss: 0.0015\n"
     ]
    },
    {
     "name": "stderr",
     "output_type": "stream",
     "text": [
      "Epoch 68/150 (Train): 100%|██████████| 204/204 [00:02<00:00, 82.45it/s]\n"
     ]
    },
    {
     "name": "stdout",
     "output_type": "stream",
     "text": [
      "Epoch 68/150, Train Loss: 0.0015, Test Loss: 0.0015\n"
     ]
    },
    {
     "name": "stderr",
     "output_type": "stream",
     "text": [
      "Epoch 69/150 (Train): 100%|██████████| 204/204 [00:02<00:00, 81.74it/s]\n"
     ]
    },
    {
     "name": "stdout",
     "output_type": "stream",
     "text": [
      "Epoch 69/150, Train Loss: 0.0015, Test Loss: 0.0015\n"
     ]
    },
    {
     "name": "stderr",
     "output_type": "stream",
     "text": [
      "Epoch 70/150 (Train): 100%|██████████| 204/204 [00:02<00:00, 82.52it/s]\n"
     ]
    },
    {
     "name": "stdout",
     "output_type": "stream",
     "text": [
      "Epoch 70/150, Train Loss: 0.0015, Test Loss: 0.0015\n"
     ]
    },
    {
     "name": "stderr",
     "output_type": "stream",
     "text": [
      "Epoch 71/150 (Train): 100%|██████████| 204/204 [00:02<00:00, 82.96it/s]\n"
     ]
    },
    {
     "name": "stdout",
     "output_type": "stream",
     "text": [
      "Epoch 71/150, Train Loss: 0.0015, Test Loss: 0.0015\n"
     ]
    },
    {
     "name": "stderr",
     "output_type": "stream",
     "text": [
      "Epoch 72/150 (Train): 100%|██████████| 204/204 [00:02<00:00, 81.85it/s]\n"
     ]
    },
    {
     "name": "stdout",
     "output_type": "stream",
     "text": [
      "Epoch 72/150, Train Loss: 0.0015, Test Loss: 0.0015\n"
     ]
    },
    {
     "name": "stderr",
     "output_type": "stream",
     "text": [
      "Epoch 73/150 (Train): 100%|██████████| 204/204 [00:02<00:00, 82.55it/s]\n"
     ]
    },
    {
     "name": "stdout",
     "output_type": "stream",
     "text": [
      "Epoch 73/150, Train Loss: 0.0015, Test Loss: 0.0015\n"
     ]
    },
    {
     "name": "stderr",
     "output_type": "stream",
     "text": [
      "Epoch 74/150 (Train): 100%|██████████| 204/204 [00:02<00:00, 82.68it/s]\n"
     ]
    },
    {
     "name": "stdout",
     "output_type": "stream",
     "text": [
      "Epoch 74/150, Train Loss: 0.0015, Test Loss: 0.0015\n"
     ]
    },
    {
     "name": "stderr",
     "output_type": "stream",
     "text": [
      "Epoch 75/150 (Train): 100%|██████████| 204/204 [00:02<00:00, 82.23it/s]\n"
     ]
    },
    {
     "name": "stdout",
     "output_type": "stream",
     "text": [
      "Epoch 75/150, Train Loss: 0.0015, Test Loss: 0.0015\n"
     ]
    },
    {
     "name": "stderr",
     "output_type": "stream",
     "text": [
      "Epoch 76/150 (Train): 100%|██████████| 204/204 [00:02<00:00, 82.54it/s]\n"
     ]
    },
    {
     "name": "stdout",
     "output_type": "stream",
     "text": [
      "Epoch 76/150, Train Loss: 0.0015, Test Loss: 0.0015\n"
     ]
    },
    {
     "name": "stderr",
     "output_type": "stream",
     "text": [
      "Epoch 77/150 (Train): 100%|██████████| 204/204 [00:02<00:00, 83.13it/s]\n"
     ]
    },
    {
     "name": "stdout",
     "output_type": "stream",
     "text": [
      "Epoch 77/150, Train Loss: 0.0015, Test Loss: 0.0015\n"
     ]
    },
    {
     "name": "stderr",
     "output_type": "stream",
     "text": [
      "Epoch 78/150 (Train): 100%|██████████| 204/204 [00:02<00:00, 83.00it/s]\n"
     ]
    },
    {
     "name": "stdout",
     "output_type": "stream",
     "text": [
      "Epoch 78/150, Train Loss: 0.0015, Test Loss: 0.0015\n"
     ]
    },
    {
     "name": "stderr",
     "output_type": "stream",
     "text": [
      "Epoch 79/150 (Train): 100%|██████████| 204/204 [00:02<00:00, 83.17it/s]\n"
     ]
    },
    {
     "name": "stdout",
     "output_type": "stream",
     "text": [
      "Epoch 79/150, Train Loss: 0.0015, Test Loss: 0.0015\n"
     ]
    },
    {
     "name": "stderr",
     "output_type": "stream",
     "text": [
      "Epoch 80/150 (Train): 100%|██████████| 204/204 [00:02<00:00, 83.81it/s]\n"
     ]
    },
    {
     "name": "stdout",
     "output_type": "stream",
     "text": [
      "Epoch 80/150, Train Loss: 0.0015, Test Loss: 0.0015\n"
     ]
    },
    {
     "name": "stderr",
     "output_type": "stream",
     "text": [
      "Epoch 81/150 (Train): 100%|██████████| 204/204 [00:02<00:00, 83.00it/s]\n"
     ]
    },
    {
     "name": "stdout",
     "output_type": "stream",
     "text": [
      "Epoch 81/150, Train Loss: 0.0015, Test Loss: 0.0015\n"
     ]
    },
    {
     "name": "stderr",
     "output_type": "stream",
     "text": [
      "Epoch 82/150 (Train): 100%|██████████| 204/204 [00:02<00:00, 82.91it/s]\n"
     ]
    },
    {
     "name": "stdout",
     "output_type": "stream",
     "text": [
      "Epoch 82/150, Train Loss: 0.0015, Test Loss: 0.0015\n"
     ]
    },
    {
     "name": "stderr",
     "output_type": "stream",
     "text": [
      "Epoch 83/150 (Train): 100%|██████████| 204/204 [00:02<00:00, 82.94it/s]\n"
     ]
    },
    {
     "name": "stdout",
     "output_type": "stream",
     "text": [
      "Epoch 83/150, Train Loss: 0.0015, Test Loss: 0.0015\n"
     ]
    },
    {
     "name": "stderr",
     "output_type": "stream",
     "text": [
      "Epoch 84/150 (Train): 100%|██████████| 204/204 [00:02<00:00, 83.38it/s]\n"
     ]
    },
    {
     "name": "stdout",
     "output_type": "stream",
     "text": [
      "Epoch 84/150, Train Loss: 0.0015, Test Loss: 0.0015\n"
     ]
    },
    {
     "name": "stderr",
     "output_type": "stream",
     "text": [
      "Epoch 85/150 (Train): 100%|██████████| 204/204 [00:02<00:00, 83.44it/s]\n"
     ]
    },
    {
     "name": "stdout",
     "output_type": "stream",
     "text": [
      "Epoch 85/150, Train Loss: 0.0015, Test Loss: 0.0015\n"
     ]
    },
    {
     "name": "stderr",
     "output_type": "stream",
     "text": [
      "Epoch 86/150 (Train): 100%|██████████| 204/204 [00:02<00:00, 84.64it/s]\n"
     ]
    },
    {
     "name": "stdout",
     "output_type": "stream",
     "text": [
      "Epoch 86/150, Train Loss: 0.0015, Test Loss: 0.0015\n"
     ]
    },
    {
     "name": "stderr",
     "output_type": "stream",
     "text": [
      "Epoch 87/150 (Train): 100%|██████████| 204/204 [00:02<00:00, 84.19it/s]\n"
     ]
    },
    {
     "name": "stdout",
     "output_type": "stream",
     "text": [
      "Epoch 87/150, Train Loss: 0.0015, Test Loss: 0.0015\n"
     ]
    },
    {
     "name": "stderr",
     "output_type": "stream",
     "text": [
      "Epoch 88/150 (Train): 100%|██████████| 204/204 [00:02<00:00, 84.61it/s]\n"
     ]
    },
    {
     "name": "stdout",
     "output_type": "stream",
     "text": [
      "Epoch 88/150, Train Loss: 0.0015, Test Loss: 0.0015\n"
     ]
    },
    {
     "name": "stderr",
     "output_type": "stream",
     "text": [
      "Epoch 89/150 (Train): 100%|██████████| 204/204 [00:02<00:00, 84.07it/s]\n"
     ]
    },
    {
     "name": "stdout",
     "output_type": "stream",
     "text": [
      "Epoch 89/150, Train Loss: 0.0015, Test Loss: 0.0015\n"
     ]
    },
    {
     "name": "stderr",
     "output_type": "stream",
     "text": [
      "Epoch 90/150 (Train): 100%|██████████| 204/204 [00:02<00:00, 83.71it/s]\n"
     ]
    },
    {
     "name": "stdout",
     "output_type": "stream",
     "text": [
      "Epoch 90/150, Train Loss: 0.0015, Test Loss: 0.0015\n"
     ]
    },
    {
     "name": "stderr",
     "output_type": "stream",
     "text": [
      "Epoch 91/150 (Train): 100%|██████████| 204/204 [00:02<00:00, 83.53it/s]\n"
     ]
    },
    {
     "name": "stdout",
     "output_type": "stream",
     "text": [
      "Epoch 91/150, Train Loss: 0.0015, Test Loss: 0.0015\n"
     ]
    },
    {
     "name": "stderr",
     "output_type": "stream",
     "text": [
      "Epoch 92/150 (Train): 100%|██████████| 204/204 [00:02<00:00, 83.25it/s]\n"
     ]
    },
    {
     "name": "stdout",
     "output_type": "stream",
     "text": [
      "Epoch 92/150, Train Loss: 0.0015, Test Loss: 0.0015\n"
     ]
    },
    {
     "name": "stderr",
     "output_type": "stream",
     "text": [
      "Epoch 93/150 (Train): 100%|██████████| 204/204 [00:02<00:00, 83.69it/s]\n"
     ]
    },
    {
     "name": "stdout",
     "output_type": "stream",
     "text": [
      "Epoch 93/150, Train Loss: 0.0015, Test Loss: 0.0015\n"
     ]
    },
    {
     "name": "stderr",
     "output_type": "stream",
     "text": [
      "Epoch 94/150 (Train): 100%|██████████| 204/204 [00:02<00:00, 84.29it/s]\n"
     ]
    },
    {
     "name": "stdout",
     "output_type": "stream",
     "text": [
      "Epoch 94/150, Train Loss: 0.0015, Test Loss: 0.0015\n"
     ]
    },
    {
     "name": "stderr",
     "output_type": "stream",
     "text": [
      "Epoch 95/150 (Train): 100%|██████████| 204/204 [00:02<00:00, 83.98it/s]\n"
     ]
    },
    {
     "name": "stdout",
     "output_type": "stream",
     "text": [
      "Epoch 95/150, Train Loss: 0.0015, Test Loss: 0.0015\n"
     ]
    },
    {
     "name": "stderr",
     "output_type": "stream",
     "text": [
      "Epoch 96/150 (Train): 100%|██████████| 204/204 [00:02<00:00, 83.20it/s]\n"
     ]
    },
    {
     "name": "stdout",
     "output_type": "stream",
     "text": [
      "Epoch 96/150, Train Loss: 0.0015, Test Loss: 0.0015\n"
     ]
    },
    {
     "name": "stderr",
     "output_type": "stream",
     "text": [
      "Epoch 97/150 (Train): 100%|██████████| 204/204 [00:02<00:00, 84.60it/s]\n"
     ]
    },
    {
     "name": "stdout",
     "output_type": "stream",
     "text": [
      "Epoch 97/150, Train Loss: 0.0015, Test Loss: 0.0015\n"
     ]
    },
    {
     "name": "stderr",
     "output_type": "stream",
     "text": [
      "Epoch 98/150 (Train): 100%|██████████| 204/204 [00:02<00:00, 83.73it/s]\n"
     ]
    },
    {
     "name": "stdout",
     "output_type": "stream",
     "text": [
      "Epoch 98/150, Train Loss: 0.0015, Test Loss: 0.0015\n"
     ]
    },
    {
     "name": "stderr",
     "output_type": "stream",
     "text": [
      "Epoch 99/150 (Train): 100%|██████████| 204/204 [00:02<00:00, 83.74it/s]\n"
     ]
    },
    {
     "name": "stdout",
     "output_type": "stream",
     "text": [
      "Epoch 99/150, Train Loss: 0.0015, Test Loss: 0.0015\n"
     ]
    },
    {
     "name": "stderr",
     "output_type": "stream",
     "text": [
      "Epoch 100/150 (Train): 100%|██████████| 204/204 [00:02<00:00, 83.82it/s]\n"
     ]
    },
    {
     "name": "stdout",
     "output_type": "stream",
     "text": [
      "Epoch 100/150, Train Loss: 0.0015, Test Loss: 0.0015\n"
     ]
    },
    {
     "name": "stderr",
     "output_type": "stream",
     "text": [
      "Epoch 101/150 (Train): 100%|██████████| 204/204 [00:02<00:00, 82.84it/s]\n"
     ]
    },
    {
     "name": "stdout",
     "output_type": "stream",
     "text": [
      "Epoch 101/150, Train Loss: 0.0015, Test Loss: 0.0015\n"
     ]
    },
    {
     "name": "stderr",
     "output_type": "stream",
     "text": [
      "Epoch 102/150 (Train): 100%|██████████| 204/204 [00:02<00:00, 83.56it/s]\n"
     ]
    },
    {
     "name": "stdout",
     "output_type": "stream",
     "text": [
      "Epoch 102/150, Train Loss: 0.0015, Test Loss: 0.0015\n"
     ]
    },
    {
     "name": "stderr",
     "output_type": "stream",
     "text": [
      "Epoch 103/150 (Train): 100%|██████████| 204/204 [00:02<00:00, 83.90it/s]\n"
     ]
    },
    {
     "name": "stdout",
     "output_type": "stream",
     "text": [
      "Epoch 103/150, Train Loss: 0.0015, Test Loss: 0.0015\n"
     ]
    },
    {
     "name": "stderr",
     "output_type": "stream",
     "text": [
      "Epoch 104/150 (Train): 100%|██████████| 204/204 [00:02<00:00, 82.87it/s]\n"
     ]
    },
    {
     "name": "stdout",
     "output_type": "stream",
     "text": [
      "Epoch 104/150, Train Loss: 0.0015, Test Loss: 0.0015\n"
     ]
    },
    {
     "name": "stderr",
     "output_type": "stream",
     "text": [
      "Epoch 105/150 (Train): 100%|██████████| 204/204 [00:02<00:00, 83.66it/s]\n"
     ]
    },
    {
     "name": "stdout",
     "output_type": "stream",
     "text": [
      "Epoch 105/150, Train Loss: 0.0015, Test Loss: 0.0015\n"
     ]
    },
    {
     "name": "stderr",
     "output_type": "stream",
     "text": [
      "Epoch 106/150 (Train): 100%|██████████| 204/204 [00:02<00:00, 84.04it/s]\n"
     ]
    },
    {
     "name": "stdout",
     "output_type": "stream",
     "text": [
      "Epoch 106/150, Train Loss: 0.0015, Test Loss: 0.0015\n"
     ]
    },
    {
     "name": "stderr",
     "output_type": "stream",
     "text": [
      "Epoch 107/150 (Train): 100%|██████████| 204/204 [00:02<00:00, 83.36it/s]\n"
     ]
    },
    {
     "name": "stdout",
     "output_type": "stream",
     "text": [
      "Epoch 107/150, Train Loss: 0.0015, Test Loss: 0.0015\n"
     ]
    },
    {
     "name": "stderr",
     "output_type": "stream",
     "text": [
      "Epoch 108/150 (Train): 100%|██████████| 204/204 [00:02<00:00, 83.91it/s]\n"
     ]
    },
    {
     "name": "stdout",
     "output_type": "stream",
     "text": [
      "Epoch 108/150, Train Loss: 0.0015, Test Loss: 0.0015\n"
     ]
    },
    {
     "name": "stderr",
     "output_type": "stream",
     "text": [
      "Epoch 109/150 (Train): 100%|██████████| 204/204 [00:02<00:00, 82.83it/s]\n"
     ]
    },
    {
     "name": "stdout",
     "output_type": "stream",
     "text": [
      "Epoch 109/150, Train Loss: 0.0015, Test Loss: 0.0015\n"
     ]
    },
    {
     "name": "stderr",
     "output_type": "stream",
     "text": [
      "Epoch 110/150 (Train): 100%|██████████| 204/204 [00:02<00:00, 83.35it/s]\n"
     ]
    },
    {
     "name": "stdout",
     "output_type": "stream",
     "text": [
      "Epoch 110/150, Train Loss: 0.0015, Test Loss: 0.0015\n"
     ]
    },
    {
     "name": "stderr",
     "output_type": "stream",
     "text": [
      "Epoch 111/150 (Train): 100%|██████████| 204/204 [00:02<00:00, 83.32it/s]\n"
     ]
    },
    {
     "name": "stdout",
     "output_type": "stream",
     "text": [
      "Epoch 111/150, Train Loss: 0.0015, Test Loss: 0.0015\n"
     ]
    },
    {
     "name": "stderr",
     "output_type": "stream",
     "text": [
      "Epoch 112/150 (Train): 100%|██████████| 204/204 [00:02<00:00, 82.94it/s]\n"
     ]
    },
    {
     "name": "stdout",
     "output_type": "stream",
     "text": [
      "Epoch 112/150, Train Loss: 0.0015, Test Loss: 0.0015\n"
     ]
    },
    {
     "name": "stderr",
     "output_type": "stream",
     "text": [
      "Epoch 113/150 (Train): 100%|██████████| 204/204 [00:02<00:00, 83.85it/s]\n"
     ]
    },
    {
     "name": "stdout",
     "output_type": "stream",
     "text": [
      "Epoch 113/150, Train Loss: 0.0015, Test Loss: 0.0015\n"
     ]
    },
    {
     "name": "stderr",
     "output_type": "stream",
     "text": [
      "Epoch 114/150 (Train): 100%|██████████| 204/204 [00:02<00:00, 84.56it/s]\n"
     ]
    },
    {
     "name": "stdout",
     "output_type": "stream",
     "text": [
      "Epoch 114/150, Train Loss: 0.0015, Test Loss: 0.0015\n"
     ]
    },
    {
     "name": "stderr",
     "output_type": "stream",
     "text": [
      "Epoch 115/150 (Train): 100%|██████████| 204/204 [00:02<00:00, 83.80it/s]\n"
     ]
    },
    {
     "name": "stdout",
     "output_type": "stream",
     "text": [
      "Epoch 115/150, Train Loss: 0.0015, Test Loss: 0.0015\n"
     ]
    },
    {
     "name": "stderr",
     "output_type": "stream",
     "text": [
      "Epoch 116/150 (Train): 100%|██████████| 204/204 [00:02<00:00, 83.94it/s]\n"
     ]
    },
    {
     "name": "stdout",
     "output_type": "stream",
     "text": [
      "Epoch 116/150, Train Loss: 0.0015, Test Loss: 0.0015\n"
     ]
    },
    {
     "name": "stderr",
     "output_type": "stream",
     "text": [
      "Epoch 117/150 (Train): 100%|██████████| 204/204 [00:02<00:00, 83.38it/s]\n"
     ]
    },
    {
     "name": "stdout",
     "output_type": "stream",
     "text": [
      "Epoch 117/150, Train Loss: 0.0015, Test Loss: 0.0015\n"
     ]
    },
    {
     "name": "stderr",
     "output_type": "stream",
     "text": [
      "Epoch 118/150 (Train): 100%|██████████| 204/204 [00:02<00:00, 84.06it/s]\n"
     ]
    },
    {
     "name": "stdout",
     "output_type": "stream",
     "text": [
      "Epoch 118/150, Train Loss: 0.0015, Test Loss: 0.0015\n"
     ]
    },
    {
     "name": "stderr",
     "output_type": "stream",
     "text": [
      "Epoch 119/150 (Train): 100%|██████████| 204/204 [00:02<00:00, 83.09it/s]\n"
     ]
    },
    {
     "name": "stdout",
     "output_type": "stream",
     "text": [
      "Epoch 119/150, Train Loss: 0.0015, Test Loss: 0.0015\n"
     ]
    },
    {
     "name": "stderr",
     "output_type": "stream",
     "text": [
      "Epoch 120/150 (Train): 100%|██████████| 204/204 [00:02<00:00, 82.94it/s]\n"
     ]
    },
    {
     "name": "stdout",
     "output_type": "stream",
     "text": [
      "Epoch 120/150, Train Loss: 0.0015, Test Loss: 0.0015\n"
     ]
    },
    {
     "name": "stderr",
     "output_type": "stream",
     "text": [
      "Epoch 121/150 (Train): 100%|██████████| 204/204 [00:02<00:00, 84.52it/s]\n"
     ]
    },
    {
     "name": "stdout",
     "output_type": "stream",
     "text": [
      "Epoch 121/150, Train Loss: 0.0015, Test Loss: 0.0015\n"
     ]
    },
    {
     "name": "stderr",
     "output_type": "stream",
     "text": [
      "Epoch 122/150 (Train): 100%|██████████| 204/204 [00:02<00:00, 83.21it/s]\n"
     ]
    },
    {
     "name": "stdout",
     "output_type": "stream",
     "text": [
      "Epoch 122/150, Train Loss: 0.0015, Test Loss: 0.0015\n"
     ]
    },
    {
     "name": "stderr",
     "output_type": "stream",
     "text": [
      "Epoch 123/150 (Train): 100%|██████████| 204/204 [00:02<00:00, 82.23it/s]\n"
     ]
    },
    {
     "name": "stdout",
     "output_type": "stream",
     "text": [
      "Epoch 123/150, Train Loss: 0.0015, Test Loss: 0.0015\n"
     ]
    },
    {
     "name": "stderr",
     "output_type": "stream",
     "text": [
      "Epoch 124/150 (Train): 100%|██████████| 204/204 [00:02<00:00, 82.32it/s]\n"
     ]
    },
    {
     "name": "stdout",
     "output_type": "stream",
     "text": [
      "Epoch 124/150, Train Loss: 0.0015, Test Loss: 0.0015\n"
     ]
    },
    {
     "name": "stderr",
     "output_type": "stream",
     "text": [
      "Epoch 125/150 (Train): 100%|██████████| 204/204 [00:02<00:00, 81.86it/s]\n"
     ]
    },
    {
     "name": "stdout",
     "output_type": "stream",
     "text": [
      "Epoch 125/150, Train Loss: 0.0015, Test Loss: 0.0015\n"
     ]
    },
    {
     "name": "stderr",
     "output_type": "stream",
     "text": [
      "Epoch 126/150 (Train): 100%|██████████| 204/204 [00:02<00:00, 82.50it/s]\n"
     ]
    },
    {
     "name": "stdout",
     "output_type": "stream",
     "text": [
      "Epoch 126/150, Train Loss: 0.0015, Test Loss: 0.0015\n"
     ]
    },
    {
     "name": "stderr",
     "output_type": "stream",
     "text": [
      "Epoch 127/150 (Train): 100%|██████████| 204/204 [00:02<00:00, 82.75it/s]\n"
     ]
    },
    {
     "name": "stdout",
     "output_type": "stream",
     "text": [
      "Epoch 127/150, Train Loss: 0.0015, Test Loss: 0.0015\n"
     ]
    },
    {
     "name": "stderr",
     "output_type": "stream",
     "text": [
      "Epoch 128/150 (Train): 100%|██████████| 204/204 [00:02<00:00, 82.21it/s]\n"
     ]
    },
    {
     "name": "stdout",
     "output_type": "stream",
     "text": [
      "Epoch 128/150, Train Loss: 0.0015, Test Loss: 0.0015\n"
     ]
    },
    {
     "name": "stderr",
     "output_type": "stream",
     "text": [
      "Epoch 129/150 (Train): 100%|██████████| 204/204 [00:02<00:00, 82.95it/s]\n"
     ]
    },
    {
     "name": "stdout",
     "output_type": "stream",
     "text": [
      "Epoch 129/150, Train Loss: 0.0015, Test Loss: 0.0015\n"
     ]
    },
    {
     "name": "stderr",
     "output_type": "stream",
     "text": [
      "Epoch 130/150 (Train): 100%|██████████| 204/204 [00:02<00:00, 82.64it/s]\n"
     ]
    },
    {
     "name": "stdout",
     "output_type": "stream",
     "text": [
      "Epoch 130/150, Train Loss: 0.0015, Test Loss: 0.0015\n"
     ]
    },
    {
     "name": "stderr",
     "output_type": "stream",
     "text": [
      "Epoch 131/150 (Train): 100%|██████████| 204/204 [00:02<00:00, 82.93it/s]\n"
     ]
    },
    {
     "name": "stdout",
     "output_type": "stream",
     "text": [
      "Epoch 131/150, Train Loss: 0.0015, Test Loss: 0.0015\n"
     ]
    },
    {
     "name": "stderr",
     "output_type": "stream",
     "text": [
      "Epoch 132/150 (Train): 100%|██████████| 204/204 [00:02<00:00, 82.67it/s]\n"
     ]
    },
    {
     "name": "stdout",
     "output_type": "stream",
     "text": [
      "Epoch 132/150, Train Loss: 0.0015, Test Loss: 0.0015\n"
     ]
    },
    {
     "name": "stderr",
     "output_type": "stream",
     "text": [
      "Epoch 133/150 (Train): 100%|██████████| 204/204 [00:02<00:00, 82.17it/s]\n"
     ]
    },
    {
     "name": "stdout",
     "output_type": "stream",
     "text": [
      "Epoch 133/150, Train Loss: 0.0015, Test Loss: 0.0015\n"
     ]
    },
    {
     "name": "stderr",
     "output_type": "stream",
     "text": [
      "Epoch 134/150 (Train): 100%|██████████| 204/204 [00:02<00:00, 82.44it/s]\n"
     ]
    },
    {
     "name": "stdout",
     "output_type": "stream",
     "text": [
      "Epoch 134/150, Train Loss: 0.0015, Test Loss: 0.0015\n"
     ]
    },
    {
     "name": "stderr",
     "output_type": "stream",
     "text": [
      "Epoch 135/150 (Train): 100%|██████████| 204/204 [00:02<00:00, 83.11it/s]\n"
     ]
    },
    {
     "name": "stdout",
     "output_type": "stream",
     "text": [
      "Epoch 135/150, Train Loss: 0.0015, Test Loss: 0.0015\n"
     ]
    },
    {
     "name": "stderr",
     "output_type": "stream",
     "text": [
      "Epoch 136/150 (Train): 100%|██████████| 204/204 [00:02<00:00, 81.69it/s]\n"
     ]
    },
    {
     "name": "stdout",
     "output_type": "stream",
     "text": [
      "Epoch 136/150, Train Loss: 0.0015, Test Loss: 0.0015\n"
     ]
    },
    {
     "name": "stderr",
     "output_type": "stream",
     "text": [
      "Epoch 137/150 (Train): 100%|██████████| 204/204 [00:02<00:00, 82.22it/s]\n"
     ]
    },
    {
     "name": "stdout",
     "output_type": "stream",
     "text": [
      "Epoch 137/150, Train Loss: 0.0015, Test Loss: 0.0015\n"
     ]
    },
    {
     "name": "stderr",
     "output_type": "stream",
     "text": [
      "Epoch 138/150 (Train): 100%|██████████| 204/204 [00:02<00:00, 82.08it/s]\n"
     ]
    },
    {
     "name": "stdout",
     "output_type": "stream",
     "text": [
      "Epoch 138/150, Train Loss: 0.0015, Test Loss: 0.0015\n"
     ]
    },
    {
     "name": "stderr",
     "output_type": "stream",
     "text": [
      "Epoch 139/150 (Train): 100%|██████████| 204/204 [00:02<00:00, 82.54it/s]\n"
     ]
    },
    {
     "name": "stdout",
     "output_type": "stream",
     "text": [
      "Epoch 139/150, Train Loss: 0.0015, Test Loss: 0.0015\n"
     ]
    },
    {
     "name": "stderr",
     "output_type": "stream",
     "text": [
      "Epoch 140/150 (Train): 100%|██████████| 204/204 [00:02<00:00, 82.98it/s]\n"
     ]
    },
    {
     "name": "stdout",
     "output_type": "stream",
     "text": [
      "Epoch 140/150, Train Loss: 0.0015, Test Loss: 0.0015\n"
     ]
    },
    {
     "name": "stderr",
     "output_type": "stream",
     "text": [
      "Epoch 141/150 (Train): 100%|██████████| 204/204 [00:02<00:00, 81.62it/s]\n"
     ]
    },
    {
     "name": "stdout",
     "output_type": "stream",
     "text": [
      "Epoch 141/150, Train Loss: 0.0015, Test Loss: 0.0015\n"
     ]
    },
    {
     "name": "stderr",
     "output_type": "stream",
     "text": [
      "Epoch 142/150 (Train): 100%|██████████| 204/204 [00:02<00:00, 82.39it/s]\n"
     ]
    },
    {
     "name": "stdout",
     "output_type": "stream",
     "text": [
      "Epoch 142/150, Train Loss: 0.0015, Test Loss: 0.0015\n"
     ]
    },
    {
     "name": "stderr",
     "output_type": "stream",
     "text": [
      "Epoch 143/150 (Train): 100%|██████████| 204/204 [00:02<00:00, 81.88it/s]\n"
     ]
    },
    {
     "name": "stdout",
     "output_type": "stream",
     "text": [
      "Epoch 143/150, Train Loss: 0.0015, Test Loss: 0.0015\n"
     ]
    },
    {
     "name": "stderr",
     "output_type": "stream",
     "text": [
      "Epoch 144/150 (Train): 100%|██████████| 204/204 [00:02<00:00, 82.02it/s]\n"
     ]
    },
    {
     "name": "stdout",
     "output_type": "stream",
     "text": [
      "Epoch 144/150, Train Loss: 0.0015, Test Loss: 0.0015\n"
     ]
    },
    {
     "name": "stderr",
     "output_type": "stream",
     "text": [
      "Epoch 145/150 (Train): 100%|██████████| 204/204 [00:02<00:00, 82.77it/s]\n"
     ]
    },
    {
     "name": "stdout",
     "output_type": "stream",
     "text": [
      "Epoch 145/150, Train Loss: 0.0015, Test Loss: 0.0015\n"
     ]
    },
    {
     "name": "stderr",
     "output_type": "stream",
     "text": [
      "Epoch 146/150 (Train): 100%|██████████| 204/204 [00:02<00:00, 82.16it/s]\n"
     ]
    },
    {
     "name": "stdout",
     "output_type": "stream",
     "text": [
      "Epoch 146/150, Train Loss: 0.0015, Test Loss: 0.0015\n"
     ]
    },
    {
     "name": "stderr",
     "output_type": "stream",
     "text": [
      "Epoch 147/150 (Train): 100%|██████████| 204/204 [00:02<00:00, 82.32it/s]\n"
     ]
    },
    {
     "name": "stdout",
     "output_type": "stream",
     "text": [
      "Epoch 147/150, Train Loss: 0.0015, Test Loss: 0.0015\n"
     ]
    },
    {
     "name": "stderr",
     "output_type": "stream",
     "text": [
      "Epoch 148/150 (Train): 100%|██████████| 204/204 [00:02<00:00, 82.21it/s]\n"
     ]
    },
    {
     "name": "stdout",
     "output_type": "stream",
     "text": [
      "Epoch 148/150, Train Loss: 0.0015, Test Loss: 0.0015\n"
     ]
    },
    {
     "name": "stderr",
     "output_type": "stream",
     "text": [
      "Epoch 149/150 (Train): 100%|██████████| 204/204 [00:02<00:00, 83.15it/s]\n"
     ]
    },
    {
     "name": "stdout",
     "output_type": "stream",
     "text": [
      "Epoch 149/150, Train Loss: 0.0015, Test Loss: 0.0015\n"
     ]
    },
    {
     "name": "stderr",
     "output_type": "stream",
     "text": [
      "Epoch 150/150 (Train): 100%|██████████| 204/204 [00:02<00:00, 83.02it/s]\n"
     ]
    },
    {
     "name": "stdout",
     "output_type": "stream",
     "text": [
      "Epoch 150/150, Train Loss: 0.0015, Test Loss: 0.0015\n"
     ]
    },
    {
     "data": {
      "text/plain": "<Figure size 1000x500 with 1 Axes>",
      "image/png": "[encoded data removed]"
     },
     "metadata": {},
     "output_type": "display_data"
    },
    {
     "name": "stdout",
     "output_type": "stream",
     "text": [
      "RNN model saved to .trained/rnn_2025-07-12_15-01-15.pt\n"
     ]
    }
   ],
   "source": [
    "RNN_EPOCHS = 150\n",
    "\n",
    "# Train the RNN\n",
    "rnn.train(epochs=RNN_EPOCHS)\n",
    "rnn.plot_losses()\n",
    "rnn.save()"
   ],
   "metadata": {
    "collapsed": false,
    "ExecuteTime": {
     "end_time": "2025-07-12T19:01:15.148260500Z",
     "start_time": "2025-07-12T18:54:26.517638200Z"
    }
   },
   "id": "83bb34ade9f91d0c",
   "execution_count": 13
  },
  {
   "cell_type": "code",
   "execution_count": 17,
   "outputs": [
    {
     "name": "stdout",
     "output_type": "stream",
     "text": [
      "Creating GAN model...\n",
      "GAN Models initialized on cuda (noise_dim=4)\n",
      "Generator parameters: 213666\n",
      "Discriminator parameters: 54593\n"
     ]
    }
   ],
   "source": [
    "print(\"Creating GAN model...\")\n",
    "gan = OsuReplayGAN(xs, ys, batch_size=BATCH_SIZE, noise_dim=4)"
   ],
   "metadata": {
    "collapsed": false,
    "ExecuteTime": {
     "end_time": "2025-07-12T20:42:20.588000100Z",
     "start_time": "2025-07-12T20:42:20.280427Z"
    }
   },
   "id": "35305533ba6f06cb"
  },
  {
   "cell_type": "code",
   "execution_count": 18,
   "outputs": [
    {
     "name": "stderr",
     "output_type": "stream",
     "text": [
      "Epoch 1/15 (GAN): 100%|██████████| 204/204 [00:26<00:00,  7.65it/s]\n"
     ]
    },
    {
     "name": "stdout",
     "output_type": "stream",
     "text": [
      "Epoch 1/15, Gen Loss: 0.9463, Disc Loss: 0.6934\n"
     ]
    },
    {
     "name": "stderr",
     "output_type": "stream",
     "text": [
      "Epoch 2/15 (GAN): 100%|██████████| 204/204 [00:26<00:00,  7.68it/s]\n"
     ]
    },
    {
     "name": "stdout",
     "output_type": "stream",
     "text": [
      "Epoch 2/15, Gen Loss: 0.7968, Disc Loss: 0.6931\n"
     ]
    },
    {
     "name": "stderr",
     "output_type": "stream",
     "text": [
      "Epoch 3/15 (GAN): 100%|██████████| 204/204 [00:26<00:00,  7.63it/s]\n"
     ]
    },
    {
     "name": "stdout",
     "output_type": "stream",
     "text": [
      "Epoch 3/15, Gen Loss: 0.7824, Disc Loss: 0.6932\n"
     ]
    },
    {
     "name": "stderr",
     "output_type": "stream",
     "text": [
      "Epoch 4/15 (GAN): 100%|██████████| 204/204 [00:27<00:00,  7.42it/s]\n"
     ]
    },
    {
     "name": "stdout",
     "output_type": "stream",
     "text": [
      "Epoch 4/15, Gen Loss: 0.7786, Disc Loss: 0.6932\n"
     ]
    },
    {
     "name": "stderr",
     "output_type": "stream",
     "text": [
      "Epoch 5/15 (GAN): 100%|██████████| 204/204 [00:27<00:00,  7.52it/s]\n"
     ]
    },
    {
     "name": "stdout",
     "output_type": "stream",
     "text": [
      "Epoch 5/15, Gen Loss: 0.7759, Disc Loss: 0.6931\n"
     ]
    },
    {
     "name": "stderr",
     "output_type": "stream",
     "text": [
      "Epoch 6/15 (GAN): 100%|██████████| 204/204 [00:26<00:00,  7.59it/s]\n"
     ]
    },
    {
     "name": "stdout",
     "output_type": "stream",
     "text": [
      "Epoch 6/15, Gen Loss: 0.7725, Disc Loss: 0.6931\n"
     ]
    },
    {
     "name": "stderr",
     "output_type": "stream",
     "text": [
      "Epoch 7/15 (GAN): 100%|██████████| 204/204 [00:26<00:00,  7.61it/s]\n"
     ]
    },
    {
     "name": "stdout",
     "output_type": "stream",
     "text": [
      "Epoch 7/15, Gen Loss: 0.7705, Disc Loss: 0.6934\n"
     ]
    },
    {
     "name": "stderr",
     "output_type": "stream",
     "text": [
      "Epoch 8/15 (GAN): 100%|██████████| 204/204 [00:27<00:00,  7.52it/s]\n"
     ]
    },
    {
     "name": "stdout",
     "output_type": "stream",
     "text": [
      "Epoch 8/15, Gen Loss: 0.7689, Disc Loss: 0.6932\n"
     ]
    },
    {
     "name": "stderr",
     "output_type": "stream",
     "text": [
      "Epoch 9/15 (GAN): 100%|██████████| 204/204 [00:26<00:00,  7.64it/s]\n"
     ]
    },
    {
     "name": "stdout",
     "output_type": "stream",
     "text": [
      "Epoch 9/15, Gen Loss: 0.7671, Disc Loss: 0.6931\n"
     ]
    },
    {
     "name": "stderr",
     "output_type": "stream",
     "text": [
      "Epoch 10/15 (GAN): 100%|██████████| 204/204 [00:26<00:00,  7.62it/s]\n"
     ]
    },
    {
     "name": "stdout",
     "output_type": "stream",
     "text": [
      "Epoch 10/15, Gen Loss: 0.7668, Disc Loss: 0.6931\n"
     ]
    },
    {
     "name": "stderr",
     "output_type": "stream",
     "text": [
      "Epoch 11/15 (GAN): 100%|██████████| 204/204 [00:26<00:00,  7.70it/s]\n"
     ]
    },
    {
     "name": "stdout",
     "output_type": "stream",
     "text": [
      "Epoch 11/15, Gen Loss: 0.7665, Disc Loss: 0.6932\n"
     ]
    },
    {
     "name": "stderr",
     "output_type": "stream",
     "text": [
      "Epoch 12/15 (GAN): 100%|██████████| 204/204 [00:26<00:00,  7.70it/s]\n"
     ]
    },
    {
     "name": "stdout",
     "output_type": "stream",
     "text": [
      "Epoch 12/15, Gen Loss: 0.7665, Disc Loss: 0.6931\n"
     ]
    },
    {
     "name": "stderr",
     "output_type": "stream",
     "text": [
      "Epoch 13/15 (GAN): 100%|██████████| 204/204 [00:26<00:00,  7.76it/s]\n"
     ]
    },
    {
     "name": "stdout",
     "output_type": "stream",
     "text": [
      "Epoch 13/15, Gen Loss: 0.7646, Disc Loss: 0.6932\n"
     ]
    },
    {
     "name": "stderr",
     "output_type": "stream",
     "text": [
      "Epoch 14/15 (GAN): 100%|██████████| 204/204 [00:26<00:00,  7.77it/s]\n"
     ]
    },
    {
     "name": "stdout",
     "output_type": "stream",
     "text": [
      "Epoch 14/15, Gen Loss: 0.7641, Disc Loss: 0.6932\n"
     ]
    },
    {
     "name": "stderr",
     "output_type": "stream",
     "text": [
      "Epoch 15/15 (GAN): 100%|██████████| 204/204 [00:25<00:00,  7.92it/s]\n"
     ]
    },
    {
     "name": "stdout",
     "output_type": "stream",
     "text": [
      "Epoch 15/15, Gen Loss: 0.7640, Disc Loss: 0.6933\n"
     ]
    },
    {
     "data": {
      "text/plain": "<Figure size 1200x400 with 3 Axes>",
      "image/png": "[encoded data removed]"
     },
     "metadata": {},
     "output_type": "display_data"
    },
    {
     "name": "stdout",
     "output_type": "stream",
     "text": [
      "GAN models saved with prefix .trained/gan_2025-07-12_16-49-02\n"
     ]
    }
   ],
   "source": [
    "GAN_EPOCHS = 15\n",
    "\n",
    "# Train the GAN\n",
    "gan.train(epochs=GAN_EPOCHS, lambda_recon=10.0)\n",
    "gan.plot_losses()\n",
    "gan.save()"
   ],
   "metadata": {
    "collapsed": false,
    "ExecuteTime": {
     "end_time": "2025-07-12T20:49:02.081715Z",
     "start_time": "2025-07-12T20:42:21.634649300Z"
    }
   },
   "id": "b7312299b611e68a"
  },
  {
   "cell_type": "code",
   "execution_count": 61,
   "outputs": [
    {
     "name": "stderr",
     "output_type": "stream",
     "text": [
      "Turning beatmaps into time series data:   0%|          | 0/1 [00:00<?, ?it/s]"
     ]
    },
    {
     "name": "stdout",
     "output_type": "stream",
     "text": [
      "(False, False, True, False)\n"
     ]
    },
    {
     "name": "stderr",
     "output_type": "stream",
     "text": [
      "Turning beatmaps into time series data: 100%|██████████| 1/1 [00:06<00:00,  6.16s/it]\n"
     ]
    }
   ],
   "source": [
    "import osu.rulesets.beatmap as bm\n",
    "import osu.rulesets.replay as rp\n",
    "import osu.dataset as dataset\n",
    "\n",
    "test_name = 'ghosts'\n",
    "test_mods = ['ez']\n",
    "test_map_path = f'assets/{test_name}_map.osu'\n",
    "test_song = f'assets/{test_name}_song.mp3'\n",
    "\n",
    "test_map = bm.load(test_map_path)\n",
    "test_map.apply_mods(test_mods)\n",
    "\n",
    "data = dataset.input_data(test_map)\n",
    "data = np.reshape(data.values, (-1, dataset.BATCH_LENGTH, len(dataset.INPUT_FEATURES)))\n",
    "data = torch.FloatTensor(data)"
   ],
   "metadata": {
    "collapsed": false,
    "ExecuteTime": {
     "end_time": "2025-07-12T22:30:12.488253400Z",
     "start_time": "2025-07-12T22:30:06.283860Z"
    }
   },
   "id": "333c00206b8b20b9"
  },
  {
   "cell_type": "code",
   "outputs": [
    {
     "name": "stdout",
     "output_type": "stream",
     "text": [
      "Generated replay data shape: (16384, 2)\n",
      "Saved to .generated\\ghosts.npy\n"
     ]
    }
   ],
   "source": [
    "with torch.no_grad():\n",
    "    # Use generator for inference\n",
    "    replay_data = gan.generate(data)\n",
    "    \n",
    "replay_data = np.concatenate(replay_data)\n",
    "if not os.path.exists('.generated'):\n",
    "    os.makedirs('.generated')\n",
    "    \n",
    "np.save('.generated\\\\' + test_name + '.npy', replay_data)\n",
    "\n",
    "print(f\"Generated replay data shape: {replay_data.shape}\")\n",
    "print(f\"Saved to .generated\\\\{test_name}.npy\")"
   ],
   "metadata": {
    "collapsed": false,
    "ExecuteTime": {
     "end_time": "2025-07-12T22:30:13.038017800Z",
     "start_time": "2025-07-12T22:30:13.003775500Z"
    }
   },
   "id": "236d6cf3611e8928",
   "execution_count": 63
  },
  {
   "cell_type": "code",
   "execution_count": 64,
   "outputs": [
    {
     "data": {
      "text/plain": "array([[-0.07173923, -0.01584955],\n       [-0.13895378, -0.05127204],\n       [-0.16021165, -0.06560034],\n       ...,\n       [ 0.00263351, -0.00058744],\n       [ 0.00260476, -0.00050703],\n       [ 0.00257602, -0.00050573]], shape=(16384, 2), dtype=float32)"
     },
     "execution_count": 64,
     "metadata": {},
     "output_type": "execute_result"
    }
   ],
   "source": [
    "replay_data"
   ],
   "metadata": {
    "collapsed": false,
    "ExecuteTime": {
     "end_time": "2025-07-12T22:30:13.168081900Z",
     "start_time": "2025-07-12T22:30:13.158527900Z"
    }
   },
   "id": "ecb3ba401b34c8a0"
  },
  {
   "cell_type": "code",
   "execution_count": 65,
   "outputs": [],
   "source": [
    "import importlib\n",
    "import osu.preview.preview as preview\n",
    "\n",
    "importlib.reload(preview)\n",
    "\n",
    "preview.preview_replay_raw(replay_data, test_map_path, test_mods, test_song)"
   ],
   "metadata": {
    "collapsed": false,
    "ExecuteTime": {
     "end_time": "2025-07-12T22:31:44.712780200Z",
     "start_time": "2025-07-12T22:30:14.568963400Z"
    }
   },
   "id": "6b4933974b96336b"
  },
  {
   "cell_type": "code",
   "execution_count": 16,
   "outputs": [],
   "source": [],
   "metadata": {
    "collapsed": false,
    "ExecuteTime": {
     "end_time": "2025-07-08T05:13:34.965805Z",
     "start_time": "2025-07-08T05:13:34.939293Z"
    }
   },
   "id": "53d8f6a660be3f5b"
  }
 ],
 "metadata": {
  "kernelspec": {
   "display_name": "Python 3",
   "language": "python",
   "name": "python3"
  },
  "language_info": {
   "codemirror_mode": {
    "name": "ipython",
    "version": 2
   },
   "file_extension": ".py",
   "mimetype": "text/x-python",
   "name": "python",
   "nbconvert_exporter": "python",
   "pygments_lexer": "ipython2",
   "version": "2.7.6"
  }
 },
 "nbformat": 4,
 "nbformat_minor": 5
}
