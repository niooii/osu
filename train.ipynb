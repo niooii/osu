{
 "cells": [
  {
   "cell_type": "code",
   "execution_count": 1,
   "id": "initial_id",
   "metadata": {
    "collapsed": true,
    "ExecuteTime": {
     "end_time": "2025-07-21T18:55:00.467402300Z",
     "start_time": "2025-07-21T18:54:42.689808200Z"
    }
   },
   "outputs": [
    {
     "name": "stdout",
     "output_type": "stream",
     "text": [
      "osu! path: C:\\Users\\niooi\\AppData\\Roaming/../Local/osu!\n",
      "pygame 2.6.1 (SDL 2.28.4, Python 3.12.10)\n",
      "Hello from the pygame community. https://www.pygame.org/contribute.html\n"
     ]
    },
    {
     "name": "stderr",
     "output_type": "stream",
     "text": [
      "E:\\Projects\\osu\\.venv\\Lib\\site-packages\\pygame\\pkgdata.py:25: UserWarning: pkg_resources is deprecated as an API. See https://setuptools.pypa.io/en/latest/pkg_resources.html. The pkg_resources package is slated for removal as early as 2025-11-30. Refrain from using this package or pin to Setuptools<81.\n",
      "  from pkg_resources import resource_stream, resource_exists\n"
     ]
    }
   ],
   "source": [
    "%load_ext autoreload\n",
    "%autoreload 2\n",
    "\n",
    "import os\n",
    "import re\n",
    "import math\n",
    "import glob\n",
    "from importlib import reload\n",
    "\n",
    "import tqdm \n",
    "import datetime\n",
    "\n",
    "import numpy as np\n",
    "import pandas as pd\n",
    "import matplotlib.pyplot as plt\n",
    "\n",
    "import osu.rulesets.beatmap as bm\n",
    "import osu.rulesets.replay as rp\n",
    "import osu.rulesets.hitobjects as hitobjects\n",
    "import osu.dataset as dataset\n",
    "\n",
    "import osu.preview.preview as preview"
   ]
  },
  {
   "cell_type": "code",
   "execution_count": 2,
   "outputs": [
    {
     "name": "stderr",
     "output_type": "stream",
     "text": [
      "Loading replay metadata from .data/replays: 100%|██████████| 2000/2000 [00:00<00:00, 9174.34it/s]\n",
      "Loading objects from .data/: 100%|██████████| 2000/2000 [00:44<00:00, 44.99it/s]\n"
     ]
    }
   ],
   "source": [
    "obj_dataset = dataset.replay_mapping_from_cache(2000)"
   ],
   "metadata": {
    "collapsed": false,
    "ExecuteTime": {
     "end_time": "2025-07-21T18:55:45.234686300Z",
     "start_time": "2025-07-21T18:55:00.464402400Z"
    }
   },
   "id": "e75df68bfdf21155"
  },
  {
   "cell_type": "code",
   "execution_count": 28,
   "outputs": [
    {
     "data": {
      "text/plain": "                                                 replay  \\\n0     <osu.rulesets.replay.Replay object at 0x000001...   \n1     <osu.rulesets.replay.Replay object at 0x000001...   \n2     <osu.rulesets.replay.Replay object at 0x000001...   \n3     <osu.rulesets.replay.Replay object at 0x000001...   \n4     <osu.rulesets.replay.Replay object at 0x000001...   \n...                                                 ...   \n1995  <osu.rulesets.replay.Replay object at 0x000001...   \n1996  <osu.rulesets.replay.Replay object at 0x000001...   \n1997  <osu.rulesets.replay.Replay object at 0x000001...   \n1998  <osu.rulesets.replay.Replay object at 0x000001...   \n1999  <osu.rulesets.replay.Replay object at 0x000001...   \n\n                                                beatmap  \n0     <osu.rulesets.beatmap.Beatmap object at 0x0000...  \n1     <osu.rulesets.beatmap.Beatmap object at 0x0000...  \n2     <osu.rulesets.beatmap.Beatmap object at 0x0000...  \n3     <osu.rulesets.beatmap.Beatmap object at 0x0000...  \n4     <osu.rulesets.beatmap.Beatmap object at 0x0000...  \n...                                                 ...  \n1995  <osu.rulesets.beatmap.Beatmap object at 0x0000...  \n1996  <osu.rulesets.beatmap.Beatmap object at 0x0000...  \n1997  <osu.rulesets.beatmap.Beatmap object at 0x0000...  \n1998  <osu.rulesets.beatmap.Beatmap object at 0x0000...  \n1999  <osu.rulesets.beatmap.Beatmap object at 0x0000...  \n\n[2000 rows x 2 columns]",
      "text/html": "<div>\n<style scoped>\n    .dataframe tbody tr th:only-of-type {\n        vertical-align: middle;\n    }\n\n    .dataframe tbody tr th {\n        vertical-align: top;\n    }\n\n    .dataframe thead th {\n        text-align: right;\n    }\n</style>\n<table border=\"1\" class=\"dataframe\">\n  <thead>\n    <tr style=\"text-align: right;\">\n      <th></th>\n      <th>replay</th>\n      <th>beatmap</th>\n    </tr>\n  </thead>\n  <tbody>\n    <tr>\n      <th>0</th>\n      <td>&lt;osu.rulesets.replay.Replay object at 0x000001...</td>\n      <td>&lt;osu.rulesets.beatmap.Beatmap object at 0x0000...</td>\n    </tr>\n    <tr>\n      <th>1</th>\n      <td>&lt;osu.rulesets.replay.Replay object at 0x000001...</td>\n      <td>&lt;osu.rulesets.beatmap.Beatmap object at 0x0000...</td>\n    </tr>\n    <tr>\n      <th>2</th>\n      <td>&lt;osu.rulesets.replay.Replay object at 0x000001...</td>\n      <td>&lt;osu.rulesets.beatmap.Beatmap object at 0x0000...</td>\n    </tr>\n    <tr>\n      <th>3</th>\n      <td>&lt;osu.rulesets.replay.Replay object at 0x000001...</td>\n      <td>&lt;osu.rulesets.beatmap.Beatmap object at 0x0000...</td>\n    </tr>\n    <tr>\n      <th>4</th>\n      <td>&lt;osu.rulesets.replay.Replay object at 0x000001...</td>\n      <td>&lt;osu.rulesets.beatmap.Beatmap object at 0x0000...</td>\n    </tr>\n    <tr>\n      <th>...</th>\n      <td>...</td>\n      <td>...</td>\n    </tr>\n    <tr>\n      <th>1995</th>\n      <td>&lt;osu.rulesets.replay.Replay object at 0x000001...</td>\n      <td>&lt;osu.rulesets.beatmap.Beatmap object at 0x0000...</td>\n    </tr>\n    <tr>\n      <th>1996</th>\n      <td>&lt;osu.rulesets.replay.Replay object at 0x000001...</td>\n      <td>&lt;osu.rulesets.beatmap.Beatmap object at 0x0000...</td>\n    </tr>\n    <tr>\n      <th>1997</th>\n      <td>&lt;osu.rulesets.replay.Replay object at 0x000001...</td>\n      <td>&lt;osu.rulesets.beatmap.Beatmap object at 0x0000...</td>\n    </tr>\n    <tr>\n      <th>1998</th>\n      <td>&lt;osu.rulesets.replay.Replay object at 0x000001...</td>\n      <td>&lt;osu.rulesets.beatmap.Beatmap object at 0x0000...</td>\n    </tr>\n    <tr>\n      <th>1999</th>\n      <td>&lt;osu.rulesets.replay.Replay object at 0x000001...</td>\n      <td>&lt;osu.rulesets.beatmap.Beatmap object at 0x0000...</td>\n    </tr>\n  </tbody>\n</table>\n<p>2000 rows × 2 columns</p>\n</div>"
     },
     "execution_count": 28,
     "metadata": {},
     "output_type": "execute_result"
    }
   ],
   "source": [
    "obj_dataset"
   ],
   "metadata": {
    "collapsed": false,
    "ExecuteTime": {
     "end_time": "2025-07-21T18:49:37.243389500Z",
     "start_time": "2025-07-21T18:49:37.151156800Z"
    }
   },
   "id": "c2a7186ae2fdccde"
  },
  {
   "cell_type": "code",
   "execution_count": null,
   "outputs": [
    {
     "name": "stderr",
     "output_type": "stream",
     "text": [
      "Turning beatmaps into time series data:  12%|█▏        | 234/2000 [02:22<23:58,  1.23it/s]"
     ]
    }
   ],
   "source": [
    "input_data = dataset.input_data(obj_dataset, verbose=True)\n",
    "output_data = dataset.target_data(obj_dataset, verbose=True)"
   ],
   "metadata": {
    "collapsed": false,
    "is_executing": true,
    "ExecuteTime": {
     "start_time": "2025-07-21T18:55:51.351802600Z"
    }
   },
   "id": "d3a92857966bd166"
  },
  {
   "cell_type": "code",
   "execution_count": null,
   "outputs": [],
   "source": [
    "input = input_data\n",
    "output = output_data"
   ],
   "metadata": {
    "collapsed": false
   },
   "id": "e154f4eddebe2dc"
  },
  {
   "cell_type": "code",
   "execution_count": null,
   "outputs": [],
   "source": [
    "input[0:500]"
   ],
   "metadata": {
    "collapsed": false
   },
   "id": "a5acffe6d8c7a74a"
  },
  {
   "cell_type": "code",
   "execution_count": null,
   "outputs": [],
   "source": [
    "output[0:500]"
   ],
   "metadata": {
    "collapsed": false
   },
   "id": "57d70a1b50c3e2d2"
  },
  {
   "cell_type": "code",
   "execution_count": null,
   "outputs": [],
   "source": [
    "import torch\n",
    "\n",
    "xs = np.reshape(input.values, (-1, dataset.BATCH_LENGTH, len(dataset.INPUT_FEATURES)))\n",
    "\n",
    "# try:\n",
    "#     target_data = pd.read_pickle('.data/target_data.dat')\n",
    "# except:\n",
    "#     target_data = dataset.target_data(dataset, verbose=True)\n",
    "#     target_data.to_pickle('.data/target_data.dat')\n",
    "\n",
    "ys = np.reshape(output.values, (-1, dataset.BATCH_LENGTH, len(dataset.OUTPUT_FEATURES)))\n",
    "\n",
    "xs.shape"
   ],
   "metadata": {
    "collapsed": false
   },
   "id": "7ce39514b249ca3"
  },
  {
   "cell_type": "code",
   "execution_count": null,
   "outputs": [],
   "source": [
    "ys.shape"
   ],
   "metadata": {
    "collapsed": false
   },
   "id": "e19cd6e26e427881"
  },
  {
   "cell_type": "code",
   "execution_count": null,
   "outputs": [],
   "source": [
    "# save dataset so we have it later\n",
    "\n",
    "# os.makedirs(f'.datasets', exist_ok=True)\n",
    "# \n",
    "# np.save(f'.datasets/xs.npy', xs)\n",
    "# np.save(f'.datasets/ys.npy', ys)"
   ],
   "metadata": {
    "collapsed": false
   },
   "id": "a645f1ad0d118839"
  },
  {
   "cell_type": "code",
   "execution_count": 2,
   "outputs": [],
   "source": [
    "# reload from saved\n",
    "\n",
    "xs = np.load(f'.datasets/xs.npy')\n",
    "ys = np.load(f'.datasets/ys.npy')"
   ],
   "metadata": {
    "collapsed": false,
    "ExecuteTime": {
     "end_time": "2025-07-21T18:36:15.637206200Z",
     "start_time": "2025-07-21T18:36:15.211239700Z"
    }
   },
   "id": "57a0b188412a33ea"
  },
  {
   "cell_type": "code",
   "execution_count": 3,
   "outputs": [],
   "source": [
    "# tys = ys.reshape(ys.shape[0] * ys.shape[1], ys.shape[2])\n",
    "# for frame in tys:\n",
    "#     if np.isinf(frame).any():\n",
    "#         print(frame)"
   ],
   "metadata": {
    "collapsed": false,
    "ExecuteTime": {
     "end_time": "2025-07-21T18:36:16.194643400Z",
     "start_time": "2025-07-21T18:36:16.141635200Z"
    }
   },
   "id": "88ed086eb110584c"
  },
  {
   "cell_type": "code",
   "execution_count": 4,
   "outputs": [],
   "source": [
    "import torch\n",
    "import torch.nn as nn\n",
    "import torch.optim as optim\n",
    "import torch.nn.functional as F\n",
    "\n",
    "from sklearn.model_selection import train_test_split\n",
    "from random import randint \n",
    "from torch.utils.data import DataLoader, TensorDataset\n",
    "\n",
    "BATCH_SIZE = 128\n",
    "\n",
    "device = 'cuda' if torch.cuda.is_available() else 'cpu'\n",
    "\n",
    "# \n",
    "# x_train, x_test, y_train, y_test = train_test_split(xs, ys, test_size=0.2, random_state=randint(0, 100))\n",
    "# \n",
    "# train_dataset = TensorDataset(torch.FloatTensor(x_train), torch.FloatTensor(y_train))\n",
    "# \n",
    "# train_loader = DataLoader(train_dataset, batch_size=BATCH_SIZE, shuffle=True)"
   ],
   "metadata": {
    "collapsed": false,
    "ExecuteTime": {
     "end_time": "2025-07-21T18:36:17.635958900Z",
     "start_time": "2025-07-21T18:36:16.917467200Z"
    }
   },
   "id": "df66cf1559ce0054"
  },
  {
   "cell_type": "code",
   "outputs": [],
   "source": [
    "from osu.rnn import OsuReplayRNN"
   ],
   "metadata": {
    "collapsed": false,
    "ExecuteTime": {
     "end_time": "2025-07-21T18:36:42.672784700Z",
     "start_time": "2025-07-21T18:36:42.567762500Z"
    }
   },
   "id": "ef64a90c43d5a5c5",
   "execution_count": 10
  },
  {
   "cell_type": "code",
   "outputs": [
    {
     "name": "stdout",
     "output_type": "stream",
     "text": [
      "Creating RNN model...\n",
      "Position model compiled with torch.compile\n",
      "RNN Model initialized on cuda (noise_std=0.0)\n",
      "Position model parameters: 227650\n",
      "Data loaded: 9073 training samples, 2269 test samples (position only)\n"
     ]
    }
   ],
   "source": [
    "print(\"Creating RNN model...\")\n",
    "rnn = OsuReplayRNN(batch_size=BATCH_SIZE, noise_std=0.00)\n",
    "rnn.load_data(xs, ys)"
   ],
   "metadata": {
    "collapsed": false,
    "ExecuteTime": {
     "end_time": "2025-07-21T18:36:43.574833800Z",
     "start_time": "2025-07-21T18:36:42.799185600Z"
    }
   },
   "id": "5b09ee4f3a71a037",
   "execution_count": 11
  },
  {
   "cell_type": "code",
   "outputs": [
    {
     "name": "stderr",
     "output_type": "stream",
     "text": [
      "Epoch 1/25 (Train): 100%|██████████| 71/71 [00:07<00:00,  9.02it/s]\n"
     ]
    },
    {
     "name": "stdout",
     "output_type": "stream",
     "text": [
      "Epoch 1/25, Train: 0.0072, Test: 0.0022\n"
     ]
    },
    {
     "name": "stderr",
     "output_type": "stream",
     "text": [
      "Epoch 2/25 (Train): 100%|██████████| 71/71 [00:07<00:00,  9.46it/s]\n"
     ]
    },
    {
     "name": "stdout",
     "output_type": "stream",
     "text": [
      "Epoch 2/25, Train: 0.0021, Test: 0.0018\n"
     ]
    },
    {
     "name": "stderr",
     "output_type": "stream",
     "text": [
      "Epoch 3/25 (Train): 100%|██████████| 71/71 [00:07<00:00,  9.68it/s]\n"
     ]
    },
    {
     "name": "stdout",
     "output_type": "stream",
     "text": [
      "Epoch 3/25, Train: 0.0018, Test: 0.0017\n"
     ]
    },
    {
     "name": "stderr",
     "output_type": "stream",
     "text": [
      "Epoch 4/25 (Train): 100%|██████████| 71/71 [00:07<00:00,  9.60it/s]\n"
     ]
    },
    {
     "name": "stdout",
     "output_type": "stream",
     "text": [
      "Epoch 4/25, Train: 0.0016, Test: 0.0014\n"
     ]
    },
    {
     "name": "stderr",
     "output_type": "stream",
     "text": [
      "Epoch 5/25 (Train): 100%|██████████| 71/71 [00:07<00:00,  9.33it/s]\n"
     ]
    },
    {
     "name": "stdout",
     "output_type": "stream",
     "text": [
      "Epoch 5/25, Train: 0.0014, Test: 0.0012\n"
     ]
    },
    {
     "name": "stderr",
     "output_type": "stream",
     "text": [
      "Epoch 6/25 (Train): 100%|██████████| 71/71 [00:09<00:00,  7.86it/s]\n"
     ]
    },
    {
     "name": "stdout",
     "output_type": "stream",
     "text": [
      "Epoch 6/25, Train: 0.0013, Test: 0.0012\n"
     ]
    },
    {
     "name": "stderr",
     "output_type": "stream",
     "text": [
      "Epoch 7/25 (Train): 100%|██████████| 71/71 [00:07<00:00,  9.43it/s]\n"
     ]
    },
    {
     "name": "stdout",
     "output_type": "stream",
     "text": [
      "Epoch 7/25, Train: 0.0012, Test: 0.0011\n"
     ]
    },
    {
     "name": "stderr",
     "output_type": "stream",
     "text": [
      "Epoch 8/25 (Train): 100%|██████████| 71/71 [00:07<00:00,  9.58it/s]\n"
     ]
    },
    {
     "name": "stdout",
     "output_type": "stream",
     "text": [
      "Epoch 8/25, Train: 0.0012, Test: 0.0012\n"
     ]
    },
    {
     "name": "stderr",
     "output_type": "stream",
     "text": [
      "Epoch 9/25 (Train): 100%|██████████| 71/71 [00:07<00:00,  9.56it/s]\n"
     ]
    },
    {
     "name": "stdout",
     "output_type": "stream",
     "text": [
      "Epoch 9/25, Train: 0.0012, Test: 0.0012\n"
     ]
    },
    {
     "name": "stderr",
     "output_type": "stream",
     "text": [
      "Epoch 10/25 (Train): 100%|██████████| 71/71 [00:07<00:00,  9.55it/s]\n"
     ]
    },
    {
     "name": "stdout",
     "output_type": "stream",
     "text": [
      "Epoch 10/25, Train: 0.0012, Test: 0.0011\n"
     ]
    },
    {
     "name": "stderr",
     "output_type": "stream",
     "text": [
      "Epoch 11/25 (Train): 100%|██████████| 71/71 [00:07<00:00,  9.42it/s]\n"
     ]
    },
    {
     "name": "stdout",
     "output_type": "stream",
     "text": [
      "Epoch 11/25, Train: 0.0012, Test: 0.0011\n"
     ]
    },
    {
     "name": "stderr",
     "output_type": "stream",
     "text": [
      "Epoch 12/25 (Train): 100%|██████████| 71/71 [00:07<00:00,  9.55it/s]\n"
     ]
    },
    {
     "name": "stdout",
     "output_type": "stream",
     "text": [
      "Epoch 12/25, Train: 0.0012, Test: 0.0011\n"
     ]
    },
    {
     "name": "stderr",
     "output_type": "stream",
     "text": [
      "Epoch 13/25 (Train): 100%|██████████| 71/71 [00:07<00:00,  9.66it/s]\n"
     ]
    },
    {
     "name": "stdout",
     "output_type": "stream",
     "text": [
      "Epoch 13/25, Train: 0.0012, Test: 0.0011\n"
     ]
    },
    {
     "name": "stderr",
     "output_type": "stream",
     "text": [
      "Epoch 14/25 (Train): 100%|██████████| 71/71 [00:07<00:00,  9.69it/s]\n"
     ]
    },
    {
     "name": "stdout",
     "output_type": "stream",
     "text": [
      "Epoch 14/25, Train: 0.0012, Test: 0.0011\n"
     ]
    },
    {
     "name": "stderr",
     "output_type": "stream",
     "text": [
      "Epoch 15/25 (Train): 100%|██████████| 71/71 [00:07<00:00,  9.56it/s]\n"
     ]
    },
    {
     "name": "stdout",
     "output_type": "stream",
     "text": [
      "Epoch 15/25, Train: 0.0012, Test: 0.0011\n"
     ]
    },
    {
     "name": "stderr",
     "output_type": "stream",
     "text": [
      "Epoch 16/25 (Train): 100%|██████████| 71/71 [00:07<00:00,  9.69it/s]\n"
     ]
    },
    {
     "name": "stdout",
     "output_type": "stream",
     "text": [
      "Epoch 16/25, Train: 0.0012, Test: 0.0011\n"
     ]
    },
    {
     "name": "stderr",
     "output_type": "stream",
     "text": [
      "Epoch 17/25 (Train): 100%|██████████| 71/71 [00:07<00:00,  9.43it/s]\n"
     ]
    },
    {
     "name": "stdout",
     "output_type": "stream",
     "text": [
      "Epoch 17/25, Train: 0.0012, Test: 0.0011\n"
     ]
    },
    {
     "name": "stderr",
     "output_type": "stream",
     "text": [
      "Epoch 18/25 (Train): 100%|██████████| 71/71 [00:07<00:00,  9.64it/s]\n"
     ]
    },
    {
     "ename": "KeyboardInterrupt",
     "evalue": "",
     "output_type": "error",
     "traceback": [
      "\u001B[31m---------------------------------------------------------------------------\u001B[39m",
      "\u001B[31mKeyboardInterrupt\u001B[39m                         Traceback (most recent call last)",
      "\u001B[36mCell\u001B[39m\u001B[36m \u001B[39m\u001B[32mIn[12]\u001B[39m\u001B[32m, line 4\u001B[39m\n\u001B[32m      1\u001B[39m RNN_EPOCHS = \u001B[32m25\u001B[39m\n\u001B[32m      3\u001B[39m \u001B[38;5;66;03m# Train the RNN\u001B[39;00m\n\u001B[32m----> \u001B[39m\u001B[32m4\u001B[39m \u001B[43mrnn\u001B[49m\u001B[43m.\u001B[49m\u001B[43mtrain\u001B[49m\u001B[43m(\u001B[49m\u001B[43mepochs\u001B[49m\u001B[43m=\u001B[49m\u001B[43mRNN_EPOCHS\u001B[49m\u001B[43m)\u001B[49m\n\u001B[32m      5\u001B[39m rnn.plot_losses()\n\u001B[32m      6\u001B[39m rnn.save()\n",
      "\u001B[36mFile \u001B[39m\u001B[32mE:\\Projects\\osu\\osu\\rnn.py:100\u001B[39m, in \u001B[36mOsuReplayRNN.train\u001B[39m\u001B[34m(self, epochs)\u001B[39m\n\u001B[32m     98\u001B[39m         pos = \u001B[38;5;28mself\u001B[39m.pos_model(batch_x)\n\u001B[32m     99\u001B[39m         pos_loss = \u001B[38;5;28mself\u001B[39m.pos_criterion(pos, batch_y_pos)\n\u001B[32m--> \u001B[39m\u001B[32m100\u001B[39m         epoch_test_loss += \u001B[43mpos_loss\u001B[49m\u001B[43m.\u001B[49m\u001B[43mitem\u001B[49m\u001B[43m(\u001B[49m\u001B[43m)\u001B[49m\n\u001B[32m    102\u001B[39m \u001B[38;5;66;03m# Calculate average losses\u001B[39;00m\n\u001B[32m    103\u001B[39m avg_train_loss = epoch_train_loss / \u001B[38;5;28mlen\u001B[39m(\u001B[38;5;28mself\u001B[39m.train_loader)\n",
      "\u001B[31mKeyboardInterrupt\u001B[39m: "
     ]
    }
   ],
   "source": [
    "RNN_EPOCHS = 25\n",
    "\n",
    "# Train the RNN\n",
    "rnn.train(epochs=RNN_EPOCHS)\n",
    "rnn.plot_losses()\n",
    "rnn.save()"
   ],
   "metadata": {
    "collapsed": false,
    "ExecuteTime": {
     "end_time": "2025-07-21T18:39:12.911096700Z",
     "start_time": "2025-07-21T18:36:43.571833Z"
    }
   },
   "id": "83bb34ade9f91d0c",
   "execution_count": 12
  },
  {
   "cell_type": "code",
   "execution_count": 9,
   "outputs": [
    {
     "ename": "NameError",
     "evalue": "name 'rnn' is not defined",
     "output_type": "error",
     "traceback": [
      "\u001B[31m---------------------------------------------------------------------------\u001B[39m",
      "\u001B[31mNameError\u001B[39m                                 Traceback (most recent call last)",
      "\u001B[36mCell\u001B[39m\u001B[36m \u001B[39m\u001B[32mIn[9]\u001B[39m\u001B[32m, line 10\u001B[39m\n\u001B[32m      7\u001B[39m \u001B[38;5;66;03m# Force garbage collection\u001B[39;00m\n\u001B[32m      8\u001B[39m gc.collect()\n\u001B[32m---> \u001B[39m\u001B[32m10\u001B[39m \u001B[38;5;28;01mdel\u001B[39;00m \u001B[43mrnn\u001B[49m\n",
      "\u001B[31mNameError\u001B[39m: name 'rnn' is not defined"
     ]
    }
   ],
   "source": [
    "# import torch\n",
    "# import gc\n",
    "# \n",
    "# # Clear GPU cache\n",
    "# torch.cuda.empty_cache()\n",
    "# \n",
    "# # Force garbage collection\n",
    "# gc.collect()\n",
    "# \n",
    "# del rnn"
   ],
   "metadata": {
    "collapsed": false,
    "ExecuteTime": {
     "end_time": "2025-07-21T18:36:39.590348400Z",
     "start_time": "2025-07-21T18:36:39.379870900Z"
    }
   },
   "id": "9538866029954e52"
  },
  {
   "cell_type": "code",
   "execution_count": null,
   "outputs": [],
   "source": [
    "from osu.gan import OsuReplayGAN"
   ],
   "metadata": {
    "collapsed": false
   },
   "id": "ea59e5b35a20c62b"
  },
  {
   "cell_type": "code",
   "outputs": [],
   "source": [
    "print(\"Creating GAN model...\")\n",
    "gan = OsuReplayGAN(batch_size=BATCH_SIZE)\n",
    "gan.load_data(xs, ys)"
   ],
   "metadata": {
    "collapsed": false
   },
   "id": "35305533ba6f06cb",
   "execution_count": null
  },
  {
   "cell_type": "code",
   "execution_count": null,
   "outputs": [],
   "source": [
    "GAN_EPOCHS = 4\n",
    "\n",
    "# Train the GAN\n",
    "for i in range(8):\n",
    "    gan.train(epochs=GAN_EPOCHS)\n",
    "    gan.save()\n",
    "    \n",
    "gan.plot_losses()"
   ],
   "metadata": {
    "collapsed": false
   },
   "id": "b7312299b611e68a"
  },
  {
   "cell_type": "code",
   "execution_count": null,
   "outputs": [],
   "source": [
    "from osu.keys import OsuKeyModel"
   ],
   "metadata": {
    "collapsed": false
   },
   "id": "4c01a975155f6e29"
  },
  {
   "cell_type": "code",
   "execution_count": null,
   "outputs": [],
   "source": [
    "print(\"Creating keypress model...\")\n",
    "keys = OsuKeyModel(batch_size=BATCH_SIZE)\n",
    "keys.load_data(xs, ys)"
   ],
   "metadata": {
    "collapsed": false
   },
   "id": "779e0772d6aaee37"
  },
  {
   "cell_type": "code",
   "execution_count": null,
   "outputs": [],
   "source": [
    "KEYS_EPOCHS = 12\n",
    "\n",
    "# Train the key model\n",
    "for i in range(12):\n",
    "    keys.train(epochs=KEYS_EPOCHS)\n",
    "    keys.save()\n",
    "    \n",
    "keys.plot_losses()"
   ],
   "metadata": {
    "collapsed": false
   },
   "id": "d085a88f2ffeaf32"
  },
  {
   "cell_type": "code",
   "execution_count": null,
   "outputs": [],
   "source": [
    "del keys"
   ],
   "metadata": {
    "collapsed": false
   },
   "id": "6e138caebc134e9c"
  },
  {
   "cell_type": "code",
   "execution_count": 22,
   "outputs": [
    {
     "name": "stderr",
     "output_type": "stream",
     "text": [
      "Turning beatmaps into time series data: 100%|██████████| 1/1 [00:00<00:00,  1.18it/s]\n"
     ]
    }
   ],
   "source": [
    "from osu.rulesets.mods import Mods\n",
    "import osu.rulesets.beatmap as bm\n",
    "import osu.rulesets.replay as rp\n",
    "import osu.dataset as dataset\n",
    "\n",
    "test_name = '1hope'\n",
    "test_mods = Mods.HARD_ROCK\n",
    "test_map_path = f'assets/{test_name}_map.osu'\n",
    "test_song = f'assets/{test_name}_song.mp3'\n",
    "\n",
    "test_map = bm.load(test_map_path)\n",
    "test_map.apply_mods(test_mods)\n",
    "\n",
    "data = dataset.input_data(test_map)\n",
    "data = np.reshape(data.values, (-1, dataset.BATCH_LENGTH, len(dataset.INPUT_FEATURES)))\n",
    "data = torch.FloatTensor(data)"
   ],
   "metadata": {
    "collapsed": false,
    "ExecuteTime": {
     "end_time": "2025-07-21T18:46:33.029028200Z",
     "start_time": "2025-07-21T18:46:32.049402600Z"
    }
   },
   "id": "333c00206b8b20b9"
  },
  {
   "cell_type": "code",
   "outputs": [
    {
     "name": "stdout",
     "output_type": "stream",
     "text": [
      "Generated replay data shape: (10240, 4)\n",
      "Saved to .generated\\1hope.npy\n"
     ]
    }
   ],
   "source": [
    "with torch.no_grad():\n",
    "    # Use generator for inference\n",
    "    replay_data = rnn.generate(data)\n",
    "    \n",
    "replay_data = np.concatenate(replay_data)\n",
    "replay_data = np.pad(replay_data, ((0, 0), (0, 2)), mode='constant', constant_values=0)\n",
    "if not os.path.exists('.generated'):\n",
    "    os.makedirs('.generated')\n",
    "    \n",
    "np.save('.generated\\\\' + test_name + '.npy', replay_data)\n",
    "\n",
    "print(f\"Generated replay data shape: {replay_data.shape}\")\n",
    "print(f\"Saved to .generated\\\\{test_name}.npy\")"
   ],
   "metadata": {
    "collapsed": false,
    "ExecuteTime": {
     "end_time": "2025-07-21T18:46:37.140410200Z",
     "start_time": "2025-07-21T18:46:36.844999100Z"
    }
   },
   "id": "236d6cf3611e8928",
   "execution_count": 23
  },
  {
   "cell_type": "code",
   "execution_count": 24,
   "outputs": [
    {
     "data": {
      "text/plain": "tensor([[[ 0.0684, -0.3724,  0.4500,  ...,  0.5200,  0.0000,  0.0000],\n         [ 0.0684, -0.3724,  0.4260,  ...,  0.5200,  0.0000,  0.0000],\n         [ 0.0684, -0.3724,  0.4020,  ...,  0.5200,  0.0000,  0.0000],\n         ...,\n         [-0.3262,  0.3880,  0.0940,  ...,  0.5200,  1.0260,  0.3733],\n         [-0.3262,  0.3880,  0.0700,  ...,  0.5200,  1.0260,  0.3733],\n         [-0.3262,  0.3880,  0.0460,  ...,  0.5200,  1.0260,  0.3733]],\n\n        [[-0.3262,  0.3880,  0.0220,  ...,  0.5200,  1.0260,  0.3733],\n         [-0.3242,  0.3880,  0.0000,  ...,  0.5200,  1.0260,  0.3733],\n         [-0.2812,  0.4167,  0.0000,  ...,  0.5200,  1.0260,  0.3733],\n         ...,\n         [-0.1016, -0.3672,  0.0930,  ...,  0.5200,  0.0000,  0.0000],\n         [-0.1016, -0.3672,  0.0690,  ...,  0.5200,  0.0000,  0.0000],\n         [-0.1016, -0.3672,  0.0450,  ...,  0.5200,  0.0000,  0.0000]],\n\n        [[-0.1016, -0.3672,  0.0210,  ...,  0.5200,  0.0000,  0.0000],\n         [-0.3145,  0.0651,  0.1070,  ...,  0.5200,  0.0000,  0.0000],\n         [-0.3145,  0.0651,  0.0830,  ...,  0.5200,  0.0000,  0.0000],\n         ...,\n         [ 0.3145, -0.3568,  0.3270,  ...,  0.5200,  0.0000,  0.0000],\n         [ 0.3145, -0.3568,  0.3030,  ...,  0.5200,  0.0000,  0.0000],\n         [ 0.3145, -0.3568,  0.2790,  ...,  0.5200,  0.0000,  0.0000]],\n\n        [[ 0.3145, -0.3568,  0.2550,  ...,  0.5200,  0.0000,  0.0000],\n         [ 0.3145, -0.3568,  0.2310,  ...,  0.5200,  0.0000,  0.0000],\n         [ 0.3145, -0.3568,  0.2070,  ...,  0.5200,  0.0000,  0.0000],\n         ...,\n         [ 0.2852,  0.0625,  0.0000,  ...,  0.5200,  1.2763,  0.2317],\n         [-0.1191,  0.4323,  0.0920,  ...,  0.5200,  0.0000,  0.0000],\n         [-0.1191,  0.4323,  0.0680,  ...,  0.5200,  0.0000,  0.0000]],\n\n        [[-0.1191,  0.4323,  0.0440,  ...,  0.5200,  0.0000,  0.0000],\n         [-0.1191,  0.4323,  0.0200,  ...,  0.5200,  0.0000,  0.0000],\n         [-0.3867, -0.4062,  0.1050,  ...,  0.5200,  1.2763,  0.2317],\n         ...,\n         [ 0.0000,  0.0000,  0.0000,  ...,  0.0000,  0.0000,  0.0000],\n         [ 0.0000,  0.0000,  0.0000,  ...,  0.0000,  0.0000,  0.0000],\n         [ 0.0000,  0.0000,  0.0000,  ...,  0.0000,  0.0000,  0.0000]]])"
     },
     "execution_count": 24,
     "metadata": {},
     "output_type": "execute_result"
    }
   ],
   "source": [
    "data"
   ],
   "metadata": {
    "collapsed": false,
    "ExecuteTime": {
     "end_time": "2025-07-21T18:46:37.236244300Z",
     "start_time": "2025-07-21T18:46:37.137410Z"
    }
   },
   "id": "8676b02a909a5ccc"
  },
  {
   "cell_type": "code",
   "execution_count": 25,
   "outputs": [
    {
     "data": {
      "text/plain": "array([[-0.03782767, -0.0210133 ,  0.        ,  0.        ],\n       [-0.04166194, -0.01667719,  0.        ,  0.        ],\n       [-0.04060125, -0.02386662,  0.        ,  0.        ],\n       ...,\n       [ 0.02833094,  0.27376795,  0.        ,  0.        ],\n       [ 0.07345363,  0.25934333,  0.        ,  0.        ],\n       [ 0.10369711,  0.25983548,  0.        ,  0.        ]],\n      shape=(500, 4), dtype=float32)"
     },
     "execution_count": 25,
     "metadata": {},
     "output_type": "execute_result"
    }
   ],
   "source": [
    "replay_data[:500]"
   ],
   "metadata": {
    "collapsed": false,
    "ExecuteTime": {
     "end_time": "2025-07-21T18:46:37.972620300Z",
     "start_time": "2025-07-21T18:46:37.879519600Z"
    }
   },
   "id": "ecb3ba401b34c8a0"
  },
  {
   "cell_type": "code",
   "execution_count": 26,
   "outputs": [],
   "source": [
    "import importlib\n",
    "import osu.preview.preview as preview\n",
    "\n",
    "importlib.reload(preview)\n",
    "\n",
    "preview.preview_replay_raw(replay_data, test_map_path, test_mods, test_song)"
   ],
   "metadata": {
    "collapsed": false,
    "ExecuteTime": {
     "end_time": "2025-07-21T18:47:18.604629100Z",
     "start_time": "2025-07-21T18:46:38.265165400Z"
    }
   },
   "id": "6b4933974b96336b"
  },
  {
   "cell_type": "code",
   "execution_count": null,
   "outputs": [],
   "source": [],
   "metadata": {
    "collapsed": false
   },
   "id": "53d8f6a660be3f5b"
  }
 ],
 "metadata": {
  "kernelspec": {
   "display_name": "Python 3",
   "language": "python",
   "name": "python3"
  },
  "language_info": {
   "codemirror_mode": {
    "name": "ipython",
    "version": 2
   },
   "file_extension": ".py",
   "mimetype": "text/x-python",
   "name": "python",
   "nbconvert_exporter": "python",
   "pygments_lexer": "ipython2",
   "version": "2.7.6"
  }
 },
 "nbformat": 4,
 "nbformat_minor": 5
}
