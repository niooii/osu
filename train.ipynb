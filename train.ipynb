{
 "cells": [
  {
   "cell_type": "code",
   "execution_count": null,
   "id": "initial_id",
   "metadata": {
    "collapsed": true
   },
   "outputs": [],
   "source": [
    "%load_ext autoreload\n",
    "%autoreload 2\n",
    "\n",
    "import os\n",
    "os.environ['CUDA_LAUNCH_BLOCKING'] = '1'\n",
    "import re\n",
    "import math\n",
    "import glob\n",
    "from importlib import reload\n",
    "\n",
    "import tqdm \n",
    "import datetime\n",
    "\n",
    "import numpy as np\n",
    "import pandas as pd\n",
    "import matplotlib.pyplot as plt\n",
    "\n",
    "import osu.rulesets.beatmap as bm\n",
    "import osu.rulesets.replay as rp\n",
    "import osu.rulesets.hitobjects as hitobjects\n",
    "import osu.dataset as dataset\n",
    "\n",
    "import osu.preview.preview as preview"
   ]
  },
  {
   "cell_type": "code",
   "execution_count": null,
   "outputs": [],
   "source": [
    "obj_dataset = dataset.replay_mapping_from_cache(3250)"
   ],
   "metadata": {
    "collapsed": false
   },
   "id": "e75df68bfdf21155"
  },
  {
   "cell_type": "code",
   "execution_count": null,
   "outputs": [],
   "source": [
    "obj_dataset"
   ],
   "metadata": {
    "collapsed": false
   },
   "id": "c2a7186ae2fdccde"
  },
  {
   "cell_type": "code",
   "execution_count": null,
   "outputs": [],
   "source": [
    "input_data = dataset.input_data(obj_dataset, verbose=True)\n",
    "output_data = dataset.target_data(obj_dataset, verbose=True)"
   ],
   "metadata": {
    "collapsed": false
   },
   "id": "d3a92857966bd166"
  },
  {
   "cell_type": "code",
   "execution_count": null,
   "outputs": [],
   "source": [
    "input = input_data\n",
    "output = output_data"
   ],
   "metadata": {
    "collapsed": false
   },
   "id": "e154f4eddebe2dc"
  },
  {
   "cell_type": "code",
   "execution_count": null,
   "outputs": [],
   "source": [
    "input[0:500]"
   ],
   "metadata": {
    "collapsed": false
   },
   "id": "a5acffe6d8c7a74a"
  },
  {
   "cell_type": "code",
   "execution_count": null,
   "outputs": [],
   "source": [
    "output[0:500]"
   ],
   "metadata": {
    "collapsed": false
   },
   "id": "57d70a1b50c3e2d2"
  },
  {
   "cell_type": "code",
   "execution_count": null,
   "outputs": [],
   "source": [
    "import torch\n",
    "\n",
    "xs = np.reshape(input.values, (-1, dataset.BATCH_LENGTH, len(dataset.INPUT_FEATURES)))\n",
    "\n",
    "# try:\n",
    "#     target_data = pd.read_pickle('.data/target_data.dat')\n",
    "# except:\n",
    "#     target_data = dataset.target_data(dataset, verbose=True)\n",
    "#     target_data.to_pickle('.data/target_data.dat')\n",
    "\n",
    "ys = np.reshape(output.values, (-1, dataset.BATCH_LENGTH, len(dataset.OUTPUT_FEATURES)))\n",
    "\n",
    "xs.shape"
   ],
   "metadata": {
    "collapsed": false
   },
   "id": "7ce39514b249ca3"
  },
  {
   "cell_type": "code",
   "execution_count": null,
   "outputs": [],
   "source": [
    "ys.shape"
   ],
   "metadata": {
    "collapsed": false
   },
   "id": "e19cd6e26e427881"
  },
  {
   "cell_type": "code",
   "execution_count": null,
   "outputs": [],
   "source": [
    "# save dataset so we have it later\n",
    "\n",
    "# os.makedirs(f'.datasets', exist_ok=True)\n",
    "# \n",
    "# np.save(f'.datasets/xs.npy', xs)\n",
    "# np.save(f'.datasets/ys.npy', ys)"
   ],
   "metadata": {
    "collapsed": false
   },
   "id": "a645f1ad0d118839"
  },
  {
   "cell_type": "code",
   "execution_count": null,
   "outputs": [],
   "source": [
    "# reload from saved\n",
    "\n",
    "xs = np.load(f'.datasets/xs.npy')\n",
    "ys = np.load(f'.datasets/ys.npy')"
   ],
   "metadata": {
    "collapsed": false
   },
   "id": "57a0b188412a33ea"
  },
  {
   "cell_type": "code",
   "execution_count": null,
   "outputs": [],
   "source": [
    "import torch\n",
    "import torch.nn as nn\n",
    "import torch.optim as optim\n",
    "import torch.nn.functional as F\n",
    "\n",
    "from sklearn.model_selection import train_test_split\n",
    "from random import randint \n",
    "from torch.utils.data import DataLoader, TensorDataset\n",
    "\n",
    "BATCH_SIZE = 128\n",
    "\n",
    "device = 'cuda' if torch.cuda.is_available() else 'cpu'\n",
    "\n",
    "# \n",
    "# x_train, x_test, y_train, y_test = train_test_split(xs, ys, test_size=0.2, random_state=randint(0, 100))\n",
    "# \n",
    "# train_dataset = TensorDataset(torch.FloatTensor(x_train), torch.FloatTensor(y_train))\n",
    "# \n",
    "# train_loader = DataLoader(train_dataset, batch_size=BATCH_SIZE, shuffle=True)"
   ],
   "metadata": {
    "collapsed": false
   },
   "id": "df66cf1559ce0054"
  },
  {
   "cell_type": "code",
   "outputs": [],
   "source": [
    "from osu.rnn import OsuReplayRNN"
   ],
   "metadata": {
    "collapsed": false
   },
   "id": "ef64a90c43d5a5c5",
   "execution_count": null
  },
  {
   "cell_type": "code",
   "outputs": [],
   "source": [
    "print(\"Creating RNN model...\")\n",
    "rnn = OsuReplayRNN(batch_size=BATCH_SIZE, noise_std=0.00)\n",
    "rnn.load_data(xs, ys)"
   ],
   "metadata": {
    "collapsed": false
   },
   "id": "5b09ee4f3a71a037",
   "execution_count": null
  },
  {
   "cell_type": "code",
   "outputs": [],
   "source": [
    "RNN_EPOCHS = 25\n",
    "\n",
    "# Train the RNN\n",
    "rnn.train(epochs=RNN_EPOCHS)\n",
    "rnn.plot_losses()\n",
    "rnn.save()"
   ],
   "metadata": {
    "collapsed": false
   },
   "id": "83bb34ade9f91d0c",
   "execution_count": null
  },
  {
   "cell_type": "code",
   "execution_count": null,
   "outputs": [],
   "source": [
    "import torch\n",
    "import gc\n",
    "\n",
    "# Clear GPU cache\n",
    "torch.cuda.empty_cache()\n",
    "\n",
    "# Force garbage collection\n",
    "gc.collect()\n",
    "\n",
    "del rnn"
   ],
   "metadata": {
    "collapsed": false
   },
   "id": "9538866029954e52"
  },
  {
   "cell_type": "code",
   "execution_count": null,
   "outputs": [],
   "source": [
    "from osu.gan import OsuReplayGAN"
   ],
   "metadata": {
    "collapsed": false
   },
   "id": "ea59e5b35a20c62b"
  },
  {
   "cell_type": "code",
   "outputs": [],
   "source": [
    "print(\"Creating GAN model...\")\n",
    "gan = OsuReplayGAN(batch_size=BATCH_SIZE)\n",
    "gan.load_data(xs, ys)"
   ],
   "metadata": {
    "collapsed": false
   },
   "id": "35305533ba6f06cb",
   "execution_count": null
  },
  {
   "cell_type": "code",
   "execution_count": null,
   "outputs": [],
   "source": [
    "GAN_EPOCHS = 10\n",
    "\n",
    "# Train the GAN\n",
    "for i in range(8):\n",
    "    gan.train(epochs=GAN_EPOCHS)\n",
    "    gan.save()\n",
    "    \n",
    "gan.plot_losses()"
   ],
   "metadata": {
    "collapsed": false
   },
   "id": "b7312299b611e68a"
  },
  {
   "cell_type": "code",
   "execution_count": null,
   "outputs": [],
   "source": [
    "from osu.keys import OsuKeyModel"
   ],
   "metadata": {
    "collapsed": false
   },
   "id": "4c01a975155f6e29"
  },
  {
   "cell_type": "code",
   "execution_count": null,
   "outputs": [],
   "source": [
    "print(\"Creating keypress model...\")\n",
    "keys = OsuKeyModel(batch_size=BATCH_SIZE)\n",
    "keys.load_data(xs, ys)"
   ],
   "metadata": {
    "collapsed": false
   },
   "id": "779e0772d6aaee37"
  },
  {
   "cell_type": "code",
   "execution_count": null,
   "outputs": [],
   "source": [
    "KEYS_EPOCHS = 12\n",
    "\n",
    "# Train the key model\n",
    "for i in range(12):\n",
    "    keys.train(epochs=KEYS_EPOCHS)\n",
    "    keys.save()\n",
    "    \n",
    "keys.plot_losses()"
   ],
   "metadata": {
    "collapsed": false
   },
   "id": "d085a88f2ffeaf32"
  },
  {
   "cell_type": "code",
   "execution_count": null,
   "outputs": [],
   "source": [
    "del keys"
   ],
   "metadata": {
    "collapsed": false
   },
   "id": "6e138caebc134e9c"
  },
  {
   "cell_type": "code",
   "execution_count": null,
   "outputs": [],
   "source": [
    "from osu.rulesets.mods import Mods\n",
    "import osu.rulesets.beatmap as bm\n",
    "import osu.rulesets.replay as rp\n",
    "import osu.dataset as dataset\n",
    "\n",
    "test_name = '1hope'\n",
    "test_mods = Mods.HARD_ROCK\n",
    "test_map_path = f'assets/{test_name}_map.osu'\n",
    "test_song = f'assets/{test_name}_song.mp3'\n",
    "\n",
    "test_map = bm.load(test_map_path)\n",
    "test_map.apply_mods(test_mods)\n",
    "\n",
    "data = dataset.input_data(test_map)\n",
    "data = np.reshape(data.values, (-1, dataset.BATCH_LENGTH, len(dataset.INPUT_FEATURES)))\n",
    "data = torch.FloatTensor(data)"
   ],
   "metadata": {
    "collapsed": false
   },
   "id": "333c00206b8b20b9"
  },
  {
   "cell_type": "code",
   "outputs": [],
   "source": [
    "with torch.no_grad():\n",
    "    # Use generator for inference\n",
    "    replay_data = gan.generate(data)\n",
    "    \n",
    "replay_data = np.concatenate(replay_data)\n",
    "if not os.path.exists('.generated'):\n",
    "    os.makedirs('.generated')\n",
    "    \n",
    "np.save('.generated\\\\' + test_name + '.npy', replay_data)\n",
    "\n",
    "print(f\"Generated replay data shape: {replay_data.shape}\")\n",
    "print(f\"Saved to .generated\\\\{test_name}.npy\")"
   ],
   "metadata": {
    "collapsed": false
   },
   "id": "236d6cf3611e8928",
   "execution_count": null
  },
  {
   "cell_type": "code",
   "execution_count": null,
   "outputs": [],
   "source": [
    "replay_data[:500]"
   ],
   "metadata": {
    "collapsed": false
   },
   "id": "ecb3ba401b34c8a0"
  },
  {
   "cell_type": "code",
   "execution_count": null,
   "outputs": [],
   "source": [
    "import importlib\n",
    "import osu.preview.preview as preview\n",
    "\n",
    "importlib.reload(preview)\n",
    "\n",
    "preview.preview_replay_raw(replay_data, test_map_path, test_mods, test_song)"
   ],
   "metadata": {
    "collapsed": false
   },
   "id": "6b4933974b96336b"
  },
  {
   "cell_type": "code",
   "execution_count": null,
   "outputs": [],
   "source": [],
   "metadata": {
    "collapsed": false
   },
   "id": "53d8f6a660be3f5b"
  }
 ],
 "metadata": {
  "kernelspec": {
   "display_name": "Python 3",
   "language": "python",
   "name": "python3"
  },
  "language_info": {
   "codemirror_mode": {
    "name": "ipython",
    "version": 2
   },
   "file_extension": ".py",
   "mimetype": "text/x-python",
   "name": "python",
   "nbconvert_exporter": "python",
   "pygments_lexer": "ipython2",
   "version": "2.7.6"
  }
 },
 "nbformat": 4,
 "nbformat_minor": 5
}
