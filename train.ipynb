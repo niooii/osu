{
 "cells": [
  {
   "cell_type": "code",
   "execution_count": 1,
   "id": "initial_id",
   "metadata": {
    "collapsed": true,
    "ExecuteTime": {
     "end_time": "2025-07-23T05:34:41.969579300Z",
     "start_time": "2025-07-23T05:34:38.239417600Z"
    }
   },
   "outputs": [
    {
     "name": "stdout",
     "output_type": "stream",
     "text": [
      "osu! path: C:\\Users\\niooi\\AppData\\Roaming/../Local/osu!\n",
      "pygame 2.6.1 (SDL 2.28.4, Python 3.12.10)\n",
      "Hello from the pygame community. https://www.pygame.org/contribute.html\n"
     ]
    },
    {
     "name": "stderr",
     "output_type": "stream",
     "text": [
      "E:\\Projects\\osu\\.venv\\Lib\\site-packages\\pygame\\pkgdata.py:25: UserWarning: pkg_resources is deprecated as an API. See https://setuptools.pypa.io/en/latest/pkg_resources.html. The pkg_resources package is slated for removal as early as 2025-11-30. Refrain from using this package or pin to Setuptools<81.\n",
      "  from pkg_resources import resource_stream, resource_exists\n"
     ]
    }
   ],
   "source": [
    "%load_ext autoreload\n",
    "%autoreload 2\n",
    "\n",
    "import os\n",
    "import re\n",
    "import math\n",
    "import glob\n",
    "from importlib import reload\n",
    "\n",
    "import tqdm \n",
    "import datetime\n",
    "\n",
    "import numpy as np\n",
    "import pandas as pd\n",
    "import matplotlib.pyplot as plt\n",
    "\n",
    "import osu.rulesets.beatmap as bm\n",
    "import osu.rulesets.replay as rp\n",
    "import osu.rulesets.hitobjects as hitobjects\n",
    "import osu.dataset as dataset\n",
    "\n",
    "import osu.preview.preview as preview"
   ]
  },
  {
   "cell_type": "code",
   "execution_count": null,
   "outputs": [],
   "source": [
    "obj_dataset = dataset.replay_mapping_from_cache(400)"
   ],
   "metadata": {
    "collapsed": false
   },
   "id": "e75df68bfdf21155"
  },
  {
   "cell_type": "code",
   "execution_count": null,
   "outputs": [],
   "source": [
    "obj_dataset"
   ],
   "metadata": {
    "collapsed": false
   },
   "id": "c2a7186ae2fdccde"
  },
  {
   "cell_type": "code",
   "execution_count": null,
   "outputs": [],
   "source": [
    "input_data = dataset.input_data(obj_dataset, verbose=True)\n",
    "output_data = dataset.target_data(obj_dataset, verbose=True)"
   ],
   "metadata": {
    "collapsed": false
   },
   "id": "d3a92857966bd166"
  },
  {
   "cell_type": "code",
   "execution_count": null,
   "outputs": [],
   "source": [
    "input = input_data\n",
    "output = output_data"
   ],
   "metadata": {
    "collapsed": false
   },
   "id": "e154f4eddebe2dc"
  },
  {
   "cell_type": "code",
   "execution_count": null,
   "outputs": [],
   "source": [
    "input[0:500]"
   ],
   "metadata": {
    "collapsed": false
   },
   "id": "a5acffe6d8c7a74a"
  },
  {
   "cell_type": "code",
   "execution_count": null,
   "outputs": [],
   "source": [
    "output[0:500]"
   ],
   "metadata": {
    "collapsed": false
   },
   "id": "57d70a1b50c3e2d2"
  },
  {
   "cell_type": "code",
   "execution_count": null,
   "outputs": [],
   "source": [
    "import torch\n",
    "\n",
    "xs = np.reshape(input.values, (-1, dataset.BATCH_LENGTH, len(dataset.INPUT_FEATURES)))\n",
    "\n",
    "# try:\n",
    "#     target_data = pd.read_pickle('.data/target_data.dat')\n",
    "# except:\n",
    "#     target_data = dataset.target_data(dataset, verbose=True)\n",
    "#     target_data.to_pickle('.data/target_data.dat')\n",
    "\n",
    "ys = np.reshape(output.values, (-1, dataset.BATCH_LENGTH, len(dataset.OUTPUT_FEATURES)))\n",
    "\n",
    "xs.shape"
   ],
   "metadata": {
    "collapsed": false
   },
   "id": "7ce39514b249ca3"
  },
  {
   "cell_type": "code",
   "execution_count": null,
   "outputs": [],
   "source": [
    "ys.shape"
   ],
   "metadata": {
    "collapsed": false
   },
   "id": "e19cd6e26e427881"
  },
  {
   "cell_type": "code",
   "execution_count": null,
   "outputs": [],
   "source": [
    "# save dataset so we have it later\n",
    "\n",
    "# os.makedirs(f'.datasets', exist_ok=True)\n",
    "# \n",
    "np.save(f'.datasets/xs.npy', xs)\n",
    "np.save(f'.datasets/ys.npy', ys)"
   ],
   "metadata": {
    "collapsed": false
   },
   "id": "a645f1ad0d118839"
  },
  {
   "cell_type": "code",
   "execution_count": 2,
   "outputs": [],
   "source": [
    "# reload from saved\n",
    "\n",
    "xs = np.load(f'.datasets/xs_5000_07-21_23-28-07.npy')\n",
    "ys = np.load(f'.datasets/ys_5000_07-21_23-28-07.npy')\n",
    "\n",
    "# xs = np.load(f'.datasets/xs_142_07-21_21-50-55.npy')\n",
    "# ys = np.load(f'.datasets/ys_142_07-21_21-50-55.npy')"
   ],
   "metadata": {
    "collapsed": false,
    "ExecuteTime": {
     "end_time": "2025-07-23T05:34:44.511363200Z",
     "start_time": "2025-07-23T05:34:42.977275800Z"
    }
   },
   "id": "57a0b188412a33ea"
  },
  {
   "cell_type": "code",
   "execution_count": 3,
   "outputs": [],
   "source": [
    "# tys = ys.reshape(ys.shape[0] * ys.shape[1], ys.shape[2])\n",
    "# for frame in tys:\n",
    "#     if np.isinf(frame).any():\n",
    "#         print(frame)"
   ],
   "metadata": {
    "collapsed": false,
    "ExecuteTime": {
     "end_time": "2025-07-22T06:36:27.167222400Z",
     "start_time": "2025-07-22T06:36:27.122391900Z"
    }
   },
   "id": "88ed086eb110584c"
  },
  {
   "cell_type": "code",
   "execution_count": 7,
   "outputs": [],
   "source": [
    "import torch\n",
    "\n",
    "BATCH_SIZE = 128\n",
    "\n",
    "device = 'cuda' if torch.cuda.is_available() else 'cpu'"
   ],
   "metadata": {
    "collapsed": false,
    "ExecuteTime": {
     "end_time": "2025-07-23T05:35:08.994777800Z",
     "start_time": "2025-07-23T05:35:08.931009Z"
    }
   },
   "id": "df66cf1559ce0054"
  },
  {
   "cell_type": "code",
   "execution_count": 113,
   "outputs": [
    {
     "data": {
      "text/plain": "0"
     },
     "execution_count": 113,
     "metadata": {},
     "output_type": "execute_result"
    }
   ],
   "source": [
    "import torch\n",
    "import gc\n",
    "\n",
    "# Clear GPU cache\n",
    "torch.cuda.empty_cache()\n",
    "\n",
    "# Force garbage collection\n",
    "gc.collect()"
   ],
   "metadata": {
    "collapsed": false,
    "ExecuteTime": {
     "end_time": "2025-07-22T22:45:17.711719600Z",
     "start_time": "2025-07-22T22:45:17.453680200Z"
    }
   },
   "id": "2c66539c8ba103c8"
  },
  {
   "cell_type": "code",
   "outputs": [],
   "source": [
    "from osu.rnn import OsuReplayRNN"
   ],
   "metadata": {
    "collapsed": false,
    "ExecuteTime": {
     "end_time": "2025-07-22T22:45:17.813090500Z",
     "start_time": "2025-07-22T22:45:17.715720100Z"
    }
   },
   "id": "ef64a90c43d5a5c5",
   "execution_count": 114
  },
  {
   "cell_type": "code",
   "outputs": [
    {
     "name": "stdout",
     "output_type": "stream",
     "text": [
      "Creating RNN model...\n",
      "Position model compiled with torch.compile\n",
      "RNN Model initialized on cuda (noise_std=0.06)\n",
      "Position model parameters: 227650\n",
      "Data loaded: 14082 training samples, 3521 test samples (position only)\n"
     ]
    }
   ],
   "source": [
    "print(\"Creating RNN model...\")\n",
    "rnn = OsuReplayRNN(batch_size=BATCH_SIZE, noise_std=0.06)\n",
    "rnn.load_data(xs, ys)"
   ],
   "metadata": {
    "collapsed": false,
    "ExecuteTime": {
     "end_time": "2025-07-22T22:45:18.784743600Z",
     "start_time": "2025-07-22T22:45:18.111682Z"
    }
   },
   "id": "5b09ee4f3a71a037",
   "execution_count": 115
  },
  {
   "cell_type": "code",
   "outputs": [
    {
     "name": "stderr",
     "output_type": "stream",
     "text": [
      "Epoch 1/8 (Train): 100%|██████████| 111/111 [00:13<00:00,  8.30it/s]\n"
     ]
    },
    {
     "name": "stdout",
     "output_type": "stream",
     "text": [
      "Epoch 1/8, Train: 0.0011, Test: 0.0013\n"
     ]
    },
    {
     "name": "stderr",
     "output_type": "stream",
     "text": [
      "Epoch 2/8 (Train): 100%|██████████| 111/111 [00:12<00:00,  8.55it/s]\n"
     ]
    },
    {
     "name": "stdout",
     "output_type": "stream",
     "text": [
      "Epoch 2/8, Train: 0.0011, Test: 0.0013\n"
     ]
    },
    {
     "name": "stderr",
     "output_type": "stream",
     "text": [
      "Epoch 3/8 (Train): 100%|██████████| 111/111 [00:12<00:00,  8.55it/s]\n"
     ]
    },
    {
     "name": "stdout",
     "output_type": "stream",
     "text": [
      "Epoch 3/8, Train: 0.0011, Test: 0.0012\n"
     ]
    },
    {
     "name": "stderr",
     "output_type": "stream",
     "text": [
      "Epoch 4/8 (Train): 100%|██████████| 111/111 [00:12<00:00,  8.78it/s]\n"
     ]
    },
    {
     "name": "stdout",
     "output_type": "stream",
     "text": [
      "Epoch 4/8, Train: 0.0011, Test: 0.0011\n"
     ]
    },
    {
     "name": "stderr",
     "output_type": "stream",
     "text": [
      "Epoch 5/8 (Train): 100%|██████████| 111/111 [00:12<00:00,  8.68it/s]\n"
     ]
    },
    {
     "name": "stdout",
     "output_type": "stream",
     "text": [
      "Epoch 5/8, Train: 0.0011, Test: 0.0012\n"
     ]
    },
    {
     "name": "stderr",
     "output_type": "stream",
     "text": [
      "Epoch 6/8 (Train): 100%|██████████| 111/111 [00:12<00:00,  8.63it/s]\n"
     ]
    },
    {
     "name": "stdout",
     "output_type": "stream",
     "text": [
      "Epoch 6/8, Train: 0.0011, Test: 0.0011\n"
     ]
    },
    {
     "name": "stderr",
     "output_type": "stream",
     "text": [
      "Epoch 7/8 (Train): 100%|██████████| 111/111 [00:12<00:00,  8.74it/s]\n"
     ]
    },
    {
     "name": "stdout",
     "output_type": "stream",
     "text": [
      "Epoch 7/8, Train: 0.0011, Test: 0.0011\n"
     ]
    },
    {
     "name": "stderr",
     "output_type": "stream",
     "text": [
      "Epoch 8/8 (Train): 100%|██████████| 111/111 [00:12<00:00,  8.72it/s]\n"
     ]
    },
    {
     "name": "stdout",
     "output_type": "stream",
     "text": [
      "Epoch 8/8, Train: 0.0011, Test: 0.0010\n"
     ]
    },
    {
     "data": {
      "text/plain": "<Figure size 1000x600 with 1 Axes>",
      "image/png": "[encoded data removed]"
     },
     "metadata": {},
     "output_type": "display_data"
    },
    {
     "name": "stdout",
     "output_type": "stream",
     "text": [
      "RNN model saved to .trained/rnn_2025-07-22_19-05-41.pt\n"
     ]
    }
   ],
   "source": [
    "RNN_EPOCHS = 8\n",
    "\n",
    "# Train the RNN\n",
    "rnn.train(epochs=RNN_EPOCHS)\n",
    "rnn.plot_losses()\n",
    "rnn.save()"
   ],
   "metadata": {
    "collapsed": false,
    "ExecuteTime": {
     "end_time": "2025-07-22T23:05:41.754325500Z",
     "start_time": "2025-07-22T23:03:48.265949600Z"
    }
   },
   "id": "83bb34ade9f91d0c",
   "execution_count": 129
  },
  {
   "cell_type": "code",
   "execution_count": 51,
   "outputs": [
    {
     "ename": "NameError",
     "evalue": "name 'rnn' is not defined",
     "output_type": "error",
     "traceback": [
      "\u001B[31m---------------------------------------------------------------------------\u001B[39m",
      "\u001B[31mNameError\u001B[39m                                 Traceback (most recent call last)",
      "\u001B[36mCell\u001B[39m\u001B[36m \u001B[39m\u001B[32mIn[51]\u001B[39m\u001B[32m, line 10\u001B[39m\n\u001B[32m      7\u001B[39m \u001B[38;5;66;03m# Force garbage collection\u001B[39;00m\n\u001B[32m      8\u001B[39m gc.collect()\n\u001B[32m---> \u001B[39m\u001B[32m10\u001B[39m \u001B[38;5;28;01mdel\u001B[39;00m \u001B[43mrnn\u001B[49m\n",
      "\u001B[31mNameError\u001B[39m: name 'rnn' is not defined"
     ]
    }
   ],
   "source": [
    "import torch\n",
    "import gc\n",
    "\n",
    "# Clear GPU cache\n",
    "torch.cuda.empty_cache()\n",
    "\n",
    "# Force garbage collection\n",
    "gc.collect()\n",
    "\n",
    "del rnn"
   ],
   "metadata": {
    "collapsed": false,
    "ExecuteTime": {
     "end_time": "2025-07-22T18:51:48.876148800Z",
     "start_time": "2025-07-22T18:51:48.536766500Z"
    }
   },
   "id": "9538866029954e52"
  },
  {
   "cell_type": "code",
   "execution_count": 52,
   "outputs": [],
   "source": [
    "from osu.gan import OsuReplayGAN"
   ],
   "metadata": {
    "collapsed": false,
    "ExecuteTime": {
     "end_time": "2025-07-22T18:51:51.815239100Z",
     "start_time": "2025-07-22T18:51:51.713776Z"
    }
   },
   "id": "ea59e5b35a20c62b"
  },
  {
   "cell_type": "code",
   "outputs": [
    {
     "name": "stdout",
     "output_type": "stream",
     "text": [
      "Creating GAN model...\n",
      "Using LSTM discriminator\n",
      "GAN models compiled..\n",
      "GAN Models initialized on cuda\n",
      "Generator parameters: 244034\n",
      "Discriminator parameters: 55361\n",
      "Real positions: tensor([-0.2639, -0.2641, -0.2645, -0.2640, -0.2649], device='cuda:0')\n",
      "Generated positions: tensor([-0.2639, -0.2641, -0.2645, -0.2641, -0.2649], device='cuda:0')\n",
      "Random positions: tensor([-0.2638, -0.2641, -0.2645, -0.2640, -0.2649], device='cuda:0')\n",
      "Zero positions: tensor([-0.2639, -0.2641, -0.2645, -0.2641, -0.2649], device='cuda:0')\n",
      "Output range: [-0.264933, -0.263841]\n",
      "Output variance: 0.000000\n",
      "Real vs Generated gap: 0.000024 (smaller = generator fooling discriminator)\n",
      "Data loaded: 14082 training samples, 3521 test samples (position only)\n"
     ]
    }
   ],
   "source": [
    "print(\"Creating GAN model...\")\n",
    "gan = OsuReplayGAN(batch_size=BATCH_SIZE)\n",
    "gan.load_data(xs, ys)"
   ],
   "metadata": {
    "collapsed": false,
    "ExecuteTime": {
     "end_time": "2025-07-22T18:51:52.681336200Z",
     "start_time": "2025-07-22T18:51:51.853031500Z"
    }
   },
   "id": "35305533ba6f06cb",
   "execution_count": 53
  },
  {
   "cell_type": "code",
   "execution_count": 55,
   "outputs": [
    {
     "name": "stderr",
     "output_type": "stream",
     "text": [
      "Epoch 1/2 (GAN): 100%|██████████| 111/111 [03:42<00:00,  2.00s/it]\n"
     ]
    },
    {
     "name": "stdout",
     "output_type": "stream",
     "text": [
      "Epoch 1/2, Gen: 0.6977 (Pos: 0.0040), Disc: 0.6934\n"
     ]
    },
    {
     "name": "stderr",
     "output_type": "stream",
     "text": [
      "Epoch 2/2 (GAN): 100%|██████████| 111/111 [03:44<00:00,  2.02s/it]\n"
     ]
    },
    {
     "name": "stdout",
     "output_type": "stream",
     "text": [
      "Epoch 2/2, Gen: 0.6998 (Pos: 0.0034), Disc: 0.6934\n",
      "Real positions: tensor([-0.0067, -0.0176, -0.0046, -0.0247, -0.0096], device='cuda:0')\n",
      "Generated positions: tensor([-0.0067, -0.0175, -0.0046, -0.0247, -0.0095], device='cuda:0')\n",
      "Random positions: tensor([-0.0069, -0.0174, -0.0049, -0.0248, -0.0099], device='cuda:0')\n",
      "Zero positions: tensor([-0.0068, -0.0174, -0.0049, -0.0247, -0.0097], device='cuda:0')\n",
      "Output range: [-0.024833, -0.004579]\n",
      "Output variance: 0.000058\n",
      "Real vs Generated gap: 0.000050 (smaller = generator fooling discriminator)\n",
      "GAN models saved to .trained/gan_2025-07-22_15-05-52.pt\n"
     ]
    },
    {
     "data": {
      "text/plain": "<Figure size 1200x800 with 4 Axes>",
      "image/png": "[encoded data removed]"
     },
     "metadata": {},
     "output_type": "display_data"
    }
   ],
   "source": [
    "GAN_EPOCHS = 2\n",
    "\n",
    "# Train the GAN\n",
    "for i in range(1):\n",
    "    gan.train(epochs=GAN_EPOCHS)\n",
    "    gan.check_discriminator_sanity()\n",
    "    gan.save()\n",
    "    \n",
    "gan.plot_losses()"
   ],
   "metadata": {
    "collapsed": false,
    "ExecuteTime": {
     "end_time": "2025-07-22T19:05:52.804304900Z",
     "start_time": "2025-07-22T18:58:25.648659800Z"
    }
   },
   "id": "b7312299b611e68a"
  },
  {
   "cell_type": "code",
   "execution_count": 23,
   "outputs": [
    {
     "name": "stdout",
     "output_type": "stream",
     "text": [
      "Real positions: tensor([-0.0496, -0.0089,  0.0656, -0.0040, -0.0034], device='cuda:0')\n",
      "Random positions: tensor([ 8.6722, 14.9161, 18.8236,  6.2834, 12.5871], device='cuda:0')\n",
      "Zero positions: tensor([-0.0163, -0.0041, -0.0938, -0.0904, -0.0167], device='cuda:0')\n"
     ]
    }
   ],
   "source": [
    "gan.test_discriminator_capability()"
   ],
   "metadata": {
    "collapsed": false,
    "ExecuteTime": {
     "end_time": "2025-07-22T07:24:51.637442400Z",
     "start_time": "2025-07-22T07:24:51.444070100Z"
    }
   },
   "id": "5020a1ba80b9eab8"
  },
  {
   "cell_type": "code",
   "execution_count": 3,
   "outputs": [],
   "source": [
    "from osu.vae import OsuReplayVAE"
   ],
   "metadata": {
    "collapsed": false,
    "ExecuteTime": {
     "end_time": "2025-07-23T05:35:01.114773Z",
     "start_time": "2025-07-23T05:34:52.895697Z"
    }
   },
   "id": "89f58c804fb83b3"
  },
  {
   "cell_type": "code",
   "execution_count": 4,
   "outputs": [
    {
     "ename": "NameError",
     "evalue": "name 'BATCH_SIZE' is not defined",
     "output_type": "error",
     "traceback": [
      "\u001B[31m---------------------------------------------------------------------------\u001B[39m",
      "\u001B[31mNameError\u001B[39m                                 Traceback (most recent call last)",
      "\u001B[36mCell\u001B[39m\u001B[36m \u001B[39m\u001B[32mIn[4]\u001B[39m\u001B[32m, line 1\u001B[39m\n\u001B[32m----> \u001B[39m\u001B[32m1\u001B[39m vae = OsuReplayVAE(batch_size=\u001B[43mBATCH_SIZE\u001B[49m)\n\u001B[32m      3\u001B[39m vae.load_data(xs, ys)\n",
      "\u001B[31mNameError\u001B[39m: name 'BATCH_SIZE' is not defined"
     ]
    }
   ],
   "source": [
    "vae = OsuReplayVAE(batch_size=BATCH_SIZE)\n",
    "\n",
    "vae.load_data(xs, ys)"
   ],
   "metadata": {
    "collapsed": false,
    "ExecuteTime": {
     "end_time": "2025-07-23T05:35:01.390652800Z",
     "start_time": "2025-07-23T05:35:01.115772900Z"
    }
   },
   "id": "9c91c6d8b5e7a2d1"
  },
  {
   "cell_type": "code",
   "execution_count": null,
   "outputs": [],
   "source": [
    "\n",
    "VAE_EPOCHS = 15\n",
    "\n",
    "for i in range(45):\n",
    "    vae.train(VAE_EPOCHS)\n",
    "    vae.save()\n",
    "    \n",
    "vae.plot_losses()"
   ],
   "metadata": {
    "collapsed": false
   },
   "id": "b16deb4b9713c5f5"
  },
  {
   "cell_type": "code",
   "execution_count": null,
   "outputs": [],
   "source": [
    "from osu.keys import OsuKeyModel"
   ],
   "metadata": {
    "collapsed": false
   },
   "id": "4c01a975155f6e29"
  },
  {
   "cell_type": "code",
   "execution_count": null,
   "outputs": [],
   "source": [
    "print(\"Creating keypress model...\")\n",
    "keys = OsuKeyModel(batch_size=BATCH_SIZE)\n",
    "keys.load_data(xs, ys)"
   ],
   "metadata": {
    "collapsed": false
   },
   "id": "779e0772d6aaee37"
  },
  {
   "cell_type": "code",
   "execution_count": null,
   "outputs": [],
   "source": [
    "KEYS_EPOCHS = 12\n",
    "\n",
    "# Train the key model\n",
    "for i in range(12):\n",
    "    keys.train(epochs=KEYS_EPOCHS)\n",
    "    keys.save()\n",
    "    \n",
    "keys.plot_losses()"
   ],
   "metadata": {
    "collapsed": false
   },
   "id": "d085a88f2ffeaf32"
  },
  {
   "cell_type": "code",
   "execution_count": null,
   "outputs": [],
   "source": [
    "del keys"
   ],
   "metadata": {
    "collapsed": false
   },
   "id": "6e138caebc134e9c"
  },
  {
   "cell_type": "code",
   "execution_count": 131,
   "outputs": [
    {
     "name": "stderr",
     "output_type": "stream",
     "text": [
      "Turning beatmaps into time series data: 100%|██████████| 1/1 [00:00<00:00,  5.52it/s]\n"
     ]
    },
    {
     "data": {
      "text/plain": "                    x    y  time_until_click  is_slider  is_spinner    cs  \\\nchunk frame                                                                 \n0     0     -0.236328  0.0             0.380        1.0         0.0  0.42   \n      1     -0.236328  0.0             0.356        1.0         0.0  0.42   \n      2     -0.236328  0.0             0.332        1.0         0.0  0.42   \n      3     -0.236328  0.0             0.308        1.0         0.0  0.42   \n      4     -0.236328  0.0             0.284        1.0         0.0  0.42   \n...               ...  ...               ...        ...         ...   ...   \n3     2043   0.000000  0.0             0.000        0.0         0.0  0.00   \n      2044   0.000000  0.0             0.000        0.0         0.0  0.00   \n      2045   0.000000  0.0             0.000        0.0         0.0  0.00   \n      2046   0.000000  0.0             0.000        0.0         0.0  0.00   \n      2047   0.000000  0.0             0.000        0.0         0.0  0.00   \n\n             slider_speed  slider_len  \nchunk frame                            \n0     0             0.258        0.05  \n      1             0.258        0.05  \n      2             0.258        0.05  \n      3             0.258        0.05  \n      4             0.258        0.05  \n...                   ...         ...  \n3     2043          0.000        0.00  \n      2044          0.000        0.00  \n      2045          0.000        0.00  \n      2046          0.000        0.00  \n      2047          0.000        0.00  \n\n[8192 rows x 8 columns]",
      "text/html": "<div>\n<style scoped>\n    .dataframe tbody tr th:only-of-type {\n        vertical-align: middle;\n    }\n\n    .dataframe tbody tr th {\n        vertical-align: top;\n    }\n\n    .dataframe thead th {\n        text-align: right;\n    }\n</style>\n<table border=\"1\" class=\"dataframe\">\n  <thead>\n    <tr style=\"text-align: right;\">\n      <th></th>\n      <th></th>\n      <th>x</th>\n      <th>y</th>\n      <th>time_until_click</th>\n      <th>is_slider</th>\n      <th>is_spinner</th>\n      <th>cs</th>\n      <th>slider_speed</th>\n      <th>slider_len</th>\n    </tr>\n    <tr>\n      <th>chunk</th>\n      <th>frame</th>\n      <th></th>\n      <th></th>\n      <th></th>\n      <th></th>\n      <th></th>\n      <th></th>\n      <th></th>\n      <th></th>\n    </tr>\n  </thead>\n  <tbody>\n    <tr>\n      <th rowspan=\"5\" valign=\"top\">0</th>\n      <th>0</th>\n      <td>-0.236328</td>\n      <td>0.0</td>\n      <td>0.380</td>\n      <td>1.0</td>\n      <td>0.0</td>\n      <td>0.42</td>\n      <td>0.258</td>\n      <td>0.05</td>\n    </tr>\n    <tr>\n      <th>1</th>\n      <td>-0.236328</td>\n      <td>0.0</td>\n      <td>0.356</td>\n      <td>1.0</td>\n      <td>0.0</td>\n      <td>0.42</td>\n      <td>0.258</td>\n      <td>0.05</td>\n    </tr>\n    <tr>\n      <th>2</th>\n      <td>-0.236328</td>\n      <td>0.0</td>\n      <td>0.332</td>\n      <td>1.0</td>\n      <td>0.0</td>\n      <td>0.42</td>\n      <td>0.258</td>\n      <td>0.05</td>\n    </tr>\n    <tr>\n      <th>3</th>\n      <td>-0.236328</td>\n      <td>0.0</td>\n      <td>0.308</td>\n      <td>1.0</td>\n      <td>0.0</td>\n      <td>0.42</td>\n      <td>0.258</td>\n      <td>0.05</td>\n    </tr>\n    <tr>\n      <th>4</th>\n      <td>-0.236328</td>\n      <td>0.0</td>\n      <td>0.284</td>\n      <td>1.0</td>\n      <td>0.0</td>\n      <td>0.42</td>\n      <td>0.258</td>\n      <td>0.05</td>\n    </tr>\n    <tr>\n      <th>...</th>\n      <th>...</th>\n      <td>...</td>\n      <td>...</td>\n      <td>...</td>\n      <td>...</td>\n      <td>...</td>\n      <td>...</td>\n      <td>...</td>\n      <td>...</td>\n    </tr>\n    <tr>\n      <th rowspan=\"5\" valign=\"top\">3</th>\n      <th>2043</th>\n      <td>0.000000</td>\n      <td>0.0</td>\n      <td>0.000</td>\n      <td>0.0</td>\n      <td>0.0</td>\n      <td>0.00</td>\n      <td>0.000</td>\n      <td>0.00</td>\n    </tr>\n    <tr>\n      <th>2044</th>\n      <td>0.000000</td>\n      <td>0.0</td>\n      <td>0.000</td>\n      <td>0.0</td>\n      <td>0.0</td>\n      <td>0.00</td>\n      <td>0.000</td>\n      <td>0.00</td>\n    </tr>\n    <tr>\n      <th>2045</th>\n      <td>0.000000</td>\n      <td>0.0</td>\n      <td>0.000</td>\n      <td>0.0</td>\n      <td>0.0</td>\n      <td>0.00</td>\n      <td>0.000</td>\n      <td>0.00</td>\n    </tr>\n    <tr>\n      <th>2046</th>\n      <td>0.000000</td>\n      <td>0.0</td>\n      <td>0.000</td>\n      <td>0.0</td>\n      <td>0.0</td>\n      <td>0.00</td>\n      <td>0.000</td>\n      <td>0.00</td>\n    </tr>\n    <tr>\n      <th>2047</th>\n      <td>0.000000</td>\n      <td>0.0</td>\n      <td>0.000</td>\n      <td>0.0</td>\n      <td>0.0</td>\n      <td>0.00</td>\n      <td>0.000</td>\n      <td>0.00</td>\n    </tr>\n  </tbody>\n</table>\n<p>8192 rows × 8 columns</p>\n</div>"
     },
     "execution_count": 131,
     "metadata": {},
     "output_type": "execute_result"
    }
   ],
   "source": [
    "from osu.rulesets.mods import Mods\n",
    "import osu.rulesets.beatmap as bm\n",
    "import osu.dataset as dataset\n",
    "\n",
    "test_name = 'ringyou'\n",
    "test_mods = Mods.DOUBLE_TIME\n",
    "test_map_path = f'assets/{test_name}_map.osu'\n",
    "test_song = f'assets/{test_name}_song.mp3'\n",
    "\n",
    "test_map = bm.load(test_map_path)\n",
    "test_map.apply_mods(test_mods)\n",
    "\n",
    "data = dataset.input_data(test_map)\n",
    "data"
   ],
   "metadata": {
    "collapsed": false,
    "ExecuteTime": {
     "end_time": "2025-07-22T23:08:39.187849100Z",
     "start_time": "2025-07-22T23:08:38.881563700Z"
    }
   },
   "id": "333c00206b8b20b9"
  },
  {
   "cell_type": "code",
   "execution_count": 132,
   "outputs": [],
   "source": [
    "data = np.reshape(data.values, (-1, dataset.BATCH_LENGTH, len(dataset.INPUT_FEATURES)))\n",
    "data = torch.FloatTensor(data)"
   ],
   "metadata": {
    "collapsed": false,
    "ExecuteTime": {
     "end_time": "2025-07-22T23:08:39.810352200Z",
     "start_time": "2025-07-22T23:08:39.717224800Z"
    }
   },
   "id": "f1b4202bf1fd17ea"
  },
  {
   "cell_type": "code",
   "outputs": [
    {
     "name": "stdout",
     "output_type": "stream",
     "text": [
      "Generated replay data shape: (8192, 4)\n",
      "Saved to .generated\\ringyou.npy\n"
     ]
    }
   ],
   "source": [
    "with torch.no_grad():\n",
    "    # Use generator for inference\n",
    "    replay_data = rnn.generate(data)\n",
    "    \n",
    "replay_data = np.concatenate(replay_data)\n",
    "replay_data = np.pad(replay_data, ((0, 0), (0, 2)), mode='constant', constant_values=0)\n",
    "if not os.path.exists('.generated'):\n",
    "    os.makedirs('.generated')\n",
    "    \n",
    "np.save('.generated\\\\' + test_name + '.npy', replay_data)\n",
    "\n",
    "print(f\"Generated replay data shape: {replay_data.shape}\")\n",
    "print(f\"Saved to .generated\\\\{test_name}.npy\")"
   ],
   "metadata": {
    "collapsed": false,
    "ExecuteTime": {
     "end_time": "2025-07-22T23:08:40.611470600Z",
     "start_time": "2025-07-22T23:08:40.385610500Z"
    }
   },
   "id": "236d6cf3611e8928",
   "execution_count": 133
  },
  {
   "cell_type": "code",
   "execution_count": 134,
   "outputs": [
    {
     "data": {
      "text/plain": "tensor([[[-0.2363,  0.0000,  0.3800,  ...,  0.4200,  0.2580,  0.0500],\n         [-0.2363,  0.0000,  0.3560,  ...,  0.4200,  0.2580,  0.0500],\n         [-0.2363,  0.0000,  0.3320,  ...,  0.4200,  0.2580,  0.0500],\n         ...,\n         [ 0.2910,  0.0755,  0.0213,  ...,  0.4200,  0.0000,  0.0000],\n         [-0.2969,  0.1849,  0.1133,  ...,  0.4200,  0.0000,  0.0000],\n         [-0.2969,  0.1849,  0.0893,  ...,  0.4200,  0.0000,  0.0000]],\n\n        [[-0.2969,  0.1849,  0.0653,  ...,  0.4200,  0.0000,  0.0000],\n         [-0.2969,  0.1849,  0.0413,  ...,  0.4200,  0.0000,  0.0000],\n         [-0.2969,  0.1849,  0.0173,  ...,  0.4200,  0.0000,  0.0000],\n         ...,\n         [ 0.3203,  0.1458,  0.0553,  ...,  0.4200,  0.7740,  0.1500],\n         [ 0.3203,  0.1458,  0.0313,  ...,  0.4200,  0.7740,  0.1500],\n         [ 0.3203,  0.1458,  0.0073,  ...,  0.4200,  0.7740,  0.1500]],\n\n        [[ 0.3203,  0.1120,  0.0000,  ...,  0.4200,  0.7740,  0.1500],\n         [ 0.3242,  0.0651,  0.0000,  ...,  0.4200,  0.7740,  0.1500],\n         [ 0.3281,  0.0182,  0.0000,  ...,  0.4200,  0.7740,  0.1500],\n         ...,\n         [ 0.0137,  0.3229,  0.0893,  ...,  0.4200,  0.0000,  0.0000],\n         [ 0.0137,  0.3229,  0.0653,  ...,  0.4200,  0.0000,  0.0000],\n         [ 0.0137,  0.3229,  0.0413,  ...,  0.4200,  0.0000,  0.0000]],\n\n        [[ 0.0137,  0.3229,  0.0173,  ...,  0.4200,  0.0000,  0.0000],\n         [-0.0977, -0.0417,  0.1093,  ...,  0.4200,  0.0000,  0.0000],\n         [-0.0977, -0.0417,  0.0853,  ...,  0.4200,  0.0000,  0.0000],\n         ...,\n         [ 0.0000,  0.0000,  0.0000,  ...,  0.0000,  0.0000,  0.0000],\n         [ 0.0000,  0.0000,  0.0000,  ...,  0.0000,  0.0000,  0.0000],\n         [ 0.0000,  0.0000,  0.0000,  ...,  0.0000,  0.0000,  0.0000]]])"
     },
     "execution_count": 134,
     "metadata": {},
     "output_type": "execute_result"
    }
   ],
   "source": [
    "data[:500]"
   ],
   "metadata": {
    "collapsed": false,
    "ExecuteTime": {
     "end_time": "2025-07-22T23:08:41.186876100Z",
     "start_time": "2025-07-22T23:08:41.085368800Z"
    }
   },
   "id": "8676b02a909a5ccc"
  },
  {
   "cell_type": "code",
   "execution_count": 135,
   "outputs": [
    {
     "data": {
      "text/plain": "array([[-0.05669861, -0.01003247,  0.        ,  0.        ],\n       [-0.07373986, -0.00584773,  0.        ,  0.        ],\n       [-0.08680908, -0.00358545,  0.        ,  0.        ],\n       ...,\n       [-0.09404936,  0.03996268,  0.        ,  0.        ],\n       [-0.08838032,  0.00870745,  0.        ,  0.        ],\n       [-0.08174181, -0.02751468,  0.        ,  0.        ]],\n      shape=(500, 4), dtype=float32)"
     },
     "execution_count": 135,
     "metadata": {},
     "output_type": "execute_result"
    }
   ],
   "source": [
    "replay_data[:500]"
   ],
   "metadata": {
    "collapsed": false,
    "ExecuteTime": {
     "end_time": "2025-07-22T23:08:42.039936500Z",
     "start_time": "2025-07-22T23:08:41.944121Z"
    }
   },
   "id": "ecb3ba401b34c8a0"
  },
  {
   "cell_type": "code",
   "execution_count": 136,
   "outputs": [],
   "source": [
    "import importlib\n",
    "import osu.preview.preview as preview\n",
    "\n",
    "importlib.reload(preview)\n",
    "\n",
    "preview.preview_replay_raw(replay_data, test_map_path, test_mods, test_song)"
   ],
   "metadata": {
    "collapsed": false,
    "ExecuteTime": {
     "end_time": "2025-07-22T23:09:56.354325800Z",
     "start_time": "2025-07-22T23:08:42.536569400Z"
    }
   },
   "id": "6b4933974b96336b"
  },
  {
   "cell_type": "code",
   "execution_count": null,
   "outputs": [],
   "source": [],
   "metadata": {
    "collapsed": false
   },
   "id": "53d8f6a660be3f5b"
  }
 ],
 "metadata": {
  "kernelspec": {
   "display_name": "Python 3",
   "language": "python",
   "name": "python3"
  },
  "language_info": {
   "codemirror_mode": {
    "name": "ipython",
    "version": 2
   },
   "file_extension": ".py",
   "mimetype": "text/x-python",
   "name": "python",
   "nbconvert_exporter": "python",
   "pygments_lexer": "ipython2",
   "version": "2.7.6"
  }
 },
 "nbformat": 4,
 "nbformat_minor": 5
}
