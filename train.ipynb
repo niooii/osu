{
 "cells": [
  {
   "cell_type": "code",
   "execution_count": 1,
   "id": "initial_id",
   "metadata": {
    "collapsed": true,
    "ExecuteTime": {
     "end_time": "2025-07-15T08:27:22.489042Z",
     "start_time": "2025-07-15T08:27:20.299778200Z"
    }
   },
   "outputs": [
    {
     "name": "stdout",
     "output_type": "stream",
     "text": [
      "osu! path: C:\\Users\\niooi\\AppData\\Roaming/../Local/osu!\n",
      "pygame 2.6.1 (SDL 2.28.4, Python 3.12.10)\n",
      "Hello from the pygame community. https://www.pygame.org/contribute.html\n"
     ]
    },
    {
     "name": "stderr",
     "output_type": "stream",
     "text": [
      "E:\\Projects\\osu\\.venv\\Lib\\site-packages\\pygame\\pkgdata.py:25: UserWarning: pkg_resources is deprecated as an API. See https://setuptools.pypa.io/en/latest/pkg_resources.html. The pkg_resources package is slated for removal as early as 2025-11-30. Refrain from using this package or pin to Setuptools<81.\n",
      "  from pkg_resources import resource_stream, resource_exists\n"
     ]
    }
   ],
   "source": [
    "%load_ext autoreload\n",
    "%autoreload 2\n",
    "\n",
    "import os\n",
    "import re\n",
    "import math\n",
    "import glob\n",
    "from importlib import reload\n",
    "\n",
    "import tqdm \n",
    "import datetime\n",
    "\n",
    "import numpy as np\n",
    "import pandas as pd\n",
    "import matplotlib.pyplot as plt\n",
    "\n",
    "import osu.rulesets.beatmap as bm\n",
    "import osu.rulesets.replay as rp\n",
    "import osu.rulesets.hitobjects as hitobjects\n",
    "import osu.dataset as dataset\n",
    "\n",
    "import osu.preview.preview as preview"
   ]
  },
  {
   "cell_type": "code",
   "execution_count": 2,
   "outputs": [
    {
     "name": "stderr",
     "output_type": "stream",
     "text": [
      "Loading replay metadata from .data/replays: 100%|██████████| 3500/3500 [00:00<00:00, 11028.46it/s]\n",
      "Loading objects from .data/: 100%|██████████| 3500/3500 [01:17<00:00, 45.23it/s]\n"
     ]
    }
   ],
   "source": [
    "obj_dataset = dataset.replay_mapping_from_cache(3500)"
   ],
   "metadata": {
    "collapsed": false,
    "ExecuteTime": {
     "end_time": "2025-07-15T08:28:40.285435Z",
     "start_time": "2025-07-15T08:27:22.486983900Z"
    }
   },
   "id": "e75df68bfdf21155"
  },
  {
   "cell_type": "code",
   "execution_count": 3,
   "outputs": [
    {
     "data": {
      "text/plain": "                                                 replay  \\\n0     <osu.rulesets.replay.Replay object at 0x000002...   \n1     <osu.rulesets.replay.Replay object at 0x000002...   \n2     <osu.rulesets.replay.Replay object at 0x000002...   \n3     <osu.rulesets.replay.Replay object at 0x000002...   \n4     <osu.rulesets.replay.Replay object at 0x000002...   \n...                                                 ...   \n2943  <osu.rulesets.replay.Replay object at 0x000002...   \n2944  <osu.rulesets.replay.Replay object at 0x000002...   \n2945  <osu.rulesets.replay.Replay object at 0x000002...   \n2946  <osu.rulesets.replay.Replay object at 0x000002...   \n2947  <osu.rulesets.replay.Replay object at 0x000002...   \n\n                                                beatmap  \n0     <osu.rulesets.beatmap.Beatmap object at 0x0000...  \n1     <osu.rulesets.beatmap.Beatmap object at 0x0000...  \n2     <osu.rulesets.beatmap.Beatmap object at 0x0000...  \n3     <osu.rulesets.beatmap.Beatmap object at 0x0000...  \n4     <osu.rulesets.beatmap.Beatmap object at 0x0000...  \n...                                                 ...  \n2943  <osu.rulesets.beatmap.Beatmap object at 0x0000...  \n2944  <osu.rulesets.beatmap.Beatmap object at 0x0000...  \n2945  <osu.rulesets.beatmap.Beatmap object at 0x0000...  \n2946  <osu.rulesets.beatmap.Beatmap object at 0x0000...  \n2947  <osu.rulesets.beatmap.Beatmap object at 0x0000...  \n\n[2948 rows x 2 columns]",
      "text/html": "<div>\n<style scoped>\n    .dataframe tbody tr th:only-of-type {\n        vertical-align: middle;\n    }\n\n    .dataframe tbody tr th {\n        vertical-align: top;\n    }\n\n    .dataframe thead th {\n        text-align: right;\n    }\n</style>\n<table border=\"1\" class=\"dataframe\">\n  <thead>\n    <tr style=\"text-align: right;\">\n      <th></th>\n      <th>replay</th>\n      <th>beatmap</th>\n    </tr>\n  </thead>\n  <tbody>\n    <tr>\n      <th>0</th>\n      <td>&lt;osu.rulesets.replay.Replay object at 0x000002...</td>\n      <td>&lt;osu.rulesets.beatmap.Beatmap object at 0x0000...</td>\n    </tr>\n    <tr>\n      <th>1</th>\n      <td>&lt;osu.rulesets.replay.Replay object at 0x000002...</td>\n      <td>&lt;osu.rulesets.beatmap.Beatmap object at 0x0000...</td>\n    </tr>\n    <tr>\n      <th>2</th>\n      <td>&lt;osu.rulesets.replay.Replay object at 0x000002...</td>\n      <td>&lt;osu.rulesets.beatmap.Beatmap object at 0x0000...</td>\n    </tr>\n    <tr>\n      <th>3</th>\n      <td>&lt;osu.rulesets.replay.Replay object at 0x000002...</td>\n      <td>&lt;osu.rulesets.beatmap.Beatmap object at 0x0000...</td>\n    </tr>\n    <tr>\n      <th>4</th>\n      <td>&lt;osu.rulesets.replay.Replay object at 0x000002...</td>\n      <td>&lt;osu.rulesets.beatmap.Beatmap object at 0x0000...</td>\n    </tr>\n    <tr>\n      <th>...</th>\n      <td>...</td>\n      <td>...</td>\n    </tr>\n    <tr>\n      <th>2943</th>\n      <td>&lt;osu.rulesets.replay.Replay object at 0x000002...</td>\n      <td>&lt;osu.rulesets.beatmap.Beatmap object at 0x0000...</td>\n    </tr>\n    <tr>\n      <th>2944</th>\n      <td>&lt;osu.rulesets.replay.Replay object at 0x000002...</td>\n      <td>&lt;osu.rulesets.beatmap.Beatmap object at 0x0000...</td>\n    </tr>\n    <tr>\n      <th>2945</th>\n      <td>&lt;osu.rulesets.replay.Replay object at 0x000002...</td>\n      <td>&lt;osu.rulesets.beatmap.Beatmap object at 0x0000...</td>\n    </tr>\n    <tr>\n      <th>2946</th>\n      <td>&lt;osu.rulesets.replay.Replay object at 0x000002...</td>\n      <td>&lt;osu.rulesets.beatmap.Beatmap object at 0x0000...</td>\n    </tr>\n    <tr>\n      <th>2947</th>\n      <td>&lt;osu.rulesets.replay.Replay object at 0x000002...</td>\n      <td>&lt;osu.rulesets.beatmap.Beatmap object at 0x0000...</td>\n    </tr>\n  </tbody>\n</table>\n<p>2948 rows × 2 columns</p>\n</div>"
     },
     "execution_count": 3,
     "metadata": {},
     "output_type": "execute_result"
    }
   ],
   "source": [
    "obj_dataset"
   ],
   "metadata": {
    "collapsed": false,
    "ExecuteTime": {
     "end_time": "2025-07-15T08:28:40.342256300Z",
     "start_time": "2025-07-15T08:28:40.284409200Z"
    }
   },
   "id": "c2a7186ae2fdccde"
  },
  {
   "cell_type": "code",
   "execution_count": 4,
   "outputs": [
    {
     "name": "stderr",
     "output_type": "stream",
     "text": [
      "Turning beatmaps into time series data: 100%|██████████| 2948/2948 [15:58<00:00,  3.08it/s]  \n",
      "E:\\Projects\\osu\\osu\\dataset.py:43: UserWarning: Creating a tensor from a list of numpy.ndarrays is extremely slow. Please consider converting the list to a single numpy.ndarray with numpy.array() before converting to a tensor. (Triggered internally at C:\\actions-runner\\_work\\pytorch\\pytorch\\pytorch\\torch\\csrc\\utils\\tensor_new.cpp:257.)\n",
      "  tensor_list = [torch.tensor(seq, dtype=torch.float) for seq in data]\n",
      "Turning replays into time series data: 100%|██████████| 2948/2948 [01:34<00:00, 31.17it/s]\n"
     ]
    }
   ],
   "source": [
    "input_data = dataset.input_data(obj_dataset, verbose=True)\n",
    "output_data = dataset.target_data(obj_dataset, verbose=True)"
   ],
   "metadata": {
    "collapsed": false,
    "ExecuteTime": {
     "end_time": "2025-07-15T08:46:46.093846300Z",
     "start_time": "2025-07-15T08:28:40.339255600Z"
    }
   },
   "id": "d3a92857966bd166"
  },
  {
   "cell_type": "code",
   "execution_count": 5,
   "outputs": [],
   "source": [
    "input = input_data\n",
    "output = output_data"
   ],
   "metadata": {
    "collapsed": false,
    "ExecuteTime": {
     "end_time": "2025-07-15T08:46:46.151593800Z",
     "start_time": "2025-07-15T08:46:46.095972300Z"
    }
   },
   "id": "e154f4eddebe2dc"
  },
  {
   "cell_type": "code",
   "execution_count": 6,
   "outputs": [
    {
     "data": {
      "text/plain": "                    x         y   k1   k2\nchunk frame                              \n0     0     -0.220486 -0.116898  0.0  0.0\n      1     -0.220486 -0.116898  0.0  0.0\n      2     -0.229167 -0.108796  0.0  0.0\n      3     -0.229167 -0.108796  0.0  0.0\n      4     -0.227430 -0.107639  0.0  0.0\n...               ...       ...  ...  ...\n      495    0.107639  0.005787  0.0  1.0\n      496    0.165799  0.015046  0.0  1.0\n      497    0.174479  0.024305  0.0  1.0\n      498    0.187500  0.041667  0.0  1.0\n      499    0.187500  0.040509  0.0  1.0\n\n[500 rows x 4 columns]",
      "text/html": "<div>\n<style scoped>\n    .dataframe tbody tr th:only-of-type {\n        vertical-align: middle;\n    }\n\n    .dataframe tbody tr th {\n        vertical-align: top;\n    }\n\n    .dataframe thead th {\n        text-align: right;\n    }\n</style>\n<table border=\"1\" class=\"dataframe\">\n  <thead>\n    <tr style=\"text-align: right;\">\n      <th></th>\n      <th></th>\n      <th>x</th>\n      <th>y</th>\n      <th>k1</th>\n      <th>k2</th>\n    </tr>\n    <tr>\n      <th>chunk</th>\n      <th>frame</th>\n      <th></th>\n      <th></th>\n      <th></th>\n      <th></th>\n    </tr>\n  </thead>\n  <tbody>\n    <tr>\n      <th rowspan=\"11\" valign=\"top\">0</th>\n      <th>0</th>\n      <td>-0.220486</td>\n      <td>-0.116898</td>\n      <td>0.0</td>\n      <td>0.0</td>\n    </tr>\n    <tr>\n      <th>1</th>\n      <td>-0.220486</td>\n      <td>-0.116898</td>\n      <td>0.0</td>\n      <td>0.0</td>\n    </tr>\n    <tr>\n      <th>2</th>\n      <td>-0.229167</td>\n      <td>-0.108796</td>\n      <td>0.0</td>\n      <td>0.0</td>\n    </tr>\n    <tr>\n      <th>3</th>\n      <td>-0.229167</td>\n      <td>-0.108796</td>\n      <td>0.0</td>\n      <td>0.0</td>\n    </tr>\n    <tr>\n      <th>4</th>\n      <td>-0.227430</td>\n      <td>-0.107639</td>\n      <td>0.0</td>\n      <td>0.0</td>\n    </tr>\n    <tr>\n      <th>...</th>\n      <td>...</td>\n      <td>...</td>\n      <td>...</td>\n      <td>...</td>\n    </tr>\n    <tr>\n      <th>495</th>\n      <td>0.107639</td>\n      <td>0.005787</td>\n      <td>0.0</td>\n      <td>1.0</td>\n    </tr>\n    <tr>\n      <th>496</th>\n      <td>0.165799</td>\n      <td>0.015046</td>\n      <td>0.0</td>\n      <td>1.0</td>\n    </tr>\n    <tr>\n      <th>497</th>\n      <td>0.174479</td>\n      <td>0.024305</td>\n      <td>0.0</td>\n      <td>1.0</td>\n    </tr>\n    <tr>\n      <th>498</th>\n      <td>0.187500</td>\n      <td>0.041667</td>\n      <td>0.0</td>\n      <td>1.0</td>\n    </tr>\n    <tr>\n      <th>499</th>\n      <td>0.187500</td>\n      <td>0.040509</td>\n      <td>0.0</td>\n      <td>1.0</td>\n    </tr>\n  </tbody>\n</table>\n<p>500 rows × 4 columns</p>\n</div>"
     },
     "execution_count": 6,
     "metadata": {},
     "output_type": "execute_result"
    }
   ],
   "source": [
    "output[0:500]"
   ],
   "metadata": {
    "collapsed": false,
    "ExecuteTime": {
     "end_time": "2025-07-15T08:46:46.212493800Z",
     "start_time": "2025-07-15T08:46:46.152630100Z"
    }
   },
   "id": "57d70a1b50c3e2d2"
  },
  {
   "cell_type": "code",
   "execution_count": 7,
   "outputs": [
    {
     "data": {
      "text/plain": "(11282, 2048, 5)"
     },
     "execution_count": 7,
     "metadata": {},
     "output_type": "execute_result"
    }
   ],
   "source": [
    "import torch\n",
    "\n",
    "xs = np.reshape(input.values, (-1, dataset.BATCH_LENGTH, len(dataset.INPUT_FEATURES)))\n",
    "\n",
    "# try:\n",
    "#     target_data = pd.read_pickle('.data/target_data.dat')\n",
    "# except:\n",
    "#     target_data = dataset.target_data(dataset, verbose=True)\n",
    "#     target_data.to_pickle('.data/target_data.dat')\n",
    "\n",
    "ys = np.reshape(output.values, (-1, dataset.BATCH_LENGTH, len(dataset.OUTPUT_FEATURES)))\n",
    "\n",
    "xs.shape"
   ],
   "metadata": {
    "collapsed": false,
    "ExecuteTime": {
     "end_time": "2025-07-15T08:46:46.325533700Z",
     "start_time": "2025-07-15T08:46:46.208345700Z"
    }
   },
   "id": "7ce39514b249ca3"
  },
  {
   "cell_type": "code",
   "execution_count": 8,
   "outputs": [
    {
     "data": {
      "text/plain": "array([[[-0.35546875, -0.5       ,  1.        ,  1.        ,\n          0.        ],\n        [-0.35546875, -0.5       ,  0.94666666,  1.        ,\n          0.        ],\n        [-0.35546875, -0.5       ,  0.8933333 ,  1.        ,\n          0.        ],\n        ...,\n        [-0.41601562, -0.03125   ,  0.12888889,  1.        ,\n          0.        ],\n        [-0.41601562, -0.03125   ,  0.07555556,  1.        ,\n          0.        ],\n        [-0.41601562, -0.03125   ,  0.02222222,  1.        ,\n          0.        ]],\n\n       [[-0.42578125, -0.0546875 ,  0.        ,  1.        ,\n          0.        ],\n        [-0.4375    , -0.09375   ,  0.        ,  1.        ,\n          0.        ],\n        [-0.44140625, -0.13802083,  0.        ,  1.        ,\n          0.        ],\n        ...,\n        [ 0.328125  ,  0.3828125 ,  0.19333333,  1.        ,\n          0.        ],\n        [ 0.328125  ,  0.3828125 ,  0.14      ,  1.        ,\n          0.        ],\n        [ 0.328125  ,  0.3828125 ,  0.08666667,  1.        ,\n          0.        ]],\n\n       [[ 0.328125  ,  0.3828125 ,  0.03333334,  1.        ,\n          0.        ],\n        [ 0.33789062,  0.38802084,  0.        ,  1.        ,\n          0.        ],\n        [ 0.3671875 ,  0.40625   ,  0.        ,  1.        ,\n          0.        ],\n        ...,\n        [-0.25      ,  0.08854166,  0.25555557,  1.        ,\n          0.        ],\n        [-0.25      ,  0.08854166,  0.20222223,  1.        ,\n          0.        ],\n        [-0.25      ,  0.08854166,  0.14888889,  1.        ,\n          0.        ]],\n\n       ...,\n\n       [[-0.015625  , -0.171875  ,  0.        ,  1.        ,\n          0.        ],\n        [ 0.13085938, -0.16927083,  0.17254902,  1.        ,\n          0.        ],\n        [ 0.13085938, -0.16927083,  0.1254902 ,  1.        ,\n          0.        ],\n        ...,\n        [ 0.22851562,  0.        ,  0.11764706,  0.        ,\n          0.        ],\n        [ 0.22851562,  0.        ,  0.07058824,  0.        ,\n          0.        ],\n        [ 0.22851562,  0.        ,  0.02352941,  0.        ,\n          0.        ]],\n\n       [[ 0.11328125, -0.08072916,  0.14509805,  0.        ,\n          0.        ],\n        [ 0.11328125, -0.08072916,  0.09803922,  0.        ,\n          0.        ],\n        [ 0.11328125, -0.08072916,  0.05098039,  0.        ,\n          0.        ],\n        ...,\n        [ 0.        ,  0.        ,  0.        ,  0.        ,\n          1.        ],\n        [ 0.        ,  0.        ,  0.        ,  0.        ,\n          1.        ],\n        [ 0.        ,  0.        ,  0.        ,  0.        ,\n          1.        ]],\n\n       [[ 0.        ,  0.        ,  0.        ,  0.        ,\n          1.        ],\n        [ 0.        ,  0.        ,  0.        ,  0.        ,\n          1.        ],\n        [ 0.        ,  0.        ,  0.        ,  0.        ,\n          1.        ],\n        ...,\n        [ 0.        ,  0.        ,  0.        ,  0.        ,\n          0.        ],\n        [ 0.        ,  0.        ,  0.        ,  0.        ,\n          0.        ],\n        [ 0.        ,  0.        ,  0.        ,  0.        ,\n          0.        ]]], shape=(11282, 2048, 5), dtype=float32)"
     },
     "execution_count": 8,
     "metadata": {},
     "output_type": "execute_result"
    }
   ],
   "source": [
    "xs"
   ],
   "metadata": {
    "collapsed": false,
    "ExecuteTime": {
     "end_time": "2025-07-15T08:46:46.341918200Z",
     "start_time": "2025-07-15T08:46:46.258508100Z"
    }
   },
   "id": "e19cd6e26e427881"
  },
  {
   "cell_type": "code",
   "execution_count": 9,
   "outputs": [],
   "source": [
    "# ys = ys[0:xs.shape[0]]"
   ],
   "metadata": {
    "collapsed": false,
    "ExecuteTime": {
     "end_time": "2025-07-15T08:46:46.392395900Z",
     "start_time": "2025-07-15T08:46:46.311057700Z"
    }
   },
   "id": "a645f1ad0d118839"
  },
  {
   "cell_type": "code",
   "execution_count": 10,
   "outputs": [],
   "source": [
    "import torch\n",
    "import torch.nn as nn\n",
    "import torch.optim as optim\n",
    "import torch.nn.functional as F\n",
    "\n",
    "from sklearn.model_selection import train_test_split\n",
    "from random import randint \n",
    "from torch.utils.data import DataLoader, TensorDataset\n",
    "\n",
    "BATCH_SIZE = 128\n",
    "\n",
    "device = 'cuda' if torch.cuda.is_available() else 'cpu'\n",
    "\n",
    "# \n",
    "# x_train, x_test, y_train, y_test = train_test_split(xs, ys, test_size=0.2, random_state=randint(0, 100))\n",
    "# \n",
    "# train_dataset = TensorDataset(torch.FloatTensor(x_train), torch.FloatTensor(y_train))\n",
    "# \n",
    "# train_loader = DataLoader(train_dataset, batch_size=BATCH_SIZE, shuffle=True)"
   ],
   "metadata": {
    "collapsed": false,
    "ExecuteTime": {
     "end_time": "2025-07-15T08:46:47.485591600Z",
     "start_time": "2025-07-15T08:46:46.364429100Z"
    }
   },
   "id": "df66cf1559ce0054"
  },
  {
   "cell_type": "code",
   "outputs": [],
   "source": [
    "from osu.gan import OsuReplayGAN\n",
    "from osu.rnn import OsuReplayRNN"
   ],
   "metadata": {
    "collapsed": false,
    "ExecuteTime": {
     "end_time": "2025-07-15T20:38:41.435329300Z",
     "start_time": "2025-07-15T20:38:41.331798400Z"
    }
   },
   "id": "ef64a90c43d5a5c5",
   "execution_count": 92
  },
  {
   "cell_type": "code",
   "outputs": [
    {
     "name": "stdout",
     "output_type": "stream",
     "text": [
      "Creating RNN model...\n",
      "RNN Model initialized on cuda (noise_std=0.0)\n",
      "Model parameters: 226244\n",
      "Data loaded: 9025 training samples, 2257 test samples\n"
     ]
    }
   ],
   "source": [
    "print(\"Creating RNN model...\")\n",
    "rnn = OsuReplayRNN(batch_size=BATCH_SIZE, noise_std=0.00)\n",
    "rnn.load_data(xs, ys)"
   ],
   "metadata": {
    "collapsed": false,
    "ExecuteTime": {
     "end_time": "2025-07-15T20:38:41.862037200Z",
     "start_time": "2025-07-15T20:38:41.511064500Z"
    }
   },
   "id": "5b09ee4f3a71a037",
   "execution_count": 93
  },
  {
   "cell_type": "code",
   "outputs": [
    {
     "name": "stderr",
     "output_type": "stream",
     "text": [
      "Epoch 1/10 (Train): 100%|██████████| 71/71 [00:10<00:00,  6.55it/s]\n"
     ]
    },
    {
     "name": "stdout",
     "output_type": "stream",
     "text": [
      "Epoch 1/10, Train Loss: 0.5945, Test Loss: 0.5489\n"
     ]
    },
    {
     "name": "stderr",
     "output_type": "stream",
     "text": [
      "Epoch 2/10 (Train): 100%|██████████| 71/71 [00:10<00:00,  6.68it/s]\n"
     ]
    },
    {
     "name": "stdout",
     "output_type": "stream",
     "text": [
      "Epoch 2/10, Train Loss: 0.4823, Test Loss: 0.4305\n"
     ]
    },
    {
     "name": "stderr",
     "output_type": "stream",
     "text": [
      "Epoch 3/10 (Train): 100%|██████████| 71/71 [00:10<00:00,  6.60it/s]\n"
     ]
    },
    {
     "name": "stdout",
     "output_type": "stream",
     "text": [
      "Epoch 3/10, Train Loss: 0.4249, Test Loss: 0.4156\n"
     ]
    },
    {
     "name": "stderr",
     "output_type": "stream",
     "text": [
      "Epoch 4/10 (Train): 100%|██████████| 71/71 [00:10<00:00,  6.63it/s]\n"
     ]
    },
    {
     "name": "stdout",
     "output_type": "stream",
     "text": [
      "Epoch 4/10, Train Loss: 0.4165, Test Loss: 0.4176\n"
     ]
    },
    {
     "name": "stderr",
     "output_type": "stream",
     "text": [
      "Epoch 5/10 (Train): 100%|██████████| 71/71 [00:10<00:00,  6.52it/s]\n"
     ]
    },
    {
     "name": "stdout",
     "output_type": "stream",
     "text": [
      "Epoch 5/10, Train Loss: 0.4200, Test Loss: 0.4102\n"
     ]
    },
    {
     "name": "stderr",
     "output_type": "stream",
     "text": [
      "Epoch 6/10 (Train): 100%|██████████| 71/71 [00:10<00:00,  6.82it/s]\n"
     ]
    },
    {
     "name": "stdout",
     "output_type": "stream",
     "text": [
      "Epoch 6/10, Train Loss: 0.4090, Test Loss: 0.4044\n"
     ]
    },
    {
     "name": "stderr",
     "output_type": "stream",
     "text": [
      "Epoch 7/10 (Train): 100%|██████████| 71/71 [00:10<00:00,  7.07it/s]\n"
     ]
    },
    {
     "name": "stdout",
     "output_type": "stream",
     "text": [
      "Epoch 7/10, Train Loss: 0.4078, Test Loss: 0.4064\n"
     ]
    },
    {
     "name": "stderr",
     "output_type": "stream",
     "text": [
      "Epoch 8/10 (Train): 100%|██████████| 71/71 [00:10<00:00,  7.00it/s]\n"
     ]
    },
    {
     "name": "stdout",
     "output_type": "stream",
     "text": [
      "Epoch 8/10, Train Loss: 0.4060, Test Loss: 0.4020\n"
     ]
    },
    {
     "name": "stderr",
     "output_type": "stream",
     "text": [
      "Epoch 9/10 (Train): 100%|██████████| 71/71 [00:10<00:00,  7.04it/s]\n"
     ]
    },
    {
     "name": "stdout",
     "output_type": "stream",
     "text": [
      "Epoch 9/10, Train Loss: 0.4050, Test Loss: 0.4026\n"
     ]
    },
    {
     "name": "stderr",
     "output_type": "stream",
     "text": [
      "Epoch 10/10 (Train): 100%|██████████| 71/71 [00:10<00:00,  7.09it/s]\n"
     ]
    },
    {
     "name": "stdout",
     "output_type": "stream",
     "text": [
      "Epoch 10/10, Train Loss: 0.4044, Test Loss: 0.4015\n"
     ]
    },
    {
     "data": {
      "text/plain": "<Figure size 1000x500 with 1 Axes>",
      "image/png": "[encoded data removed]"
     },
     "metadata": {},
     "output_type": "display_data"
    },
    {
     "name": "stdout",
     "output_type": "stream",
     "text": [
      "RNN model saved to .trained/rnn_2025-07-15_16-40-36.pt\n"
     ]
    }
   ],
   "source": [
    "RNN_EPOCHS = 10\n",
    "\n",
    "# Train the RNN\n",
    "rnn.train(epochs=RNN_EPOCHS)\n",
    "rnn.plot_losses()\n",
    "rnn.save()"
   ],
   "metadata": {
    "collapsed": false,
    "ExecuteTime": {
     "end_time": "2025-07-15T20:40:36.504377600Z",
     "start_time": "2025-07-15T20:38:41.858915400Z"
    }
   },
   "id": "83bb34ade9f91d0c",
   "execution_count": 94
  },
  {
   "cell_type": "code",
   "execution_count": 81,
   "outputs": [
    {
     "data": {
      "text/plain": "1405"
     },
     "execution_count": 81,
     "metadata": {},
     "output_type": "execute_result"
    }
   ],
   "source": [
    "# import torch\n",
    "# import gc\n",
    "# \n",
    "# # Clear GPU cache\n",
    "# torch.cuda.empty_cache()\n",
    "# \n",
    "# # Force garbage collection\n",
    "# gc.collect()"
   ],
   "metadata": {
    "collapsed": false,
    "ExecuteTime": {
     "end_time": "2025-07-15T20:24:00.923804400Z",
     "start_time": "2025-07-15T20:23:59.708134500Z"
    }
   },
   "id": "9538866029954e52"
  },
  {
   "cell_type": "code",
   "outputs": [
    {
     "name": "stdout",
     "output_type": "stream",
     "text": [
      "Creating GAN model...\n",
      "GAN Models initialized on cuda (noise_dim=4)\n",
      "Generator parameters: 213732\n",
      "Discriminator parameters: 55105\n",
      "Data loaded: 9025 training samples, 2257 test samples\n"
     ]
    }
   ],
   "source": "print(\"Creating GAN model...\")\ngan = OsuReplayGAN(batch_size=BATCH_SIZE, noise_dim=4)\ngan.load_data(xs, ys)",
   "metadata": {
    "collapsed": false,
    "ExecuteTime": {
     "end_time": "2025-07-15T09:17:06.263724800Z",
     "start_time": "2025-07-15T09:17:05.934387100Z"
    }
   },
   "id": "35305533ba6f06cb",
   "execution_count": 14
  },
  {
   "cell_type": "code",
   "execution_count": 15,
   "outputs": [
    {
     "name": "stderr",
     "output_type": "stream",
     "text": [
      "Epoch 1/15 (GAN): 100%|██████████| 71/71 [01:31<00:00,  1.28s/it]\n"
     ]
    },
    {
     "name": "stdout",
     "output_type": "stream",
     "text": [
      "Epoch 1/15, Gen Loss: 2.2418, Disc Loss: 0.6939\n"
     ]
    },
    {
     "name": "stderr",
     "output_type": "stream",
     "text": [
      "Epoch 2/15 (GAN): 100%|██████████| 71/71 [01:28<00:00,  1.25s/it]\n"
     ]
    },
    {
     "name": "stdout",
     "output_type": "stream",
     "text": [
      "Epoch 2/15, Gen Loss: 2.0513, Disc Loss: 0.6855\n"
     ]
    },
    {
     "name": "stderr",
     "output_type": "stream",
     "text": [
      "Epoch 3/15 (GAN): 100%|██████████| 71/71 [01:29<00:00,  1.26s/it]\n"
     ]
    },
    {
     "name": "stdout",
     "output_type": "stream",
     "text": [
      "Epoch 3/15, Gen Loss: 2.0141, Disc Loss: 0.5713\n"
     ]
    },
    {
     "name": "stderr",
     "output_type": "stream",
     "text": [
      "Epoch 4/15 (GAN): 100%|██████████| 71/71 [01:28<00:00,  1.25s/it]\n"
     ]
    },
    {
     "name": "stdout",
     "output_type": "stream",
     "text": [
      "Epoch 4/15, Gen Loss: 2.0012, Disc Loss: 0.4008\n"
     ]
    },
    {
     "name": "stderr",
     "output_type": "stream",
     "text": [
      "Epoch 5/15 (GAN): 100%|██████████| 71/71 [01:29<00:00,  1.27s/it]\n"
     ]
    },
    {
     "name": "stdout",
     "output_type": "stream",
     "text": [
      "Epoch 5/15, Gen Loss: 2.0448, Disc Loss: 0.3610\n"
     ]
    },
    {
     "name": "stderr",
     "output_type": "stream",
     "text": [
      "Epoch 6/15 (GAN): 100%|██████████| 71/71 [01:29<00:00,  1.25s/it]\n"
     ]
    },
    {
     "name": "stdout",
     "output_type": "stream",
     "text": [
      "Epoch 6/15, Gen Loss: 1.8723, Disc Loss: 0.7065\n"
     ]
    },
    {
     "name": "stderr",
     "output_type": "stream",
     "text": [
      "Epoch 7/15 (GAN): 100%|██████████| 71/71 [01:30<00:00,  1.27s/it]\n"
     ]
    },
    {
     "name": "stdout",
     "output_type": "stream",
     "text": [
      "Epoch 7/15, Gen Loss: 1.8157, Disc Loss: 0.7022\n"
     ]
    },
    {
     "name": "stderr",
     "output_type": "stream",
     "text": [
      "Epoch 8/15 (GAN): 100%|██████████| 71/71 [01:28<00:00,  1.25s/it]\n"
     ]
    },
    {
     "name": "stdout",
     "output_type": "stream",
     "text": [
      "Epoch 8/15, Gen Loss: 1.8176, Disc Loss: 0.6999\n"
     ]
    },
    {
     "name": "stderr",
     "output_type": "stream",
     "text": [
      "Epoch 9/15 (GAN): 100%|██████████| 71/71 [01:30<00:00,  1.27s/it]\n"
     ]
    },
    {
     "name": "stdout",
     "output_type": "stream",
     "text": [
      "Epoch 9/15, Gen Loss: 1.8076, Disc Loss: 0.6990\n"
     ]
    },
    {
     "name": "stderr",
     "output_type": "stream",
     "text": [
      "Epoch 10/15 (GAN): 100%|██████████| 71/71 [01:29<00:00,  1.25s/it]\n"
     ]
    },
    {
     "name": "stdout",
     "output_type": "stream",
     "text": [
      "Epoch 10/15, Gen Loss: 1.8023, Disc Loss: 0.6982\n"
     ]
    },
    {
     "name": "stderr",
     "output_type": "stream",
     "text": [
      "Epoch 11/15 (GAN): 100%|██████████| 71/71 [01:29<00:00,  1.27s/it]\n"
     ]
    },
    {
     "name": "stdout",
     "output_type": "stream",
     "text": [
      "Epoch 11/15, Gen Loss: 1.7879, Disc Loss: 0.6975\n"
     ]
    },
    {
     "name": "stderr",
     "output_type": "stream",
     "text": [
      "Epoch 12/15 (GAN): 100%|██████████| 71/71 [01:29<00:00,  1.25s/it]\n"
     ]
    },
    {
     "name": "stdout",
     "output_type": "stream",
     "text": [
      "Epoch 12/15, Gen Loss: 1.7721, Disc Loss: 0.6969\n"
     ]
    },
    {
     "name": "stderr",
     "output_type": "stream",
     "text": [
      "Epoch 13/15 (GAN): 100%|██████████| 71/71 [01:29<00:00,  1.27s/it]\n"
     ]
    },
    {
     "name": "stdout",
     "output_type": "stream",
     "text": [
      "Epoch 13/15, Gen Loss: 1.7709, Disc Loss: 0.6956\n"
     ]
    },
    {
     "name": "stderr",
     "output_type": "stream",
     "text": [
      "Epoch 14/15 (GAN): 100%|██████████| 71/71 [01:28<00:00,  1.25s/it]\n"
     ]
    },
    {
     "name": "stdout",
     "output_type": "stream",
     "text": [
      "Epoch 14/15, Gen Loss: 1.7564, Disc Loss: 0.6957\n"
     ]
    },
    {
     "name": "stderr",
     "output_type": "stream",
     "text": [
      "Epoch 15/15 (GAN): 100%|██████████| 71/71 [01:29<00:00,  1.26s/it]"
     ]
    },
    {
     "name": "stdout",
     "output_type": "stream",
     "text": [
      "Epoch 15/15, Gen Loss: 1.7427, Disc Loss: 0.6957\n"
     ]
    },
    {
     "name": "stderr",
     "output_type": "stream",
     "text": [
      "\n"
     ]
    },
    {
     "data": {
      "text/plain": "<Figure size 1200x400 with 3 Axes>",
      "image/png": "[encoded data removed]"
     },
     "metadata": {},
     "output_type": "display_data"
    },
    {
     "name": "stdout",
     "output_type": "stream",
     "text": [
      "GAN models saved with prefix .trained/gan_2025-07-15_05-39-28\n"
     ]
    }
   ],
   "source": [
    "GAN_EPOCHS = 15\n",
    "\n",
    "# Train the GAN\n",
    "gan.train(epochs=GAN_EPOCHS, lambda_recon=10.0)\n",
    "gan.plot_losses()\n",
    "gan.save()"
   ],
   "metadata": {
    "collapsed": false,
    "ExecuteTime": {
     "end_time": "2025-07-15T09:39:28.320929400Z",
     "start_time": "2025-07-15T09:17:06.256491100Z"
    }
   },
   "id": "b7312299b611e68a"
  },
  {
   "cell_type": "code",
   "execution_count": 28,
   "outputs": [
    {
     "name": "stderr",
     "output_type": "stream",
     "text": [
      "Turning beatmaps into time series data: 100%|██████████| 1/1 [00:00<00:00,  1.77it/s]\n"
     ]
    }
   ],
   "source": [
    "from osu.rulesets.mods import Mods\n",
    "import osu.rulesets.beatmap as bm\n",
    "import osu.rulesets.replay as rp\n",
    "import osu.dataset as dataset\n",
    "\n",
    "test_name = 'rubiks'\n",
    "test_mods = Mods.HARD_ROCK\n",
    "test_map_path = f'assets/{test_name}_map.osu'\n",
    "test_song = f'assets/{test_name}_song.mp3'\n",
    "\n",
    "test_map = bm.load(test_map_path)\n",
    "test_map.apply_mods(test_mods)\n",
    "\n",
    "data = dataset.input_data(test_map)\n",
    "data = np.reshape(data.values, (-1, dataset.BATCH_LENGTH, len(dataset.INPUT_FEATURES)))\n",
    "data = torch.FloatTensor(data)"
   ],
   "metadata": {
    "collapsed": false,
    "ExecuteTime": {
     "end_time": "2025-07-15T19:03:24.673465200Z",
     "start_time": "2025-07-15T19:03:23.983562800Z"
    }
   },
   "id": "333c00206b8b20b9"
  },
  {
   "cell_type": "code",
   "outputs": [
    {
     "name": "stdout",
     "output_type": "stream",
     "text": [
      "Generated replay data shape: (8192, 4)\n",
      "Saved to .generated\\rubiks.npy\n"
     ]
    }
   ],
   "source": [
    "with torch.no_grad():\n",
    "    # Use generator for inference\n",
    "    replay_data = rnn.generate(data)\n",
    "    \n",
    "replay_data = np.concatenate(replay_data)\n",
    "if not os.path.exists('.generated'):\n",
    "    os.makedirs('.generated')\n",
    "    \n",
    "np.save('.generated\\\\' + test_name + '.npy', replay_data)\n",
    "\n",
    "print(f\"Generated replay data shape: {replay_data.shape}\")\n",
    "print(f\"Saved to .generated\\\\{test_name}.npy\")"
   ],
   "metadata": {
    "collapsed": false,
    "ExecuteTime": {
     "end_time": "2025-07-15T19:03:24.924169800Z",
     "start_time": "2025-07-15T19:03:24.670356200Z"
    }
   },
   "id": "236d6cf3611e8928",
   "execution_count": 29
  },
  {
   "cell_type": "code",
   "execution_count": 30,
   "outputs": [
    {
     "data": {
      "text/plain": "array([[-0.02848415,  0.00946948,  0.        ,  0.        ],\n       [-0.03079884, -0.00257415,  0.        ,  0.        ],\n       [-0.04895214, -0.00523007,  0.        ,  0.        ],\n       ...,\n       [-0.06873588,  0.17758213,  1.        ,  0.        ],\n       [-0.07033934,  0.1979261 ,  1.        ,  0.        ],\n       [-0.07712197,  0.24043933,  1.        ,  0.        ]],\n      shape=(500, 4), dtype=float32)"
     },
     "execution_count": 30,
     "metadata": {},
     "output_type": "execute_result"
    }
   ],
   "source": [
    "replay_data[:500]"
   ],
   "metadata": {
    "collapsed": false,
    "ExecuteTime": {
     "end_time": "2025-07-15T19:03:25.517421400Z",
     "start_time": "2025-07-15T19:03:25.429007400Z"
    }
   },
   "id": "ecb3ba401b34c8a0"
  },
  {
   "cell_type": "code",
   "execution_count": 31,
   "outputs": [
    {
     "name": "stdout",
     "output_type": "stream",
     "text": [
      "k1 pressed\n",
      "k1 released\n",
      "k1 pressed\n",
      "k1 released\n",
      "k1 pressed\n",
      "k1 released\n",
      "k1 pressed\n",
      "k1 released\n",
      "k1 pressed\n",
      "k1 released\n",
      "k1 pressed\n",
      "k1 released\n",
      "k1 pressed\n",
      "k1 released\n",
      "k1 pressed\n",
      "k1 released\n",
      "k1 pressed\n",
      "k1 released\n",
      "k1 pressed\n",
      "k1 released\n",
      "k1 pressed\n",
      "k1 released\n",
      "k1 pressed\n",
      "k1 released\n",
      "k1 pressed\n",
      "k1 released\n",
      "k1 pressed\n",
      "k1 released\n",
      "k1 pressed\n",
      "k1 released\n",
      "k1 pressed\n",
      "k1 released\n",
      "k1 pressed\n",
      "k1 released\n",
      "k1 pressed\n",
      "k1 released\n",
      "k1 pressed\n",
      "k1 released\n",
      "k1 pressed\n",
      "k1 released\n",
      "k1 pressed\n",
      "k1 released\n",
      "k1 pressed\n",
      "k1 released\n",
      "k1 pressed\n",
      "k1 released\n",
      "k1 pressed\n",
      "k1 released\n",
      "k1 pressed\n",
      "k1 released\n",
      "k1 pressed\n",
      "k1 released\n",
      "k1 pressed\n",
      "k1 released\n",
      "k1 pressed\n",
      "k1 released\n",
      "k1 pressed\n",
      "k1 released\n",
      "k1 pressed\n",
      "k1 released\n",
      "k1 pressed\n",
      "k1 released\n",
      "k1 pressed\n",
      "k1 released\n",
      "k1 pressed\n",
      "k1 released\n",
      "k1 pressed\n",
      "k1 released\n",
      "k1 pressed\n",
      "k1 released\n",
      "k1 pressed\n",
      "k1 released\n",
      "k1 pressed\n",
      "k1 released\n",
      "k1 pressed\n",
      "k1 released\n",
      "k1 pressed\n",
      "k1 released\n",
      "k1 pressed\n",
      "k1 released\n",
      "k1 pressed\n",
      "k1 released\n",
      "k1 pressed\n",
      "k1 released\n",
      "k1 pressed\n",
      "k1 released\n",
      "k1 pressed\n",
      "k1 released\n",
      "k1 pressed\n",
      "k1 released\n",
      "k1 pressed\n",
      "k1 released\n",
      "k1 pressed\n",
      "k1 released\n",
      "k1 pressed\n",
      "k1 released\n",
      "k1 pressed\n",
      "k1 released\n",
      "k1 pressed\n",
      "k1 released\n",
      "k1 pressed\n",
      "k1 released\n",
      "k1 pressed\n",
      "k1 released\n",
      "k1 pressed\n",
      "k1 released\n",
      "k1 pressed\n",
      "k1 released\n",
      "k1 pressed\n",
      "k1 released\n",
      "k1 pressed\n",
      "k1 released\n",
      "k1 pressed\n",
      "k1 released\n",
      "k1 pressed\n",
      "k1 released\n",
      "k1 pressed\n",
      "k1 released\n",
      "k1 pressed\n",
      "k1 released\n",
      "k1 pressed\n",
      "k1 released\n",
      "k1 pressed\n",
      "k1 released\n",
      "k1 pressed\n",
      "k1 released\n",
      "k1 pressed\n",
      "k1 released\n",
      "k1 pressed\n",
      "k1 released\n",
      "k1 pressed\n",
      "k1 released\n",
      "k1 pressed\n",
      "k1 released\n",
      "k1 pressed\n",
      "k1 released\n",
      "k1 pressed\n",
      "k1 released\n",
      "k1 pressed\n",
      "k1 released\n",
      "k1 pressed\n",
      "k1 released\n",
      "k1 pressed\n",
      "k1 released\n",
      "k1 pressed\n",
      "k1 released\n",
      "k1 pressed\n",
      "k1 released\n",
      "k1 pressed\n",
      "k1 released\n",
      "k1 pressed\n",
      "k1 released\n",
      "k1 pressed\n",
      "k1 released\n",
      "k1 pressed\n",
      "k1 released\n",
      "k1 pressed\n",
      "k1 released\n",
      "k1 pressed\n",
      "k1 released\n",
      "k1 pressed\n",
      "k1 released\n",
      "k1 pressed\n",
      "k1 released\n",
      "k1 pressed\n",
      "k1 released\n",
      "k1 pressed\n"
     ]
    }
   ],
   "source": [
    "import importlib\n",
    "import osu.preview.preview as preview\n",
    "\n",
    "importlib.reload(preview)\n",
    "\n",
    "preview.preview_replay_raw(replay_data, test_map_path, test_mods, test_song)"
   ],
   "metadata": {
    "collapsed": false,
    "ExecuteTime": {
     "end_time": "2025-07-15T19:04:06.817179800Z",
     "start_time": "2025-07-15T19:03:26.089201500Z"
    }
   },
   "id": "6b4933974b96336b"
  },
  {
   "cell_type": "code",
   "execution_count": 16,
   "outputs": [],
   "source": [],
   "metadata": {
    "collapsed": false,
    "ExecuteTime": {
     "end_time": "2025-07-08T05:13:34.965805Z",
     "start_time": "2025-07-08T05:13:34.939293Z"
    }
   },
   "id": "53d8f6a660be3f5b"
  }
 ],
 "metadata": {
  "kernelspec": {
   "display_name": "Python 3",
   "language": "python",
   "name": "python3"
  },
  "language_info": {
   "codemirror_mode": {
    "name": "ipython",
    "version": 2
   },
   "file_extension": ".py",
   "mimetype": "text/x-python",
   "name": "python",
   "nbconvert_exporter": "python",
   "pygments_lexer": "ipython2",
   "version": "2.7.6"
  }
 },
 "nbformat": 4,
 "nbformat_minor": 5
}
