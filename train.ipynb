{
 "cells": [
  {
   "cell_type": "code",
   "execution_count": 2,
   "id": "initial_id",
   "metadata": {
    "collapsed": true,
    "ExecuteTime": {
     "end_time": "2025-07-15T07:26:08.481062300Z",
     "start_time": "2025-07-15T07:26:08.390023200Z"
    }
   },
   "outputs": [],
   "source": [
    "%load_ext autoreload\n",
    "%autoreload 2\n",
    "\n",
    "import os\n",
    "import re\n",
    "import math\n",
    "import glob\n",
    "from importlib import reload\n",
    "\n",
    "import tqdm \n",
    "import datetime\n",
    "\n",
    "import numpy as np\n",
    "import pandas as pd\n",
    "import matplotlib.pyplot as plt\n",
    "\n",
    "import osu.rulesets.beatmap as bm\n",
    "import osu.rulesets.replay as rp\n",
    "import osu.rulesets.hitobjects as hitobjects\n",
    "import osu.dataset as dataset\n",
    "\n",
    "import osu.preview.preview as preview"
   ]
  },
  {
   "cell_type": "code",
   "execution_count": 3,
   "outputs": [
    {
     "name": "stderr",
     "output_type": "stream",
     "text": [
      "Loading replay metadata from .data/replays: 100%|██████████| 1000/1000 [00:00<00:00, 11232.14it/s]\n",
      "Loading objects from .data/: 100%|██████████| 1000/1000 [00:24<00:00, 41.47it/s]\n"
     ]
    }
   ],
   "source": [
    "obj_dataset = dataset.replay_mapping_from_cache(1000)"
   ],
   "metadata": {
    "collapsed": false,
    "ExecuteTime": {
     "end_time": "2025-07-15T07:26:32.964764900Z",
     "start_time": "2025-07-15T07:26:08.664192300Z"
    }
   },
   "id": "e75df68bfdf21155"
  },
  {
   "cell_type": "code",
   "execution_count": 4,
   "outputs": [
    {
     "data": {
      "text/plain": "                                                replay  \\\n0    <osu.rulesets.replay.Replay object at 0x000001...   \n1    <osu.rulesets.replay.Replay object at 0x000001...   \n2    <osu.rulesets.replay.Replay object at 0x000001...   \n3    <osu.rulesets.replay.Replay object at 0x000001...   \n4    <osu.rulesets.replay.Replay object at 0x000001...   \n..                                                 ...   \n840  <osu.rulesets.replay.Replay object at 0x000001...   \n841  <osu.rulesets.replay.Replay object at 0x000001...   \n842  <osu.rulesets.replay.Replay object at 0x000001...   \n843  <osu.rulesets.replay.Replay object at 0x000001...   \n844  <osu.rulesets.replay.Replay object at 0x000001...   \n\n                                               beatmap  \n0    <osu.rulesets.beatmap.Beatmap object at 0x0000...  \n1    <osu.rulesets.beatmap.Beatmap object at 0x0000...  \n2    <osu.rulesets.beatmap.Beatmap object at 0x0000...  \n3    <osu.rulesets.beatmap.Beatmap object at 0x0000...  \n4    <osu.rulesets.beatmap.Beatmap object at 0x0000...  \n..                                                 ...  \n840  <osu.rulesets.beatmap.Beatmap object at 0x0000...  \n841  <osu.rulesets.beatmap.Beatmap object at 0x0000...  \n842  <osu.rulesets.beatmap.Beatmap object at 0x0000...  \n843  <osu.rulesets.beatmap.Beatmap object at 0x0000...  \n844  <osu.rulesets.beatmap.Beatmap object at 0x0000...  \n\n[845 rows x 2 columns]",
      "text/html": "<div>\n<style scoped>\n    .dataframe tbody tr th:only-of-type {\n        vertical-align: middle;\n    }\n\n    .dataframe tbody tr th {\n        vertical-align: top;\n    }\n\n    .dataframe thead th {\n        text-align: right;\n    }\n</style>\n<table border=\"1\" class=\"dataframe\">\n  <thead>\n    <tr style=\"text-align: right;\">\n      <th></th>\n      <th>replay</th>\n      <th>beatmap</th>\n    </tr>\n  </thead>\n  <tbody>\n    <tr>\n      <th>0</th>\n      <td>&lt;osu.rulesets.replay.Replay object at 0x000001...</td>\n      <td>&lt;osu.rulesets.beatmap.Beatmap object at 0x0000...</td>\n    </tr>\n    <tr>\n      <th>1</th>\n      <td>&lt;osu.rulesets.replay.Replay object at 0x000001...</td>\n      <td>&lt;osu.rulesets.beatmap.Beatmap object at 0x0000...</td>\n    </tr>\n    <tr>\n      <th>2</th>\n      <td>&lt;osu.rulesets.replay.Replay object at 0x000001...</td>\n      <td>&lt;osu.rulesets.beatmap.Beatmap object at 0x0000...</td>\n    </tr>\n    <tr>\n      <th>3</th>\n      <td>&lt;osu.rulesets.replay.Replay object at 0x000001...</td>\n      <td>&lt;osu.rulesets.beatmap.Beatmap object at 0x0000...</td>\n    </tr>\n    <tr>\n      <th>4</th>\n      <td>&lt;osu.rulesets.replay.Replay object at 0x000001...</td>\n      <td>&lt;osu.rulesets.beatmap.Beatmap object at 0x0000...</td>\n    </tr>\n    <tr>\n      <th>...</th>\n      <td>...</td>\n      <td>...</td>\n    </tr>\n    <tr>\n      <th>840</th>\n      <td>&lt;osu.rulesets.replay.Replay object at 0x000001...</td>\n      <td>&lt;osu.rulesets.beatmap.Beatmap object at 0x0000...</td>\n    </tr>\n    <tr>\n      <th>841</th>\n      <td>&lt;osu.rulesets.replay.Replay object at 0x000001...</td>\n      <td>&lt;osu.rulesets.beatmap.Beatmap object at 0x0000...</td>\n    </tr>\n    <tr>\n      <th>842</th>\n      <td>&lt;osu.rulesets.replay.Replay object at 0x000001...</td>\n      <td>&lt;osu.rulesets.beatmap.Beatmap object at 0x0000...</td>\n    </tr>\n    <tr>\n      <th>843</th>\n      <td>&lt;osu.rulesets.replay.Replay object at 0x000001...</td>\n      <td>&lt;osu.rulesets.beatmap.Beatmap object at 0x0000...</td>\n    </tr>\n    <tr>\n      <th>844</th>\n      <td>&lt;osu.rulesets.replay.Replay object at 0x000001...</td>\n      <td>&lt;osu.rulesets.beatmap.Beatmap object at 0x0000...</td>\n    </tr>\n  </tbody>\n</table>\n<p>845 rows × 2 columns</p>\n</div>"
     },
     "execution_count": 4,
     "metadata": {},
     "output_type": "execute_result"
    }
   ],
   "source": [
    "obj_dataset"
   ],
   "metadata": {
    "collapsed": false,
    "ExecuteTime": {
     "end_time": "2025-07-15T07:26:33.022535Z",
     "start_time": "2025-07-15T07:26:32.961764900Z"
    }
   },
   "id": "c2a7186ae2fdccde"
  },
  {
   "cell_type": "code",
   "execution_count": 5,
   "outputs": [
    {
     "name": "stderr",
     "output_type": "stream",
     "text": [
      "Turning beatmaps into time series data: 100%|██████████| 845/845 [06:40<00:00,  2.11it/s]\n",
      "E:\\Projects\\osu\\osu\\dataset.py:43: UserWarning: Creating a tensor from a list of numpy.ndarrays is extremely slow. Please consider converting the list to a single numpy.ndarray with numpy.array() before converting to a tensor. (Triggered internally at C:\\actions-runner\\_work\\pytorch\\pytorch\\pytorch\\torch\\csrc\\utils\\tensor_new.cpp:257.)\n",
      "  tensor_list = [torch.tensor(seq, dtype=torch.float) for seq in data]\n",
      "Turning replays into time series data: 100%|██████████| 845/845 [00:27<00:00, 30.89it/s]\n"
     ]
    }
   ],
   "source": [
    "input_data = dataset.input_data(obj_dataset, verbose=True)\n",
    "output_data = dataset.target_data(obj_dataset, verbose=True)"
   ],
   "metadata": {
    "collapsed": false,
    "ExecuteTime": {
     "end_time": "2025-07-15T07:33:50.961350800Z",
     "start_time": "2025-07-15T07:26:33.018536600Z"
    }
   },
   "id": "d3a92857966bd166"
  },
  {
   "cell_type": "code",
   "execution_count": 6,
   "outputs": [],
   "source": [
    "input = input_data\n",
    "output = output_data"
   ],
   "metadata": {
    "collapsed": false,
    "ExecuteTime": {
     "end_time": "2025-07-15T07:33:51.012933900Z",
     "start_time": "2025-07-15T07:33:50.962350Z"
    }
   },
   "id": "e154f4eddebe2dc"
  },
  {
   "cell_type": "code",
   "execution_count": 7,
   "outputs": [
    {
     "data": {
      "text/plain": "                    x         y   k1   k2\nchunk frame                              \n0     0     -0.220486 -0.116898  0.0  0.0\n      1     -0.220486 -0.116898  0.0  0.0\n      2     -0.229167 -0.108796  0.0  0.0\n      3     -0.229167 -0.108796  0.0  0.0\n      4     -0.227430 -0.107639  0.0  0.0\n...               ...       ...  ...  ...\n      495    0.107639  0.005787  0.0  1.0\n      496    0.165799  0.015046  0.0  1.0\n      497    0.174479  0.024305  0.0  1.0\n      498    0.187500  0.041667  0.0  1.0\n      499    0.187500  0.040509  0.0  1.0\n\n[500 rows x 4 columns]",
      "text/html": "<div>\n<style scoped>\n    .dataframe tbody tr th:only-of-type {\n        vertical-align: middle;\n    }\n\n    .dataframe tbody tr th {\n        vertical-align: top;\n    }\n\n    .dataframe thead th {\n        text-align: right;\n    }\n</style>\n<table border=\"1\" class=\"dataframe\">\n  <thead>\n    <tr style=\"text-align: right;\">\n      <th></th>\n      <th></th>\n      <th>x</th>\n      <th>y</th>\n      <th>k1</th>\n      <th>k2</th>\n    </tr>\n    <tr>\n      <th>chunk</th>\n      <th>frame</th>\n      <th></th>\n      <th></th>\n      <th></th>\n      <th></th>\n    </tr>\n  </thead>\n  <tbody>\n    <tr>\n      <th rowspan=\"11\" valign=\"top\">0</th>\n      <th>0</th>\n      <td>-0.220486</td>\n      <td>-0.116898</td>\n      <td>0.0</td>\n      <td>0.0</td>\n    </tr>\n    <tr>\n      <th>1</th>\n      <td>-0.220486</td>\n      <td>-0.116898</td>\n      <td>0.0</td>\n      <td>0.0</td>\n    </tr>\n    <tr>\n      <th>2</th>\n      <td>-0.229167</td>\n      <td>-0.108796</td>\n      <td>0.0</td>\n      <td>0.0</td>\n    </tr>\n    <tr>\n      <th>3</th>\n      <td>-0.229167</td>\n      <td>-0.108796</td>\n      <td>0.0</td>\n      <td>0.0</td>\n    </tr>\n    <tr>\n      <th>4</th>\n      <td>-0.227430</td>\n      <td>-0.107639</td>\n      <td>0.0</td>\n      <td>0.0</td>\n    </tr>\n    <tr>\n      <th>...</th>\n      <td>...</td>\n      <td>...</td>\n      <td>...</td>\n      <td>...</td>\n    </tr>\n    <tr>\n      <th>495</th>\n      <td>0.107639</td>\n      <td>0.005787</td>\n      <td>0.0</td>\n      <td>1.0</td>\n    </tr>\n    <tr>\n      <th>496</th>\n      <td>0.165799</td>\n      <td>0.015046</td>\n      <td>0.0</td>\n      <td>1.0</td>\n    </tr>\n    <tr>\n      <th>497</th>\n      <td>0.174479</td>\n      <td>0.024305</td>\n      <td>0.0</td>\n      <td>1.0</td>\n    </tr>\n    <tr>\n      <th>498</th>\n      <td>0.187500</td>\n      <td>0.041667</td>\n      <td>0.0</td>\n      <td>1.0</td>\n    </tr>\n    <tr>\n      <th>499</th>\n      <td>0.187500</td>\n      <td>0.040509</td>\n      <td>0.0</td>\n      <td>1.0</td>\n    </tr>\n  </tbody>\n</table>\n<p>500 rows × 4 columns</p>\n</div>"
     },
     "execution_count": 7,
     "metadata": {},
     "output_type": "execute_result"
    }
   ],
   "source": [
    "output[0:500]"
   ],
   "metadata": {
    "collapsed": false,
    "ExecuteTime": {
     "end_time": "2025-07-15T07:33:51.067703200Z",
     "start_time": "2025-07-15T07:33:51.013936Z"
    }
   },
   "id": "57d70a1b50c3e2d2"
  },
  {
   "cell_type": "code",
   "execution_count": 8,
   "outputs": [
    {
     "data": {
      "text/plain": "(3239, 2048, 5)"
     },
     "execution_count": 8,
     "metadata": {},
     "output_type": "execute_result"
    }
   ],
   "source": [
    "import torch\n",
    "\n",
    "xs = np.reshape(input.values, (-1, dataset.BATCH_LENGTH, len(dataset.INPUT_FEATURES)))\n",
    "\n",
    "# try:\n",
    "#     target_data = pd.read_pickle('.data/target_data.dat')\n",
    "# except:\n",
    "#     target_data = dataset.target_data(dataset, verbose=True)\n",
    "#     target_data.to_pickle('.data/target_data.dat')\n",
    "\n",
    "ys = np.reshape(output.values, (-1, dataset.BATCH_LENGTH, len(dataset.OUTPUT_FEATURES)))\n",
    "\n",
    "xs.shape"
   ],
   "metadata": {
    "collapsed": false,
    "ExecuteTime": {
     "end_time": "2025-07-15T07:33:51.143897700Z",
     "start_time": "2025-07-15T07:33:51.068702800Z"
    }
   },
   "id": "7ce39514b249ca3"
  },
  {
   "cell_type": "code",
   "execution_count": 8,
   "outputs": [
    {
     "data": {
      "text/plain": "array([[[-0.35546875, -0.5       ,  1.        ,  1.        ,\n          0.        ],\n        [-0.35546875, -0.5       ,  0.94666666,  1.        ,\n          0.        ],\n        [-0.35546875, -0.5       ,  0.8933333 ,  1.        ,\n          0.        ],\n        ...,\n        [-0.41601562, -0.03125   ,  0.12888889,  1.        ,\n          0.        ],\n        [-0.41601562, -0.03125   ,  0.07555556,  1.        ,\n          0.        ],\n        [-0.41601562, -0.03125   ,  0.02222222,  1.        ,\n          0.        ]],\n\n       [[-0.42578125, -0.0546875 ,  0.        ,  1.        ,\n          0.        ],\n        [-0.4375    , -0.09375   ,  0.        ,  1.        ,\n          0.        ],\n        [-0.44140625, -0.13802083,  0.        ,  1.        ,\n          0.        ],\n        ...,\n        [ 0.328125  ,  0.3828125 ,  0.19333333,  1.        ,\n          0.        ],\n        [ 0.328125  ,  0.3828125 ,  0.14      ,  1.        ,\n          0.        ],\n        [ 0.328125  ,  0.3828125 ,  0.08666667,  1.        ,\n          0.        ]],\n\n       [[ 0.328125  ,  0.3828125 ,  0.03333334,  1.        ,\n          0.        ],\n        [ 0.33789062,  0.38802084,  0.        ,  1.        ,\n          0.        ],\n        [ 0.3671875 ,  0.40625   ,  0.        ,  1.        ,\n          0.        ],\n        ...,\n        [-0.25      ,  0.08854166,  0.25555557,  1.        ,\n          0.        ],\n        [-0.25      ,  0.08854166,  0.20222223,  1.        ,\n          0.        ],\n        [-0.25      ,  0.08854166,  0.14888889,  1.        ,\n          0.        ]],\n\n       ...,\n\n       [[ 0.07617188,  0.36979166,  0.        ,  1.        ,\n          0.        ],\n        [ 0.07421875,  0.32291666,  0.        ,  1.        ,\n          0.        ],\n        [ 0.0703125 ,  0.27604166,  0.        ,  1.        ,\n          0.        ],\n        ...,\n        [ 0.        ,  0.        ,  0.        ,  0.        ,\n          0.        ],\n        [ 0.        ,  0.        ,  0.        ,  0.        ,\n          0.        ],\n        [ 0.        ,  0.        ,  0.        ,  0.        ,\n          0.        ]],\n\n       [[ 0.09179688, -0.29166666,  1.        ,  0.        ,\n          0.        ],\n        [ 0.09179688, -0.29166666,  0.95789474,  0.        ,\n          0.        ],\n        [ 0.09179688, -0.29166666,  0.9157895 ,  0.        ,\n          0.        ],\n        ...,\n        [-0.22851562,  0.3125    ,  0.15789473,  0.        ,\n          0.        ],\n        [-0.22851562,  0.3125    ,  0.11578947,  0.        ,\n          0.        ],\n        [-0.22851562,  0.3125    ,  0.07368421,  0.        ,\n          0.        ]],\n\n       [[-0.22851562,  0.3125    ,  0.03157895,  0.        ,\n          0.        ],\n        [-0.22851562,  0.3125    ,  1.        ,  0.        ,\n          0.        ],\n        [-0.22851562,  0.3125    ,  1.        ,  0.        ,\n          0.        ],\n        ...,\n        [ 0.        ,  0.        ,  0.        ,  0.        ,\n          0.        ],\n        [ 0.        ,  0.        ,  0.        ,  0.        ,\n          0.        ],\n        [ 0.        ,  0.        ,  0.        ,  0.        ,\n          0.        ]]], shape=(3239, 2048, 5), dtype=float32)"
     },
     "execution_count": 8,
     "metadata": {},
     "output_type": "execute_result"
    }
   ],
   "source": [
    "xs"
   ],
   "metadata": {
    "collapsed": false,
    "ExecuteTime": {
     "end_time": "2025-07-15T07:18:46.339520Z",
     "start_time": "2025-07-15T07:18:46.275009Z"
    }
   },
   "id": "e19cd6e26e427881"
  },
  {
   "cell_type": "code",
   "execution_count": 9,
   "outputs": [],
   "source": [
    "# ys = ys[0:xs.shape[0]]"
   ],
   "metadata": {
    "collapsed": false,
    "ExecuteTime": {
     "end_time": "2025-07-15T07:18:46.390757500Z",
     "start_time": "2025-07-15T07:18:46.328520200Z"
    }
   },
   "id": "a645f1ad0d118839"
  },
  {
   "cell_type": "code",
   "execution_count": 10,
   "outputs": [],
   "source": [
    "import torch\n",
    "import torch.nn as nn\n",
    "import torch.optim as optim\n",
    "import torch.nn.functional as F\n",
    "\n",
    "from sklearn.model_selection import train_test_split\n",
    "from random import randint \n",
    "from torch.utils.data import DataLoader, TensorDataset\n",
    "\n",
    "BATCH_SIZE = 64\n",
    "\n",
    "device = 'cuda' if torch.cuda.is_available() else 'cpu'\n",
    "\n",
    "# \n",
    "# x_train, x_test, y_train, y_test = train_test_split(xs, ys, test_size=0.2, random_state=randint(0, 100))\n",
    "# \n",
    "# train_dataset = TensorDataset(torch.FloatTensor(x_train), torch.FloatTensor(y_train))\n",
    "# \n",
    "# train_loader = DataLoader(train_dataset, batch_size=BATCH_SIZE, shuffle=True)"
   ],
   "metadata": {
    "collapsed": false,
    "ExecuteTime": {
     "end_time": "2025-07-15T07:18:47.189943800Z",
     "start_time": "2025-07-15T07:18:46.379756700Z"
    }
   },
   "id": "df66cf1559ce0054"
  },
  {
   "cell_type": "code",
   "outputs": [],
   "source": [
    "from osu.gan import OsuReplayGAN\n",
    "from osu.rnn import OsuReplayRNN"
   ],
   "metadata": {
    "collapsed": false,
    "ExecuteTime": {
     "end_time": "2025-07-15T07:18:47.258453800Z",
     "start_time": "2025-07-15T07:18:47.189943800Z"
    }
   },
   "id": "ef64a90c43d5a5c5",
   "execution_count": 11
  },
  {
   "cell_type": "code",
   "outputs": [
    {
     "name": "stdout",
     "output_type": "stream",
     "text": [
      "Creating RNN model...\n",
      "RNN Model initialized on cuda (noise_std=0.05)\n",
      "Model parameters: 23444\n",
      "[[[-0.20507812  0.38541666  1.          1.          0.        ]\n",
      "  [-0.20507812  0.38541666  0.94666666  1.          0.        ]\n",
      "  [-0.20507812  0.38541666  0.8933333   1.          0.        ]\n",
      "  ...\n",
      "  [-0.20898438 -0.35677084  0.02444444  0.          0.        ]\n",
      "  [-0.296875   -0.15885417  0.30444443  0.          0.        ]\n",
      "  [-0.296875   -0.15885417  0.25111112  0.          0.        ]]\n",
      "\n",
      " [[ 0.296875    0.0078125   0.3         0.          0.        ]\n",
      "  [ 0.296875    0.0078125   0.24666667  0.          0.        ]\n",
      "  [ 0.296875    0.0078125   0.19333333  0.          0.        ]\n",
      "  ...\n",
      "  [-0.11914062 -0.33854166  0.28444445  0.          0.        ]\n",
      "  [-0.11914062 -0.33854166  0.23111111  0.          0.        ]\n",
      "  [-0.11914062 -0.33854166  0.17777778  0.          0.        ]]\n",
      "\n",
      " [[ 0.34960938  0.40364584  0.18888889  0.          0.        ]\n",
      "  [ 0.34960938  0.40364584  0.13555555  0.          0.        ]\n",
      "  [ 0.34960938  0.40364584  0.08222222  0.          0.        ]\n",
      "  ...\n",
      "  [ 0.          0.          0.          0.          0.        ]\n",
      "  [ 0.          0.          0.          0.          0.        ]\n",
      "  [ 0.          0.          0.          0.          0.        ]]\n",
      "\n",
      " ...\n",
      "\n",
      " [[-0.1484375   0.07552084  1.          0.          0.        ]\n",
      "  [-0.1484375   0.07552084  0.94666666  0.          0.        ]\n",
      "  [-0.1484375   0.07552084  0.8933333   0.          0.        ]\n",
      "  ...\n",
      "  [ 0.29882812 -0.0625      0.40888888  0.          0.        ]\n",
      "  [ 0.29882812 -0.0625      0.35555556  0.          0.        ]\n",
      "  [ 0.29882812 -0.0625      0.30222222  0.          0.        ]]\n",
      "\n",
      " [[-0.078125   -0.1484375   0.18        0.          0.        ]\n",
      "  [-0.078125   -0.1484375   0.12666667  0.          0.        ]\n",
      "  [-0.078125   -0.1484375   0.07333333  0.          0.        ]\n",
      "  ...\n",
      "  [-0.19335938 -0.21354167  0.5         1.          0.        ]\n",
      "  [-0.19335938 -0.21354167  0.44666666  1.          0.        ]\n",
      "  [-0.19335938 -0.21354167  0.39333335  1.          0.        ]]\n",
      "\n",
      " [[ 0.2578125  -0.125       1.          0.          0.        ]\n",
      "  [ 0.2578125  -0.125       0.94666666  0.          0.        ]\n",
      "  [ 0.2578125  -0.125       0.8933333   0.          0.        ]\n",
      "  ...\n",
      "  [-0.06054688 -0.16145833  0.20444444  0.          0.        ]\n",
      "  [-0.06054688 -0.16145833  0.15111111  0.          0.        ]\n",
      "  [-0.06054688 -0.16145833  0.09777778  0.          0.        ]]]\n",
      "[[[-0.109375   -0.15625     0.          0.        ]\n",
      "  [-0.11111113 -0.15046301  0.          0.        ]\n",
      "  [-0.13194454 -0.2013888   0.          0.        ]\n",
      "  ...\n",
      "  [-0.21267363 -0.33449072  1.          0.        ]\n",
      "  [-0.2135416  -0.33333334  1.          0.        ]\n",
      "  [-0.2109375  -0.2627315   1.          0.        ]]\n",
      "\n",
      " [[ 0.21788183 -0.3738426   1.          0.        ]\n",
      "  [ 0.22309023 -0.33912036  1.          0.        ]\n",
      "  [ 0.2421875  -0.21527787  1.          0.        ]\n",
      "  ...\n",
      "  [-0.5        -0.3622685   1.          0.        ]\n",
      "  [-0.5        -0.3622685   1.          0.        ]\n",
      "  [-0.43663195 -0.35300928  1.          0.        ]]\n",
      "\n",
      " [[-0.22833242  0.21473177  1.          0.        ]\n",
      "  [ 0.01416016  0.26879376  0.          0.        ]\n",
      "  [ 0.01416016  0.26879376  0.          0.        ]\n",
      "  ...\n",
      "  [ 0.          0.          0.          0.        ]\n",
      "  [ 0.          0.          0.          0.        ]\n",
      "  [ 0.          0.          0.          0.        ]]\n",
      "\n",
      " ...\n",
      "\n",
      " [[-0.078125   -0.01157396  0.          0.        ]\n",
      "  [-0.08159727 -0.00347214  0.          0.        ]\n",
      "  [-0.09375     0.02430547  0.          0.        ]\n",
      "  ...\n",
      "  [ 0.03993066 -0.3298611   1.          0.        ]\n",
      "  [ 0.15017363 -0.2314815   0.          0.        ]\n",
      "  [ 0.15017363 -0.2314815   0.          0.        ]]\n",
      "\n",
      " [[-0.11371523  0.33564818  1.          0.        ]\n",
      "  [-0.08680547  0.1689815   1.          0.        ]\n",
      "  [-0.06423613 -0.05787031  0.          0.        ]\n",
      "  ...\n",
      "  [ 0.06944434  0.12152787  1.          0.        ]\n",
      "  [ 0.01215273  0.09490729  1.          0.        ]\n",
      "  [ 0.01215273  0.09490729  1.          0.        ]]\n",
      "\n",
      " [[-0.13368046 -0.07754635  1.          0.        ]\n",
      "  [-0.10243047 -0.09837969  0.          0.        ]\n",
      "  [-0.09288203 -0.10879635  0.          0.        ]\n",
      "  ...\n",
      "  [-0.12326387  0.06481484  1.          0.        ]\n",
      "  [-0.12326387  0.06481484  1.          0.        ]\n",
      "  [-0.05555547 -0.18287031  0.          0.        ]]]\n",
      "Data loaded: 2591 training samples, 648 test samples\n"
     ]
    }
   ],
   "source": "print(\"Creating RNN model...\")\nrnn = OsuReplayRNN(noise_std=0.05)\nrnn.load_data(xs, ys)",
   "metadata": {
    "collapsed": false,
    "ExecuteTime": {
     "end_time": "2025-07-15T07:18:48.552399100Z",
     "start_time": "2025-07-15T07:18:47.259453600Z"
    }
   },
   "id": "5b09ee4f3a71a037",
   "execution_count": 12
  },
  {
   "cell_type": "code",
   "outputs": [
    {
     "name": "stderr",
     "output_type": "stream",
     "text": [
      "Epoch 1/50 (Train): 100%|██████████| 41/41 [00:00<00:00, 66.83it/s]\n"
     ]
    },
    {
     "name": "stdout",
     "output_type": "stream",
     "text": [
      "Epoch 1/50, Train Loss: 0.0686, Test Loss: 0.0604\n"
     ]
    },
    {
     "name": "stderr",
     "output_type": "stream",
     "text": [
      "Epoch 2/50 (Train): 100%|██████████| 41/41 [00:00<00:00, 86.32it/s]\n"
     ]
    },
    {
     "name": "stdout",
     "output_type": "stream",
     "text": [
      "Epoch 2/50, Train Loss: 0.0569, Test Loss: 0.0526\n"
     ]
    },
    {
     "name": "stderr",
     "output_type": "stream",
     "text": [
      "Epoch 3/50 (Train): 100%|██████████| 41/41 [00:00<00:00, 88.17it/s]\n"
     ]
    },
    {
     "name": "stdout",
     "output_type": "stream",
     "text": [
      "Epoch 3/50, Train Loss: 0.0530, Test Loss: 0.0518\n"
     ]
    },
    {
     "name": "stderr",
     "output_type": "stream",
     "text": [
      "Epoch 4/50 (Train): 100%|██████████| 41/41 [00:00<00:00, 85.86it/s]\n"
     ]
    },
    {
     "name": "stdout",
     "output_type": "stream",
     "text": [
      "Epoch 4/50, Train Loss: 0.0523, Test Loss: 0.0513\n"
     ]
    },
    {
     "name": "stderr",
     "output_type": "stream",
     "text": [
      "Epoch 5/50 (Train): 100%|██████████| 41/41 [00:00<00:00, 88.36it/s]\n"
     ]
    },
    {
     "name": "stdout",
     "output_type": "stream",
     "text": [
      "Epoch 5/50, Train Loss: 0.0514, Test Loss: 0.0497\n"
     ]
    },
    {
     "name": "stderr",
     "output_type": "stream",
     "text": [
      "Epoch 6/50 (Train): 100%|██████████| 41/41 [00:00<00:00, 86.13it/s]\n"
     ]
    },
    {
     "name": "stdout",
     "output_type": "stream",
     "text": [
      "Epoch 6/50, Train Loss: 0.0490, Test Loss: 0.0470\n"
     ]
    },
    {
     "name": "stderr",
     "output_type": "stream",
     "text": [
      "Epoch 7/50 (Train): 100%|██████████| 41/41 [00:00<00:00, 87.27it/s]\n"
     ]
    },
    {
     "name": "stdout",
     "output_type": "stream",
     "text": [
      "Epoch 7/50, Train Loss: 0.0475, Test Loss: 0.0459\n"
     ]
    },
    {
     "name": "stderr",
     "output_type": "stream",
     "text": [
      "Epoch 8/50 (Train): 100%|██████████| 41/41 [00:00<00:00, 85.41it/s]\n"
     ]
    },
    {
     "name": "stdout",
     "output_type": "stream",
     "text": [
      "Epoch 8/50, Train Loss: 0.0470, Test Loss: 0.0460\n"
     ]
    },
    {
     "name": "stderr",
     "output_type": "stream",
     "text": [
      "Epoch 9/50 (Train): 100%|██████████| 41/41 [00:00<00:00, 82.16it/s]\n"
     ]
    },
    {
     "name": "stdout",
     "output_type": "stream",
     "text": [
      "Epoch 9/50, Train Loss: 0.0467, Test Loss: 0.0453\n"
     ]
    },
    {
     "name": "stderr",
     "output_type": "stream",
     "text": [
      "Epoch 10/50 (Train): 100%|██████████| 41/41 [00:00<00:00, 83.84it/s]\n"
     ]
    },
    {
     "name": "stdout",
     "output_type": "stream",
     "text": [
      "Epoch 10/50, Train Loss: 0.0463, Test Loss: 0.0453\n"
     ]
    },
    {
     "name": "stderr",
     "output_type": "stream",
     "text": [
      "Epoch 11/50 (Train): 100%|██████████| 41/41 [00:00<00:00, 86.68it/s]\n"
     ]
    },
    {
     "name": "stdout",
     "output_type": "stream",
     "text": [
      "Epoch 11/50, Train Loss: 0.0460, Test Loss: 0.0450\n"
     ]
    },
    {
     "name": "stderr",
     "output_type": "stream",
     "text": [
      "Epoch 12/50 (Train): 100%|██████████| 41/41 [00:00<00:00, 85.06it/s]\n"
     ]
    },
    {
     "name": "stdout",
     "output_type": "stream",
     "text": [
      "Epoch 12/50, Train Loss: 0.0459, Test Loss: 0.0448\n"
     ]
    },
    {
     "name": "stderr",
     "output_type": "stream",
     "text": [
      "Epoch 13/50 (Train): 100%|██████████| 41/41 [00:00<00:00, 85.95it/s]\n"
     ]
    },
    {
     "name": "stdout",
     "output_type": "stream",
     "text": [
      "Epoch 13/50, Train Loss: 0.0457, Test Loss: 0.0447\n"
     ]
    },
    {
     "name": "stderr",
     "output_type": "stream",
     "text": [
      "Epoch 14/50 (Train): 100%|██████████| 41/41 [00:00<00:00, 84.19it/s]\n"
     ]
    },
    {
     "name": "stdout",
     "output_type": "stream",
     "text": [
      "Epoch 14/50, Train Loss: 0.0456, Test Loss: 0.0446\n"
     ]
    },
    {
     "name": "stderr",
     "output_type": "stream",
     "text": [
      "Epoch 15/50 (Train): 100%|██████████| 41/41 [00:00<00:00, 85.95it/s]\n"
     ]
    },
    {
     "name": "stdout",
     "output_type": "stream",
     "text": [
      "Epoch 15/50, Train Loss: 0.0455, Test Loss: 0.0445\n"
     ]
    },
    {
     "name": "stderr",
     "output_type": "stream",
     "text": [
      "Epoch 16/50 (Train): 100%|██████████| 41/41 [00:00<00:00, 85.86it/s]\n"
     ]
    },
    {
     "name": "stdout",
     "output_type": "stream",
     "text": [
      "Epoch 16/50, Train Loss: 0.0453, Test Loss: 0.0442\n"
     ]
    },
    {
     "name": "stderr",
     "output_type": "stream",
     "text": [
      "Epoch 17/50 (Train): 100%|██████████| 41/41 [00:00<00:00, 85.06it/s]\n"
     ]
    },
    {
     "name": "stdout",
     "output_type": "stream",
     "text": [
      "Epoch 17/50, Train Loss: 0.0452, Test Loss: 0.0444\n"
     ]
    },
    {
     "name": "stderr",
     "output_type": "stream",
     "text": [
      "Epoch 18/50 (Train): 100%|██████████| 41/41 [00:00<00:00, 86.32it/s]\n"
     ]
    },
    {
     "name": "stdout",
     "output_type": "stream",
     "text": [
      "Epoch 18/50, Train Loss: 0.0451, Test Loss: 0.0441\n"
     ]
    },
    {
     "name": "stderr",
     "output_type": "stream",
     "text": [
      "Epoch 19/50 (Train): 100%|██████████| 41/41 [00:00<00:00, 84.10it/s]\n"
     ]
    },
    {
     "name": "stdout",
     "output_type": "stream",
     "text": [
      "Epoch 19/50, Train Loss: 0.0449, Test Loss: 0.0439\n"
     ]
    },
    {
     "name": "stderr",
     "output_type": "stream",
     "text": [
      "Epoch 20/50 (Train): 100%|██████████| 41/41 [00:00<00:00, 86.68it/s]\n"
     ]
    },
    {
     "name": "stdout",
     "output_type": "stream",
     "text": [
      "Epoch 20/50, Train Loss: 0.0449, Test Loss: 0.0439\n"
     ]
    },
    {
     "name": "stderr",
     "output_type": "stream",
     "text": [
      "Epoch 21/50 (Train): 100%|██████████| 41/41 [00:00<00:00, 84.70it/s]\n"
     ]
    },
    {
     "name": "stdout",
     "output_type": "stream",
     "text": [
      "Epoch 21/50, Train Loss: 0.0447, Test Loss: 0.0437\n"
     ]
    },
    {
     "name": "stderr",
     "output_type": "stream",
     "text": [
      "Epoch 22/50 (Train): 100%|██████████| 41/41 [00:00<00:00, 86.68it/s]\n"
     ]
    },
    {
     "name": "stdout",
     "output_type": "stream",
     "text": [
      "Epoch 22/50, Train Loss: 0.0445, Test Loss: 0.0436\n"
     ]
    },
    {
     "name": "stderr",
     "output_type": "stream",
     "text": [
      "Epoch 23/50 (Train): 100%|██████████| 41/41 [00:00<00:00, 83.33it/s]\n"
     ]
    },
    {
     "name": "stdout",
     "output_type": "stream",
     "text": [
      "Epoch 23/50, Train Loss: 0.0446, Test Loss: 0.0437\n"
     ]
    },
    {
     "name": "stderr",
     "output_type": "stream",
     "text": [
      "Epoch 24/50 (Train): 100%|██████████| 41/41 [00:00<00:00, 86.86it/s]\n"
     ]
    },
    {
     "name": "stdout",
     "output_type": "stream",
     "text": [
      "Epoch 24/50, Train Loss: 0.0445, Test Loss: 0.0439\n"
     ]
    },
    {
     "name": "stderr",
     "output_type": "stream",
     "text": [
      "Epoch 25/50 (Train): 100%|██████████| 41/41 [00:00<00:00, 85.68it/s]\n"
     ]
    },
    {
     "name": "stdout",
     "output_type": "stream",
     "text": [
      "Epoch 25/50, Train Loss: 0.0444, Test Loss: 0.0436\n"
     ]
    },
    {
     "name": "stderr",
     "output_type": "stream",
     "text": [
      "Epoch 26/50 (Train): 100%|██████████| 41/41 [00:00<00:00, 86.32it/s]\n"
     ]
    },
    {
     "name": "stdout",
     "output_type": "stream",
     "text": [
      "Epoch 26/50, Train Loss: 0.0443, Test Loss: 0.0434\n"
     ]
    },
    {
     "name": "stderr",
     "output_type": "stream",
     "text": [
      "Epoch 27/50 (Train): 100%|██████████| 41/41 [00:00<00:00, 84.53it/s]\n"
     ]
    },
    {
     "name": "stdout",
     "output_type": "stream",
     "text": [
      "Epoch 27/50, Train Loss: 0.0442, Test Loss: 0.0435\n"
     ]
    },
    {
     "name": "stderr",
     "output_type": "stream",
     "text": [
      "Epoch 28/50 (Train): 100%|██████████| 41/41 [00:00<00:00, 69.54it/s]\n"
     ]
    },
    {
     "name": "stdout",
     "output_type": "stream",
     "text": [
      "Epoch 28/50, Train Loss: 0.0441, Test Loss: 0.0433\n"
     ]
    },
    {
     "name": "stderr",
     "output_type": "stream",
     "text": [
      "Epoch 29/50 (Train): 100%|██████████| 41/41 [00:00<00:00, 85.33it/s]\n"
     ]
    },
    {
     "name": "stdout",
     "output_type": "stream",
     "text": [
      "Epoch 29/50, Train Loss: 0.0441, Test Loss: 0.0435\n"
     ]
    },
    {
     "name": "stderr",
     "output_type": "stream",
     "text": [
      "Epoch 30/50 (Train): 100%|██████████| 41/41 [00:00<00:00, 82.24it/s]\n"
     ]
    },
    {
     "name": "stdout",
     "output_type": "stream",
     "text": [
      "Epoch 30/50, Train Loss: 0.0441, Test Loss: 0.0431\n"
     ]
    },
    {
     "name": "stderr",
     "output_type": "stream",
     "text": [
      "Epoch 31/50 (Train): 100%|██████████| 41/41 [00:00<00:00, 82.33it/s]\n"
     ]
    },
    {
     "name": "stdout",
     "output_type": "stream",
     "text": [
      "Epoch 31/50, Train Loss: 0.0440, Test Loss: 0.0433\n"
     ]
    },
    {
     "name": "stderr",
     "output_type": "stream",
     "text": [
      "Epoch 32/50 (Train): 100%|██████████| 41/41 [00:00<00:00, 77.72it/s]\n"
     ]
    },
    {
     "name": "stdout",
     "output_type": "stream",
     "text": [
      "Epoch 32/50, Train Loss: 0.0440, Test Loss: 0.0431\n"
     ]
    },
    {
     "name": "stderr",
     "output_type": "stream",
     "text": [
      "Epoch 33/50 (Train): 100%|██████████| 41/41 [00:00<00:00, 77.28it/s]\n"
     ]
    },
    {
     "name": "stdout",
     "output_type": "stream",
     "text": [
      "Epoch 33/50, Train Loss: 0.0438, Test Loss: 0.0430\n"
     ]
    },
    {
     "name": "stderr",
     "output_type": "stream",
     "text": [
      "Epoch 34/50 (Train): 100%|██████████| 41/41 [00:00<00:00, 81.84it/s]\n"
     ]
    },
    {
     "name": "stdout",
     "output_type": "stream",
     "text": [
      "Epoch 34/50, Train Loss: 0.0439, Test Loss: 0.0429\n"
     ]
    },
    {
     "name": "stderr",
     "output_type": "stream",
     "text": [
      "Epoch 35/50 (Train): 100%|██████████| 41/41 [00:00<00:00, 84.71it/s]\n"
     ]
    },
    {
     "name": "stdout",
     "output_type": "stream",
     "text": [
      "Epoch 35/50, Train Loss: 0.0438, Test Loss: 0.0434\n"
     ]
    },
    {
     "name": "stderr",
     "output_type": "stream",
     "text": [
      "Epoch 36/50 (Train): 100%|██████████| 41/41 [00:00<00:00, 86.22it/s]\n"
     ]
    },
    {
     "name": "stdout",
     "output_type": "stream",
     "text": [
      "Epoch 36/50, Train Loss: 0.0438, Test Loss: 0.0428\n"
     ]
    },
    {
     "name": "stderr",
     "output_type": "stream",
     "text": [
      "Epoch 37/50 (Train): 100%|██████████| 41/41 [00:00<00:00, 82.49it/s]\n"
     ]
    },
    {
     "name": "stdout",
     "output_type": "stream",
     "text": [
      "Epoch 37/50, Train Loss: 0.0437, Test Loss: 0.0428\n"
     ]
    },
    {
     "name": "stderr",
     "output_type": "stream",
     "text": [
      "Epoch 38/50 (Train): 100%|██████████| 41/41 [00:00<00:00, 86.22it/s]\n"
     ]
    },
    {
     "name": "stdout",
     "output_type": "stream",
     "text": [
      "Epoch 38/50, Train Loss: 0.0437, Test Loss: 0.0430\n"
     ]
    },
    {
     "name": "stderr",
     "output_type": "stream",
     "text": [
      "Epoch 39/50 (Train): 100%|██████████| 41/41 [00:00<00:00, 84.19it/s]\n"
     ]
    },
    {
     "name": "stdout",
     "output_type": "stream",
     "text": [
      "Epoch 39/50, Train Loss: 0.0436, Test Loss: 0.0427\n"
     ]
    },
    {
     "name": "stderr",
     "output_type": "stream",
     "text": [
      "Epoch 40/50 (Train): 100%|██████████| 41/41 [00:00<00:00, 86.86it/s]\n"
     ]
    },
    {
     "name": "stdout",
     "output_type": "stream",
     "text": [
      "Epoch 40/50, Train Loss: 0.0436, Test Loss: 0.0430\n"
     ]
    },
    {
     "name": "stderr",
     "output_type": "stream",
     "text": [
      "Epoch 41/50 (Train): 100%|██████████| 41/41 [00:00<00:00, 85.24it/s]\n"
     ]
    },
    {
     "name": "stdout",
     "output_type": "stream",
     "text": [
      "Epoch 41/50, Train Loss: 0.0435, Test Loss: 0.0427\n"
     ]
    },
    {
     "name": "stderr",
     "output_type": "stream",
     "text": [
      "Epoch 42/50 (Train): 100%|██████████| 41/41 [00:00<00:00, 86.50it/s]\n"
     ]
    },
    {
     "name": "stdout",
     "output_type": "stream",
     "text": [
      "Epoch 42/50, Train Loss: 0.0435, Test Loss: 0.0426\n"
     ]
    },
    {
     "name": "stderr",
     "output_type": "stream",
     "text": [
      "Epoch 43/50 (Train): 100%|██████████| 41/41 [00:00<00:00, 86.13it/s]\n"
     ]
    },
    {
     "name": "stdout",
     "output_type": "stream",
     "text": [
      "Epoch 43/50, Train Loss: 0.0435, Test Loss: 0.0428\n"
     ]
    },
    {
     "name": "stderr",
     "output_type": "stream",
     "text": [
      "Epoch 44/50 (Train): 100%|██████████| 41/41 [00:00<00:00, 86.22it/s]\n"
     ]
    },
    {
     "name": "stdout",
     "output_type": "stream",
     "text": [
      "Epoch 44/50, Train Loss: 0.0434, Test Loss: 0.0425\n"
     ]
    },
    {
     "name": "stderr",
     "output_type": "stream",
     "text": [
      "Epoch 45/50 (Train): 100%|██████████| 41/41 [00:00<00:00, 84.02it/s]\n"
     ]
    },
    {
     "name": "stdout",
     "output_type": "stream",
     "text": [
      "Epoch 45/50, Train Loss: 0.0434, Test Loss: 0.0427\n"
     ]
    },
    {
     "name": "stderr",
     "output_type": "stream",
     "text": [
      "Epoch 46/50 (Train): 100%|██████████| 41/41 [00:00<00:00, 86.50it/s]\n"
     ]
    },
    {
     "name": "stdout",
     "output_type": "stream",
     "text": [
      "Epoch 46/50, Train Loss: 0.0435, Test Loss: 0.0430\n"
     ]
    },
    {
     "name": "stderr",
     "output_type": "stream",
     "text": [
      "Epoch 47/50 (Train): 100%|██████████| 41/41 [00:00<00:00, 85.75it/s]\n"
     ]
    },
    {
     "name": "stdout",
     "output_type": "stream",
     "text": [
      "Epoch 47/50, Train Loss: 0.0434, Test Loss: 0.0427\n"
     ]
    },
    {
     "name": "stderr",
     "output_type": "stream",
     "text": [
      "Epoch 48/50 (Train): 100%|██████████| 41/41 [00:00<00:00, 85.95it/s]\n"
     ]
    },
    {
     "name": "stdout",
     "output_type": "stream",
     "text": [
      "Epoch 48/50, Train Loss: 0.0434, Test Loss: 0.0426\n"
     ]
    },
    {
     "name": "stderr",
     "output_type": "stream",
     "text": [
      "Epoch 49/50 (Train): 100%|██████████| 41/41 [00:00<00:00, 84.29it/s]\n"
     ]
    },
    {
     "name": "stdout",
     "output_type": "stream",
     "text": [
      "Epoch 49/50, Train Loss: 0.0433, Test Loss: 0.0427\n"
     ]
    },
    {
     "name": "stderr",
     "output_type": "stream",
     "text": [
      "Epoch 50/50 (Train): 100%|██████████| 41/41 [00:00<00:00, 84.54it/s]\n"
     ]
    },
    {
     "name": "stdout",
     "output_type": "stream",
     "text": [
      "Epoch 50/50, Train Loss: 0.0433, Test Loss: 0.0426\n"
     ]
    },
    {
     "data": {
      "text/plain": "<Figure size 1000x500 with 1 Axes>",
      "image/png": "[encoded data removed]"
     },
     "metadata": {},
     "output_type": "display_data"
    },
    {
     "name": "stdout",
     "output_type": "stream",
     "text": [
      "RNN model saved to .trained/rnn_2025-07-15_03-19-15.pt\n"
     ]
    }
   ],
   "source": [
    "RNN_EPOCHS = 50\n",
    "\n",
    "# Train the RNN\n",
    "rnn.train(epochs=RNN_EPOCHS)\n",
    "rnn.plot_losses()\n",
    "rnn.save()"
   ],
   "metadata": {
    "collapsed": false,
    "ExecuteTime": {
     "end_time": "2025-07-15T07:19:15.963609300Z",
     "start_time": "2025-07-15T07:18:48.543391900Z"
    }
   },
   "id": "83bb34ade9f91d0c",
   "execution_count": 13
  },
  {
   "cell_type": "code",
   "outputs": [],
   "source": "print(\"Creating GAN model...\")\ngan = OsuReplayGAN(batch_size=BATCH_SIZE, noise_dim=4)\ngan.load_data(xs, ys)",
   "metadata": {
    "collapsed": false,
    "ExecuteTime": {
     "end_time": "2025-07-15T06:40:29.737588200Z",
     "start_time": "2025-07-15T06:40:29.728588200Z"
    }
   },
   "id": "35305533ba6f06cb",
   "execution_count": null
  },
  {
   "cell_type": "code",
   "execution_count": 14,
   "outputs": [
    {
     "name": "stderr",
     "output_type": "stream",
     "text": [
      "Epoch 1/15 (GAN): 100%|██████████| 204/204 [01:16<00:00,  2.67it/s]\n"
     ]
    },
    {
     "name": "stdout",
     "output_type": "stream",
     "text": [
      "Epoch 1/15, Gen Loss: 0.9338, Disc Loss: 0.6959\n"
     ]
    },
    {
     "name": "stderr",
     "output_type": "stream",
     "text": [
      "Epoch 2/15 (GAN): 100%|██████████| 204/204 [01:07<00:00,  3.04it/s]\n"
     ]
    },
    {
     "name": "stdout",
     "output_type": "stream",
     "text": [
      "Epoch 2/15, Gen Loss: 0.7997, Disc Loss: 0.6939\n"
     ]
    },
    {
     "name": "stderr",
     "output_type": "stream",
     "text": [
      "Epoch 3/15 (GAN): 100%|██████████| 204/204 [01:07<00:00,  3.04it/s]\n"
     ]
    },
    {
     "name": "stdout",
     "output_type": "stream",
     "text": [
      "Epoch 3/15, Gen Loss: 0.7855, Disc Loss: 0.6937\n"
     ]
    },
    {
     "name": "stderr",
     "output_type": "stream",
     "text": [
      "Epoch 4/15 (GAN): 100%|██████████| 204/204 [01:06<00:00,  3.05it/s]\n"
     ]
    },
    {
     "name": "stdout",
     "output_type": "stream",
     "text": [
      "Epoch 4/15, Gen Loss: 0.7783, Disc Loss: 0.6935\n"
     ]
    },
    {
     "name": "stderr",
     "output_type": "stream",
     "text": [
      "Epoch 5/15 (GAN): 100%|██████████| 204/204 [01:07<00:00,  3.02it/s]\n"
     ]
    },
    {
     "name": "stdout",
     "output_type": "stream",
     "text": [
      "Epoch 5/15, Gen Loss: 0.7718, Disc Loss: 0.6936\n"
     ]
    },
    {
     "name": "stderr",
     "output_type": "stream",
     "text": [
      "Epoch 6/15 (GAN): 100%|██████████| 204/204 [01:07<00:00,  3.03it/s]\n"
     ]
    },
    {
     "name": "stdout",
     "output_type": "stream",
     "text": [
      "Epoch 6/15, Gen Loss: 0.7733, Disc Loss: 0.6930\n"
     ]
    },
    {
     "name": "stderr",
     "output_type": "stream",
     "text": [
      "Epoch 7/15 (GAN): 100%|██████████| 204/204 [01:07<00:00,  3.02it/s]\n"
     ]
    },
    {
     "name": "stdout",
     "output_type": "stream",
     "text": [
      "Epoch 7/15, Gen Loss: 0.7726, Disc Loss: 0.6929\n"
     ]
    },
    {
     "name": "stderr",
     "output_type": "stream",
     "text": [
      "Epoch 8/15 (GAN): 100%|██████████| 204/204 [01:07<00:00,  3.02it/s]\n"
     ]
    },
    {
     "name": "stdout",
     "output_type": "stream",
     "text": [
      "Epoch 8/15, Gen Loss: 0.7714, Disc Loss: 0.6932\n"
     ]
    },
    {
     "name": "stderr",
     "output_type": "stream",
     "text": [
      "Epoch 9/15 (GAN): 100%|██████████| 204/204 [01:07<00:00,  3.03it/s]\n"
     ]
    },
    {
     "name": "stdout",
     "output_type": "stream",
     "text": [
      "Epoch 9/15, Gen Loss: 0.7708, Disc Loss: 0.6929\n"
     ]
    },
    {
     "name": "stderr",
     "output_type": "stream",
     "text": [
      "Epoch 10/15 (GAN): 100%|██████████| 204/204 [01:07<00:00,  3.02it/s]\n"
     ]
    },
    {
     "name": "stdout",
     "output_type": "stream",
     "text": [
      "Epoch 10/15, Gen Loss: 0.7689, Disc Loss: 0.6933\n"
     ]
    },
    {
     "name": "stderr",
     "output_type": "stream",
     "text": [
      "Epoch 11/15 (GAN): 100%|██████████| 204/204 [01:07<00:00,  3.02it/s]\n"
     ]
    },
    {
     "name": "stdout",
     "output_type": "stream",
     "text": [
      "Epoch 11/15, Gen Loss: 0.7677, Disc Loss: 0.6930\n"
     ]
    },
    {
     "name": "stderr",
     "output_type": "stream",
     "text": [
      "Epoch 12/15 (GAN): 100%|██████████| 204/204 [01:07<00:00,  3.02it/s]\n"
     ]
    },
    {
     "name": "stdout",
     "output_type": "stream",
     "text": [
      "Epoch 12/15, Gen Loss: 0.7689, Disc Loss: 0.6931\n"
     ]
    },
    {
     "name": "stderr",
     "output_type": "stream",
     "text": [
      "Epoch 13/15 (GAN): 100%|██████████| 204/204 [01:07<00:00,  3.03it/s]\n"
     ]
    },
    {
     "name": "stdout",
     "output_type": "stream",
     "text": [
      "Epoch 13/15, Gen Loss: 0.7654, Disc Loss: 0.6932\n"
     ]
    },
    {
     "name": "stderr",
     "output_type": "stream",
     "text": [
      "Epoch 14/15 (GAN): 100%|██████████| 204/204 [01:06<00:00,  3.06it/s]\n"
     ]
    },
    {
     "name": "stdout",
     "output_type": "stream",
     "text": [
      "Epoch 14/15, Gen Loss: 0.7710, Disc Loss: 0.6930\n"
     ]
    },
    {
     "name": "stderr",
     "output_type": "stream",
     "text": [
      "Epoch 15/15 (GAN): 100%|██████████| 204/204 [01:07<00:00,  3.04it/s]\n"
     ]
    },
    {
     "name": "stdout",
     "output_type": "stream",
     "text": [
      "Epoch 15/15, Gen Loss: 0.7515, Disc Loss: 0.6932\n"
     ]
    },
    {
     "data": {
      "text/plain": "<Figure size 1200x400 with 3 Axes>",
      "image/png": "[encoded data removed]"
     },
     "metadata": {},
     "output_type": "display_data"
    },
    {
     "name": "stdout",
     "output_type": "stream",
     "text": [
      "GAN models saved with prefix .trained/gan_2025-07-13_21-07-19\n"
     ]
    }
   ],
   "source": [
    "GAN_EPOCHS = 15\n",
    "\n",
    "# Train the GAN\n",
    "gan.train(epochs=GAN_EPOCHS, lambda_recon=10.0)\n",
    "gan.plot_losses()\n",
    "gan.save()"
   ],
   "metadata": {
    "collapsed": false,
    "ExecuteTime": {
     "end_time": "2025-07-14T01:07:19.170403500Z",
     "start_time": "2025-07-14T00:50:20.296199600Z"
    }
   },
   "id": "b7312299b611e68a"
  },
  {
   "cell_type": "code",
   "execution_count": 18,
   "outputs": [
    {
     "name": "stderr",
     "output_type": "stream",
     "text": [
      "Turning beatmaps into time series data: 100%|██████████| 1/1 [00:00<00:00,  1.08it/s]\n"
     ]
    }
   ],
   "source": [
    "from osu.rulesets.mods import Mods\n",
    "import osu.rulesets.beatmap as bm\n",
    "import osu.rulesets.replay as rp\n",
    "import osu.dataset as dataset\n",
    "\n",
    "test_name = 'zuttosummer'\n",
    "test_mods = Mods.HARD_ROCK\n",
    "test_map_path = f'assets/{test_name}_map.osu'\n",
    "test_song = f'assets/{test_name}_song.mp3'\n",
    "\n",
    "test_map = bm.load(test_map_path)\n",
    "test_map.apply_mods(test_mods)\n",
    "\n",
    "data = dataset.input_data(test_map)\n",
    "data = np.reshape(data.values, (-1, dataset.BATCH_LENGTH, len(dataset.INPUT_FEATURES)))\n",
    "data = torch.FloatTensor(data)"
   ],
   "metadata": {
    "collapsed": false,
    "ExecuteTime": {
     "end_time": "2025-07-15T07:21:56.110890800Z",
     "start_time": "2025-07-15T07:21:55.039989600Z"
    }
   },
   "id": "333c00206b8b20b9"
  },
  {
   "cell_type": "code",
   "outputs": [
    {
     "name": "stdout",
     "output_type": "stream",
     "text": [
      "Generated replay data shape: (12288, 4)\n",
      "Saved to .generated\\zuttosummer.npy\n"
     ]
    }
   ],
   "source": [
    "with torch.no_grad():\n",
    "    # Use generator for inference\n",
    "    replay_data = rnn.generate(data)\n",
    "    \n",
    "replay_data = np.concatenate(replay_data)\n",
    "if not os.path.exists('.generated'):\n",
    "    os.makedirs('.generated')\n",
    "    \n",
    "np.save('.generated\\\\' + test_name + '.npy', replay_data)\n",
    "\n",
    "print(f\"Generated replay data shape: {replay_data.shape}\")\n",
    "print(f\"Saved to .generated\\\\{test_name}.npy\")"
   ],
   "metadata": {
    "collapsed": false,
    "ExecuteTime": {
     "end_time": "2025-07-15T07:21:56.232333800Z",
     "start_time": "2025-07-15T07:21:56.111894900Z"
    }
   },
   "id": "236d6cf3611e8928",
   "execution_count": 19
  },
  {
   "cell_type": "code",
   "execution_count": 22,
   "outputs": [
    {
     "data": {
      "text/plain": "array([[-7.6401226e-02,  1.6060598e-02,  1.9155759e-01,  2.2359020e-01],\n       [-1.0287747e-01,  5.0069392e-04,  2.8299251e-01,  2.9400536e-01],\n       [-1.1234121e-01, -6.4345449e-03,  2.7708298e-01,  2.7145952e-01],\n       ...,\n       [ 3.4575951e-01, -2.0824677e-01,  5.1782459e-01,  5.1854724e-01],\n       [ 3.6372358e-01, -5.6568198e-02,  4.1319931e-01,  4.3332133e-01],\n       [ 4.0952444e-01,  5.2603938e-02,  3.3167818e-01,  3.6291781e-01]],\n      shape=(500, 4), dtype=float32)"
     },
     "execution_count": 22,
     "metadata": {},
     "output_type": "execute_result"
    }
   ],
   "source": [
    "replay_data[:500]"
   ],
   "metadata": {
    "collapsed": false,
    "ExecuteTime": {
     "end_time": "2025-07-15T07:23:05.938795200Z",
     "start_time": "2025-07-15T07:23:05.846794400Z"
    }
   },
   "id": "ecb3ba401b34c8a0"
  },
  {
   "cell_type": "code",
   "execution_count": 1,
   "outputs": [
    {
     "name": "stderr",
     "output_type": "stream",
     "text": [
      "E:\\Projects\\osu\\.venv\\Lib\\site-packages\\pygame\\pkgdata.py:25: UserWarning: pkg_resources is deprecated as an API. See https://setuptools.pypa.io/en/latest/pkg_resources.html. The pkg_resources package is slated for removal as early as 2025-11-30. Refrain from using this package or pin to Setuptools<81.\n",
      "  from pkg_resources import resource_stream, resource_exists\n"
     ]
    },
    {
     "name": "stdout",
     "output_type": "stream",
     "text": [
      "pygame 2.6.1 (SDL 2.28.4, Python 3.12.10)\n",
      "Hello from the pygame community. https://www.pygame.org/contribute.html\n",
      "osu! path: C:\\Users\\niooi\\AppData\\Roaming/../Local/osu!\n"
     ]
    },
    {
     "ename": "NameError",
     "evalue": "name 'replay_data' is not defined",
     "output_type": "error",
     "traceback": [
      "\u001B[31m---------------------------------------------------------------------------\u001B[39m",
      "\u001B[31mNameError\u001B[39m                                 Traceback (most recent call last)",
      "\u001B[36mCell\u001B[39m\u001B[36m \u001B[39m\u001B[32mIn[1]\u001B[39m\u001B[32m, line 6\u001B[39m\n\u001B[32m      2\u001B[39m \u001B[38;5;28;01mimport\u001B[39;00m\u001B[38;5;250m \u001B[39m\u001B[34;01mosu\u001B[39;00m\u001B[34;01m.\u001B[39;00m\u001B[34;01mpreview\u001B[39;00m\u001B[34;01m.\u001B[39;00m\u001B[34;01mpreview\u001B[39;00m\u001B[38;5;250m \u001B[39m\u001B[38;5;28;01mas\u001B[39;00m\u001B[38;5;250m \u001B[39m\u001B[34;01mpreview\u001B[39;00m\n\u001B[32m      4\u001B[39m importlib.reload(preview)\n\u001B[32m----> \u001B[39m\u001B[32m6\u001B[39m preview.preview_replay_raw(\u001B[43mreplay_data\u001B[49m, test_map_path, test_mods, test_song)\n",
      "\u001B[31mNameError\u001B[39m: name 'replay_data' is not defined"
     ]
    }
   ],
   "source": [
    "import importlib\n",
    "import osu.preview.preview as preview\n",
    "\n",
    "importlib.reload(preview)\n",
    "\n",
    "preview.preview_replay_raw(replay_data, test_map_path, test_mods, test_song)"
   ],
   "metadata": {
    "collapsed": false,
    "ExecuteTime": {
     "end_time": "2025-07-15T07:26:01.809077100Z",
     "start_time": "2025-07-15T07:25:59.527057600Z"
    }
   },
   "id": "6b4933974b96336b"
  },
  {
   "cell_type": "code",
   "execution_count": 16,
   "outputs": [],
   "source": [],
   "metadata": {
    "collapsed": false,
    "ExecuteTime": {
     "end_time": "2025-07-08T05:13:34.965805Z",
     "start_time": "2025-07-08T05:13:34.939293Z"
    }
   },
   "id": "53d8f6a660be3f5b"
  }
 ],
 "metadata": {
  "kernelspec": {
   "display_name": "Python 3",
   "language": "python",
   "name": "python3"
  },
  "language_info": {
   "codemirror_mode": {
    "name": "ipython",
    "version": 2
   },
   "file_extension": ".py",
   "mimetype": "text/x-python",
   "name": "python",
   "nbconvert_exporter": "python",
   "pygments_lexer": "ipython2",
   "version": "2.7.6"
  }
 },
 "nbformat": 4,
 "nbformat_minor": 5
}
